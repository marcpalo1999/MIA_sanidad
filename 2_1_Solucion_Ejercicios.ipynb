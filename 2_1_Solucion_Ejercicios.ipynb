{
 "cells": [
  {
   "cell_type": "markdown",
   "metadata": {},
   "source": [
    "  <a href=\"https://colab.research.google.com/github/marcpalo1999/MIA_sanidad/blob/main/2_1_Solucion_Ejercicios.ipynb\" target=\"_parent\"><img src=\"https://colab.research.google.com/assets/colab-badge.svg\" alt=\"Open In Colab\"/></a>"
   ]
  },
  {
   "cell_type": "code",
   "execution_count": null,
   "metadata": {},
   "outputs": [],
   "source": [
    "import os\n",
    "if not os.path.exists('/content/MIA_sanidad'):\n",
    "    !git clone https://github.com/marcpalo1999/MIA_sanidad.git\n",
    "os.chdir('/content/MIA_sanidad')\n",
    "os.getcwd()"
   ]
  },
  {
   "cell_type": "markdown",
   "metadata": {},
   "source": [
    "  # SOLUCIONES - Introducción a Pandas para Análisis de Datos Médicos\n",
    "\n",
    "\n",
    "\n",
    "\n",
    "\n",
    "\n",
    "\n",
    "  Este archivo contiene las soluciones completas de todos los ejercicios del notebook de introducción a Pandas.\n",
    "\n",
    "\n",
    "\n",
    "  Cada solución incluye explicaciones detalladas y métodos alternativos cuando es relevante."
   ]
  },
  {
   "cell_type": "code",
   "execution_count": null,
   "metadata": {},
   "outputs": [],
   "source": [
    "# Importar librerías necesarias\n",
    "import pandas as pd\n",
    "import numpy as np\n",
    "import matplotlib.pyplot as plt\n",
    "import os\n",
    "\n",
    "\n",
    "\n"
   ]
  },
  {
   "cell_type": "markdown",
   "metadata": {},
   "source": [
    "  ## SOLUCIONES - Ejercicios Capítulo 1 y 2: Exploración Básica"
   ]
  },
  {
   "cell_type": "markdown",
   "metadata": {},
   "source": [
    "  ### Ejercicio 1\n",
    "\n",
    "\n",
    "\n",
    "  Usando los métodos que acabas de aprender:\n",
    "\n",
    "\n",
    "\n",
    "  0. Cargar el dataset\n",
    "\n",
    "\n",
    "\n",
    "  1. Muestra las primeras 10 filas del dataset\n",
    "\n",
    "\n",
    "\n",
    "  2. Cuenta cuántas filas y columnas tiene el dataset\n",
    "\n",
    "\n",
    "\n",
    "  3. Identifica qué tipos de datos hay en cada columna"
   ]
  },
  {
   "cell_type": "code",
   "execution_count": null,
   "metadata": {},
   "outputs": [],
   "source": [
    "# SOLUCIÓN EJERCICIO 1\n",
    "\n",
    "\n",
    "# Cargar el dataset\n",
    "df = pd.read_csv(\"./data/heart_disease_dataset_con_nulos.csv\")\n"
   ]
  },
  {
   "cell_type": "code",
   "execution_count": null,
   "metadata": {},
   "outputs": [],
   "source": [
    "# 1. Mostrar las primeras 10 filas usando head(n)\n",
    "df.head(10)\n",
    "\n"
   ]
  },
  {
   "cell_type": "code",
   "execution_count": null,
   "metadata": {},
   "outputs": [],
   "source": [
    "# 2. Obtener dimensiones usando shape - devuelve tupla (filas, columnas)\n",
    "filas, columnas = df.shape\n",
    "# El dataset tiene 303 filas (pacientes) y 14 columnas (variables)\n",
    "\n",
    "# Método alternativo: usar len() para filas y len(df.columns) para columnas\n",
    "# len(df) para filas, len(df.columns) para columnas\n",
    "\n"
   ]
  },
  {
   "cell_type": "code",
   "execution_count": null,
   "metadata": {},
   "outputs": [],
   "source": [
    "# 3. Ver tipos de datos de cada columna usando dtypes\n",
    "df.dtypes\n",
    "\n",
    "# Explicación de tipos encontrados:\n",
    "# int64: Números enteros (edad, presión, etc.)\n",
    "# float64: Números decimales (colesterol, etc.) \n",
    "# object: Generalmente texto, pero puede incluir datos mixtos\n",
    "\n",
    "# Método alternativo: usar info() que da más contexto sobre memoria y nulos\n",
    "df.info()\n",
    "\n"
   ]
  },
  {
   "cell_type": "markdown",
   "metadata": {},
   "source": [
    "  ### Ejercicio 2\n",
    "\n",
    "\n",
    "\n",
    "  Explora las estadísticas descriptivas:\n",
    "\n",
    "\n",
    "\n",
    "  1. Usa `.describe()` para ver el resumen estadístico\n",
    "\n",
    "\n",
    "\n",
    "  2. Identifica cuál es la edad promedio de los pacientes\n",
    "\n",
    "\n",
    "\n",
    "  3. Encuentra el valor máximo y mínimo del colesterol"
   ]
  },
  {
   "cell_type": "code",
   "execution_count": null,
   "metadata": {},
   "outputs": [],
   "source": [
    "# SOLUCIÓN EJERCICIO 2\n",
    "\n",
    "# 1. Resumen estadístico de todas las variables numéricas\n",
    "df.describe()\n",
    "\n"
   ]
  },
  {
   "cell_type": "code",
   "execution_count": null,
   "metadata": {},
   "outputs": [],
   "source": [
    "# 2. Edad promedio de los pacientes\n",
    "edad_promedio = df['age'].mean()  # 54.4 años aproximadamente\n",
    "\n",
    "# Métodos alternativos:\n",
    "# df['age'].describe()['mean']  # desde el resumen estadístico\n",
    "# np.mean(df['age'])  # usando numpy\n",
    "\n",
    "# También podemos obtener mediana y desviación estándar:\n",
    "edad_mediana = df['age'].median()\n",
    "edad_std = df['age'].std()\n",
    "\n"
   ]
  },
  {
   "cell_type": "code",
   "execution_count": null,
   "metadata": {},
   "outputs": [],
   "source": [
    "# 3. Valores extremos del colesterol\n",
    "colesterol_max = df['chol'].max()  # 564 mg/dl\n",
    "colesterol_min = df['chol'].min()  # 0 mg/dl (posiblemente dato faltante codificado)\n",
    "rango_colesterol = colesterol_max - colesterol_min\n",
    "\n",
    "# Métodos alternativos:\n",
    "# df['chol'].describe()['max'] y df['chol'].describe()['min']\n",
    "# np.max(df['chol']) y np.min(df['chol'])\n",
    "\n",
    "# Información adicional útil:\n",
    "colesterol_promedio = df['chol'].mean()\n",
    "colesterol_mediana = df['chol'].median()\n",
    "\n"
   ]
  },
  {
   "cell_type": "markdown",
   "metadata": {},
   "source": [
    "  ## SOLUCIONES - Ejercicios Capítulo 3: Selección de Datos"
   ]
  },
  {
   "cell_type": "markdown",
   "metadata": {},
   "source": [
    "  ### Ejercicio 1\n",
    "\n",
    "\n",
    "\n",
    "  Practica la selección de datos:\n",
    "\n",
    "\n",
    "\n",
    "  1. Selecciona solo la columna `trestbps` (presión arterial)\n",
    "\n",
    "\n",
    "\n",
    "  2. Selecciona las columnas `age`, `sex` y `thalach` de los primeros 8 pacientes\n",
    "\n",
    "\n",
    "\n",
    "  3. Muestra la información completa del paciente en la posición 50"
   ]
  },
  {
   "cell_type": "code",
   "execution_count": null,
   "metadata": {},
   "outputs": [],
   "source": [
    "# SOLUCIÓN EJERCICIO 1\n",
    "\n",
    "# 1. Seleccionar solo la columna trestbps (presión arterial)\n",
    "presion_arterial = df[\"trestbps\"]  # Devuelve una Serie\n",
    "# Método alternativo: df.trestbps (solo funciona si no hay espacios)\n",
    "\n",
    "presion_arterial.head(10)\n",
    "\n"
   ]
  },
  {
   "cell_type": "code",
   "execution_count": null,
   "metadata": {},
   "outputs": [],
   "source": [
    "# 2. Seleccionar columnas específicas de los primeros 8 pacientes\n",
    "# Método 1: Seleccionar columnas primero, luego filas\n",
    "subset_columnas = df[[\"age\", \"sex\", \"thalach\"]].head(8)\n",
    "\n",
    "# Método alternativo: Usar loc para seleccionar filas y columnas simultáneamente\n",
    "subset_loc = df.loc[0:7, [\"age\", \"sex\", \"thalach\"]]\n",
    "\n",
    "# Método adicional con iloc (más complejo pero útil saber):\n",
    "# posiciones_columnas = [df.columns.get_loc(col) for col in [\"age\", \"sex\", \"thalach\"]]\n",
    "# subset_iloc = df.iloc[0:8, posiciones_columnas]\n",
    "\n",
    "subset_columnas\n",
    "\n"
   ]
  },
  {
   "cell_type": "code",
   "execution_count": null,
   "metadata": {},
   "outputs": [],
   "source": [
    "# 3. Información completa del paciente en posición 50\n",
    "paciente_50 = df.iloc[50]  # Usar iloc para posición\n",
    "# Método alternativo: df.loc[50] (funciona si el índice coincide con posición)\n",
    "\n",
    "paciente_50\n",
    "\n",
    "# Información resumida del paciente 50:\n",
    "# Edad: paciente_50['age'] años\n",
    "# Sexo: 'Hombre' si paciente_50['sex'] == 1 else 'Mujer'\n",
    "# Presión: paciente_50['trestbps'] mmHg\n",
    "# Colesterol: paciente_50['chol'] mg/dl\n",
    "\n"
   ]
  },
  {
   "cell_type": "markdown",
   "metadata": {},
   "source": [
    "  ### Ejercicio 2\n",
    "\n",
    "\n",
    "\n",
    "  Practica con iloc y loc:\n",
    "\n",
    "\n",
    "\n",
    "  1. Usa `iloc` para seleccionar las filas 10-15 y las columnas 2-5\n",
    "\n",
    "\n",
    "\n",
    "  2. Usa `loc` para seleccionar las primeras 5 filas de las columnas `age`, `chol` y `num`"
   ]
  },
  {
   "cell_type": "code",
   "execution_count": null,
   "metadata": {},
   "outputs": [],
   "source": [
    "# SOLUCIÓN EJERCICIO 2\n",
    "\n",
    "# 1. iloc para filas 10-15 y columnas 2-5\n",
    "# iloc[10:16, 2:6] porque iloc excluye el último número del rango\n",
    "subset_iloc = df.iloc[10:16, 2:6]\n",
    "\n",
    "# Verificación de qué columnas son las posiciones 2-5:\n",
    "# Posición 2: df.columns[2], Posición 3: df.columns[3], etc.\n",
    "\n",
    "subset_iloc\n",
    "\n"
   ]
  },
  {
   "cell_type": "code",
   "execution_count": null,
   "metadata": {},
   "outputs": [],
   "source": [
    "# 2. loc para primeras 5 filas de columnas específicas\n",
    "subset_loc = df.loc[0:4, [\"age\", \"chol\", \"num\"]]  # loc incluye ambos extremos\n",
    "\n",
    "# Métodos alternativos:\n",
    "# df[[\"age\", \"chol\", \"num\"]].head(5)  # Columnas primero, luego head\n",
    "# df[[\"age\", \"chol\", \"num\"]].iloc[0:5]  # Columnas primero, luego iloc\n",
    "\n",
    "subset_loc\n",
    "\n",
    "# Diferencias clave:\n",
    "# iloc[0:3] da 3 filas (excluye el 3)\n",
    "# loc[0:3] da 4 filas (incluye el 3)\n",
    "\n"
   ]
  },
  {
   "cell_type": "markdown",
   "metadata": {},
   "source": [
    "  ## SOLUCIONES - Ejercicios Capítulo 4: Filtrado de Datos"
   ]
  },
  {
   "cell_type": "markdown",
   "metadata": {},
   "source": [
    "  ### Ejercicio 1\n",
    "\n",
    "\n",
    "\n",
    "  Practica filtros simples:\n",
    "\n",
    "\n",
    "\n",
    "  1. Filtra pacientes menores de 40 años\n",
    "\n",
    "\n",
    "\n",
    "  2. Filtra pacientes con colesterol mayor a 250\n",
    "\n",
    "\n",
    "\n",
    "  3. Filtra pacientes que tienen enfermedad cardíaca (`num` > 0)"
   ]
  },
  {
   "cell_type": "code",
   "execution_count": null,
   "metadata": {},
   "outputs": [],
   "source": [
    "# SOLUCIÓN EJERCICIO 1\n",
    "\n",
    "# 1. Pacientes menores de 40 años\n",
    "menores_40 = df[df[\"age\"] < 40]\n",
    "# len(menores_40) nos da el número de pacientes que cumplen la condición\n",
    "\n",
    "menores_40.head()\n",
    "\n"
   ]
  },
  {
   "cell_type": "code",
   "execution_count": null,
   "metadata": {},
   "outputs": [],
   "source": [
    "# 2. Pacientes con colesterol mayor a 250\n",
    "colesterol_alto = df[df[\"chol\"] > 250]\n",
    "# Porcentaje del total: len(colesterol_alto)/len(df)*100\n",
    "\n",
    "colesterol_alto.head()\n",
    "\n"
   ]
  },
  {
   "cell_type": "code",
   "execution_count": null,
   "metadata": {},
   "outputs": [],
   "source": [
    "# 3. Pacientes con enfermedad cardíaca\n",
    "con_enfermedad = df[df[\"num\"] > 0]\n",
    "sin_enfermedad = df[df[\"num\"] == 0]\n",
    "\n",
    "# Análisis básico:\n",
    "# len(con_enfermedad) pacientes con enfermedad\n",
    "# len(sin_enfermedad) pacientes sin enfermedad\n",
    "# Porcentaje con enfermedad: len(con_enfermedad)/len(df)*100\n",
    "\n",
    "# Distribución por nivel de enfermedad:\n",
    "df[\"num\"].value_counts().sort_index()\n",
    "\n",
    "# Métodos alternativos para filtrar enfermedad:\n",
    "# df.query('num > 0')\n",
    "# df[df['num'].isin([1, 2, 3, 4])]\n",
    "\n"
   ]
  },
  {
   "cell_type": "markdown",
   "metadata": {},
   "source": [
    "  ### Ejercicio 2\n",
    "\n",
    "\n",
    "\n",
    "  Practica filtros con múltiples condiciones:\n",
    "\n",
    "\n",
    "\n",
    "  1. Encuentra mujeres con presión arterial mayor a 130\n",
    "\n",
    "\n",
    "\n",
    "  2. Encuentra hombres menores de 45 años CON enfermedad cardíaca\n",
    "\n",
    "\n",
    "\n",
    "  3. Encuentra pacientes con colesterol alto (>240) O frecuencia cardíaca baja (<120)"
   ]
  },
  {
   "cell_type": "code",
   "execution_count": null,
   "metadata": {},
   "outputs": [],
   "source": [
    "# SOLUCIÓN EJERCICIO 2\n",
    "\n",
    "# 1. Mujeres (sex=0) con presión > 130\n",
    "mujeres_presion_alta = df[(df[\"sex\"] == 0) & (df[\"trestbps\"] > 130)]\n",
    "\n",
    "# Contexto: total_mujeres = len(df[df[\"sex\"] == 0])\n",
    "# Porcentaje: len(mujeres_presion_alta)/total_mujeres*100\n",
    "\n",
    "mujeres_presion_alta.head()\n",
    "\n"
   ]
  },
  {
   "cell_type": "code",
   "execution_count": null,
   "metadata": {},
   "outputs": [],
   "source": [
    "# 2. Hombres (sex=1) menores de 45 años CON enfermedad (num > 0)\n",
    "hombres_jovenes_enfermos = df[(df[\"sex\"] == 1) & (df[\"age\"] < 45) & (df[\"num\"] > 0)]\n",
    "\n",
    "# Para contexto:\n",
    "# total_hombres_jovenes = len(df[(df[\"sex\"] == 1) & (df[\"age\"] < 45)])\n",
    "# Porcentaje de hombres jóvenes con enfermedad: len(hombres_jovenes_enfermos)/total_hombres_jovenes*100\n",
    "\n",
    "hombres_jovenes_enfermos\n",
    "\n"
   ]
  },
  {
   "cell_type": "code",
   "execution_count": null,
   "metadata": {},
   "outputs": [],
   "source": [
    "# 3. Colesterol alto (>240) O frecuencia cardíaca baja (<120)\n",
    "# Usar operador | para OR\n",
    "colesterol_o_frecuencia = df[(df[\"chol\"] > 240) | (df[\"thalach\"] < 120)]\n",
    "\n",
    "\n",
    "colesterol_o_frecuencia\n"
   ]
  },
  {
   "cell_type": "markdown",
   "metadata": {},
   "source": [
    "  ## SOLUCIONES - Ejercicios Capítulo 5: Creación de Columnas"
   ]
  },
  {
   "cell_type": "markdown",
   "metadata": {},
   "source": [
    "  ### Ejercicio 1\n",
    "\n",
    "\n",
    "\n",
    "  Crea nuevas columnas básicas:\n",
    "\n",
    "\n",
    "\n",
    "  1. Crea una columna `edad_años_2030` que muestre la edad que tendrán los pacientes en 2030 (asume que estamos en 2024)\n",
    "\n",
    "\n",
    "\n",
    "  2. Crea una columna `frecuencia_por_edad` que divida `thalach` entre `age`"
   ]
  },
  {
   "cell_type": "code",
   "execution_count": null,
   "metadata": {},
   "outputs": [],
   "source": [
    "# SOLUCIÓN EJERCICIO 1\n",
    "\n",
    "# 1. Edad en 2030 (2030 - 2024 = 6 años más)\n",
    "diff = 2030-2024\n",
    "df[\"edad_años_2030\"] = df[\"age\"] + diff\n",
    "\n",
    "# Método alternativo con apply:\n",
    "# df[\"edad_2030_alt\"] = df[\"age\"].apply(lambda x: x + 6)\n",
    "\n",
    "df[[\"age\", \"edad_años_2030\"]].head(10)\n",
    "\n"
   ]
  },
  {
   "cell_type": "code",
   "execution_count": null,
   "metadata": {},
   "outputs": [],
   "source": [
    "# 2. Ratio frecuencia cardíaca por edad\n",
    "df[\"frecuencia_por_edad\"] = (df[\"thalach\"] / df[\"age\"]).round(2)\n",
    "\n",
    "# Método alternativo con numpy:\n",
    "# df[\"frecuencia_por_edad\"] = np.round(df[\"thalach\"] / df[\"age\"], 2)\n",
    "\n",
    "df[[\"age\", \"thalach\", \"frecuencia_por_edad\"]].head(10)\n",
    "\n",
    "# Interpretación clínica: ratio más alto podría indicar mejor condición cardiovascular relativa a la edad\n",
    "\n"
   ]
  },
  {
   "cell_type": "markdown",
   "metadata": {},
   "source": [
    "  ### Ejercicio 2\n",
    "\n",
    "\n",
    "\n",
    "  Crea columnas categóricas:\n",
    "\n",
    "\n",
    "\n",
    "  1. Crea una función que clasifique la presión arterial (`trestbps`):\n",
    "\n",
    "\n",
    "\n",
    "     - \"Normal\": menor a 120\n",
    "\n",
    "\n",
    "\n",
    "     - \"Elevada\": entre 120 y 129\n",
    "\n",
    "\n",
    "\n",
    "     - \"Alta\": 130 o más\n",
    "\n",
    "\n",
    "\n",
    "  2. Aplica esta función para crear la columna `categoria_presion`"
   ]
  },
  {
   "cell_type": "code",
   "execution_count": null,
   "metadata": {},
   "outputs": [],
   "source": [
    "# SOLUCIÓN EJERCICIO 2\n",
    "\n",
    "# 1. Función para clasificar presión arterial según estándares médicos\n",
    "def clasificar_presion_arterial(presion):\n",
    "    \"\"\"\n",
    "    Clasifica presión sistólica según guías médicas estándar\n",
    "    \"\"\"\n",
    "    if pd.isna(presion):\n",
    "        return \"Sin datos\"\n",
    "    elif presion < 120:\n",
    "        return \"Normal\"\n",
    "    elif presion < 130:  # 120-129\n",
    "        return \"Elevada\" \n",
    "    else:  # 130 o más\n",
    "        return \"Alta\"\n",
    "\n",
    "# 2. Aplicar la función para crear nueva columna\n",
    "df[\"categoria_presion\"] = df[\"trestbps\"].apply(clasificar_presion_arterial)\n",
    "\n",
    "# Verificar distribución de categorías\n",
    "df[\"categoria_presion\"].value_counts()\n",
    "\n",
    "# Método alternativo con np.where anidado:\n",
    "# df[\"categoria_presion_alt\"] = np.where(df[\"trestbps\"] < 120, \"Normal\",\n",
    "#                                       np.where(df[\"trestbps\"] < 130, \"Elevada\", \"Alta\"))\n",
    "\n",
    "# Método alternativo con pd.cut:\n",
    "# df[\"categoria_presion_cut\"] = pd.cut(df[\"trestbps\"], \n",
    "#                                     bins=[0, 120, 130, 300],\n",
    "#                                     labels=[\"Normal\", \"Elevada\", \"Alta\"])\n",
    "\n"
   ]
  },
  {
   "cell_type": "markdown",
   "metadata": {},
   "source": [
    "  ### Ejercicio 3\n",
    "\n",
    "\n",
    "\n",
    "  Usa mapeo y condicionales:\n",
    "\n",
    "\n",
    "\n",
    "  1. Crea un diccionario para mapear los valores de `cp` (dolor en pecho):\n",
    "\n",
    "\n",
    "\n",
    "     - 1: \"Angina típica\", 2: \"Angina atípica\", 3: \"Dolor no anginoso\", 4: \"Asintomático\"\n",
    "\n",
    "\n",
    "\n",
    "     - Aplícalo para crear la columna `tipo_dolor`"
   ]
  },
  {
   "cell_type": "code",
   "execution_count": null,
   "metadata": {},
   "outputs": [],
   "source": [
    "# SOLUCIÓN EJERCICIO 3\n",
    "\n",
    "# 1. Diccionario de mapeo para tipos de dolor en pecho\n",
    "mapeo_dolor = {\n",
    "    1: \"Angina típica\",\n",
    "    2: \"Angina atípica\", \n",
    "    3: \"Dolor no anginoso\",\n",
    "    4: \"Asintomático\"\n",
    "}\n",
    "\n",
    "# Aplicar el mapeo para crear nueva columna\n",
    "df[\"tipo_dolor\"] = df[\"cp\"].map(mapeo_dolor)\n",
    "\n",
    "# Verificar el resultado\n",
    "df[[\"cp\", \"tipo_dolor\"]].head(10)\n",
    "\n",
    "# Distribución de tipos de dolor\n",
    "df[\"tipo_dolor\"].value_counts()\n",
    "\n",
    "# Método alternativo con replace:\n",
    "# df[\"tipo_dolor_alt\"] = df[\"cp\"].replace(mapeo_dolor)\n",
    "\n",
    "# Método alternativo con np.where anidado (más verboso):\n",
    "# df[\"tipo_dolor_np\"] = np.where(df[\"cp\"] == 1, \"Angina típica\",\n",
    "#                               np.where(df[\"cp\"] == 2, \"Angina atípica\",\n",
    "#                                       np.where(df[\"cp\"] == 3, \"Dolor no anginoso\", \"Asintomático\")))\n",
    "\n"
   ]
  }
 ],
 "metadata": {
  "language_info": {
   "codemirror_mode": {
    "name": "ipython",
    "version": 3
   },
   "file_extension": ".py",
   "mimetype": "text/x-python",
   "name": "python",
   "nbconvert_exporter": "python",
   "pygments_lexer": "ipython3",
   "version": 3
  }
 },
 "nbformat": 4,
 "nbformat_minor": 2
}
