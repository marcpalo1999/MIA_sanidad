{
 "cells": [
  {
   "cell_type": "markdown",
   "metadata": {},
   "source": [
    "  <a href=\"https://colab.research.google.com/github/marcpalo1999/MIA_sanidad/blob/main/2_1_introduccion_pandas.ipynb\" target=\"_parent\"><img src=\"https://colab.research.google.com/assets/colab-badge.svg\" alt=\"Open In Colab\"/></a>"
   ]
  },
  {
   "cell_type": "code",
   "execution_count": null,
   "metadata": {},
   "outputs": [],
   "source": [
    "import os\n",
    "if not os.path.exists('/content/MIA_sanidad'):\n",
    "    !git clone https://github.com/marcpalo1999/MIA_sanidad.git\n",
    "os.chdir('/content/MIA_sanidad')\n",
    "os.getcwd()\n"
   ]
  },
  {
   "cell_type": "markdown",
   "metadata": {},
   "source": [
    " # Introducción a Pandas para Análisis de Datos Médicos\n",
    "\n",
    "\n",
    "\n",
    " En este notebook aprenderás conceptos fundamentales de Pandas:\n",
    "\n",
    "\n",
    "\n",
    " - Qué es Pandas y para qué sirve\n",
    "\n",
    " - Cargar y explorar datasets\n",
    "\n",
    " - Inspeccionar datos (filas, columnas, tipos)\n",
    "\n",
    " - Seleccionar y filtrar información\n",
    "\n",
    " - Crear y modificar columnas\n",
    "\n",
    " - Trabajar con valores nulos\n",
    "\n",
    " - Agrupar y resumir datos\n",
    "\n",
    " - Visualización básica\n",
    "\n",
    " - Guardar resultados\n",
    "\n",
    "\n",
    "\n",
    " ---"
   ]
  },
  {
   "cell_type": "markdown",
   "metadata": {},
   "source": [
    " ## ¿Qué es Pandas?\n",
    "\n",
    "\n",
    "\n",
    " **Pandas** es una librería de Python diseñada para el análisis y manipulación de datos.\n",
    "\n",
    " Es como tener Excel pero con superpoderes programáticos.\n",
    "\n",
    "\n",
    "\n",
    " ### ¿Para qué sirve Pandas?\n",
    "\n",
    " - Cargar datos desde archivos (CSV, Excel, JSON, etc.)\n",
    "\n",
    " - Limpiar y transformar datos\n",
    "\n",
    " - Realizar cálculos y análisis estadísticos\n",
    "\n",
    " - Filtrar y agrupar información\n",
    "\n",
    " - Crear visualizaciones básicas\n",
    "\n",
    " - Exportar resultados procesados\n",
    "\n",
    "\n",
    "\n",
    " ### Estructura principal: DataFrame\n",
    "\n",
    " Un **DataFrame** es como una tabla de Excel en Python:\n",
    "\n",
    " - Tiene filas y columnas\n",
    "\n",
    " - Cada columna puede contener diferentes tipos de datos\n",
    "\n",
    " - Se puede filtrar, ordenar y modificar fácilmente"
   ]
  },
  {
   "cell_type": "code",
   "execution_count": null,
   "metadata": {},
   "outputs": [],
   "source": [
    "import os\n",
    "# if not os.path.exists('/content/MIA_sanidad'):\n",
    "#     !git clone https://github.com/marcpalo1999/MIA_sanidad.git\n",
    "# os.chdir('/content/MIA_sanidad')\n",
    "os.getcwd()\n"
   ]
  },
  {
   "cell_type": "code",
   "execution_count": null,
   "metadata": {},
   "outputs": [],
   "source": [
    "# Importar las librerías necesarias para el análisis de datos\n",
    "import pandas as pd  # Para manipulación de datos tabulares\n",
    "import numpy as np   # Para operaciones matemáticas y arrays\n",
    "import matplotlib.pyplot as plt  # Para crear gráficos básicos\n"
   ]
  },
  {
   "cell_type": "markdown",
   "metadata": {},
   "source": [
    " ## Capítulo 1: Cargar y Explorar Datos\n",
    "\n",
    "\n",
    "\n",
    " Vamos a trabajar con un dataset real de enfermedades cardíacas."
   ]
  },
  {
   "cell_type": "markdown",
   "metadata": {},
   "source": [
    "## Cargar Datos: Rutas de Archivos\n",
    "\n",
    "Para cargar nuestro dataset, necesitamos decirle a Python dónde encontrarlo.\n",
    "\n",
    "### Dos formas de especificar la ubicación:\n",
    "\n",
    "**❌ Ruta completa (no recomendado):**\n",
    "```python\n",
    "df = pd.read_csv(\"C:/Users/maria/Desktop/proyecto/heart_disease_dataset.csv\")\n",
    "```\n",
    "- Solo funciona en tu computadora\n",
    "- No funciona si compartes el código\n",
    "\n",
    "**✅ Ruta relativa (recomendado):**\n",
    "```python\n",
    "df = pd.read_csv(\"./data/heart_disease_dataset.csv\")\n",
    "```\n",
    "- le indicamos a python que los datos estan en el mismo sitio donde esta nuestro archivo sobre el que trabajamos, dentro de la carpeta /data, y que los datos se llaman heart_disease_dataset.csv"
   ]
  },
  {
   "cell_type": "code",
   "execution_count": null,
   "metadata": {},
   "outputs": [],
   "source": [
    "# Cargar el archivo CSV en un DataFrame - la estructura principal de pandas\n",
    "df = pd.read_csv(\"./data/heart_disease_dataset_con_nulos.csv\")\n",
    "\n",
    "# Mostrar las primeras filas del dataset para ver qué contiene\n",
    "df\n"
   ]
  },
  {
   "cell_type": "markdown",
   "metadata": {},
   "source": [
    " ### Contexto del Dataset\n",
    "\n",
    "\n",
    "\n",
    " Este dataset contiene información médica de 303 pacientes:\n",
    "\n",
    "\n",
    "\n",
    "# Dataset Heart Disease - UCI Machine Learning Repository\n",
    "\n",
    "## Descripción General\n",
    "\n",
    "La base de datos Heart Disease fue obtenida del repositorio de UCI Machine Learning, compuesto de **14 atributos o variables**, distribuidas en **5 variables cuantitativas** y **9 variables categóricas**, con **303 observaciones** en total.\n",
    "\n",
    "## Variables del Dataset\n",
    "\n",
    "### Variables Demográficas\n",
    "\n",
    "* **Edad (age):** Edad del paciente (Variable cuantitativa discreta)\n",
    "* **Sexo (sex):** Sexo del paciente (Categórica con dos niveles: Femenino y Masculino)\n",
    "\n",
    "### Variables Clínicas - Síntomas\n",
    "\n",
    "* **Cp:** Tipo de dolor en el pecho (Categórica con 4 tipos)\n",
    "   * **Tipo 1:** Angina típica\n",
    "   * **Tipo 2:** Angina Atípica\n",
    "   * **Tipo 3:** Dolor no anginal\n",
    "   * **Tipo 4:** Asintomático\n",
    "\n",
    "* **exang:** Angina inducida por el ejercicio (Categórica con dos niveles: Sí, No)\n",
    "\n",
    "### Variables Clínicas - Mediciones Fisiológicas\n",
    "\n",
    "* **trestbps:** Presión arterial en reposo en mm Hg al ingreso al hospital (Variable continua)\n",
    "* **chol:** Colesterol sérico en mg/dl (Variable continua)\n",
    "* **fbs:** Azúcar en sangre en ayunas > 120 mg/dl (Categórica con 2 niveles: verdadero, falso)\n",
    "* **thalach:** Frecuencia cardíaca máxima alcanzada (Variable continua)\n",
    "* **oldpeak:** Depresión del ST inducida por el ejercicio en relación con el descanso (Variable continua)\n",
    "\n",
    "### Variables Clínicas - Estudios Especializados\n",
    "\n",
    "* **restecg:** Resultados electrocardiográficos en reposo (Categórica con 3 niveles)\n",
    "   * **Nivel 0:** Normal\n",
    "   * **Nivel 1:** Tener anormalidad de onda ST-T (inversiones de onda T y/o elevación o depresión de ST de > 0.05 mV)\n",
    "   * **Nivel 2:** Muestra hipertrofia ventricular izquierda probable o definitiva según los criterios de Estes\n",
    "\n",
    "* **slope:** La pendiente del segmento ST de ejercicio pico (Categórica con 3 niveles)\n",
    "   * **Valor 1:** Ascenso\n",
    "   * **Valor 2:** Plano\n",
    "   * **Valor 3:** Descenso\n",
    "\n",
    "* **ca:** Número de vasos principales (0-3) coloreados por fluoroscopia (Categórica con 4 niveles: 0-1-2-3)\n",
    "\n",
    "* **thal:** El estado del corazón según la prueba de Thallium (Categórica con 3 niveles)\n",
    "   * **N:** Normal\n",
    "   * **DF:** Defecto fijo\n",
    "   * **DR:** Defecto reversible\n",
    "\n",
    "### Variable Objetivo\n",
    "\n",
    "* **num:** Presencia de enfermedad cardíaca (estado de enfermedad angiográfica) (Categórica con 5 niveles)\n",
    "   * **0:** Saludable\n",
    "   * **1:** Diagnosticado como etapa 1\n",
    "   * **2:** Diagnosticado como etapa 2\n",
    "   * **3:** Diagnosticado como etapa 3\n",
    "   * **4:** Diagnosticado como etapa 4\n",
    "\n",
    "## Simplificación de la Variable Objetivo\n",
    "\n",
    "Para un mejor entendimiento de la base de datos, la variable **num** se considerará con **dos niveles únicamente**:\n",
    "\n",
    "- **0 = \"No\":** El paciente está saludable, no presenta enfermedad cardíaca\n",
    "- **1-4 = \"Sí\":** El paciente presenta enfermedad cardíaca (cualquier etapa)\n",
    "\n"
   ]
  },
  {
   "cell_type": "markdown",
   "metadata": {},
   "source": [
    " ## Capítulo 2: Inspección Básica del DataFrame\n",
    "\n",
    "\n",
    "\n",
    " Lo primero que hacemos siempre es conocer nuestros datos."
   ]
  },
  {
   "cell_type": "code",
   "execution_count": null,
   "metadata": {},
   "outputs": [],
   "source": [
    "# Ver las primeras 5 filas del dataset - útil para ver la estructura de los datos\n",
    "df.head()\n"
   ]
  },
  {
   "cell_type": "code",
   "execution_count": null,
   "metadata": {},
   "outputs": [],
   "source": [
    "# Ver las últimas 3 filas - para comprobar que no hay problemas al final del archivo\n",
    "df.tail(3)\n"
   ]
  },
  {
   "cell_type": "code",
   "execution_count": null,
   "metadata": {},
   "outputs": [],
   "source": [
    "# Ver una muestra aleatoria de 5 filas - nos da una idea general sin sesgo de posición\n",
    "df.sample(5)\n"
   ]
  },
  {
   "cell_type": "code",
   "execution_count": null,
   "metadata": {},
   "outputs": [],
   "source": [
    "# Obtener las dimensiones del DataFrame (número de filas y columnas)\n",
    "# shape devuelve una tupla: (filas, columnas)\n",
    "df.shape\n"
   ]
  },
  {
   "cell_type": "code",
   "execution_count": null,
   "metadata": {},
   "outputs": [],
   "source": [
    "# Ver todos los nombres de las columnas del dataset\n",
    "# Útil para saber exactamente qué variables tenemos disponibles\n",
    "df.columns\n"
   ]
  },
  {
   "cell_type": "code",
   "execution_count": null,
   "metadata": {},
   "outputs": [],
   "source": [
    "# Verificar qué tipo de dato tiene cada columna (int64, float64, object, etc.)\n",
    "# Importante para saber qué operaciones podemos hacer con cada variable\n",
    "df.dtypes\n"
   ]
  },
  {
   "cell_type": "code",
   "execution_count": null,
   "metadata": {},
   "outputs": [],
   "source": [
    "# Obtener información general del DataFrame: tipos, valores no nulos, memoria usada\n",
    "# Es como un resumen técnico completo del dataset\n",
    "df.info()\n"
   ]
  },
  {
   "cell_type": "code",
   "execution_count": null,
   "metadata": {},
   "outputs": [],
   "source": [
    "# Generar estadísticas descriptivas de todas las columnas numéricas\n",
    "# Incluye: conteo, media, desviación estándar, min, max, percentiles\n",
    "df.describe()\n"
   ]
  },
  {
   "cell_type": "markdown",
   "metadata": {},
   "source": [
    " ### Ejercicios Capítulo 1 y 2: Exploración Básica\n",
    "\n",
    "\n",
    "\n",
    " ### Ejercicio 1\n",
    "\n",
    " Usando los métodos que acabas de aprender:\n",
    "\n",
    " 1. Muestra las primeras 10 filas del dataset\n",
    "\n",
    " 2. Cuenta cuántas filas y columnas tiene el dataset\n",
    "\n",
    " 3. Identifica qué tipos de datos hay en cada columna"
   ]
  },
  {
   "cell_type": "code",
   "execution_count": null,
   "metadata": {},
   "outputs": [],
   "source": [
    "# Respuesta ejercicio 1\n"
   ]
  },
  {
   "cell_type": "code",
   "execution_count": null,
   "metadata": {},
   "outputs": [],
   "source": [
    "# 1. Mostrar las primeras 10 filas usando head(n) donde n es el número de filas\n",
    "\n"
   ]
  },
  {
   "cell_type": "code",
   "execution_count": null,
   "metadata": {},
   "outputs": [],
   "source": [
    "# 2. Obtener dimensiones usando shape - devuelve tupla (filas, columnas)\n",
    "\n"
   ]
  },
  {
   "cell_type": "code",
   "execution_count": null,
   "metadata": {},
   "outputs": [],
   "source": [
    "# 3. Ver tipos de datos de cada columna usando dtypes\n",
    "\n"
   ]
  },
  {
   "cell_type": "markdown",
   "metadata": {},
   "source": [
    " ### Ejercicio 2\n",
    "\n",
    " Explora las estadísticas descriptivas:\n",
    "\n",
    " 1. Usa `.describe()` para ver el resumen estadístico\n",
    "\n",
    " 2. Identifica cuál es la edad promedio de los pacientes\n",
    "\n",
    " 3. Encuentra el valor máximo y mínimo del colesterol"
   ]
  },
  {
   "cell_type": "code",
   "execution_count": null,
   "metadata": {},
   "outputs": [],
   "source": [
    "# Respuesta ejercicio 2\n"
   ]
  },
  {
   "cell_type": "markdown",
   "metadata": {},
   "source": [
    " ## Capítulo 3: Seleccionar Columnas y Filas\n",
    "\n",
    "\n",
    "\n",
    " Pandas ofrece varias formas de acceder a los datos."
   ]
  },
  {
   "cell_type": "code",
   "execution_count": null,
   "metadata": {},
   "outputs": [],
   "source": [
    "# Seleccionar una sola columna usando corchetes - devuelve una Serie (1 dimensión)\n",
    "df[\"age\"].head(10)\n"
   ]
  },
  {
   "cell_type": "code",
   "execution_count": null,
   "metadata": {},
   "outputs": [],
   "source": [
    "# Alternativa: seleccionar columna usando notación de punto (solo si el nombre no tiene espacios)\n",
    "df.chol.head()\n"
   ]
  },
  {
   "cell_type": "code",
   "execution_count": null,
   "metadata": {},
   "outputs": [],
   "source": [
    "# Seleccionar múltiples columnas pasando una lista de nombres de columnas - devuelve DataFrame filtrado por nuestras columnas de interes\n",
    "subset = df[[\"age\", \"sex\", \"chol\", \"num\"]]\n",
    "subset.head()\n"
   ]
  },
  {
   "cell_type": "markdown",
   "metadata": {},
   "source": [
    "### `.loc` e `.iloc`\n",
    "\n",
    "Pandas ofrece dos métodos principales para seleccionar datos específicos de un DataFrame. Ambos separan por este orden [filas, columnas]. Separadas por una coma. \n",
    "\n",
    "#### `.iloc` - Selección por Posición Numérica\n",
    "\n",
    "**¿Qué es?** \n",
    "- **i**nteger **loc**ation - selecciona por números de posición. És analogo al tema de indices de listas o strings.\n",
    "- Funciona igual que los índices de Python: empieza en 0\n",
    "- Los rangos excluyen el último número (como `range()` o slicing)\n",
    "\n",
    "\n",
    "**Ejemplos prácticos:**\n",
    "```python\n",
    "df.iloc[0]           # Primera fila completa\n",
    "df.iloc[-1]          # Última fila completa\n",
    "df.iloc[0:5]         # Primeras 5 filas (0, 1, 2, 3, 4)\n",
    "df.iloc[:, 0:3]      # Todas las filas, primeras 3 columnas\n",
    "df.iloc[10, 2]       # Fila 10, columna 2 (un valor específico)\n",
    "```\n",
    "\n",
    "#### `.loc` - Selección por Etiquetas/Nombres\n",
    "\n",
    "**¿Qué es?**\n",
    "- **L**abel l**oc**ation - selecciona por nombres de filas/columnas\n",
    "- Los rangos incluyen ambos extremos\n",
    "- Más legible y descriptivo\n",
    "\n",
    "**¿Cuándo usarlo?**\n",
    "- Cuando conoces los nombres de las columnas\n",
    "- Para filtrar datos con condiciones\n",
    "- Cuando quieres código más legible\n",
    "\n",
    "**Ejemplos prácticos:**\n",
    "```python\n",
    "df.loc[0, 'age']                      # Fila 0, columna 'age'\n",
    "df.loc[:, 'age']                      # Todas las filas, solo columna 'age'\n",
    "df.loc[0:4, 'age':'chol']            # Filas 0-4, desde 'age' hasta 'chol'\n",
    "df.loc[df['age'] > 50, 'chol']       # Colesterol de pacientes >50 años\n",
    "df.loc[:, ['age', 'sex', 'chol']]    # Columnas específicas por nombre\n",
    "```\n",
    "\n",
    "#### Comparación Directa\n",
    "\n",
    "| Aspecto | `.iloc` | `.loc` |\n",
    "|---------|---------|--------|\n",
    "| **Selecciona por** | Números (posición) | Nombres (etiquetas) |\n",
    "| **Rangos** | Excluye final `[0:3]` = 0,1,2 | Incluye final `[0:3]` = 0,1,2,3 |\n",
    "| **Legibilidad** | Menos descriptivo | Más descriptivo |\n",
    "| **Filtros** | No permite condiciones | Permite condiciones |\n",
    "\n",
    "#### Casos de Uso Comunes\n",
    "\n",
    "**Usa `.iloc` cuando:**\n",
    "```python\n",
    "# Quieres las primeras/últimas filas\n",
    "df.iloc[:10]          # Primeras 10 filas\n",
    "df.iloc[-5:]          # Últimas 5 filas\n",
    "\n",
    "# Sabes posiciones exactas\n",
    "df.iloc[25, 3]        # Fila 25, columna 3\n",
    "```\n",
    "\n",
    "**Usa `.loc` cuando:**\n",
    "```python\n",
    "# Trabajas con nombres descriptivos\n",
    "df.loc[:, 'age':'chol']           # Rango de columnas por nombre\n",
    "\n",
    "# Aplicas filtros\n",
    "df.loc[df['age'] > 60, 'chol']    # Colesterol de mayores de 60\n",
    "```\n",
    "\n"
   ]
  },
  {
   "cell_type": "code",
   "execution_count": null,
   "metadata": {},
   "outputs": [],
   "source": [
    "# Seleccionar una fila específica por su posición usando iloc (integer location)\n",
    "# iloc[0] selecciona la primera fila (recordar que Python empieza en 0)\n",
    "df.iloc[0]\n",
    "\n",
    "#Fijaros que nos ha seleccionado la primera fila del dataframe pero nos la muestra verticalmente, es solo para verla mejor.\n"
   ]
  },
  {
   "cell_type": "code",
   "execution_count": null,
   "metadata": {},
   "outputs": [],
   "source": [
    "# Seleccionar un rango de filas usando iloc con slice notation [inicio:fin]\n",
    "# iloc[5:10] selecciona filas desde la 5 hasta la 9 (la 10 no se incluye)\n",
    "df.iloc[5:10]\n"
   ]
  },
  {
   "cell_type": "code",
   "execution_count": null,
   "metadata": {},
   "outputs": [],
   "source": [
    "# Seleccionar filas y columnas específicas usando iloc[filas, columnas]\n",
    "# iloc[0:3, 0:4] selecciona las primeras 3 filas y las primeras 4 columnas\n",
    "df.iloc[0:3, 0:4]\n"
   ]
  },
  {
   "cell_type": "code",
   "execution_count": null,
   "metadata": {},
   "outputs": [],
   "source": [
    "# Seleccionar usando loc con nombres de columnas (label location)\n",
    "# loc permite usar nombres de columnas en lugar de posiciones numéricas\n",
    "df.loc[0:2, [\"age\", \"sex\", \"chol\"]]\n"
   ]
  },
  {
   "cell_type": "markdown",
   "metadata": {},
   "source": [
    " ### Ejercicios Capítulo 3: Selección de Datos\n",
    "\n",
    "\n",
    "\n",
    " ### Ejercicio 1\n",
    "\n",
    " Practica la selección de datos:\n",
    "\n",
    " 1. Selecciona solo la columna `trestbps` (presión arterial)\n",
    "\n",
    " 2. Selecciona las columnas `age`, `sex` y `thalach` de los primeros 8 pacientes\n",
    "\n",
    " 3. Muestra la información completa del paciente en la posición 50"
   ]
  },
  {
   "cell_type": "code",
   "execution_count": null,
   "metadata": {},
   "outputs": [],
   "source": [
    "# Respuesta ejercicio 1\n"
   ]
  },
  {
   "cell_type": "markdown",
   "metadata": {},
   "source": [
    " ### Ejercicio 2\n",
    "\n",
    " Practica con iloc y loc:\n",
    "\n",
    " 1. Usa `iloc` para seleccionar las filas 10-15 y las columnas 2-5\n",
    "\n",
    " 2. Usa `loc` para seleccionar las primeras 5 filas de las columnas `age`, `chol` y `num`"
   ]
  },
  {
   "cell_type": "code",
   "execution_count": null,
   "metadata": {},
   "outputs": [],
   "source": [
    "# Respuesta ejercicio 2\n"
   ]
  },
  {
   "cell_type": "markdown",
   "metadata": {},
   "source": [
    " ## Capítulo 4: Filtrar Datos\n",
    "\n",
    "\n",
    "\n",
    " Una de las operaciones más importantes es filtrar filas según condiciones."
   ]
  },
  {
   "cell_type": "code",
   "execution_count": null,
   "metadata": {},
   "outputs": [],
   "source": [
    "df[\"age\"] > 60\n",
    "\n",
    "#Fijaos que nos devuelve la la columna age, pero en vez de la edad con un bool verdadero/falso dependiendo de si la edad es mayor que 60 o no."
   ]
  },
  {
   "cell_type": "code",
   "execution_count": null,
   "metadata": {},
   "outputs": [],
   "source": [
    "#Si cogemos un dataframe y le damos como indice una columna con bools, nos devuelve solo las filas donde el bool es True\n",
    "df[df[\"age\"] > 60]"
   ]
  },
  {
   "cell_type": "code",
   "execution_count": null,
   "metadata": {},
   "outputs": [],
   "source": [
    "# Filtrar filas que cumplen una condición: pacientes mayores de 60 años\n",
    "# df[\"age\"] > 60 crea una Serie de valores booleanos (True/False)\n",
    "# df[condición_booleana] devuelve solo las filas donde la condición es True\n",
    "mayores_60 = df[df[\"age\"] > 60]\n",
    "len(mayores_60)  # Contar cuántos pacientes cumplen la condición\n"
   ]
  },
  {
   "cell_type": "code",
   "execution_count": null,
   "metadata": {},
   "outputs": [],
   "source": [
    "mayores_60.head()  # Mostrar algunos ejemplos de los pacientes filtrados\n"
   ]
  },
  {
   "cell_type": "code",
   "execution_count": null,
   "metadata": {},
   "outputs": [],
   "source": [
    "(df[\"sex\"] == 0) & (df[\"age\"] > 50)"
   ]
  },
  {
   "cell_type": "code",
   "execution_count": null,
   "metadata": {},
   "outputs": [],
   "source": [
    "df[(df[\"sex\"] == 0) & (df[\"age\"] > 50)]"
   ]
  },
  {
   "cell_type": "code",
   "execution_count": null,
   "metadata": {},
   "outputs": [],
   "source": [
    "# Filtrar con múltiples condiciones usando operadores lógicos\n",
    "# & significa AND (ambas condiciones deben ser True)\n",
    "# Paréntesis son necesarios para que funcione correctamente\n",
    "mujeres_mayores = df[(df[\"sex\"] == 0) & (df[\"age\"] > 50)]\n",
    "len(mujeres_mayores)\n"
   ]
  },
  {
   "cell_type": "code",
   "execution_count": null,
   "metadata": {},
   "outputs": [],
   "source": [
    "mujeres_mayores.head()\n"
   ]
  },
  {
   "cell_type": "code",
   "execution_count": null,
   "metadata": {},
   "outputs": [],
   "source": [
    "# Usar operador OR (|) para filtrar filas que cumplen al menos una condición\n",
    "# Pacientes con colesterol alto O presión arterial alta\n",
    "alto_riesgo = df[(df[\"chol\"] > 240) | (df[\"trestbps\"] > 140)]\n",
    "len(alto_riesgo)\n"
   ]
  },
  {
   "cell_type": "markdown",
   "metadata": {},
   "source": [
    "dataframe.isin(lista):"
   ]
  },
  {
   "cell_type": "code",
   "execution_count": null,
   "metadata": {},
   "outputs": [],
   "source": [
    "df[\"cp\"].isin([1, 2])"
   ]
  },
  {
   "cell_type": "code",
   "execution_count": null,
   "metadata": {},
   "outputs": [],
   "source": [
    "# EXTRA: Filtrar usando isin() para verificar si un valor está en una lista específica\n",
    "# Útil cuando queremos seleccionar múltiples valores exactos de una variable\n",
    "dolor_especifico = df[df[\"cp\"].isin([1, 2])]\n",
    "len(dolor_especifico)\n"
   ]
  },
  {
   "cell_type": "code",
   "execution_count": null,
   "metadata": {},
   "outputs": [],
   "source": [
    "# Usar query() para filtros complejos con sintaxis más legible\n",
    "# Permite escribir condiciones como si fuera SQL, más fácil de leer\n",
    "resultado = df.query(\"age > 50 and chol > 200 and sex == 1\")\n",
    "len(resultado)\n"
   ]
  },
  {
   "cell_type": "code",
   "execution_count": null,
   "metadata": {},
   "outputs": [],
   "source": [
    "resultado.head()\n"
   ]
  },
  {
   "cell_type": "markdown",
   "metadata": {},
   "source": [
    " ### Ejercicios Capítulo 4: Filtrado de Datos\n",
    "\n",
    "\n",
    "\n",
    " ### Ejercicio 1\n",
    "\n",
    " Practica filtros simples:\n",
    "\n",
    " 1. Filtra pacientes menores de 40 años\n",
    "\n",
    " 2. Filtra pacientes con colesterol mayor a 250\n",
    "\n",
    " 3. Filtra pacientes que tienen enfermedad cardíaca (`num` > 0)"
   ]
  },
  {
   "cell_type": "code",
   "execution_count": null,
   "metadata": {},
   "outputs": [],
   "source": [
    "# Respuesta ejercicio 1\n"
   ]
  },
  {
   "cell_type": "code",
   "execution_count": null,
   "metadata": {},
   "outputs": [],
   "source": [
    "# 1. Filtrar menores de 40 años usando condición simple\n",
    "\n"
   ]
  },
  {
   "cell_type": "code",
   "execution_count": null,
   "metadata": {},
   "outputs": [],
   "source": [
    "# 2. Filtrar por colesterol alto usando operador de comparación\n",
    "\n"
   ]
  },
  {
   "cell_type": "code",
   "execution_count": null,
   "metadata": {},
   "outputs": [],
   "source": [
    "# 3. Filtrar pacientes con enfermedad usando condición > 0\n",
    "\n"
   ]
  },
  {
   "cell_type": "markdown",
   "metadata": {},
   "source": [
    " ### Ejercicio 2\n",
    "\n",
    " Practica filtros con múltiples condiciones:\n",
    "\n",
    " 1. Encuentra mujeres con presión arterial mayor a 130\n",
    "\n",
    " 2. Encuentra hombres menores de 45 años CON enfermedad cardíaca\n",
    "\n",
    " 3. Encuentra pacientes con colesterol alto (>240) O frecuencia cardíaca baja (<120)"
   ]
  },
  {
   "cell_type": "code",
   "execution_count": null,
   "metadata": {},
   "outputs": [],
   "source": [
    "# Respuesta ejercicio 2\n"
   ]
  },
  {
   "cell_type": "markdown",
   "metadata": {},
   "source": [
    " ## Capítulo 5: Crear y Modificar Columnas\n",
    "\n",
    "\n",
    "\n",
    " Es muy común necesitar crear nuevas variables o transformar las existentes."
   ]
  },
  {
   "cell_type": "code",
   "execution_count": null,
   "metadata": {},
   "outputs": [],
   "source": [
    "# Crear una nueva columna usando operaciones matemáticas simples\n",
    "# Asignar directamente a df[\"nueva_columna\"] crea la columna\n",
    "df[\"edad_en_meses\"] = df[\"age\"] * 12\n",
    "df[[\"age\", \"edad_en_meses\"]].head()\n"
   ]
  },
  {
   "cell_type": "code",
   "execution_count": null,
   "metadata": {},
   "outputs": [],
   "source": [
    "# Crear columna combinando múltiples columnas existentes\n",
    "# Útil para crear índices o ratios médicos\n",
    "df[\"indice_colesterol_edad\"] = df[\"chol\"] / df[\"age\"]\n",
    "df[[\"age\", \"chol\", \"indice_colesterol_edad\"]].head()\n"
   ]
  },
  {
   "cell_type": "code",
   "execution_count": null,
   "metadata": {},
   "outputs": [],
   "source": [
    "# Crear columna categórica usando pd.cut() para convertir valores continuos en rangos\n",
    "# bins define los límites de los rangos, labels define los nombres de cada categoría\n",
    "df[\"grupo_edad\"] = pd.cut(df[\"age\"], \n",
    "                          bins=[0, 40, 50, 60, 70, 100],\n",
    "                          labels=[\"<40\", \"40-49\", \"50-59\", \"60-69\", \"70+\"])\n",
    "df[['age',\"grupo_edad\"]]"
   ]
  },
  {
   "cell_type": "markdown",
   "metadata": {},
   "source": [
    "Igual que para las listas teniamos la función .count() para contar las frecuencias de los elementos, en dataframes tenemos la funcion .value_counts() que hace lo mismo"
   ]
  },
  {
   "cell_type": "code",
   "execution_count": null,
   "metadata": {},
   "outputs": [],
   "source": [
    "df[\"grupo_edad\"].value_counts()\n"
   ]
  },
  {
   "cell_type": "code",
   "execution_count": null,
   "metadata": {},
   "outputs": [],
   "source": [
    "# Usar apply() para aplicar funciones personalizadas a cada valor de una columna\n",
    "# Útil cuando necesitamos lógica compleja que no se puede hacer con operaciones simples\n",
    "def clasificar_colesterol(valor):\n",
    "    if pd.isna(valor):  # Verificar si el valor es nulo\n",
    "        return \"Desconocido\"\n",
    "    elif valor < 200:\n",
    "        return \"Normal\"\n",
    "    elif valor < 240:\n",
    "        return \"Límite alto\"\n",
    "    else:\n",
    "        return \"Alto\"\n",
    "\n",
    "df[\"categoria_colesterol\"] = df[\"chol\"].apply(clasificar_colesterol)\n",
    "df[\"categoria_colesterol\"].value_counts()\n"
   ]
  },
  {
   "cell_type": "code",
   "execution_count": null,
   "metadata": {},
   "outputs": [],
   "source": [
    "# Usar np.where() para crear columnas con lógica condicional simple (if-else)\n",
    "# np.where(condición, valor_si_true, valor_si_false)\n",
    "df[\"sexo_texto\"] = np.where(df[\"sex\"] == 0, \"Mujer\", \"Hombre\")\n",
    "df[\"sexo_texto\"].value_counts()\n"
   ]
  },
  {
   "cell_type": "code",
   "execution_count": null,
   "metadata": {},
   "outputs": [],
   "source": [
    "# Usar map() con diccionario para recodificar valores según una tabla de mapeo\n",
    "# Útil cuando tenemos códigos numéricos que queremos convertir a texto descriptivo\n",
    "mapeo_enfermedad = {0: \"Sin enfermedad\", 1: \"Leve\", 2: \"Moderada\", 3: \"Severa\", 4: \"Muy severa\"}\n",
    "df[\"nivel_enfermedad\"] = df[\"num\"].map(mapeo_enfermedad)\n",
    "df[\"nivel_enfermedad\"].value_counts()\n"
   ]
  },
  {
   "cell_type": "markdown",
   "metadata": {},
   "source": [
    " ### Ejercicios Capítulo 5: Creación de Columnas\n",
    "\n",
    "\n",
    "\n",
    " ### Ejercicio 1\n",
    "\n",
    " Crea nuevas columnas básicas:\n",
    "\n",
    " 1. Crea una columna `edad_años_2030` que muestre la edad que tendrán los pacientes en 2030 (asume que estamos en 2024)\n",
    "\n",
    " 2. Crea una columna `frecuencia_por_edad` que divida `thalach` entre `age`"
   ]
  },
  {
   "cell_type": "code",
   "execution_count": null,
   "metadata": {},
   "outputs": [],
   "source": [
    "# Respuesta ejercicio 1\n"
   ]
  },
  {
   "cell_type": "code",
   "execution_count": null,
   "metadata": {},
   "outputs": [],
   "source": [
    "# 1. Calcular edad futura sumando años a la edad actual\n",
    "\n"
   ]
  },
  {
   "cell_type": "code",
   "execution_count": null,
   "metadata": {},
   "outputs": [],
   "source": [
    "# 2. Crear ratio dividiendo una columna entre otra\n",
    "\n"
   ]
  },
  {
   "cell_type": "markdown",
   "metadata": {},
   "source": [
    " ### Ejercicio 2\n",
    "\n",
    " Crea columnas categóricas:\n",
    "\n",
    " 1. Crea una función que clasifique la presión arterial (`trestbps`):\n",
    "\n",
    "    - \"Normal\": menor a 120\n",
    "\n",
    "    - \"Elevada\": entre 120 y 129\n",
    "\n",
    "    - \"Alta\": 130 o más\n",
    "\n",
    " 2. Aplica esta función para crear la columna `categoria_presion`"
   ]
  },
  {
   "cell_type": "code",
   "execution_count": null,
   "metadata": {},
   "outputs": [],
   "source": [
    "# Respuesta ejercicio 2\n"
   ]
  },
  {
   "cell_type": "code",
   "execution_count": null,
   "metadata": {},
   "outputs": [],
   "source": [
    "# 1. Definir función que clasifica presión según rangos médicos estándar\n",
    "\n"
   ]
  },
  {
   "cell_type": "code",
   "execution_count": null,
   "metadata": {},
   "outputs": [],
   "source": [
    "# 2. Aplicar la función usando apply() para crear nueva columna categórica\n",
    "\n"
   ]
  },
  {
   "cell_type": "markdown",
   "metadata": {},
   "source": [
    " ### Ejercicio 3\n",
    "\n",
    " Usa mapeo y condicionales:\n",
    " 1. Crea un diccionario para mapear los valores de `cp` (dolor en pecho):\n",
    "\n",
    "    - 1: \"Angina típica\", 2: \"Angina atípica\", 3: \"Dolor no anginoso\", 4: \"Asintomático\"\n",
    "\n",
    "    - Aplícalo para crear la columna `tipo_dolor`"
   ]
  },
  {
   "cell_type": "code",
   "execution_count": null,
   "metadata": {},
   "outputs": [],
   "source": [
    "# Respuesta ejercicio 3\n"
   ]
  },
  {
   "cell_type": "markdown",
   "metadata": {},
   "source": [
    " ## Capítulo 6: Trabajar con Valores Nulos\n",
    "\n",
    "\n",
    "\n",
    " El manejo de valores faltantes es crucial en el análisis de datos."
   ]
  },
  {
   "cell_type": "code",
   "execution_count": null,
   "metadata": {},
   "outputs": [],
   "source": [
    "# Detectar valores nulos en cada columna del dataset\n",
    "# isnull() devuelve True para valores nulos, sum() cuenta cuántos True hay por columna\n",
    "df.isnull().sum()\n"
   ]
  },
  {
   "cell_type": "code",
   "execution_count": null,
   "metadata": {},
   "outputs": [],
   "source": [
    "# Calcular el porcentaje de valores nulos por columna\n",
    "# Dividir por len(df) da la proporción, multiplicar por 100 da el porcentaje\n",
    "(df.isnull().sum() / len(df) * 100).round(2)\n"
   ]
  },
  {
   "cell_type": "code",
   "execution_count": null,
   "metadata": {},
   "outputs": [],
   "source": [
    "# Encontrar todas las filas que tienen al menos un valor nulo\n",
    "# any(axis=1) devuelve True si hay algún nulo en la fila\n",
    "filas_con_nulos = df[df.isnull().any(axis=1)]\n",
    "len(filas_con_nulos)\n"
   ]
  },
  {
   "cell_type": "code",
   "execution_count": null,
   "metadata": {},
   "outputs": [],
   "source": [
    "# Mostrar las filas con valores nulos si existen\n",
    "filas_con_nulos\n"
   ]
  },
  {
   "cell_type": "code",
   "execution_count": null,
   "metadata": {},
   "outputs": [],
   "source": [
    "# Crear una copia del DataFrame para no modificar el original durante las pruebas\n",
    "df_limpio = df.copy()\n",
    "\n",
    "# Estrategia 1: Rellenar valores nulos con un valor específico (0 en este caso)\n",
    "if df_limpio[\"ca\"].isnull().sum() > 0:\n",
    "    df_limpio[\"ca\"] = df_limpio[\"ca\"].fillna(0)\n",
    "\n",
    "# Estrategia 2: Rellenar valores nulos con la media de la columna\n",
    "if df_limpio[\"thal\"].isnull().sum() > 0:\n",
    "    df_limpio[\"thal\"] = df_limpio[\"thal\"].fillna(df_limpio[\"thal\"].mean())\n",
    "\n",
    "# Verificar que los valores nulos fueron tratados correctamente\n",
    "df_limpio.isnull().sum()\n",
    "\n",
    "\n",
    "# Efectivamente ca ya no tiene valores nulos\n"
   ]
  },
  {
   "cell_type": "markdown",
   "metadata": {},
   "source": [
    " ### Ejercicios Capítulo 6: Valores Nulos\n",
    "\n",
    "\n",
    "\n",
    " ### Ejercicio 1\n",
    "\n",
    " Detecta y analiza valores nulos:\n",
    "\n",
    " 1. Cuenta cuántos valores nulos hay en total en el dataset\n",
    "\n",
    " 2. Identifica qué columnas tienen valores nulos\n",
    "\n",
    " 3. Calcula qué porcentaje del dataset representan los valores nulos"
   ]
  },
  {
   "cell_type": "code",
   "execution_count": null,
   "metadata": {},
   "outputs": [],
   "source": [
    "# Respuesta ejercicio 1\n"
   ]
  },
  {
   "cell_type": "markdown",
   "metadata": {},
   "source": [
    " ### Ejercicio 2\n",
    "\n",
    " Si encuentras valores nulos, practica diferentes estrategias:\n",
    "\n",
    " 1. Crea una copia del dataset llamada `df_test`\n",
    "\n",
    " 2. Para cualquier columna numérica con nulos, rellénalos con la mediana\n",
    "\n",
    " 3. Para cualquier columna categórica con nulos, rellénalos con \"Desconocido\""
   ]
  },
  {
   "cell_type": "code",
   "execution_count": null,
   "metadata": {},
   "outputs": [],
   "source": [
    "# Respuesta ejercicio 2\n"
   ]
  },
  {
   "cell_type": "markdown",
   "metadata": {},
   "source": [
    " ## Capítulo 7: Exploración y Análisis Básico\n",
    "\n",
    "\n",
    "\n",
    " Vamos a explorar los datos para entender mejor el dataset."
   ]
  },
  {
   "cell_type": "code",
   "execution_count": null,
   "metadata": {},
   "outputs": [],
   "source": [
    "# Contar la frecuencia de cada valor único en una columna categórica\n",
    "# value_counts() es fundamental para entender la distribución de variables categóricas\n",
    "df[\"num\"].value_counts()\n"
   ]
  },
  {
   "cell_type": "code",
   "execution_count": null,
   "metadata": {},
   "outputs": [],
   "source": [
    "# Obtener porcentajes en lugar de conteos absolutos\n",
    "# normalize=True convierte los conteos en proporciones, multiplicar por 100 da porcentajes\n",
    "(df[\"num\"].value_counts(normalize=True) * 100).round(1)\n"
   ]
  },
  {
   "cell_type": "code",
   "execution_count": null,
   "metadata": {},
   "outputs": [],
   "source": [
    "# Crear una variable binaria simplificada para análisis más claros\n",
    "# np.where convierte la variable multiclase en binaria (tiene/no tiene enfermedad)\n",
    "df[\"tiene_enfermedad\"] = np.where(df[\"num\"] > 0, \"Sí\", \"No\")\n",
    "df[\"tiene_enfermedad\"].value_counts()\n"
   ]
  },
  {
   "cell_type": "code",
   "execution_count": null,
   "metadata": {},
   "outputs": [],
   "source": [
    "# Crear tabla cruzada para ver la relación entre dos variables categóricas\n",
    "# crosstab es equivalente a una tabla dinámica de Excel\n",
    "tabla_cruzada = pd.crosstab(df[\"sexo_texto\"], df[\"tiene_enfermedad\"])\n",
    "tabla_cruzada\n"
   ]
  },
  {
   "cell_type": "code",
   "execution_count": null,
   "metadata": {},
   "outputs": [],
   "source": [
    "# Convertir tabla cruzada a porcentajes por fila (normalize='index')\n",
    "# Esto nos muestra qué porcentaje de hombres/mujeres tiene enfermedad\n",
    "pd.crosstab(df[\"sexo_texto\"], df[\"tiene_enfermedad\"], normalize='index') * 100\n",
    "\n",
    "# la otra opcion seria normalise = 'columns'\n"
   ]
  },
  {
   "cell_type": "code",
   "execution_count": null,
   "metadata": {},
   "outputs": [],
   "source": [
    "# Calcular estadísticas por grupos usando groupby()\n",
    "# groupby agrupa los datos y aplica funciones estadísticas a cada grupo\n",
    "df.groupby(\"tiene_enfermedad\")[\"age\"].mean().round(1)\n",
    "\n",
    "#esto lo que haria és, hazme grupos en funcion de si tienen o no enfermedad, coge la variable age y calcula la media de age de cada grupo"
   ]
  },
  {
   "cell_type": "code",
   "execution_count": null,
   "metadata": {},
   "outputs": [],
   "source": [
    "# Aplicar múltiples funciones estadísticas usando agg()\n",
    "# agg() permite calcular varias estadísticas simultáneamente\n",
    "df.groupby(\"tiene_enfermedad\")[\"age\"].agg([\"mean\", \"median\", \"std\"]).round(1)\n",
    "\n",
    "# si en vez de la media queremos otras estadisticas descriptivas, las podemos pedir con la funcion .agg()"
   ]
  },
  {
   "cell_type": "markdown",
   "metadata": {},
   "source": [
    " ### Ejercicios Capítulo 7: Exploración de Datos\n",
    "\n",
    "\n",
    "\n",
    " ### Ejercicio 1\n",
    "\n",
    " Explora la distribución de variables:\n",
    "\n",
    " 1. Cuenta los valores únicos de la variable `cp` (tipo de dolor)\n",
    "\n",
    " 2. Calcula qué porcentaje de pacientes tiene cada tipo de dolor\n",
    "\n",
    " 3. Encuentra la edad promedio por tipo de dolor"
   ]
  },
  {
   "cell_type": "code",
   "execution_count": null,
   "metadata": {},
   "outputs": [],
   "source": [
    "# Respuesta ejercicio 1\n"
   ]
  },
  {
   "cell_type": "code",
   "execution_count": null,
   "metadata": {},
   "outputs": [],
   "source": [
    "# 1. Contar frecuencia de cada tipo de dolor usando value_counts()\n",
    "\n"
   ]
  },
  {
   "cell_type": "code",
   "execution_count": null,
   "metadata": {},
   "outputs": [],
   "source": [
    "# 2. Convertir conteos a porcentajes usando normalize=True\n",
    "\n"
   ]
  },
  {
   "cell_type": "code",
   "execution_count": null,
   "metadata": {},
   "outputs": [],
   "source": [
    "# 3. Calcular edad promedio por tipo de dolor usando groupby()\n",
    "\n"
   ]
  },
  {
   "cell_type": "markdown",
   "metadata": {},
   "source": [
    " ### Ejercicio 2\n",
    "\n",
    " Crea tablas cruzadas:\n",
    "\n",
    " 1. Crea una tabla cruzada entre `grupo_edad` y `tiene_enfermedad`\n",
    "\n",
    " 2. Convierte esta tabla a porcentajes por columna para ver qué grupo de edad tiene más riesgo\n",
    "\n",
    " 3. Calcula el colesterol promedio por grupo de edad"
   ]
  },
  {
   "cell_type": "code",
   "execution_count": null,
   "metadata": {},
   "outputs": [],
   "source": [
    "# Respuesta ejercicio 2\n"
   ]
  },
  {
   "cell_type": "markdown",
   "metadata": {},
   "source": [
    " ### Ejercicio 3\n",
    "\n",
    " Análisis de riesgo:\n",
    "\n",
    " 1. Crea una variable `colesterol_alto` que sea \"Sí\" si `chol` > 240, \"No\" en caso contrario\n",
    "\n",
    " 2. Crea una tabla cruzada entre `colesterol_alto` y `tiene_enfermedad`\n",
    "\n",
    " 3. Calcula qué porcentaje de personas con colesterol alto tiene enfermedad cardíaca"
   ]
  },
  {
   "cell_type": "code",
   "execution_count": null,
   "metadata": {},
   "outputs": [],
   "source": [
    "# Respuesta ejercicio 3\n"
   ]
  },
  {
   "cell_type": "markdown",
   "metadata": {},
   "source": [
    " ## Capítulo 8: Visualización Básica con matplotlib.pyplot alias plt\n",
    "\n",
    "\n",
    "\n",
    " Pandas tiene capacidades de visualización integradas útiles para exploración rápida."
   ]
  },
  {
   "cell_type": "code",
   "execution_count": null,
   "metadata": {},
   "outputs": [],
   "source": [
    "# Crear histograma para ver la distribución de una variable continua\n",
    "# kind='hist' especifica el tipo de gráfico, bins controla el número de barras\n",
    "plt.figure(figsize=(8, 5))\n",
    "df[\"age\"].plot(kind='hist', bins=20, edgecolor='black', alpha=0.7)\n",
    "plt.title(\"Distribución de edades\")\n",
    "plt.xlabel(\"Edad\")\n",
    "plt.ylabel(\"Frecuencia\")\n",
    "plt.show()\n"
   ]
  },
  {
   "cell_type": "code",
   "execution_count": null,
   "metadata": {},
   "outputs": [],
   "source": [
    "# Crear gráfico de barras para variables categóricas\n",
    "# value_counts().plot() convierte directamente conteos en barras\n",
    "plt.figure(figsize=(8, 5))\n",
    "df[\"tiene_enfermedad\"].value_counts().plot(kind='bar', color=['lightblue', 'salmon'])\n",
    "plt.title(\"Distribución de enfermedad cardíaca\")\n",
    "plt.xlabel(\"Tiene enfermedad\")\n",
    "plt.ylabel(\"Número de pacientes\")\n",
    "plt.xticks(rotation=0)  # Rotar etiquetas para mejor legibilidad\n",
    "plt.show()\n"
   ]
  },
  {
   "cell_type": "code",
   "execution_count": null,
   "metadata": {},
   "outputs": [],
   "source": [
    "# Crear box plot para comparar distribuciones entre grupos\n",
    "# boxplot() muestra mediana, cuartiles y valores atípicos por categoría\n",
    "plt.figure(figsize=(8, 6))\n",
    "df.boxplot(column='chol', by='sexo_texto', figsize=(8, 6))\n",
    "plt.suptitle(\"Distribución del colesterol por sexo\")\n",
    "plt.title(\"\")  # Quitar título automático redundante\n",
    "plt.ylabel(\"Colesterol (mg/dl)\")\n",
    "plt.show()\n"
   ]
  },
  {
   "cell_type": "code",
   "execution_count": null,
   "metadata": {},
   "outputs": [],
   "source": [
    "# Crear scatter plot para explorar relaciones entre variables continuas\n",
    "# kind='scatter' permite visualizar correlaciones potenciales\n",
    "plt.figure(figsize=(8, 6))\n",
    "df.plot(kind='scatter', x='age', y='chol', alpha=0.6, figsize=(8, 6))\n",
    "plt.title(\"Relación entre edad y colesterol\")\n",
    "plt.xlabel(\"Edad\")\n",
    "plt.ylabel(\"Colesterol\")\n",
    "plt.show()\n"
   ]
  },
  {
   "cell_type": "code",
   "execution_count": null,
   "metadata": {},
   "outputs": [],
   "source": [
    "# Comparar distribuciones entre grupos usando histogramas superpuestos\n",
    "# Filtrar datos por grupo y plotear cada uno con diferente color y transparencia\n",
    "plt.figure(figsize=(10, 6))\n",
    "df[df[\"tiene_enfermedad\"] == \"No\"][\"age\"].plot(kind='hist', alpha=0.7, label='Sin enfermedad', bins=20)\n",
    "df[df[\"tiene_enfermedad\"] == \"Sí\"][\"age\"].plot(kind='hist', alpha=0.7, label='Con enfermedad', bins=20)\n",
    "plt.title(\"Distribución de edad según presencia de enfermedad\")\n",
    "plt.xlabel(\"Edad\")\n",
    "plt.ylabel(\"Frecuencia\")\n",
    "plt.legend()  # Mostrar leyenda para distinguir los grupos\n",
    "plt.show()\n"
   ]
  },
  {
   "cell_type": "markdown",
   "metadata": {},
   "source": [
    " ### Ejercicios Capítulo 8: Visualización\n",
    "\n",
    "\n",
    "\n",
    " ### Ejercicio 1\n",
    "\n",
    " Crea visualizaciones básicas:\n",
    "\n",
    " 1. Haz un histograma de la presión arterial (`trestbps`)\n",
    "\n",
    " 2. Crea un gráfico de barras de la variable `categoria_colesterol`\n",
    "\n",
    " 3. Haz un box plot del colesterol por grupo de edad"
   ]
  },
  {
   "cell_type": "code",
   "execution_count": null,
   "metadata": {},
   "outputs": [],
   "source": [
    "# Respuesta ejercicio 1\n"
   ]
  },
  {
   "cell_type": "code",
   "execution_count": null,
   "metadata": {},
   "outputs": [],
   "source": [
    "# 1. Histograma de presión arterial para ver su distribución\n",
    "\n"
   ]
  },
  {
   "cell_type": "code",
   "execution_count": null,
   "metadata": {},
   "outputs": [],
   "source": [
    "# 2. Gráfico de barras para ver distribución de categorías de colesterol\n",
    "\n"
   ]
  },
  {
   "cell_type": "code",
   "execution_count": null,
   "metadata": {},
   "outputs": [],
   "source": [
    "# 3. Box plot para comparar colesterol entre grupos de edad\n",
    "\n"
   ]
  },
  {
   "cell_type": "markdown",
   "metadata": {},
   "source": [
    " ### Ejercicio 2\n",
    "\n",
    " Explora relaciones entre variables:\n",
    "\n",
    " 1. Crea un scatter plot entre `age` y `thalach` (frecuencia cardíaca máxima)\n",
    "\n",
    " 2. Haz un histograma comparativo de `thalach` para pacientes con y sin enfermedad\n",
    "\n",
    " 3. Crea un gráfico de barras que compare el porcentaje de enfermedad por sexo"
   ]
  },
  {
   "cell_type": "code",
   "execution_count": null,
   "metadata": {},
   "outputs": [],
   "source": [
    "# Respuesta ejercicio 2\n"
   ]
  },
  {
   "cell_type": "markdown",
   "metadata": {},
   "source": [
    " ## Capítulo 9: Guardar Resultados\n",
    "\n",
    "\n",
    "\n",
    " Después de procesar los datos, necesitamos guardar los resultados."
   ]
  },
  {
   "cell_type": "code",
   "execution_count": null,
   "metadata": {},
   "outputs": [],
   "source": [
    "# Guardar el DataFrame completo modificado en formato CSV\n",
    "# index=False evita guardar el índice numérico como columna adicional\n",
    "df_limpio.to_csv(\"./results/heart_disease_procesado.csv\", index=False)\n"
   ]
  },
  {
   "cell_type": "code",
   "execution_count": null,
   "metadata": {},
   "outputs": [],
   "source": [
    "# Guardar solo un subconjunto de columnas relevantes para reportes específicos\n",
    "# Útil cuando queremos compartir solo información esencial\n",
    "columnas_importantes = [\"age\", \"sexo_texto\", \"chol\", \"categoria_colesterol\", \"tiene_enfermedad\"]\n",
    "df[columnas_importantes].to_csv(\"./results/heart_disease_resumido.csv\", index=False)\n"
   ]
  },
  {
   "cell_type": "code",
   "execution_count": null,
   "metadata": {},
   "outputs": [],
   "source": [
    "# Crear tabla de resumen con estadísticas agregadas por grupo\n",
    "# groupby + agg permite crear reportes estadísticos complejos\n",
    "resumen_final = df.groupby(\"sexo_texto\").agg({\n",
    "    \"age\": [\"mean\", \"std\"],           # Media y desviación estándar de edad\n",
    "    \"chol\": [\"mean\", \"std\"],          # Media y desviación estándar de colesterol\n",
    "    \"trestbps\": \"mean\",               # Media de presión arterial\n",
    "    \"num\": lambda x: (x > 0).mean() * 100  # Porcentaje con enfermedad\n",
    "}).round(1)\n",
    "\n",
    "resumen_final\n"
   ]
  },
  {
   "cell_type": "code",
   "execution_count": null,
   "metadata": {},
   "outputs": [],
   "source": [
    "# Guardar la tabla de resumen en archivo separado\n",
    "resumen_final.to_csv(\"./results/resumen_por_sexo.csv\")\n"
   ]
  },
  {
   "cell_type": "markdown",
   "metadata": {},
   "source": [
    " ### Ejercicios Capítulo 9: Guardar Datos\n",
    "\n",
    "\n",
    "\n",
    " ### Ejercicio 1\n",
    "\n",
    " Practica guardar diferentes versiones:\n",
    "\n",
    " 1. Guarda un dataset que contenga solo pacientes con enfermedad cardíaca\n",
    "\n",
    " 2. Crea y guarda una tabla resumen que muestre estadísticas por grupo de edad\n",
    "\n",
    " 3. Guarda solo las columnas numéricas del dataset original"
   ]
  },
  {
   "cell_type": "code",
   "execution_count": null,
   "metadata": {},
   "outputs": [],
   "source": [
    "# Respuesta ejercicio 1\n"
   ]
  },
  {
   "cell_type": "code",
   "execution_count": null,
   "metadata": {},
   "outputs": [],
   "source": [
    "# 1. Filtrar solo pacientes con enfermedad y guardar\n",
    "\n"
   ]
  },
  {
   "cell_type": "code",
   "execution_count": null,
   "metadata": {},
   "outputs": [],
   "source": [
    "# 2. Crear resumen estadístico por grupo de edad y guardar\n",
    "\n"
   ]
  },
  {
   "cell_type": "code",
   "execution_count": null,
   "metadata": {},
   "outputs": [],
   "source": [
    "# 3. Seleccionar solo columnas numéricas y guardar\n",
    "\n"
   ]
  },
  {
   "cell_type": "markdown",
   "metadata": {},
   "source": [
    "## EJERCICIO INTEGRADOR FINAL\n",
    "\n",
    "### Sistema de Análisis de Riesgo Cardíaco\n",
    "\n",
    "Vamos a crear un análisis completo que use **todos** los conceptos aprendidos en este notebook.\n",
    "Eres un analista de datos médicos y necesitas crear un reporte de riesgo cardíaco.\n",
    "\n",
    "---\n",
    "\n",
    "### PASO 1: Preparación de Datos\n",
    "\n",
    "**1.1 Carga y verificación inicial**\n",
    "- Carga el dataset `heart_disease_dataset_con_nulos.csv`\n",
    "- Usa `.isnull().sum()` para verificar si hay valores nulos\n",
    "- Si hay nulos, decide cómo tratarlos (rellenar o eliminar)\n",
    "\n",
    "**1.2 Crear variables categóricas (usa las funciones que aprendiste)**\n",
    "\n",
    "Crea estas nuevas columnas:\n",
    "\n",
    "- `grupo_edad_riesgo`: Usa `pd.cut()` con rangos [0, 50, 65, 100] y etiquetas [\"<50\", \"50-65\", \">65\"]\n",
    "- `presion_categoria`: Usa `np.where()` - \"Alta\" si `trestbps >= 130`, sino \"Normal\"  \n",
    "- `colesterol_riesgo`: Usa `np.where()` - \"Alto\" si `chol >= 200`, sino \"Normal\"\n",
    "- `sexo_texto`: Usa `np.where()` - \"Hombre\" si `sex == 1`, sino \"Mujer\"\n",
    "- `tiene_enfermedad`: Usa `np.where()` - \"Sí\" si `num > 0`, sino \"No\"\n",
    "\n",
    "**Verificación:** Usa `.value_counts()` en cada variable nueva para comprobar que se crearon correctamente.\n",
    "\n",
    "---\n",
    "\n",
    "### PASO 2: Análisis de Factores de Riesgo\n",
    "\n",
    "Para cada factor de riesgo, calcula qué porcentaje de pacientes tiene enfermedad cardíaca:\n",
    "\n",
    "**2.1 Análisis por edad**\n",
    "- Crea una tabla cruzada entre `grupo_edad_riesgo` y `tiene_enfermedad`\n",
    "- Convierte a porcentajes por fila usando `normalize='index'`\n",
    "- Pregunta a responder: ¿Qué grupo de edad tiene mayor riesgo?\n",
    "\n",
    "**2.2 Análisis por presión arterial**\n",
    "- Crea una tabla cruzada entre `presion_categoria` y `tiene_enfermedad` \n",
    "- Convierte a porcentajes por fila\n",
    "- Pregunta a responder: ¿Cuánto aumenta el riesgo tener presión alta?\n",
    "\n",
    "**2.3 Análisis por colesterol**\n",
    "- Crea una tabla cruzada entre `colesterol_riesgo` y `tiene_enfermedad`\n",
    "- Convierte a porcentajes por fila  \n",
    "- Pregunta a responder: ¿El colesterol alto aumenta significativamente el riesgo?\n",
    "\n",
    "**2.4 Análisis por sexo**\n",
    "- Crea una tabla cruzada entre `sexo_texto` y `tiene_enfermedad`\n",
    "- Convierte a porcentajes por fila\n",
    "- Pregunta a responder: ¿Hay diferencias entre hombres y mujeres?\n",
    "\n",
    "---\n",
    "\n",
    "### PASO 3: Crear Índice de Riesgo\n",
    "\n",
    "**3.1 Contar factores de riesgo por paciente**\n",
    "\n",
    "Crea variables binarias (0 o 1) para cada factor:\n",
    "- `factor_edad_mayor`: 1 si `age > 65`, sino 0\n",
    "- `factor_presion_alta`: 1 si `trestbps >= 130`, sino 0  \n",
    "- `factor_colesterol_alto`: 1 si `chol >= 200`, sino 0\n",
    "- `factor_es_hombre`: 1 si `sex == 1`, sino 0\n",
    "\n",
    "**3.2 Sumar factores**\n",
    "- Crea columna `total_factores_riesgo` que sume los 4 factores anteriores\n",
    "- Usa `.value_counts()` para ver la distribución\n",
    "\n",
    "**3.3 Clasificar nivel de riesgo**\n",
    "- Crea columna `nivel_riesgo` usando `np.where()` anidados o `pd.cut()`:\n",
    "  - \"Bajo\": 0-1 factores\n",
    "  - \"Medio\": 2 factores  \n",
    "  - \"Alto\": 3-4 factores\n",
    "\n",
    "---\n",
    "\n",
    "### PASO 4: Visualización y Análisis Final\n",
    "\n",
    "**4.1 Crear 3 visualizaciones obligatorias:**\n",
    "\n",
    "1. **Gráfico de barras**: Distribución de `nivel_riesgo` (usa `.value_counts().plot(kind='bar')`)\n",
    "\n",
    "2. **Tabla de análisis**: Tabla cruzada entre `nivel_riesgo` y `tiene_enfermedad` con porcentajes\n",
    "\n",
    "3. **Comparación por sexo**: Gráfico que compare el porcentaje de enfermedad entre hombres y mujeres por nivel de riesgo\n",
    "\n",
    "**4.2 Crear tabla de resumen**\n",
    "- Usa `.groupby(\"nivel_riesgo\")` para calcular:\n",
    "  - Número de pacientes por nivel\n",
    "  - Edad promedio por nivel\n",
    "  - Porcentaje con enfermedad por nivel\n",
    "\n",
    "**4.3 Guardar resultados**\n",
    "- Guarda el dataset completo con todas las nuevas variables: `analisis_riesgo_completo.csv`\n",
    "- Guarda solo la tabla de resumen: `resumen_por_nivel_riesgo.csv`\n",
    "\n",
    "---\n",
    "\n",
    "### PREGUNTAS A RESPONDER AL FINAL\n",
    "\n",
    "Después de completar el análisis, responde estas preguntas específicas:\n",
    "\n",
    "1. **Factor más predictivo**: De los 4 factores analizados (edad, presión, colesterol, sexo), ¿cuál muestra la mayor diferencia en porcentaje de enfermedad entre sus categorías?\n",
    "\n",
    "2. **Efectividad del índice**: ¿Qué porcentaje de pacientes clasificados como \"alto riesgo\" realmente tiene enfermedad cardíaca? ¿Es útil este índice?\n",
    "\n",
    "3. **Diferencias por sexo**: ¿Los hombres tienen consistentemente mayor riesgo que las mujeres en todos los niveles de riesgo, o hay variaciones?\n",
    "\n",
    "4. **Recomendación médica**: Basándose en tus hallazgos, ¿qué factores recomendarías monitorear más de cerca en pacientes?\n",
    "\n",
    "---\n",
    "\n"
   ]
  },
  {
   "cell_type": "code",
   "execution_count": null,
   "metadata": {},
   "outputs": [],
   "source": [
    "# Espacio para el ejercicio integrador final\n",
    "# Aquí deberás aplicar todos los conceptos aprendidos para crear un análisis completo\n"
   ]
  },
  {
   "cell_type": "markdown",
   "metadata": {},
   "source": [
    " ## Resumen de Conceptos Aprendidos\n",
    "\n",
    "\n",
    "\n",
    " En este notebook has aprendido:\n",
    "\n",
    "\n",
    "\n",
    " ### **Conceptos Fundamentales de Pandas:**\n",
    "\n",
    " - **DataFrame**: Estructura principal para datos tabulares - como una tabla de Excel mejorada\n",
    "\n",
    " - **Carga de datos**: `pd.read_csv()` para importar archivos desde disco\n",
    "\n",
    " - **Exploración**: `.head()`, `.tail()`, `.info()`, `.describe()`, `.shape` para entender los datos\n",
    "\n",
    " - **Selección**: `df[\"columna\"]`, `df[[\"col1\", \"col2\"]]`, `.iloc[]`, `.loc[]` para acceder a subconjuntos\n",
    "\n",
    " - **Filtrado**: Operadores de comparación (`>`, `<`, `==`) y lógicos (`&`, `|`) para encontrar datos específicos\n",
    "\n",
    "\n",
    "\n",
    " ### **Transformación de Datos:**\n",
    "\n",
    " - **Nuevas columnas**: Operaciones matemáticas (`df[\"nueva\"] = df[\"col1\"] + df[\"col2\"]`)\n",
    "\n",
    " - **Categorización**: `pd.cut()` para rangos, `.apply()` para funciones personalizadas, `np.where()` para condicionales, `.map()` para mapeos\n",
    "\n",
    " - **Valores nulos**: `.isnull()` para detectar, `.fillna()` para rellenar, `.dropna()` para eliminar\n",
    "\n",
    "\n",
    "\n",
    " ### **Análisis Estadístico:**\n",
    "\n",
    " - **Agrupación**: `.groupby()` para dividir datos por categorías, `.agg()` para múltiples estadísticas\n",
    "\n",
    " - **Tablas cruzadas**: `pd.crosstab()` para relaciones entre variables categóricas\n",
    "\n",
    " - **Estadísticas descriptivas**: `.mean()`, `.std()`, `.value_counts()` para resumir datos\n",
    "\n",
    "\n",
    "\n",
    " ### **Visualización:**\n",
    "\n",
    " - **Histogramas**: `.plot(kind='hist')` para distribuciones de variables continuas\n",
    "\n",
    " - **Gráficos de barras**: `.plot(kind='bar')` para variables categóricas\n",
    "\n",
    " - **Box plots**: `.boxplot()` para comparar distribuciones entre grupos\n",
    "\n",
    " - **Scatter plots**: `.plot(kind='scatter')` para relaciones entre variables numéricas\n",
    "\n",
    "\n",
    "\n",
    " ### **Exportación:**\n",
    "\n",
    " - **Guardar datos**: `.to_csv()` para exportar DataFrames procesados\n",
    "\n",
    " - **Subconjuntos específicos**: Combinar filtros con `.to_csv()` para reportes personalizados\n",
    "\n",
    "\n",
    "\n",
    " ### **Flujo de trabajo típico en pandas:**\n",
    "\n",
    " 1. **Cargar** datos con `pd.read_csv()`\n",
    "\n",
    " 2. **Explorar** con `.head()`, `.info()`, `.describe()`\n",
    "\n",
    " 3. **Limpiar** valores nulos y datos problemáticos\n",
    "\n",
    " 4. **Transformar** creando nuevas variables necesarias\n",
    "\n",
    " 5. **Analizar** usando filtros, agrupaciones y estadísticas\n",
    "\n",
    " 6. **Visualizar** patrones y relaciones importantes\n",
    "\n",
    " 7. **Exportar** resultados para reportes o siguientes análisis\n",
    "\n",
    "\n",
    "\n",
    " ### **Próximos Pasos:**\n",
    "\n",
    " - Practicar con otros datasets médicos (diabetes, cáncer, estudios epidemiológicos)\n",
    "\n",
    " - Aprender visualizaciones más avanzadas con matplotlib y seaborn\n",
    "\n",
    " - Explorar técnicas de machine learning para predicción médica\n",
    "\n",
    " - Desarrollar dashboards interactivos con plotly o streamlit\n",
    "\n",
    " - Trabajar con datos de series temporales (evolución de pacientes)\n",
    "\n",
    " - Combinar múltiples fuentes de datos médicos\n",
    "\n",
    "\n",
    "\n",
    " ### **Recursos Adicionales:**\n",
    "\n",
    " - **Documentación oficial**: https://pandas.pydata.org/docs/user_guide/\n",
    "\n",
    " - **Ejercicios prácticos**: Kaggle Learn - Pandas Course\n",
    "\n",
    " - **Datasets médicos**: UCI ML Repository, Kaggle Healthcare datasets\n",
    "\n",
    " - **Libros recomendados**: \"Python for Data Analysis\" by Wes McKinney\n",
    "\n",
    " - **Comunidad**: Stack Overflow, Reddit r/datascience\n",
    "\n",
    "\n",
    "\n",
    " ### **Consejos para seguir aprendiendo:**\n",
    "\n",
    " - **Practica regularmente**: Analiza al menos un dataset nuevo por semana\n",
    "\n",
    " - **Documenta tu código**: Usa comentarios explicativos como en este notebook\n",
    "\n",
    " - **Comparte tu trabajo**: Sube análisis a GitHub para construir un portafolio\n",
    "\n",
    " - **Participa en competiciones**: Kaggle competitions para casos reales\n",
    "\n",
    " - **Lee código de otros**: GitHub, Kaggle kernels para ver diferentes aproximaciones\n",
    "\n",
    "\n",
    "\n",
    " **¡Felicidades!** Has completado la introducción a Pandas para análisis de datos médicos.\n",
    "\n",
    " Con estos conocimientos ya puedes:\n",
    "\n",
    " - Cargar y explorar datasets médicos reales\n",
    "\n",
    " - Identificar patrones en datos de salud\n",
    "\n",
    " - Crear variables clínicas derivadas\n",
    "\n",
    " - Generar reportes estadísticos para equipos médicos\n",
    "\n",
    " - Visualizar tendencias para comunicar hallazgos\n",
    "\n",
    " - Preparar datos para modelos predictivos\n",
    "\n",
    "\n",
    "\n",
    " **Recuerda**: El análisis de datos médicos requiere rigor y ética. Siempre:\n",
    "\n",
    " - Verifica la calidad de tus datos\n",
    "\n",
    " - Interpreta resultados con precaución clínica\n",
    "\n",
    " - Colabora con profesionales médicos\n",
    "\n",
    " - Respeta la privacidad de los pacientes\n",
    "\n",
    " - Documenta metodologías para reproducibilidad"
   ]
  }
 ],
 "metadata": {
  "kernelspec": {
   "display_name": "marc_priv",
   "language": "python",
   "name": "python3"
  },
  "language_info": {
   "codemirror_mode": {
    "name": "ipython",
    "version": 3
   },
   "file_extension": ".py",
   "mimetype": "text/x-python",
   "name": "python",
   "nbconvert_exporter": "python",
   "pygments_lexer": "ipython3",
   "version": "3.12.7"
  }
 },
 "nbformat": 4,
 "nbformat_minor": 2
}
