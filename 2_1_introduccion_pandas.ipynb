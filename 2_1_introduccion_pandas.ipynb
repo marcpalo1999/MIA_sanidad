{
 "cells": [
  {
   "cell_type": "markdown",
   "metadata": {},
   "source": [
    " <a href=\"https://colab.research.google.com/github/marcpalo1999/MIA_sanidad/blob/main/2_1_introduccion_pandas.ipynb\" target=\"_parent\"><img src=\"https://colab.research.google.com/assets/colab-badge.svg\" alt=\"Open In Colab\"/></a>"
   ]
  },
  {
   "cell_type": "markdown",
   "metadata": {},
   "source": [
    " # Setup - copy data from github to collab\n",
    "\n"
   ]
  },
  {
   "cell_type": "code",
   "execution_count": 2,
   "metadata": {},
   "outputs": [],
   "source": [
    "import os\n",
    "if not os.path.exists('../MIA_sanidad'):\n",
    "    !git clone https://github.com/marcpalo1999/MIA_sanidad.git\n",
    "os.chdir('../MIA_sanidad')\n"
   ]
  },
  {
   "cell_type": "markdown",
   "metadata": {},
   "source": [
    " # Introducción a Pandas con un Dataset Médico\n",
    "\n",
    "\n",
    "\n",
    " En este notebook vamos a aprender a usar `pandas` para:\n",
    "\n",
    "\n",
    "\n",
    " 1. Cargar un dataset en un DataFrame\n",
    "\n",
    " 2. Inspeccionar datos (ver filas, columnas, tipos)\n",
    "\n",
    " 3. Seleccionar y filtrar datos\n",
    "\n",
    " 4. Crear y transformar columnas\n",
    "\n",
    " 5. Hacer una exploración inicial básica\n",
    "\n",
    " 6. Trabajar con valores nulos\n",
    "\n",
    " 7. Agrupar y resumir información\n",
    "\n",
    " 8. Visualización básica con pandas\n",
    "\n",
    " 9. Guardar los resultados\n",
    "\n"
   ]
  },
  {
   "cell_type": "code",
   "execution_count": 83,
   "metadata": {},
   "outputs": [],
   "source": [
    "# Importar las librerías necesarias\n",
    "import pandas as pd\n",
    "import numpy as np\n",
    "import matplotlib.pyplot as plt\n",
    "import seaborn as sns\n"
   ]
  },
  {
   "cell_type": "code",
   "execution_count": 84,
   "metadata": {},
   "outputs": [],
   "source": [
    "# Cargar el dataset\n",
    "df = pd.read_csv(\"./data/heart_disease_dataset.csv\")\n",
    "\n",
    "# También podríamos cargar desde una URL directamente:\n",
    "# df = pd.read_csv(\"https://ejemplo.com/datos.csv\")\n",
    "\n",
    "# O desde Excel:\n",
    "# df = pd.read_excel(\"datos.xlsx\")\n"
   ]
  },
  {
   "cell_type": "markdown",
   "metadata": {},
   "source": [
    " ## Contexto del dataset\n",
    "\n",
    "\n",
    "\n",
    " Origen: https://archive.ics.uci.edu/dataset/45/heart+disease\n",
    "\n",
    "\n",
    "\n",
    " Este dataset contiene información médica de pacientes y su relación con enfermedades cardíacas.\n",
    "\n",
    " Las principales variables son:\n",
    "\n",
    "\n",
    "\n",
    " - `age`: Edad del paciente\n",
    "\n",
    " - `sex`: Sexo (0 = Mujer, 1 = Hombre)\n",
    "\n",
    " - `cp`: Tipo de dolor en el pecho (1-4)\n",
    "\n",
    " - `trestbps`: Presión arterial en reposo (mm Hg)\n",
    "\n",
    " - `chol`: Colesterol sérico en mg/dl\n",
    "\n",
    " - `fbs`: Glucosa en ayunas > 120 mg/dl (1 = verdadero; 0 = falso)\n",
    "\n",
    " - `restecg`: Resultados electrocardiográficos en reposo\n",
    "\n",
    " - `thalach`: Frecuencia cardíaca máxima alcanzada\n",
    "\n",
    " - `exang`: Angina inducida por ejercicio (1 = sí; 0 = no)\n",
    "\n",
    " - `oldpeak`: Depresión ST inducida por ejercicio\n",
    "\n",
    " - `slope`: Pendiente del segmento ST\n",
    "\n",
    " - `ca`: Número de vasos principales coloreados por fluoroscopia (0-3)\n",
    "\n",
    " - `thal`: 3 = normal; 6 = defecto fijo; 7 = defecto reversible\n",
    "\n",
    " - `num`: Diagnóstico de enfermedad cardíaca (0 = No, 1-4 = Sí)"
   ]
  },
  {
   "cell_type": "markdown",
   "metadata": {},
   "source": [
    " ## 1. Inspección básica del DataFrame\n",
    "\n",
    "\n",
    "\n",
    " Lo primero que hacemos siempre es conocer nuestros datos."
   ]
  },
  {
   "cell_type": "code",
   "execution_count": 85,
   "metadata": {},
   "outputs": [
    {
     "name": "stdout",
     "output_type": "stream",
     "text": [
      "Primeras 5 filas del dataset:\n"
     ]
    },
    {
     "data": {
      "application/vnd.microsoft.datawrangler.viewer.v0+json": {
       "columns": [
        {
         "name": "index",
         "rawType": "int64",
         "type": "integer"
        },
        {
         "name": "age",
         "rawType": "int64",
         "type": "integer"
        },
        {
         "name": "sex",
         "rawType": "int64",
         "type": "integer"
        },
        {
         "name": "cp",
         "rawType": "int64",
         "type": "integer"
        },
        {
         "name": "trestbps",
         "rawType": "int64",
         "type": "integer"
        },
        {
         "name": "chol",
         "rawType": "int64",
         "type": "integer"
        },
        {
         "name": "fbs",
         "rawType": "int64",
         "type": "integer"
        },
        {
         "name": "restecg",
         "rawType": "int64",
         "type": "integer"
        },
        {
         "name": "thalach",
         "rawType": "int64",
         "type": "integer"
        },
        {
         "name": "exang",
         "rawType": "int64",
         "type": "integer"
        },
        {
         "name": "oldpeak",
         "rawType": "float64",
         "type": "float"
        },
        {
         "name": "slope",
         "rawType": "int64",
         "type": "integer"
        },
        {
         "name": "ca",
         "rawType": "float64",
         "type": "float"
        },
        {
         "name": "thal",
         "rawType": "float64",
         "type": "float"
        },
        {
         "name": "num",
         "rawType": "int64",
         "type": "integer"
        }
       ],
       "ref": "629c09b8-56d9-42fe-ac16-87a1421318b6",
       "rows": [
        [
         "0",
         "63",
         "1",
         "1",
         "145",
         "233",
         "1",
         "2",
         "150",
         "0",
         "2.3",
         "3",
         "0.0",
         "6.0",
         "0"
        ],
        [
         "1",
         "67",
         "1",
         "4",
         "160",
         "286",
         "0",
         "2",
         "108",
         "1",
         "1.5",
         "2",
         "3.0",
         "3.0",
         "2"
        ],
        [
         "2",
         "67",
         "1",
         "4",
         "120",
         "229",
         "0",
         "2",
         "129",
         "1",
         "2.6",
         "2",
         "2.0",
         "7.0",
         "1"
        ],
        [
         "3",
         "37",
         "1",
         "3",
         "130",
         "250",
         "0",
         "0",
         "187",
         "0",
         "3.5",
         "3",
         "0.0",
         "3.0",
         "0"
        ],
        [
         "4",
         "41",
         "0",
         "2",
         "130",
         "204",
         "0",
         "2",
         "172",
         "0",
         "1.4",
         "1",
         "0.0",
         "3.0",
         "0"
        ]
       ],
       "shape": {
        "columns": 14,
        "rows": 5
       }
      },
      "text/html": [
       "<div>\n",
       "<style scoped>\n",
       "    .dataframe tbody tr th:only-of-type {\n",
       "        vertical-align: middle;\n",
       "    }\n",
       "\n",
       "    .dataframe tbody tr th {\n",
       "        vertical-align: top;\n",
       "    }\n",
       "\n",
       "    .dataframe thead th {\n",
       "        text-align: right;\n",
       "    }\n",
       "</style>\n",
       "<table border=\"1\" class=\"dataframe\">\n",
       "  <thead>\n",
       "    <tr style=\"text-align: right;\">\n",
       "      <th></th>\n",
       "      <th>age</th>\n",
       "      <th>sex</th>\n",
       "      <th>cp</th>\n",
       "      <th>trestbps</th>\n",
       "      <th>chol</th>\n",
       "      <th>fbs</th>\n",
       "      <th>restecg</th>\n",
       "      <th>thalach</th>\n",
       "      <th>exang</th>\n",
       "      <th>oldpeak</th>\n",
       "      <th>slope</th>\n",
       "      <th>ca</th>\n",
       "      <th>thal</th>\n",
       "      <th>num</th>\n",
       "    </tr>\n",
       "  </thead>\n",
       "  <tbody>\n",
       "    <tr>\n",
       "      <th>0</th>\n",
       "      <td>63</td>\n",
       "      <td>1</td>\n",
       "      <td>1</td>\n",
       "      <td>145</td>\n",
       "      <td>233</td>\n",
       "      <td>1</td>\n",
       "      <td>2</td>\n",
       "      <td>150</td>\n",
       "      <td>0</td>\n",
       "      <td>2.3</td>\n",
       "      <td>3</td>\n",
       "      <td>0.0</td>\n",
       "      <td>6.0</td>\n",
       "      <td>0</td>\n",
       "    </tr>\n",
       "    <tr>\n",
       "      <th>1</th>\n",
       "      <td>67</td>\n",
       "      <td>1</td>\n",
       "      <td>4</td>\n",
       "      <td>160</td>\n",
       "      <td>286</td>\n",
       "      <td>0</td>\n",
       "      <td>2</td>\n",
       "      <td>108</td>\n",
       "      <td>1</td>\n",
       "      <td>1.5</td>\n",
       "      <td>2</td>\n",
       "      <td>3.0</td>\n",
       "      <td>3.0</td>\n",
       "      <td>2</td>\n",
       "    </tr>\n",
       "    <tr>\n",
       "      <th>2</th>\n",
       "      <td>67</td>\n",
       "      <td>1</td>\n",
       "      <td>4</td>\n",
       "      <td>120</td>\n",
       "      <td>229</td>\n",
       "      <td>0</td>\n",
       "      <td>2</td>\n",
       "      <td>129</td>\n",
       "      <td>1</td>\n",
       "      <td>2.6</td>\n",
       "      <td>2</td>\n",
       "      <td>2.0</td>\n",
       "      <td>7.0</td>\n",
       "      <td>1</td>\n",
       "    </tr>\n",
       "    <tr>\n",
       "      <th>3</th>\n",
       "      <td>37</td>\n",
       "      <td>1</td>\n",
       "      <td>3</td>\n",
       "      <td>130</td>\n",
       "      <td>250</td>\n",
       "      <td>0</td>\n",
       "      <td>0</td>\n",
       "      <td>187</td>\n",
       "      <td>0</td>\n",
       "      <td>3.5</td>\n",
       "      <td>3</td>\n",
       "      <td>0.0</td>\n",
       "      <td>3.0</td>\n",
       "      <td>0</td>\n",
       "    </tr>\n",
       "    <tr>\n",
       "      <th>4</th>\n",
       "      <td>41</td>\n",
       "      <td>0</td>\n",
       "      <td>2</td>\n",
       "      <td>130</td>\n",
       "      <td>204</td>\n",
       "      <td>0</td>\n",
       "      <td>2</td>\n",
       "      <td>172</td>\n",
       "      <td>0</td>\n",
       "      <td>1.4</td>\n",
       "      <td>1</td>\n",
       "      <td>0.0</td>\n",
       "      <td>3.0</td>\n",
       "      <td>0</td>\n",
       "    </tr>\n",
       "  </tbody>\n",
       "</table>\n",
       "</div>"
      ],
      "text/plain": [
       "   age  sex  cp  trestbps  chol  fbs  restecg  thalach  exang  oldpeak  slope  \\\n",
       "0   63    1   1       145   233    1        2      150      0      2.3      3   \n",
       "1   67    1   4       160   286    0        2      108      1      1.5      2   \n",
       "2   67    1   4       120   229    0        2      129      1      2.6      2   \n",
       "3   37    1   3       130   250    0        0      187      0      3.5      3   \n",
       "4   41    0   2       130   204    0        2      172      0      1.4      1   \n",
       "\n",
       "    ca  thal  num  \n",
       "0  0.0   6.0    0  \n",
       "1  3.0   3.0    2  \n",
       "2  2.0   7.0    1  \n",
       "3  0.0   3.0    0  \n",
       "4  0.0   3.0    0  "
      ]
     },
     "execution_count": 85,
     "metadata": {},
     "output_type": "execute_result"
    }
   ],
   "source": [
    "# Ver las primeras filas\n",
    "print(\"Primeras 5 filas del dataset:\")\n",
    "df.head()\n"
   ]
  },
  {
   "cell_type": "code",
   "execution_count": 86,
   "metadata": {},
   "outputs": [
    {
     "name": "stdout",
     "output_type": "stream",
     "text": [
      "Últimas 3 filas:\n"
     ]
    },
    {
     "data": {
      "application/vnd.microsoft.datawrangler.viewer.v0+json": {
       "columns": [
        {
         "name": "index",
         "rawType": "int64",
         "type": "integer"
        },
        {
         "name": "age",
         "rawType": "int64",
         "type": "integer"
        },
        {
         "name": "sex",
         "rawType": "int64",
         "type": "integer"
        },
        {
         "name": "cp",
         "rawType": "int64",
         "type": "integer"
        },
        {
         "name": "trestbps",
         "rawType": "int64",
         "type": "integer"
        },
        {
         "name": "chol",
         "rawType": "int64",
         "type": "integer"
        },
        {
         "name": "fbs",
         "rawType": "int64",
         "type": "integer"
        },
        {
         "name": "restecg",
         "rawType": "int64",
         "type": "integer"
        },
        {
         "name": "thalach",
         "rawType": "int64",
         "type": "integer"
        },
        {
         "name": "exang",
         "rawType": "int64",
         "type": "integer"
        },
        {
         "name": "oldpeak",
         "rawType": "float64",
         "type": "float"
        },
        {
         "name": "slope",
         "rawType": "int64",
         "type": "integer"
        },
        {
         "name": "ca",
         "rawType": "float64",
         "type": "float"
        },
        {
         "name": "thal",
         "rawType": "float64",
         "type": "float"
        },
        {
         "name": "num",
         "rawType": "int64",
         "type": "integer"
        }
       ],
       "ref": "00b45270-8e31-4e94-8c9f-1a2f85405253",
       "rows": [
        [
         "300",
         "57",
         "1",
         "4",
         "130",
         "131",
         "0",
         "0",
         "115",
         "1",
         "1.2",
         "2",
         "1.0",
         "7.0",
         "3"
        ],
        [
         "301",
         "57",
         "0",
         "2",
         "130",
         "236",
         "0",
         "2",
         "174",
         "0",
         "0.0",
         "2",
         "1.0",
         "3.0",
         "1"
        ],
        [
         "302",
         "38",
         "1",
         "3",
         "138",
         "175",
         "0",
         "0",
         "173",
         "0",
         "0.0",
         "1",
         null,
         "3.0",
         "0"
        ]
       ],
       "shape": {
        "columns": 14,
        "rows": 3
       }
      },
      "text/html": [
       "<div>\n",
       "<style scoped>\n",
       "    .dataframe tbody tr th:only-of-type {\n",
       "        vertical-align: middle;\n",
       "    }\n",
       "\n",
       "    .dataframe tbody tr th {\n",
       "        vertical-align: top;\n",
       "    }\n",
       "\n",
       "    .dataframe thead th {\n",
       "        text-align: right;\n",
       "    }\n",
       "</style>\n",
       "<table border=\"1\" class=\"dataframe\">\n",
       "  <thead>\n",
       "    <tr style=\"text-align: right;\">\n",
       "      <th></th>\n",
       "      <th>age</th>\n",
       "      <th>sex</th>\n",
       "      <th>cp</th>\n",
       "      <th>trestbps</th>\n",
       "      <th>chol</th>\n",
       "      <th>fbs</th>\n",
       "      <th>restecg</th>\n",
       "      <th>thalach</th>\n",
       "      <th>exang</th>\n",
       "      <th>oldpeak</th>\n",
       "      <th>slope</th>\n",
       "      <th>ca</th>\n",
       "      <th>thal</th>\n",
       "      <th>num</th>\n",
       "    </tr>\n",
       "  </thead>\n",
       "  <tbody>\n",
       "    <tr>\n",
       "      <th>300</th>\n",
       "      <td>57</td>\n",
       "      <td>1</td>\n",
       "      <td>4</td>\n",
       "      <td>130</td>\n",
       "      <td>131</td>\n",
       "      <td>0</td>\n",
       "      <td>0</td>\n",
       "      <td>115</td>\n",
       "      <td>1</td>\n",
       "      <td>1.2</td>\n",
       "      <td>2</td>\n",
       "      <td>1.0</td>\n",
       "      <td>7.0</td>\n",
       "      <td>3</td>\n",
       "    </tr>\n",
       "    <tr>\n",
       "      <th>301</th>\n",
       "      <td>57</td>\n",
       "      <td>0</td>\n",
       "      <td>2</td>\n",
       "      <td>130</td>\n",
       "      <td>236</td>\n",
       "      <td>0</td>\n",
       "      <td>2</td>\n",
       "      <td>174</td>\n",
       "      <td>0</td>\n",
       "      <td>0.0</td>\n",
       "      <td>2</td>\n",
       "      <td>1.0</td>\n",
       "      <td>3.0</td>\n",
       "      <td>1</td>\n",
       "    </tr>\n",
       "    <tr>\n",
       "      <th>302</th>\n",
       "      <td>38</td>\n",
       "      <td>1</td>\n",
       "      <td>3</td>\n",
       "      <td>138</td>\n",
       "      <td>175</td>\n",
       "      <td>0</td>\n",
       "      <td>0</td>\n",
       "      <td>173</td>\n",
       "      <td>0</td>\n",
       "      <td>0.0</td>\n",
       "      <td>1</td>\n",
       "      <td>NaN</td>\n",
       "      <td>3.0</td>\n",
       "      <td>0</td>\n",
       "    </tr>\n",
       "  </tbody>\n",
       "</table>\n",
       "</div>"
      ],
      "text/plain": [
       "     age  sex  cp  trestbps  chol  fbs  restecg  thalach  exang  oldpeak  \\\n",
       "300   57    1   4       130   131    0        0      115      1      1.2   \n",
       "301   57    0   2       130   236    0        2      174      0      0.0   \n",
       "302   38    1   3       138   175    0        0      173      0      0.0   \n",
       "\n",
       "     slope   ca  thal  num  \n",
       "300      2  1.0   7.0    3  \n",
       "301      2  1.0   3.0    1  \n",
       "302      1  NaN   3.0    0  "
      ]
     },
     "execution_count": 86,
     "metadata": {},
     "output_type": "execute_result"
    }
   ],
   "source": [
    "# También podemos ver las últimas filas\n",
    "print(\"Últimas 3 filas:\")\n",
    "df.tail(3)\n"
   ]
  },
  {
   "cell_type": "code",
   "execution_count": 87,
   "metadata": {},
   "outputs": [
    {
     "name": "stdout",
     "output_type": "stream",
     "text": [
      "Muestra aleatoria de 5 filas:\n"
     ]
    },
    {
     "data": {
      "application/vnd.microsoft.datawrangler.viewer.v0+json": {
       "columns": [
        {
         "name": "index",
         "rawType": "int64",
         "type": "integer"
        },
        {
         "name": "age",
         "rawType": "int64",
         "type": "integer"
        },
        {
         "name": "sex",
         "rawType": "int64",
         "type": "integer"
        },
        {
         "name": "cp",
         "rawType": "int64",
         "type": "integer"
        },
        {
         "name": "trestbps",
         "rawType": "int64",
         "type": "integer"
        },
        {
         "name": "chol",
         "rawType": "int64",
         "type": "integer"
        },
        {
         "name": "fbs",
         "rawType": "int64",
         "type": "integer"
        },
        {
         "name": "restecg",
         "rawType": "int64",
         "type": "integer"
        },
        {
         "name": "thalach",
         "rawType": "int64",
         "type": "integer"
        },
        {
         "name": "exang",
         "rawType": "int64",
         "type": "integer"
        },
        {
         "name": "oldpeak",
         "rawType": "float64",
         "type": "float"
        },
        {
         "name": "slope",
         "rawType": "int64",
         "type": "integer"
        },
        {
         "name": "ca",
         "rawType": "float64",
         "type": "float"
        },
        {
         "name": "thal",
         "rawType": "float64",
         "type": "float"
        },
        {
         "name": "num",
         "rawType": "int64",
         "type": "integer"
        }
       ],
       "ref": "e6b24f26-fabd-49e9-8f5d-a8cbe999bcd1",
       "rows": [
        [
         "263",
         "44",
         "1",
         "3",
         "120",
         "226",
         "0",
         "0",
         "169",
         "0",
         "0.0",
         "1",
         "0.0",
         "3.0",
         "0"
        ],
        [
         "15",
         "57",
         "1",
         "3",
         "150",
         "168",
         "0",
         "0",
         "174",
         "0",
         "1.6",
         "1",
         "0.0",
         "3.0",
         "0"
        ],
        [
         "40",
         "65",
         "0",
         "4",
         "150",
         "225",
         "0",
         "2",
         "114",
         "0",
         "1.0",
         "2",
         "3.0",
         "7.0",
         "4"
        ],
        [
         "4",
         "41",
         "0",
         "2",
         "130",
         "204",
         "0",
         "2",
         "172",
         "0",
         "1.4",
         "1",
         "0.0",
         "3.0",
         "0"
        ],
        [
         "81",
         "53",
         "0",
         "4",
         "130",
         "264",
         "0",
         "2",
         "143",
         "0",
         "0.4",
         "2",
         "0.0",
         "3.0",
         "0"
        ]
       ],
       "shape": {
        "columns": 14,
        "rows": 5
       }
      },
      "text/html": [
       "<div>\n",
       "<style scoped>\n",
       "    .dataframe tbody tr th:only-of-type {\n",
       "        vertical-align: middle;\n",
       "    }\n",
       "\n",
       "    .dataframe tbody tr th {\n",
       "        vertical-align: top;\n",
       "    }\n",
       "\n",
       "    .dataframe thead th {\n",
       "        text-align: right;\n",
       "    }\n",
       "</style>\n",
       "<table border=\"1\" class=\"dataframe\">\n",
       "  <thead>\n",
       "    <tr style=\"text-align: right;\">\n",
       "      <th></th>\n",
       "      <th>age</th>\n",
       "      <th>sex</th>\n",
       "      <th>cp</th>\n",
       "      <th>trestbps</th>\n",
       "      <th>chol</th>\n",
       "      <th>fbs</th>\n",
       "      <th>restecg</th>\n",
       "      <th>thalach</th>\n",
       "      <th>exang</th>\n",
       "      <th>oldpeak</th>\n",
       "      <th>slope</th>\n",
       "      <th>ca</th>\n",
       "      <th>thal</th>\n",
       "      <th>num</th>\n",
       "    </tr>\n",
       "  </thead>\n",
       "  <tbody>\n",
       "    <tr>\n",
       "      <th>263</th>\n",
       "      <td>44</td>\n",
       "      <td>1</td>\n",
       "      <td>3</td>\n",
       "      <td>120</td>\n",
       "      <td>226</td>\n",
       "      <td>0</td>\n",
       "      <td>0</td>\n",
       "      <td>169</td>\n",
       "      <td>0</td>\n",
       "      <td>0.0</td>\n",
       "      <td>1</td>\n",
       "      <td>0.0</td>\n",
       "      <td>3.0</td>\n",
       "      <td>0</td>\n",
       "    </tr>\n",
       "    <tr>\n",
       "      <th>15</th>\n",
       "      <td>57</td>\n",
       "      <td>1</td>\n",
       "      <td>3</td>\n",
       "      <td>150</td>\n",
       "      <td>168</td>\n",
       "      <td>0</td>\n",
       "      <td>0</td>\n",
       "      <td>174</td>\n",
       "      <td>0</td>\n",
       "      <td>1.6</td>\n",
       "      <td>1</td>\n",
       "      <td>0.0</td>\n",
       "      <td>3.0</td>\n",
       "      <td>0</td>\n",
       "    </tr>\n",
       "    <tr>\n",
       "      <th>40</th>\n",
       "      <td>65</td>\n",
       "      <td>0</td>\n",
       "      <td>4</td>\n",
       "      <td>150</td>\n",
       "      <td>225</td>\n",
       "      <td>0</td>\n",
       "      <td>2</td>\n",
       "      <td>114</td>\n",
       "      <td>0</td>\n",
       "      <td>1.0</td>\n",
       "      <td>2</td>\n",
       "      <td>3.0</td>\n",
       "      <td>7.0</td>\n",
       "      <td>4</td>\n",
       "    </tr>\n",
       "    <tr>\n",
       "      <th>4</th>\n",
       "      <td>41</td>\n",
       "      <td>0</td>\n",
       "      <td>2</td>\n",
       "      <td>130</td>\n",
       "      <td>204</td>\n",
       "      <td>0</td>\n",
       "      <td>2</td>\n",
       "      <td>172</td>\n",
       "      <td>0</td>\n",
       "      <td>1.4</td>\n",
       "      <td>1</td>\n",
       "      <td>0.0</td>\n",
       "      <td>3.0</td>\n",
       "      <td>0</td>\n",
       "    </tr>\n",
       "    <tr>\n",
       "      <th>81</th>\n",
       "      <td>53</td>\n",
       "      <td>0</td>\n",
       "      <td>4</td>\n",
       "      <td>130</td>\n",
       "      <td>264</td>\n",
       "      <td>0</td>\n",
       "      <td>2</td>\n",
       "      <td>143</td>\n",
       "      <td>0</td>\n",
       "      <td>0.4</td>\n",
       "      <td>2</td>\n",
       "      <td>0.0</td>\n",
       "      <td>3.0</td>\n",
       "      <td>0</td>\n",
       "    </tr>\n",
       "  </tbody>\n",
       "</table>\n",
       "</div>"
      ],
      "text/plain": [
       "     age  sex  cp  trestbps  chol  fbs  restecg  thalach  exang  oldpeak  \\\n",
       "263   44    1   3       120   226    0        0      169      0      0.0   \n",
       "15    57    1   3       150   168    0        0      174      0      1.6   \n",
       "40    65    0   4       150   225    0        2      114      0      1.0   \n",
       "4     41    0   2       130   204    0        2      172      0      1.4   \n",
       "81    53    0   4       130   264    0        2      143      0      0.4   \n",
       "\n",
       "     slope   ca  thal  num  \n",
       "263      1  0.0   3.0    0  \n",
       "15       1  0.0   3.0    0  \n",
       "40       2  3.0   7.0    4  \n",
       "4        1  0.0   3.0    0  \n",
       "81       2  0.0   3.0    0  "
      ]
     },
     "execution_count": 87,
     "metadata": {},
     "output_type": "execute_result"
    }
   ],
   "source": [
    "# Ver una muestra aleatoria de datos\n",
    "print(\"Muestra aleatoria de 5 filas:\")\n",
    "df.sample(5)\n"
   ]
  },
  {
   "cell_type": "code",
   "execution_count": 88,
   "metadata": {},
   "outputs": [
    {
     "name": "stdout",
     "output_type": "stream",
     "text": [
      "El dataset tiene 303 filas y 14 columnas\n",
      "Dimensiones: (303, 14)\n"
     ]
    }
   ],
   "source": [
    "# Dimensiones del DataFrame\n",
    "print(f\"El dataset tiene {df.shape[0]} filas y {df.shape[1]} columnas\")\n",
    "print(f\"Dimensiones: {df.shape}\")\n"
   ]
  },
  {
   "cell_type": "code",
   "execution_count": 89,
   "metadata": {},
   "outputs": [
    {
     "name": "stdout",
     "output_type": "stream",
     "text": [
      "Columnas disponibles:\n",
      "Index(['age', 'sex', 'cp', 'trestbps', 'chol', 'fbs', 'restecg', 'thalach',\n",
      "       'exang', 'oldpeak', 'slope', 'ca', 'thal', 'num'],\n",
      "      dtype='object')\n"
     ]
    }
   ],
   "source": [
    "# Ver los nombres de las columnas\n",
    "print(\"Columnas disponibles:\")\n",
    "print(df.columns)\n"
   ]
  },
  {
   "cell_type": "code",
   "execution_count": 90,
   "metadata": {},
   "outputs": [
    {
     "name": "stdout",
     "output_type": "stream",
     "text": [
      "Tipos de datos:\n",
      "age           int64\n",
      "sex           int64\n",
      "cp            int64\n",
      "trestbps      int64\n",
      "chol          int64\n",
      "fbs           int64\n",
      "restecg       int64\n",
      "thalach       int64\n",
      "exang         int64\n",
      "oldpeak     float64\n",
      "slope         int64\n",
      "ca          float64\n",
      "thal        float64\n",
      "num           int64\n",
      "dtype: object\n"
     ]
    }
   ],
   "source": [
    "# Tipos de datos de cada columna\n",
    "print(\"Tipos de datos:\")\n",
    "print(df.dtypes)\n"
   ]
  },
  {
   "cell_type": "code",
   "execution_count": 91,
   "metadata": {},
   "outputs": [
    {
     "name": "stdout",
     "output_type": "stream",
     "text": [
      "Información general del dataset:\n",
      "<class 'pandas.core.frame.DataFrame'>\n",
      "RangeIndex: 303 entries, 0 to 302\n",
      "Data columns (total 14 columns):\n",
      " #   Column    Non-Null Count  Dtype  \n",
      "---  ------    --------------  -----  \n",
      " 0   age       303 non-null    int64  \n",
      " 1   sex       303 non-null    int64  \n",
      " 2   cp        303 non-null    int64  \n",
      " 3   trestbps  303 non-null    int64  \n",
      " 4   chol      303 non-null    int64  \n",
      " 5   fbs       303 non-null    int64  \n",
      " 6   restecg   303 non-null    int64  \n",
      " 7   thalach   303 non-null    int64  \n",
      " 8   exang     303 non-null    int64  \n",
      " 9   oldpeak   303 non-null    float64\n",
      " 10  slope     303 non-null    int64  \n",
      " 11  ca        299 non-null    float64\n",
      " 12  thal      301 non-null    float64\n",
      " 13  num       303 non-null    int64  \n",
      "dtypes: float64(3), int64(11)\n",
      "memory usage: 33.3 KB\n"
     ]
    }
   ],
   "source": [
    "# Información general del DataFrame\n",
    "# Esto es muy útil para ver tipos y valores nulos de un vistazo\n",
    "print(\"Información general del dataset:\")\n",
    "df.info()\n"
   ]
  },
  {
   "cell_type": "code",
   "execution_count": 92,
   "metadata": {},
   "outputs": [
    {
     "name": "stdout",
     "output_type": "stream",
     "text": [
      "Estadísticas descriptivas básicas:\n"
     ]
    },
    {
     "data": {
      "application/vnd.microsoft.datawrangler.viewer.v0+json": {
       "columns": [
        {
         "name": "index",
         "rawType": "object",
         "type": "string"
        },
        {
         "name": "age",
         "rawType": "float64",
         "type": "float"
        },
        {
         "name": "sex",
         "rawType": "float64",
         "type": "float"
        },
        {
         "name": "cp",
         "rawType": "float64",
         "type": "float"
        },
        {
         "name": "trestbps",
         "rawType": "float64",
         "type": "float"
        },
        {
         "name": "chol",
         "rawType": "float64",
         "type": "float"
        },
        {
         "name": "fbs",
         "rawType": "float64",
         "type": "float"
        },
        {
         "name": "restecg",
         "rawType": "float64",
         "type": "float"
        },
        {
         "name": "thalach",
         "rawType": "float64",
         "type": "float"
        },
        {
         "name": "exang",
         "rawType": "float64",
         "type": "float"
        },
        {
         "name": "oldpeak",
         "rawType": "float64",
         "type": "float"
        },
        {
         "name": "slope",
         "rawType": "float64",
         "type": "float"
        },
        {
         "name": "ca",
         "rawType": "float64",
         "type": "float"
        },
        {
         "name": "thal",
         "rawType": "float64",
         "type": "float"
        },
        {
         "name": "num",
         "rawType": "float64",
         "type": "float"
        }
       ],
       "ref": "483557de-86d3-427e-b4ff-90ccced04f88",
       "rows": [
        [
         "count",
         "303.0",
         "303.0",
         "303.0",
         "303.0",
         "303.0",
         "303.0",
         "303.0",
         "303.0",
         "303.0",
         "303.0",
         "303.0",
         "299.0",
         "301.0",
         "303.0"
        ],
        [
         "mean",
         "54.43894389438944",
         "0.6798679867986799",
         "3.1584158415841586",
         "131.68976897689768",
         "246.69306930693068",
         "0.1485148514851485",
         "0.9900990099009901",
         "149.6072607260726",
         "0.32673267326732675",
         "1.0396039603960396",
         "1.6006600660066006",
         "0.6722408026755853",
         "4.73421926910299",
         "0.9372937293729373"
        ],
        [
         "std",
         "9.038662442446743",
         "0.4672988277701313",
         "0.9601256119600123",
         "17.59974772958769",
         "51.776917542637015",
         "0.35619787492797605",
         "0.9949712915251797",
         "22.875003276980376",
         "0.46979446452231716",
         "1.161075022068634",
         "0.6162261453459627",
         "0.9374383177242157",
         "1.9397057693786417",
         "1.2285356879701044"
        ],
        [
         "min",
         "29.0",
         "0.0",
         "1.0",
         "94.0",
         "126.0",
         "0.0",
         "0.0",
         "71.0",
         "0.0",
         "0.0",
         "1.0",
         "0.0",
         "3.0",
         "0.0"
        ],
        [
         "25%",
         "48.0",
         "0.0",
         "3.0",
         "120.0",
         "211.0",
         "0.0",
         "0.0",
         "133.5",
         "0.0",
         "0.0",
         "1.0",
         "0.0",
         "3.0",
         "0.0"
        ],
        [
         "50%",
         "56.0",
         "1.0",
         "3.0",
         "130.0",
         "241.0",
         "0.0",
         "1.0",
         "153.0",
         "0.0",
         "0.8",
         "2.0",
         "0.0",
         "3.0",
         "0.0"
        ],
        [
         "75%",
         "61.0",
         "1.0",
         "4.0",
         "140.0",
         "275.0",
         "0.0",
         "2.0",
         "166.0",
         "1.0",
         "1.6",
         "2.0",
         "1.0",
         "7.0",
         "2.0"
        ],
        [
         "max",
         "77.0",
         "1.0",
         "4.0",
         "200.0",
         "564.0",
         "1.0",
         "2.0",
         "202.0",
         "1.0",
         "6.2",
         "3.0",
         "3.0",
         "7.0",
         "4.0"
        ]
       ],
       "shape": {
        "columns": 14,
        "rows": 8
       }
      },
      "text/html": [
       "<div>\n",
       "<style scoped>\n",
       "    .dataframe tbody tr th:only-of-type {\n",
       "        vertical-align: middle;\n",
       "    }\n",
       "\n",
       "    .dataframe tbody tr th {\n",
       "        vertical-align: top;\n",
       "    }\n",
       "\n",
       "    .dataframe thead th {\n",
       "        text-align: right;\n",
       "    }\n",
       "</style>\n",
       "<table border=\"1\" class=\"dataframe\">\n",
       "  <thead>\n",
       "    <tr style=\"text-align: right;\">\n",
       "      <th></th>\n",
       "      <th>age</th>\n",
       "      <th>sex</th>\n",
       "      <th>cp</th>\n",
       "      <th>trestbps</th>\n",
       "      <th>chol</th>\n",
       "      <th>fbs</th>\n",
       "      <th>restecg</th>\n",
       "      <th>thalach</th>\n",
       "      <th>exang</th>\n",
       "      <th>oldpeak</th>\n",
       "      <th>slope</th>\n",
       "      <th>ca</th>\n",
       "      <th>thal</th>\n",
       "      <th>num</th>\n",
       "    </tr>\n",
       "  </thead>\n",
       "  <tbody>\n",
       "    <tr>\n",
       "      <th>count</th>\n",
       "      <td>303.000000</td>\n",
       "      <td>303.000000</td>\n",
       "      <td>303.000000</td>\n",
       "      <td>303.000000</td>\n",
       "      <td>303.000000</td>\n",
       "      <td>303.000000</td>\n",
       "      <td>303.000000</td>\n",
       "      <td>303.000000</td>\n",
       "      <td>303.000000</td>\n",
       "      <td>303.000000</td>\n",
       "      <td>303.000000</td>\n",
       "      <td>299.000000</td>\n",
       "      <td>301.000000</td>\n",
       "      <td>303.000000</td>\n",
       "    </tr>\n",
       "    <tr>\n",
       "      <th>mean</th>\n",
       "      <td>54.438944</td>\n",
       "      <td>0.679868</td>\n",
       "      <td>3.158416</td>\n",
       "      <td>131.689769</td>\n",
       "      <td>246.693069</td>\n",
       "      <td>0.148515</td>\n",
       "      <td>0.990099</td>\n",
       "      <td>149.607261</td>\n",
       "      <td>0.326733</td>\n",
       "      <td>1.039604</td>\n",
       "      <td>1.600660</td>\n",
       "      <td>0.672241</td>\n",
       "      <td>4.734219</td>\n",
       "      <td>0.937294</td>\n",
       "    </tr>\n",
       "    <tr>\n",
       "      <th>std</th>\n",
       "      <td>9.038662</td>\n",
       "      <td>0.467299</td>\n",
       "      <td>0.960126</td>\n",
       "      <td>17.599748</td>\n",
       "      <td>51.776918</td>\n",
       "      <td>0.356198</td>\n",
       "      <td>0.994971</td>\n",
       "      <td>22.875003</td>\n",
       "      <td>0.469794</td>\n",
       "      <td>1.161075</td>\n",
       "      <td>0.616226</td>\n",
       "      <td>0.937438</td>\n",
       "      <td>1.939706</td>\n",
       "      <td>1.228536</td>\n",
       "    </tr>\n",
       "    <tr>\n",
       "      <th>min</th>\n",
       "      <td>29.000000</td>\n",
       "      <td>0.000000</td>\n",
       "      <td>1.000000</td>\n",
       "      <td>94.000000</td>\n",
       "      <td>126.000000</td>\n",
       "      <td>0.000000</td>\n",
       "      <td>0.000000</td>\n",
       "      <td>71.000000</td>\n",
       "      <td>0.000000</td>\n",
       "      <td>0.000000</td>\n",
       "      <td>1.000000</td>\n",
       "      <td>0.000000</td>\n",
       "      <td>3.000000</td>\n",
       "      <td>0.000000</td>\n",
       "    </tr>\n",
       "    <tr>\n",
       "      <th>25%</th>\n",
       "      <td>48.000000</td>\n",
       "      <td>0.000000</td>\n",
       "      <td>3.000000</td>\n",
       "      <td>120.000000</td>\n",
       "      <td>211.000000</td>\n",
       "      <td>0.000000</td>\n",
       "      <td>0.000000</td>\n",
       "      <td>133.500000</td>\n",
       "      <td>0.000000</td>\n",
       "      <td>0.000000</td>\n",
       "      <td>1.000000</td>\n",
       "      <td>0.000000</td>\n",
       "      <td>3.000000</td>\n",
       "      <td>0.000000</td>\n",
       "    </tr>\n",
       "    <tr>\n",
       "      <th>50%</th>\n",
       "      <td>56.000000</td>\n",
       "      <td>1.000000</td>\n",
       "      <td>3.000000</td>\n",
       "      <td>130.000000</td>\n",
       "      <td>241.000000</td>\n",
       "      <td>0.000000</td>\n",
       "      <td>1.000000</td>\n",
       "      <td>153.000000</td>\n",
       "      <td>0.000000</td>\n",
       "      <td>0.800000</td>\n",
       "      <td>2.000000</td>\n",
       "      <td>0.000000</td>\n",
       "      <td>3.000000</td>\n",
       "      <td>0.000000</td>\n",
       "    </tr>\n",
       "    <tr>\n",
       "      <th>75%</th>\n",
       "      <td>61.000000</td>\n",
       "      <td>1.000000</td>\n",
       "      <td>4.000000</td>\n",
       "      <td>140.000000</td>\n",
       "      <td>275.000000</td>\n",
       "      <td>0.000000</td>\n",
       "      <td>2.000000</td>\n",
       "      <td>166.000000</td>\n",
       "      <td>1.000000</td>\n",
       "      <td>1.600000</td>\n",
       "      <td>2.000000</td>\n",
       "      <td>1.000000</td>\n",
       "      <td>7.000000</td>\n",
       "      <td>2.000000</td>\n",
       "    </tr>\n",
       "    <tr>\n",
       "      <th>max</th>\n",
       "      <td>77.000000</td>\n",
       "      <td>1.000000</td>\n",
       "      <td>4.000000</td>\n",
       "      <td>200.000000</td>\n",
       "      <td>564.000000</td>\n",
       "      <td>1.000000</td>\n",
       "      <td>2.000000</td>\n",
       "      <td>202.000000</td>\n",
       "      <td>1.000000</td>\n",
       "      <td>6.200000</td>\n",
       "      <td>3.000000</td>\n",
       "      <td>3.000000</td>\n",
       "      <td>7.000000</td>\n",
       "      <td>4.000000</td>\n",
       "    </tr>\n",
       "  </tbody>\n",
       "</table>\n",
       "</div>"
      ],
      "text/plain": [
       "              age         sex          cp    trestbps        chol         fbs  \\\n",
       "count  303.000000  303.000000  303.000000  303.000000  303.000000  303.000000   \n",
       "mean    54.438944    0.679868    3.158416  131.689769  246.693069    0.148515   \n",
       "std      9.038662    0.467299    0.960126   17.599748   51.776918    0.356198   \n",
       "min     29.000000    0.000000    1.000000   94.000000  126.000000    0.000000   \n",
       "25%     48.000000    0.000000    3.000000  120.000000  211.000000    0.000000   \n",
       "50%     56.000000    1.000000    3.000000  130.000000  241.000000    0.000000   \n",
       "75%     61.000000    1.000000    4.000000  140.000000  275.000000    0.000000   \n",
       "max     77.000000    1.000000    4.000000  200.000000  564.000000    1.000000   \n",
       "\n",
       "          restecg     thalach       exang     oldpeak       slope          ca  \\\n",
       "count  303.000000  303.000000  303.000000  303.000000  303.000000  299.000000   \n",
       "mean     0.990099  149.607261    0.326733    1.039604    1.600660    0.672241   \n",
       "std      0.994971   22.875003    0.469794    1.161075    0.616226    0.937438   \n",
       "min      0.000000   71.000000    0.000000    0.000000    1.000000    0.000000   \n",
       "25%      0.000000  133.500000    0.000000    0.000000    1.000000    0.000000   \n",
       "50%      1.000000  153.000000    0.000000    0.800000    2.000000    0.000000   \n",
       "75%      2.000000  166.000000    1.000000    1.600000    2.000000    1.000000   \n",
       "max      2.000000  202.000000    1.000000    6.200000    3.000000    3.000000   \n",
       "\n",
       "             thal         num  \n",
       "count  301.000000  303.000000  \n",
       "mean     4.734219    0.937294  \n",
       "std      1.939706    1.228536  \n",
       "min      3.000000    0.000000  \n",
       "25%      3.000000    0.000000  \n",
       "50%      3.000000    0.000000  \n",
       "75%      7.000000    2.000000  \n",
       "max      7.000000    4.000000  "
      ]
     },
     "execution_count": 92,
     "metadata": {},
     "output_type": "execute_result"
    }
   ],
   "source": [
    "# Resumen estadístico rápido\n",
    "print(\"Estadísticas descriptivas básicas:\")\n",
    "df.describe()\n"
   ]
  },
  {
   "cell_type": "code",
   "execution_count": 93,
   "metadata": {},
   "outputs": [
    {
     "name": "stdout",
     "output_type": "stream",
     "text": [
      "Estadísticas incluyendo todas las columnas:\n"
     ]
    },
    {
     "data": {
      "application/vnd.microsoft.datawrangler.viewer.v0+json": {
       "columns": [
        {
         "name": "index",
         "rawType": "object",
         "type": "string"
        },
        {
         "name": "age",
         "rawType": "float64",
         "type": "float"
        },
        {
         "name": "sex",
         "rawType": "float64",
         "type": "float"
        },
        {
         "name": "cp",
         "rawType": "float64",
         "type": "float"
        },
        {
         "name": "trestbps",
         "rawType": "float64",
         "type": "float"
        },
        {
         "name": "chol",
         "rawType": "float64",
         "type": "float"
        },
        {
         "name": "fbs",
         "rawType": "float64",
         "type": "float"
        },
        {
         "name": "restecg",
         "rawType": "float64",
         "type": "float"
        },
        {
         "name": "thalach",
         "rawType": "float64",
         "type": "float"
        },
        {
         "name": "exang",
         "rawType": "float64",
         "type": "float"
        },
        {
         "name": "oldpeak",
         "rawType": "float64",
         "type": "float"
        },
        {
         "name": "slope",
         "rawType": "float64",
         "type": "float"
        },
        {
         "name": "ca",
         "rawType": "float64",
         "type": "float"
        },
        {
         "name": "thal",
         "rawType": "float64",
         "type": "float"
        },
        {
         "name": "num",
         "rawType": "float64",
         "type": "float"
        }
       ],
       "ref": "90b763ef-8191-4558-81b9-740022eb1e01",
       "rows": [
        [
         "count",
         "303.0",
         "303.0",
         "303.0",
         "303.0",
         "303.0",
         "303.0",
         "303.0",
         "303.0",
         "303.0",
         "303.0",
         "303.0",
         "299.0",
         "301.0",
         "303.0"
        ],
        [
         "mean",
         "54.43894389438944",
         "0.6798679867986799",
         "3.1584158415841586",
         "131.68976897689768",
         "246.69306930693068",
         "0.1485148514851485",
         "0.9900990099009901",
         "149.6072607260726",
         "0.32673267326732675",
         "1.0396039603960396",
         "1.6006600660066006",
         "0.6722408026755853",
         "4.73421926910299",
         "0.9372937293729373"
        ],
        [
         "std",
         "9.038662442446743",
         "0.4672988277701313",
         "0.9601256119600123",
         "17.59974772958769",
         "51.776917542637015",
         "0.35619787492797605",
         "0.9949712915251797",
         "22.875003276980376",
         "0.46979446452231716",
         "1.161075022068634",
         "0.6162261453459627",
         "0.9374383177242157",
         "1.9397057693786417",
         "1.2285356879701044"
        ],
        [
         "min",
         "29.0",
         "0.0",
         "1.0",
         "94.0",
         "126.0",
         "0.0",
         "0.0",
         "71.0",
         "0.0",
         "0.0",
         "1.0",
         "0.0",
         "3.0",
         "0.0"
        ],
        [
         "25%",
         "48.0",
         "0.0",
         "3.0",
         "120.0",
         "211.0",
         "0.0",
         "0.0",
         "133.5",
         "0.0",
         "0.0",
         "1.0",
         "0.0",
         "3.0",
         "0.0"
        ],
        [
         "50%",
         "56.0",
         "1.0",
         "3.0",
         "130.0",
         "241.0",
         "0.0",
         "1.0",
         "153.0",
         "0.0",
         "0.8",
         "2.0",
         "0.0",
         "3.0",
         "0.0"
        ],
        [
         "75%",
         "61.0",
         "1.0",
         "4.0",
         "140.0",
         "275.0",
         "0.0",
         "2.0",
         "166.0",
         "1.0",
         "1.6",
         "2.0",
         "1.0",
         "7.0",
         "2.0"
        ],
        [
         "max",
         "77.0",
         "1.0",
         "4.0",
         "200.0",
         "564.0",
         "1.0",
         "2.0",
         "202.0",
         "1.0",
         "6.2",
         "3.0",
         "3.0",
         "7.0",
         "4.0"
        ]
       ],
       "shape": {
        "columns": 14,
        "rows": 8
       }
      },
      "text/html": [
       "<div>\n",
       "<style scoped>\n",
       "    .dataframe tbody tr th:only-of-type {\n",
       "        vertical-align: middle;\n",
       "    }\n",
       "\n",
       "    .dataframe tbody tr th {\n",
       "        vertical-align: top;\n",
       "    }\n",
       "\n",
       "    .dataframe thead th {\n",
       "        text-align: right;\n",
       "    }\n",
       "</style>\n",
       "<table border=\"1\" class=\"dataframe\">\n",
       "  <thead>\n",
       "    <tr style=\"text-align: right;\">\n",
       "      <th></th>\n",
       "      <th>age</th>\n",
       "      <th>sex</th>\n",
       "      <th>cp</th>\n",
       "      <th>trestbps</th>\n",
       "      <th>chol</th>\n",
       "      <th>fbs</th>\n",
       "      <th>restecg</th>\n",
       "      <th>thalach</th>\n",
       "      <th>exang</th>\n",
       "      <th>oldpeak</th>\n",
       "      <th>slope</th>\n",
       "      <th>ca</th>\n",
       "      <th>thal</th>\n",
       "      <th>num</th>\n",
       "    </tr>\n",
       "  </thead>\n",
       "  <tbody>\n",
       "    <tr>\n",
       "      <th>count</th>\n",
       "      <td>303.000000</td>\n",
       "      <td>303.000000</td>\n",
       "      <td>303.000000</td>\n",
       "      <td>303.000000</td>\n",
       "      <td>303.000000</td>\n",
       "      <td>303.000000</td>\n",
       "      <td>303.000000</td>\n",
       "      <td>303.000000</td>\n",
       "      <td>303.000000</td>\n",
       "      <td>303.000000</td>\n",
       "      <td>303.000000</td>\n",
       "      <td>299.000000</td>\n",
       "      <td>301.000000</td>\n",
       "      <td>303.000000</td>\n",
       "    </tr>\n",
       "    <tr>\n",
       "      <th>mean</th>\n",
       "      <td>54.438944</td>\n",
       "      <td>0.679868</td>\n",
       "      <td>3.158416</td>\n",
       "      <td>131.689769</td>\n",
       "      <td>246.693069</td>\n",
       "      <td>0.148515</td>\n",
       "      <td>0.990099</td>\n",
       "      <td>149.607261</td>\n",
       "      <td>0.326733</td>\n",
       "      <td>1.039604</td>\n",
       "      <td>1.600660</td>\n",
       "      <td>0.672241</td>\n",
       "      <td>4.734219</td>\n",
       "      <td>0.937294</td>\n",
       "    </tr>\n",
       "    <tr>\n",
       "      <th>std</th>\n",
       "      <td>9.038662</td>\n",
       "      <td>0.467299</td>\n",
       "      <td>0.960126</td>\n",
       "      <td>17.599748</td>\n",
       "      <td>51.776918</td>\n",
       "      <td>0.356198</td>\n",
       "      <td>0.994971</td>\n",
       "      <td>22.875003</td>\n",
       "      <td>0.469794</td>\n",
       "      <td>1.161075</td>\n",
       "      <td>0.616226</td>\n",
       "      <td>0.937438</td>\n",
       "      <td>1.939706</td>\n",
       "      <td>1.228536</td>\n",
       "    </tr>\n",
       "    <tr>\n",
       "      <th>min</th>\n",
       "      <td>29.000000</td>\n",
       "      <td>0.000000</td>\n",
       "      <td>1.000000</td>\n",
       "      <td>94.000000</td>\n",
       "      <td>126.000000</td>\n",
       "      <td>0.000000</td>\n",
       "      <td>0.000000</td>\n",
       "      <td>71.000000</td>\n",
       "      <td>0.000000</td>\n",
       "      <td>0.000000</td>\n",
       "      <td>1.000000</td>\n",
       "      <td>0.000000</td>\n",
       "      <td>3.000000</td>\n",
       "      <td>0.000000</td>\n",
       "    </tr>\n",
       "    <tr>\n",
       "      <th>25%</th>\n",
       "      <td>48.000000</td>\n",
       "      <td>0.000000</td>\n",
       "      <td>3.000000</td>\n",
       "      <td>120.000000</td>\n",
       "      <td>211.000000</td>\n",
       "      <td>0.000000</td>\n",
       "      <td>0.000000</td>\n",
       "      <td>133.500000</td>\n",
       "      <td>0.000000</td>\n",
       "      <td>0.000000</td>\n",
       "      <td>1.000000</td>\n",
       "      <td>0.000000</td>\n",
       "      <td>3.000000</td>\n",
       "      <td>0.000000</td>\n",
       "    </tr>\n",
       "    <tr>\n",
       "      <th>50%</th>\n",
       "      <td>56.000000</td>\n",
       "      <td>1.000000</td>\n",
       "      <td>3.000000</td>\n",
       "      <td>130.000000</td>\n",
       "      <td>241.000000</td>\n",
       "      <td>0.000000</td>\n",
       "      <td>1.000000</td>\n",
       "      <td>153.000000</td>\n",
       "      <td>0.000000</td>\n",
       "      <td>0.800000</td>\n",
       "      <td>2.000000</td>\n",
       "      <td>0.000000</td>\n",
       "      <td>3.000000</td>\n",
       "      <td>0.000000</td>\n",
       "    </tr>\n",
       "    <tr>\n",
       "      <th>75%</th>\n",
       "      <td>61.000000</td>\n",
       "      <td>1.000000</td>\n",
       "      <td>4.000000</td>\n",
       "      <td>140.000000</td>\n",
       "      <td>275.000000</td>\n",
       "      <td>0.000000</td>\n",
       "      <td>2.000000</td>\n",
       "      <td>166.000000</td>\n",
       "      <td>1.000000</td>\n",
       "      <td>1.600000</td>\n",
       "      <td>2.000000</td>\n",
       "      <td>1.000000</td>\n",
       "      <td>7.000000</td>\n",
       "      <td>2.000000</td>\n",
       "    </tr>\n",
       "    <tr>\n",
       "      <th>max</th>\n",
       "      <td>77.000000</td>\n",
       "      <td>1.000000</td>\n",
       "      <td>4.000000</td>\n",
       "      <td>200.000000</td>\n",
       "      <td>564.000000</td>\n",
       "      <td>1.000000</td>\n",
       "      <td>2.000000</td>\n",
       "      <td>202.000000</td>\n",
       "      <td>1.000000</td>\n",
       "      <td>6.200000</td>\n",
       "      <td>3.000000</td>\n",
       "      <td>3.000000</td>\n",
       "      <td>7.000000</td>\n",
       "      <td>4.000000</td>\n",
       "    </tr>\n",
       "  </tbody>\n",
       "</table>\n",
       "</div>"
      ],
      "text/plain": [
       "              age         sex          cp    trestbps        chol         fbs  \\\n",
       "count  303.000000  303.000000  303.000000  303.000000  303.000000  303.000000   \n",
       "mean    54.438944    0.679868    3.158416  131.689769  246.693069    0.148515   \n",
       "std      9.038662    0.467299    0.960126   17.599748   51.776918    0.356198   \n",
       "min     29.000000    0.000000    1.000000   94.000000  126.000000    0.000000   \n",
       "25%     48.000000    0.000000    3.000000  120.000000  211.000000    0.000000   \n",
       "50%     56.000000    1.000000    3.000000  130.000000  241.000000    0.000000   \n",
       "75%     61.000000    1.000000    4.000000  140.000000  275.000000    0.000000   \n",
       "max     77.000000    1.000000    4.000000  200.000000  564.000000    1.000000   \n",
       "\n",
       "          restecg     thalach       exang     oldpeak       slope          ca  \\\n",
       "count  303.000000  303.000000  303.000000  303.000000  303.000000  299.000000   \n",
       "mean     0.990099  149.607261    0.326733    1.039604    1.600660    0.672241   \n",
       "std      0.994971   22.875003    0.469794    1.161075    0.616226    0.937438   \n",
       "min      0.000000   71.000000    0.000000    0.000000    1.000000    0.000000   \n",
       "25%      0.000000  133.500000    0.000000    0.000000    1.000000    0.000000   \n",
       "50%      1.000000  153.000000    0.000000    0.800000    2.000000    0.000000   \n",
       "75%      2.000000  166.000000    1.000000    1.600000    2.000000    1.000000   \n",
       "max      2.000000  202.000000    1.000000    6.200000    3.000000    3.000000   \n",
       "\n",
       "             thal         num  \n",
       "count  301.000000  303.000000  \n",
       "mean     4.734219    0.937294  \n",
       "std      1.939706    1.228536  \n",
       "min      3.000000    0.000000  \n",
       "25%      3.000000    0.000000  \n",
       "50%      3.000000    0.000000  \n",
       "75%      7.000000    2.000000  \n",
       "max      7.000000    4.000000  "
      ]
     },
     "execution_count": 93,
     "metadata": {},
     "output_type": "execute_result"
    }
   ],
   "source": [
    "# También podemos incluir variables categóricas\n",
    "print(\"Estadísticas incluyendo todas las columnas:\")\n",
    "df.describe(include='all')\n"
   ]
  },
  {
   "cell_type": "markdown",
   "metadata": {},
   "source": [
    " ## 2. Seleccionar columnas y filas\n",
    "\n",
    "\n",
    "\n",
    " Pandas ofrece varias formas de acceder a los datos."
   ]
  },
  {
   "cell_type": "code",
   "execution_count": 94,
   "metadata": {},
   "outputs": [
    {
     "name": "stdout",
     "output_type": "stream",
     "text": [
      "Edades de los primeros 10 pacientes:\n",
      "0    63\n",
      "1    67\n",
      "2    67\n",
      "3    37\n",
      "4    41\n",
      "5    56\n",
      "6    62\n",
      "7    57\n",
      "8    63\n",
      "9    53\n",
      "Name: age, dtype: int64\n"
     ]
    }
   ],
   "source": [
    "# Seleccionar una columna (devuelve una Serie)\n",
    "print(\"Edades de los primeros 10 pacientes:\")\n",
    "print(df[\"age\"].head(10))\n"
   ]
  },
  {
   "cell_type": "code",
   "execution_count": 95,
   "metadata": {},
   "outputs": [
    {
     "name": "stdout",
     "output_type": "stream",
     "text": [
      "Primeros valores de colesterol:\n",
      "0    233\n",
      "1    286\n",
      "2    229\n",
      "3    250\n",
      "4    204\n",
      "Name: chol, dtype: int64\n"
     ]
    }
   ],
   "source": [
    "# Otra forma de seleccionar una columna (notación de punto)\n",
    "# Nota: solo funciona si el nombre no tiene espacios\n",
    "print(\"Primeros valores de colesterol:\")\n",
    "print(df.chol.head())\n"
   ]
  },
  {
   "cell_type": "code",
   "execution_count": 96,
   "metadata": {},
   "outputs": [
    {
     "name": "stdout",
     "output_type": "stream",
     "text": [
      "Subconjunto de columnas:\n"
     ]
    },
    {
     "data": {
      "application/vnd.microsoft.datawrangler.viewer.v0+json": {
       "columns": [
        {
         "name": "index",
         "rawType": "int64",
         "type": "integer"
        },
        {
         "name": "age",
         "rawType": "int64",
         "type": "integer"
        },
        {
         "name": "sex",
         "rawType": "int64",
         "type": "integer"
        },
        {
         "name": "chol",
         "rawType": "int64",
         "type": "integer"
        },
        {
         "name": "num",
         "rawType": "int64",
         "type": "integer"
        }
       ],
       "ref": "485dc795-b625-4395-b5f3-30db701b38e8",
       "rows": [
        [
         "0",
         "63",
         "1",
         "233",
         "0"
        ],
        [
         "1",
         "67",
         "1",
         "286",
         "2"
        ],
        [
         "2",
         "67",
         "1",
         "229",
         "1"
        ],
        [
         "3",
         "37",
         "1",
         "250",
         "0"
        ],
        [
         "4",
         "41",
         "0",
         "204",
         "0"
        ]
       ],
       "shape": {
        "columns": 4,
        "rows": 5
       }
      },
      "text/html": [
       "<div>\n",
       "<style scoped>\n",
       "    .dataframe tbody tr th:only-of-type {\n",
       "        vertical-align: middle;\n",
       "    }\n",
       "\n",
       "    .dataframe tbody tr th {\n",
       "        vertical-align: top;\n",
       "    }\n",
       "\n",
       "    .dataframe thead th {\n",
       "        text-align: right;\n",
       "    }\n",
       "</style>\n",
       "<table border=\"1\" class=\"dataframe\">\n",
       "  <thead>\n",
       "    <tr style=\"text-align: right;\">\n",
       "      <th></th>\n",
       "      <th>age</th>\n",
       "      <th>sex</th>\n",
       "      <th>chol</th>\n",
       "      <th>num</th>\n",
       "    </tr>\n",
       "  </thead>\n",
       "  <tbody>\n",
       "    <tr>\n",
       "      <th>0</th>\n",
       "      <td>63</td>\n",
       "      <td>1</td>\n",
       "      <td>233</td>\n",
       "      <td>0</td>\n",
       "    </tr>\n",
       "    <tr>\n",
       "      <th>1</th>\n",
       "      <td>67</td>\n",
       "      <td>1</td>\n",
       "      <td>286</td>\n",
       "      <td>2</td>\n",
       "    </tr>\n",
       "    <tr>\n",
       "      <th>2</th>\n",
       "      <td>67</td>\n",
       "      <td>1</td>\n",
       "      <td>229</td>\n",
       "      <td>1</td>\n",
       "    </tr>\n",
       "    <tr>\n",
       "      <th>3</th>\n",
       "      <td>37</td>\n",
       "      <td>1</td>\n",
       "      <td>250</td>\n",
       "      <td>0</td>\n",
       "    </tr>\n",
       "    <tr>\n",
       "      <th>4</th>\n",
       "      <td>41</td>\n",
       "      <td>0</td>\n",
       "      <td>204</td>\n",
       "      <td>0</td>\n",
       "    </tr>\n",
       "  </tbody>\n",
       "</table>\n",
       "</div>"
      ],
      "text/plain": [
       "   age  sex  chol  num\n",
       "0   63    1   233    0\n",
       "1   67    1   286    2\n",
       "2   67    1   229    1\n",
       "3   37    1   250    0\n",
       "4   41    0   204    0"
      ]
     },
     "execution_count": 96,
     "metadata": {},
     "output_type": "execute_result"
    }
   ],
   "source": [
    "# Seleccionar varias columnas (devuelve un DataFrame)\n",
    "subset = df[[\"age\", \"sex\", \"chol\", \"num\"]]\n",
    "print(\"Subconjunto de columnas:\")\n",
    "subset.head()\n"
   ]
  },
  {
   "cell_type": "code",
   "execution_count": 97,
   "metadata": {},
   "outputs": [
    {
     "name": "stdout",
     "output_type": "stream",
     "text": [
      "Primera fila (índice 0):\n",
      "age          63.0\n",
      "sex           1.0\n",
      "cp            1.0\n",
      "trestbps    145.0\n",
      "chol        233.0\n",
      "fbs           1.0\n",
      "restecg       2.0\n",
      "thalach     150.0\n",
      "exang         0.0\n",
      "oldpeak       2.3\n",
      "slope         3.0\n",
      "ca            0.0\n",
      "thal          6.0\n",
      "num           0.0\n",
      "Name: 0, dtype: float64\n"
     ]
    }
   ],
   "source": [
    "# Seleccionar filas por posición con iloc\n",
    "print(\"Primera fila (índice 0):\")\n",
    "print(df.iloc[0])\n"
   ]
  },
  {
   "cell_type": "code",
   "execution_count": 98,
   "metadata": {},
   "outputs": [
    {
     "name": "stdout",
     "output_type": "stream",
     "text": [
      "Filas 5 a 10:\n"
     ]
    },
    {
     "data": {
      "application/vnd.microsoft.datawrangler.viewer.v0+json": {
       "columns": [
        {
         "name": "index",
         "rawType": "int64",
         "type": "integer"
        },
        {
         "name": "age",
         "rawType": "int64",
         "type": "integer"
        },
        {
         "name": "sex",
         "rawType": "int64",
         "type": "integer"
        },
        {
         "name": "cp",
         "rawType": "int64",
         "type": "integer"
        },
        {
         "name": "trestbps",
         "rawType": "int64",
         "type": "integer"
        },
        {
         "name": "chol",
         "rawType": "int64",
         "type": "integer"
        },
        {
         "name": "fbs",
         "rawType": "int64",
         "type": "integer"
        },
        {
         "name": "restecg",
         "rawType": "int64",
         "type": "integer"
        },
        {
         "name": "thalach",
         "rawType": "int64",
         "type": "integer"
        },
        {
         "name": "exang",
         "rawType": "int64",
         "type": "integer"
        },
        {
         "name": "oldpeak",
         "rawType": "float64",
         "type": "float"
        },
        {
         "name": "slope",
         "rawType": "int64",
         "type": "integer"
        },
        {
         "name": "ca",
         "rawType": "float64",
         "type": "float"
        },
        {
         "name": "thal",
         "rawType": "float64",
         "type": "float"
        },
        {
         "name": "num",
         "rawType": "int64",
         "type": "integer"
        }
       ],
       "ref": "83c40025-1cba-462b-9e08-ec242276a1e7",
       "rows": [
        [
         "5",
         "56",
         "1",
         "2",
         "120",
         "236",
         "0",
         "0",
         "178",
         "0",
         "0.8",
         "1",
         "0.0",
         "3.0",
         "0"
        ],
        [
         "6",
         "62",
         "0",
         "4",
         "140",
         "268",
         "0",
         "2",
         "160",
         "0",
         "3.6",
         "3",
         "2.0",
         "3.0",
         "3"
        ],
        [
         "7",
         "57",
         "0",
         "4",
         "120",
         "354",
         "0",
         "0",
         "163",
         "1",
         "0.6",
         "1",
         "0.0",
         "3.0",
         "0"
        ],
        [
         "8",
         "63",
         "1",
         "4",
         "130",
         "254",
         "0",
         "2",
         "147",
         "0",
         "1.4",
         "2",
         "1.0",
         "7.0",
         "2"
        ],
        [
         "9",
         "53",
         "1",
         "4",
         "140",
         "203",
         "1",
         "2",
         "155",
         "1",
         "3.1",
         "3",
         "0.0",
         "7.0",
         "1"
        ]
       ],
       "shape": {
        "columns": 14,
        "rows": 5
       }
      },
      "text/html": [
       "<div>\n",
       "<style scoped>\n",
       "    .dataframe tbody tr th:only-of-type {\n",
       "        vertical-align: middle;\n",
       "    }\n",
       "\n",
       "    .dataframe tbody tr th {\n",
       "        vertical-align: top;\n",
       "    }\n",
       "\n",
       "    .dataframe thead th {\n",
       "        text-align: right;\n",
       "    }\n",
       "</style>\n",
       "<table border=\"1\" class=\"dataframe\">\n",
       "  <thead>\n",
       "    <tr style=\"text-align: right;\">\n",
       "      <th></th>\n",
       "      <th>age</th>\n",
       "      <th>sex</th>\n",
       "      <th>cp</th>\n",
       "      <th>trestbps</th>\n",
       "      <th>chol</th>\n",
       "      <th>fbs</th>\n",
       "      <th>restecg</th>\n",
       "      <th>thalach</th>\n",
       "      <th>exang</th>\n",
       "      <th>oldpeak</th>\n",
       "      <th>slope</th>\n",
       "      <th>ca</th>\n",
       "      <th>thal</th>\n",
       "      <th>num</th>\n",
       "    </tr>\n",
       "  </thead>\n",
       "  <tbody>\n",
       "    <tr>\n",
       "      <th>5</th>\n",
       "      <td>56</td>\n",
       "      <td>1</td>\n",
       "      <td>2</td>\n",
       "      <td>120</td>\n",
       "      <td>236</td>\n",
       "      <td>0</td>\n",
       "      <td>0</td>\n",
       "      <td>178</td>\n",
       "      <td>0</td>\n",
       "      <td>0.8</td>\n",
       "      <td>1</td>\n",
       "      <td>0.0</td>\n",
       "      <td>3.0</td>\n",
       "      <td>0</td>\n",
       "    </tr>\n",
       "    <tr>\n",
       "      <th>6</th>\n",
       "      <td>62</td>\n",
       "      <td>0</td>\n",
       "      <td>4</td>\n",
       "      <td>140</td>\n",
       "      <td>268</td>\n",
       "      <td>0</td>\n",
       "      <td>2</td>\n",
       "      <td>160</td>\n",
       "      <td>0</td>\n",
       "      <td>3.6</td>\n",
       "      <td>3</td>\n",
       "      <td>2.0</td>\n",
       "      <td>3.0</td>\n",
       "      <td>3</td>\n",
       "    </tr>\n",
       "    <tr>\n",
       "      <th>7</th>\n",
       "      <td>57</td>\n",
       "      <td>0</td>\n",
       "      <td>4</td>\n",
       "      <td>120</td>\n",
       "      <td>354</td>\n",
       "      <td>0</td>\n",
       "      <td>0</td>\n",
       "      <td>163</td>\n",
       "      <td>1</td>\n",
       "      <td>0.6</td>\n",
       "      <td>1</td>\n",
       "      <td>0.0</td>\n",
       "      <td>3.0</td>\n",
       "      <td>0</td>\n",
       "    </tr>\n",
       "    <tr>\n",
       "      <th>8</th>\n",
       "      <td>63</td>\n",
       "      <td>1</td>\n",
       "      <td>4</td>\n",
       "      <td>130</td>\n",
       "      <td>254</td>\n",
       "      <td>0</td>\n",
       "      <td>2</td>\n",
       "      <td>147</td>\n",
       "      <td>0</td>\n",
       "      <td>1.4</td>\n",
       "      <td>2</td>\n",
       "      <td>1.0</td>\n",
       "      <td>7.0</td>\n",
       "      <td>2</td>\n",
       "    </tr>\n",
       "    <tr>\n",
       "      <th>9</th>\n",
       "      <td>53</td>\n",
       "      <td>1</td>\n",
       "      <td>4</td>\n",
       "      <td>140</td>\n",
       "      <td>203</td>\n",
       "      <td>1</td>\n",
       "      <td>2</td>\n",
       "      <td>155</td>\n",
       "      <td>1</td>\n",
       "      <td>3.1</td>\n",
       "      <td>3</td>\n",
       "      <td>0.0</td>\n",
       "      <td>7.0</td>\n",
       "      <td>1</td>\n",
       "    </tr>\n",
       "  </tbody>\n",
       "</table>\n",
       "</div>"
      ],
      "text/plain": [
       "   age  sex  cp  trestbps  chol  fbs  restecg  thalach  exang  oldpeak  slope  \\\n",
       "5   56    1   2       120   236    0        0      178      0      0.8      1   \n",
       "6   62    0   4       140   268    0        2      160      0      3.6      3   \n",
       "7   57    0   4       120   354    0        0      163      1      0.6      1   \n",
       "8   63    1   4       130   254    0        2      147      0      1.4      2   \n",
       "9   53    1   4       140   203    1        2      155      1      3.1      3   \n",
       "\n",
       "    ca  thal  num  \n",
       "5  0.0   3.0    0  \n",
       "6  2.0   3.0    3  \n",
       "7  0.0   3.0    0  \n",
       "8  1.0   7.0    2  \n",
       "9  0.0   7.0    1  "
      ]
     },
     "execution_count": 98,
     "metadata": {},
     "output_type": "execute_result"
    }
   ],
   "source": [
    "# Seleccionar un rango de filas\n",
    "print(\"Filas 5 a 10:\")\n",
    "df.iloc[5:10]\n"
   ]
  },
  {
   "cell_type": "code",
   "execution_count": 99,
   "metadata": {},
   "outputs": [
    {
     "name": "stdout",
     "output_type": "stream",
     "text": [
      "Primeras 3 filas y primeras 4 columnas:\n"
     ]
    },
    {
     "data": {
      "application/vnd.microsoft.datawrangler.viewer.v0+json": {
       "columns": [
        {
         "name": "index",
         "rawType": "int64",
         "type": "integer"
        },
        {
         "name": "age",
         "rawType": "int64",
         "type": "integer"
        },
        {
         "name": "sex",
         "rawType": "int64",
         "type": "integer"
        },
        {
         "name": "cp",
         "rawType": "int64",
         "type": "integer"
        },
        {
         "name": "trestbps",
         "rawType": "int64",
         "type": "integer"
        }
       ],
       "ref": "4a097c46-03b1-4f44-85d2-20af22d8e04f",
       "rows": [
        [
         "0",
         "63",
         "1",
         "1",
         "145"
        ],
        [
         "1",
         "67",
         "1",
         "4",
         "160"
        ],
        [
         "2",
         "67",
         "1",
         "4",
         "120"
        ]
       ],
       "shape": {
        "columns": 4,
        "rows": 3
       }
      },
      "text/html": [
       "<div>\n",
       "<style scoped>\n",
       "    .dataframe tbody tr th:only-of-type {\n",
       "        vertical-align: middle;\n",
       "    }\n",
       "\n",
       "    .dataframe tbody tr th {\n",
       "        vertical-align: top;\n",
       "    }\n",
       "\n",
       "    .dataframe thead th {\n",
       "        text-align: right;\n",
       "    }\n",
       "</style>\n",
       "<table border=\"1\" class=\"dataframe\">\n",
       "  <thead>\n",
       "    <tr style=\"text-align: right;\">\n",
       "      <th></th>\n",
       "      <th>age</th>\n",
       "      <th>sex</th>\n",
       "      <th>cp</th>\n",
       "      <th>trestbps</th>\n",
       "    </tr>\n",
       "  </thead>\n",
       "  <tbody>\n",
       "    <tr>\n",
       "      <th>0</th>\n",
       "      <td>63</td>\n",
       "      <td>1</td>\n",
       "      <td>1</td>\n",
       "      <td>145</td>\n",
       "    </tr>\n",
       "    <tr>\n",
       "      <th>1</th>\n",
       "      <td>67</td>\n",
       "      <td>1</td>\n",
       "      <td>4</td>\n",
       "      <td>160</td>\n",
       "    </tr>\n",
       "    <tr>\n",
       "      <th>2</th>\n",
       "      <td>67</td>\n",
       "      <td>1</td>\n",
       "      <td>4</td>\n",
       "      <td>120</td>\n",
       "    </tr>\n",
       "  </tbody>\n",
       "</table>\n",
       "</div>"
      ],
      "text/plain": [
       "   age  sex  cp  trestbps\n",
       "0   63    1   1       145\n",
       "1   67    1   4       160\n",
       "2   67    1   4       120"
      ]
     },
     "execution_count": 99,
     "metadata": {},
     "output_type": "execute_result"
    }
   ],
   "source": [
    "# Seleccionar filas y columnas específicas con iloc\n",
    "print(\"Primeras 3 filas y primeras 4 columnas:\")\n",
    "df.iloc[0:3, 0:4]\n"
   ]
  },
  {
   "cell_type": "code",
   "execution_count": 100,
   "metadata": {},
   "outputs": [
    {
     "name": "stdout",
     "output_type": "stream",
     "text": [
      "Filas 0 a 2 con columnas específicas:\n"
     ]
    },
    {
     "data": {
      "application/vnd.microsoft.datawrangler.viewer.v0+json": {
       "columns": [
        {
         "name": "index",
         "rawType": "int64",
         "type": "integer"
        },
        {
         "name": "age",
         "rawType": "int64",
         "type": "integer"
        },
        {
         "name": "sex",
         "rawType": "int64",
         "type": "integer"
        },
        {
         "name": "chol",
         "rawType": "int64",
         "type": "integer"
        }
       ],
       "ref": "56f7ec81-9fdc-4a6a-b41d-f5a9eeade76b",
       "rows": [
        [
         "0",
         "63",
         "1",
         "233"
        ],
        [
         "1",
         "67",
         "1",
         "286"
        ],
        [
         "2",
         "67",
         "1",
         "229"
        ]
       ],
       "shape": {
        "columns": 3,
        "rows": 3
       }
      },
      "text/html": [
       "<div>\n",
       "<style scoped>\n",
       "    .dataframe tbody tr th:only-of-type {\n",
       "        vertical-align: middle;\n",
       "    }\n",
       "\n",
       "    .dataframe tbody tr th {\n",
       "        vertical-align: top;\n",
       "    }\n",
       "\n",
       "    .dataframe thead th {\n",
       "        text-align: right;\n",
       "    }\n",
       "</style>\n",
       "<table border=\"1\" class=\"dataframe\">\n",
       "  <thead>\n",
       "    <tr style=\"text-align: right;\">\n",
       "      <th></th>\n",
       "      <th>age</th>\n",
       "      <th>sex</th>\n",
       "      <th>chol</th>\n",
       "    </tr>\n",
       "  </thead>\n",
       "  <tbody>\n",
       "    <tr>\n",
       "      <th>0</th>\n",
       "      <td>63</td>\n",
       "      <td>1</td>\n",
       "      <td>233</td>\n",
       "    </tr>\n",
       "    <tr>\n",
       "      <th>1</th>\n",
       "      <td>67</td>\n",
       "      <td>1</td>\n",
       "      <td>286</td>\n",
       "    </tr>\n",
       "    <tr>\n",
       "      <th>2</th>\n",
       "      <td>67</td>\n",
       "      <td>1</td>\n",
       "      <td>229</td>\n",
       "    </tr>\n",
       "  </tbody>\n",
       "</table>\n",
       "</div>"
      ],
      "text/plain": [
       "   age  sex  chol\n",
       "0   63    1   233\n",
       "1   67    1   286\n",
       "2   67    1   229"
      ]
     },
     "execution_count": 100,
     "metadata": {},
     "output_type": "execute_result"
    }
   ],
   "source": [
    "# Seleccionar con loc usando etiquetas (útil cuando el índice no es numérico)\n",
    "# En este caso el índice es numérico, pero loc incluye el último valor\n",
    "print(\"Filas 0 a 2 con columnas específicas:\")\n",
    "df.loc[0:2, [\"age\", \"sex\", \"chol\"]]\n"
   ]
  },
  {
   "cell_type": "markdown",
   "metadata": {},
   "source": [
    " ## 3. Filtrar datos\n",
    "\n",
    "\n",
    "\n",
    " Una de las operaciones más comunes es filtrar filas según condiciones."
   ]
  },
  {
   "cell_type": "code",
   "execution_count": 101,
   "metadata": {},
   "outputs": [
    {
     "name": "stdout",
     "output_type": "stream",
     "text": [
      "Pacientes mayores de 60 años: 79\n"
     ]
    },
    {
     "data": {
      "application/vnd.microsoft.datawrangler.viewer.v0+json": {
       "columns": [
        {
         "name": "index",
         "rawType": "int64",
         "type": "integer"
        },
        {
         "name": "age",
         "rawType": "int64",
         "type": "integer"
        },
        {
         "name": "sex",
         "rawType": "int64",
         "type": "integer"
        },
        {
         "name": "cp",
         "rawType": "int64",
         "type": "integer"
        },
        {
         "name": "trestbps",
         "rawType": "int64",
         "type": "integer"
        },
        {
         "name": "chol",
         "rawType": "int64",
         "type": "integer"
        },
        {
         "name": "fbs",
         "rawType": "int64",
         "type": "integer"
        },
        {
         "name": "restecg",
         "rawType": "int64",
         "type": "integer"
        },
        {
         "name": "thalach",
         "rawType": "int64",
         "type": "integer"
        },
        {
         "name": "exang",
         "rawType": "int64",
         "type": "integer"
        },
        {
         "name": "oldpeak",
         "rawType": "float64",
         "type": "float"
        },
        {
         "name": "slope",
         "rawType": "int64",
         "type": "integer"
        },
        {
         "name": "ca",
         "rawType": "float64",
         "type": "float"
        },
        {
         "name": "thal",
         "rawType": "float64",
         "type": "float"
        },
        {
         "name": "num",
         "rawType": "int64",
         "type": "integer"
        }
       ],
       "ref": "99e38af3-0070-47e9-9cb8-118712208450",
       "rows": [
        [
         "0",
         "63",
         "1",
         "1",
         "145",
         "233",
         "1",
         "2",
         "150",
         "0",
         "2.3",
         "3",
         "0.0",
         "6.0",
         "0"
        ],
        [
         "1",
         "67",
         "1",
         "4",
         "160",
         "286",
         "0",
         "2",
         "108",
         "1",
         "1.5",
         "2",
         "3.0",
         "3.0",
         "2"
        ],
        [
         "2",
         "67",
         "1",
         "4",
         "120",
         "229",
         "0",
         "2",
         "129",
         "1",
         "2.6",
         "2",
         "2.0",
         "7.0",
         "1"
        ],
        [
         "6",
         "62",
         "0",
         "4",
         "140",
         "268",
         "0",
         "2",
         "160",
         "0",
         "3.6",
         "3",
         "2.0",
         "3.0",
         "3"
        ],
        [
         "8",
         "63",
         "1",
         "4",
         "130",
         "254",
         "0",
         "2",
         "147",
         "0",
         "1.4",
         "2",
         "1.0",
         "7.0",
         "2"
        ]
       ],
       "shape": {
        "columns": 14,
        "rows": 5
       }
      },
      "text/html": [
       "<div>\n",
       "<style scoped>\n",
       "    .dataframe tbody tr th:only-of-type {\n",
       "        vertical-align: middle;\n",
       "    }\n",
       "\n",
       "    .dataframe tbody tr th {\n",
       "        vertical-align: top;\n",
       "    }\n",
       "\n",
       "    .dataframe thead th {\n",
       "        text-align: right;\n",
       "    }\n",
       "</style>\n",
       "<table border=\"1\" class=\"dataframe\">\n",
       "  <thead>\n",
       "    <tr style=\"text-align: right;\">\n",
       "      <th></th>\n",
       "      <th>age</th>\n",
       "      <th>sex</th>\n",
       "      <th>cp</th>\n",
       "      <th>trestbps</th>\n",
       "      <th>chol</th>\n",
       "      <th>fbs</th>\n",
       "      <th>restecg</th>\n",
       "      <th>thalach</th>\n",
       "      <th>exang</th>\n",
       "      <th>oldpeak</th>\n",
       "      <th>slope</th>\n",
       "      <th>ca</th>\n",
       "      <th>thal</th>\n",
       "      <th>num</th>\n",
       "    </tr>\n",
       "  </thead>\n",
       "  <tbody>\n",
       "    <tr>\n",
       "      <th>0</th>\n",
       "      <td>63</td>\n",
       "      <td>1</td>\n",
       "      <td>1</td>\n",
       "      <td>145</td>\n",
       "      <td>233</td>\n",
       "      <td>1</td>\n",
       "      <td>2</td>\n",
       "      <td>150</td>\n",
       "      <td>0</td>\n",
       "      <td>2.3</td>\n",
       "      <td>3</td>\n",
       "      <td>0.0</td>\n",
       "      <td>6.0</td>\n",
       "      <td>0</td>\n",
       "    </tr>\n",
       "    <tr>\n",
       "      <th>1</th>\n",
       "      <td>67</td>\n",
       "      <td>1</td>\n",
       "      <td>4</td>\n",
       "      <td>160</td>\n",
       "      <td>286</td>\n",
       "      <td>0</td>\n",
       "      <td>2</td>\n",
       "      <td>108</td>\n",
       "      <td>1</td>\n",
       "      <td>1.5</td>\n",
       "      <td>2</td>\n",
       "      <td>3.0</td>\n",
       "      <td>3.0</td>\n",
       "      <td>2</td>\n",
       "    </tr>\n",
       "    <tr>\n",
       "      <th>2</th>\n",
       "      <td>67</td>\n",
       "      <td>1</td>\n",
       "      <td>4</td>\n",
       "      <td>120</td>\n",
       "      <td>229</td>\n",
       "      <td>0</td>\n",
       "      <td>2</td>\n",
       "      <td>129</td>\n",
       "      <td>1</td>\n",
       "      <td>2.6</td>\n",
       "      <td>2</td>\n",
       "      <td>2.0</td>\n",
       "      <td>7.0</td>\n",
       "      <td>1</td>\n",
       "    </tr>\n",
       "    <tr>\n",
       "      <th>6</th>\n",
       "      <td>62</td>\n",
       "      <td>0</td>\n",
       "      <td>4</td>\n",
       "      <td>140</td>\n",
       "      <td>268</td>\n",
       "      <td>0</td>\n",
       "      <td>2</td>\n",
       "      <td>160</td>\n",
       "      <td>0</td>\n",
       "      <td>3.6</td>\n",
       "      <td>3</td>\n",
       "      <td>2.0</td>\n",
       "      <td>3.0</td>\n",
       "      <td>3</td>\n",
       "    </tr>\n",
       "    <tr>\n",
       "      <th>8</th>\n",
       "      <td>63</td>\n",
       "      <td>1</td>\n",
       "      <td>4</td>\n",
       "      <td>130</td>\n",
       "      <td>254</td>\n",
       "      <td>0</td>\n",
       "      <td>2</td>\n",
       "      <td>147</td>\n",
       "      <td>0</td>\n",
       "      <td>1.4</td>\n",
       "      <td>2</td>\n",
       "      <td>1.0</td>\n",
       "      <td>7.0</td>\n",
       "      <td>2</td>\n",
       "    </tr>\n",
       "  </tbody>\n",
       "</table>\n",
       "</div>"
      ],
      "text/plain": [
       "   age  sex  cp  trestbps  chol  fbs  restecg  thalach  exang  oldpeak  slope  \\\n",
       "0   63    1   1       145   233    1        2      150      0      2.3      3   \n",
       "1   67    1   4       160   286    0        2      108      1      1.5      2   \n",
       "2   67    1   4       120   229    0        2      129      1      2.6      2   \n",
       "6   62    0   4       140   268    0        2      160      0      3.6      3   \n",
       "8   63    1   4       130   254    0        2      147      0      1.4      2   \n",
       "\n",
       "    ca  thal  num  \n",
       "0  0.0   6.0    0  \n",
       "1  3.0   3.0    2  \n",
       "2  2.0   7.0    1  \n",
       "6  2.0   3.0    3  \n",
       "8  1.0   7.0    2  "
      ]
     },
     "execution_count": 101,
     "metadata": {},
     "output_type": "execute_result"
    }
   ],
   "source": [
    "# Filtrar pacientes mayores de 60 años\n",
    "mayores_60 = df[df[\"age\"] > 60]\n",
    "print(f\"Pacientes mayores de 60 años: {len(mayores_60)}\")\n",
    "mayores_60.head()\n"
   ]
  },
  {
   "cell_type": "code",
   "execution_count": 102,
   "metadata": {},
   "outputs": [
    {
     "name": "stdout",
     "output_type": "stream",
     "text": [
      "Mujeres mayores de 50 años: 70\n"
     ]
    },
    {
     "data": {
      "application/vnd.microsoft.datawrangler.viewer.v0+json": {
       "columns": [
        {
         "name": "index",
         "rawType": "int64",
         "type": "integer"
        },
        {
         "name": "age",
         "rawType": "int64",
         "type": "integer"
        },
        {
         "name": "sex",
         "rawType": "int64",
         "type": "integer"
        },
        {
         "name": "cp",
         "rawType": "int64",
         "type": "integer"
        },
        {
         "name": "trestbps",
         "rawType": "int64",
         "type": "integer"
        },
        {
         "name": "chol",
         "rawType": "int64",
         "type": "integer"
        },
        {
         "name": "fbs",
         "rawType": "int64",
         "type": "integer"
        },
        {
         "name": "restecg",
         "rawType": "int64",
         "type": "integer"
        },
        {
         "name": "thalach",
         "rawType": "int64",
         "type": "integer"
        },
        {
         "name": "exang",
         "rawType": "int64",
         "type": "integer"
        },
        {
         "name": "oldpeak",
         "rawType": "float64",
         "type": "float"
        },
        {
         "name": "slope",
         "rawType": "int64",
         "type": "integer"
        },
        {
         "name": "ca",
         "rawType": "float64",
         "type": "float"
        },
        {
         "name": "thal",
         "rawType": "float64",
         "type": "float"
        },
        {
         "name": "num",
         "rawType": "int64",
         "type": "integer"
        }
       ],
       "ref": "b5f0b685-502c-447c-aeb8-2a326c09455d",
       "rows": [
        [
         "6",
         "62",
         "0",
         "4",
         "140",
         "268",
         "0",
         "2",
         "160",
         "0",
         "3.6",
         "3",
         "2.0",
         "3.0",
         "3"
        ],
        [
         "7",
         "57",
         "0",
         "4",
         "120",
         "354",
         "0",
         "0",
         "163",
         "1",
         "0.6",
         "1",
         "0.0",
         "3.0",
         "0"
        ],
        [
         "11",
         "56",
         "0",
         "2",
         "140",
         "294",
         "0",
         "2",
         "153",
         "0",
         "1.3",
         "2",
         "0.0",
         "3.0",
         "0"
        ],
        [
         "21",
         "58",
         "0",
         "1",
         "150",
         "283",
         "1",
         "2",
         "162",
         "0",
         "1.0",
         "1",
         "0.0",
         "3.0",
         "0"
        ],
        [
         "26",
         "58",
         "0",
         "3",
         "120",
         "340",
         "0",
         "0",
         "172",
         "0",
         "0.0",
         "1",
         "0.0",
         "3.0",
         "0"
        ]
       ],
       "shape": {
        "columns": 14,
        "rows": 5
       }
      },
      "text/html": [
       "<div>\n",
       "<style scoped>\n",
       "    .dataframe tbody tr th:only-of-type {\n",
       "        vertical-align: middle;\n",
       "    }\n",
       "\n",
       "    .dataframe tbody tr th {\n",
       "        vertical-align: top;\n",
       "    }\n",
       "\n",
       "    .dataframe thead th {\n",
       "        text-align: right;\n",
       "    }\n",
       "</style>\n",
       "<table border=\"1\" class=\"dataframe\">\n",
       "  <thead>\n",
       "    <tr style=\"text-align: right;\">\n",
       "      <th></th>\n",
       "      <th>age</th>\n",
       "      <th>sex</th>\n",
       "      <th>cp</th>\n",
       "      <th>trestbps</th>\n",
       "      <th>chol</th>\n",
       "      <th>fbs</th>\n",
       "      <th>restecg</th>\n",
       "      <th>thalach</th>\n",
       "      <th>exang</th>\n",
       "      <th>oldpeak</th>\n",
       "      <th>slope</th>\n",
       "      <th>ca</th>\n",
       "      <th>thal</th>\n",
       "      <th>num</th>\n",
       "    </tr>\n",
       "  </thead>\n",
       "  <tbody>\n",
       "    <tr>\n",
       "      <th>6</th>\n",
       "      <td>62</td>\n",
       "      <td>0</td>\n",
       "      <td>4</td>\n",
       "      <td>140</td>\n",
       "      <td>268</td>\n",
       "      <td>0</td>\n",
       "      <td>2</td>\n",
       "      <td>160</td>\n",
       "      <td>0</td>\n",
       "      <td>3.6</td>\n",
       "      <td>3</td>\n",
       "      <td>2.0</td>\n",
       "      <td>3.0</td>\n",
       "      <td>3</td>\n",
       "    </tr>\n",
       "    <tr>\n",
       "      <th>7</th>\n",
       "      <td>57</td>\n",
       "      <td>0</td>\n",
       "      <td>4</td>\n",
       "      <td>120</td>\n",
       "      <td>354</td>\n",
       "      <td>0</td>\n",
       "      <td>0</td>\n",
       "      <td>163</td>\n",
       "      <td>1</td>\n",
       "      <td>0.6</td>\n",
       "      <td>1</td>\n",
       "      <td>0.0</td>\n",
       "      <td>3.0</td>\n",
       "      <td>0</td>\n",
       "    </tr>\n",
       "    <tr>\n",
       "      <th>11</th>\n",
       "      <td>56</td>\n",
       "      <td>0</td>\n",
       "      <td>2</td>\n",
       "      <td>140</td>\n",
       "      <td>294</td>\n",
       "      <td>0</td>\n",
       "      <td>2</td>\n",
       "      <td>153</td>\n",
       "      <td>0</td>\n",
       "      <td>1.3</td>\n",
       "      <td>2</td>\n",
       "      <td>0.0</td>\n",
       "      <td>3.0</td>\n",
       "      <td>0</td>\n",
       "    </tr>\n",
       "    <tr>\n",
       "      <th>21</th>\n",
       "      <td>58</td>\n",
       "      <td>0</td>\n",
       "      <td>1</td>\n",
       "      <td>150</td>\n",
       "      <td>283</td>\n",
       "      <td>1</td>\n",
       "      <td>2</td>\n",
       "      <td>162</td>\n",
       "      <td>0</td>\n",
       "      <td>1.0</td>\n",
       "      <td>1</td>\n",
       "      <td>0.0</td>\n",
       "      <td>3.0</td>\n",
       "      <td>0</td>\n",
       "    </tr>\n",
       "    <tr>\n",
       "      <th>26</th>\n",
       "      <td>58</td>\n",
       "      <td>0</td>\n",
       "      <td>3</td>\n",
       "      <td>120</td>\n",
       "      <td>340</td>\n",
       "      <td>0</td>\n",
       "      <td>0</td>\n",
       "      <td>172</td>\n",
       "      <td>0</td>\n",
       "      <td>0.0</td>\n",
       "      <td>1</td>\n",
       "      <td>0.0</td>\n",
       "      <td>3.0</td>\n",
       "      <td>0</td>\n",
       "    </tr>\n",
       "  </tbody>\n",
       "</table>\n",
       "</div>"
      ],
      "text/plain": [
       "    age  sex  cp  trestbps  chol  fbs  restecg  thalach  exang  oldpeak  \\\n",
       "6    62    0   4       140   268    0        2      160      0      3.6   \n",
       "7    57    0   4       120   354    0        0      163      1      0.6   \n",
       "11   56    0   2       140   294    0        2      153      0      1.3   \n",
       "21   58    0   1       150   283    1        2      162      0      1.0   \n",
       "26   58    0   3       120   340    0        0      172      0      0.0   \n",
       "\n",
       "    slope   ca  thal  num  \n",
       "6       3  2.0   3.0    3  \n",
       "7       1  0.0   3.0    0  \n",
       "11      2  0.0   3.0    0  \n",
       "21      1  0.0   3.0    0  \n",
       "26      1  0.0   3.0    0  "
      ]
     },
     "execution_count": 102,
     "metadata": {},
     "output_type": "execute_result"
    }
   ],
   "source": [
    "# Filtrar con múltiples condiciones\n",
    "# Mujeres mayores de 50 años\n",
    "mujeres_mayores = df[(df[\"sex\"] == 0) & (df[\"age\"] > 50)]\n",
    "print(f\"Mujeres mayores de 50 años: {len(mujeres_mayores)}\")\n",
    "mujeres_mayores.head()\n"
   ]
  },
  {
   "cell_type": "code",
   "execution_count": 103,
   "metadata": {},
   "outputs": [
    {
     "name": "stdout",
     "output_type": "stream",
     "text": [
      "Pacientes de alto riesgo: 181\n"
     ]
    }
   ],
   "source": [
    "# Usar el operador OR (|)\n",
    "# Pacientes con colesterol alto o presión alta\n",
    "alto_riesgo = df[(df[\"chol\"] > 240) | (df[\"trestbps\"] > 140)]\n",
    "print(f\"Pacientes de alto riesgo: {len(alto_riesgo)}\")\n"
   ]
  },
  {
   "cell_type": "code",
   "execution_count": 104,
   "metadata": {},
   "outputs": [
    {
     "name": "stdout",
     "output_type": "stream",
     "text": [
      "Pacientes con dolor tipo 1 o 2: 73\n"
     ]
    }
   ],
   "source": [
    "# Filtrar usando isin() para múltiples valores\n",
    "# Pacientes con dolor de pecho tipo 1 o 2\n",
    "dolor_especifico = df[df[\"cp\"].isin([1, 2])]\n",
    "print(f\"Pacientes con dolor tipo 1 o 2: {len(dolor_especifico)}\")\n"
   ]
  },
  {
   "cell_type": "code",
   "execution_count": 105,
   "metadata": {},
   "outputs": [
    {
     "name": "stdout",
     "output_type": "stream",
     "text": [
      "Hombres mayores de 50 con colesterol > 200: 120\n"
     ]
    },
    {
     "data": {
      "application/vnd.microsoft.datawrangler.viewer.v0+json": {
       "columns": [
        {
         "name": "index",
         "rawType": "int64",
         "type": "integer"
        },
        {
         "name": "age",
         "rawType": "int64",
         "type": "integer"
        },
        {
         "name": "sex",
         "rawType": "int64",
         "type": "integer"
        },
        {
         "name": "cp",
         "rawType": "int64",
         "type": "integer"
        },
        {
         "name": "trestbps",
         "rawType": "int64",
         "type": "integer"
        },
        {
         "name": "chol",
         "rawType": "int64",
         "type": "integer"
        },
        {
         "name": "fbs",
         "rawType": "int64",
         "type": "integer"
        },
        {
         "name": "restecg",
         "rawType": "int64",
         "type": "integer"
        },
        {
         "name": "thalach",
         "rawType": "int64",
         "type": "integer"
        },
        {
         "name": "exang",
         "rawType": "int64",
         "type": "integer"
        },
        {
         "name": "oldpeak",
         "rawType": "float64",
         "type": "float"
        },
        {
         "name": "slope",
         "rawType": "int64",
         "type": "integer"
        },
        {
         "name": "ca",
         "rawType": "float64",
         "type": "float"
        },
        {
         "name": "thal",
         "rawType": "float64",
         "type": "float"
        },
        {
         "name": "num",
         "rawType": "int64",
         "type": "integer"
        }
       ],
       "ref": "d170cc9b-64a8-45f0-b5de-c158fb02e475",
       "rows": [
        [
         "0",
         "63",
         "1",
         "1",
         "145",
         "233",
         "1",
         "2",
         "150",
         "0",
         "2.3",
         "3",
         "0.0",
         "6.0",
         "0"
        ],
        [
         "1",
         "67",
         "1",
         "4",
         "160",
         "286",
         "0",
         "2",
         "108",
         "1",
         "1.5",
         "2",
         "3.0",
         "3.0",
         "2"
        ],
        [
         "2",
         "67",
         "1",
         "4",
         "120",
         "229",
         "0",
         "2",
         "129",
         "1",
         "2.6",
         "2",
         "2.0",
         "7.0",
         "1"
        ],
        [
         "5",
         "56",
         "1",
         "2",
         "120",
         "236",
         "0",
         "0",
         "178",
         "0",
         "0.8",
         "1",
         "0.0",
         "3.0",
         "0"
        ],
        [
         "8",
         "63",
         "1",
         "4",
         "130",
         "254",
         "0",
         "2",
         "147",
         "0",
         "1.4",
         "2",
         "1.0",
         "7.0",
         "2"
        ]
       ],
       "shape": {
        "columns": 14,
        "rows": 5
       }
      },
      "text/html": [
       "<div>\n",
       "<style scoped>\n",
       "    .dataframe tbody tr th:only-of-type {\n",
       "        vertical-align: middle;\n",
       "    }\n",
       "\n",
       "    .dataframe tbody tr th {\n",
       "        vertical-align: top;\n",
       "    }\n",
       "\n",
       "    .dataframe thead th {\n",
       "        text-align: right;\n",
       "    }\n",
       "</style>\n",
       "<table border=\"1\" class=\"dataframe\">\n",
       "  <thead>\n",
       "    <tr style=\"text-align: right;\">\n",
       "      <th></th>\n",
       "      <th>age</th>\n",
       "      <th>sex</th>\n",
       "      <th>cp</th>\n",
       "      <th>trestbps</th>\n",
       "      <th>chol</th>\n",
       "      <th>fbs</th>\n",
       "      <th>restecg</th>\n",
       "      <th>thalach</th>\n",
       "      <th>exang</th>\n",
       "      <th>oldpeak</th>\n",
       "      <th>slope</th>\n",
       "      <th>ca</th>\n",
       "      <th>thal</th>\n",
       "      <th>num</th>\n",
       "    </tr>\n",
       "  </thead>\n",
       "  <tbody>\n",
       "    <tr>\n",
       "      <th>0</th>\n",
       "      <td>63</td>\n",
       "      <td>1</td>\n",
       "      <td>1</td>\n",
       "      <td>145</td>\n",
       "      <td>233</td>\n",
       "      <td>1</td>\n",
       "      <td>2</td>\n",
       "      <td>150</td>\n",
       "      <td>0</td>\n",
       "      <td>2.3</td>\n",
       "      <td>3</td>\n",
       "      <td>0.0</td>\n",
       "      <td>6.0</td>\n",
       "      <td>0</td>\n",
       "    </tr>\n",
       "    <tr>\n",
       "      <th>1</th>\n",
       "      <td>67</td>\n",
       "      <td>1</td>\n",
       "      <td>4</td>\n",
       "      <td>160</td>\n",
       "      <td>286</td>\n",
       "      <td>0</td>\n",
       "      <td>2</td>\n",
       "      <td>108</td>\n",
       "      <td>1</td>\n",
       "      <td>1.5</td>\n",
       "      <td>2</td>\n",
       "      <td>3.0</td>\n",
       "      <td>3.0</td>\n",
       "      <td>2</td>\n",
       "    </tr>\n",
       "    <tr>\n",
       "      <th>2</th>\n",
       "      <td>67</td>\n",
       "      <td>1</td>\n",
       "      <td>4</td>\n",
       "      <td>120</td>\n",
       "      <td>229</td>\n",
       "      <td>0</td>\n",
       "      <td>2</td>\n",
       "      <td>129</td>\n",
       "      <td>1</td>\n",
       "      <td>2.6</td>\n",
       "      <td>2</td>\n",
       "      <td>2.0</td>\n",
       "      <td>7.0</td>\n",
       "      <td>1</td>\n",
       "    </tr>\n",
       "    <tr>\n",
       "      <th>5</th>\n",
       "      <td>56</td>\n",
       "      <td>1</td>\n",
       "      <td>2</td>\n",
       "      <td>120</td>\n",
       "      <td>236</td>\n",
       "      <td>0</td>\n",
       "      <td>0</td>\n",
       "      <td>178</td>\n",
       "      <td>0</td>\n",
       "      <td>0.8</td>\n",
       "      <td>1</td>\n",
       "      <td>0.0</td>\n",
       "      <td>3.0</td>\n",
       "      <td>0</td>\n",
       "    </tr>\n",
       "    <tr>\n",
       "      <th>8</th>\n",
       "      <td>63</td>\n",
       "      <td>1</td>\n",
       "      <td>4</td>\n",
       "      <td>130</td>\n",
       "      <td>254</td>\n",
       "      <td>0</td>\n",
       "      <td>2</td>\n",
       "      <td>147</td>\n",
       "      <td>0</td>\n",
       "      <td>1.4</td>\n",
       "      <td>2</td>\n",
       "      <td>1.0</td>\n",
       "      <td>7.0</td>\n",
       "      <td>2</td>\n",
       "    </tr>\n",
       "  </tbody>\n",
       "</table>\n",
       "</div>"
      ],
      "text/plain": [
       "   age  sex  cp  trestbps  chol  fbs  restecg  thalach  exang  oldpeak  slope  \\\n",
       "0   63    1   1       145   233    1        2      150      0      2.3      3   \n",
       "1   67    1   4       160   286    0        2      108      1      1.5      2   \n",
       "2   67    1   4       120   229    0        2      129      1      2.6      2   \n",
       "5   56    1   2       120   236    0        0      178      0      0.8      1   \n",
       "8   63    1   4       130   254    0        2      147      0      1.4      2   \n",
       "\n",
       "    ca  thal  num  \n",
       "0  0.0   6.0    0  \n",
       "1  3.0   3.0    2  \n",
       "2  2.0   7.0    1  \n",
       "5  0.0   3.0    0  \n",
       "8  1.0   7.0    2  "
      ]
     },
     "execution_count": 105,
     "metadata": {},
     "output_type": "execute_result"
    }
   ],
   "source": [
    "# Filtrar usando query() - más legible para condiciones complejas\n",
    "resultado = df.query(\"age > 50 and chol > 200 and sex == 1\")\n",
    "print(f\"Hombres mayores de 50 con colesterol > 200: {len(resultado)}\")\n",
    "resultado.head()\n"
   ]
  },
  {
   "cell_type": "markdown",
   "metadata": {},
   "source": [
    " ## 4. Crear y modificar columnas\n",
    "\n",
    "\n",
    "\n",
    " Es común necesitar crear nuevas variables o transformar las existentes."
   ]
  },
  {
   "cell_type": "code",
   "execution_count": 106,
   "metadata": {},
   "outputs": [
    {
     "name": "stdout",
     "output_type": "stream",
     "text": [
      "Nueva columna creada:\n"
     ]
    },
    {
     "data": {
      "application/vnd.microsoft.datawrangler.viewer.v0+json": {
       "columns": [
        {
         "name": "index",
         "rawType": "int64",
         "type": "integer"
        },
        {
         "name": "age",
         "rawType": "int64",
         "type": "integer"
        },
        {
         "name": "edad_en_meses",
         "rawType": "int64",
         "type": "integer"
        }
       ],
       "ref": "c78b2c2d-b41a-4747-8006-98d84c880062",
       "rows": [
        [
         "0",
         "63",
         "756"
        ],
        [
         "1",
         "67",
         "804"
        ],
        [
         "2",
         "67",
         "804"
        ],
        [
         "3",
         "37",
         "444"
        ],
        [
         "4",
         "41",
         "492"
        ]
       ],
       "shape": {
        "columns": 2,
        "rows": 5
       }
      },
      "text/html": [
       "<div>\n",
       "<style scoped>\n",
       "    .dataframe tbody tr th:only-of-type {\n",
       "        vertical-align: middle;\n",
       "    }\n",
       "\n",
       "    .dataframe tbody tr th {\n",
       "        vertical-align: top;\n",
       "    }\n",
       "\n",
       "    .dataframe thead th {\n",
       "        text-align: right;\n",
       "    }\n",
       "</style>\n",
       "<table border=\"1\" class=\"dataframe\">\n",
       "  <thead>\n",
       "    <tr style=\"text-align: right;\">\n",
       "      <th></th>\n",
       "      <th>age</th>\n",
       "      <th>edad_en_meses</th>\n",
       "    </tr>\n",
       "  </thead>\n",
       "  <tbody>\n",
       "    <tr>\n",
       "      <th>0</th>\n",
       "      <td>63</td>\n",
       "      <td>756</td>\n",
       "    </tr>\n",
       "    <tr>\n",
       "      <th>1</th>\n",
       "      <td>67</td>\n",
       "      <td>804</td>\n",
       "    </tr>\n",
       "    <tr>\n",
       "      <th>2</th>\n",
       "      <td>67</td>\n",
       "      <td>804</td>\n",
       "    </tr>\n",
       "    <tr>\n",
       "      <th>3</th>\n",
       "      <td>37</td>\n",
       "      <td>444</td>\n",
       "    </tr>\n",
       "    <tr>\n",
       "      <th>4</th>\n",
       "      <td>41</td>\n",
       "      <td>492</td>\n",
       "    </tr>\n",
       "  </tbody>\n",
       "</table>\n",
       "</div>"
      ],
      "text/plain": [
       "   age  edad_en_meses\n",
       "0   63            756\n",
       "1   67            804\n",
       "2   67            804\n",
       "3   37            444\n",
       "4   41            492"
      ]
     },
     "execution_count": 106,
     "metadata": {},
     "output_type": "execute_result"
    }
   ],
   "source": [
    "# Crear una columna simple\n",
    "df[\"edad_en_meses\"] = df[\"age\"] * 12\n",
    "print(\"Nueva columna creada:\")\n",
    "df[[\"age\", \"edad_en_meses\"]].head()\n"
   ]
  },
  {
   "cell_type": "code",
   "execution_count": 107,
   "metadata": {},
   "outputs": [
    {
     "data": {
      "application/vnd.microsoft.datawrangler.viewer.v0+json": {
       "columns": [
        {
         "name": "index",
         "rawType": "int64",
         "type": "integer"
        },
        {
         "name": "age",
         "rawType": "int64",
         "type": "integer"
        },
        {
         "name": "chol",
         "rawType": "int64",
         "type": "integer"
        },
        {
         "name": "indice_riesgo",
         "rawType": "float64",
         "type": "float"
        }
       ],
       "ref": "3a800546-78f6-4535-b606-781330696efb",
       "rows": [
        [
         "0",
         "63",
         "233",
         "3.6984126984126986"
        ],
        [
         "1",
         "67",
         "286",
         "4.268656716417911"
        ],
        [
         "2",
         "67",
         "229",
         "3.417910447761194"
        ],
        [
         "3",
         "37",
         "250",
         "6.756756756756757"
        ],
        [
         "4",
         "41",
         "204",
         "4.975609756097561"
        ]
       ],
       "shape": {
        "columns": 3,
        "rows": 5
       }
      },
      "text/html": [
       "<div>\n",
       "<style scoped>\n",
       "    .dataframe tbody tr th:only-of-type {\n",
       "        vertical-align: middle;\n",
       "    }\n",
       "\n",
       "    .dataframe tbody tr th {\n",
       "        vertical-align: top;\n",
       "    }\n",
       "\n",
       "    .dataframe thead th {\n",
       "        text-align: right;\n",
       "    }\n",
       "</style>\n",
       "<table border=\"1\" class=\"dataframe\">\n",
       "  <thead>\n",
       "    <tr style=\"text-align: right;\">\n",
       "      <th></th>\n",
       "      <th>age</th>\n",
       "      <th>chol</th>\n",
       "      <th>indice_riesgo</th>\n",
       "    </tr>\n",
       "  </thead>\n",
       "  <tbody>\n",
       "    <tr>\n",
       "      <th>0</th>\n",
       "      <td>63</td>\n",
       "      <td>233</td>\n",
       "      <td>3.698413</td>\n",
       "    </tr>\n",
       "    <tr>\n",
       "      <th>1</th>\n",
       "      <td>67</td>\n",
       "      <td>286</td>\n",
       "      <td>4.268657</td>\n",
       "    </tr>\n",
       "    <tr>\n",
       "      <th>2</th>\n",
       "      <td>67</td>\n",
       "      <td>229</td>\n",
       "      <td>3.417910</td>\n",
       "    </tr>\n",
       "    <tr>\n",
       "      <th>3</th>\n",
       "      <td>37</td>\n",
       "      <td>250</td>\n",
       "      <td>6.756757</td>\n",
       "    </tr>\n",
       "    <tr>\n",
       "      <th>4</th>\n",
       "      <td>41</td>\n",
       "      <td>204</td>\n",
       "      <td>4.975610</td>\n",
       "    </tr>\n",
       "  </tbody>\n",
       "</table>\n",
       "</div>"
      ],
      "text/plain": [
       "   age  chol  indice_riesgo\n",
       "0   63   233       3.698413\n",
       "1   67   286       4.268657\n",
       "2   67   229       3.417910\n",
       "3   37   250       6.756757\n",
       "4   41   204       4.975610"
      ]
     },
     "execution_count": 107,
     "metadata": {},
     "output_type": "execute_result"
    }
   ],
   "source": [
    "# Crear columna con operaciones entre columnas\n",
    "# Índice simple de riesgo cardiovascular\n",
    "df[\"indice_riesgo\"] = df[\"chol\"] / df[\"age\"]\n",
    "df[[\"age\", \"chol\", \"indice_riesgo\"]].head()\n"
   ]
  },
  {
   "cell_type": "code",
   "execution_count": 108,
   "metadata": {},
   "outputs": [
    {
     "name": "stdout",
     "output_type": "stream",
     "text": [
      "Distribución por grupos de edad:\n",
      "grupo_edad\n",
      "50-59    130\n",
      "40-49     76\n",
      "60-69     73\n",
      "<40       18\n",
      "70+        6\n",
      "Name: count, dtype: int64\n"
     ]
    }
   ],
   "source": [
    "# Crear columna categórica basada en valores continuos\n",
    "# Categorizar edad en grupos\n",
    "df[\"grupo_edad\"] = pd.cut(df[\"age\"], \n",
    "                          bins=[0, 40, 50, 60, 70, 100],\n",
    "                          labels=[\"<40\", \"40-49\", \"50-59\", \"60-69\", \"70+\"])\n",
    "print(\"Distribución por grupos de edad:\")\n",
    "print(df[\"grupo_edad\"].value_counts())\n"
   ]
  },
  {
   "cell_type": "code",
   "execution_count": 109,
   "metadata": {},
   "outputs": [
    {
     "name": "stdout",
     "output_type": "stream",
     "text": [
      "Categorías de colesterol:\n",
      "categoria_colesterol\n",
      "Alto           156\n",
      "Límite alto     98\n",
      "Normal          49\n",
      "Name: count, dtype: int64\n"
     ]
    }
   ],
   "source": [
    "# Usar apply() para transformaciones más complejas\n",
    "def clasificar_colesterol(valor):\n",
    "    if pd.isna(valor):\n",
    "        return \"Desconocido\"\n",
    "    elif valor < 200:\n",
    "        return \"Normal\"\n",
    "    elif valor < 240:\n",
    "        return \"Límite alto\"\n",
    "    else:\n",
    "        return \"Alto\"\n",
    "\n",
    "df[\"categoria_colesterol\"] = df[\"chol\"].apply(clasificar_colesterol)\n",
    "print(\"Categorías de colesterol:\")\n",
    "print(df[\"categoria_colesterol\"].value_counts())\n"
   ]
  },
  {
   "cell_type": "code",
   "execution_count": 110,
   "metadata": {},
   "outputs": [
    {
     "data": {
      "application/vnd.microsoft.datawrangler.viewer.v0+json": {
       "columns": [
        {
         "name": "index",
         "rawType": "int64",
         "type": "integer"
        },
        {
         "name": "sex",
         "rawType": "int64",
         "type": "integer"
        },
        {
         "name": "sexo_texto",
         "rawType": "object",
         "type": "string"
        }
       ],
       "ref": "6bb5ed35-cdd3-4873-ad30-157ba9fd9006",
       "rows": [
        [
         "0",
         "1",
         "Hombre"
        ],
        [
         "1",
         "1",
         "Hombre"
        ],
        [
         "2",
         "1",
         "Hombre"
        ],
        [
         "3",
         "1",
         "Hombre"
        ],
        [
         "4",
         "0",
         "Mujer"
        ]
       ],
       "shape": {
        "columns": 2,
        "rows": 5
       }
      },
      "text/html": [
       "<div>\n",
       "<style scoped>\n",
       "    .dataframe tbody tr th:only-of-type {\n",
       "        vertical-align: middle;\n",
       "    }\n",
       "\n",
       "    .dataframe tbody tr th {\n",
       "        vertical-align: top;\n",
       "    }\n",
       "\n",
       "    .dataframe thead th {\n",
       "        text-align: right;\n",
       "    }\n",
       "</style>\n",
       "<table border=\"1\" class=\"dataframe\">\n",
       "  <thead>\n",
       "    <tr style=\"text-align: right;\">\n",
       "      <th></th>\n",
       "      <th>sex</th>\n",
       "      <th>sexo_texto</th>\n",
       "    </tr>\n",
       "  </thead>\n",
       "  <tbody>\n",
       "    <tr>\n",
       "      <th>0</th>\n",
       "      <td>1</td>\n",
       "      <td>Hombre</td>\n",
       "    </tr>\n",
       "    <tr>\n",
       "      <th>1</th>\n",
       "      <td>1</td>\n",
       "      <td>Hombre</td>\n",
       "    </tr>\n",
       "    <tr>\n",
       "      <th>2</th>\n",
       "      <td>1</td>\n",
       "      <td>Hombre</td>\n",
       "    </tr>\n",
       "    <tr>\n",
       "      <th>3</th>\n",
       "      <td>1</td>\n",
       "      <td>Hombre</td>\n",
       "    </tr>\n",
       "    <tr>\n",
       "      <th>4</th>\n",
       "      <td>0</td>\n",
       "      <td>Mujer</td>\n",
       "    </tr>\n",
       "  </tbody>\n",
       "</table>\n",
       "</div>"
      ],
      "text/plain": [
       "   sex sexo_texto\n",
       "0    1     Hombre\n",
       "1    1     Hombre\n",
       "2    1     Hombre\n",
       "3    1     Hombre\n",
       "4    0      Mujer"
      ]
     },
     "execution_count": 110,
     "metadata": {},
     "output_type": "execute_result"
    }
   ],
   "source": [
    "# Crear columna usando numpy.where (más eficiente para condiciones simples)\n",
    "df[\"sexo_texto\"] = np.where(df[\"sex\"] == 0, \"Mujer\", \"Hombre\")\n",
    "df[[\"sex\", \"sexo_texto\"]].head()\n"
   ]
  },
  {
   "cell_type": "code",
   "execution_count": 111,
   "metadata": {},
   "outputs": [
    {
     "data": {
      "application/vnd.microsoft.datawrangler.viewer.v0+json": {
       "columns": [
        {
         "name": "index",
         "rawType": "int64",
         "type": "integer"
        },
        {
         "name": "num",
         "rawType": "int64",
         "type": "integer"
        },
        {
         "name": "nivel_enfermedad",
         "rawType": "object",
         "type": "string"
        }
       ],
       "ref": "2d9c3bbd-3090-4d35-af7f-4fb7626be515",
       "rows": [
        [
         "0",
         "0",
         "Sin enfermedad"
        ],
        [
         "1",
         "2",
         "Moderada"
        ],
        [
         "2",
         "1",
         "Leve"
        ],
        [
         "3",
         "0",
         "Sin enfermedad"
        ],
        [
         "4",
         "0",
         "Sin enfermedad"
        ],
        [
         "5",
         "0",
         "Sin enfermedad"
        ],
        [
         "6",
         "3",
         "Severa"
        ],
        [
         "7",
         "0",
         "Sin enfermedad"
        ],
        [
         "8",
         "2",
         "Moderada"
        ],
        [
         "9",
         "1",
         "Leve"
        ]
       ],
       "shape": {
        "columns": 2,
        "rows": 10
       }
      },
      "text/html": [
       "<div>\n",
       "<style scoped>\n",
       "    .dataframe tbody tr th:only-of-type {\n",
       "        vertical-align: middle;\n",
       "    }\n",
       "\n",
       "    .dataframe tbody tr th {\n",
       "        vertical-align: top;\n",
       "    }\n",
       "\n",
       "    .dataframe thead th {\n",
       "        text-align: right;\n",
       "    }\n",
       "</style>\n",
       "<table border=\"1\" class=\"dataframe\">\n",
       "  <thead>\n",
       "    <tr style=\"text-align: right;\">\n",
       "      <th></th>\n",
       "      <th>num</th>\n",
       "      <th>nivel_enfermedad</th>\n",
       "    </tr>\n",
       "  </thead>\n",
       "  <tbody>\n",
       "    <tr>\n",
       "      <th>0</th>\n",
       "      <td>0</td>\n",
       "      <td>Sin enfermedad</td>\n",
       "    </tr>\n",
       "    <tr>\n",
       "      <th>1</th>\n",
       "      <td>2</td>\n",
       "      <td>Moderada</td>\n",
       "    </tr>\n",
       "    <tr>\n",
       "      <th>2</th>\n",
       "      <td>1</td>\n",
       "      <td>Leve</td>\n",
       "    </tr>\n",
       "    <tr>\n",
       "      <th>3</th>\n",
       "      <td>0</td>\n",
       "      <td>Sin enfermedad</td>\n",
       "    </tr>\n",
       "    <tr>\n",
       "      <th>4</th>\n",
       "      <td>0</td>\n",
       "      <td>Sin enfermedad</td>\n",
       "    </tr>\n",
       "    <tr>\n",
       "      <th>5</th>\n",
       "      <td>0</td>\n",
       "      <td>Sin enfermedad</td>\n",
       "    </tr>\n",
       "    <tr>\n",
       "      <th>6</th>\n",
       "      <td>3</td>\n",
       "      <td>Severa</td>\n",
       "    </tr>\n",
       "    <tr>\n",
       "      <th>7</th>\n",
       "      <td>0</td>\n",
       "      <td>Sin enfermedad</td>\n",
       "    </tr>\n",
       "    <tr>\n",
       "      <th>8</th>\n",
       "      <td>2</td>\n",
       "      <td>Moderada</td>\n",
       "    </tr>\n",
       "    <tr>\n",
       "      <th>9</th>\n",
       "      <td>1</td>\n",
       "      <td>Leve</td>\n",
       "    </tr>\n",
       "  </tbody>\n",
       "</table>\n",
       "</div>"
      ],
      "text/plain": [
       "   num nivel_enfermedad\n",
       "0    0   Sin enfermedad\n",
       "1    2         Moderada\n",
       "2    1             Leve\n",
       "3    0   Sin enfermedad\n",
       "4    0   Sin enfermedad\n",
       "5    0   Sin enfermedad\n",
       "6    3           Severa\n",
       "7    0   Sin enfermedad\n",
       "8    2         Moderada\n",
       "9    1             Leve"
      ]
     },
     "execution_count": 111,
     "metadata": {},
     "output_type": "execute_result"
    }
   ],
   "source": [
    "# Mapear valores usando un diccionario\n",
    "mapeo_enfermedad = {0: \"Sin enfermedad\", 1: \"Leve\", 2: \"Moderada\", 3: \"Severa\", 4: \"Muy severa\"}\n",
    "df[\"nivel_enfermedad\"] = df[\"num\"].map(mapeo_enfermedad)\n",
    "df[[\"num\", \"nivel_enfermedad\"]].head(10)\n"
   ]
  },
  {
   "cell_type": "code",
   "execution_count": 112,
   "metadata": {},
   "outputs": [
    {
     "data": {
      "application/vnd.microsoft.datawrangler.viewer.v0+json": {
       "columns": [
        {
         "name": "index",
         "rawType": "object",
         "type": "string"
        },
        {
         "name": "chol",
         "rawType": "float64",
         "type": "float"
        },
        {
         "name": "chol_normalizado",
         "rawType": "float64",
         "type": "float"
        }
       ],
       "ref": "7ebe4efc-b941-46a0-a121-7fd5ec15fdf7",
       "rows": [
        [
         "count",
         "303.0",
         "303.0"
        ],
        [
         "mean",
         "246.69306930693068",
         "0.2755549527555496"
        ],
        [
         "std",
         "51.776917542637015",
         "0.11821214050830377"
        ],
        [
         "min",
         "126.0",
         "0.0"
        ],
        [
         "25%",
         "211.0",
         "0.19406392694063926"
        ],
        [
         "50%",
         "241.0",
         "0.2625570776255708"
        ],
        [
         "75%",
         "275.0",
         "0.3401826484018265"
        ],
        [
         "max",
         "564.0",
         "1.0"
        ]
       ],
       "shape": {
        "columns": 2,
        "rows": 8
       }
      },
      "text/html": [
       "<div>\n",
       "<style scoped>\n",
       "    .dataframe tbody tr th:only-of-type {\n",
       "        vertical-align: middle;\n",
       "    }\n",
       "\n",
       "    .dataframe tbody tr th {\n",
       "        vertical-align: top;\n",
       "    }\n",
       "\n",
       "    .dataframe thead th {\n",
       "        text-align: right;\n",
       "    }\n",
       "</style>\n",
       "<table border=\"1\" class=\"dataframe\">\n",
       "  <thead>\n",
       "    <tr style=\"text-align: right;\">\n",
       "      <th></th>\n",
       "      <th>chol</th>\n",
       "      <th>chol_normalizado</th>\n",
       "    </tr>\n",
       "  </thead>\n",
       "  <tbody>\n",
       "    <tr>\n",
       "      <th>count</th>\n",
       "      <td>303.000000</td>\n",
       "      <td>303.000000</td>\n",
       "    </tr>\n",
       "    <tr>\n",
       "      <th>mean</th>\n",
       "      <td>246.693069</td>\n",
       "      <td>0.275555</td>\n",
       "    </tr>\n",
       "    <tr>\n",
       "      <th>std</th>\n",
       "      <td>51.776918</td>\n",
       "      <td>0.118212</td>\n",
       "    </tr>\n",
       "    <tr>\n",
       "      <th>min</th>\n",
       "      <td>126.000000</td>\n",
       "      <td>0.000000</td>\n",
       "    </tr>\n",
       "    <tr>\n",
       "      <th>25%</th>\n",
       "      <td>211.000000</td>\n",
       "      <td>0.194064</td>\n",
       "    </tr>\n",
       "    <tr>\n",
       "      <th>50%</th>\n",
       "      <td>241.000000</td>\n",
       "      <td>0.262557</td>\n",
       "    </tr>\n",
       "    <tr>\n",
       "      <th>75%</th>\n",
       "      <td>275.000000</td>\n",
       "      <td>0.340183</td>\n",
       "    </tr>\n",
       "    <tr>\n",
       "      <th>max</th>\n",
       "      <td>564.000000</td>\n",
       "      <td>1.000000</td>\n",
       "    </tr>\n",
       "  </tbody>\n",
       "</table>\n",
       "</div>"
      ],
      "text/plain": [
       "             chol  chol_normalizado\n",
       "count  303.000000        303.000000\n",
       "mean   246.693069          0.275555\n",
       "std     51.776918          0.118212\n",
       "min    126.000000          0.000000\n",
       "25%    211.000000          0.194064\n",
       "50%    241.000000          0.262557\n",
       "75%    275.000000          0.340183\n",
       "max    564.000000          1.000000"
      ]
     },
     "execution_count": 112,
     "metadata": {},
     "output_type": "execute_result"
    }
   ],
   "source": [
    "# Modificar columna existente\n",
    "# Normalizar el colesterol (escala 0-1)\n",
    "df[\"chol_normalizado\"] = (df[\"chol\"] - df[\"chol\"].min()) / (df[\"chol\"].max() - df[\"chol\"].min())\n",
    "df[[\"chol\", \"chol_normalizado\"]].describe()\n"
   ]
  },
  {
   "cell_type": "markdown",
   "metadata": {},
   "source": [
    " ## 5. Exploración y análisis básico\n",
    "\n",
    "\n",
    "\n",
    " Vamos a explorar los datos para entender mejor el dataset."
   ]
  },
  {
   "cell_type": "code",
   "execution_count": 113,
   "metadata": {},
   "outputs": [
    {
     "name": "stdout",
     "output_type": "stream",
     "text": [
      "Valores únicos en 'num' (diagnóstico):\n",
      "num\n",
      "0    164\n",
      "1     55\n",
      "2     36\n",
      "3     35\n",
      "4     13\n",
      "Name: count, dtype: int64\n"
     ]
    }
   ],
   "source": [
    "# Contar valores únicos en una columna\n",
    "print(\"Valores únicos en 'num' (diagnóstico):\")\n",
    "print(df[\"num\"].value_counts())\n"
   ]
  },
  {
   "cell_type": "code",
   "execution_count": 114,
   "metadata": {},
   "outputs": [
    {
     "name": "stdout",
     "output_type": "stream",
     "text": [
      "\n",
      "Porcentaje de pacientes por diagnóstico:\n",
      "num\n",
      "0    54.125413\n",
      "1    18.151815\n",
      "2    11.881188\n",
      "3    11.551155\n",
      "4     4.290429\n",
      "Name: proportion, dtype: float64\n"
     ]
    }
   ],
   "source": [
    "# Porcentajes en lugar de conteos\n",
    "print(\"\\nPorcentaje de pacientes por diagnóstico:\")\n",
    "print(df[\"num\"].value_counts(normalize=True) * 100)\n"
   ]
  },
  {
   "cell_type": "code",
   "execution_count": 115,
   "metadata": {},
   "outputs": [
    {
     "name": "stdout",
     "output_type": "stream",
     "text": [
      "Tabla cruzada: Sexo vs Diagnóstico\n",
      "nivel_enfermedad  Leve  Moderada  Muy severa  Severa  Sin enfermedad\n",
      "sexo_texto                                                          \n",
      "Hombre              46        29          11      28              92\n",
      "Mujer                9         7           2       7              72\n"
     ]
    }
   ],
   "source": [
    "# Tabla cruzada entre dos variables\n",
    "print(\"Tabla cruzada: Sexo vs Diagnóstico\")\n",
    "tabla = pd.crosstab(df[\"sexo_texto\"], df[\"nivel_enfermedad\"])\n",
    "print(tabla)\n"
   ]
  },
  {
   "cell_type": "code",
   "execution_count": 119,
   "metadata": {},
   "outputs": [
    {
     "name": "stdout",
     "output_type": "stream",
     "text": [
      "\n",
      "Porcentajes por sexo:\n",
      "nivel_enfermedad  Leve  Moderada  Muy severa  Severa  Sin enfermedad\n",
      "sexo_texto                                                          \n",
      "Hombre            22.3      14.1         5.3    13.6            44.7\n",
      "Mujer              9.3       7.2         2.1     7.2            74.2\n"
     ]
    }
   ],
   "source": [
    "# Tabla cruzada con porcentajes por fila\n",
    "print(\"\\nPorcentajes por sexo:\")\n",
    "tabla_pct = pd.crosstab(df[\"sexo_texto\"], df[\"nivel_enfermedad\"], normalize=0) * 100\n",
    "print(tabla_pct.round(1))\n"
   ]
  },
  {
   "cell_type": "code",
   "execution_count": 120,
   "metadata": {},
   "outputs": [
    {
     "name": "stdout",
     "output_type": "stream",
     "text": [
      "\n",
      "Porcentajes por sexo:\n",
      "nivel_enfermedad  Leve  Moderada  Muy severa  Severa  Sin enfermedad\n",
      "sexo_texto                                                          \n",
      "Hombre            83.6      80.6        84.6    80.0            56.1\n",
      "Mujer             16.4      19.4        15.4    20.0            43.9\n"
     ]
    }
   ],
   "source": [
    "# Tabla cruzada con porcentajes por fila\n",
    "print(\"\\nPorcentajes por sexo:\")\n",
    "tabla_pct = pd.crosstab(df[\"sexo_texto\"], df[\"nivel_enfermedad\"], normalize=1) * 100\n",
    "print(tabla_pct.round(1))\n"
   ]
  },
  {
   "cell_type": "markdown",
   "metadata": {},
   "source": [
    " ## 6. Trabajar con valores nulos\n",
    "\n",
    "\n",
    "\n",
    " El manejo de valores faltantes es crucial en el análisis de datos."
   ]
  },
  {
   "cell_type": "code",
   "execution_count": 121,
   "metadata": {},
   "outputs": [
    {
     "name": "stdout",
     "output_type": "stream",
     "text": [
      "Valores nulos por columna:\n",
      "age                     0\n",
      "sex                     0\n",
      "cp                      0\n",
      "trestbps                0\n",
      "chol                    0\n",
      "fbs                     0\n",
      "restecg                 0\n",
      "thalach                 0\n",
      "exang                   0\n",
      "oldpeak                 0\n",
      "slope                   0\n",
      "ca                      4\n",
      "thal                    2\n",
      "num                     0\n",
      "edad_en_meses           0\n",
      "indice_riesgo           0\n",
      "grupo_edad              0\n",
      "categoria_colesterol    0\n",
      "sexo_texto              0\n",
      "nivel_enfermedad        0\n",
      "chol_normalizado        0\n",
      "dtype: int64\n"
     ]
    }
   ],
   "source": [
    "# Detectar valores nulos\n",
    "print(\"Valores nulos por columna:\")\n",
    "print(df.isnull().sum())\n"
   ]
  },
  {
   "cell_type": "code",
   "execution_count": 122,
   "metadata": {},
   "outputs": [
    {
     "name": "stdout",
     "output_type": "stream",
     "text": [
      "\n",
      "Porcentaje de valores nulos:\n",
      "age                     0.000000\n",
      "sex                     0.000000\n",
      "cp                      0.000000\n",
      "trestbps                0.000000\n",
      "chol                    0.000000\n",
      "fbs                     0.000000\n",
      "restecg                 0.000000\n",
      "thalach                 0.000000\n",
      "exang                   0.000000\n",
      "oldpeak                 0.000000\n",
      "slope                   0.000000\n",
      "ca                      1.320132\n",
      "thal                    0.660066\n",
      "num                     0.000000\n",
      "edad_en_meses           0.000000\n",
      "indice_riesgo           0.000000\n",
      "grupo_edad              0.000000\n",
      "categoria_colesterol    0.000000\n",
      "sexo_texto              0.000000\n",
      "nivel_enfermedad        0.000000\n",
      "chol_normalizado        0.000000\n",
      "dtype: float64\n"
     ]
    }
   ],
   "source": [
    "# Porcentaje de valores nulos\n",
    "print(\"\\nPorcentaje de valores nulos:\")\n",
    "print((df.isnull().sum() / len(df)) * 100)\n"
   ]
  },
  {
   "cell_type": "code",
   "execution_count": 123,
   "metadata": {},
   "outputs": [
    {
     "name": "stdout",
     "output_type": "stream",
     "text": [
      "Filas con al menos un valor nulo: 6\n"
     ]
    },
    {
     "data": {
      "application/vnd.microsoft.datawrangler.viewer.v0+json": {
       "columns": [
        {
         "name": "index",
         "rawType": "int64",
         "type": "integer"
        },
        {
         "name": "age",
         "rawType": "int64",
         "type": "integer"
        },
        {
         "name": "sex",
         "rawType": "int64",
         "type": "integer"
        },
        {
         "name": "cp",
         "rawType": "int64",
         "type": "integer"
        },
        {
         "name": "trestbps",
         "rawType": "int64",
         "type": "integer"
        },
        {
         "name": "chol",
         "rawType": "int64",
         "type": "integer"
        },
        {
         "name": "fbs",
         "rawType": "int64",
         "type": "integer"
        },
        {
         "name": "restecg",
         "rawType": "int64",
         "type": "integer"
        },
        {
         "name": "thalach",
         "rawType": "int64",
         "type": "integer"
        },
        {
         "name": "exang",
         "rawType": "int64",
         "type": "integer"
        },
        {
         "name": "oldpeak",
         "rawType": "float64",
         "type": "float"
        },
        {
         "name": "slope",
         "rawType": "int64",
         "type": "integer"
        },
        {
         "name": "ca",
         "rawType": "float64",
         "type": "float"
        },
        {
         "name": "thal",
         "rawType": "float64",
         "type": "float"
        },
        {
         "name": "num",
         "rawType": "int64",
         "type": "integer"
        },
        {
         "name": "edad_en_meses",
         "rawType": "int64",
         "type": "integer"
        },
        {
         "name": "indice_riesgo",
         "rawType": "float64",
         "type": "float"
        },
        {
         "name": "grupo_edad",
         "rawType": "category",
         "type": "unknown"
        },
        {
         "name": "categoria_colesterol",
         "rawType": "object",
         "type": "string"
        },
        {
         "name": "sexo_texto",
         "rawType": "object",
         "type": "string"
        },
        {
         "name": "nivel_enfermedad",
         "rawType": "object",
         "type": "string"
        },
        {
         "name": "chol_normalizado",
         "rawType": "float64",
         "type": "float"
        }
       ],
       "ref": "10e1d93d-fad7-4c1e-bc8e-9d969dc46414",
       "rows": [
        [
         "87",
         "53",
         "0",
         "3",
         "128",
         "216",
         "0",
         "2",
         "115",
         "0",
         "0.0",
         "1",
         "0.0",
         null,
         "0",
         "636",
         "4.0754716981132075",
         "50-59",
         "Límite alto",
         "Mujer",
         "Sin enfermedad",
         "0.2054794520547945"
        ],
        [
         "166",
         "52",
         "1",
         "3",
         "138",
         "223",
         "0",
         "0",
         "169",
         "0",
         "0.0",
         "1",
         null,
         "3.0",
         "0",
         "624",
         "4.288461538461538",
         "50-59",
         "Límite alto",
         "Hombre",
         "Sin enfermedad",
         "0.22146118721461186"
        ],
        [
         "192",
         "43",
         "1",
         "4",
         "132",
         "247",
         "1",
         "2",
         "143",
         "1",
         "0.1",
         "2",
         null,
         "7.0",
         "1",
         "516",
         "5.744186046511628",
         "40-49",
         "Alto",
         "Hombre",
         "Leve",
         "0.2762557077625571"
        ],
        [
         "266",
         "52",
         "1",
         "4",
         "128",
         "204",
         "1",
         "0",
         "156",
         "1",
         "1.0",
         "2",
         "0.0",
         null,
         "2",
         "624",
         "3.923076923076923",
         "50-59",
         "Límite alto",
         "Hombre",
         "Moderada",
         "0.1780821917808219"
        ],
        [
         "287",
         "58",
         "1",
         "2",
         "125",
         "220",
         "0",
         "0",
         "144",
         "0",
         "0.4",
         "2",
         null,
         "7.0",
         "0",
         "696",
         "3.793103448275862",
         "50-59",
         "Límite alto",
         "Hombre",
         "Sin enfermedad",
         "0.2146118721461187"
        ]
       ],
       "shape": {
        "columns": 21,
        "rows": 5
       }
      },
      "text/html": [
       "<div>\n",
       "<style scoped>\n",
       "    .dataframe tbody tr th:only-of-type {\n",
       "        vertical-align: middle;\n",
       "    }\n",
       "\n",
       "    .dataframe tbody tr th {\n",
       "        vertical-align: top;\n",
       "    }\n",
       "\n",
       "    .dataframe thead th {\n",
       "        text-align: right;\n",
       "    }\n",
       "</style>\n",
       "<table border=\"1\" class=\"dataframe\">\n",
       "  <thead>\n",
       "    <tr style=\"text-align: right;\">\n",
       "      <th></th>\n",
       "      <th>age</th>\n",
       "      <th>sex</th>\n",
       "      <th>cp</th>\n",
       "      <th>trestbps</th>\n",
       "      <th>chol</th>\n",
       "      <th>fbs</th>\n",
       "      <th>restecg</th>\n",
       "      <th>thalach</th>\n",
       "      <th>exang</th>\n",
       "      <th>oldpeak</th>\n",
       "      <th>...</th>\n",
       "      <th>ca</th>\n",
       "      <th>thal</th>\n",
       "      <th>num</th>\n",
       "      <th>edad_en_meses</th>\n",
       "      <th>indice_riesgo</th>\n",
       "      <th>grupo_edad</th>\n",
       "      <th>categoria_colesterol</th>\n",
       "      <th>sexo_texto</th>\n",
       "      <th>nivel_enfermedad</th>\n",
       "      <th>chol_normalizado</th>\n",
       "    </tr>\n",
       "  </thead>\n",
       "  <tbody>\n",
       "    <tr>\n",
       "      <th>87</th>\n",
       "      <td>53</td>\n",
       "      <td>0</td>\n",
       "      <td>3</td>\n",
       "      <td>128</td>\n",
       "      <td>216</td>\n",
       "      <td>0</td>\n",
       "      <td>2</td>\n",
       "      <td>115</td>\n",
       "      <td>0</td>\n",
       "      <td>0.0</td>\n",
       "      <td>...</td>\n",
       "      <td>0.0</td>\n",
       "      <td>NaN</td>\n",
       "      <td>0</td>\n",
       "      <td>636</td>\n",
       "      <td>4.075472</td>\n",
       "      <td>50-59</td>\n",
       "      <td>Límite alto</td>\n",
       "      <td>Mujer</td>\n",
       "      <td>Sin enfermedad</td>\n",
       "      <td>0.205479</td>\n",
       "    </tr>\n",
       "    <tr>\n",
       "      <th>166</th>\n",
       "      <td>52</td>\n",
       "      <td>1</td>\n",
       "      <td>3</td>\n",
       "      <td>138</td>\n",
       "      <td>223</td>\n",
       "      <td>0</td>\n",
       "      <td>0</td>\n",
       "      <td>169</td>\n",
       "      <td>0</td>\n",
       "      <td>0.0</td>\n",
       "      <td>...</td>\n",
       "      <td>NaN</td>\n",
       "      <td>3.0</td>\n",
       "      <td>0</td>\n",
       "      <td>624</td>\n",
       "      <td>4.288462</td>\n",
       "      <td>50-59</td>\n",
       "      <td>Límite alto</td>\n",
       "      <td>Hombre</td>\n",
       "      <td>Sin enfermedad</td>\n",
       "      <td>0.221461</td>\n",
       "    </tr>\n",
       "    <tr>\n",
       "      <th>192</th>\n",
       "      <td>43</td>\n",
       "      <td>1</td>\n",
       "      <td>4</td>\n",
       "      <td>132</td>\n",
       "      <td>247</td>\n",
       "      <td>1</td>\n",
       "      <td>2</td>\n",
       "      <td>143</td>\n",
       "      <td>1</td>\n",
       "      <td>0.1</td>\n",
       "      <td>...</td>\n",
       "      <td>NaN</td>\n",
       "      <td>7.0</td>\n",
       "      <td>1</td>\n",
       "      <td>516</td>\n",
       "      <td>5.744186</td>\n",
       "      <td>40-49</td>\n",
       "      <td>Alto</td>\n",
       "      <td>Hombre</td>\n",
       "      <td>Leve</td>\n",
       "      <td>0.276256</td>\n",
       "    </tr>\n",
       "    <tr>\n",
       "      <th>266</th>\n",
       "      <td>52</td>\n",
       "      <td>1</td>\n",
       "      <td>4</td>\n",
       "      <td>128</td>\n",
       "      <td>204</td>\n",
       "      <td>1</td>\n",
       "      <td>0</td>\n",
       "      <td>156</td>\n",
       "      <td>1</td>\n",
       "      <td>1.0</td>\n",
       "      <td>...</td>\n",
       "      <td>0.0</td>\n",
       "      <td>NaN</td>\n",
       "      <td>2</td>\n",
       "      <td>624</td>\n",
       "      <td>3.923077</td>\n",
       "      <td>50-59</td>\n",
       "      <td>Límite alto</td>\n",
       "      <td>Hombre</td>\n",
       "      <td>Moderada</td>\n",
       "      <td>0.178082</td>\n",
       "    </tr>\n",
       "    <tr>\n",
       "      <th>287</th>\n",
       "      <td>58</td>\n",
       "      <td>1</td>\n",
       "      <td>2</td>\n",
       "      <td>125</td>\n",
       "      <td>220</td>\n",
       "      <td>0</td>\n",
       "      <td>0</td>\n",
       "      <td>144</td>\n",
       "      <td>0</td>\n",
       "      <td>0.4</td>\n",
       "      <td>...</td>\n",
       "      <td>NaN</td>\n",
       "      <td>7.0</td>\n",
       "      <td>0</td>\n",
       "      <td>696</td>\n",
       "      <td>3.793103</td>\n",
       "      <td>50-59</td>\n",
       "      <td>Límite alto</td>\n",
       "      <td>Hombre</td>\n",
       "      <td>Sin enfermedad</td>\n",
       "      <td>0.214612</td>\n",
       "    </tr>\n",
       "  </tbody>\n",
       "</table>\n",
       "<p>5 rows × 21 columns</p>\n",
       "</div>"
      ],
      "text/plain": [
       "     age  sex  cp  trestbps  chol  fbs  restecg  thalach  exang  oldpeak  ...  \\\n",
       "87    53    0   3       128   216    0        2      115      0      0.0  ...   \n",
       "166   52    1   3       138   223    0        0      169      0      0.0  ...   \n",
       "192   43    1   4       132   247    1        2      143      1      0.1  ...   \n",
       "266   52    1   4       128   204    1        0      156      1      1.0  ...   \n",
       "287   58    1   2       125   220    0        0      144      0      0.4  ...   \n",
       "\n",
       "      ca  thal  num  edad_en_meses  indice_riesgo  grupo_edad  \\\n",
       "87   0.0   NaN    0            636       4.075472       50-59   \n",
       "166  NaN   3.0    0            624       4.288462       50-59   \n",
       "192  NaN   7.0    1            516       5.744186       40-49   \n",
       "266  0.0   NaN    2            624       3.923077       50-59   \n",
       "287  NaN   7.0    0            696       3.793103       50-59   \n",
       "\n",
       "    categoria_colesterol sexo_texto nivel_enfermedad chol_normalizado  \n",
       "87           Límite alto      Mujer   Sin enfermedad         0.205479  \n",
       "166          Límite alto     Hombre   Sin enfermedad         0.221461  \n",
       "192                 Alto     Hombre             Leve         0.276256  \n",
       "266          Límite alto     Hombre         Moderada         0.178082  \n",
       "287          Límite alto     Hombre   Sin enfermedad         0.214612  \n",
       "\n",
       "[5 rows x 21 columns]"
      ]
     },
     "execution_count": 123,
     "metadata": {},
     "output_type": "execute_result"
    }
   ],
   "source": [
    "# Filas con algún valor nulo\n",
    "filas_con_nulos = df[df.isnull().any(axis=1)]\n",
    "print(f\"Filas con al menos un valor nulo: {len(filas_con_nulos)}\")\n",
    "filas_con_nulos.head()\n"
   ]
  },
  {
   "cell_type": "code",
   "execution_count": 124,
   "metadata": {},
   "outputs": [
    {
     "name": "stdout",
     "output_type": "stream",
     "text": [
      "Filas antes de eliminar nulos: 303\n",
      "Filas después de eliminar nulos: 297\n"
     ]
    }
   ],
   "source": [
    "# Diferentes estrategias para tratar nulos\n",
    "\n",
    "# Crear una copia para no modificar el original\n",
    "df_limpio = df.copy()\n",
    "\n",
    "# Opción 1: Eliminar filas con nulos\n",
    "df_sin_nulos = df_limpio.dropna()\n",
    "print(f\"Filas antes de eliminar nulos: {len(df_limpio)}\")\n",
    "print(f\"Filas después de eliminar nulos: {len(df_sin_nulos)}\")\n"
   ]
  },
  {
   "cell_type": "code",
   "execution_count": 125,
   "metadata": {},
   "outputs": [
    {
     "name": "stdout",
     "output_type": "stream",
     "text": [
      "Valores nulos después del tratamiento:\n",
      "age                     0\n",
      "sex                     0\n",
      "cp                      0\n",
      "trestbps                0\n",
      "chol                    0\n",
      "fbs                     0\n",
      "restecg                 0\n",
      "thalach                 0\n",
      "exang                   0\n",
      "oldpeak                 0\n",
      "slope                   0\n",
      "ca                      0\n",
      "thal                    0\n",
      "num                     0\n",
      "edad_en_meses           0\n",
      "indice_riesgo           0\n",
      "grupo_edad              0\n",
      "categoria_colesterol    0\n",
      "sexo_texto              0\n",
      "nivel_enfermedad        0\n",
      "chol_normalizado        0\n",
      "dtype: int64\n"
     ]
    }
   ],
   "source": [
    "# Opción 2: Rellenar con un valor específico\n",
    "df_limpio[\"ca\"] = df_limpio[\"ca\"].fillna(0)\n",
    "\n",
    "# Opción 3: Rellenar con la media (para variables numéricas)\n",
    "df_limpio[\"thal\"] = df_limpio[\"thal\"].fillna(df_limpio[\"thal\"].mean())\n",
    "\n",
    "# Opción 4: Rellenar con la moda (para categóricas)\n",
    "df_limpio[\"slope\"] = df_limpio[\"slope\"].fillna(df_limpio[\"slope\"].mode()[0])\n",
    "\n",
    "# Opción 5: Rellenar con el valor anterior (forward fill)\n",
    "# df_limpio[\"columna\"] = df_limpio[\"columna\"].fillna(method='ffill')\n",
    "\n",
    "print(\"Valores nulos después del tratamiento:\")\n",
    "print(df_limpio.isnull().sum())\n"
   ]
  },
  {
   "cell_type": "markdown",
   "metadata": {},
   "source": [
    " ## 7. Agrupar y resumir datos\n",
    "\n",
    "\n",
    "\n",
    " La agrupación es fundamental para obtener estadísticas por categorías."
   ]
  },
  {
   "cell_type": "code",
   "execution_count": 126,
   "metadata": {},
   "outputs": [
    {
     "name": "stdout",
     "output_type": "stream",
     "text": [
      "Edad media por sexo:\n",
      "sexo_texto\n",
      "Hombre    53.834951\n",
      "Mujer     55.721649\n",
      "Name: age, dtype: float64\n"
     ]
    }
   ],
   "source": [
    "# Agrupar por una variable y calcular media\n",
    "print(\"Edad media por sexo:\")\n",
    "print(df.groupby(\"sexo_texto\")[\"age\"].mean())\n"
   ]
  },
  {
   "cell_type": "code",
   "execution_count": 127,
   "metadata": {},
   "outputs": [
    {
     "name": "stdout",
     "output_type": "stream",
     "text": [
      "\n",
      "Estadísticas de colesterol por sexo:\n",
      "                  mean  median        std  min  max\n",
      "sexo_texto                                         \n",
      "Hombre      239.601942   235.0  42.649757  126  353\n",
      "Mujer       261.752577   254.0  64.900891  141  564\n"
     ]
    }
   ],
   "source": [
    "# Múltiples estadísticas a la vez\n",
    "print(\"\\nEstadísticas de colesterol por sexo:\")\n",
    "print(df.groupby(\"sexo_texto\")[\"chol\"].agg([\"mean\", \"median\", \"std\", \"min\", \"max\"]))\n"
   ]
  },
  {
   "cell_type": "code",
   "execution_count": 128,
   "metadata": {},
   "outputs": [
    {
     "name": "stdout",
     "output_type": "stream",
     "text": [
      "\n",
      "Edad media por sexo y diagnóstico:\n",
      "sexo_texto  nivel_enfermedad\n",
      "Hombre      Leve                54.4\n",
      "            Moderada            58.7\n",
      "            Muy severa          58.9\n",
      "            Severa              55.0\n",
      "            Sin enfermedad      51.0\n",
      "Mujer       Leve                60.3\n",
      "            Moderada            55.3\n",
      "            Muy severa          64.0\n",
      "            Severa              59.9\n",
      "            Sin enfermedad      54.6\n",
      "Name: age, dtype: float64\n"
     ]
    }
   ],
   "source": [
    "# Agrupar por múltiples variables\n",
    "print(\"\\nEdad media por sexo y diagnóstico:\")\n",
    "grupo = df.groupby([\"sexo_texto\", \"nivel_enfermedad\"])[\"age\"].mean()\n",
    "print(grupo.round(1))\n"
   ]
  },
  {
   "cell_type": "markdown",
   "metadata": {},
   "source": [
    " ## 8. Visualización básica con pandas\n",
    "\n",
    "\n",
    "\n",
    " Pandas tiene capacidades de visualización integradas útiles para exploración rápida."
   ]
  },
  {
   "cell_type": "code",
   "execution_count": 130,
   "metadata": {},
   "outputs": [
    {
     "data": {
      "image/png": "[encoded data removed]",
      "text/plain": [
       "<Figure size 640x480 with 1 Axes>"
      ]
     },
     "metadata": {},
     "output_type": "display_data"
    }
   ],
   "source": [
    "# Histograma simple\n",
    "df[\"age\"].plot(kind='hist', bins=20, edgecolor='black')\n",
    "plt.title(\"Distribución de edades\")\n",
    "plt.xlabel(\"Edad\")\n",
    "plt.ylabel(\"Frecuencia\")\n",
    "plt.show()\n"
   ]
  },
  {
   "cell_type": "code",
   "execution_count": 131,
   "metadata": {},
   "outputs": [
    {
     "data": {
      "image/png": "[encoded data removed]",
      "text/plain": [
       "<Figure size 640x480 with 1 Axes>"
      ]
     },
     "metadata": {},
     "output_type": "display_data"
    }
   ],
   "source": [
    "# Gráfico de barras\n",
    "df[\"nivel_enfermedad\"].value_counts().plot(kind='bar', color='steelblue')\n",
    "plt.title(\"Distribución de niveles de enfermedad\")\n",
    "plt.xlabel(\"Nivel\")\n",
    "plt.ylabel(\"Número de pacientes\")\n",
    "plt.xticks(rotation=45)\n",
    "plt.show()\n"
   ]
  },
  {
   "cell_type": "code",
   "execution_count": 132,
   "metadata": {},
   "outputs": [
    {
     "data": {
      "image/png": "[encoded data removed]",
      "text/plain": [
       "<Figure size 800x600 with 1 Axes>"
      ]
     },
     "metadata": {},
     "output_type": "display_data"
    }
   ],
   "source": [
    "# Box plot para ver distribución y outliers\n",
    "df.boxplot(column='chol', by='sexo_texto', figsize=(8, 6))\n",
    "plt.suptitle(\"Colesterol por sexo\")\n",
    "plt.title(\"\")\n",
    "plt.ylabel(\"Colesterol (mg/dl)\")\n",
    "plt.show()\n"
   ]
  },
  {
   "cell_type": "code",
   "execution_count": 133,
   "metadata": {},
   "outputs": [
    {
     "data": {
      "image/png": "[encoded data removed]",
      "text/plain": [
       "<Figure size 800x600 with 1 Axes>"
      ]
     },
     "metadata": {},
     "output_type": "display_data"
    }
   ],
   "source": [
    "# Scatter plot para ver relaciones\n",
    "df.plot(kind='scatter', x='age', y='chol', alpha=0.5, figsize=(8, 6))\n",
    "plt.title(\"Relación entre edad y colesterol\")\n",
    "plt.xlabel(\"Edad\")\n",
    "plt.ylabel(\"Colesterol\")\n",
    "plt.show()\n"
   ]
  },
  {
   "cell_type": "code",
   "execution_count": 134,
   "metadata": {},
   "outputs": [
    {
     "data": {
      "image/png": "[encoded data removed]",
      "text/plain": [
       "<Figure size 800x600 with 2 Axes>"
      ]
     },
     "metadata": {},
     "output_type": "display_data"
    }
   ],
   "source": [
    "# Matriz de correlación con heatmap\n",
    "correlacion = df[[\"age\", \"trestbps\", \"chol\", \"thalach\", \"oldpeak\"]].corr()\n",
    "\n",
    "plt.figure(figsize=(8, 6))\n",
    "sns.heatmap(correlacion, annot=True, fmt='.2f', cmap='coolwarm', center=0)\n",
    "plt.title(\"Matriz de correlación entre variables\")\n",
    "plt.show()\n"
   ]
  },
  {
   "cell_type": "code",
   "execution_count": 135,
   "metadata": {},
   "outputs": [
    {
     "name": "stderr",
     "output_type": "stream",
     "text": [
      "/var/folders/hj/z81bpvv52rxg939nrr4_8qp00000gn/T/ipykernel_44967/2677819931.py:3: FutureWarning: The default of observed=False is deprecated and will be changed to True in a future version of pandas. Pass observed=False to retain current behavior or observed=True to adopt the future default and silence this warning.\n",
      "  tendencia = df.groupby(\"grupo_edad\")[\"chol\"].mean().sort_index()\n"
     ]
    },
    {
     "data": {
      "image/png": "[encoded data removed]",
      "text/plain": [
       "<Figure size 800x500 with 1 Axes>"
      ]
     },
     "metadata": {},
     "output_type": "display_data"
    }
   ],
   "source": [
    "# Gráfico de líneas para tendencias\n",
    "# Colesterol medio por grupo de edad\n",
    "tendencia = df.groupby(\"grupo_edad\")[\"chol\"].mean().sort_index()\n",
    "tendencia.plot(kind='line', marker='o', figsize=(8, 5))\n",
    "plt.title(\"Tendencia del colesterol por grupo de edad\")\n",
    "plt.xlabel(\"Grupo de edad\")\n",
    "plt.ylabel(\"Colesterol medio\")\n",
    "plt.grid(True, alpha=0.3)\n",
    "plt.show()\n"
   ]
  },
  {
   "cell_type": "markdown",
   "metadata": {},
   "source": [
    " ## 9. Guardar los resultados\n",
    "\n",
    "\n",
    "\n",
    " Después de procesar los datos, necesitamos guardar los resultados."
   ]
  },
  {
   "cell_type": "code",
   "execution_count": 136,
   "metadata": {},
   "outputs": [
    {
     "name": "stdout",
     "output_type": "stream",
     "text": [
      "Archivo guardado como 'heart_disease_procesado.csv'\n"
     ]
    }
   ],
   "source": [
    "# Guardar el DataFrame modificado en CSV\n",
    "df_limpio.to_csv(\"heart_disease_procesado.csv\", index=False)\n",
    "print(\"Archivo guardado como 'heart_disease_procesado.csv'\")\n"
   ]
  },
  {
   "cell_type": "code",
   "execution_count": 137,
   "metadata": {},
   "outputs": [
    {
     "name": "stdout",
     "output_type": "stream",
     "text": [
      "Archivo resumido guardado\n"
     ]
    }
   ],
   "source": [
    "# Guardar solo columnas específicas\n",
    "columnas_importantes = [\"age\", \"sexo_texto\", \"chol\", \"categoria_colesterol\", \"nivel_enfermedad\"]\n",
    "df[columnas_importantes].to_csv(\"heart_disease_resumido.csv\", index=False)\n",
    "print(\"Archivo resumido guardado\")\n"
   ]
  },
  {
   "cell_type": "code",
   "execution_count": 138,
   "metadata": {},
   "outputs": [
    {
     "name": "stdout",
     "output_type": "stream",
     "text": [
      "\n",
      "Tabla de resumen guardada:\n",
      "             age        chol            num\n",
      "            mean  std   mean   std <lambda>\n",
      "sexo_texto                                 \n",
      "Hombre      53.8  8.8  239.6  42.6     55.3\n",
      "Mujer       55.7  9.4  261.8  64.9     25.8\n"
     ]
    }
   ],
   "source": [
    "# Guardar en Excel (requiere openpyxl o xlsxwriter)\n",
    "# df.to_excel(\"heart_disease.xlsx\", sheet_name=\"Datos\", index=False)\n",
    "\n",
    "# Guardar tabla de resumen\n",
    "resumen_sexo = df.groupby(\"sexo_texto\").agg({\n",
    "    \"age\": [\"mean\", \"std\"],\n",
    "    \"chol\": [\"mean\", \"std\"],\n",
    "    \"num\": lambda x: (x > 0).mean() * 100  # Porcentaje de enfermos\n",
    "})\n",
    "print(\"\\nTabla de resumen guardada:\")\n",
    "print(resumen_sexo.round(1))\n",
    "resumen_sexo.to_csv(\"resumen_por_sexo.csv\")\n"
   ]
  },
  {
   "cell_type": "markdown",
   "metadata": {},
   "source": [
    " ## Ejercicios propuestos\n",
    "\n",
    "\n",
    "\n",
    " 1. **Análisis de presión arterial**: Crea una nueva columna que clasifique la presión arterial (`trestbps`) en las siguientes categorías:\n",
    "\n",
    "    - \"Normal\": menor a 120\n",
    "\n",
    "    - \"Elevada\": entre 120 y 129\n",
    "\n",
    "    - \"Hipertensión Etapa 1\": entre 130 y 139\n",
    "\n",
    "    - \"Hipertensión Etapa 2\": 140 o más\n",
    "\n",
    "\n",
    "\n",
    "    Luego calcula qué porcentaje de pacientes está en cada categoría.\n",
    "\n",
    "\n",
    "\n",
    " 2. **Análisis por sexo**:\n",
    "\n",
    "    - Calcula la media y desviación estándar del colesterol para hombres y mujeres por separado\n",
    "\n",
    "    - Determina qué sexo tiene mayor proporción de pacientes con enfermedad cardíaca\n",
    "\n",
    "    - Crea un gráfico comparativo\n",
    "\n",
    "\n",
    "\n",
    " 3. **Identificación de pacientes de alto riesgo**:\n",
    "\n",
    "    - Crea un índice de riesgo que combine edad > 55, colesterol > 240, y presión > 140\n",
    "\n",
    "    - Identifica cuántos pacientes cumplen con al menos 2 de estos criterios\n",
    "\n",
    "    - Guarda la lista de pacientes de alto riesgo en un archivo separado\n",
    "\n",
    "\n",
    "\n",
    " 4. **Análisis de correlaciones**:\n",
    "\n",
    "    - Investiga qué variables están más correlacionadas con la presencia de enfermedad (`num`)\n",
    "\n",
    "    - Crea visualizaciones para las 3 correlaciones más fuertes\n",
    "\n",
    "\n",
    "\n",
    " 5. **Limpieza de datos avanzada**:\n",
    "\n",
    "    - Identifica posibles valores atípicos (outliers) en colesterol y presión arterial\n",
    "\n",
    "    - Decide qué hacer con ellos (mantener, eliminar, o transformar)\n",
    "\n",
    "    - Justifica tu decisión"
   ]
  },
  {
   "cell_type": "code",
   "execution_count": 76,
   "metadata": {},
   "outputs": [
    {
     "name": "stdout",
     "output_type": "stream",
     "text": [
      "Distribución de categorías de presión arterial:\n",
      "categoria_presion\n",
      "Hipertensión Etapa 2    98\n",
      "Elevada                 75\n",
      "Hipertensión Etapa 1    70\n",
      "Normal                  60\n",
      "Name: count, dtype: int64\n",
      "\n",
      "Porcentajes:\n",
      "categoria_presion\n",
      "Hipertensión Etapa 2    32.343234\n",
      "Elevada                 24.752475\n",
      "Hipertensión Etapa 1    23.102310\n",
      "Normal                  19.801980\n",
      "Name: proportion, dtype: float64\n"
     ]
    }
   ],
   "source": [
    "# Espacio para resolver los ejercicios\n",
    "\n",
    "# Ejemplo de solución para el ejercicio 1\n",
    "def clasificar_presion(valor):\n",
    "    if pd.isna(valor):\n",
    "        return \"Desconocido\"\n",
    "    elif valor < 120:\n",
    "        return \"Normal\"\n",
    "    elif valor < 130:\n",
    "        return \"Elevada\"\n",
    "    elif valor < 140:\n",
    "        return \"Hipertensión Etapa 1\"\n",
    "    else:\n",
    "        return \"Hipertensión Etapa 2\"\n",
    "\n",
    "df[\"categoria_presion\"] = df[\"trestbps\"].apply(clasificar_presion)\n",
    "print(\"Distribución de categorías de presión arterial:\")\n",
    "print(df[\"categoria_presion\"].value_counts())\n",
    "print(\"\\nPorcentajes:\")\n",
    "print(df[\"categoria_presion\"].value_counts(normalize=True) * 100)\n"
   ]
  },
  {
   "cell_type": "markdown",
   "metadata": {},
   "source": [
    " ## Resumen\n",
    "\n",
    "\n",
    "\n",
    " En este notebook hemos cubierto las operaciones fundamentales de pandas:\n",
    "\n",
    "\n",
    "\n",
    " - **Carga y exploración inicial**: Entender la estructura y contenido de los datos\n",
    "\n",
    " - **Selección y filtrado**: Acceder a subconjuntos específicos de datos\n",
    "\n",
    " - **Transformación**: Crear nuevas variables y modificar existentes\n",
    "\n",
    " - **Análisis estadístico**: Calcular métricas y encontrar patrones\n",
    "\n",
    " - **Agrupación**: Resumir datos por categorías\n",
    "\n",
    " - **Visualización**: Crear gráficos para entender mejor los datos\n",
    "\n",
    " - **Exportación**: Guardar los resultados del análisis\n",
    "\n",
    "\n",
    "\n",
    " Estos conceptos forman la base para cualquier análisis de datos con Python y pandas. La práctica constante con diferentes datasets te ayudará a dominar estas herramientas."
   ]
  }
 ],
 "metadata": {
  "kernelspec": {
   "display_name": "marc_priv",
   "language": "python",
   "name": "python3"
  },
  "language_info": {
   "codemirror_mode": {
    "name": "ipython",
    "version": 3
   },
   "file_extension": ".py",
   "mimetype": "text/x-python",
   "name": "python",
   "nbconvert_exporter": "python",
   "pygments_lexer": "ipython3",
   "version": "3.12.7"
  }
 },
 "nbformat": 4,
 "nbformat_minor": 2
}
