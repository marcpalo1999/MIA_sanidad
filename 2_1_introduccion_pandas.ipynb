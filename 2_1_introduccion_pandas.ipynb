{
 "cells": [
  {
   "cell_type": "markdown",
   "metadata": {},
   "source": [
    "  <a href=\"https://colab.research.google.com/github/marcpalo1999/MIA_sanidad/blob/main/2_1_introduccion_pandas.ipynb\" target=\"_parent\"><img src=\"https://colab.research.google.com/assets/colab-badge.svg\" alt=\"Open In Colab\"/></a>"
   ]
  },
  {
   "cell_type": "markdown",
   "metadata": {},
   "source": [
    "  # Setup - copy data from github to collab"
   ]
  },
  {
   "cell_type": "code",
   "execution_count": null,
   "metadata": {},
   "outputs": [],
   "source": [
    "import os\n",
    "if not os.path.exists('/content/MIA_sanidad'):\n",
    "    !git clone https://github.com/marcpalo1999/MIA_sanidad.git\n",
    "os.chdir('/content/MIA_sanidad')\n",
    "os.getcwd()\n"
   ]
  },
  {
   "cell_type": "markdown",
   "metadata": {},
   "source": [
    "  # Introducción a Pandas con un Dataset Médico\n",
    "\n",
    "\n",
    "\n",
    "  En este notebook vamos a aprender a usar `pandas` para:\n",
    "\n",
    "\n",
    "\n",
    "  1. Cargar un dataset en un DataFrame\n",
    "\n",
    "  2. Inspeccionar datos (ver filas, columnas, tipos)\n",
    "\n",
    "  3. Seleccionar y filtrar datos\n",
    "\n",
    "  4. Crear y transformar columnas\n",
    "\n",
    "  5. Hacer una exploración inicial básica\n",
    "\n",
    "  6. Trabajar con valores nulos\n",
    "\n",
    "  7. Agrupar y resumir información\n",
    "\n",
    "  8. Visualización básica con pandas\n",
    "\n",
    "  9. Guardar los resultados"
   ]
  },
  {
   "cell_type": "code",
   "execution_count": 3,
   "metadata": {},
   "outputs": [],
   "source": [
    "# Importar las librerías necesarias\n",
    "import pandas as pd\n",
    "import numpy as np\n",
    "import matplotlib.pyplot as plt\n",
    "import seaborn as sns\n"
   ]
  },
  {
   "cell_type": "code",
   "execution_count": 67,
   "metadata": {},
   "outputs": [
    {
     "data": {
      "application/vnd.microsoft.datawrangler.viewer.v0+json": {
       "columns": [
        {
         "name": "index",
         "rawType": "int64",
         "type": "integer"
        },
        {
         "name": "age",
         "rawType": "int64",
         "type": "integer"
        },
        {
         "name": "sex",
         "rawType": "int64",
         "type": "integer"
        },
        {
         "name": "cp",
         "rawType": "int64",
         "type": "integer"
        },
        {
         "name": "trestbps",
         "rawType": "int64",
         "type": "integer"
        },
        {
         "name": "chol",
         "rawType": "int64",
         "type": "integer"
        },
        {
         "name": "fbs",
         "rawType": "int64",
         "type": "integer"
        },
        {
         "name": "restecg",
         "rawType": "int64",
         "type": "integer"
        },
        {
         "name": "thalach",
         "rawType": "int64",
         "type": "integer"
        },
        {
         "name": "exang",
         "rawType": "int64",
         "type": "integer"
        },
        {
         "name": "oldpeak",
         "rawType": "float64",
         "type": "float"
        },
        {
         "name": "slope",
         "rawType": "int64",
         "type": "integer"
        },
        {
         "name": "ca",
         "rawType": "float64",
         "type": "float"
        },
        {
         "name": "thal",
         "rawType": "float64",
         "type": "float"
        },
        {
         "name": "num",
         "rawType": "int64",
         "type": "integer"
        }
       ],
       "ref": "472d1db6-0273-4948-a63f-2d4bc89e6f2c",
       "rows": [
        [
         "0",
         "63",
         "1",
         "1",
         "145",
         "233",
         "1",
         "2",
         "150",
         "0",
         "2.3",
         "3",
         "0.0",
         "6.0",
         "0"
        ],
        [
         "1",
         "67",
         "1",
         "4",
         "160",
         "286",
         "0",
         "2",
         "108",
         "1",
         "1.5",
         "2",
         "3.0",
         "3.0",
         "2"
        ],
        [
         "2",
         "67",
         "1",
         "4",
         "120",
         "229",
         "0",
         "2",
         "129",
         "1",
         "2.6",
         "2",
         "2.0",
         "7.0",
         "1"
        ],
        [
         "3",
         "37",
         "1",
         "3",
         "130",
         "250",
         "0",
         "0",
         "187",
         "0",
         "3.5",
         "3",
         "0.0",
         "3.0",
         "0"
        ],
        [
         "4",
         "41",
         "0",
         "2",
         "130",
         "204",
         "0",
         "2",
         "172",
         "0",
         "1.4",
         "1",
         "0.0",
         "3.0",
         "0"
        ],
        [
         "5",
         "56",
         "1",
         "2",
         "120",
         "236",
         "0",
         "0",
         "178",
         "0",
         "0.8",
         "1",
         "0.0",
         "3.0",
         "0"
        ],
        [
         "6",
         "62",
         "0",
         "4",
         "140",
         "268",
         "0",
         "2",
         "160",
         "0",
         "3.6",
         "3",
         "2.0",
         "3.0",
         "3"
        ],
        [
         "7",
         "57",
         "0",
         "4",
         "120",
         "354",
         "0",
         "0",
         "163",
         "1",
         "0.6",
         "1",
         "0.0",
         "3.0",
         "0"
        ],
        [
         "8",
         "63",
         "1",
         "4",
         "130",
         "254",
         "0",
         "2",
         "147",
         "0",
         "1.4",
         "2",
         "1.0",
         "7.0",
         "2"
        ],
        [
         "9",
         "53",
         "1",
         "4",
         "140",
         "203",
         "1",
         "2",
         "155",
         "1",
         "3.1",
         "3",
         "0.0",
         "7.0",
         "1"
        ],
        [
         "10",
         "57",
         "1",
         "4",
         "140",
         "192",
         "0",
         "0",
         "148",
         "0",
         "0.4",
         "2",
         "0.0",
         "6.0",
         "0"
        ],
        [
         "11",
         "56",
         "0",
         "2",
         "140",
         "294",
         "0",
         "2",
         "153",
         "0",
         "1.3",
         "2",
         "0.0",
         "3.0",
         "0"
        ],
        [
         "12",
         "56",
         "1",
         "3",
         "130",
         "256",
         "1",
         "2",
         "142",
         "1",
         "0.6",
         "2",
         "1.0",
         "6.0",
         "2"
        ],
        [
         "13",
         "44",
         "1",
         "2",
         "120",
         "263",
         "0",
         "0",
         "173",
         "0",
         "0.0",
         "1",
         "0.0",
         "7.0",
         "0"
        ],
        [
         "14",
         "52",
         "1",
         "3",
         "172",
         "199",
         "1",
         "0",
         "162",
         "0",
         "0.5",
         "1",
         "0.0",
         "7.0",
         "0"
        ],
        [
         "15",
         "57",
         "1",
         "3",
         "150",
         "168",
         "0",
         "0",
         "174",
         "0",
         "1.6",
         "1",
         "0.0",
         "3.0",
         "0"
        ],
        [
         "16",
         "48",
         "1",
         "2",
         "110",
         "229",
         "0",
         "0",
         "168",
         "0",
         "1.0",
         "3",
         "0.0",
         "7.0",
         "1"
        ],
        [
         "17",
         "54",
         "1",
         "4",
         "140",
         "239",
         "0",
         "0",
         "160",
         "0",
         "1.2",
         "1",
         "0.0",
         "3.0",
         "0"
        ],
        [
         "18",
         "48",
         "0",
         "3",
         "130",
         "275",
         "0",
         "0",
         "139",
         "0",
         "0.2",
         "1",
         "0.0",
         "3.0",
         "0"
        ],
        [
         "19",
         "49",
         "1",
         "2",
         "130",
         "266",
         "0",
         "0",
         "171",
         "0",
         "0.6",
         "1",
         "0.0",
         "3.0",
         "0"
        ],
        [
         "20",
         "64",
         "1",
         "1",
         "110",
         "211",
         "0",
         "2",
         "144",
         "1",
         "1.8",
         "2",
         "0.0",
         "3.0",
         "0"
        ],
        [
         "21",
         "58",
         "0",
         "1",
         "150",
         "283",
         "1",
         "2",
         "162",
         "0",
         "1.0",
         "1",
         "0.0",
         "3.0",
         "0"
        ],
        [
         "22",
         "58",
         "1",
         "2",
         "120",
         "284",
         "0",
         "2",
         "160",
         "0",
         "1.8",
         "2",
         "0.0",
         "3.0",
         "1"
        ],
        [
         "23",
         "58",
         "1",
         "3",
         "132",
         "224",
         "0",
         "2",
         "173",
         "0",
         "3.2",
         "1",
         "2.0",
         "7.0",
         "3"
        ],
        [
         "24",
         "60",
         "1",
         "4",
         "130",
         "206",
         "0",
         "2",
         "132",
         "1",
         "2.4",
         "2",
         "2.0",
         "7.0",
         "4"
        ],
        [
         "25",
         "50",
         "0",
         "3",
         "120",
         "219",
         "0",
         "0",
         "158",
         "0",
         "1.6",
         "2",
         "0.0",
         "3.0",
         "0"
        ],
        [
         "26",
         "58",
         "0",
         "3",
         "120",
         "340",
         "0",
         "0",
         "172",
         "0",
         "0.0",
         "1",
         "0.0",
         "3.0",
         "0"
        ],
        [
         "27",
         "66",
         "0",
         "1",
         "150",
         "226",
         "0",
         "0",
         "114",
         "0",
         "2.6",
         "3",
         "0.0",
         "3.0",
         "0"
        ],
        [
         "28",
         "43",
         "1",
         "4",
         "150",
         "247",
         "0",
         "0",
         "171",
         "0",
         "1.5",
         "1",
         "0.0",
         "3.0",
         "0"
        ],
        [
         "29",
         "40",
         "1",
         "4",
         "110",
         "167",
         "0",
         "2",
         "114",
         "1",
         "2.0",
         "2",
         "0.0",
         "7.0",
         "3"
        ],
        [
         "30",
         "69",
         "0",
         "1",
         "140",
         "239",
         "0",
         "0",
         "151",
         "0",
         "1.8",
         "1",
         "2.0",
         "3.0",
         "0"
        ],
        [
         "31",
         "60",
         "1",
         "4",
         "117",
         "230",
         "1",
         "0",
         "160",
         "1",
         "1.4",
         "1",
         "2.0",
         "7.0",
         "2"
        ],
        [
         "32",
         "64",
         "1",
         "3",
         "140",
         "335",
         "0",
         "0",
         "158",
         "0",
         "0.0",
         "1",
         "0.0",
         "3.0",
         "1"
        ],
        [
         "33",
         "59",
         "1",
         "4",
         "135",
         "234",
         "0",
         "0",
         "161",
         "0",
         "0.5",
         "2",
         "0.0",
         "7.0",
         "0"
        ],
        [
         "34",
         "44",
         "1",
         "3",
         "130",
         "233",
         "0",
         "0",
         "179",
         "1",
         "0.4",
         "1",
         "0.0",
         "3.0",
         "0"
        ],
        [
         "35",
         "42",
         "1",
         "4",
         "140",
         "226",
         "0",
         "0",
         "178",
         "0",
         "0.0",
         "1",
         "0.0",
         "3.0",
         "0"
        ],
        [
         "36",
         "43",
         "1",
         "4",
         "120",
         "177",
         "0",
         "2",
         "120",
         "1",
         "2.5",
         "2",
         "0.0",
         "7.0",
         "3"
        ],
        [
         "37",
         "57",
         "1",
         "4",
         "150",
         "276",
         "0",
         "2",
         "112",
         "1",
         "0.6",
         "2",
         "1.0",
         "6.0",
         "1"
        ],
        [
         "38",
         "55",
         "1",
         "4",
         "132",
         "353",
         "0",
         "0",
         "132",
         "1",
         "1.2",
         "2",
         "1.0",
         "7.0",
         "3"
        ],
        [
         "39",
         "61",
         "1",
         "3",
         "150",
         "243",
         "1",
         "0",
         "137",
         "1",
         "1.0",
         "2",
         "0.0",
         "3.0",
         "0"
        ],
        [
         "40",
         "65",
         "0",
         "4",
         "150",
         "225",
         "0",
         "2",
         "114",
         "0",
         "1.0",
         "2",
         "3.0",
         "7.0",
         "4"
        ],
        [
         "41",
         "40",
         "1",
         "1",
         "140",
         "199",
         "0",
         "0",
         "178",
         "1",
         "1.4",
         "1",
         "0.0",
         "7.0",
         "0"
        ],
        [
         "42",
         "71",
         "0",
         "2",
         "160",
         "302",
         "0",
         "0",
         "162",
         "0",
         "0.4",
         "1",
         "2.0",
         "3.0",
         "0"
        ],
        [
         "43",
         "59",
         "1",
         "3",
         "150",
         "212",
         "1",
         "0",
         "157",
         "0",
         "1.6",
         "1",
         "0.0",
         "3.0",
         "0"
        ],
        [
         "44",
         "61",
         "0",
         "4",
         "130",
         "330",
         "0",
         "2",
         "169",
         "0",
         "0.0",
         "1",
         "0.0",
         "3.0",
         "1"
        ],
        [
         "45",
         "58",
         "1",
         "3",
         "112",
         "230",
         "0",
         "2",
         "165",
         "0",
         "2.5",
         "2",
         "1.0",
         "7.0",
         "4"
        ],
        [
         "46",
         "51",
         "1",
         "3",
         "110",
         "175",
         "0",
         "0",
         "123",
         "0",
         "0.6",
         "1",
         "0.0",
         "3.0",
         "0"
        ],
        [
         "47",
         "50",
         "1",
         "4",
         "150",
         "243",
         "0",
         "2",
         "128",
         "0",
         "2.6",
         "2",
         "0.0",
         "7.0",
         "4"
        ],
        [
         "48",
         "65",
         "0",
         "3",
         "140",
         "417",
         "1",
         "2",
         "157",
         "0",
         "0.8",
         "1",
         "1.0",
         "3.0",
         "0"
        ],
        [
         "49",
         "53",
         "1",
         "3",
         "130",
         "197",
         "1",
         "2",
         "152",
         "0",
         "1.2",
         "3",
         "0.0",
         "3.0",
         "0"
        ]
       ],
       "shape": {
        "columns": 14,
        "rows": 303
       }
      },
      "text/html": [
       "<div>\n",
       "<style scoped>\n",
       "    .dataframe tbody tr th:only-of-type {\n",
       "        vertical-align: middle;\n",
       "    }\n",
       "\n",
       "    .dataframe tbody tr th {\n",
       "        vertical-align: top;\n",
       "    }\n",
       "\n",
       "    .dataframe thead th {\n",
       "        text-align: right;\n",
       "    }\n",
       "</style>\n",
       "<table border=\"1\" class=\"dataframe\">\n",
       "  <thead>\n",
       "    <tr style=\"text-align: right;\">\n",
       "      <th></th>\n",
       "      <th>age</th>\n",
       "      <th>sex</th>\n",
       "      <th>cp</th>\n",
       "      <th>trestbps</th>\n",
       "      <th>chol</th>\n",
       "      <th>fbs</th>\n",
       "      <th>restecg</th>\n",
       "      <th>thalach</th>\n",
       "      <th>exang</th>\n",
       "      <th>oldpeak</th>\n",
       "      <th>slope</th>\n",
       "      <th>ca</th>\n",
       "      <th>thal</th>\n",
       "      <th>num</th>\n",
       "    </tr>\n",
       "  </thead>\n",
       "  <tbody>\n",
       "    <tr>\n",
       "      <th>0</th>\n",
       "      <td>63</td>\n",
       "      <td>1</td>\n",
       "      <td>1</td>\n",
       "      <td>145</td>\n",
       "      <td>233</td>\n",
       "      <td>1</td>\n",
       "      <td>2</td>\n",
       "      <td>150</td>\n",
       "      <td>0</td>\n",
       "      <td>2.3</td>\n",
       "      <td>3</td>\n",
       "      <td>0.0</td>\n",
       "      <td>6.0</td>\n",
       "      <td>0</td>\n",
       "    </tr>\n",
       "    <tr>\n",
       "      <th>1</th>\n",
       "      <td>67</td>\n",
       "      <td>1</td>\n",
       "      <td>4</td>\n",
       "      <td>160</td>\n",
       "      <td>286</td>\n",
       "      <td>0</td>\n",
       "      <td>2</td>\n",
       "      <td>108</td>\n",
       "      <td>1</td>\n",
       "      <td>1.5</td>\n",
       "      <td>2</td>\n",
       "      <td>3.0</td>\n",
       "      <td>3.0</td>\n",
       "      <td>2</td>\n",
       "    </tr>\n",
       "    <tr>\n",
       "      <th>2</th>\n",
       "      <td>67</td>\n",
       "      <td>1</td>\n",
       "      <td>4</td>\n",
       "      <td>120</td>\n",
       "      <td>229</td>\n",
       "      <td>0</td>\n",
       "      <td>2</td>\n",
       "      <td>129</td>\n",
       "      <td>1</td>\n",
       "      <td>2.6</td>\n",
       "      <td>2</td>\n",
       "      <td>2.0</td>\n",
       "      <td>7.0</td>\n",
       "      <td>1</td>\n",
       "    </tr>\n",
       "    <tr>\n",
       "      <th>3</th>\n",
       "      <td>37</td>\n",
       "      <td>1</td>\n",
       "      <td>3</td>\n",
       "      <td>130</td>\n",
       "      <td>250</td>\n",
       "      <td>0</td>\n",
       "      <td>0</td>\n",
       "      <td>187</td>\n",
       "      <td>0</td>\n",
       "      <td>3.5</td>\n",
       "      <td>3</td>\n",
       "      <td>0.0</td>\n",
       "      <td>3.0</td>\n",
       "      <td>0</td>\n",
       "    </tr>\n",
       "    <tr>\n",
       "      <th>4</th>\n",
       "      <td>41</td>\n",
       "      <td>0</td>\n",
       "      <td>2</td>\n",
       "      <td>130</td>\n",
       "      <td>204</td>\n",
       "      <td>0</td>\n",
       "      <td>2</td>\n",
       "      <td>172</td>\n",
       "      <td>0</td>\n",
       "      <td>1.4</td>\n",
       "      <td>1</td>\n",
       "      <td>0.0</td>\n",
       "      <td>3.0</td>\n",
       "      <td>0</td>\n",
       "    </tr>\n",
       "    <tr>\n",
       "      <th>...</th>\n",
       "      <td>...</td>\n",
       "      <td>...</td>\n",
       "      <td>...</td>\n",
       "      <td>...</td>\n",
       "      <td>...</td>\n",
       "      <td>...</td>\n",
       "      <td>...</td>\n",
       "      <td>...</td>\n",
       "      <td>...</td>\n",
       "      <td>...</td>\n",
       "      <td>...</td>\n",
       "      <td>...</td>\n",
       "      <td>...</td>\n",
       "      <td>...</td>\n",
       "    </tr>\n",
       "    <tr>\n",
       "      <th>298</th>\n",
       "      <td>45</td>\n",
       "      <td>1</td>\n",
       "      <td>1</td>\n",
       "      <td>110</td>\n",
       "      <td>264</td>\n",
       "      <td>0</td>\n",
       "      <td>0</td>\n",
       "      <td>132</td>\n",
       "      <td>0</td>\n",
       "      <td>1.2</td>\n",
       "      <td>2</td>\n",
       "      <td>0.0</td>\n",
       "      <td>7.0</td>\n",
       "      <td>1</td>\n",
       "    </tr>\n",
       "    <tr>\n",
       "      <th>299</th>\n",
       "      <td>68</td>\n",
       "      <td>1</td>\n",
       "      <td>4</td>\n",
       "      <td>144</td>\n",
       "      <td>193</td>\n",
       "      <td>1</td>\n",
       "      <td>0</td>\n",
       "      <td>141</td>\n",
       "      <td>0</td>\n",
       "      <td>3.4</td>\n",
       "      <td>2</td>\n",
       "      <td>2.0</td>\n",
       "      <td>7.0</td>\n",
       "      <td>2</td>\n",
       "    </tr>\n",
       "    <tr>\n",
       "      <th>300</th>\n",
       "      <td>57</td>\n",
       "      <td>1</td>\n",
       "      <td>4</td>\n",
       "      <td>130</td>\n",
       "      <td>131</td>\n",
       "      <td>0</td>\n",
       "      <td>0</td>\n",
       "      <td>115</td>\n",
       "      <td>1</td>\n",
       "      <td>1.2</td>\n",
       "      <td>2</td>\n",
       "      <td>1.0</td>\n",
       "      <td>7.0</td>\n",
       "      <td>3</td>\n",
       "    </tr>\n",
       "    <tr>\n",
       "      <th>301</th>\n",
       "      <td>57</td>\n",
       "      <td>0</td>\n",
       "      <td>2</td>\n",
       "      <td>130</td>\n",
       "      <td>236</td>\n",
       "      <td>0</td>\n",
       "      <td>2</td>\n",
       "      <td>174</td>\n",
       "      <td>0</td>\n",
       "      <td>0.0</td>\n",
       "      <td>2</td>\n",
       "      <td>1.0</td>\n",
       "      <td>3.0</td>\n",
       "      <td>1</td>\n",
       "    </tr>\n",
       "    <tr>\n",
       "      <th>302</th>\n",
       "      <td>38</td>\n",
       "      <td>1</td>\n",
       "      <td>3</td>\n",
       "      <td>138</td>\n",
       "      <td>175</td>\n",
       "      <td>0</td>\n",
       "      <td>0</td>\n",
       "      <td>173</td>\n",
       "      <td>0</td>\n",
       "      <td>0.0</td>\n",
       "      <td>1</td>\n",
       "      <td>NaN</td>\n",
       "      <td>3.0</td>\n",
       "      <td>0</td>\n",
       "    </tr>\n",
       "  </tbody>\n",
       "</table>\n",
       "<p>303 rows × 14 columns</p>\n",
       "</div>"
      ],
      "text/plain": [
       "     age  sex  cp  trestbps  chol  fbs  restecg  thalach  exang  oldpeak  \\\n",
       "0     63    1   1       145   233    1        2      150      0      2.3   \n",
       "1     67    1   4       160   286    0        2      108      1      1.5   \n",
       "2     67    1   4       120   229    0        2      129      1      2.6   \n",
       "3     37    1   3       130   250    0        0      187      0      3.5   \n",
       "4     41    0   2       130   204    0        2      172      0      1.4   \n",
       "..   ...  ...  ..       ...   ...  ...      ...      ...    ...      ...   \n",
       "298   45    1   1       110   264    0        0      132      0      1.2   \n",
       "299   68    1   4       144   193    1        0      141      0      3.4   \n",
       "300   57    1   4       130   131    0        0      115      1      1.2   \n",
       "301   57    0   2       130   236    0        2      174      0      0.0   \n",
       "302   38    1   3       138   175    0        0      173      0      0.0   \n",
       "\n",
       "     slope   ca  thal  num  \n",
       "0        3  0.0   6.0    0  \n",
       "1        2  3.0   3.0    2  \n",
       "2        2  2.0   7.0    1  \n",
       "3        3  0.0   3.0    0  \n",
       "4        1  0.0   3.0    0  \n",
       "..     ...  ...   ...  ...  \n",
       "298      2  0.0   7.0    1  \n",
       "299      2  2.0   7.0    2  \n",
       "300      2  1.0   7.0    3  \n",
       "301      2  1.0   3.0    1  \n",
       "302      1  NaN   3.0    0  \n",
       "\n",
       "[303 rows x 14 columns]"
      ]
     },
     "execution_count": 67,
     "metadata": {},
     "output_type": "execute_result"
    }
   ],
   "source": [
    "# Cargar el dataset\n",
    "df = pd.read_csv(\"./data/heart_disease_dataset.csv\")\n",
    "df\n"
   ]
  },
  {
   "cell_type": "markdown",
   "metadata": {},
   "source": [
    "  ## Contexto del dataset\n",
    "\n",
    "\n",
    "\n",
    "  Origen: https://archive.ics.uci.edu/dataset/45/heart+disease\n",
    "\n",
    "\n",
    "\n",
    "  Este dataset contiene información médica de pacientes y su relación con enfermedades cardíacas.\n",
    "\n",
    "  Las principales variables son:\n",
    "\n",
    "\n",
    "\n",
    "  - `age`: Edad del paciente\n",
    "\n",
    "  - `sex`: Sexo (0 = Mujer, 1 = Hombre)\n",
    "\n",
    "  - `cp`: Tipo de dolor en el pecho (1-4)\n",
    "\n",
    "  - `trestbps`: Presión arterial en reposo (mm Hg)\n",
    "\n",
    "  - `chol`: Colesterol sérico en mg/dl\n",
    "\n",
    "  - `fbs`: Glucosa en ayunas > 120 mg/dl (1 = verdadero; 0 = falso)\n",
    "\n",
    "  - `restecg`: Resultados electrocardiográficos en reposo\n",
    "\n",
    "  - `thalach`: Frecuencia cardíaca máxima alcanzada\n",
    "\n",
    "  - `exang`: Angina inducida por ejercicio (1 = sí; 0 = no)\n",
    "\n",
    "  - `oldpeak`: Depresión ST inducida por ejercicio\n",
    "\n",
    "  - `slope`: Pendiente del segmento ST\n",
    "\n",
    "  - `ca`: Número de vasos principales coloreados por fluoroscopia (0-3)\n",
    "\n",
    "  - `thal`: 3 = normal; 6 = defecto fijo; 7 = defecto reversible\n",
    "\n",
    "  - `num`: Diagnóstico de enfermedad cardíaca (0 = No, 1-4 = Sí)"
   ]
  },
  {
   "cell_type": "markdown",
   "metadata": {},
   "source": [
    "  ## 1. Inspección básica del DataFrame\n",
    "\n",
    "\n",
    "\n",
    "  Lo primero que hacemos siempre es conocer nuestros datos."
   ]
  },
  {
   "cell_type": "code",
   "execution_count": 68,
   "metadata": {},
   "outputs": [
    {
     "data": {
      "application/vnd.microsoft.datawrangler.viewer.v0+json": {
       "columns": [
        {
         "name": "index",
         "rawType": "int64",
         "type": "integer"
        },
        {
         "name": "age",
         "rawType": "int64",
         "type": "integer"
        },
        {
         "name": "sex",
         "rawType": "int64",
         "type": "integer"
        },
        {
         "name": "cp",
         "rawType": "int64",
         "type": "integer"
        },
        {
         "name": "trestbps",
         "rawType": "int64",
         "type": "integer"
        },
        {
         "name": "chol",
         "rawType": "int64",
         "type": "integer"
        },
        {
         "name": "fbs",
         "rawType": "int64",
         "type": "integer"
        },
        {
         "name": "restecg",
         "rawType": "int64",
         "type": "integer"
        },
        {
         "name": "thalach",
         "rawType": "int64",
         "type": "integer"
        },
        {
         "name": "exang",
         "rawType": "int64",
         "type": "integer"
        },
        {
         "name": "oldpeak",
         "rawType": "float64",
         "type": "float"
        },
        {
         "name": "slope",
         "rawType": "int64",
         "type": "integer"
        },
        {
         "name": "ca",
         "rawType": "float64",
         "type": "float"
        },
        {
         "name": "thal",
         "rawType": "float64",
         "type": "float"
        },
        {
         "name": "num",
         "rawType": "int64",
         "type": "integer"
        }
       ],
       "ref": "c3e7e439-5f82-4e71-af16-b2b5115d59f9",
       "rows": [
        [
         "0",
         "63",
         "1",
         "1",
         "145",
         "233",
         "1",
         "2",
         "150",
         "0",
         "2.3",
         "3",
         "0.0",
         "6.0",
         "0"
        ],
        [
         "1",
         "67",
         "1",
         "4",
         "160",
         "286",
         "0",
         "2",
         "108",
         "1",
         "1.5",
         "2",
         "3.0",
         "3.0",
         "2"
        ],
        [
         "2",
         "67",
         "1",
         "4",
         "120",
         "229",
         "0",
         "2",
         "129",
         "1",
         "2.6",
         "2",
         "2.0",
         "7.0",
         "1"
        ],
        [
         "3",
         "37",
         "1",
         "3",
         "130",
         "250",
         "0",
         "0",
         "187",
         "0",
         "3.5",
         "3",
         "0.0",
         "3.0",
         "0"
        ],
        [
         "4",
         "41",
         "0",
         "2",
         "130",
         "204",
         "0",
         "2",
         "172",
         "0",
         "1.4",
         "1",
         "0.0",
         "3.0",
         "0"
        ]
       ],
       "shape": {
        "columns": 14,
        "rows": 5
       }
      },
      "text/html": [
       "<div>\n",
       "<style scoped>\n",
       "    .dataframe tbody tr th:only-of-type {\n",
       "        vertical-align: middle;\n",
       "    }\n",
       "\n",
       "    .dataframe tbody tr th {\n",
       "        vertical-align: top;\n",
       "    }\n",
       "\n",
       "    .dataframe thead th {\n",
       "        text-align: right;\n",
       "    }\n",
       "</style>\n",
       "<table border=\"1\" class=\"dataframe\">\n",
       "  <thead>\n",
       "    <tr style=\"text-align: right;\">\n",
       "      <th></th>\n",
       "      <th>age</th>\n",
       "      <th>sex</th>\n",
       "      <th>cp</th>\n",
       "      <th>trestbps</th>\n",
       "      <th>chol</th>\n",
       "      <th>fbs</th>\n",
       "      <th>restecg</th>\n",
       "      <th>thalach</th>\n",
       "      <th>exang</th>\n",
       "      <th>oldpeak</th>\n",
       "      <th>slope</th>\n",
       "      <th>ca</th>\n",
       "      <th>thal</th>\n",
       "      <th>num</th>\n",
       "    </tr>\n",
       "  </thead>\n",
       "  <tbody>\n",
       "    <tr>\n",
       "      <th>0</th>\n",
       "      <td>63</td>\n",
       "      <td>1</td>\n",
       "      <td>1</td>\n",
       "      <td>145</td>\n",
       "      <td>233</td>\n",
       "      <td>1</td>\n",
       "      <td>2</td>\n",
       "      <td>150</td>\n",
       "      <td>0</td>\n",
       "      <td>2.3</td>\n",
       "      <td>3</td>\n",
       "      <td>0.0</td>\n",
       "      <td>6.0</td>\n",
       "      <td>0</td>\n",
       "    </tr>\n",
       "    <tr>\n",
       "      <th>1</th>\n",
       "      <td>67</td>\n",
       "      <td>1</td>\n",
       "      <td>4</td>\n",
       "      <td>160</td>\n",
       "      <td>286</td>\n",
       "      <td>0</td>\n",
       "      <td>2</td>\n",
       "      <td>108</td>\n",
       "      <td>1</td>\n",
       "      <td>1.5</td>\n",
       "      <td>2</td>\n",
       "      <td>3.0</td>\n",
       "      <td>3.0</td>\n",
       "      <td>2</td>\n",
       "    </tr>\n",
       "    <tr>\n",
       "      <th>2</th>\n",
       "      <td>67</td>\n",
       "      <td>1</td>\n",
       "      <td>4</td>\n",
       "      <td>120</td>\n",
       "      <td>229</td>\n",
       "      <td>0</td>\n",
       "      <td>2</td>\n",
       "      <td>129</td>\n",
       "      <td>1</td>\n",
       "      <td>2.6</td>\n",
       "      <td>2</td>\n",
       "      <td>2.0</td>\n",
       "      <td>7.0</td>\n",
       "      <td>1</td>\n",
       "    </tr>\n",
       "    <tr>\n",
       "      <th>3</th>\n",
       "      <td>37</td>\n",
       "      <td>1</td>\n",
       "      <td>3</td>\n",
       "      <td>130</td>\n",
       "      <td>250</td>\n",
       "      <td>0</td>\n",
       "      <td>0</td>\n",
       "      <td>187</td>\n",
       "      <td>0</td>\n",
       "      <td>3.5</td>\n",
       "      <td>3</td>\n",
       "      <td>0.0</td>\n",
       "      <td>3.0</td>\n",
       "      <td>0</td>\n",
       "    </tr>\n",
       "    <tr>\n",
       "      <th>4</th>\n",
       "      <td>41</td>\n",
       "      <td>0</td>\n",
       "      <td>2</td>\n",
       "      <td>130</td>\n",
       "      <td>204</td>\n",
       "      <td>0</td>\n",
       "      <td>2</td>\n",
       "      <td>172</td>\n",
       "      <td>0</td>\n",
       "      <td>1.4</td>\n",
       "      <td>1</td>\n",
       "      <td>0.0</td>\n",
       "      <td>3.0</td>\n",
       "      <td>0</td>\n",
       "    </tr>\n",
       "  </tbody>\n",
       "</table>\n",
       "</div>"
      ],
      "text/plain": [
       "   age  sex  cp  trestbps  chol  fbs  restecg  thalach  exang  oldpeak  slope  \\\n",
       "0   63    1   1       145   233    1        2      150      0      2.3      3   \n",
       "1   67    1   4       160   286    0        2      108      1      1.5      2   \n",
       "2   67    1   4       120   229    0        2      129      1      2.6      2   \n",
       "3   37    1   3       130   250    0        0      187      0      3.5      3   \n",
       "4   41    0   2       130   204    0        2      172      0      1.4      1   \n",
       "\n",
       "    ca  thal  num  \n",
       "0  0.0   6.0    0  \n",
       "1  3.0   3.0    2  \n",
       "2  2.0   7.0    1  \n",
       "3  0.0   3.0    0  \n",
       "4  0.0   3.0    0  "
      ]
     },
     "execution_count": 68,
     "metadata": {},
     "output_type": "execute_result"
    }
   ],
   "source": [
    "# Ver las primeras filas\n",
    "df.head()\n"
   ]
  },
  {
   "cell_type": "code",
   "execution_count": 69,
   "metadata": {},
   "outputs": [
    {
     "data": {
      "application/vnd.microsoft.datawrangler.viewer.v0+json": {
       "columns": [
        {
         "name": "index",
         "rawType": "int64",
         "type": "integer"
        },
        {
         "name": "age",
         "rawType": "int64",
         "type": "integer"
        },
        {
         "name": "sex",
         "rawType": "int64",
         "type": "integer"
        },
        {
         "name": "cp",
         "rawType": "int64",
         "type": "integer"
        },
        {
         "name": "trestbps",
         "rawType": "int64",
         "type": "integer"
        },
        {
         "name": "chol",
         "rawType": "int64",
         "type": "integer"
        },
        {
         "name": "fbs",
         "rawType": "int64",
         "type": "integer"
        },
        {
         "name": "restecg",
         "rawType": "int64",
         "type": "integer"
        },
        {
         "name": "thalach",
         "rawType": "int64",
         "type": "integer"
        },
        {
         "name": "exang",
         "rawType": "int64",
         "type": "integer"
        },
        {
         "name": "oldpeak",
         "rawType": "float64",
         "type": "float"
        },
        {
         "name": "slope",
         "rawType": "int64",
         "type": "integer"
        },
        {
         "name": "ca",
         "rawType": "float64",
         "type": "float"
        },
        {
         "name": "thal",
         "rawType": "float64",
         "type": "float"
        },
        {
         "name": "num",
         "rawType": "int64",
         "type": "integer"
        }
       ],
       "ref": "6a6d8152-40bc-41ac-a96d-94b0f829a7e7",
       "rows": [
        [
         "300",
         "57",
         "1",
         "4",
         "130",
         "131",
         "0",
         "0",
         "115",
         "1",
         "1.2",
         "2",
         "1.0",
         "7.0",
         "3"
        ],
        [
         "301",
         "57",
         "0",
         "2",
         "130",
         "236",
         "0",
         "2",
         "174",
         "0",
         "0.0",
         "2",
         "1.0",
         "3.0",
         "1"
        ],
        [
         "302",
         "38",
         "1",
         "3",
         "138",
         "175",
         "0",
         "0",
         "173",
         "0",
         "0.0",
         "1",
         null,
         "3.0",
         "0"
        ]
       ],
       "shape": {
        "columns": 14,
        "rows": 3
       }
      },
      "text/html": [
       "<div>\n",
       "<style scoped>\n",
       "    .dataframe tbody tr th:only-of-type {\n",
       "        vertical-align: middle;\n",
       "    }\n",
       "\n",
       "    .dataframe tbody tr th {\n",
       "        vertical-align: top;\n",
       "    }\n",
       "\n",
       "    .dataframe thead th {\n",
       "        text-align: right;\n",
       "    }\n",
       "</style>\n",
       "<table border=\"1\" class=\"dataframe\">\n",
       "  <thead>\n",
       "    <tr style=\"text-align: right;\">\n",
       "      <th></th>\n",
       "      <th>age</th>\n",
       "      <th>sex</th>\n",
       "      <th>cp</th>\n",
       "      <th>trestbps</th>\n",
       "      <th>chol</th>\n",
       "      <th>fbs</th>\n",
       "      <th>restecg</th>\n",
       "      <th>thalach</th>\n",
       "      <th>exang</th>\n",
       "      <th>oldpeak</th>\n",
       "      <th>slope</th>\n",
       "      <th>ca</th>\n",
       "      <th>thal</th>\n",
       "      <th>num</th>\n",
       "    </tr>\n",
       "  </thead>\n",
       "  <tbody>\n",
       "    <tr>\n",
       "      <th>300</th>\n",
       "      <td>57</td>\n",
       "      <td>1</td>\n",
       "      <td>4</td>\n",
       "      <td>130</td>\n",
       "      <td>131</td>\n",
       "      <td>0</td>\n",
       "      <td>0</td>\n",
       "      <td>115</td>\n",
       "      <td>1</td>\n",
       "      <td>1.2</td>\n",
       "      <td>2</td>\n",
       "      <td>1.0</td>\n",
       "      <td>7.0</td>\n",
       "      <td>3</td>\n",
       "    </tr>\n",
       "    <tr>\n",
       "      <th>301</th>\n",
       "      <td>57</td>\n",
       "      <td>0</td>\n",
       "      <td>2</td>\n",
       "      <td>130</td>\n",
       "      <td>236</td>\n",
       "      <td>0</td>\n",
       "      <td>2</td>\n",
       "      <td>174</td>\n",
       "      <td>0</td>\n",
       "      <td>0.0</td>\n",
       "      <td>2</td>\n",
       "      <td>1.0</td>\n",
       "      <td>3.0</td>\n",
       "      <td>1</td>\n",
       "    </tr>\n",
       "    <tr>\n",
       "      <th>302</th>\n",
       "      <td>38</td>\n",
       "      <td>1</td>\n",
       "      <td>3</td>\n",
       "      <td>138</td>\n",
       "      <td>175</td>\n",
       "      <td>0</td>\n",
       "      <td>0</td>\n",
       "      <td>173</td>\n",
       "      <td>0</td>\n",
       "      <td>0.0</td>\n",
       "      <td>1</td>\n",
       "      <td>NaN</td>\n",
       "      <td>3.0</td>\n",
       "      <td>0</td>\n",
       "    </tr>\n",
       "  </tbody>\n",
       "</table>\n",
       "</div>"
      ],
      "text/plain": [
       "     age  sex  cp  trestbps  chol  fbs  restecg  thalach  exang  oldpeak  \\\n",
       "300   57    1   4       130   131    0        0      115      1      1.2   \n",
       "301   57    0   2       130   236    0        2      174      0      0.0   \n",
       "302   38    1   3       138   175    0        0      173      0      0.0   \n",
       "\n",
       "     slope   ca  thal  num  \n",
       "300      2  1.0   7.0    3  \n",
       "301      2  1.0   3.0    1  \n",
       "302      1  NaN   3.0    0  "
      ]
     },
     "execution_count": 69,
     "metadata": {},
     "output_type": "execute_result"
    }
   ],
   "source": [
    "# También podemos ver las últimas filas\n",
    "df.tail(3)\n"
   ]
  },
  {
   "cell_type": "code",
   "execution_count": 70,
   "metadata": {},
   "outputs": [
    {
     "data": {
      "application/vnd.microsoft.datawrangler.viewer.v0+json": {
       "columns": [
        {
         "name": "index",
         "rawType": "int64",
         "type": "integer"
        },
        {
         "name": "age",
         "rawType": "int64",
         "type": "integer"
        },
        {
         "name": "sex",
         "rawType": "int64",
         "type": "integer"
        },
        {
         "name": "cp",
         "rawType": "int64",
         "type": "integer"
        },
        {
         "name": "trestbps",
         "rawType": "int64",
         "type": "integer"
        },
        {
         "name": "chol",
         "rawType": "int64",
         "type": "integer"
        },
        {
         "name": "fbs",
         "rawType": "int64",
         "type": "integer"
        },
        {
         "name": "restecg",
         "rawType": "int64",
         "type": "integer"
        },
        {
         "name": "thalach",
         "rawType": "int64",
         "type": "integer"
        },
        {
         "name": "exang",
         "rawType": "int64",
         "type": "integer"
        },
        {
         "name": "oldpeak",
         "rawType": "float64",
         "type": "float"
        },
        {
         "name": "slope",
         "rawType": "int64",
         "type": "integer"
        },
        {
         "name": "ca",
         "rawType": "float64",
         "type": "float"
        },
        {
         "name": "thal",
         "rawType": "float64",
         "type": "float"
        },
        {
         "name": "num",
         "rawType": "int64",
         "type": "integer"
        }
       ],
       "ref": "5962b046-be5c-454f-9bc7-37df11ba1478",
       "rows": [
        [
         "10",
         "57",
         "1",
         "4",
         "140",
         "192",
         "0",
         "0",
         "148",
         "0",
         "0.4",
         "2",
         "0.0",
         "6.0",
         "0"
        ],
        [
         "80",
         "45",
         "1",
         "4",
         "104",
         "208",
         "0",
         "2",
         "148",
         "1",
         "3.0",
         "2",
         "0.0",
         "3.0",
         "0"
        ],
        [
         "147",
         "41",
         "1",
         "3",
         "112",
         "250",
         "0",
         "0",
         "179",
         "0",
         "0.0",
         "1",
         "0.0",
         "3.0",
         "0"
        ],
        [
         "293",
         "63",
         "1",
         "4",
         "140",
         "187",
         "0",
         "2",
         "144",
         "1",
         "4.0",
         "1",
         "2.0",
         "7.0",
         "2"
        ],
        [
         "288",
         "56",
         "1",
         "2",
         "130",
         "221",
         "0",
         "2",
         "163",
         "0",
         "0.0",
         "1",
         "0.0",
         "7.0",
         "0"
        ]
       ],
       "shape": {
        "columns": 14,
        "rows": 5
       }
      },
      "text/html": [
       "<div>\n",
       "<style scoped>\n",
       "    .dataframe tbody tr th:only-of-type {\n",
       "        vertical-align: middle;\n",
       "    }\n",
       "\n",
       "    .dataframe tbody tr th {\n",
       "        vertical-align: top;\n",
       "    }\n",
       "\n",
       "    .dataframe thead th {\n",
       "        text-align: right;\n",
       "    }\n",
       "</style>\n",
       "<table border=\"1\" class=\"dataframe\">\n",
       "  <thead>\n",
       "    <tr style=\"text-align: right;\">\n",
       "      <th></th>\n",
       "      <th>age</th>\n",
       "      <th>sex</th>\n",
       "      <th>cp</th>\n",
       "      <th>trestbps</th>\n",
       "      <th>chol</th>\n",
       "      <th>fbs</th>\n",
       "      <th>restecg</th>\n",
       "      <th>thalach</th>\n",
       "      <th>exang</th>\n",
       "      <th>oldpeak</th>\n",
       "      <th>slope</th>\n",
       "      <th>ca</th>\n",
       "      <th>thal</th>\n",
       "      <th>num</th>\n",
       "    </tr>\n",
       "  </thead>\n",
       "  <tbody>\n",
       "    <tr>\n",
       "      <th>10</th>\n",
       "      <td>57</td>\n",
       "      <td>1</td>\n",
       "      <td>4</td>\n",
       "      <td>140</td>\n",
       "      <td>192</td>\n",
       "      <td>0</td>\n",
       "      <td>0</td>\n",
       "      <td>148</td>\n",
       "      <td>0</td>\n",
       "      <td>0.4</td>\n",
       "      <td>2</td>\n",
       "      <td>0.0</td>\n",
       "      <td>6.0</td>\n",
       "      <td>0</td>\n",
       "    </tr>\n",
       "    <tr>\n",
       "      <th>80</th>\n",
       "      <td>45</td>\n",
       "      <td>1</td>\n",
       "      <td>4</td>\n",
       "      <td>104</td>\n",
       "      <td>208</td>\n",
       "      <td>0</td>\n",
       "      <td>2</td>\n",
       "      <td>148</td>\n",
       "      <td>1</td>\n",
       "      <td>3.0</td>\n",
       "      <td>2</td>\n",
       "      <td>0.0</td>\n",
       "      <td>3.0</td>\n",
       "      <td>0</td>\n",
       "    </tr>\n",
       "    <tr>\n",
       "      <th>147</th>\n",
       "      <td>41</td>\n",
       "      <td>1</td>\n",
       "      <td>3</td>\n",
       "      <td>112</td>\n",
       "      <td>250</td>\n",
       "      <td>0</td>\n",
       "      <td>0</td>\n",
       "      <td>179</td>\n",
       "      <td>0</td>\n",
       "      <td>0.0</td>\n",
       "      <td>1</td>\n",
       "      <td>0.0</td>\n",
       "      <td>3.0</td>\n",
       "      <td>0</td>\n",
       "    </tr>\n",
       "    <tr>\n",
       "      <th>293</th>\n",
       "      <td>63</td>\n",
       "      <td>1</td>\n",
       "      <td>4</td>\n",
       "      <td>140</td>\n",
       "      <td>187</td>\n",
       "      <td>0</td>\n",
       "      <td>2</td>\n",
       "      <td>144</td>\n",
       "      <td>1</td>\n",
       "      <td>4.0</td>\n",
       "      <td>1</td>\n",
       "      <td>2.0</td>\n",
       "      <td>7.0</td>\n",
       "      <td>2</td>\n",
       "    </tr>\n",
       "    <tr>\n",
       "      <th>288</th>\n",
       "      <td>56</td>\n",
       "      <td>1</td>\n",
       "      <td>2</td>\n",
       "      <td>130</td>\n",
       "      <td>221</td>\n",
       "      <td>0</td>\n",
       "      <td>2</td>\n",
       "      <td>163</td>\n",
       "      <td>0</td>\n",
       "      <td>0.0</td>\n",
       "      <td>1</td>\n",
       "      <td>0.0</td>\n",
       "      <td>7.0</td>\n",
       "      <td>0</td>\n",
       "    </tr>\n",
       "  </tbody>\n",
       "</table>\n",
       "</div>"
      ],
      "text/plain": [
       "     age  sex  cp  trestbps  chol  fbs  restecg  thalach  exang  oldpeak  \\\n",
       "10    57    1   4       140   192    0        0      148      0      0.4   \n",
       "80    45    1   4       104   208    0        2      148      1      3.0   \n",
       "147   41    1   3       112   250    0        0      179      0      0.0   \n",
       "293   63    1   4       140   187    0        2      144      1      4.0   \n",
       "288   56    1   2       130   221    0        2      163      0      0.0   \n",
       "\n",
       "     slope   ca  thal  num  \n",
       "10       2  0.0   6.0    0  \n",
       "80       2  0.0   3.0    0  \n",
       "147      1  0.0   3.0    0  \n",
       "293      1  2.0   7.0    2  \n",
       "288      1  0.0   7.0    0  "
      ]
     },
     "execution_count": 70,
     "metadata": {},
     "output_type": "execute_result"
    }
   ],
   "source": [
    "# Ver una muestra aleatoria de datos\n",
    "df.sample(5)\n"
   ]
  },
  {
   "cell_type": "code",
   "execution_count": 71,
   "metadata": {},
   "outputs": [
    {
     "data": {
      "text/plain": [
       "(303, 14)"
      ]
     },
     "execution_count": 71,
     "metadata": {},
     "output_type": "execute_result"
    }
   ],
   "source": [
    "# Dimensiones del DataFrame\n",
    "df.shape\n"
   ]
  },
  {
   "cell_type": "code",
   "execution_count": 72,
   "metadata": {},
   "outputs": [
    {
     "data": {
      "text/plain": [
       "'El dataset tiene 303 filas y 14 columnas'"
      ]
     },
     "execution_count": 72,
     "metadata": {},
     "output_type": "execute_result"
    }
   ],
   "source": [
    "f\"El dataset tiene {df.shape[0]} filas y {df.shape[1]} columnas\"\n"
   ]
  },
  {
   "cell_type": "code",
   "execution_count": 73,
   "metadata": {},
   "outputs": [
    {
     "data": {
      "text/plain": [
       "Index(['age', 'sex', 'cp', 'trestbps', 'chol', 'fbs', 'restecg', 'thalach',\n",
       "       'exang', 'oldpeak', 'slope', 'ca', 'thal', 'num'],\n",
       "      dtype='object')"
      ]
     },
     "execution_count": 73,
     "metadata": {},
     "output_type": "execute_result"
    }
   ],
   "source": [
    "# Ver los nombres de las columnas\n",
    "df.columns\n"
   ]
  },
  {
   "cell_type": "code",
   "execution_count": 74,
   "metadata": {},
   "outputs": [
    {
     "data": {
      "application/vnd.microsoft.datawrangler.viewer.v0+json": {
       "columns": [
        {
         "name": "index",
         "rawType": "object",
         "type": "string"
        },
        {
         "name": "0",
         "rawType": "object",
         "type": "unknown"
        }
       ],
       "ref": "d42ecf50-e54e-4ff5-8bed-6899a536acde",
       "rows": [
        [
         "age",
         "int64"
        ],
        [
         "sex",
         "int64"
        ],
        [
         "cp",
         "int64"
        ],
        [
         "trestbps",
         "int64"
        ],
        [
         "chol",
         "int64"
        ],
        [
         "fbs",
         "int64"
        ],
        [
         "restecg",
         "int64"
        ],
        [
         "thalach",
         "int64"
        ],
        [
         "exang",
         "int64"
        ],
        [
         "oldpeak",
         "float64"
        ],
        [
         "slope",
         "int64"
        ],
        [
         "ca",
         "float64"
        ],
        [
         "thal",
         "float64"
        ],
        [
         "num",
         "int64"
        ]
       ],
       "shape": {
        "columns": 1,
        "rows": 14
       }
      },
      "text/plain": [
       "age           int64\n",
       "sex           int64\n",
       "cp            int64\n",
       "trestbps      int64\n",
       "chol          int64\n",
       "fbs           int64\n",
       "restecg       int64\n",
       "thalach       int64\n",
       "exang         int64\n",
       "oldpeak     float64\n",
       "slope         int64\n",
       "ca          float64\n",
       "thal        float64\n",
       "num           int64\n",
       "dtype: object"
      ]
     },
     "execution_count": 74,
     "metadata": {},
     "output_type": "execute_result"
    }
   ],
   "source": [
    "# Tipos de datos de cada columna\n",
    "df.dtypes\n"
   ]
  },
  {
   "cell_type": "code",
   "execution_count": 75,
   "metadata": {},
   "outputs": [
    {
     "name": "stdout",
     "output_type": "stream",
     "text": [
      "<class 'pandas.core.frame.DataFrame'>\n",
      "RangeIndex: 303 entries, 0 to 302\n",
      "Data columns (total 14 columns):\n",
      " #   Column    Non-Null Count  Dtype  \n",
      "---  ------    --------------  -----  \n",
      " 0   age       303 non-null    int64  \n",
      " 1   sex       303 non-null    int64  \n",
      " 2   cp        303 non-null    int64  \n",
      " 3   trestbps  303 non-null    int64  \n",
      " 4   chol      303 non-null    int64  \n",
      " 5   fbs       303 non-null    int64  \n",
      " 6   restecg   303 non-null    int64  \n",
      " 7   thalach   303 non-null    int64  \n",
      " 8   exang     303 non-null    int64  \n",
      " 9   oldpeak   303 non-null    float64\n",
      " 10  slope     303 non-null    int64  \n",
      " 11  ca        299 non-null    float64\n",
      " 12  thal      301 non-null    float64\n",
      " 13  num       303 non-null    int64  \n",
      "dtypes: float64(3), int64(11)\n",
      "memory usage: 33.3 KB\n"
     ]
    }
   ],
   "source": [
    "# Información general del DataFrame\n",
    "df.info()\n"
   ]
  },
  {
   "cell_type": "code",
   "execution_count": 76,
   "metadata": {},
   "outputs": [
    {
     "data": {
      "application/vnd.microsoft.datawrangler.viewer.v0+json": {
       "columns": [
        {
         "name": "index",
         "rawType": "object",
         "type": "string"
        },
        {
         "name": "age",
         "rawType": "float64",
         "type": "float"
        },
        {
         "name": "sex",
         "rawType": "float64",
         "type": "float"
        },
        {
         "name": "cp",
         "rawType": "float64",
         "type": "float"
        },
        {
         "name": "trestbps",
         "rawType": "float64",
         "type": "float"
        },
        {
         "name": "chol",
         "rawType": "float64",
         "type": "float"
        },
        {
         "name": "fbs",
         "rawType": "float64",
         "type": "float"
        },
        {
         "name": "restecg",
         "rawType": "float64",
         "type": "float"
        },
        {
         "name": "thalach",
         "rawType": "float64",
         "type": "float"
        },
        {
         "name": "exang",
         "rawType": "float64",
         "type": "float"
        },
        {
         "name": "oldpeak",
         "rawType": "float64",
         "type": "float"
        },
        {
         "name": "slope",
         "rawType": "float64",
         "type": "float"
        },
        {
         "name": "ca",
         "rawType": "float64",
         "type": "float"
        },
        {
         "name": "thal",
         "rawType": "float64",
         "type": "float"
        },
        {
         "name": "num",
         "rawType": "float64",
         "type": "float"
        }
       ],
       "ref": "2ed3502f-28dc-4801-8de1-b568da1b2e78",
       "rows": [
        [
         "count",
         "303.0",
         "303.0",
         "303.0",
         "303.0",
         "303.0",
         "303.0",
         "303.0",
         "303.0",
         "303.0",
         "303.0",
         "303.0",
         "299.0",
         "301.0",
         "303.0"
        ],
        [
         "mean",
         "54.43894389438944",
         "0.6798679867986799",
         "3.1584158415841586",
         "131.68976897689768",
         "246.69306930693068",
         "0.1485148514851485",
         "0.9900990099009901",
         "149.6072607260726",
         "0.32673267326732675",
         "1.0396039603960396",
         "1.6006600660066006",
         "0.6722408026755853",
         "4.73421926910299",
         "0.9372937293729373"
        ],
        [
         "std",
         "9.038662442446743",
         "0.4672988277701313",
         "0.9601256119600123",
         "17.59974772958769",
         "51.776917542637015",
         "0.35619787492797605",
         "0.9949712915251797",
         "22.875003276980376",
         "0.46979446452231716",
         "1.161075022068634",
         "0.6162261453459627",
         "0.9374383177242157",
         "1.9397057693786417",
         "1.2285356879701044"
        ],
        [
         "min",
         "29.0",
         "0.0",
         "1.0",
         "94.0",
         "126.0",
         "0.0",
         "0.0",
         "71.0",
         "0.0",
         "0.0",
         "1.0",
         "0.0",
         "3.0",
         "0.0"
        ],
        [
         "25%",
         "48.0",
         "0.0",
         "3.0",
         "120.0",
         "211.0",
         "0.0",
         "0.0",
         "133.5",
         "0.0",
         "0.0",
         "1.0",
         "0.0",
         "3.0",
         "0.0"
        ],
        [
         "50%",
         "56.0",
         "1.0",
         "3.0",
         "130.0",
         "241.0",
         "0.0",
         "1.0",
         "153.0",
         "0.0",
         "0.8",
         "2.0",
         "0.0",
         "3.0",
         "0.0"
        ],
        [
         "75%",
         "61.0",
         "1.0",
         "4.0",
         "140.0",
         "275.0",
         "0.0",
         "2.0",
         "166.0",
         "1.0",
         "1.6",
         "2.0",
         "1.0",
         "7.0",
         "2.0"
        ],
        [
         "max",
         "77.0",
         "1.0",
         "4.0",
         "200.0",
         "564.0",
         "1.0",
         "2.0",
         "202.0",
         "1.0",
         "6.2",
         "3.0",
         "3.0",
         "7.0",
         "4.0"
        ]
       ],
       "shape": {
        "columns": 14,
        "rows": 8
       }
      },
      "text/html": [
       "<div>\n",
       "<style scoped>\n",
       "    .dataframe tbody tr th:only-of-type {\n",
       "        vertical-align: middle;\n",
       "    }\n",
       "\n",
       "    .dataframe tbody tr th {\n",
       "        vertical-align: top;\n",
       "    }\n",
       "\n",
       "    .dataframe thead th {\n",
       "        text-align: right;\n",
       "    }\n",
       "</style>\n",
       "<table border=\"1\" class=\"dataframe\">\n",
       "  <thead>\n",
       "    <tr style=\"text-align: right;\">\n",
       "      <th></th>\n",
       "      <th>age</th>\n",
       "      <th>sex</th>\n",
       "      <th>cp</th>\n",
       "      <th>trestbps</th>\n",
       "      <th>chol</th>\n",
       "      <th>fbs</th>\n",
       "      <th>restecg</th>\n",
       "      <th>thalach</th>\n",
       "      <th>exang</th>\n",
       "      <th>oldpeak</th>\n",
       "      <th>slope</th>\n",
       "      <th>ca</th>\n",
       "      <th>thal</th>\n",
       "      <th>num</th>\n",
       "    </tr>\n",
       "  </thead>\n",
       "  <tbody>\n",
       "    <tr>\n",
       "      <th>count</th>\n",
       "      <td>303.000000</td>\n",
       "      <td>303.000000</td>\n",
       "      <td>303.000000</td>\n",
       "      <td>303.000000</td>\n",
       "      <td>303.000000</td>\n",
       "      <td>303.000000</td>\n",
       "      <td>303.000000</td>\n",
       "      <td>303.000000</td>\n",
       "      <td>303.000000</td>\n",
       "      <td>303.000000</td>\n",
       "      <td>303.000000</td>\n",
       "      <td>299.000000</td>\n",
       "      <td>301.000000</td>\n",
       "      <td>303.000000</td>\n",
       "    </tr>\n",
       "    <tr>\n",
       "      <th>mean</th>\n",
       "      <td>54.438944</td>\n",
       "      <td>0.679868</td>\n",
       "      <td>3.158416</td>\n",
       "      <td>131.689769</td>\n",
       "      <td>246.693069</td>\n",
       "      <td>0.148515</td>\n",
       "      <td>0.990099</td>\n",
       "      <td>149.607261</td>\n",
       "      <td>0.326733</td>\n",
       "      <td>1.039604</td>\n",
       "      <td>1.600660</td>\n",
       "      <td>0.672241</td>\n",
       "      <td>4.734219</td>\n",
       "      <td>0.937294</td>\n",
       "    </tr>\n",
       "    <tr>\n",
       "      <th>std</th>\n",
       "      <td>9.038662</td>\n",
       "      <td>0.467299</td>\n",
       "      <td>0.960126</td>\n",
       "      <td>17.599748</td>\n",
       "      <td>51.776918</td>\n",
       "      <td>0.356198</td>\n",
       "      <td>0.994971</td>\n",
       "      <td>22.875003</td>\n",
       "      <td>0.469794</td>\n",
       "      <td>1.161075</td>\n",
       "      <td>0.616226</td>\n",
       "      <td>0.937438</td>\n",
       "      <td>1.939706</td>\n",
       "      <td>1.228536</td>\n",
       "    </tr>\n",
       "    <tr>\n",
       "      <th>min</th>\n",
       "      <td>29.000000</td>\n",
       "      <td>0.000000</td>\n",
       "      <td>1.000000</td>\n",
       "      <td>94.000000</td>\n",
       "      <td>126.000000</td>\n",
       "      <td>0.000000</td>\n",
       "      <td>0.000000</td>\n",
       "      <td>71.000000</td>\n",
       "      <td>0.000000</td>\n",
       "      <td>0.000000</td>\n",
       "      <td>1.000000</td>\n",
       "      <td>0.000000</td>\n",
       "      <td>3.000000</td>\n",
       "      <td>0.000000</td>\n",
       "    </tr>\n",
       "    <tr>\n",
       "      <th>25%</th>\n",
       "      <td>48.000000</td>\n",
       "      <td>0.000000</td>\n",
       "      <td>3.000000</td>\n",
       "      <td>120.000000</td>\n",
       "      <td>211.000000</td>\n",
       "      <td>0.000000</td>\n",
       "      <td>0.000000</td>\n",
       "      <td>133.500000</td>\n",
       "      <td>0.000000</td>\n",
       "      <td>0.000000</td>\n",
       "      <td>1.000000</td>\n",
       "      <td>0.000000</td>\n",
       "      <td>3.000000</td>\n",
       "      <td>0.000000</td>\n",
       "    </tr>\n",
       "    <tr>\n",
       "      <th>50%</th>\n",
       "      <td>56.000000</td>\n",
       "      <td>1.000000</td>\n",
       "      <td>3.000000</td>\n",
       "      <td>130.000000</td>\n",
       "      <td>241.000000</td>\n",
       "      <td>0.000000</td>\n",
       "      <td>1.000000</td>\n",
       "      <td>153.000000</td>\n",
       "      <td>0.000000</td>\n",
       "      <td>0.800000</td>\n",
       "      <td>2.000000</td>\n",
       "      <td>0.000000</td>\n",
       "      <td>3.000000</td>\n",
       "      <td>0.000000</td>\n",
       "    </tr>\n",
       "    <tr>\n",
       "      <th>75%</th>\n",
       "      <td>61.000000</td>\n",
       "      <td>1.000000</td>\n",
       "      <td>4.000000</td>\n",
       "      <td>140.000000</td>\n",
       "      <td>275.000000</td>\n",
       "      <td>0.000000</td>\n",
       "      <td>2.000000</td>\n",
       "      <td>166.000000</td>\n",
       "      <td>1.000000</td>\n",
       "      <td>1.600000</td>\n",
       "      <td>2.000000</td>\n",
       "      <td>1.000000</td>\n",
       "      <td>7.000000</td>\n",
       "      <td>2.000000</td>\n",
       "    </tr>\n",
       "    <tr>\n",
       "      <th>max</th>\n",
       "      <td>77.000000</td>\n",
       "      <td>1.000000</td>\n",
       "      <td>4.000000</td>\n",
       "      <td>200.000000</td>\n",
       "      <td>564.000000</td>\n",
       "      <td>1.000000</td>\n",
       "      <td>2.000000</td>\n",
       "      <td>202.000000</td>\n",
       "      <td>1.000000</td>\n",
       "      <td>6.200000</td>\n",
       "      <td>3.000000</td>\n",
       "      <td>3.000000</td>\n",
       "      <td>7.000000</td>\n",
       "      <td>4.000000</td>\n",
       "    </tr>\n",
       "  </tbody>\n",
       "</table>\n",
       "</div>"
      ],
      "text/plain": [
       "              age         sex          cp    trestbps        chol         fbs  \\\n",
       "count  303.000000  303.000000  303.000000  303.000000  303.000000  303.000000   \n",
       "mean    54.438944    0.679868    3.158416  131.689769  246.693069    0.148515   \n",
       "std      9.038662    0.467299    0.960126   17.599748   51.776918    0.356198   \n",
       "min     29.000000    0.000000    1.000000   94.000000  126.000000    0.000000   \n",
       "25%     48.000000    0.000000    3.000000  120.000000  211.000000    0.000000   \n",
       "50%     56.000000    1.000000    3.000000  130.000000  241.000000    0.000000   \n",
       "75%     61.000000    1.000000    4.000000  140.000000  275.000000    0.000000   \n",
       "max     77.000000    1.000000    4.000000  200.000000  564.000000    1.000000   \n",
       "\n",
       "          restecg     thalach       exang     oldpeak       slope          ca  \\\n",
       "count  303.000000  303.000000  303.000000  303.000000  303.000000  299.000000   \n",
       "mean     0.990099  149.607261    0.326733    1.039604    1.600660    0.672241   \n",
       "std      0.994971   22.875003    0.469794    1.161075    0.616226    0.937438   \n",
       "min      0.000000   71.000000    0.000000    0.000000    1.000000    0.000000   \n",
       "25%      0.000000  133.500000    0.000000    0.000000    1.000000    0.000000   \n",
       "50%      1.000000  153.000000    0.000000    0.800000    2.000000    0.000000   \n",
       "75%      2.000000  166.000000    1.000000    1.600000    2.000000    1.000000   \n",
       "max      2.000000  202.000000    1.000000    6.200000    3.000000    3.000000   \n",
       "\n",
       "             thal         num  \n",
       "count  301.000000  303.000000  \n",
       "mean     4.734219    0.937294  \n",
       "std      1.939706    1.228536  \n",
       "min      3.000000    0.000000  \n",
       "25%      3.000000    0.000000  \n",
       "50%      3.000000    0.000000  \n",
       "75%      7.000000    2.000000  \n",
       "max      7.000000    4.000000  "
      ]
     },
     "execution_count": 76,
     "metadata": {},
     "output_type": "execute_result"
    }
   ],
   "source": [
    "# Resumen estadístico rápido\n",
    "df.describe()\n"
   ]
  },
  {
   "cell_type": "code",
   "execution_count": 77,
   "metadata": {},
   "outputs": [
    {
     "data": {
      "application/vnd.microsoft.datawrangler.viewer.v0+json": {
       "columns": [
        {
         "name": "index",
         "rawType": "object",
         "type": "string"
        },
        {
         "name": "age",
         "rawType": "float64",
         "type": "float"
        },
        {
         "name": "sex",
         "rawType": "float64",
         "type": "float"
        },
        {
         "name": "cp",
         "rawType": "float64",
         "type": "float"
        },
        {
         "name": "trestbps",
         "rawType": "float64",
         "type": "float"
        },
        {
         "name": "chol",
         "rawType": "float64",
         "type": "float"
        },
        {
         "name": "fbs",
         "rawType": "float64",
         "type": "float"
        },
        {
         "name": "restecg",
         "rawType": "float64",
         "type": "float"
        },
        {
         "name": "thalach",
         "rawType": "float64",
         "type": "float"
        },
        {
         "name": "exang",
         "rawType": "float64",
         "type": "float"
        },
        {
         "name": "oldpeak",
         "rawType": "float64",
         "type": "float"
        },
        {
         "name": "slope",
         "rawType": "float64",
         "type": "float"
        },
        {
         "name": "ca",
         "rawType": "float64",
         "type": "float"
        },
        {
         "name": "thal",
         "rawType": "float64",
         "type": "float"
        },
        {
         "name": "num",
         "rawType": "float64",
         "type": "float"
        }
       ],
       "ref": "c34f3f7e-8446-4134-98bf-66e893521990",
       "rows": [
        [
         "count",
         "303.0",
         "303.0",
         "303.0",
         "303.0",
         "303.0",
         "303.0",
         "303.0",
         "303.0",
         "303.0",
         "303.0",
         "303.0",
         "299.0",
         "301.0",
         "303.0"
        ],
        [
         "mean",
         "54.43894389438944",
         "0.6798679867986799",
         "3.1584158415841586",
         "131.68976897689768",
         "246.69306930693068",
         "0.1485148514851485",
         "0.9900990099009901",
         "149.6072607260726",
         "0.32673267326732675",
         "1.0396039603960396",
         "1.6006600660066006",
         "0.6722408026755853",
         "4.73421926910299",
         "0.9372937293729373"
        ],
        [
         "std",
         "9.038662442446743",
         "0.4672988277701313",
         "0.9601256119600123",
         "17.59974772958769",
         "51.776917542637015",
         "0.35619787492797605",
         "0.9949712915251797",
         "22.875003276980376",
         "0.46979446452231716",
         "1.161075022068634",
         "0.6162261453459627",
         "0.9374383177242157",
         "1.9397057693786417",
         "1.2285356879701044"
        ],
        [
         "min",
         "29.0",
         "0.0",
         "1.0",
         "94.0",
         "126.0",
         "0.0",
         "0.0",
         "71.0",
         "0.0",
         "0.0",
         "1.0",
         "0.0",
         "3.0",
         "0.0"
        ],
        [
         "25%",
         "48.0",
         "0.0",
         "3.0",
         "120.0",
         "211.0",
         "0.0",
         "0.0",
         "133.5",
         "0.0",
         "0.0",
         "1.0",
         "0.0",
         "3.0",
         "0.0"
        ],
        [
         "50%",
         "56.0",
         "1.0",
         "3.0",
         "130.0",
         "241.0",
         "0.0",
         "1.0",
         "153.0",
         "0.0",
         "0.8",
         "2.0",
         "0.0",
         "3.0",
         "0.0"
        ],
        [
         "75%",
         "61.0",
         "1.0",
         "4.0",
         "140.0",
         "275.0",
         "0.0",
         "2.0",
         "166.0",
         "1.0",
         "1.6",
         "2.0",
         "1.0",
         "7.0",
         "2.0"
        ],
        [
         "max",
         "77.0",
         "1.0",
         "4.0",
         "200.0",
         "564.0",
         "1.0",
         "2.0",
         "202.0",
         "1.0",
         "6.2",
         "3.0",
         "3.0",
         "7.0",
         "4.0"
        ]
       ],
       "shape": {
        "columns": 14,
        "rows": 8
       }
      },
      "text/html": [
       "<div>\n",
       "<style scoped>\n",
       "    .dataframe tbody tr th:only-of-type {\n",
       "        vertical-align: middle;\n",
       "    }\n",
       "\n",
       "    .dataframe tbody tr th {\n",
       "        vertical-align: top;\n",
       "    }\n",
       "\n",
       "    .dataframe thead th {\n",
       "        text-align: right;\n",
       "    }\n",
       "</style>\n",
       "<table border=\"1\" class=\"dataframe\">\n",
       "  <thead>\n",
       "    <tr style=\"text-align: right;\">\n",
       "      <th></th>\n",
       "      <th>age</th>\n",
       "      <th>sex</th>\n",
       "      <th>cp</th>\n",
       "      <th>trestbps</th>\n",
       "      <th>chol</th>\n",
       "      <th>fbs</th>\n",
       "      <th>restecg</th>\n",
       "      <th>thalach</th>\n",
       "      <th>exang</th>\n",
       "      <th>oldpeak</th>\n",
       "      <th>slope</th>\n",
       "      <th>ca</th>\n",
       "      <th>thal</th>\n",
       "      <th>num</th>\n",
       "    </tr>\n",
       "  </thead>\n",
       "  <tbody>\n",
       "    <tr>\n",
       "      <th>count</th>\n",
       "      <td>303.000000</td>\n",
       "      <td>303.000000</td>\n",
       "      <td>303.000000</td>\n",
       "      <td>303.000000</td>\n",
       "      <td>303.000000</td>\n",
       "      <td>303.000000</td>\n",
       "      <td>303.000000</td>\n",
       "      <td>303.000000</td>\n",
       "      <td>303.000000</td>\n",
       "      <td>303.000000</td>\n",
       "      <td>303.000000</td>\n",
       "      <td>299.000000</td>\n",
       "      <td>301.000000</td>\n",
       "      <td>303.000000</td>\n",
       "    </tr>\n",
       "    <tr>\n",
       "      <th>mean</th>\n",
       "      <td>54.438944</td>\n",
       "      <td>0.679868</td>\n",
       "      <td>3.158416</td>\n",
       "      <td>131.689769</td>\n",
       "      <td>246.693069</td>\n",
       "      <td>0.148515</td>\n",
       "      <td>0.990099</td>\n",
       "      <td>149.607261</td>\n",
       "      <td>0.326733</td>\n",
       "      <td>1.039604</td>\n",
       "      <td>1.600660</td>\n",
       "      <td>0.672241</td>\n",
       "      <td>4.734219</td>\n",
       "      <td>0.937294</td>\n",
       "    </tr>\n",
       "    <tr>\n",
       "      <th>std</th>\n",
       "      <td>9.038662</td>\n",
       "      <td>0.467299</td>\n",
       "      <td>0.960126</td>\n",
       "      <td>17.599748</td>\n",
       "      <td>51.776918</td>\n",
       "      <td>0.356198</td>\n",
       "      <td>0.994971</td>\n",
       "      <td>22.875003</td>\n",
       "      <td>0.469794</td>\n",
       "      <td>1.161075</td>\n",
       "      <td>0.616226</td>\n",
       "      <td>0.937438</td>\n",
       "      <td>1.939706</td>\n",
       "      <td>1.228536</td>\n",
       "    </tr>\n",
       "    <tr>\n",
       "      <th>min</th>\n",
       "      <td>29.000000</td>\n",
       "      <td>0.000000</td>\n",
       "      <td>1.000000</td>\n",
       "      <td>94.000000</td>\n",
       "      <td>126.000000</td>\n",
       "      <td>0.000000</td>\n",
       "      <td>0.000000</td>\n",
       "      <td>71.000000</td>\n",
       "      <td>0.000000</td>\n",
       "      <td>0.000000</td>\n",
       "      <td>1.000000</td>\n",
       "      <td>0.000000</td>\n",
       "      <td>3.000000</td>\n",
       "      <td>0.000000</td>\n",
       "    </tr>\n",
       "    <tr>\n",
       "      <th>25%</th>\n",
       "      <td>48.000000</td>\n",
       "      <td>0.000000</td>\n",
       "      <td>3.000000</td>\n",
       "      <td>120.000000</td>\n",
       "      <td>211.000000</td>\n",
       "      <td>0.000000</td>\n",
       "      <td>0.000000</td>\n",
       "      <td>133.500000</td>\n",
       "      <td>0.000000</td>\n",
       "      <td>0.000000</td>\n",
       "      <td>1.000000</td>\n",
       "      <td>0.000000</td>\n",
       "      <td>3.000000</td>\n",
       "      <td>0.000000</td>\n",
       "    </tr>\n",
       "    <tr>\n",
       "      <th>50%</th>\n",
       "      <td>56.000000</td>\n",
       "      <td>1.000000</td>\n",
       "      <td>3.000000</td>\n",
       "      <td>130.000000</td>\n",
       "      <td>241.000000</td>\n",
       "      <td>0.000000</td>\n",
       "      <td>1.000000</td>\n",
       "      <td>153.000000</td>\n",
       "      <td>0.000000</td>\n",
       "      <td>0.800000</td>\n",
       "      <td>2.000000</td>\n",
       "      <td>0.000000</td>\n",
       "      <td>3.000000</td>\n",
       "      <td>0.000000</td>\n",
       "    </tr>\n",
       "    <tr>\n",
       "      <th>75%</th>\n",
       "      <td>61.000000</td>\n",
       "      <td>1.000000</td>\n",
       "      <td>4.000000</td>\n",
       "      <td>140.000000</td>\n",
       "      <td>275.000000</td>\n",
       "      <td>0.000000</td>\n",
       "      <td>2.000000</td>\n",
       "      <td>166.000000</td>\n",
       "      <td>1.000000</td>\n",
       "      <td>1.600000</td>\n",
       "      <td>2.000000</td>\n",
       "      <td>1.000000</td>\n",
       "      <td>7.000000</td>\n",
       "      <td>2.000000</td>\n",
       "    </tr>\n",
       "    <tr>\n",
       "      <th>max</th>\n",
       "      <td>77.000000</td>\n",
       "      <td>1.000000</td>\n",
       "      <td>4.000000</td>\n",
       "      <td>200.000000</td>\n",
       "      <td>564.000000</td>\n",
       "      <td>1.000000</td>\n",
       "      <td>2.000000</td>\n",
       "      <td>202.000000</td>\n",
       "      <td>1.000000</td>\n",
       "      <td>6.200000</td>\n",
       "      <td>3.000000</td>\n",
       "      <td>3.000000</td>\n",
       "      <td>7.000000</td>\n",
       "      <td>4.000000</td>\n",
       "    </tr>\n",
       "  </tbody>\n",
       "</table>\n",
       "</div>"
      ],
      "text/plain": [
       "              age         sex          cp    trestbps        chol         fbs  \\\n",
       "count  303.000000  303.000000  303.000000  303.000000  303.000000  303.000000   \n",
       "mean    54.438944    0.679868    3.158416  131.689769  246.693069    0.148515   \n",
       "std      9.038662    0.467299    0.960126   17.599748   51.776918    0.356198   \n",
       "min     29.000000    0.000000    1.000000   94.000000  126.000000    0.000000   \n",
       "25%     48.000000    0.000000    3.000000  120.000000  211.000000    0.000000   \n",
       "50%     56.000000    1.000000    3.000000  130.000000  241.000000    0.000000   \n",
       "75%     61.000000    1.000000    4.000000  140.000000  275.000000    0.000000   \n",
       "max     77.000000    1.000000    4.000000  200.000000  564.000000    1.000000   \n",
       "\n",
       "          restecg     thalach       exang     oldpeak       slope          ca  \\\n",
       "count  303.000000  303.000000  303.000000  303.000000  303.000000  299.000000   \n",
       "mean     0.990099  149.607261    0.326733    1.039604    1.600660    0.672241   \n",
       "std      0.994971   22.875003    0.469794    1.161075    0.616226    0.937438   \n",
       "min      0.000000   71.000000    0.000000    0.000000    1.000000    0.000000   \n",
       "25%      0.000000  133.500000    0.000000    0.000000    1.000000    0.000000   \n",
       "50%      1.000000  153.000000    0.000000    0.800000    2.000000    0.000000   \n",
       "75%      2.000000  166.000000    1.000000    1.600000    2.000000    1.000000   \n",
       "max      2.000000  202.000000    1.000000    6.200000    3.000000    3.000000   \n",
       "\n",
       "             thal         num  \n",
       "count  301.000000  303.000000  \n",
       "mean     4.734219    0.937294  \n",
       "std      1.939706    1.228536  \n",
       "min      3.000000    0.000000  \n",
       "25%      3.000000    0.000000  \n",
       "50%      3.000000    0.000000  \n",
       "75%      7.000000    2.000000  \n",
       "max      7.000000    4.000000  "
      ]
     },
     "execution_count": 77,
     "metadata": {},
     "output_type": "execute_result"
    }
   ],
   "source": [
    "# También podemos incluir variables categóricas\n",
    "df.describe(include='all')\n"
   ]
  },
  {
   "cell_type": "markdown",
   "metadata": {},
   "source": [
    "  ## 2. Seleccionar columnas y filas\n",
    "\n",
    "\n",
    "\n",
    "  Pandas ofrece varias formas de acceder a los datos."
   ]
  },
  {
   "cell_type": "code",
   "execution_count": 78,
   "metadata": {},
   "outputs": [
    {
     "data": {
      "application/vnd.microsoft.datawrangler.viewer.v0+json": {
       "columns": [
        {
         "name": "index",
         "rawType": "int64",
         "type": "integer"
        },
        {
         "name": "age",
         "rawType": "int64",
         "type": "integer"
        }
       ],
       "ref": "dd852242-bbbc-4bdf-9d7a-a6e0e1123091",
       "rows": [
        [
         "0",
         "63"
        ],
        [
         "1",
         "67"
        ],
        [
         "2",
         "67"
        ],
        [
         "3",
         "37"
        ],
        [
         "4",
         "41"
        ],
        [
         "5",
         "56"
        ],
        [
         "6",
         "62"
        ],
        [
         "7",
         "57"
        ],
        [
         "8",
         "63"
        ],
        [
         "9",
         "53"
        ]
       ],
       "shape": {
        "columns": 1,
        "rows": 10
       }
      },
      "text/plain": [
       "0    63\n",
       "1    67\n",
       "2    67\n",
       "3    37\n",
       "4    41\n",
       "5    56\n",
       "6    62\n",
       "7    57\n",
       "8    63\n",
       "9    53\n",
       "Name: age, dtype: int64"
      ]
     },
     "execution_count": 78,
     "metadata": {},
     "output_type": "execute_result"
    }
   ],
   "source": [
    "# Seleccionar una columna (devuelve una Serie)\n",
    "df[\"age\"].head(10)\n"
   ]
  },
  {
   "cell_type": "code",
   "execution_count": 79,
   "metadata": {},
   "outputs": [
    {
     "data": {
      "application/vnd.microsoft.datawrangler.viewer.v0+json": {
       "columns": [
        {
         "name": "index",
         "rawType": "int64",
         "type": "integer"
        },
        {
         "name": "chol",
         "rawType": "int64",
         "type": "integer"
        }
       ],
       "ref": "e808ba56-0c1f-4c1e-b330-da6ab2f82a2b",
       "rows": [
        [
         "0",
         "233"
        ],
        [
         "1",
         "286"
        ],
        [
         "2",
         "229"
        ],
        [
         "3",
         "250"
        ],
        [
         "4",
         "204"
        ]
       ],
       "shape": {
        "columns": 1,
        "rows": 5
       }
      },
      "text/plain": [
       "0    233\n",
       "1    286\n",
       "2    229\n",
       "3    250\n",
       "4    204\n",
       "Name: chol, dtype: int64"
      ]
     },
     "execution_count": 79,
     "metadata": {},
     "output_type": "execute_result"
    }
   ],
   "source": [
    "# Otra forma de seleccionar una columna (notación de punto)\n",
    "df.chol.head()\n"
   ]
  },
  {
   "cell_type": "code",
   "execution_count": 80,
   "metadata": {},
   "outputs": [
    {
     "data": {
      "application/vnd.microsoft.datawrangler.viewer.v0+json": {
       "columns": [
        {
         "name": "index",
         "rawType": "int64",
         "type": "integer"
        },
        {
         "name": "age",
         "rawType": "int64",
         "type": "integer"
        },
        {
         "name": "sex",
         "rawType": "int64",
         "type": "integer"
        },
        {
         "name": "chol",
         "rawType": "int64",
         "type": "integer"
        },
        {
         "name": "num",
         "rawType": "int64",
         "type": "integer"
        }
       ],
       "ref": "c341c43f-8eff-45b8-8b5f-2330b157e127",
       "rows": [
        [
         "0",
         "63",
         "1",
         "233",
         "0"
        ],
        [
         "1",
         "67",
         "1",
         "286",
         "2"
        ],
        [
         "2",
         "67",
         "1",
         "229",
         "1"
        ],
        [
         "3",
         "37",
         "1",
         "250",
         "0"
        ],
        [
         "4",
         "41",
         "0",
         "204",
         "0"
        ]
       ],
       "shape": {
        "columns": 4,
        "rows": 5
       }
      },
      "text/html": [
       "<div>\n",
       "<style scoped>\n",
       "    .dataframe tbody tr th:only-of-type {\n",
       "        vertical-align: middle;\n",
       "    }\n",
       "\n",
       "    .dataframe tbody tr th {\n",
       "        vertical-align: top;\n",
       "    }\n",
       "\n",
       "    .dataframe thead th {\n",
       "        text-align: right;\n",
       "    }\n",
       "</style>\n",
       "<table border=\"1\" class=\"dataframe\">\n",
       "  <thead>\n",
       "    <tr style=\"text-align: right;\">\n",
       "      <th></th>\n",
       "      <th>age</th>\n",
       "      <th>sex</th>\n",
       "      <th>chol</th>\n",
       "      <th>num</th>\n",
       "    </tr>\n",
       "  </thead>\n",
       "  <tbody>\n",
       "    <tr>\n",
       "      <th>0</th>\n",
       "      <td>63</td>\n",
       "      <td>1</td>\n",
       "      <td>233</td>\n",
       "      <td>0</td>\n",
       "    </tr>\n",
       "    <tr>\n",
       "      <th>1</th>\n",
       "      <td>67</td>\n",
       "      <td>1</td>\n",
       "      <td>286</td>\n",
       "      <td>2</td>\n",
       "    </tr>\n",
       "    <tr>\n",
       "      <th>2</th>\n",
       "      <td>67</td>\n",
       "      <td>1</td>\n",
       "      <td>229</td>\n",
       "      <td>1</td>\n",
       "    </tr>\n",
       "    <tr>\n",
       "      <th>3</th>\n",
       "      <td>37</td>\n",
       "      <td>1</td>\n",
       "      <td>250</td>\n",
       "      <td>0</td>\n",
       "    </tr>\n",
       "    <tr>\n",
       "      <th>4</th>\n",
       "      <td>41</td>\n",
       "      <td>0</td>\n",
       "      <td>204</td>\n",
       "      <td>0</td>\n",
       "    </tr>\n",
       "  </tbody>\n",
       "</table>\n",
       "</div>"
      ],
      "text/plain": [
       "   age  sex  chol  num\n",
       "0   63    1   233    0\n",
       "1   67    1   286    2\n",
       "2   67    1   229    1\n",
       "3   37    1   250    0\n",
       "4   41    0   204    0"
      ]
     },
     "execution_count": 80,
     "metadata": {},
     "output_type": "execute_result"
    }
   ],
   "source": [
    "# Seleccionar varias columnas (devuelve un DataFrame)\n",
    "subset = df[[\"age\", \"sex\", \"chol\", \"num\"]]\n",
    "subset.head()\n"
   ]
  },
  {
   "cell_type": "code",
   "execution_count": 81,
   "metadata": {},
   "outputs": [
    {
     "data": {
      "application/vnd.microsoft.datawrangler.viewer.v0+json": {
       "columns": [
        {
         "name": "index",
         "rawType": "object",
         "type": "string"
        },
        {
         "name": "0",
         "rawType": "float64",
         "type": "float"
        }
       ],
       "ref": "781fc872-e90b-4845-adb9-9b2271daf083",
       "rows": [
        [
         "age",
         "63.0"
        ],
        [
         "sex",
         "1.0"
        ],
        [
         "cp",
         "1.0"
        ],
        [
         "trestbps",
         "145.0"
        ],
        [
         "chol",
         "233.0"
        ],
        [
         "fbs",
         "1.0"
        ],
        [
         "restecg",
         "2.0"
        ],
        [
         "thalach",
         "150.0"
        ],
        [
         "exang",
         "0.0"
        ],
        [
         "oldpeak",
         "2.3"
        ],
        [
         "slope",
         "3.0"
        ],
        [
         "ca",
         "0.0"
        ],
        [
         "thal",
         "6.0"
        ],
        [
         "num",
         "0.0"
        ]
       ],
       "shape": {
        "columns": 1,
        "rows": 14
       }
      },
      "text/plain": [
       "age          63.0\n",
       "sex           1.0\n",
       "cp            1.0\n",
       "trestbps    145.0\n",
       "chol        233.0\n",
       "fbs           1.0\n",
       "restecg       2.0\n",
       "thalach     150.0\n",
       "exang         0.0\n",
       "oldpeak       2.3\n",
       "slope         3.0\n",
       "ca            0.0\n",
       "thal          6.0\n",
       "num           0.0\n",
       "Name: 0, dtype: float64"
      ]
     },
     "execution_count": 81,
     "metadata": {},
     "output_type": "execute_result"
    }
   ],
   "source": [
    "# Seleccionar filas por posición con iloc\n",
    "df.iloc[0]\n"
   ]
  },
  {
   "cell_type": "code",
   "execution_count": 82,
   "metadata": {},
   "outputs": [
    {
     "data": {
      "application/vnd.microsoft.datawrangler.viewer.v0+json": {
       "columns": [
        {
         "name": "index",
         "rawType": "int64",
         "type": "integer"
        },
        {
         "name": "age",
         "rawType": "int64",
         "type": "integer"
        },
        {
         "name": "sex",
         "rawType": "int64",
         "type": "integer"
        },
        {
         "name": "cp",
         "rawType": "int64",
         "type": "integer"
        },
        {
         "name": "trestbps",
         "rawType": "int64",
         "type": "integer"
        },
        {
         "name": "chol",
         "rawType": "int64",
         "type": "integer"
        },
        {
         "name": "fbs",
         "rawType": "int64",
         "type": "integer"
        },
        {
         "name": "restecg",
         "rawType": "int64",
         "type": "integer"
        },
        {
         "name": "thalach",
         "rawType": "int64",
         "type": "integer"
        },
        {
         "name": "exang",
         "rawType": "int64",
         "type": "integer"
        },
        {
         "name": "oldpeak",
         "rawType": "float64",
         "type": "float"
        },
        {
         "name": "slope",
         "rawType": "int64",
         "type": "integer"
        },
        {
         "name": "ca",
         "rawType": "float64",
         "type": "float"
        },
        {
         "name": "thal",
         "rawType": "float64",
         "type": "float"
        },
        {
         "name": "num",
         "rawType": "int64",
         "type": "integer"
        }
       ],
       "ref": "d50f4606-025a-4cb4-b7a2-670f4f337105",
       "rows": [
        [
         "5",
         "56",
         "1",
         "2",
         "120",
         "236",
         "0",
         "0",
         "178",
         "0",
         "0.8",
         "1",
         "0.0",
         "3.0",
         "0"
        ],
        [
         "6",
         "62",
         "0",
         "4",
         "140",
         "268",
         "0",
         "2",
         "160",
         "0",
         "3.6",
         "3",
         "2.0",
         "3.0",
         "3"
        ],
        [
         "7",
         "57",
         "0",
         "4",
         "120",
         "354",
         "0",
         "0",
         "163",
         "1",
         "0.6",
         "1",
         "0.0",
         "3.0",
         "0"
        ],
        [
         "8",
         "63",
         "1",
         "4",
         "130",
         "254",
         "0",
         "2",
         "147",
         "0",
         "1.4",
         "2",
         "1.0",
         "7.0",
         "2"
        ],
        [
         "9",
         "53",
         "1",
         "4",
         "140",
         "203",
         "1",
         "2",
         "155",
         "1",
         "3.1",
         "3",
         "0.0",
         "7.0",
         "1"
        ]
       ],
       "shape": {
        "columns": 14,
        "rows": 5
       }
      },
      "text/html": [
       "<div>\n",
       "<style scoped>\n",
       "    .dataframe tbody tr th:only-of-type {\n",
       "        vertical-align: middle;\n",
       "    }\n",
       "\n",
       "    .dataframe tbody tr th {\n",
       "        vertical-align: top;\n",
       "    }\n",
       "\n",
       "    .dataframe thead th {\n",
       "        text-align: right;\n",
       "    }\n",
       "</style>\n",
       "<table border=\"1\" class=\"dataframe\">\n",
       "  <thead>\n",
       "    <tr style=\"text-align: right;\">\n",
       "      <th></th>\n",
       "      <th>age</th>\n",
       "      <th>sex</th>\n",
       "      <th>cp</th>\n",
       "      <th>trestbps</th>\n",
       "      <th>chol</th>\n",
       "      <th>fbs</th>\n",
       "      <th>restecg</th>\n",
       "      <th>thalach</th>\n",
       "      <th>exang</th>\n",
       "      <th>oldpeak</th>\n",
       "      <th>slope</th>\n",
       "      <th>ca</th>\n",
       "      <th>thal</th>\n",
       "      <th>num</th>\n",
       "    </tr>\n",
       "  </thead>\n",
       "  <tbody>\n",
       "    <tr>\n",
       "      <th>5</th>\n",
       "      <td>56</td>\n",
       "      <td>1</td>\n",
       "      <td>2</td>\n",
       "      <td>120</td>\n",
       "      <td>236</td>\n",
       "      <td>0</td>\n",
       "      <td>0</td>\n",
       "      <td>178</td>\n",
       "      <td>0</td>\n",
       "      <td>0.8</td>\n",
       "      <td>1</td>\n",
       "      <td>0.0</td>\n",
       "      <td>3.0</td>\n",
       "      <td>0</td>\n",
       "    </tr>\n",
       "    <tr>\n",
       "      <th>6</th>\n",
       "      <td>62</td>\n",
       "      <td>0</td>\n",
       "      <td>4</td>\n",
       "      <td>140</td>\n",
       "      <td>268</td>\n",
       "      <td>0</td>\n",
       "      <td>2</td>\n",
       "      <td>160</td>\n",
       "      <td>0</td>\n",
       "      <td>3.6</td>\n",
       "      <td>3</td>\n",
       "      <td>2.0</td>\n",
       "      <td>3.0</td>\n",
       "      <td>3</td>\n",
       "    </tr>\n",
       "    <tr>\n",
       "      <th>7</th>\n",
       "      <td>57</td>\n",
       "      <td>0</td>\n",
       "      <td>4</td>\n",
       "      <td>120</td>\n",
       "      <td>354</td>\n",
       "      <td>0</td>\n",
       "      <td>0</td>\n",
       "      <td>163</td>\n",
       "      <td>1</td>\n",
       "      <td>0.6</td>\n",
       "      <td>1</td>\n",
       "      <td>0.0</td>\n",
       "      <td>3.0</td>\n",
       "      <td>0</td>\n",
       "    </tr>\n",
       "    <tr>\n",
       "      <th>8</th>\n",
       "      <td>63</td>\n",
       "      <td>1</td>\n",
       "      <td>4</td>\n",
       "      <td>130</td>\n",
       "      <td>254</td>\n",
       "      <td>0</td>\n",
       "      <td>2</td>\n",
       "      <td>147</td>\n",
       "      <td>0</td>\n",
       "      <td>1.4</td>\n",
       "      <td>2</td>\n",
       "      <td>1.0</td>\n",
       "      <td>7.0</td>\n",
       "      <td>2</td>\n",
       "    </tr>\n",
       "    <tr>\n",
       "      <th>9</th>\n",
       "      <td>53</td>\n",
       "      <td>1</td>\n",
       "      <td>4</td>\n",
       "      <td>140</td>\n",
       "      <td>203</td>\n",
       "      <td>1</td>\n",
       "      <td>2</td>\n",
       "      <td>155</td>\n",
       "      <td>1</td>\n",
       "      <td>3.1</td>\n",
       "      <td>3</td>\n",
       "      <td>0.0</td>\n",
       "      <td>7.0</td>\n",
       "      <td>1</td>\n",
       "    </tr>\n",
       "  </tbody>\n",
       "</table>\n",
       "</div>"
      ],
      "text/plain": [
       "   age  sex  cp  trestbps  chol  fbs  restecg  thalach  exang  oldpeak  slope  \\\n",
       "5   56    1   2       120   236    0        0      178      0      0.8      1   \n",
       "6   62    0   4       140   268    0        2      160      0      3.6      3   \n",
       "7   57    0   4       120   354    0        0      163      1      0.6      1   \n",
       "8   63    1   4       130   254    0        2      147      0      1.4      2   \n",
       "9   53    1   4       140   203    1        2      155      1      3.1      3   \n",
       "\n",
       "    ca  thal  num  \n",
       "5  0.0   3.0    0  \n",
       "6  2.0   3.0    3  \n",
       "7  0.0   3.0    0  \n",
       "8  1.0   7.0    2  \n",
       "9  0.0   7.0    1  "
      ]
     },
     "execution_count": 82,
     "metadata": {},
     "output_type": "execute_result"
    }
   ],
   "source": [
    "# Seleccionar un rango de filas\n",
    "df.iloc[5:10]\n"
   ]
  },
  {
   "cell_type": "code",
   "execution_count": 83,
   "metadata": {},
   "outputs": [
    {
     "data": {
      "application/vnd.microsoft.datawrangler.viewer.v0+json": {
       "columns": [
        {
         "name": "index",
         "rawType": "int64",
         "type": "integer"
        },
        {
         "name": "age",
         "rawType": "int64",
         "type": "integer"
        },
        {
         "name": "sex",
         "rawType": "int64",
         "type": "integer"
        },
        {
         "name": "cp",
         "rawType": "int64",
         "type": "integer"
        },
        {
         "name": "trestbps",
         "rawType": "int64",
         "type": "integer"
        }
       ],
       "ref": "a2ca977c-da3e-4e3a-bfe7-7c33daa86136",
       "rows": [
        [
         "0",
         "63",
         "1",
         "1",
         "145"
        ],
        [
         "1",
         "67",
         "1",
         "4",
         "160"
        ],
        [
         "2",
         "67",
         "1",
         "4",
         "120"
        ]
       ],
       "shape": {
        "columns": 4,
        "rows": 3
       }
      },
      "text/html": [
       "<div>\n",
       "<style scoped>\n",
       "    .dataframe tbody tr th:only-of-type {\n",
       "        vertical-align: middle;\n",
       "    }\n",
       "\n",
       "    .dataframe tbody tr th {\n",
       "        vertical-align: top;\n",
       "    }\n",
       "\n",
       "    .dataframe thead th {\n",
       "        text-align: right;\n",
       "    }\n",
       "</style>\n",
       "<table border=\"1\" class=\"dataframe\">\n",
       "  <thead>\n",
       "    <tr style=\"text-align: right;\">\n",
       "      <th></th>\n",
       "      <th>age</th>\n",
       "      <th>sex</th>\n",
       "      <th>cp</th>\n",
       "      <th>trestbps</th>\n",
       "    </tr>\n",
       "  </thead>\n",
       "  <tbody>\n",
       "    <tr>\n",
       "      <th>0</th>\n",
       "      <td>63</td>\n",
       "      <td>1</td>\n",
       "      <td>1</td>\n",
       "      <td>145</td>\n",
       "    </tr>\n",
       "    <tr>\n",
       "      <th>1</th>\n",
       "      <td>67</td>\n",
       "      <td>1</td>\n",
       "      <td>4</td>\n",
       "      <td>160</td>\n",
       "    </tr>\n",
       "    <tr>\n",
       "      <th>2</th>\n",
       "      <td>67</td>\n",
       "      <td>1</td>\n",
       "      <td>4</td>\n",
       "      <td>120</td>\n",
       "    </tr>\n",
       "  </tbody>\n",
       "</table>\n",
       "</div>"
      ],
      "text/plain": [
       "   age  sex  cp  trestbps\n",
       "0   63    1   1       145\n",
       "1   67    1   4       160\n",
       "2   67    1   4       120"
      ]
     },
     "execution_count": 83,
     "metadata": {},
     "output_type": "execute_result"
    }
   ],
   "source": [
    "# Seleccionar filas y columnas específicas con iloc\n",
    "df.iloc[0:3, 0:4]\n"
   ]
  },
  {
   "cell_type": "code",
   "execution_count": 84,
   "metadata": {},
   "outputs": [
    {
     "data": {
      "application/vnd.microsoft.datawrangler.viewer.v0+json": {
       "columns": [
        {
         "name": "index",
         "rawType": "int64",
         "type": "integer"
        },
        {
         "name": "age",
         "rawType": "int64",
         "type": "integer"
        },
        {
         "name": "sex",
         "rawType": "int64",
         "type": "integer"
        },
        {
         "name": "chol",
         "rawType": "int64",
         "type": "integer"
        }
       ],
       "ref": "03fea5b6-2e5a-441a-a3b5-3cb7929578cd",
       "rows": [
        [
         "0",
         "63",
         "1",
         "233"
        ],
        [
         "1",
         "67",
         "1",
         "286"
        ],
        [
         "2",
         "67",
         "1",
         "229"
        ]
       ],
       "shape": {
        "columns": 3,
        "rows": 3
       }
      },
      "text/html": [
       "<div>\n",
       "<style scoped>\n",
       "    .dataframe tbody tr th:only-of-type {\n",
       "        vertical-align: middle;\n",
       "    }\n",
       "\n",
       "    .dataframe tbody tr th {\n",
       "        vertical-align: top;\n",
       "    }\n",
       "\n",
       "    .dataframe thead th {\n",
       "        text-align: right;\n",
       "    }\n",
       "</style>\n",
       "<table border=\"1\" class=\"dataframe\">\n",
       "  <thead>\n",
       "    <tr style=\"text-align: right;\">\n",
       "      <th></th>\n",
       "      <th>age</th>\n",
       "      <th>sex</th>\n",
       "      <th>chol</th>\n",
       "    </tr>\n",
       "  </thead>\n",
       "  <tbody>\n",
       "    <tr>\n",
       "      <th>0</th>\n",
       "      <td>63</td>\n",
       "      <td>1</td>\n",
       "      <td>233</td>\n",
       "    </tr>\n",
       "    <tr>\n",
       "      <th>1</th>\n",
       "      <td>67</td>\n",
       "      <td>1</td>\n",
       "      <td>286</td>\n",
       "    </tr>\n",
       "    <tr>\n",
       "      <th>2</th>\n",
       "      <td>67</td>\n",
       "      <td>1</td>\n",
       "      <td>229</td>\n",
       "    </tr>\n",
       "  </tbody>\n",
       "</table>\n",
       "</div>"
      ],
      "text/plain": [
       "   age  sex  chol\n",
       "0   63    1   233\n",
       "1   67    1   286\n",
       "2   67    1   229"
      ]
     },
     "execution_count": 84,
     "metadata": {},
     "output_type": "execute_result"
    }
   ],
   "source": [
    "# Seleccionar con loc usando etiquetas\n",
    "df.loc[0:2, [\"age\", \"sex\", \"chol\"]]\n"
   ]
  },
  {
   "cell_type": "markdown",
   "metadata": {},
   "source": [
    "  ## 3. Filtrar datos\n",
    "\n",
    "\n",
    "\n",
    "  Una de las operaciones más comunes es filtrar filas según condiciones."
   ]
  },
  {
   "cell_type": "code",
   "execution_count": 85,
   "metadata": {},
   "outputs": [
    {
     "data": {
      "text/plain": [
       "79"
      ]
     },
     "execution_count": 85,
     "metadata": {},
     "output_type": "execute_result"
    }
   ],
   "source": [
    "# Filtrar pacientes mayores de 60 años\n",
    "mayores_60 = df[df[\"age\"] > 60]\n",
    "len(mayores_60)\n"
   ]
  },
  {
   "cell_type": "code",
   "execution_count": 86,
   "metadata": {},
   "outputs": [
    {
     "data": {
      "application/vnd.microsoft.datawrangler.viewer.v0+json": {
       "columns": [
        {
         "name": "index",
         "rawType": "int64",
         "type": "integer"
        },
        {
         "name": "age",
         "rawType": "int64",
         "type": "integer"
        },
        {
         "name": "sex",
         "rawType": "int64",
         "type": "integer"
        },
        {
         "name": "cp",
         "rawType": "int64",
         "type": "integer"
        },
        {
         "name": "trestbps",
         "rawType": "int64",
         "type": "integer"
        },
        {
         "name": "chol",
         "rawType": "int64",
         "type": "integer"
        },
        {
         "name": "fbs",
         "rawType": "int64",
         "type": "integer"
        },
        {
         "name": "restecg",
         "rawType": "int64",
         "type": "integer"
        },
        {
         "name": "thalach",
         "rawType": "int64",
         "type": "integer"
        },
        {
         "name": "exang",
         "rawType": "int64",
         "type": "integer"
        },
        {
         "name": "oldpeak",
         "rawType": "float64",
         "type": "float"
        },
        {
         "name": "slope",
         "rawType": "int64",
         "type": "integer"
        },
        {
         "name": "ca",
         "rawType": "float64",
         "type": "float"
        },
        {
         "name": "thal",
         "rawType": "float64",
         "type": "float"
        },
        {
         "name": "num",
         "rawType": "int64",
         "type": "integer"
        }
       ],
       "ref": "996a9b9f-dc6b-4993-b0b1-075c9a92f713",
       "rows": [
        [
         "0",
         "63",
         "1",
         "1",
         "145",
         "233",
         "1",
         "2",
         "150",
         "0",
         "2.3",
         "3",
         "0.0",
         "6.0",
         "0"
        ],
        [
         "1",
         "67",
         "1",
         "4",
         "160",
         "286",
         "0",
         "2",
         "108",
         "1",
         "1.5",
         "2",
         "3.0",
         "3.0",
         "2"
        ],
        [
         "2",
         "67",
         "1",
         "4",
         "120",
         "229",
         "0",
         "2",
         "129",
         "1",
         "2.6",
         "2",
         "2.0",
         "7.0",
         "1"
        ],
        [
         "6",
         "62",
         "0",
         "4",
         "140",
         "268",
         "0",
         "2",
         "160",
         "0",
         "3.6",
         "3",
         "2.0",
         "3.0",
         "3"
        ],
        [
         "8",
         "63",
         "1",
         "4",
         "130",
         "254",
         "0",
         "2",
         "147",
         "0",
         "1.4",
         "2",
         "1.0",
         "7.0",
         "2"
        ]
       ],
       "shape": {
        "columns": 14,
        "rows": 5
       }
      },
      "text/html": [
       "<div>\n",
       "<style scoped>\n",
       "    .dataframe tbody tr th:only-of-type {\n",
       "        vertical-align: middle;\n",
       "    }\n",
       "\n",
       "    .dataframe tbody tr th {\n",
       "        vertical-align: top;\n",
       "    }\n",
       "\n",
       "    .dataframe thead th {\n",
       "        text-align: right;\n",
       "    }\n",
       "</style>\n",
       "<table border=\"1\" class=\"dataframe\">\n",
       "  <thead>\n",
       "    <tr style=\"text-align: right;\">\n",
       "      <th></th>\n",
       "      <th>age</th>\n",
       "      <th>sex</th>\n",
       "      <th>cp</th>\n",
       "      <th>trestbps</th>\n",
       "      <th>chol</th>\n",
       "      <th>fbs</th>\n",
       "      <th>restecg</th>\n",
       "      <th>thalach</th>\n",
       "      <th>exang</th>\n",
       "      <th>oldpeak</th>\n",
       "      <th>slope</th>\n",
       "      <th>ca</th>\n",
       "      <th>thal</th>\n",
       "      <th>num</th>\n",
       "    </tr>\n",
       "  </thead>\n",
       "  <tbody>\n",
       "    <tr>\n",
       "      <th>0</th>\n",
       "      <td>63</td>\n",
       "      <td>1</td>\n",
       "      <td>1</td>\n",
       "      <td>145</td>\n",
       "      <td>233</td>\n",
       "      <td>1</td>\n",
       "      <td>2</td>\n",
       "      <td>150</td>\n",
       "      <td>0</td>\n",
       "      <td>2.3</td>\n",
       "      <td>3</td>\n",
       "      <td>0.0</td>\n",
       "      <td>6.0</td>\n",
       "      <td>0</td>\n",
       "    </tr>\n",
       "    <tr>\n",
       "      <th>1</th>\n",
       "      <td>67</td>\n",
       "      <td>1</td>\n",
       "      <td>4</td>\n",
       "      <td>160</td>\n",
       "      <td>286</td>\n",
       "      <td>0</td>\n",
       "      <td>2</td>\n",
       "      <td>108</td>\n",
       "      <td>1</td>\n",
       "      <td>1.5</td>\n",
       "      <td>2</td>\n",
       "      <td>3.0</td>\n",
       "      <td>3.0</td>\n",
       "      <td>2</td>\n",
       "    </tr>\n",
       "    <tr>\n",
       "      <th>2</th>\n",
       "      <td>67</td>\n",
       "      <td>1</td>\n",
       "      <td>4</td>\n",
       "      <td>120</td>\n",
       "      <td>229</td>\n",
       "      <td>0</td>\n",
       "      <td>2</td>\n",
       "      <td>129</td>\n",
       "      <td>1</td>\n",
       "      <td>2.6</td>\n",
       "      <td>2</td>\n",
       "      <td>2.0</td>\n",
       "      <td>7.0</td>\n",
       "      <td>1</td>\n",
       "    </tr>\n",
       "    <tr>\n",
       "      <th>6</th>\n",
       "      <td>62</td>\n",
       "      <td>0</td>\n",
       "      <td>4</td>\n",
       "      <td>140</td>\n",
       "      <td>268</td>\n",
       "      <td>0</td>\n",
       "      <td>2</td>\n",
       "      <td>160</td>\n",
       "      <td>0</td>\n",
       "      <td>3.6</td>\n",
       "      <td>3</td>\n",
       "      <td>2.0</td>\n",
       "      <td>3.0</td>\n",
       "      <td>3</td>\n",
       "    </tr>\n",
       "    <tr>\n",
       "      <th>8</th>\n",
       "      <td>63</td>\n",
       "      <td>1</td>\n",
       "      <td>4</td>\n",
       "      <td>130</td>\n",
       "      <td>254</td>\n",
       "      <td>0</td>\n",
       "      <td>2</td>\n",
       "      <td>147</td>\n",
       "      <td>0</td>\n",
       "      <td>1.4</td>\n",
       "      <td>2</td>\n",
       "      <td>1.0</td>\n",
       "      <td>7.0</td>\n",
       "      <td>2</td>\n",
       "    </tr>\n",
       "  </tbody>\n",
       "</table>\n",
       "</div>"
      ],
      "text/plain": [
       "   age  sex  cp  trestbps  chol  fbs  restecg  thalach  exang  oldpeak  slope  \\\n",
       "0   63    1   1       145   233    1        2      150      0      2.3      3   \n",
       "1   67    1   4       160   286    0        2      108      1      1.5      2   \n",
       "2   67    1   4       120   229    0        2      129      1      2.6      2   \n",
       "6   62    0   4       140   268    0        2      160      0      3.6      3   \n",
       "8   63    1   4       130   254    0        2      147      0      1.4      2   \n",
       "\n",
       "    ca  thal  num  \n",
       "0  0.0   6.0    0  \n",
       "1  3.0   3.0    2  \n",
       "2  2.0   7.0    1  \n",
       "6  2.0   3.0    3  \n",
       "8  1.0   7.0    2  "
      ]
     },
     "execution_count": 86,
     "metadata": {},
     "output_type": "execute_result"
    }
   ],
   "source": [
    "mayores_60.head()\n"
   ]
  },
  {
   "cell_type": "code",
   "execution_count": 87,
   "metadata": {},
   "outputs": [
    {
     "data": {
      "text/plain": [
       "70"
      ]
     },
     "execution_count": 87,
     "metadata": {},
     "output_type": "execute_result"
    }
   ],
   "source": [
    "# Filtrar con múltiples condiciones - Mujeres mayores de 50 años\n",
    "mujeres_mayores = df[(df[\"sex\"] == 0) & (df[\"age\"] > 50)]\n",
    "len(mujeres_mayores)\n"
   ]
  },
  {
   "cell_type": "code",
   "execution_count": 88,
   "metadata": {},
   "outputs": [
    {
     "data": {
      "application/vnd.microsoft.datawrangler.viewer.v0+json": {
       "columns": [
        {
         "name": "index",
         "rawType": "int64",
         "type": "integer"
        },
        {
         "name": "age",
         "rawType": "int64",
         "type": "integer"
        },
        {
         "name": "sex",
         "rawType": "int64",
         "type": "integer"
        },
        {
         "name": "cp",
         "rawType": "int64",
         "type": "integer"
        },
        {
         "name": "trestbps",
         "rawType": "int64",
         "type": "integer"
        },
        {
         "name": "chol",
         "rawType": "int64",
         "type": "integer"
        },
        {
         "name": "fbs",
         "rawType": "int64",
         "type": "integer"
        },
        {
         "name": "restecg",
         "rawType": "int64",
         "type": "integer"
        },
        {
         "name": "thalach",
         "rawType": "int64",
         "type": "integer"
        },
        {
         "name": "exang",
         "rawType": "int64",
         "type": "integer"
        },
        {
         "name": "oldpeak",
         "rawType": "float64",
         "type": "float"
        },
        {
         "name": "slope",
         "rawType": "int64",
         "type": "integer"
        },
        {
         "name": "ca",
         "rawType": "float64",
         "type": "float"
        },
        {
         "name": "thal",
         "rawType": "float64",
         "type": "float"
        },
        {
         "name": "num",
         "rawType": "int64",
         "type": "integer"
        }
       ],
       "ref": "c1aff6d9-74e8-4b96-83b8-4bac4a11b28d",
       "rows": [
        [
         "6",
         "62",
         "0",
         "4",
         "140",
         "268",
         "0",
         "2",
         "160",
         "0",
         "3.6",
         "3",
         "2.0",
         "3.0",
         "3"
        ],
        [
         "7",
         "57",
         "0",
         "4",
         "120",
         "354",
         "0",
         "0",
         "163",
         "1",
         "0.6",
         "1",
         "0.0",
         "3.0",
         "0"
        ],
        [
         "11",
         "56",
         "0",
         "2",
         "140",
         "294",
         "0",
         "2",
         "153",
         "0",
         "1.3",
         "2",
         "0.0",
         "3.0",
         "0"
        ],
        [
         "21",
         "58",
         "0",
         "1",
         "150",
         "283",
         "1",
         "2",
         "162",
         "0",
         "1.0",
         "1",
         "0.0",
         "3.0",
         "0"
        ],
        [
         "26",
         "58",
         "0",
         "3",
         "120",
         "340",
         "0",
         "0",
         "172",
         "0",
         "0.0",
         "1",
         "0.0",
         "3.0",
         "0"
        ]
       ],
       "shape": {
        "columns": 14,
        "rows": 5
       }
      },
      "text/html": [
       "<div>\n",
       "<style scoped>\n",
       "    .dataframe tbody tr th:only-of-type {\n",
       "        vertical-align: middle;\n",
       "    }\n",
       "\n",
       "    .dataframe tbody tr th {\n",
       "        vertical-align: top;\n",
       "    }\n",
       "\n",
       "    .dataframe thead th {\n",
       "        text-align: right;\n",
       "    }\n",
       "</style>\n",
       "<table border=\"1\" class=\"dataframe\">\n",
       "  <thead>\n",
       "    <tr style=\"text-align: right;\">\n",
       "      <th></th>\n",
       "      <th>age</th>\n",
       "      <th>sex</th>\n",
       "      <th>cp</th>\n",
       "      <th>trestbps</th>\n",
       "      <th>chol</th>\n",
       "      <th>fbs</th>\n",
       "      <th>restecg</th>\n",
       "      <th>thalach</th>\n",
       "      <th>exang</th>\n",
       "      <th>oldpeak</th>\n",
       "      <th>slope</th>\n",
       "      <th>ca</th>\n",
       "      <th>thal</th>\n",
       "      <th>num</th>\n",
       "    </tr>\n",
       "  </thead>\n",
       "  <tbody>\n",
       "    <tr>\n",
       "      <th>6</th>\n",
       "      <td>62</td>\n",
       "      <td>0</td>\n",
       "      <td>4</td>\n",
       "      <td>140</td>\n",
       "      <td>268</td>\n",
       "      <td>0</td>\n",
       "      <td>2</td>\n",
       "      <td>160</td>\n",
       "      <td>0</td>\n",
       "      <td>3.6</td>\n",
       "      <td>3</td>\n",
       "      <td>2.0</td>\n",
       "      <td>3.0</td>\n",
       "      <td>3</td>\n",
       "    </tr>\n",
       "    <tr>\n",
       "      <th>7</th>\n",
       "      <td>57</td>\n",
       "      <td>0</td>\n",
       "      <td>4</td>\n",
       "      <td>120</td>\n",
       "      <td>354</td>\n",
       "      <td>0</td>\n",
       "      <td>0</td>\n",
       "      <td>163</td>\n",
       "      <td>1</td>\n",
       "      <td>0.6</td>\n",
       "      <td>1</td>\n",
       "      <td>0.0</td>\n",
       "      <td>3.0</td>\n",
       "      <td>0</td>\n",
       "    </tr>\n",
       "    <tr>\n",
       "      <th>11</th>\n",
       "      <td>56</td>\n",
       "      <td>0</td>\n",
       "      <td>2</td>\n",
       "      <td>140</td>\n",
       "      <td>294</td>\n",
       "      <td>0</td>\n",
       "      <td>2</td>\n",
       "      <td>153</td>\n",
       "      <td>0</td>\n",
       "      <td>1.3</td>\n",
       "      <td>2</td>\n",
       "      <td>0.0</td>\n",
       "      <td>3.0</td>\n",
       "      <td>0</td>\n",
       "    </tr>\n",
       "    <tr>\n",
       "      <th>21</th>\n",
       "      <td>58</td>\n",
       "      <td>0</td>\n",
       "      <td>1</td>\n",
       "      <td>150</td>\n",
       "      <td>283</td>\n",
       "      <td>1</td>\n",
       "      <td>2</td>\n",
       "      <td>162</td>\n",
       "      <td>0</td>\n",
       "      <td>1.0</td>\n",
       "      <td>1</td>\n",
       "      <td>0.0</td>\n",
       "      <td>3.0</td>\n",
       "      <td>0</td>\n",
       "    </tr>\n",
       "    <tr>\n",
       "      <th>26</th>\n",
       "      <td>58</td>\n",
       "      <td>0</td>\n",
       "      <td>3</td>\n",
       "      <td>120</td>\n",
       "      <td>340</td>\n",
       "      <td>0</td>\n",
       "      <td>0</td>\n",
       "      <td>172</td>\n",
       "      <td>0</td>\n",
       "      <td>0.0</td>\n",
       "      <td>1</td>\n",
       "      <td>0.0</td>\n",
       "      <td>3.0</td>\n",
       "      <td>0</td>\n",
       "    </tr>\n",
       "  </tbody>\n",
       "</table>\n",
       "</div>"
      ],
      "text/plain": [
       "    age  sex  cp  trestbps  chol  fbs  restecg  thalach  exang  oldpeak  \\\n",
       "6    62    0   4       140   268    0        2      160      0      3.6   \n",
       "7    57    0   4       120   354    0        0      163      1      0.6   \n",
       "11   56    0   2       140   294    0        2      153      0      1.3   \n",
       "21   58    0   1       150   283    1        2      162      0      1.0   \n",
       "26   58    0   3       120   340    0        0      172      0      0.0   \n",
       "\n",
       "    slope   ca  thal  num  \n",
       "6       3  2.0   3.0    3  \n",
       "7       1  0.0   3.0    0  \n",
       "11      2  0.0   3.0    0  \n",
       "21      1  0.0   3.0    0  \n",
       "26      1  0.0   3.0    0  "
      ]
     },
     "execution_count": 88,
     "metadata": {},
     "output_type": "execute_result"
    }
   ],
   "source": [
    "mujeres_mayores.head()\n"
   ]
  },
  {
   "cell_type": "code",
   "execution_count": 26,
   "metadata": {},
   "outputs": [
    {
     "data": {
      "text/plain": [
       "181"
      ]
     },
     "execution_count": 26,
     "metadata": {},
     "output_type": "execute_result"
    }
   ],
   "source": [
    "# Usar el operador OR (|) - Pacientes con colesterol alto o presión alta\n",
    "alto_riesgo = df[(df[\"chol\"] > 240) | (df[\"trestbps\"] > 140)]\n",
    "len(alto_riesgo)\n"
   ]
  },
  {
   "cell_type": "code",
   "execution_count": 27,
   "metadata": {},
   "outputs": [
    {
     "data": {
      "text/plain": [
       "73"
      ]
     },
     "execution_count": 27,
     "metadata": {},
     "output_type": "execute_result"
    }
   ],
   "source": [
    "# Filtrar usando isin() para múltiples valores\n",
    "dolor_especifico = df[df[\"cp\"].isin([1, 2])]\n",
    "len(dolor_especifico)\n"
   ]
  },
  {
   "cell_type": "code",
   "execution_count": 28,
   "metadata": {},
   "outputs": [
    {
     "data": {
      "text/plain": [
       "120"
      ]
     },
     "execution_count": 28,
     "metadata": {},
     "output_type": "execute_result"
    }
   ],
   "source": [
    "# Filtrar usando query() - más legible para condiciones complejas\n",
    "resultado = df.query(\"age > 50 and chol > 200 and sex == 1\")\n",
    "len(resultado)\n"
   ]
  },
  {
   "cell_type": "code",
   "execution_count": 29,
   "metadata": {},
   "outputs": [
    {
     "data": {
      "application/vnd.microsoft.datawrangler.viewer.v0+json": {
       "columns": [
        {
         "name": "index",
         "rawType": "int64",
         "type": "integer"
        },
        {
         "name": "age",
         "rawType": "int64",
         "type": "integer"
        },
        {
         "name": "sex",
         "rawType": "int64",
         "type": "integer"
        },
        {
         "name": "cp",
         "rawType": "int64",
         "type": "integer"
        },
        {
         "name": "trestbps",
         "rawType": "int64",
         "type": "integer"
        },
        {
         "name": "chol",
         "rawType": "int64",
         "type": "integer"
        },
        {
         "name": "fbs",
         "rawType": "int64",
         "type": "integer"
        },
        {
         "name": "restecg",
         "rawType": "int64",
         "type": "integer"
        },
        {
         "name": "thalach",
         "rawType": "int64",
         "type": "integer"
        },
        {
         "name": "exang",
         "rawType": "int64",
         "type": "integer"
        },
        {
         "name": "oldpeak",
         "rawType": "float64",
         "type": "float"
        },
        {
         "name": "slope",
         "rawType": "int64",
         "type": "integer"
        },
        {
         "name": "ca",
         "rawType": "float64",
         "type": "float"
        },
        {
         "name": "thal",
         "rawType": "float64",
         "type": "float"
        },
        {
         "name": "num",
         "rawType": "int64",
         "type": "integer"
        }
       ],
       "ref": "1bb6c628-bdba-43ac-a60e-1796b16fe0c8",
       "rows": [
        [
         "0",
         "63",
         "1",
         "1",
         "145",
         "233",
         "1",
         "2",
         "150",
         "0",
         "2.3",
         "3",
         "0.0",
         "6.0",
         "0"
        ],
        [
         "1",
         "67",
         "1",
         "4",
         "160",
         "286",
         "0",
         "2",
         "108",
         "1",
         "1.5",
         "2",
         "3.0",
         "3.0",
         "2"
        ],
        [
         "2",
         "67",
         "1",
         "4",
         "120",
         "229",
         "0",
         "2",
         "129",
         "1",
         "2.6",
         "2",
         "2.0",
         "7.0",
         "1"
        ],
        [
         "5",
         "56",
         "1",
         "2",
         "120",
         "236",
         "0",
         "0",
         "178",
         "0",
         "0.8",
         "1",
         "0.0",
         "3.0",
         "0"
        ],
        [
         "8",
         "63",
         "1",
         "4",
         "130",
         "254",
         "0",
         "2",
         "147",
         "0",
         "1.4",
         "2",
         "1.0",
         "7.0",
         "2"
        ]
       ],
       "shape": {
        "columns": 14,
        "rows": 5
       }
      },
      "text/html": [
       "<div>\n",
       "<style scoped>\n",
       "    .dataframe tbody tr th:only-of-type {\n",
       "        vertical-align: middle;\n",
       "    }\n",
       "\n",
       "    .dataframe tbody tr th {\n",
       "        vertical-align: top;\n",
       "    }\n",
       "\n",
       "    .dataframe thead th {\n",
       "        text-align: right;\n",
       "    }\n",
       "</style>\n",
       "<table border=\"1\" class=\"dataframe\">\n",
       "  <thead>\n",
       "    <tr style=\"text-align: right;\">\n",
       "      <th></th>\n",
       "      <th>age</th>\n",
       "      <th>sex</th>\n",
       "      <th>cp</th>\n",
       "      <th>trestbps</th>\n",
       "      <th>chol</th>\n",
       "      <th>fbs</th>\n",
       "      <th>restecg</th>\n",
       "      <th>thalach</th>\n",
       "      <th>exang</th>\n",
       "      <th>oldpeak</th>\n",
       "      <th>slope</th>\n",
       "      <th>ca</th>\n",
       "      <th>thal</th>\n",
       "      <th>num</th>\n",
       "    </tr>\n",
       "  </thead>\n",
       "  <tbody>\n",
       "    <tr>\n",
       "      <th>0</th>\n",
       "      <td>63</td>\n",
       "      <td>1</td>\n",
       "      <td>1</td>\n",
       "      <td>145</td>\n",
       "      <td>233</td>\n",
       "      <td>1</td>\n",
       "      <td>2</td>\n",
       "      <td>150</td>\n",
       "      <td>0</td>\n",
       "      <td>2.3</td>\n",
       "      <td>3</td>\n",
       "      <td>0.0</td>\n",
       "      <td>6.0</td>\n",
       "      <td>0</td>\n",
       "    </tr>\n",
       "    <tr>\n",
       "      <th>1</th>\n",
       "      <td>67</td>\n",
       "      <td>1</td>\n",
       "      <td>4</td>\n",
       "      <td>160</td>\n",
       "      <td>286</td>\n",
       "      <td>0</td>\n",
       "      <td>2</td>\n",
       "      <td>108</td>\n",
       "      <td>1</td>\n",
       "      <td>1.5</td>\n",
       "      <td>2</td>\n",
       "      <td>3.0</td>\n",
       "      <td>3.0</td>\n",
       "      <td>2</td>\n",
       "    </tr>\n",
       "    <tr>\n",
       "      <th>2</th>\n",
       "      <td>67</td>\n",
       "      <td>1</td>\n",
       "      <td>4</td>\n",
       "      <td>120</td>\n",
       "      <td>229</td>\n",
       "      <td>0</td>\n",
       "      <td>2</td>\n",
       "      <td>129</td>\n",
       "      <td>1</td>\n",
       "      <td>2.6</td>\n",
       "      <td>2</td>\n",
       "      <td>2.0</td>\n",
       "      <td>7.0</td>\n",
       "      <td>1</td>\n",
       "    </tr>\n",
       "    <tr>\n",
       "      <th>5</th>\n",
       "      <td>56</td>\n",
       "      <td>1</td>\n",
       "      <td>2</td>\n",
       "      <td>120</td>\n",
       "      <td>236</td>\n",
       "      <td>0</td>\n",
       "      <td>0</td>\n",
       "      <td>178</td>\n",
       "      <td>0</td>\n",
       "      <td>0.8</td>\n",
       "      <td>1</td>\n",
       "      <td>0.0</td>\n",
       "      <td>3.0</td>\n",
       "      <td>0</td>\n",
       "    </tr>\n",
       "    <tr>\n",
       "      <th>8</th>\n",
       "      <td>63</td>\n",
       "      <td>1</td>\n",
       "      <td>4</td>\n",
       "      <td>130</td>\n",
       "      <td>254</td>\n",
       "      <td>0</td>\n",
       "      <td>2</td>\n",
       "      <td>147</td>\n",
       "      <td>0</td>\n",
       "      <td>1.4</td>\n",
       "      <td>2</td>\n",
       "      <td>1.0</td>\n",
       "      <td>7.0</td>\n",
       "      <td>2</td>\n",
       "    </tr>\n",
       "  </tbody>\n",
       "</table>\n",
       "</div>"
      ],
      "text/plain": [
       "   age  sex  cp  trestbps  chol  fbs  restecg  thalach  exang  oldpeak  slope  \\\n",
       "0   63    1   1       145   233    1        2      150      0      2.3      3   \n",
       "1   67    1   4       160   286    0        2      108      1      1.5      2   \n",
       "2   67    1   4       120   229    0        2      129      1      2.6      2   \n",
       "5   56    1   2       120   236    0        0      178      0      0.8      1   \n",
       "8   63    1   4       130   254    0        2      147      0      1.4      2   \n",
       "\n",
       "    ca  thal  num  \n",
       "0  0.0   6.0    0  \n",
       "1  3.0   3.0    2  \n",
       "2  2.0   7.0    1  \n",
       "5  0.0   3.0    0  \n",
       "8  1.0   7.0    2  "
      ]
     },
     "execution_count": 29,
     "metadata": {},
     "output_type": "execute_result"
    }
   ],
   "source": [
    "resultado.head()\n"
   ]
  },
  {
   "cell_type": "markdown",
   "metadata": {},
   "source": [
    "  ## 4. Crear y modificar columnas\n",
    "\n",
    "\n",
    "\n",
    "  Es común necesitar crear nuevas variables o transformar las existentes."
   ]
  },
  {
   "cell_type": "code",
   "execution_count": 30,
   "metadata": {},
   "outputs": [
    {
     "data": {
      "application/vnd.microsoft.datawrangler.viewer.v0+json": {
       "columns": [
        {
         "name": "index",
         "rawType": "int64",
         "type": "integer"
        },
        {
         "name": "age",
         "rawType": "int64",
         "type": "integer"
        },
        {
         "name": "edad_en_meses",
         "rawType": "int64",
         "type": "integer"
        }
       ],
       "ref": "24dd0f96-4e03-408d-81ef-def5633b2581",
       "rows": [
        [
         "0",
         "63",
         "756"
        ],
        [
         "1",
         "67",
         "804"
        ],
        [
         "2",
         "67",
         "804"
        ],
        [
         "3",
         "37",
         "444"
        ],
        [
         "4",
         "41",
         "492"
        ]
       ],
       "shape": {
        "columns": 2,
        "rows": 5
       }
      },
      "text/html": [
       "<div>\n",
       "<style scoped>\n",
       "    .dataframe tbody tr th:only-of-type {\n",
       "        vertical-align: middle;\n",
       "    }\n",
       "\n",
       "    .dataframe tbody tr th {\n",
       "        vertical-align: top;\n",
       "    }\n",
       "\n",
       "    .dataframe thead th {\n",
       "        text-align: right;\n",
       "    }\n",
       "</style>\n",
       "<table border=\"1\" class=\"dataframe\">\n",
       "  <thead>\n",
       "    <tr style=\"text-align: right;\">\n",
       "      <th></th>\n",
       "      <th>age</th>\n",
       "      <th>edad_en_meses</th>\n",
       "    </tr>\n",
       "  </thead>\n",
       "  <tbody>\n",
       "    <tr>\n",
       "      <th>0</th>\n",
       "      <td>63</td>\n",
       "      <td>756</td>\n",
       "    </tr>\n",
       "    <tr>\n",
       "      <th>1</th>\n",
       "      <td>67</td>\n",
       "      <td>804</td>\n",
       "    </tr>\n",
       "    <tr>\n",
       "      <th>2</th>\n",
       "      <td>67</td>\n",
       "      <td>804</td>\n",
       "    </tr>\n",
       "    <tr>\n",
       "      <th>3</th>\n",
       "      <td>37</td>\n",
       "      <td>444</td>\n",
       "    </tr>\n",
       "    <tr>\n",
       "      <th>4</th>\n",
       "      <td>41</td>\n",
       "      <td>492</td>\n",
       "    </tr>\n",
       "  </tbody>\n",
       "</table>\n",
       "</div>"
      ],
      "text/plain": [
       "   age  edad_en_meses\n",
       "0   63            756\n",
       "1   67            804\n",
       "2   67            804\n",
       "3   37            444\n",
       "4   41            492"
      ]
     },
     "execution_count": 30,
     "metadata": {},
     "output_type": "execute_result"
    }
   ],
   "source": [
    "# Crear una columna simple\n",
    "df[\"edad_en_meses\"] = df[\"age\"] * 12\n",
    "df[[\"age\", \"edad_en_meses\"]].head()\n"
   ]
  },
  {
   "cell_type": "code",
   "execution_count": 31,
   "metadata": {},
   "outputs": [
    {
     "data": {
      "application/vnd.microsoft.datawrangler.viewer.v0+json": {
       "columns": [
        {
         "name": "index",
         "rawType": "int64",
         "type": "integer"
        },
        {
         "name": "age",
         "rawType": "int64",
         "type": "integer"
        },
        {
         "name": "chol",
         "rawType": "int64",
         "type": "integer"
        },
        {
         "name": "indice_riesgo",
         "rawType": "float64",
         "type": "float"
        }
       ],
       "ref": "a8ba8ead-6cfd-4f57-9d4c-1a28524895dc",
       "rows": [
        [
         "0",
         "63",
         "233",
         "3.6984126984126986"
        ],
        [
         "1",
         "67",
         "286",
         "4.268656716417911"
        ],
        [
         "2",
         "67",
         "229",
         "3.417910447761194"
        ],
        [
         "3",
         "37",
         "250",
         "6.756756756756757"
        ],
        [
         "4",
         "41",
         "204",
         "4.975609756097561"
        ]
       ],
       "shape": {
        "columns": 3,
        "rows": 5
       }
      },
      "text/html": [
       "<div>\n",
       "<style scoped>\n",
       "    .dataframe tbody tr th:only-of-type {\n",
       "        vertical-align: middle;\n",
       "    }\n",
       "\n",
       "    .dataframe tbody tr th {\n",
       "        vertical-align: top;\n",
       "    }\n",
       "\n",
       "    .dataframe thead th {\n",
       "        text-align: right;\n",
       "    }\n",
       "</style>\n",
       "<table border=\"1\" class=\"dataframe\">\n",
       "  <thead>\n",
       "    <tr style=\"text-align: right;\">\n",
       "      <th></th>\n",
       "      <th>age</th>\n",
       "      <th>chol</th>\n",
       "      <th>indice_riesgo</th>\n",
       "    </tr>\n",
       "  </thead>\n",
       "  <tbody>\n",
       "    <tr>\n",
       "      <th>0</th>\n",
       "      <td>63</td>\n",
       "      <td>233</td>\n",
       "      <td>3.698413</td>\n",
       "    </tr>\n",
       "    <tr>\n",
       "      <th>1</th>\n",
       "      <td>67</td>\n",
       "      <td>286</td>\n",
       "      <td>4.268657</td>\n",
       "    </tr>\n",
       "    <tr>\n",
       "      <th>2</th>\n",
       "      <td>67</td>\n",
       "      <td>229</td>\n",
       "      <td>3.417910</td>\n",
       "    </tr>\n",
       "    <tr>\n",
       "      <th>3</th>\n",
       "      <td>37</td>\n",
       "      <td>250</td>\n",
       "      <td>6.756757</td>\n",
       "    </tr>\n",
       "    <tr>\n",
       "      <th>4</th>\n",
       "      <td>41</td>\n",
       "      <td>204</td>\n",
       "      <td>4.975610</td>\n",
       "    </tr>\n",
       "  </tbody>\n",
       "</table>\n",
       "</div>"
      ],
      "text/plain": [
       "   age  chol  indice_riesgo\n",
       "0   63   233       3.698413\n",
       "1   67   286       4.268657\n",
       "2   67   229       3.417910\n",
       "3   37   250       6.756757\n",
       "4   41   204       4.975610"
      ]
     },
     "execution_count": 31,
     "metadata": {},
     "output_type": "execute_result"
    }
   ],
   "source": [
    "# Crear columna con operaciones entre columnas\n",
    "df[\"indice_riesgo\"] = df[\"chol\"] / df[\"age\"]\n",
    "df[[\"age\", \"chol\", \"indice_riesgo\"]].head()\n"
   ]
  },
  {
   "cell_type": "code",
   "execution_count": 32,
   "metadata": {},
   "outputs": [
    {
     "data": {
      "application/vnd.microsoft.datawrangler.viewer.v0+json": {
       "columns": [
        {
         "name": "grupo_edad",
         "rawType": "category",
         "type": "unknown"
        },
        {
         "name": "count",
         "rawType": "int64",
         "type": "integer"
        }
       ],
       "ref": "3fb7bc61-ebc2-4c00-babd-ee24c410bfa2",
       "rows": [
        [
         "50-59",
         "130"
        ],
        [
         "40-49",
         "76"
        ],
        [
         "60-69",
         "73"
        ],
        [
         "<40",
         "18"
        ],
        [
         "70+",
         "6"
        ]
       ],
       "shape": {
        "columns": 1,
        "rows": 5
       }
      },
      "text/plain": [
       "grupo_edad\n",
       "50-59    130\n",
       "40-49     76\n",
       "60-69     73\n",
       "<40       18\n",
       "70+        6\n",
       "Name: count, dtype: int64"
      ]
     },
     "execution_count": 32,
     "metadata": {},
     "output_type": "execute_result"
    }
   ],
   "source": [
    "# Crear columna categórica basada en valores continuos\n",
    "df[\"grupo_edad\"] = pd.cut(df[\"age\"], \n",
    "                          bins=[0, 40, 50, 60, 70, 100],\n",
    "                          labels=[\"<40\", \"40-49\", \"50-59\", \"60-69\", \"70+\"])\n",
    "df[\"grupo_edad\"].value_counts()\n"
   ]
  },
  {
   "cell_type": "code",
   "execution_count": 33,
   "metadata": {},
   "outputs": [
    {
     "data": {
      "application/vnd.microsoft.datawrangler.viewer.v0+json": {
       "columns": [
        {
         "name": "categoria_colesterol",
         "rawType": "object",
         "type": "string"
        },
        {
         "name": "count",
         "rawType": "int64",
         "type": "integer"
        }
       ],
       "ref": "dde5a51c-e14b-46f9-91ac-04416551d808",
       "rows": [
        [
         "Alto",
         "156"
        ],
        [
         "Límite alto",
         "98"
        ],
        [
         "Normal",
         "49"
        ]
       ],
       "shape": {
        "columns": 1,
        "rows": 3
       }
      },
      "text/plain": [
       "categoria_colesterol\n",
       "Alto           156\n",
       "Límite alto     98\n",
       "Normal          49\n",
       "Name: count, dtype: int64"
      ]
     },
     "execution_count": 33,
     "metadata": {},
     "output_type": "execute_result"
    }
   ],
   "source": [
    "# Usar apply() para transformaciones más complejas\n",
    "def clasificar_colesterol(valor):\n",
    "    if pd.isna(valor):\n",
    "        return \"Desconocido\"\n",
    "    elif valor < 200:\n",
    "        return \"Normal\"\n",
    "    elif valor < 240:\n",
    "        return \"Límite alto\"\n",
    "    else:\n",
    "        return \"Alto\"\n",
    "\n",
    "df[\"categoria_colesterol\"] = df[\"chol\"].apply(clasificar_colesterol)\n",
    "df[\"categoria_colesterol\"].value_counts()\n"
   ]
  },
  {
   "cell_type": "code",
   "execution_count": 34,
   "metadata": {},
   "outputs": [
    {
     "data": {
      "application/vnd.microsoft.datawrangler.viewer.v0+json": {
       "columns": [
        {
         "name": "index",
         "rawType": "int64",
         "type": "integer"
        },
        {
         "name": "sex",
         "rawType": "int64",
         "type": "integer"
        },
        {
         "name": "sexo_texto",
         "rawType": "object",
         "type": "string"
        }
       ],
       "ref": "4762e829-8417-48e4-8d67-ac03cd76b575",
       "rows": [
        [
         "0",
         "1",
         "Hombre"
        ],
        [
         "1",
         "1",
         "Hombre"
        ],
        [
         "2",
         "1",
         "Hombre"
        ],
        [
         "3",
         "1",
         "Hombre"
        ],
        [
         "4",
         "0",
         "Mujer"
        ]
       ],
       "shape": {
        "columns": 2,
        "rows": 5
       }
      },
      "text/html": [
       "<div>\n",
       "<style scoped>\n",
       "    .dataframe tbody tr th:only-of-type {\n",
       "        vertical-align: middle;\n",
       "    }\n",
       "\n",
       "    .dataframe tbody tr th {\n",
       "        vertical-align: top;\n",
       "    }\n",
       "\n",
       "    .dataframe thead th {\n",
       "        text-align: right;\n",
       "    }\n",
       "</style>\n",
       "<table border=\"1\" class=\"dataframe\">\n",
       "  <thead>\n",
       "    <tr style=\"text-align: right;\">\n",
       "      <th></th>\n",
       "      <th>sex</th>\n",
       "      <th>sexo_texto</th>\n",
       "    </tr>\n",
       "  </thead>\n",
       "  <tbody>\n",
       "    <tr>\n",
       "      <th>0</th>\n",
       "      <td>1</td>\n",
       "      <td>Hombre</td>\n",
       "    </tr>\n",
       "    <tr>\n",
       "      <th>1</th>\n",
       "      <td>1</td>\n",
       "      <td>Hombre</td>\n",
       "    </tr>\n",
       "    <tr>\n",
       "      <th>2</th>\n",
       "      <td>1</td>\n",
       "      <td>Hombre</td>\n",
       "    </tr>\n",
       "    <tr>\n",
       "      <th>3</th>\n",
       "      <td>1</td>\n",
       "      <td>Hombre</td>\n",
       "    </tr>\n",
       "    <tr>\n",
       "      <th>4</th>\n",
       "      <td>0</td>\n",
       "      <td>Mujer</td>\n",
       "    </tr>\n",
       "  </tbody>\n",
       "</table>\n",
       "</div>"
      ],
      "text/plain": [
       "   sex sexo_texto\n",
       "0    1     Hombre\n",
       "1    1     Hombre\n",
       "2    1     Hombre\n",
       "3    1     Hombre\n",
       "4    0      Mujer"
      ]
     },
     "execution_count": 34,
     "metadata": {},
     "output_type": "execute_result"
    }
   ],
   "source": [
    "# Crear columna usando numpy.where\n",
    "df[\"sexo_texto\"] = np.where(df[\"sex\"] == 0, \"Mujer\", \"Hombre\")\n",
    "df[[\"sex\", \"sexo_texto\"]].head()\n"
   ]
  },
  {
   "cell_type": "code",
   "execution_count": 35,
   "metadata": {},
   "outputs": [
    {
     "data": {
      "application/vnd.microsoft.datawrangler.viewer.v0+json": {
       "columns": [
        {
         "name": "index",
         "rawType": "int64",
         "type": "integer"
        },
        {
         "name": "num",
         "rawType": "int64",
         "type": "integer"
        },
        {
         "name": "nivel_enfermedad",
         "rawType": "object",
         "type": "string"
        }
       ],
       "ref": "a60f5679-4410-4a6b-b6a3-ba25f8fdf737",
       "rows": [
        [
         "0",
         "0",
         "Sin enfermedad"
        ],
        [
         "1",
         "2",
         "Moderada"
        ],
        [
         "2",
         "1",
         "Leve"
        ],
        [
         "3",
         "0",
         "Sin enfermedad"
        ],
        [
         "4",
         "0",
         "Sin enfermedad"
        ],
        [
         "5",
         "0",
         "Sin enfermedad"
        ],
        [
         "6",
         "3",
         "Severa"
        ],
        [
         "7",
         "0",
         "Sin enfermedad"
        ],
        [
         "8",
         "2",
         "Moderada"
        ],
        [
         "9",
         "1",
         "Leve"
        ]
       ],
       "shape": {
        "columns": 2,
        "rows": 10
       }
      },
      "text/html": [
       "<div>\n",
       "<style scoped>\n",
       "    .dataframe tbody tr th:only-of-type {\n",
       "        vertical-align: middle;\n",
       "    }\n",
       "\n",
       "    .dataframe tbody tr th {\n",
       "        vertical-align: top;\n",
       "    }\n",
       "\n",
       "    .dataframe thead th {\n",
       "        text-align: right;\n",
       "    }\n",
       "</style>\n",
       "<table border=\"1\" class=\"dataframe\">\n",
       "  <thead>\n",
       "    <tr style=\"text-align: right;\">\n",
       "      <th></th>\n",
       "      <th>num</th>\n",
       "      <th>nivel_enfermedad</th>\n",
       "    </tr>\n",
       "  </thead>\n",
       "  <tbody>\n",
       "    <tr>\n",
       "      <th>0</th>\n",
       "      <td>0</td>\n",
       "      <td>Sin enfermedad</td>\n",
       "    </tr>\n",
       "    <tr>\n",
       "      <th>1</th>\n",
       "      <td>2</td>\n",
       "      <td>Moderada</td>\n",
       "    </tr>\n",
       "    <tr>\n",
       "      <th>2</th>\n",
       "      <td>1</td>\n",
       "      <td>Leve</td>\n",
       "    </tr>\n",
       "    <tr>\n",
       "      <th>3</th>\n",
       "      <td>0</td>\n",
       "      <td>Sin enfermedad</td>\n",
       "    </tr>\n",
       "    <tr>\n",
       "      <th>4</th>\n",
       "      <td>0</td>\n",
       "      <td>Sin enfermedad</td>\n",
       "    </tr>\n",
       "    <tr>\n",
       "      <th>5</th>\n",
       "      <td>0</td>\n",
       "      <td>Sin enfermedad</td>\n",
       "    </tr>\n",
       "    <tr>\n",
       "      <th>6</th>\n",
       "      <td>3</td>\n",
       "      <td>Severa</td>\n",
       "    </tr>\n",
       "    <tr>\n",
       "      <th>7</th>\n",
       "      <td>0</td>\n",
       "      <td>Sin enfermedad</td>\n",
       "    </tr>\n",
       "    <tr>\n",
       "      <th>8</th>\n",
       "      <td>2</td>\n",
       "      <td>Moderada</td>\n",
       "    </tr>\n",
       "    <tr>\n",
       "      <th>9</th>\n",
       "      <td>1</td>\n",
       "      <td>Leve</td>\n",
       "    </tr>\n",
       "  </tbody>\n",
       "</table>\n",
       "</div>"
      ],
      "text/plain": [
       "   num nivel_enfermedad\n",
       "0    0   Sin enfermedad\n",
       "1    2         Moderada\n",
       "2    1             Leve\n",
       "3    0   Sin enfermedad\n",
       "4    0   Sin enfermedad\n",
       "5    0   Sin enfermedad\n",
       "6    3           Severa\n",
       "7    0   Sin enfermedad\n",
       "8    2         Moderada\n",
       "9    1             Leve"
      ]
     },
     "execution_count": 35,
     "metadata": {},
     "output_type": "execute_result"
    }
   ],
   "source": [
    "# Mapear valores usando un diccionario\n",
    "mapeo_enfermedad = {0: \"Sin enfermedad\", 1: \"Leve\", 2: \"Moderada\", 3: \"Severa\", 4: \"Muy severa\"}\n",
    "df[\"nivel_enfermedad\"] = df[\"num\"].map(mapeo_enfermedad)\n",
    "df[[\"num\", \"nivel_enfermedad\"]].head(10)\n"
   ]
  },
  {
   "cell_type": "code",
   "execution_count": 36,
   "metadata": {},
   "outputs": [
    {
     "data": {
      "application/vnd.microsoft.datawrangler.viewer.v0+json": {
       "columns": [
        {
         "name": "index",
         "rawType": "object",
         "type": "string"
        },
        {
         "name": "chol",
         "rawType": "float64",
         "type": "float"
        },
        {
         "name": "chol_normalizado",
         "rawType": "float64",
         "type": "float"
        }
       ],
       "ref": "89019982-c5ac-4c66-9f84-0aaca430e6f7",
       "rows": [
        [
         "count",
         "303.0",
         "303.0"
        ],
        [
         "mean",
         "246.69306930693068",
         "0.2755549527555496"
        ],
        [
         "std",
         "51.776917542637015",
         "0.11821214050830377"
        ],
        [
         "min",
         "126.0",
         "0.0"
        ],
        [
         "25%",
         "211.0",
         "0.19406392694063926"
        ],
        [
         "50%",
         "241.0",
         "0.2625570776255708"
        ],
        [
         "75%",
         "275.0",
         "0.3401826484018265"
        ],
        [
         "max",
         "564.0",
         "1.0"
        ]
       ],
       "shape": {
        "columns": 2,
        "rows": 8
       }
      },
      "text/html": [
       "<div>\n",
       "<style scoped>\n",
       "    .dataframe tbody tr th:only-of-type {\n",
       "        vertical-align: middle;\n",
       "    }\n",
       "\n",
       "    .dataframe tbody tr th {\n",
       "        vertical-align: top;\n",
       "    }\n",
       "\n",
       "    .dataframe thead th {\n",
       "        text-align: right;\n",
       "    }\n",
       "</style>\n",
       "<table border=\"1\" class=\"dataframe\">\n",
       "  <thead>\n",
       "    <tr style=\"text-align: right;\">\n",
       "      <th></th>\n",
       "      <th>chol</th>\n",
       "      <th>chol_normalizado</th>\n",
       "    </tr>\n",
       "  </thead>\n",
       "  <tbody>\n",
       "    <tr>\n",
       "      <th>count</th>\n",
       "      <td>303.000000</td>\n",
       "      <td>303.000000</td>\n",
       "    </tr>\n",
       "    <tr>\n",
       "      <th>mean</th>\n",
       "      <td>246.693069</td>\n",
       "      <td>0.275555</td>\n",
       "    </tr>\n",
       "    <tr>\n",
       "      <th>std</th>\n",
       "      <td>51.776918</td>\n",
       "      <td>0.118212</td>\n",
       "    </tr>\n",
       "    <tr>\n",
       "      <th>min</th>\n",
       "      <td>126.000000</td>\n",
       "      <td>0.000000</td>\n",
       "    </tr>\n",
       "    <tr>\n",
       "      <th>25%</th>\n",
       "      <td>211.000000</td>\n",
       "      <td>0.194064</td>\n",
       "    </tr>\n",
       "    <tr>\n",
       "      <th>50%</th>\n",
       "      <td>241.000000</td>\n",
       "      <td>0.262557</td>\n",
       "    </tr>\n",
       "    <tr>\n",
       "      <th>75%</th>\n",
       "      <td>275.000000</td>\n",
       "      <td>0.340183</td>\n",
       "    </tr>\n",
       "    <tr>\n",
       "      <th>max</th>\n",
       "      <td>564.000000</td>\n",
       "      <td>1.000000</td>\n",
       "    </tr>\n",
       "  </tbody>\n",
       "</table>\n",
       "</div>"
      ],
      "text/plain": [
       "             chol  chol_normalizado\n",
       "count  303.000000        303.000000\n",
       "mean   246.693069          0.275555\n",
       "std     51.776918          0.118212\n",
       "min    126.000000          0.000000\n",
       "25%    211.000000          0.194064\n",
       "50%    241.000000          0.262557\n",
       "75%    275.000000          0.340183\n",
       "max    564.000000          1.000000"
      ]
     },
     "execution_count": 36,
     "metadata": {},
     "output_type": "execute_result"
    }
   ],
   "source": [
    "# Modificar columna existente - Normalizar el colesterol\n",
    "df[\"chol_normalizado\"] = (df[\"chol\"] - df[\"chol\"].min()) / (df[\"chol\"].max() - df[\"chol\"].min())\n",
    "df[[\"chol\", \"chol_normalizado\"]].describe()\n"
   ]
  },
  {
   "cell_type": "markdown",
   "metadata": {},
   "source": [
    "  ## 5. Exploración y análisis básico\n",
    "\n",
    "\n",
    "\n",
    "  Vamos a explorar los datos para entender mejor el dataset."
   ]
  },
  {
   "cell_type": "code",
   "execution_count": 37,
   "metadata": {},
   "outputs": [
    {
     "data": {
      "application/vnd.microsoft.datawrangler.viewer.v0+json": {
       "columns": [
        {
         "name": "num",
         "rawType": "int64",
         "type": "integer"
        },
        {
         "name": "count",
         "rawType": "int64",
         "type": "integer"
        }
       ],
       "ref": "7ca748ea-b48e-49d6-97f2-60c83816808d",
       "rows": [
        [
         "0",
         "164"
        ],
        [
         "1",
         "55"
        ],
        [
         "2",
         "36"
        ],
        [
         "3",
         "35"
        ],
        [
         "4",
         "13"
        ]
       ],
       "shape": {
        "columns": 1,
        "rows": 5
       }
      },
      "text/plain": [
       "num\n",
       "0    164\n",
       "1     55\n",
       "2     36\n",
       "3     35\n",
       "4     13\n",
       "Name: count, dtype: int64"
      ]
     },
     "execution_count": 37,
     "metadata": {},
     "output_type": "execute_result"
    }
   ],
   "source": [
    "# Contar valores únicos en una columna\n",
    "df[\"num\"].value_counts()\n"
   ]
  },
  {
   "cell_type": "code",
   "execution_count": 38,
   "metadata": {},
   "outputs": [
    {
     "data": {
      "application/vnd.microsoft.datawrangler.viewer.v0+json": {
       "columns": [
        {
         "name": "num",
         "rawType": "int64",
         "type": "integer"
        },
        {
         "name": "proportion",
         "rawType": "float64",
         "type": "float"
        }
       ],
       "ref": "951e7f8c-21c3-4543-8e02-32f7ae8fcd07",
       "rows": [
        [
         "0",
         "54.12541254125413"
        ],
        [
         "1",
         "18.151815181518153"
        ],
        [
         "2",
         "11.881188118811881"
        ],
        [
         "3",
         "11.55115511551155"
        ],
        [
         "4",
         "4.29042904290429"
        ]
       ],
       "shape": {
        "columns": 1,
        "rows": 5
       }
      },
      "text/plain": [
       "num\n",
       "0    54.125413\n",
       "1    18.151815\n",
       "2    11.881188\n",
       "3    11.551155\n",
       "4     4.290429\n",
       "Name: proportion, dtype: float64"
      ]
     },
     "execution_count": 38,
     "metadata": {},
     "output_type": "execute_result"
    }
   ],
   "source": [
    "# Porcentajes en lugar de conteos\n",
    "df[\"num\"].value_counts(normalize=True) * 100\n"
   ]
  },
  {
   "cell_type": "code",
   "execution_count": 39,
   "metadata": {},
   "outputs": [
    {
     "data": {
      "application/vnd.microsoft.datawrangler.viewer.v0+json": {
       "columns": [
        {
         "name": "sexo_texto",
         "rawType": "object",
         "type": "string"
        },
        {
         "name": "Leve",
         "rawType": "int64",
         "type": "integer"
        },
        {
         "name": "Moderada",
         "rawType": "int64",
         "type": "integer"
        },
        {
         "name": "Muy severa",
         "rawType": "int64",
         "type": "integer"
        },
        {
         "name": "Severa",
         "rawType": "int64",
         "type": "integer"
        },
        {
         "name": "Sin enfermedad",
         "rawType": "int64",
         "type": "integer"
        }
       ],
       "ref": "a191515d-a5bf-454a-a404-32a4e511aae2",
       "rows": [
        [
         "Hombre",
         "46",
         "29",
         "11",
         "28",
         "92"
        ],
        [
         "Mujer",
         "9",
         "7",
         "2",
         "7",
         "72"
        ]
       ],
       "shape": {
        "columns": 5,
        "rows": 2
       }
      },
      "text/html": [
       "<div>\n",
       "<style scoped>\n",
       "    .dataframe tbody tr th:only-of-type {\n",
       "        vertical-align: middle;\n",
       "    }\n",
       "\n",
       "    .dataframe tbody tr th {\n",
       "        vertical-align: top;\n",
       "    }\n",
       "\n",
       "    .dataframe thead th {\n",
       "        text-align: right;\n",
       "    }\n",
       "</style>\n",
       "<table border=\"1\" class=\"dataframe\">\n",
       "  <thead>\n",
       "    <tr style=\"text-align: right;\">\n",
       "      <th>nivel_enfermedad</th>\n",
       "      <th>Leve</th>\n",
       "      <th>Moderada</th>\n",
       "      <th>Muy severa</th>\n",
       "      <th>Severa</th>\n",
       "      <th>Sin enfermedad</th>\n",
       "    </tr>\n",
       "    <tr>\n",
       "      <th>sexo_texto</th>\n",
       "      <th></th>\n",
       "      <th></th>\n",
       "      <th></th>\n",
       "      <th></th>\n",
       "      <th></th>\n",
       "    </tr>\n",
       "  </thead>\n",
       "  <tbody>\n",
       "    <tr>\n",
       "      <th>Hombre</th>\n",
       "      <td>46</td>\n",
       "      <td>29</td>\n",
       "      <td>11</td>\n",
       "      <td>28</td>\n",
       "      <td>92</td>\n",
       "    </tr>\n",
       "    <tr>\n",
       "      <th>Mujer</th>\n",
       "      <td>9</td>\n",
       "      <td>7</td>\n",
       "      <td>2</td>\n",
       "      <td>7</td>\n",
       "      <td>72</td>\n",
       "    </tr>\n",
       "  </tbody>\n",
       "</table>\n",
       "</div>"
      ],
      "text/plain": [
       "nivel_enfermedad  Leve  Moderada  Muy severa  Severa  Sin enfermedad\n",
       "sexo_texto                                                          \n",
       "Hombre              46        29          11      28              92\n",
       "Mujer                9         7           2       7              72"
      ]
     },
     "execution_count": 39,
     "metadata": {},
     "output_type": "execute_result"
    }
   ],
   "source": [
    "# Tabla cruzada entre dos variables\n",
    "pd.crosstab(df[\"sexo_texto\"], df[\"nivel_enfermedad\"])\n"
   ]
  },
  {
   "cell_type": "code",
   "execution_count": 40,
   "metadata": {},
   "outputs": [
    {
     "data": {
      "application/vnd.microsoft.datawrangler.viewer.v0+json": {
       "columns": [
        {
         "name": "sexo_texto",
         "rawType": "object",
         "type": "string"
        },
        {
         "name": "Leve",
         "rawType": "float64",
         "type": "float"
        },
        {
         "name": "Moderada",
         "rawType": "float64",
         "type": "float"
        },
        {
         "name": "Muy severa",
         "rawType": "float64",
         "type": "float"
        },
        {
         "name": "Severa",
         "rawType": "float64",
         "type": "float"
        },
        {
         "name": "Sin enfermedad",
         "rawType": "float64",
         "type": "float"
        }
       ],
       "ref": "a4386c3e-368b-4aa2-990d-9512388e3cdb",
       "rows": [
        [
         "Hombre",
         "22.330097087378643",
         "14.077669902912621",
         "5.339805825242718",
         "13.592233009708737",
         "44.66019417475729"
        ],
        [
         "Mujer",
         "9.278350515463918",
         "7.216494845360824",
         "2.0618556701030926",
         "7.216494845360824",
         "74.22680412371135"
        ]
       ],
       "shape": {
        "columns": 5,
        "rows": 2
       }
      },
      "text/html": [
       "<div>\n",
       "<style scoped>\n",
       "    .dataframe tbody tr th:only-of-type {\n",
       "        vertical-align: middle;\n",
       "    }\n",
       "\n",
       "    .dataframe tbody tr th {\n",
       "        vertical-align: top;\n",
       "    }\n",
       "\n",
       "    .dataframe thead th {\n",
       "        text-align: right;\n",
       "    }\n",
       "</style>\n",
       "<table border=\"1\" class=\"dataframe\">\n",
       "  <thead>\n",
       "    <tr style=\"text-align: right;\">\n",
       "      <th>nivel_enfermedad</th>\n",
       "      <th>Leve</th>\n",
       "      <th>Moderada</th>\n",
       "      <th>Muy severa</th>\n",
       "      <th>Severa</th>\n",
       "      <th>Sin enfermedad</th>\n",
       "    </tr>\n",
       "    <tr>\n",
       "      <th>sexo_texto</th>\n",
       "      <th></th>\n",
       "      <th></th>\n",
       "      <th></th>\n",
       "      <th></th>\n",
       "      <th></th>\n",
       "    </tr>\n",
       "  </thead>\n",
       "  <tbody>\n",
       "    <tr>\n",
       "      <th>Hombre</th>\n",
       "      <td>22.330097</td>\n",
       "      <td>14.077670</td>\n",
       "      <td>5.339806</td>\n",
       "      <td>13.592233</td>\n",
       "      <td>44.660194</td>\n",
       "    </tr>\n",
       "    <tr>\n",
       "      <th>Mujer</th>\n",
       "      <td>9.278351</td>\n",
       "      <td>7.216495</td>\n",
       "      <td>2.061856</td>\n",
       "      <td>7.216495</td>\n",
       "      <td>74.226804</td>\n",
       "    </tr>\n",
       "  </tbody>\n",
       "</table>\n",
       "</div>"
      ],
      "text/plain": [
       "nivel_enfermedad       Leve   Moderada  Muy severa     Severa  Sin enfermedad\n",
       "sexo_texto                                                                   \n",
       "Hombre            22.330097  14.077670    5.339806  13.592233       44.660194\n",
       "Mujer              9.278351   7.216495    2.061856   7.216495       74.226804"
      ]
     },
     "execution_count": 40,
     "metadata": {},
     "output_type": "execute_result"
    }
   ],
   "source": [
    "# Tabla cruzada con porcentajes por fila\n",
    "pd.crosstab(df[\"sexo_texto\"], df[\"nivel_enfermedad\"], normalize=0) * 100\n"
   ]
  },
  {
   "cell_type": "code",
   "execution_count": 41,
   "metadata": {},
   "outputs": [
    {
     "data": {
      "application/vnd.microsoft.datawrangler.viewer.v0+json": {
       "columns": [
        {
         "name": "sexo_texto",
         "rawType": "object",
         "type": "string"
        },
        {
         "name": "Leve",
         "rawType": "float64",
         "type": "float"
        },
        {
         "name": "Moderada",
         "rawType": "float64",
         "type": "float"
        },
        {
         "name": "Muy severa",
         "rawType": "float64",
         "type": "float"
        },
        {
         "name": "Severa",
         "rawType": "float64",
         "type": "float"
        },
        {
         "name": "Sin enfermedad",
         "rawType": "float64",
         "type": "float"
        }
       ],
       "ref": "47b610c8-2c45-444c-8622-d2bb237e2acd",
       "rows": [
        [
         "Hombre",
         "83.63636363636363",
         "80.55555555555556",
         "84.61538461538461",
         "80.0",
         "56.09756097560976"
        ],
        [
         "Mujer",
         "16.363636363636363",
         "19.444444444444446",
         "15.384615384615385",
         "20.0",
         "43.90243902439025"
        ]
       ],
       "shape": {
        "columns": 5,
        "rows": 2
       }
      },
      "text/html": [
       "<div>\n",
       "<style scoped>\n",
       "    .dataframe tbody tr th:only-of-type {\n",
       "        vertical-align: middle;\n",
       "    }\n",
       "\n",
       "    .dataframe tbody tr th {\n",
       "        vertical-align: top;\n",
       "    }\n",
       "\n",
       "    .dataframe thead th {\n",
       "        text-align: right;\n",
       "    }\n",
       "</style>\n",
       "<table border=\"1\" class=\"dataframe\">\n",
       "  <thead>\n",
       "    <tr style=\"text-align: right;\">\n",
       "      <th>nivel_enfermedad</th>\n",
       "      <th>Leve</th>\n",
       "      <th>Moderada</th>\n",
       "      <th>Muy severa</th>\n",
       "      <th>Severa</th>\n",
       "      <th>Sin enfermedad</th>\n",
       "    </tr>\n",
       "    <tr>\n",
       "      <th>sexo_texto</th>\n",
       "      <th></th>\n",
       "      <th></th>\n",
       "      <th></th>\n",
       "      <th></th>\n",
       "      <th></th>\n",
       "    </tr>\n",
       "  </thead>\n",
       "  <tbody>\n",
       "    <tr>\n",
       "      <th>Hombre</th>\n",
       "      <td>83.636364</td>\n",
       "      <td>80.555556</td>\n",
       "      <td>84.615385</td>\n",
       "      <td>80.0</td>\n",
       "      <td>56.097561</td>\n",
       "    </tr>\n",
       "    <tr>\n",
       "      <th>Mujer</th>\n",
       "      <td>16.363636</td>\n",
       "      <td>19.444444</td>\n",
       "      <td>15.384615</td>\n",
       "      <td>20.0</td>\n",
       "      <td>43.902439</td>\n",
       "    </tr>\n",
       "  </tbody>\n",
       "</table>\n",
       "</div>"
      ],
      "text/plain": [
       "nivel_enfermedad       Leve   Moderada  Muy severa  Severa  Sin enfermedad\n",
       "sexo_texto                                                                \n",
       "Hombre            83.636364  80.555556   84.615385    80.0       56.097561\n",
       "Mujer             16.363636  19.444444   15.384615    20.0       43.902439"
      ]
     },
     "execution_count": 41,
     "metadata": {},
     "output_type": "execute_result"
    }
   ],
   "source": [
    "# Tabla cruzada con porcentajes por columna\n",
    "pd.crosstab(df[\"sexo_texto\"], df[\"nivel_enfermedad\"], normalize=1) * 100\n"
   ]
  },
  {
   "cell_type": "markdown",
   "metadata": {},
   "source": [
    "  ## 6. Trabajar con valores nulos\n",
    "\n",
    "\n",
    "\n",
    "  El manejo de valores faltantes es crucial en el análisis de datos."
   ]
  },
  {
   "cell_type": "code",
   "execution_count": 42,
   "metadata": {},
   "outputs": [
    {
     "data": {
      "application/vnd.microsoft.datawrangler.viewer.v0+json": {
       "columns": [
        {
         "name": "index",
         "rawType": "object",
         "type": "string"
        },
        {
         "name": "0",
         "rawType": "int64",
         "type": "integer"
        }
       ],
       "ref": "d6e9e907-9132-41b3-a259-2d7373398e7a",
       "rows": [
        [
         "age",
         "0"
        ],
        [
         "sex",
         "0"
        ],
        [
         "cp",
         "0"
        ],
        [
         "trestbps",
         "0"
        ],
        [
         "chol",
         "0"
        ],
        [
         "fbs",
         "0"
        ],
        [
         "restecg",
         "0"
        ],
        [
         "thalach",
         "0"
        ],
        [
         "exang",
         "0"
        ],
        [
         "oldpeak",
         "0"
        ],
        [
         "slope",
         "0"
        ],
        [
         "ca",
         "4"
        ],
        [
         "thal",
         "2"
        ],
        [
         "num",
         "0"
        ],
        [
         "edad_en_meses",
         "0"
        ],
        [
         "indice_riesgo",
         "0"
        ],
        [
         "grupo_edad",
         "0"
        ],
        [
         "categoria_colesterol",
         "0"
        ],
        [
         "sexo_texto",
         "0"
        ],
        [
         "nivel_enfermedad",
         "0"
        ],
        [
         "chol_normalizado",
         "0"
        ]
       ],
       "shape": {
        "columns": 1,
        "rows": 21
       }
      },
      "text/plain": [
       "age                     0\n",
       "sex                     0\n",
       "cp                      0\n",
       "trestbps                0\n",
       "chol                    0\n",
       "fbs                     0\n",
       "restecg                 0\n",
       "thalach                 0\n",
       "exang                   0\n",
       "oldpeak                 0\n",
       "slope                   0\n",
       "ca                      4\n",
       "thal                    2\n",
       "num                     0\n",
       "edad_en_meses           0\n",
       "indice_riesgo           0\n",
       "grupo_edad              0\n",
       "categoria_colesterol    0\n",
       "sexo_texto              0\n",
       "nivel_enfermedad        0\n",
       "chol_normalizado        0\n",
       "dtype: int64"
      ]
     },
     "execution_count": 42,
     "metadata": {},
     "output_type": "execute_result"
    }
   ],
   "source": [
    "# Detectar valores nulos\n",
    "df.isnull().sum()\n"
   ]
  },
  {
   "cell_type": "code",
   "execution_count": 43,
   "metadata": {},
   "outputs": [
    {
     "data": {
      "application/vnd.microsoft.datawrangler.viewer.v0+json": {
       "columns": [
        {
         "name": "index",
         "rawType": "object",
         "type": "string"
        },
        {
         "name": "0",
         "rawType": "float64",
         "type": "float"
        }
       ],
       "ref": "02d62a3d-d11b-4e78-95d6-aea8f4bdec51",
       "rows": [
        [
         "age",
         "0.0"
        ],
        [
         "sex",
         "0.0"
        ],
        [
         "cp",
         "0.0"
        ],
        [
         "trestbps",
         "0.0"
        ],
        [
         "chol",
         "0.0"
        ],
        [
         "fbs",
         "0.0"
        ],
        [
         "restecg",
         "0.0"
        ],
        [
         "thalach",
         "0.0"
        ],
        [
         "exang",
         "0.0"
        ],
        [
         "oldpeak",
         "0.0"
        ],
        [
         "slope",
         "0.0"
        ],
        [
         "ca",
         "1.3201320132013201"
        ],
        [
         "thal",
         "0.6600660066006601"
        ],
        [
         "num",
         "0.0"
        ],
        [
         "edad_en_meses",
         "0.0"
        ],
        [
         "indice_riesgo",
         "0.0"
        ],
        [
         "grupo_edad",
         "0.0"
        ],
        [
         "categoria_colesterol",
         "0.0"
        ],
        [
         "sexo_texto",
         "0.0"
        ],
        [
         "nivel_enfermedad",
         "0.0"
        ],
        [
         "chol_normalizado",
         "0.0"
        ]
       ],
       "shape": {
        "columns": 1,
        "rows": 21
       }
      },
      "text/plain": [
       "age                     0.000000\n",
       "sex                     0.000000\n",
       "cp                      0.000000\n",
       "trestbps                0.000000\n",
       "chol                    0.000000\n",
       "fbs                     0.000000\n",
       "restecg                 0.000000\n",
       "thalach                 0.000000\n",
       "exang                   0.000000\n",
       "oldpeak                 0.000000\n",
       "slope                   0.000000\n",
       "ca                      1.320132\n",
       "thal                    0.660066\n",
       "num                     0.000000\n",
       "edad_en_meses           0.000000\n",
       "indice_riesgo           0.000000\n",
       "grupo_edad              0.000000\n",
       "categoria_colesterol    0.000000\n",
       "sexo_texto              0.000000\n",
       "nivel_enfermedad        0.000000\n",
       "chol_normalizado        0.000000\n",
       "dtype: float64"
      ]
     },
     "execution_count": 43,
     "metadata": {},
     "output_type": "execute_result"
    }
   ],
   "source": [
    "# Porcentaje de valores nulos\n",
    "(df.isnull().sum() / len(df)) * 100\n"
   ]
  },
  {
   "cell_type": "code",
   "execution_count": 44,
   "metadata": {},
   "outputs": [
    {
     "data": {
      "text/plain": [
       "6"
      ]
     },
     "execution_count": 44,
     "metadata": {},
     "output_type": "execute_result"
    }
   ],
   "source": [
    "# Filas con algún valor nulo\n",
    "filas_con_nulos = df[df.isnull().any(axis=1)]\n",
    "len(filas_con_nulos)\n"
   ]
  },
  {
   "cell_type": "code",
   "execution_count": 45,
   "metadata": {},
   "outputs": [
    {
     "data": {
      "application/vnd.microsoft.datawrangler.viewer.v0+json": {
       "columns": [
        {
         "name": "index",
         "rawType": "int64",
         "type": "integer"
        },
        {
         "name": "age",
         "rawType": "int64",
         "type": "integer"
        },
        {
         "name": "sex",
         "rawType": "int64",
         "type": "integer"
        },
        {
         "name": "cp",
         "rawType": "int64",
         "type": "integer"
        },
        {
         "name": "trestbps",
         "rawType": "int64",
         "type": "integer"
        },
        {
         "name": "chol",
         "rawType": "int64",
         "type": "integer"
        },
        {
         "name": "fbs",
         "rawType": "int64",
         "type": "integer"
        },
        {
         "name": "restecg",
         "rawType": "int64",
         "type": "integer"
        },
        {
         "name": "thalach",
         "rawType": "int64",
         "type": "integer"
        },
        {
         "name": "exang",
         "rawType": "int64",
         "type": "integer"
        },
        {
         "name": "oldpeak",
         "rawType": "float64",
         "type": "float"
        },
        {
         "name": "slope",
         "rawType": "int64",
         "type": "integer"
        },
        {
         "name": "ca",
         "rawType": "float64",
         "type": "float"
        },
        {
         "name": "thal",
         "rawType": "float64",
         "type": "float"
        },
        {
         "name": "num",
         "rawType": "int64",
         "type": "integer"
        },
        {
         "name": "edad_en_meses",
         "rawType": "int64",
         "type": "integer"
        },
        {
         "name": "indice_riesgo",
         "rawType": "float64",
         "type": "float"
        },
        {
         "name": "grupo_edad",
         "rawType": "category",
         "type": "unknown"
        },
        {
         "name": "categoria_colesterol",
         "rawType": "object",
         "type": "string"
        },
        {
         "name": "sexo_texto",
         "rawType": "object",
         "type": "string"
        },
        {
         "name": "nivel_enfermedad",
         "rawType": "object",
         "type": "string"
        },
        {
         "name": "chol_normalizado",
         "rawType": "float64",
         "type": "float"
        }
       ],
       "ref": "7385bfef-8124-493a-b0e5-53a326ca2f80",
       "rows": [
        [
         "87",
         "53",
         "0",
         "3",
         "128",
         "216",
         "0",
         "2",
         "115",
         "0",
         "0.0",
         "1",
         "0.0",
         null,
         "0",
         "636",
         "4.0754716981132075",
         "50-59",
         "Límite alto",
         "Mujer",
         "Sin enfermedad",
         "0.2054794520547945"
        ],
        [
         "166",
         "52",
         "1",
         "3",
         "138",
         "223",
         "0",
         "0",
         "169",
         "0",
         "0.0",
         "1",
         null,
         "3.0",
         "0",
         "624",
         "4.288461538461538",
         "50-59",
         "Límite alto",
         "Hombre",
         "Sin enfermedad",
         "0.22146118721461186"
        ],
        [
         "192",
         "43",
         "1",
         "4",
         "132",
         "247",
         "1",
         "2",
         "143",
         "1",
         "0.1",
         "2",
         null,
         "7.0",
         "1",
         "516",
         "5.744186046511628",
         "40-49",
         "Alto",
         "Hombre",
         "Leve",
         "0.2762557077625571"
        ],
        [
         "266",
         "52",
         "1",
         "4",
         "128",
         "204",
         "1",
         "0",
         "156",
         "1",
         "1.0",
         "2",
         "0.0",
         null,
         "2",
         "624",
         "3.923076923076923",
         "50-59",
         "Límite alto",
         "Hombre",
         "Moderada",
         "0.1780821917808219"
        ],
        [
         "287",
         "58",
         "1",
         "2",
         "125",
         "220",
         "0",
         "0",
         "144",
         "0",
         "0.4",
         "2",
         null,
         "7.0",
         "0",
         "696",
         "3.793103448275862",
         "50-59",
         "Límite alto",
         "Hombre",
         "Sin enfermedad",
         "0.2146118721461187"
        ]
       ],
       "shape": {
        "columns": 21,
        "rows": 5
       }
      },
      "text/html": [
       "<div>\n",
       "<style scoped>\n",
       "    .dataframe tbody tr th:only-of-type {\n",
       "        vertical-align: middle;\n",
       "    }\n",
       "\n",
       "    .dataframe tbody tr th {\n",
       "        vertical-align: top;\n",
       "    }\n",
       "\n",
       "    .dataframe thead th {\n",
       "        text-align: right;\n",
       "    }\n",
       "</style>\n",
       "<table border=\"1\" class=\"dataframe\">\n",
       "  <thead>\n",
       "    <tr style=\"text-align: right;\">\n",
       "      <th></th>\n",
       "      <th>age</th>\n",
       "      <th>sex</th>\n",
       "      <th>cp</th>\n",
       "      <th>trestbps</th>\n",
       "      <th>chol</th>\n",
       "      <th>fbs</th>\n",
       "      <th>restecg</th>\n",
       "      <th>thalach</th>\n",
       "      <th>exang</th>\n",
       "      <th>oldpeak</th>\n",
       "      <th>...</th>\n",
       "      <th>ca</th>\n",
       "      <th>thal</th>\n",
       "      <th>num</th>\n",
       "      <th>edad_en_meses</th>\n",
       "      <th>indice_riesgo</th>\n",
       "      <th>grupo_edad</th>\n",
       "      <th>categoria_colesterol</th>\n",
       "      <th>sexo_texto</th>\n",
       "      <th>nivel_enfermedad</th>\n",
       "      <th>chol_normalizado</th>\n",
       "    </tr>\n",
       "  </thead>\n",
       "  <tbody>\n",
       "    <tr>\n",
       "      <th>87</th>\n",
       "      <td>53</td>\n",
       "      <td>0</td>\n",
       "      <td>3</td>\n",
       "      <td>128</td>\n",
       "      <td>216</td>\n",
       "      <td>0</td>\n",
       "      <td>2</td>\n",
       "      <td>115</td>\n",
       "      <td>0</td>\n",
       "      <td>0.0</td>\n",
       "      <td>...</td>\n",
       "      <td>0.0</td>\n",
       "      <td>NaN</td>\n",
       "      <td>0</td>\n",
       "      <td>636</td>\n",
       "      <td>4.075472</td>\n",
       "      <td>50-59</td>\n",
       "      <td>Límite alto</td>\n",
       "      <td>Mujer</td>\n",
       "      <td>Sin enfermedad</td>\n",
       "      <td>0.205479</td>\n",
       "    </tr>\n",
       "    <tr>\n",
       "      <th>166</th>\n",
       "      <td>52</td>\n",
       "      <td>1</td>\n",
       "      <td>3</td>\n",
       "      <td>138</td>\n",
       "      <td>223</td>\n",
       "      <td>0</td>\n",
       "      <td>0</td>\n",
       "      <td>169</td>\n",
       "      <td>0</td>\n",
       "      <td>0.0</td>\n",
       "      <td>...</td>\n",
       "      <td>NaN</td>\n",
       "      <td>3.0</td>\n",
       "      <td>0</td>\n",
       "      <td>624</td>\n",
       "      <td>4.288462</td>\n",
       "      <td>50-59</td>\n",
       "      <td>Límite alto</td>\n",
       "      <td>Hombre</td>\n",
       "      <td>Sin enfermedad</td>\n",
       "      <td>0.221461</td>\n",
       "    </tr>\n",
       "    <tr>\n",
       "      <th>192</th>\n",
       "      <td>43</td>\n",
       "      <td>1</td>\n",
       "      <td>4</td>\n",
       "      <td>132</td>\n",
       "      <td>247</td>\n",
       "      <td>1</td>\n",
       "      <td>2</td>\n",
       "      <td>143</td>\n",
       "      <td>1</td>\n",
       "      <td>0.1</td>\n",
       "      <td>...</td>\n",
       "      <td>NaN</td>\n",
       "      <td>7.0</td>\n",
       "      <td>1</td>\n",
       "      <td>516</td>\n",
       "      <td>5.744186</td>\n",
       "      <td>40-49</td>\n",
       "      <td>Alto</td>\n",
       "      <td>Hombre</td>\n",
       "      <td>Leve</td>\n",
       "      <td>0.276256</td>\n",
       "    </tr>\n",
       "    <tr>\n",
       "      <th>266</th>\n",
       "      <td>52</td>\n",
       "      <td>1</td>\n",
       "      <td>4</td>\n",
       "      <td>128</td>\n",
       "      <td>204</td>\n",
       "      <td>1</td>\n",
       "      <td>0</td>\n",
       "      <td>156</td>\n",
       "      <td>1</td>\n",
       "      <td>1.0</td>\n",
       "      <td>...</td>\n",
       "      <td>0.0</td>\n",
       "      <td>NaN</td>\n",
       "      <td>2</td>\n",
       "      <td>624</td>\n",
       "      <td>3.923077</td>\n",
       "      <td>50-59</td>\n",
       "      <td>Límite alto</td>\n",
       "      <td>Hombre</td>\n",
       "      <td>Moderada</td>\n",
       "      <td>0.178082</td>\n",
       "    </tr>\n",
       "    <tr>\n",
       "      <th>287</th>\n",
       "      <td>58</td>\n",
       "      <td>1</td>\n",
       "      <td>2</td>\n",
       "      <td>125</td>\n",
       "      <td>220</td>\n",
       "      <td>0</td>\n",
       "      <td>0</td>\n",
       "      <td>144</td>\n",
       "      <td>0</td>\n",
       "      <td>0.4</td>\n",
       "      <td>...</td>\n",
       "      <td>NaN</td>\n",
       "      <td>7.0</td>\n",
       "      <td>0</td>\n",
       "      <td>696</td>\n",
       "      <td>3.793103</td>\n",
       "      <td>50-59</td>\n",
       "      <td>Límite alto</td>\n",
       "      <td>Hombre</td>\n",
       "      <td>Sin enfermedad</td>\n",
       "      <td>0.214612</td>\n",
       "    </tr>\n",
       "  </tbody>\n",
       "</table>\n",
       "<p>5 rows × 21 columns</p>\n",
       "</div>"
      ],
      "text/plain": [
       "     age  sex  cp  trestbps  chol  fbs  restecg  thalach  exang  oldpeak  ...  \\\n",
       "87    53    0   3       128   216    0        2      115      0      0.0  ...   \n",
       "166   52    1   3       138   223    0        0      169      0      0.0  ...   \n",
       "192   43    1   4       132   247    1        2      143      1      0.1  ...   \n",
       "266   52    1   4       128   204    1        0      156      1      1.0  ...   \n",
       "287   58    1   2       125   220    0        0      144      0      0.4  ...   \n",
       "\n",
       "      ca  thal  num  edad_en_meses  indice_riesgo  grupo_edad  \\\n",
       "87   0.0   NaN    0            636       4.075472       50-59   \n",
       "166  NaN   3.0    0            624       4.288462       50-59   \n",
       "192  NaN   7.0    1            516       5.744186       40-49   \n",
       "266  0.0   NaN    2            624       3.923077       50-59   \n",
       "287  NaN   7.0    0            696       3.793103       50-59   \n",
       "\n",
       "    categoria_colesterol sexo_texto nivel_enfermedad chol_normalizado  \n",
       "87           Límite alto      Mujer   Sin enfermedad         0.205479  \n",
       "166          Límite alto     Hombre   Sin enfermedad         0.221461  \n",
       "192                 Alto     Hombre             Leve         0.276256  \n",
       "266          Límite alto     Hombre         Moderada         0.178082  \n",
       "287          Límite alto     Hombre   Sin enfermedad         0.214612  \n",
       "\n",
       "[5 rows x 21 columns]"
      ]
     },
     "execution_count": 45,
     "metadata": {},
     "output_type": "execute_result"
    }
   ],
   "source": [
    "filas_con_nulos.head()\n"
   ]
  },
  {
   "cell_type": "code",
   "execution_count": 46,
   "metadata": {},
   "outputs": [
    {
     "data": {
      "text/plain": [
       "'Filas antes: 303, después: 297'"
      ]
     },
     "execution_count": 46,
     "metadata": {},
     "output_type": "execute_result"
    }
   ],
   "source": [
    "# Crear una copia para no modificar el original\n",
    "df_limpio = df.copy()\n",
    "\n",
    "# Eliminar filas con nulos\n",
    "df_sin_nulos = df_limpio.dropna()\n",
    "f\"Filas antes: {len(df_limpio)}, después: {len(df_sin_nulos)}\"\n"
   ]
  },
  {
   "cell_type": "code",
   "execution_count": 47,
   "metadata": {},
   "outputs": [
    {
     "data": {
      "application/vnd.microsoft.datawrangler.viewer.v0+json": {
       "columns": [
        {
         "name": "index",
         "rawType": "object",
         "type": "string"
        },
        {
         "name": "0",
         "rawType": "int64",
         "type": "integer"
        }
       ],
       "ref": "cb92b033-f4e6-4eb2-b583-25ddc9ec0970",
       "rows": [
        [
         "age",
         "0"
        ],
        [
         "sex",
         "0"
        ],
        [
         "cp",
         "0"
        ],
        [
         "trestbps",
         "0"
        ],
        [
         "chol",
         "0"
        ],
        [
         "fbs",
         "0"
        ],
        [
         "restecg",
         "0"
        ],
        [
         "thalach",
         "0"
        ],
        [
         "exang",
         "0"
        ],
        [
         "oldpeak",
         "0"
        ],
        [
         "slope",
         "0"
        ],
        [
         "ca",
         "0"
        ],
        [
         "thal",
         "0"
        ],
        [
         "num",
         "0"
        ],
        [
         "edad_en_meses",
         "0"
        ],
        [
         "indice_riesgo",
         "0"
        ],
        [
         "grupo_edad",
         "0"
        ],
        [
         "categoria_colesterol",
         "0"
        ],
        [
         "sexo_texto",
         "0"
        ],
        [
         "nivel_enfermedad",
         "0"
        ],
        [
         "chol_normalizado",
         "0"
        ]
       ],
       "shape": {
        "columns": 1,
        "rows": 21
       }
      },
      "text/plain": [
       "age                     0\n",
       "sex                     0\n",
       "cp                      0\n",
       "trestbps                0\n",
       "chol                    0\n",
       "fbs                     0\n",
       "restecg                 0\n",
       "thalach                 0\n",
       "exang                   0\n",
       "oldpeak                 0\n",
       "slope                   0\n",
       "ca                      0\n",
       "thal                    0\n",
       "num                     0\n",
       "edad_en_meses           0\n",
       "indice_riesgo           0\n",
       "grupo_edad              0\n",
       "categoria_colesterol    0\n",
       "sexo_texto              0\n",
       "nivel_enfermedad        0\n",
       "chol_normalizado        0\n",
       "dtype: int64"
      ]
     },
     "execution_count": 47,
     "metadata": {},
     "output_type": "execute_result"
    }
   ],
   "source": [
    "# Diferentes estrategias para rellenar nulos\n",
    "\n",
    "# Rellenar con un valor específico\n",
    "df_limpio[\"ca\"] = df_limpio[\"ca\"].fillna(0)\n",
    "\n",
    "# Rellenar con la media (para variables numéricas)\n",
    "df_limpio[\"thal\"] = df_limpio[\"thal\"].fillna(df_limpio[\"thal\"].mean())\n",
    "\n",
    "# Rellenar con la moda (para categóricas)\n",
    "df_limpio[\"slope\"] = df_limpio[\"slope\"].fillna(df_limpio[\"slope\"].mode()[0])\n",
    "\n",
    "df_limpio.isnull().sum()\n"
   ]
  },
  {
   "cell_type": "markdown",
   "metadata": {},
   "source": [
    "  ## 7. Agrupar y resumir datos\n",
    "\n",
    "\n",
    "\n",
    "  La agrupación es fundamental para obtener estadísticas por categorías."
   ]
  },
  {
   "cell_type": "code",
   "execution_count": 48,
   "metadata": {},
   "outputs": [
    {
     "data": {
      "application/vnd.microsoft.datawrangler.viewer.v0+json": {
       "columns": [
        {
         "name": "sexo_texto",
         "rawType": "object",
         "type": "string"
        },
        {
         "name": "age",
         "rawType": "float64",
         "type": "float"
        }
       ],
       "ref": "d8b9f593-2e54-4944-90e4-0985aab3889d",
       "rows": [
        [
         "Hombre",
         "53.83495145631068"
        ],
        [
         "Mujer",
         "55.72164948453608"
        ]
       ],
       "shape": {
        "columns": 1,
        "rows": 2
       }
      },
      "text/plain": [
       "sexo_texto\n",
       "Hombre    53.834951\n",
       "Mujer     55.721649\n",
       "Name: age, dtype: float64"
      ]
     },
     "execution_count": 48,
     "metadata": {},
     "output_type": "execute_result"
    }
   ],
   "source": [
    "# Agrupar por una variable y calcular media\n",
    "df.groupby(\"sexo_texto\")[\"age\"].mean()\n"
   ]
  },
  {
   "cell_type": "code",
   "execution_count": 49,
   "metadata": {},
   "outputs": [
    {
     "data": {
      "application/vnd.microsoft.datawrangler.viewer.v0+json": {
       "columns": [
        {
         "name": "sexo_texto",
         "rawType": "object",
         "type": "string"
        },
        {
         "name": "mean",
         "rawType": "float64",
         "type": "float"
        },
        {
         "name": "median",
         "rawType": "float64",
         "type": "float"
        },
        {
         "name": "std",
         "rawType": "float64",
         "type": "float"
        },
        {
         "name": "min",
         "rawType": "int64",
         "type": "integer"
        },
        {
         "name": "max",
         "rawType": "int64",
         "type": "integer"
        }
       ],
       "ref": "99cb3318-8ad4-4fc1-af04-28bcb1d283af",
       "rows": [
        [
         "Hombre",
         "239.60194174757282",
         "235.0",
         "42.6497567672875",
         "126",
         "353"
        ],
        [
         "Mujer",
         "261.7525773195876",
         "254.0",
         "64.90089093633382",
         "141",
         "564"
        ]
       ],
       "shape": {
        "columns": 5,
        "rows": 2
       }
      },
      "text/html": [
       "<div>\n",
       "<style scoped>\n",
       "    .dataframe tbody tr th:only-of-type {\n",
       "        vertical-align: middle;\n",
       "    }\n",
       "\n",
       "    .dataframe tbody tr th {\n",
       "        vertical-align: top;\n",
       "    }\n",
       "\n",
       "    .dataframe thead th {\n",
       "        text-align: right;\n",
       "    }\n",
       "</style>\n",
       "<table border=\"1\" class=\"dataframe\">\n",
       "  <thead>\n",
       "    <tr style=\"text-align: right;\">\n",
       "      <th></th>\n",
       "      <th>mean</th>\n",
       "      <th>median</th>\n",
       "      <th>std</th>\n",
       "      <th>min</th>\n",
       "      <th>max</th>\n",
       "    </tr>\n",
       "    <tr>\n",
       "      <th>sexo_texto</th>\n",
       "      <th></th>\n",
       "      <th></th>\n",
       "      <th></th>\n",
       "      <th></th>\n",
       "      <th></th>\n",
       "    </tr>\n",
       "  </thead>\n",
       "  <tbody>\n",
       "    <tr>\n",
       "      <th>Hombre</th>\n",
       "      <td>239.601942</td>\n",
       "      <td>235.0</td>\n",
       "      <td>42.649757</td>\n",
       "      <td>126</td>\n",
       "      <td>353</td>\n",
       "    </tr>\n",
       "    <tr>\n",
       "      <th>Mujer</th>\n",
       "      <td>261.752577</td>\n",
       "      <td>254.0</td>\n",
       "      <td>64.900891</td>\n",
       "      <td>141</td>\n",
       "      <td>564</td>\n",
       "    </tr>\n",
       "  </tbody>\n",
       "</table>\n",
       "</div>"
      ],
      "text/plain": [
       "                  mean  median        std  min  max\n",
       "sexo_texto                                         \n",
       "Hombre      239.601942   235.0  42.649757  126  353\n",
       "Mujer       261.752577   254.0  64.900891  141  564"
      ]
     },
     "execution_count": 49,
     "metadata": {},
     "output_type": "execute_result"
    }
   ],
   "source": [
    "# Múltiples estadísticas a la vez\n",
    "df.groupby(\"sexo_texto\")[\"chol\"].agg([\"mean\", \"median\", \"std\", \"min\", \"max\"])\n"
   ]
  },
  {
   "cell_type": "code",
   "execution_count": 50,
   "metadata": {},
   "outputs": [
    {
     "data": {
      "application/vnd.microsoft.datawrangler.viewer.v0+json": {
       "columns": [
        {
         "name": "('sexo_texto', 'nivel_enfermedad')",
         "rawType": "object",
         "type": "unknown"
        },
        {
         "name": "age",
         "rawType": "float64",
         "type": "float"
        }
       ],
       "ref": "9b5b68ca-71fe-4800-9ca6-66f1d94407c4",
       "rows": [
        [
         "('Hombre', 'Leve')",
         "54.4"
        ],
        [
         "('Hombre', 'Moderada')",
         "58.7"
        ],
        [
         "('Hombre', 'Muy severa')",
         "58.9"
        ],
        [
         "('Hombre', 'Severa')",
         "55.0"
        ],
        [
         "('Hombre', 'Sin enfermedad')",
         "51.0"
        ],
        [
         "('Mujer', 'Leve')",
         "60.3"
        ],
        [
         "('Mujer', 'Moderada')",
         "55.3"
        ],
        [
         "('Mujer', 'Muy severa')",
         "64.0"
        ],
        [
         "('Mujer', 'Severa')",
         "59.9"
        ],
        [
         "('Mujer', 'Sin enfermedad')",
         "54.6"
        ]
       ],
       "shape": {
        "columns": 1,
        "rows": 10
       }
      },
      "text/plain": [
       "sexo_texto  nivel_enfermedad\n",
       "Hombre      Leve                54.4\n",
       "            Moderada            58.7\n",
       "            Muy severa          58.9\n",
       "            Severa              55.0\n",
       "            Sin enfermedad      51.0\n",
       "Mujer       Leve                60.3\n",
       "            Moderada            55.3\n",
       "            Muy severa          64.0\n",
       "            Severa              59.9\n",
       "            Sin enfermedad      54.6\n",
       "Name: age, dtype: float64"
      ]
     },
     "execution_count": 50,
     "metadata": {},
     "output_type": "execute_result"
    }
   ],
   "source": [
    "# Agrupar por múltiples variables\n",
    "grupo = df.groupby([\"sexo_texto\", \"nivel_enfermedad\"])[\"age\"].mean()\n",
    "grupo.round(1)\n"
   ]
  },
  {
   "cell_type": "markdown",
   "metadata": {},
   "source": [
    "  ## 8. Visualización básica con pandas\n",
    "\n",
    "\n",
    "\n",
    "  Pandas tiene capacidades de visualización integradas útiles para exploración rápida."
   ]
  },
  {
   "cell_type": "code",
   "execution_count": 51,
   "metadata": {},
   "outputs": [
    {
     "data": {
      "image/png": "[encoded data removed]",
      "text/plain": [
       "<Figure size 640x480 with 1 Axes>"
      ]
     },
     "metadata": {},
     "output_type": "display_data"
    }
   ],
   "source": [
    "# Histograma simple\n",
    "df[\"age\"].plot(kind='hist', bins=20, edgecolor='black')\n",
    "plt.title(\"Distribución de edades\")\n",
    "plt.xlabel(\"Edad\")\n",
    "plt.ylabel(\"Frecuencia\")\n",
    "plt.show()\n"
   ]
  },
  {
   "cell_type": "code",
   "execution_count": 52,
   "metadata": {},
   "outputs": [
    {
     "data": {
      "image/png": "[encoded data removed]",
      "text/plain": [
       "<Figure size 640x480 with 1 Axes>"
      ]
     },
     "metadata": {},
     "output_type": "display_data"
    }
   ],
   "source": [
    "# Gráfico de barras\n",
    "df[\"nivel_enfermedad\"].value_counts().plot(kind='bar', color='steelblue')\n",
    "plt.title(\"Distribución de niveles de enfermedad\")\n",
    "plt.xlabel(\"Nivel\")\n",
    "plt.ylabel(\"Número de pacientes\")\n",
    "plt.xticks(rotation=45)\n",
    "plt.show()\n"
   ]
  },
  {
   "cell_type": "code",
   "execution_count": 53,
   "metadata": {},
   "outputs": [
    {
     "data": {
      "image/png": "[encoded data removed]",
      "text/plain": [
       "<Figure size 800x600 with 1 Axes>"
      ]
     },
     "metadata": {},
     "output_type": "display_data"
    }
   ],
   "source": [
    "# Box plot para ver distribución y outliers\n",
    "df.boxplot(column='chol', by='sexo_texto', figsize=(8, 6))\n",
    "plt.suptitle(\"Colesterol por sexo\")\n",
    "plt.title(\"\")\n",
    "plt.ylabel(\"Colesterol (mg/dl)\")\n",
    "plt.show()\n"
   ]
  },
  {
   "cell_type": "code",
   "execution_count": 54,
   "metadata": {},
   "outputs": [
    {
     "data": {
      "image/png": "[encoded data removed]",
      "text/plain": [
       "<Figure size 800x600 with 1 Axes>"
      ]
     },
     "metadata": {},
     "output_type": "display_data"
    }
   ],
   "source": [
    "# Scatter plot para ver relaciones\n",
    "df.plot(kind='scatter', x='age', y='chol', alpha=0.5, figsize=(8, 6))\n",
    "plt.title(\"Relación entre edad y colesterol\")\n",
    "plt.xlabel(\"Edad\")\n",
    "plt.ylabel(\"Colesterol\")\n",
    "plt.show()\n"
   ]
  },
  {
   "cell_type": "code",
   "execution_count": 55,
   "metadata": {},
   "outputs": [
    {
     "data": {
      "image/png": "[encoded data removed]",
      "text/plain": [
       "<Figure size 800x600 with 2 Axes>"
      ]
     },
     "metadata": {},
     "output_type": "display_data"
    }
   ],
   "source": [
    "# Matriz de correlación con heatmap\n",
    "correlacion = df[[\"age\", \"trestbps\", \"chol\", \"thalach\", \"oldpeak\"]].corr()\n",
    "\n",
    "plt.figure(figsize=(8, 6))\n",
    "sns.heatmap(correlacion, annot=True, fmt='.2f', cmap='coolwarm', center=0)\n",
    "plt.title(\"Matriz de correlación entre variables\")\n",
    "plt.show()\n"
   ]
  },
  {
   "cell_type": "code",
   "execution_count": 56,
   "metadata": {},
   "outputs": [
    {
     "name": "stderr",
     "output_type": "stream",
     "text": [
      "/var/folders/hj/z81bpvv52rxg939nrr4_8qp00000gn/T/ipykernel_84191/4028355435.py:2: FutureWarning: The default of observed=False is deprecated and will be changed to True in a future version of pandas. Pass observed=False to retain current behavior or observed=True to adopt the future default and silence this warning.\n",
      "  tendencia = df.groupby(\"grupo_edad\")[\"chol\"].mean().sort_index()\n"
     ]
    },
    {
     "data": {
      "image/png": "[encoded data removed]",
      "text/plain": [
       "<Figure size 800x500 with 1 Axes>"
      ]
     },
     "metadata": {},
     "output_type": "display_data"
    }
   ],
   "source": [
    "# Gráfico de líneas para tendencias\n",
    "tendencia = df.groupby(\"grupo_edad\")[\"chol\"].mean().sort_index()\n",
    "tendencia.plot(kind='line', marker='o', figsize=(8, 5))\n",
    "plt.title(\"Tendencia del colesterol por grupo de edad\")\n",
    "plt.xlabel(\"Grupo de edad\")\n",
    "plt.ylabel(\"Colesterol medio\")\n",
    "plt.grid(True, alpha=0.3)\n",
    "plt.show()\n"
   ]
  },
  {
   "cell_type": "markdown",
   "metadata": {},
   "source": [
    "  ## 9. Guardar los resultados\n",
    "\n",
    "\n",
    "\n",
    "  Después de procesar los datos, necesitamos guardar los resultados."
   ]
  },
  {
   "cell_type": "code",
   "execution_count": 57,
   "metadata": {},
   "outputs": [
    {
     "data": {
      "text/plain": [
       "\"Archivo guardado como 'heart_disease_procesado.csv'\""
      ]
     },
     "execution_count": 57,
     "metadata": {},
     "output_type": "execute_result"
    }
   ],
   "source": [
    "# Guardar el DataFrame modificado en CSV\n",
    "df_limpio.to_csv(\"heart_disease_procesado.csv\", index=False)\n",
    "\"Archivo guardado como 'heart_disease_procesado.csv'\"\n"
   ]
  },
  {
   "cell_type": "code",
   "execution_count": 58,
   "metadata": {},
   "outputs": [
    {
     "data": {
      "text/plain": [
       "'Archivo resumido guardado'"
      ]
     },
     "execution_count": 58,
     "metadata": {},
     "output_type": "execute_result"
    }
   ],
   "source": [
    "# Guardar solo columnas específicas\n",
    "columnas_importantes = [\"age\", \"sexo_texto\", \"chol\", \"categoria_colesterol\", \"nivel_enfermedad\"]\n",
    "df[columnas_importantes].to_csv(\"heart_disease_resumido.csv\", index=False)\n",
    "\"Archivo resumido guardado\"\n"
   ]
  },
  {
   "cell_type": "code",
   "execution_count": 59,
   "metadata": {},
   "outputs": [
    {
     "data": {
      "application/vnd.microsoft.datawrangler.viewer.v0+json": {
       "columns": [
        {
         "name": "sexo_texto",
         "rawType": "object",
         "type": "string"
        },
        {
         "name": "('age', 'mean')",
         "rawType": "float64",
         "type": "float"
        },
        {
         "name": "('age', 'std')",
         "rawType": "float64",
         "type": "float"
        },
        {
         "name": "('chol', 'mean')",
         "rawType": "float64",
         "type": "float"
        },
        {
         "name": "('chol', 'std')",
         "rawType": "float64",
         "type": "float"
        },
        {
         "name": "('num', '<lambda>')",
         "rawType": "float64",
         "type": "float"
        }
       ],
       "ref": "7a3dd542-a794-408f-9d65-becd324de4bc",
       "rows": [
        [
         "Hombre",
         "53.8",
         "8.8",
         "239.6",
         "42.6",
         "55.3"
        ],
        [
         "Mujer",
         "55.7",
         "9.4",
         "261.8",
         "64.9",
         "25.8"
        ]
       ],
       "shape": {
        "columns": 5,
        "rows": 2
       }
      },
      "text/html": [
       "<div>\n",
       "<style scoped>\n",
       "    .dataframe tbody tr th:only-of-type {\n",
       "        vertical-align: middle;\n",
       "    }\n",
       "\n",
       "    .dataframe tbody tr th {\n",
       "        vertical-align: top;\n",
       "    }\n",
       "\n",
       "    .dataframe thead tr th {\n",
       "        text-align: left;\n",
       "    }\n",
       "\n",
       "    .dataframe thead tr:last-of-type th {\n",
       "        text-align: right;\n",
       "    }\n",
       "</style>\n",
       "<table border=\"1\" class=\"dataframe\">\n",
       "  <thead>\n",
       "    <tr>\n",
       "      <th></th>\n",
       "      <th colspan=\"2\" halign=\"left\">age</th>\n",
       "      <th colspan=\"2\" halign=\"left\">chol</th>\n",
       "      <th>num</th>\n",
       "    </tr>\n",
       "    <tr>\n",
       "      <th></th>\n",
       "      <th>mean</th>\n",
       "      <th>std</th>\n",
       "      <th>mean</th>\n",
       "      <th>std</th>\n",
       "      <th>&lt;lambda&gt;</th>\n",
       "    </tr>\n",
       "    <tr>\n",
       "      <th>sexo_texto</th>\n",
       "      <th></th>\n",
       "      <th></th>\n",
       "      <th></th>\n",
       "      <th></th>\n",
       "      <th></th>\n",
       "    </tr>\n",
       "  </thead>\n",
       "  <tbody>\n",
       "    <tr>\n",
       "      <th>Hombre</th>\n",
       "      <td>53.8</td>\n",
       "      <td>8.8</td>\n",
       "      <td>239.6</td>\n",
       "      <td>42.6</td>\n",
       "      <td>55.3</td>\n",
       "    </tr>\n",
       "    <tr>\n",
       "      <th>Mujer</th>\n",
       "      <td>55.7</td>\n",
       "      <td>9.4</td>\n",
       "      <td>261.8</td>\n",
       "      <td>64.9</td>\n",
       "      <td>25.8</td>\n",
       "    </tr>\n",
       "  </tbody>\n",
       "</table>\n",
       "</div>"
      ],
      "text/plain": [
       "             age        chol            num\n",
       "            mean  std   mean   std <lambda>\n",
       "sexo_texto                                 \n",
       "Hombre      53.8  8.8  239.6  42.6     55.3\n",
       "Mujer       55.7  9.4  261.8  64.9     25.8"
      ]
     },
     "execution_count": 59,
     "metadata": {},
     "output_type": "execute_result"
    }
   ],
   "source": [
    "# Guardar tabla de resumen\n",
    "resumen_sexo = df.groupby(\"sexo_texto\").agg({\n",
    "    \"age\": [\"mean\", \"std\"],\n",
    "    \"chol\": [\"mean\", \"std\"],\n",
    "    \"num\": lambda x: (x > 0).mean() * 100  # Porcentaje de enfermos\n",
    "})\n",
    "resumen_sexo.round(1)\n"
   ]
  },
  {
   "cell_type": "code",
   "execution_count": 60,
   "metadata": {},
   "outputs": [
    {
     "data": {
      "text/plain": [
       "'Tabla de resumen guardada'"
      ]
     },
     "execution_count": 60,
     "metadata": {},
     "output_type": "execute_result"
    }
   ],
   "source": [
    "resumen_sexo.to_csv(\"resumen_por_sexo.csv\")\n",
    "\"Tabla de resumen guardada\"\n"
   ]
  },
  {
   "cell_type": "markdown",
   "metadata": {},
   "source": [
    "  ## Ejercicios propuestos\n",
    "\n",
    "\n",
    "\n",
    "  1. **Análisis de presión arterial**: Crea una nueva columna que clasifique la presión arterial (`trestbps`) en las siguientes categorías:\n",
    "\n",
    "     - \"Normal\": menor a 120\n",
    "\n",
    "     - \"Elevada\": entre 120 y 129\n",
    "\n",
    "     - \"Hipertensión Etapa 1\": entre 130 y 139\n",
    "\n",
    "     - \"Hipertensión Etapa 2\": 140 o más\n",
    "\n",
    "\n",
    "\n",
    "     Luego calcula qué porcentaje de pacientes está en cada categoría.\n",
    "\n",
    "\n",
    "\n",
    "  2. **Análisis por sexo**:\n",
    "\n",
    "     - Calcula la media y desviación estándar del colesterol para hombres y mujeres por separado\n",
    "\n",
    "     - Determina qué sexo tiene mayor proporción de pacientes con enfermedad cardíaca\n",
    "\n",
    "     - Crea un gráfico comparativo\n",
    "\n",
    "\n",
    "\n",
    "  3. **Identificación de pacientes de alto riesgo**:\n",
    "\n",
    "     - Crea un índice de riesgo que combine edad > 55, colesterol > 240, y presión > 140\n",
    "\n",
    "     - Identifica cuántos pacientes cumplen con al menos 2 de estos criterios\n",
    "\n",
    "     - Guarda la lista de pacientes de alto riesgo en un archivo separado\n",
    "\n",
    "\n",
    "\n",
    "  4. **Análisis de correlaciones**:\n",
    "\n",
    "     - Investiga qué variables están más correlacionadas con la presencia de enfermedad (`num`)\n",
    "\n",
    "     - Crea visualizaciones para las 3 correlaciones más fuertes\n",
    "\n",
    "\n",
    "\n",
    "  5. **Limpieza de datos avanzada**:\n",
    "\n",
    "     - Identifica posibles valores atípicos (outliers) en colesterol y presión arterial\n",
    "\n",
    "     - Decide qué hacer con ellos (mantener, eliminar, o transformar)\n",
    "\n",
    "     - Justifica tu decisión"
   ]
  },
  {
   "cell_type": "code",
   "execution_count": 61,
   "metadata": {},
   "outputs": [
    {
     "data": {
      "application/vnd.microsoft.datawrangler.viewer.v0+json": {
       "columns": [
        {
         "name": "categoria_presion",
         "rawType": "object",
         "type": "string"
        },
        {
         "name": "count",
         "rawType": "int64",
         "type": "integer"
        }
       ],
       "ref": "90e81446-628e-4bfb-8721-bd5155af87fe",
       "rows": [
        [
         "Hipertensión Etapa 2",
         "98"
        ],
        [
         "Elevada",
         "75"
        ],
        [
         "Hipertensión Etapa 1",
         "70"
        ],
        [
         "Normal",
         "60"
        ]
       ],
       "shape": {
        "columns": 1,
        "rows": 4
       }
      },
      "text/plain": [
       "categoria_presion\n",
       "Hipertensión Etapa 2    98\n",
       "Elevada                 75\n",
       "Hipertensión Etapa 1    70\n",
       "Normal                  60\n",
       "Name: count, dtype: int64"
      ]
     },
     "execution_count": 61,
     "metadata": {},
     "output_type": "execute_result"
    }
   ],
   "source": [
    "# Ejemplo de solución para el ejercicio 1\n",
    "def clasificar_presion(valor):\n",
    "    if pd.isna(valor):\n",
    "        return \"Desconocido\"\n",
    "    elif valor < 120:\n",
    "        return \"Normal\"\n",
    "    elif valor < 130:\n",
    "        return \"Elevada\"\n",
    "    elif valor < 140:\n",
    "        return \"Hipertensión Etapa 1\"\n",
    "    else:\n",
    "        return \"Hipertensión Etapa 2\"\n",
    "\n",
    "df[\"categoria_presion\"] = df[\"trestbps\"].apply(clasificar_presion)\n",
    "df[\"categoria_presion\"].value_counts()\n"
   ]
  },
  {
   "cell_type": "code",
   "execution_count": 62,
   "metadata": {},
   "outputs": [
    {
     "data": {
      "application/vnd.microsoft.datawrangler.viewer.v0+json": {
       "columns": [
        {
         "name": "categoria_presion",
         "rawType": "object",
         "type": "string"
        },
        {
         "name": "proportion",
         "rawType": "float64",
         "type": "float"
        }
       ],
       "ref": "7a1e6f99-ae5c-430a-b465-ed24fcc2b6e4",
       "rows": [
        [
         "Hipertensión Etapa 2",
         "32.34323432343234"
        ],
        [
         "Elevada",
         "24.752475247524753"
        ],
        [
         "Hipertensión Etapa 1",
         "23.1023102310231"
        ],
        [
         "Normal",
         "19.801980198019802"
        ]
       ],
       "shape": {
        "columns": 1,
        "rows": 4
       }
      },
      "text/plain": [
       "categoria_presion\n",
       "Hipertensión Etapa 2    32.343234\n",
       "Elevada                 24.752475\n",
       "Hipertensión Etapa 1    23.102310\n",
       "Normal                  19.801980\n",
       "Name: proportion, dtype: float64"
      ]
     },
     "execution_count": 62,
     "metadata": {},
     "output_type": "execute_result"
    }
   ],
   "source": [
    "# Porcentajes\n",
    "df[\"categoria_presion\"].value_counts(normalize=True) * 100\n"
   ]
  },
  {
   "cell_type": "markdown",
   "metadata": {},
   "source": [
    "  ## Resumen\n",
    "\n",
    "\n",
    "\n",
    "  En este notebook hemos cubierto las operaciones fundamentales de pandas:\n",
    "\n",
    "\n",
    "\n",
    "  - **Carga y exploración inicial**: Entender la estructura y contenido de los datos\n",
    "\n",
    "  - **Selección y filtrado**: Acceder a subconjuntos específicos de datos\n",
    "\n",
    "  - **Transformación**: Crear nuevas variables y modificar existentes\n",
    "\n",
    "  - **Análisis estadístico**: Calcular métricas y encontrar patrones\n",
    "\n",
    "  - **Agrupación**: Resumir datos por categorías\n",
    "\n",
    "  - **Visualización**: Crear gráficos para entender mejor los datos\n",
    "\n",
    "  - **Exportación**: Guardar los resultados del análisis\n",
    "\n",
    "\n",
    "\n",
    "  Estos conceptos forman la base para cualquier análisis de datos con Python y pandas. La práctica constante con diferentes datasets te ayudará a dominar estas herramientas."
   ]
  },
  {
   "cell_type": "code",
   "execution_count": 63,
   "metadata": {},
   "outputs": [
    {
     "data": {
      "text/plain": [
       "'Ejecutando demostración de por qué accuracy no es suficiente...'"
      ]
     },
     "execution_count": 63,
     "metadata": {},
     "output_type": "execute_result"
    }
   ],
   "source": [
    "# Example of confusion matrix demonstration\n",
    "import numpy as np\n",
    "import pandas as pd\n",
    "import matplotlib.pyplot as plt\n",
    "import seaborn as sns\n",
    "from sklearn.metrics import confusion_matrix, classification_report\n",
    "\n",
    "# Set style for better visualization\n",
    "plt.style.use('seaborn-v0_8-darkgrid')\n",
    "sns.set_palette(\"husl\")\n",
    "\n",
    "def create_cancer_screening_example(\n",
    "    population=10000,\n",
    "    prevalence=0.005,  # 0.5% prevalence\n",
    "    sensitivity=0.90,   # 90% sensitivity (true positive rate)\n",
    "    specificity=0.95    # 95% specificity (true negative rate)\n",
    "):\n",
    "    \"\"\"\n",
    "    Generate synthetic confusion matrix for cancer screening\n",
    "    with low prevalence to demonstrate metric importance\n",
    "    \"\"\"\n",
    "    \n",
    "    # Calculate population splits\n",
    "    n_cancer = int(population * prevalence)\n",
    "    n_healthy = population - n_cancer\n",
    "    \n",
    "    # Display basic info\n",
    "    info_str = f\"\"\"EJEMPLO: Screening de Cáncer de Páncreas\n",
    "{'='*50}\n",
    "Población total: {population:,} pacientes\n",
    "Prevalencia: {prevalence*100:.1f}% ({n_cancer} casos reales)\n",
    "Pacientes sanos: {n_healthy:,}\n",
    "\n",
    "Características del test:\n",
    "Sensibilidad objetivo: {sensitivity*100:.0f}%\n",
    "Especificidad objetivo: {specificity*100:.0f}%\n",
    "\"\"\"\n",
    "    \n",
    "    # Calculate confusion matrix values\n",
    "    true_positive = int(n_cancer * sensitivity)\n",
    "    false_negative = n_cancer - true_positive\n",
    "    true_negative = int(n_healthy * specificity)\n",
    "    false_positive = n_healthy - true_negative\n",
    "    \n",
    "    # Create confusion matrix\n",
    "    cm = np.array([[true_positive, false_positive],\n",
    "                   [false_negative, true_negative]])\n",
    "    \n",
    "    # Display formatted confusion matrix\n",
    "    cm_str = f\"\"\"\n",
    "MATRIZ DE CONFUSIÓN:\n",
    "{'='*50}\n",
    "\n",
    "                    Predicción\n",
    "              Cáncer    No Cáncer    Total\n",
    "Realidad\n",
    "Cáncer         {true_positive:5d}      {false_negative:5d}     {n_cancer:5d}\n",
    "No Cáncer      {false_positive:5d}      {true_negative:5d}     {n_healthy:5d}\n",
    "Total          {true_positive+false_positive:5d}      {false_negative+true_negative:5d}    {population:5d}\n",
    "\"\"\"\n",
    "    \n",
    "    # Calculate metrics\n",
    "    accuracy = (true_positive + true_negative) / population\n",
    "    sensitivity_calc = true_positive / n_cancer if n_cancer > 0 else 0\n",
    "    specificity_calc = true_negative / n_healthy if n_healthy > 0 else 0\n",
    "    ppv = true_positive / (true_positive + false_positive) if (true_positive + false_positive) > 0 else 0\n",
    "    npv = true_negative / (true_negative + false_negative) if (true_negative + false_negative) > 0 else 0\n",
    "    f1 = 2 * (ppv * sensitivity_calc) / (ppv + sensitivity_calc) if (ppv + sensitivity_calc) > 0 else 0\n",
    "    \n",
    "    metrics_str = f\"\"\"\n",
    "{'='*50}\n",
    "MÉTRICAS DE EVALUACIÓN:\n",
    "{'='*50}\n",
    "\n",
    "✓ Accuracy: {accuracy*100:.1f}%\n",
    "  → Parece excelente, ¿verdad?\n",
    "\n",
    "✓ Sensibilidad (Recall): {sensitivity_calc*100:.1f}%\n",
    "  → Detectamos {true_positive} de {n_cancer} cánceres\n",
    "  → Perdemos {false_negative} pacientes con cáncer\n",
    "\n",
    "✓ Especificidad: {specificity_calc*100:.1f}%\n",
    "  → Identificamos correctamente {true_negative:,} de {n_healthy:,} sanos\n",
    "  → Generamos {false_positive} falsas alarmas\n",
    "\n",
    "✓ Valor Predictivo Positivo (Precision): {ppv*100:.1f}%\n",
    "  → Solo {true_positive} de {true_positive+false_positive} 'positivos' tienen cáncer\n",
    "  → ¡{(1-ppv)*100:.1f}% son falsas alarmas!\n",
    "\n",
    "✓ Valor Predictivo Negativo: {npv*100:.2f}%\n",
    "  → Si el test es negativo, casi seguro no hay cáncer\n",
    "\n",
    "✓ F1-Score: {f1*100:.1f}%\n",
    "  → Balance entre precision y recall\n",
    "\"\"\"\n",
    "    \n",
    "    # Comparison with naive classifier\n",
    "    naive_accuracy = n_healthy / population\n",
    "    comparison_str = f\"\"\"\n",
    "{'='*50}\n",
    "COMPARACIÓN CON CLASIFICADOR NAIVE:\n",
    "{'='*50}\n",
    "\n",
    "Si el modelo siempre predice 'No Cáncer':\n",
    "• Accuracy: {naive_accuracy*100:.1f}%\n",
    "• Sensibilidad: 0% (no detecta ningún cáncer)\n",
    "• Especificidad: 100%\n",
    "\n",
    "→ ¡Accuracy del {naive_accuracy*100:.1f}% pero completamente inútil!\n",
    "\"\"\"\n",
    "    \n",
    "    # Clinical impact\n",
    "    clinical_str = f\"\"\"\n",
    "{'='*50}\n",
    "IMPACTO CLÍNICO:\n",
    "{'='*50}\n",
    "\n",
    "• Por cada caso real de cáncer detectado:\n",
    "  → Se generan {false_positive/true_positive:.1f} falsas alarmas\n",
    "\n",
    "• De {true_positive+false_positive} pruebas positivas:\n",
    "  → {false_positive} pacientes sufrirán ansiedad innecesaria\n",
    "  → {false_positive} posibles biopsias innecesarias\n",
    "\n",
    "• De {n_cancer} casos reales de cáncer:\n",
    "  → {false_negative} no serán detectados (potencialmente fatal)\n",
    "\"\"\"\n",
    "    \n",
    "    # Create visualization\n",
    "    fig, axes = plt.subplots(2, 2, figsize=(14, 10))\n",
    "    \n",
    "    # Model confusion matrix\n",
    "    sns.heatmap(cm, annot=True, fmt='d', cmap='Blues', \n",
    "                xticklabels=['Predice:\\nCáncer', 'Predice:\\nNo Cáncer'],\n",
    "                yticklabels=['Real:\\nCáncer', 'Real:\\nNo Cáncer'],\n",
    "                ax=axes[0,0], cbar_kws={'label': 'Número de casos'},\n",
    "                annot_kws={'size': 14})\n",
    "    axes[0,0].set_title('Modelo ML Entrenado - Matriz de Confusión', fontsize=14, fontweight='bold')\n",
    "    axes[0,0].set_ylabel('Realidad', fontsize=12)\n",
    "    axes[0,0].set_xlabel('Predicción', fontsize=12)\n",
    "    \n",
    "    # Model metrics\n",
    "    metrics_names = ['Accuracy', 'Sensibilidad', 'Especificidad', 'VPP', 'VPN', 'F1-Score']\n",
    "    metrics_values = [accuracy*100, sensitivity_calc*100, specificity_calc*100, \n",
    "                     ppv*100, npv*100, f1*100]\n",
    "    colors = ['green' if v > 90 else 'orange' if v > 50 else 'red' for v in metrics_values]\n",
    "    \n",
    "    bars1 = axes[0,1].barh(metrics_names, metrics_values, color=colors, alpha=0.7)\n",
    "    axes[0,1].set_title('Modelo ML Entrenado - Métricas', fontsize=14, fontweight='bold')\n",
    "    axes[0,1].set_xlabel('Porcentaje (%)', fontsize=12)\n",
    "    axes[0,1].set_xlim(0, 105)\n",
    "    \n",
    "    for bar, value in zip(bars1, metrics_values):\n",
    "        axes[0,1].text(value + 1, bar.get_y() + bar.get_height()/2, \n",
    "                      f'{value:.1f}%', ha='left', va='center', fontsize=11, fontweight='bold')\n",
    "    \n",
    "    # Naive model confusion matrix\n",
    "    cm_naive = np.array([[0, 0], [n_cancer, n_healthy]])\n",
    "    \n",
    "    sns.heatmap(cm_naive, annot=True, fmt='d', cmap='Reds', \n",
    "                xticklabels=['Predice:\\nCáncer', 'Predice:\\nNo Cáncer'],\n",
    "                yticklabels=['Real:\\nCáncer', 'Real:\\nNo Cáncer'],\n",
    "                ax=axes[1,0], cbar_kws={'label': 'Número de casos'},\n",
    "                annot_kws={'size': 14})\n",
    "    axes[1,0].set_title('Modelo Naive (siempre \"No Cáncer\") - Matriz de Confusión', \n",
    "                        fontsize=14, fontweight='bold')\n",
    "    axes[1,0].set_ylabel('Realidad', fontsize=12)\n",
    "    axes[1,0].set_xlabel('Predicción', fontsize=12)\n",
    "    \n",
    "    # Naive metrics\n",
    "    naive_values = [naive_accuracy*100, 0, 100, 0, n_healthy/(n_healthy+n_cancer)*100, 0]\n",
    "    colors_naive = ['orange' if v > 90 else 'red' if v > 50 else 'darkred' for v in naive_values]\n",
    "    \n",
    "    bars2 = axes[1,1].barh(metrics_names, naive_values, color=colors_naive, alpha=0.7)\n",
    "    axes[1,1].set_title('Modelo Naive (siempre \"No Cáncer\") - Métricas', \n",
    "                        fontsize=14, fontweight='bold')\n",
    "    axes[1,1].set_xlabel('Porcentaje (%)', fontsize=12)\n",
    "    axes[1,1].set_xlim(0, 105)\n",
    "    \n",
    "    for bar, value in zip(bars2, naive_values):\n",
    "        if value > 0:\n",
    "            axes[1,1].text(value + 1, bar.get_y() + bar.get_height()/2, \n",
    "                          f'{value:.1f}%', ha='left', va='center', fontsize=11, fontweight='bold')\n",
    "        else:\n",
    "            axes[1,1].text(2, bar.get_y() + bar.get_height()/2, \n",
    "                          '0%', ha='left', va='center', fontsize=11, fontweight='bold', color='darkred')\n",
    "    \n",
    "    plt.suptitle(f'¿Por qué Accuracy no es suficiente?\\nCáncer con prevalencia {prevalence*100:.1f}%', \n",
    "                 fontsize=16, fontweight='bold')\n",
    "    plt.tight_layout(rect=[0, 0, 1, 0.96])\n",
    "    plt.show()\n",
    "    \n",
    "    # Final comparison\n",
    "    final_str = f\"\"\"\n",
    "{'='*60}\n",
    "COMPARACIÓN CRÍTICA:\n",
    "{'='*60}\n",
    "Modelo ML:    Accuracy={accuracy*100:.1f}%, Detecta {true_positive}/{n_cancer} cánceres\n",
    "Modelo Naive: Accuracy={naive_accuracy:.1f}%, Detecta 0/{n_cancer} cánceres\n",
    "\n",
    "→ ¡El modelo naive tiene mayor accuracy pero es inútil!\n",
    "→ No detecta ningún cáncer (sensibilidad = 0%)\n",
    "\"\"\"\n",
    "    \n",
    "    # Return all strings for display\n",
    "    return (info_str + cm_str + metrics_str + comparison_str + \n",
    "            clinical_str + final_str), cm, {\n",
    "        'accuracy': accuracy,\n",
    "        'sensitivity': sensitivity_calc,\n",
    "        'specificity': specificity_calc,\n",
    "        'ppv': ppv,\n",
    "        'npv': npv,\n",
    "        'f1': f1\n",
    "    }\n",
    "\n",
    "# Bonus demonstration: Why accuracy isn't enough\n",
    "\"Ejecutando demostración de por qué accuracy no es suficiente...\"\n"
   ]
  },
  {
   "cell_type": "code",
   "execution_count": 64,
   "metadata": {},
   "outputs": [
    {
     "data": {
      "image/png": "[encoded data removed]",
      "text/plain": [
       "<Figure size 1400x1000 with 6 Axes>"
      ]
     },
     "metadata": {},
     "output_type": "display_data"
    }
   ],
   "source": [
    "# Generate and display the cancer screening example\n",
    "result_text, cm, metrics = create_cancer_screening_example()\n"
   ]
  },
  {
   "cell_type": "code",
   "execution_count": 65,
   "metadata": {},
   "outputs": [
    {
     "data": {
      "application/vnd.microsoft.datawrangler.viewer.v0+json": {
       "columns": [
        {
         "name": "index",
         "rawType": "int64",
         "type": "integer"
        },
        {
         "name": "Escenario",
         "rawType": "object",
         "type": "string"
        },
        {
         "name": "Sensibilidad",
         "rawType": "object",
         "type": "string"
        },
        {
         "name": "Especificidad",
         "rawType": "object",
         "type": "string"
        },
        {
         "name": "Detecta_Cancer",
         "rawType": "object",
         "type": "string"
        },
        {
         "name": "Falsas_Alarmas",
         "rawType": "int64",
         "type": "integer"
        },
        {
         "name": "VPP",
         "rawType": "object",
         "type": "string"
        }
       ],
       "ref": "6db91fe3-f539-4674-a6d3-98b11403cb2f",
       "rows": [
        [
         "0",
         "Conservador (umbral alto)",
         "70%",
         "99%",
         "35/50",
         "100",
         "25.9%"
        ],
        [
         "1",
         "Balanceado (umbral medio)",
         "90%",
         "95%",
         "45/50",
         "498",
         "8.3%"
        ],
        [
         "2",
         "Agresivo (umbral bajo)",
         "99%",
         "80%",
         "49/50",
         "1990",
         "2.4%"
        ]
       ],
       "shape": {
        "columns": 6,
        "rows": 3
       }
      },
      "text/html": [
       "<div>\n",
       "<style scoped>\n",
       "    .dataframe tbody tr th:only-of-type {\n",
       "        vertical-align: middle;\n",
       "    }\n",
       "\n",
       "    .dataframe tbody tr th {\n",
       "        vertical-align: top;\n",
       "    }\n",
       "\n",
       "    .dataframe thead th {\n",
       "        text-align: right;\n",
       "    }\n",
       "</style>\n",
       "<table border=\"1\" class=\"dataframe\">\n",
       "  <thead>\n",
       "    <tr style=\"text-align: right;\">\n",
       "      <th></th>\n",
       "      <th>Escenario</th>\n",
       "      <th>Sensibilidad</th>\n",
       "      <th>Especificidad</th>\n",
       "      <th>Detecta_Cancer</th>\n",
       "      <th>Falsas_Alarmas</th>\n",
       "      <th>VPP</th>\n",
       "    </tr>\n",
       "  </thead>\n",
       "  <tbody>\n",
       "    <tr>\n",
       "      <th>0</th>\n",
       "      <td>Conservador (umbral alto)</td>\n",
       "      <td>70%</td>\n",
       "      <td>99%</td>\n",
       "      <td>35/50</td>\n",
       "      <td>100</td>\n",
       "      <td>25.9%</td>\n",
       "    </tr>\n",
       "    <tr>\n",
       "      <th>1</th>\n",
       "      <td>Balanceado (umbral medio)</td>\n",
       "      <td>90%</td>\n",
       "      <td>95%</td>\n",
       "      <td>45/50</td>\n",
       "      <td>498</td>\n",
       "      <td>8.3%</td>\n",
       "    </tr>\n",
       "    <tr>\n",
       "      <th>2</th>\n",
       "      <td>Agresivo (umbral bajo)</td>\n",
       "      <td>99%</td>\n",
       "      <td>80%</td>\n",
       "      <td>49/50</td>\n",
       "      <td>1990</td>\n",
       "      <td>2.4%</td>\n",
       "    </tr>\n",
       "  </tbody>\n",
       "</table>\n",
       "</div>"
      ],
      "text/plain": [
       "                   Escenario Sensibilidad Especificidad Detecta_Cancer  \\\n",
       "0  Conservador (umbral alto)          70%           99%          35/50   \n",
       "1  Balanceado (umbral medio)          90%           95%          45/50   \n",
       "2     Agresivo (umbral bajo)          99%           80%          49/50   \n",
       "\n",
       "   Falsas_Alarmas    VPP  \n",
       "0             100  25.9%  \n",
       "1             498   8.3%  \n",
       "2            1990   2.4%  "
      ]
     },
     "execution_count": 65,
     "metadata": {},
     "output_type": "execute_result"
    }
   ],
   "source": [
    "# Show threshold comparison\n",
    "def compare_thresholds():\n",
    "    \"\"\"Show how different thresholds affect metrics\"\"\"\n",
    "    scenarios = [\n",
    "        (\"Conservador (umbral alto)\", 0.70, 0.99),\n",
    "        (\"Balanceado (umbral medio)\", 0.90, 0.95),\n",
    "        (\"Agresivo (umbral bajo)\", 0.99, 0.80)\n",
    "    ]\n",
    "    \n",
    "    results = []\n",
    "    for name, sens, spec in scenarios:\n",
    "        tp = int(50 * sens)\n",
    "        fn = 50 - tp\n",
    "        tn = int(9950 * spec)\n",
    "        fp = 9950 - tn\n",
    "        \n",
    "        acc = (tp + tn) / 10000\n",
    "        ppv = tp / (tp + fp) if (tp + fp) > 0 else 0\n",
    "        \n",
    "        results.append({\n",
    "            'Escenario': name,\n",
    "            'Sensibilidad': f\"{sens*100:.0f}%\",\n",
    "            'Especificidad': f\"{spec*100:.0f}%\",\n",
    "            'Detecta_Cancer': f\"{tp}/50\",\n",
    "            'Falsas_Alarmas': fp,\n",
    "            'VPP': f\"{ppv*100:.1f}%\"\n",
    "        })\n",
    "    \n",
    "    return pd.DataFrame(results)\n",
    "\n",
    "compare_thresholds()\n"
   ]
  },
  {
   "cell_type": "code",
   "execution_count": 66,
   "metadata": {},
   "outputs": [
    {
     "data": {
      "text/plain": [
       "'\\nPUNTOS CLAVE APRENDIDOS EN ESTE NOTEBOOK:\\n\\n📊 PANDAS FUNDAMENTALS:\\n• Cargar, explorar y entender datasets médicos\\n• Seleccionar, filtrar y transformar datos eficientemente\\n• Crear nuevas variables y categorías\\n• Manejar valores nulos apropiadamente\\n• Agrupar y resumir información por categorías\\n• Visualizar patrones en los datos\\n• Exportar resultados para uso posterior\\n\\n🏥 APLICACIÓN MÉDICA:\\n• Análisis de factores de riesgo cardiovascular\\n• Categorización de pacientes por variables clínicas\\n• Identificación de patrones en datos de salud\\n• Creación de índices de riesgo personalizados\\n\\n📈 MÉTRICAS Y EVALUACIÓN:\\n• Por qué accuracy puede ser engañoso\\n• Importancia de sensibilidad vs especificidad\\n• Valor predictivo positivo en screening\\n• Impacto clínico de falsos positivos/negativos\\n\\n🔧 PRÓXIMOS PASOS:\\n• Practicar con otros datasets médicos\\n• Explorar visualizaciones más avanzadas\\n• Aprender técnicas de machine learning\\n• Desarrollar dashboards interactivos\\n'"
      ]
     },
     "execution_count": 66,
     "metadata": {},
     "output_type": "execute_result"
    }
   ],
   "source": [
    "# Key takeaways for students\n",
    "takeaways = \"\"\"\n",
    "PUNTOS CLAVE APRENDIDOS EN ESTE NOTEBOOK:\n",
    "\n",
    "📊 PANDAS FUNDAMENTALS:\n",
    "• Cargar, explorar y entender datasets médicos\n",
    "• Seleccionar, filtrar y transformar datos eficientemente\n",
    "• Crear nuevas variables y categorías\n",
    "• Manejar valores nulos apropiadamente\n",
    "• Agrupar y resumir información por categorías\n",
    "• Visualizar patrones en los datos\n",
    "• Exportar resultados para uso posterior\n",
    "\n",
    "🏥 APLICACIÓN MÉDICA:\n",
    "• Análisis de factores de riesgo cardiovascular\n",
    "• Categorización de pacientes por variables clínicas\n",
    "• Identificación de patrones en datos de salud\n",
    "• Creación de índices de riesgo personalizados\n",
    "\n",
    "📈 MÉTRICAS Y EVALUACIÓN:\n",
    "• Por qué accuracy puede ser engañoso\n",
    "• Importancia de sensibilidad vs especificidad\n",
    "• Valor predictivo positivo en screening\n",
    "• Impacto clínico de falsos positivos/negativos\n",
    "\n",
    "🔧 PRÓXIMOS PASOS:\n",
    "• Practicar con otros datasets médicos\n",
    "• Explorar visualizaciones más avanzadas\n",
    "• Aprender técnicas de machine learning\n",
    "• Desarrollar dashboards interactivos\n",
    "\"\"\"\n",
    "\n",
    "takeaways"
   ]
  }
 ],
 "metadata": {
  "kernelspec": {
   "display_name": "marc_priv",
   "language": "python",
   "name": "python3"
  },
  "language_info": {
   "codemirror_mode": {
    "name": "ipython",
    "version": 3
   },
   "file_extension": ".py",
   "mimetype": "text/x-python",
   "name": "python",
   "nbconvert_exporter": "python",
   "pygments_lexer": "ipython3",
   "version": "3.12.7"
  }
 },
 "nbformat": 4,
 "nbformat_minor": 2
}
