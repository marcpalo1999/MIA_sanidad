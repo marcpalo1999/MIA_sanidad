{
 "cells": [
  {
   "cell_type": "markdown",
   "metadata": {},
   "source": [
    "  <a href=\"https://colab.research.google.com/github/marcpalo1999/MIA_sanidad/blob/main/2_2_Machine_Learning.ipynb\" target=\"_parent\"><img src=\"https://colab.research.google.com/assets/colab-badge.svg\" alt=\"Open In Colab\"/></a>"
   ]
  },
  {
   "cell_type": "markdown",
   "metadata": {},
   "source": [
    " # Aprendizaje Supervisado para Clasificación Médica: Predicción de Enfermedad Coronaria\n",
    "\n",
    "\n",
    "\n",
    " ## Objetivos\n",
    "\n",
    " En este script construiremos modelos de Machine Learning para clasificación médica usando el dataset de enfermedades cardíacas (nivel de estenosis coronaria) para predecir qué pacientes necesitan cateterismo cardíaco y cuales se lo pueden ahorrar."
   ]
  },
  {
   "cell_type": "code",
   "execution_count": 1,
   "metadata": {},
   "outputs": [],
   "source": [
    "# Importar librerías necesarias\n",
    "import pandas as pd\n",
    "import numpy as np\n",
    "import matplotlib.pyplot as plt\n",
    "import seaborn as sns\n",
    "import warnings\n",
    "warnings.filterwarnings('ignore')\n",
    "from sklearn.model_selection import train_test_split, cross_val_score\n",
    "from sklearn.preprocessing import StandardScaler\n",
    "from sklearn.impute import SimpleImputer\n",
    "from sklearn.metrics import (confusion_matrix, accuracy_score, precision_score, \n",
    "                             recall_score, f1_score, classification_report, roc_curve, auc)\n",
    "\n",
    "# Modelos de clasificación\n",
    "from sklearn.linear_model import LogisticRegression\n",
    "from sklearn.tree import DecisionTreeClassifier\n",
    "from sklearn.ensemble import RandomForestClassifier\n",
    "from sklearn.neighbors import KNeighborsClassifier\n",
    "from sklearn.dummy import DummyClassifier\n",
    "\n"
   ]
  },
  {
   "cell_type": "markdown",
   "metadata": {},
   "source": [
    " ---\n",
    "\n",
    " # SECCIÓN 0: Cargar los datos"
   ]
  },
  {
   "cell_type": "code",
   "execution_count": 2,
   "metadata": {},
   "outputs": [
    {
     "name": "stdout",
     "output_type": "stream",
     "text": [
      "Dataset cargado: 303 pacientes, 14 variables\n"
     ]
    },
    {
     "data": {
      "application/vnd.microsoft.datawrangler.viewer.v0+json": {
       "columns": [
        {
         "name": "index",
         "rawType": "int64",
         "type": "integer"
        },
        {
         "name": "age",
         "rawType": "int64",
         "type": "integer"
        },
        {
         "name": "sex",
         "rawType": "int64",
         "type": "integer"
        },
        {
         "name": "cp",
         "rawType": "int64",
         "type": "integer"
        },
        {
         "name": "trestbps",
         "rawType": "int64",
         "type": "integer"
        },
        {
         "name": "chol",
         "rawType": "int64",
         "type": "integer"
        },
        {
         "name": "fbs",
         "rawType": "int64",
         "type": "integer"
        },
        {
         "name": "restecg",
         "rawType": "int64",
         "type": "integer"
        },
        {
         "name": "thalach",
         "rawType": "int64",
         "type": "integer"
        },
        {
         "name": "exang",
         "rawType": "int64",
         "type": "integer"
        },
        {
         "name": "oldpeak",
         "rawType": "float64",
         "type": "float"
        },
        {
         "name": "slope",
         "rawType": "float64",
         "type": "float"
        },
        {
         "name": "ca",
         "rawType": "float64",
         "type": "float"
        },
        {
         "name": "thal",
         "rawType": "float64",
         "type": "float"
        },
        {
         "name": "num",
         "rawType": "float64",
         "type": "float"
        }
       ],
       "ref": "8b4496cf-4fd0-4c9f-8866-2b49012a7cc7",
       "rows": [
        [
         "0",
         "63",
         "1",
         "1",
         "145",
         "233",
         "1",
         "2",
         "150",
         "0",
         "2.3",
         "3.0",
         "0.0",
         "6.0",
         "0.0"
        ],
        [
         "1",
         "67",
         "1",
         "4",
         "160",
         "286",
         "0",
         "2",
         "108",
         "1",
         "1.5",
         "2.0",
         "3.0",
         "3.0",
         "2.0"
        ],
        [
         "2",
         "67",
         "1",
         "4",
         "120",
         "229",
         "0",
         "2",
         "129",
         "1",
         "2.6",
         "2.0",
         "2.0",
         "7.0",
         "1.0"
        ],
        [
         "3",
         "37",
         "1",
         "3",
         "130",
         "250",
         "0",
         "0",
         "187",
         "0",
         "3.5",
         "3.0",
         "0.0",
         "3.0",
         "0.0"
        ],
        [
         "4",
         "41",
         "0",
         "2",
         "130",
         "204",
         "0",
         "2",
         "172",
         "0",
         "1.4",
         "1.0",
         "0.0",
         "3.0",
         "0.0"
        ]
       ],
       "shape": {
        "columns": 14,
        "rows": 5
       }
      },
      "text/html": [
       "<div>\n",
       "<style scoped>\n",
       "    .dataframe tbody tr th:only-of-type {\n",
       "        vertical-align: middle;\n",
       "    }\n",
       "\n",
       "    .dataframe tbody tr th {\n",
       "        vertical-align: top;\n",
       "    }\n",
       "\n",
       "    .dataframe thead th {\n",
       "        text-align: right;\n",
       "    }\n",
       "</style>\n",
       "<table border=\"1\" class=\"dataframe\">\n",
       "  <thead>\n",
       "    <tr style=\"text-align: right;\">\n",
       "      <th></th>\n",
       "      <th>age</th>\n",
       "      <th>sex</th>\n",
       "      <th>cp</th>\n",
       "      <th>trestbps</th>\n",
       "      <th>chol</th>\n",
       "      <th>fbs</th>\n",
       "      <th>restecg</th>\n",
       "      <th>thalach</th>\n",
       "      <th>exang</th>\n",
       "      <th>oldpeak</th>\n",
       "      <th>slope</th>\n",
       "      <th>ca</th>\n",
       "      <th>thal</th>\n",
       "      <th>num</th>\n",
       "    </tr>\n",
       "  </thead>\n",
       "  <tbody>\n",
       "    <tr>\n",
       "      <th>0</th>\n",
       "      <td>63</td>\n",
       "      <td>1</td>\n",
       "      <td>1</td>\n",
       "      <td>145</td>\n",
       "      <td>233</td>\n",
       "      <td>1</td>\n",
       "      <td>2</td>\n",
       "      <td>150</td>\n",
       "      <td>0</td>\n",
       "      <td>2.3</td>\n",
       "      <td>3.0</td>\n",
       "      <td>0.0</td>\n",
       "      <td>6.0</td>\n",
       "      <td>0.0</td>\n",
       "    </tr>\n",
       "    <tr>\n",
       "      <th>1</th>\n",
       "      <td>67</td>\n",
       "      <td>1</td>\n",
       "      <td>4</td>\n",
       "      <td>160</td>\n",
       "      <td>286</td>\n",
       "      <td>0</td>\n",
       "      <td>2</td>\n",
       "      <td>108</td>\n",
       "      <td>1</td>\n",
       "      <td>1.5</td>\n",
       "      <td>2.0</td>\n",
       "      <td>3.0</td>\n",
       "      <td>3.0</td>\n",
       "      <td>2.0</td>\n",
       "    </tr>\n",
       "    <tr>\n",
       "      <th>2</th>\n",
       "      <td>67</td>\n",
       "      <td>1</td>\n",
       "      <td>4</td>\n",
       "      <td>120</td>\n",
       "      <td>229</td>\n",
       "      <td>0</td>\n",
       "      <td>2</td>\n",
       "      <td>129</td>\n",
       "      <td>1</td>\n",
       "      <td>2.6</td>\n",
       "      <td>2.0</td>\n",
       "      <td>2.0</td>\n",
       "      <td>7.0</td>\n",
       "      <td>1.0</td>\n",
       "    </tr>\n",
       "    <tr>\n",
       "      <th>3</th>\n",
       "      <td>37</td>\n",
       "      <td>1</td>\n",
       "      <td>3</td>\n",
       "      <td>130</td>\n",
       "      <td>250</td>\n",
       "      <td>0</td>\n",
       "      <td>0</td>\n",
       "      <td>187</td>\n",
       "      <td>0</td>\n",
       "      <td>3.5</td>\n",
       "      <td>3.0</td>\n",
       "      <td>0.0</td>\n",
       "      <td>3.0</td>\n",
       "      <td>0.0</td>\n",
       "    </tr>\n",
       "    <tr>\n",
       "      <th>4</th>\n",
       "      <td>41</td>\n",
       "      <td>0</td>\n",
       "      <td>2</td>\n",
       "      <td>130</td>\n",
       "      <td>204</td>\n",
       "      <td>0</td>\n",
       "      <td>2</td>\n",
       "      <td>172</td>\n",
       "      <td>0</td>\n",
       "      <td>1.4</td>\n",
       "      <td>1.0</td>\n",
       "      <td>0.0</td>\n",
       "      <td>3.0</td>\n",
       "      <td>0.0</td>\n",
       "    </tr>\n",
       "  </tbody>\n",
       "</table>\n",
       "</div>"
      ],
      "text/plain": [
       "   age  sex  cp  trestbps  chol  fbs  restecg  thalach  exang  oldpeak  slope  \\\n",
       "0   63    1   1       145   233    1        2      150      0      2.3    3.0   \n",
       "1   67    1   4       160   286    0        2      108      1      1.5    2.0   \n",
       "2   67    1   4       120   229    0        2      129      1      2.6    2.0   \n",
       "3   37    1   3       130   250    0        0      187      0      3.5    3.0   \n",
       "4   41    0   2       130   204    0        2      172      0      1.4    1.0   \n",
       "\n",
       "    ca  thal  num  \n",
       "0  0.0   6.0  0.0  \n",
       "1  3.0   3.0  2.0  \n",
       "2  2.0   7.0  1.0  \n",
       "3  0.0   3.0  0.0  \n",
       "4  0.0   3.0  0.0  "
      ]
     },
     "execution_count": 2,
     "metadata": {},
     "output_type": "execute_result"
    }
   ],
   "source": [
    "# Cargar el dataset\n",
    "df = pd.read_csv(\"./data/heart_disease_dataset_con_nulos.csv\")\n",
    "\n",
    "print(f\"Dataset cargado: {df.shape[0]} pacientes, {df.shape[1]} variables\")\n",
    "df.head()\n"
   ]
  },
  {
   "cell_type": "markdown",
   "metadata": {},
   "source": [
    " # SECCIÓN 0.1: Resumen Descripción del Problema Clínico\n",
    "\n",
    " Para un entendimiento completo del problema, leed el archivo markdown adjunto titulado `2_2_ML_Explicación_Datos.md`.\n",
    "\n",
    "\n",
    "\n",
    " **Contexto del problema:**\n",
    "\n",
    "\n",
    "\n",
    " La secuencia diagnóstica actual para enfermedad coronaria es:\n",
    "\n",
    " 1. Evaluación clínica (edad, síntomas, factores de riesgo)\n",
    "\n",
    " 2. ECG en reposo\n",
    "\n",
    " 3. Prueba de esfuerzo con ECG\n",
    "\n",
    "      - Si es ambigua → Gammagrafía cardíaca (mínimamente invasiva), para descartar\n",
    "         \n",
    "         - si la gammagrafia es positiva vamos a cateterismo terapeutico\n",
    "         - si es gammagrafia es negativa dejamos en seguimiento/profilaxis \n",
    "\n",
    "      - Si positiva → Cateterismo, primeramente diagnostico (INVASIVO, riesgos, coste alto ~3000€)\n",
    "\n",
    "\n",
    "\n",
    " **Problema clínico:**\n",
    "\n",
    " - Muchos pacientes se someten a cateterismo innecesariamente\n",
    "\n",
    " - El cateterismo tiene riesgos (2% complicaciones: hematomas, nefropatía, etc.)\n",
    "\n",
    " - Alto coste económico\n",
    "\n",
    "\n",
    "\n",
    " **Solución propuesta con ML:**\n",
    "\n",
    " Predecir el resultado del cateterismo usando solo las pruebas no invasivas previas,\n",
    "\n",
    " para reducir cateterismos innecesarios manteniendo alta sensibilidad (no perder casos reales de enfermedad).\n",
    "\n",
    "\n",
    "\n",
    " **Dos estrategias de modelado:**\n",
    "\n",
    "\n",
    "\n",
    " 1. **Modelo Básico**: Solo consulta + ECG + prueba esfuerzo (aplicable a TODOS los pacientes)\n",
    "\n",
    "    - Variables: edad, sexo, tipo dolor torácico, presión arterial, colesterol, ECG reposo, resultados prueba esfuerzo\n",
    "\n",
    "    - Objetivo: Screening inicial para evitar cateterismos innecesarios\n",
    "\n",
    "\n",
    "\n",
    " 2. **Modelo Completo**: Incluye gammagrafía (solo para casos equívocos)\n",
    "\n",
    "    - Variables: todas las anteriores + resultado gammagrafía (thal)\n",
    "\n",
    "    - Objetivo: Optimizar decisión cuando ya se realizó gammagrafía\n",
    "\n",
    "\n",
    "\n",
    " **Variable excluida por data leakage:**\n",
    "\n",
    " - `ca` (número de vasos obstruidos visualizados en fluoroscopia) se obtiene DURANTE el cateterismo\n",
    "\n",
    " - Usar `ca` para predecir `num` (resultado cateterismo) es circular, ya que ambas se miden simultáneamente\n",
    "\n",
    " - Incluirla sería como hacer trampa: predecir el resultado usando información del mismo procedimiento\n",
    "\n",
    "\n",
    "\n",
    " **Binarización del target:**\n",
    "\n",
    " - Variable original `num`: 0 (sin obstrucción coronatia), 1-4 (diferentes grados de obstruccion en diferentes cavidades)\n",
    "\n",
    " - Simplificamos a binario: 0 = no necesita cateterismo, 1 = necesita cateterismo\n",
    "\n",
    " - Razón clínica: la decisión es binaria (hacer/no hacer cateterismo), no gradual"
   ]
  },
  {
   "cell_type": "markdown",
   "metadata": {},
   "source": [
    " ---\n",
    "\n",
    " # SECCIÓN 1: Entendiendo el Problema desde ML\n",
    "\n",
    "\n",
    "\n",
    " **Tipo de problema:**\n",
    "\n",
    " - Supervised Learning: tenemos variable objetivo (target) para entrenar\n",
    "\n",
    " - Classification: la variable objetivo es categórica (enfermedad: sí/no)\n",
    "\n",
    "\n",
    "\n",
    " **Objetivo:** Dado un nuevo paciente con sus características clínicas, predecir si tiene\n",
    "\n",
    " enfermedad coronaria significativa que requiera cateterismo."
   ]
  },
  {
   "cell_type": "code",
   "execution_count": 3,
   "metadata": {},
   "outputs": [
    {
     "name": "stdout",
     "output_type": "stream",
     "text": [
      "Distribución original de 'num':\n",
      "num\n",
      "0.0    151\n",
      "1.0     55\n",
      "2.0     36\n",
      "3.0     34\n",
      "4.0     11\n",
      "Name: count, dtype: int64\n",
      "\n",
      "Distribución binaria (target):\n",
      "target\n",
      "0    167\n",
      "1    136\n",
      "Name: count, dtype: int64\n",
      "\n",
      "Prevalencia de enfermedad: 44.9%\n"
     ]
    }
   ],
   "source": [
    "# Analizar variable objetivo 'num'\n",
    "print(\"Distribución original de 'num':\")\n",
    "print(df['num'].value_counts().sort_index())\n",
    "\n",
    "# Convertir a problema binario, ademas ya codificamos 0 como no enfermedad y 1 como enfermedad, no con strings, ya que si fuesen strings tendriamos que pasarlo a 0/1\n",
    "df['target'] = (df['num'] > 0).astype(int)\n",
    "\n",
    "print(\"\\nDistribución binaria (target):\")\n",
    "print(df['target'].value_counts())\n",
    "print(f\"\\nPrevalencia de enfermedad: {df['target'].mean()*100:.1f}%\")\n"
   ]
  },
  {
   "cell_type": "markdown",
   "metadata": {},
   "source": [
    " **Observación:** El dataset está relativamente balanceado (~45% con enfermedad).\n",
    "\n",
    " Esto es favorable para el aprendizaje del modelo, aunque no refleja la prevalencia\n",
    "\n",
    " real en screening poblacional (sería mucho menor). Estos pacientes ya fueron\n",
    "\n",
    " seleccionados para cateterismo basándose en criterio clínico previo."
   ]
  },
  {
   "cell_type": "markdown",
   "metadata": {},
   "source": [
    " ---\n",
    "\n",
    " # SECCIÓN 2: Análisis Exploratorio Rápido"
   ]
  },
  {
   "cell_type": "code",
   "execution_count": 4,
   "metadata": {},
   "outputs": [
    {
     "name": "stdout",
     "output_type": "stream",
     "text": [
      "<class 'pandas.core.frame.DataFrame'>\n",
      "RangeIndex: 303 entries, 0 to 302\n",
      "Data columns (total 15 columns):\n",
      " #   Column    Non-Null Count  Dtype  \n",
      "---  ------    --------------  -----  \n",
      " 0   age       303 non-null    int64  \n",
      " 1   sex       303 non-null    int64  \n",
      " 2   cp        303 non-null    int64  \n",
      " 3   trestbps  303 non-null    int64  \n",
      " 4   chol      303 non-null    int64  \n",
      " 5   fbs       303 non-null    int64  \n",
      " 6   restecg   303 non-null    int64  \n",
      " 7   thalach   303 non-null    int64  \n",
      " 8   exang     303 non-null    int64  \n",
      " 9   oldpeak   303 non-null    float64\n",
      " 10  slope     288 non-null    float64\n",
      " 11  ca        284 non-null    float64\n",
      " 12  thal      286 non-null    float64\n",
      " 13  num       287 non-null    float64\n",
      " 14  target    303 non-null    int64  \n",
      "dtypes: float64(5), int64(10)\n",
      "memory usage: 35.6 KB\n"
     ]
    }
   ],
   "source": [
    "# Información general del dataset\n",
    "df.info()\n"
   ]
  },
  {
   "cell_type": "code",
   "execution_count": 5,
   "metadata": {},
   "outputs": [
    {
     "name": "stdout",
     "output_type": "stream",
     "text": [
      "Número de missing values por columna:\n",
      "ca          19\n",
      "thal        17\n",
      "num         16\n",
      "slope       15\n",
      "age          0\n",
      "sex          0\n",
      "cp           0\n",
      "trestbps     0\n",
      "chol         0\n",
      "fbs          0\n",
      "restecg      0\n",
      "thalach      0\n",
      "exang        0\n",
      "oldpeak      0\n",
      "target       0\n",
      "dtype: int64\n"
     ]
    }
   ],
   "source": [
    "# Revisar valores nulos\n",
    "missing_counts = df.isna().sum().sort_values(ascending=False)\n",
    "print(\"Número de missing values por columna:\")\n",
    "print(missing_counts)\n",
    "\n",
    "\n",
    "\n"
   ]
  },
  {
   "cell_type": "code",
   "execution_count": 6,
   "metadata": {},
   "outputs": [
    {
     "data": {
      "application/vnd.microsoft.datawrangler.viewer.v0+json": {
       "columns": [
        {
         "name": "index",
         "rawType": "object",
         "type": "string"
        },
        {
         "name": "age",
         "rawType": "float64",
         "type": "float"
        },
        {
         "name": "sex",
         "rawType": "float64",
         "type": "float"
        },
        {
         "name": "cp",
         "rawType": "float64",
         "type": "float"
        },
        {
         "name": "trestbps",
         "rawType": "float64",
         "type": "float"
        },
        {
         "name": "chol",
         "rawType": "float64",
         "type": "float"
        },
        {
         "name": "fbs",
         "rawType": "float64",
         "type": "float"
        },
        {
         "name": "restecg",
         "rawType": "float64",
         "type": "float"
        },
        {
         "name": "thalach",
         "rawType": "float64",
         "type": "float"
        },
        {
         "name": "exang",
         "rawType": "float64",
         "type": "float"
        },
        {
         "name": "oldpeak",
         "rawType": "float64",
         "type": "float"
        },
        {
         "name": "slope",
         "rawType": "float64",
         "type": "float"
        },
        {
         "name": "ca",
         "rawType": "float64",
         "type": "float"
        },
        {
         "name": "thal",
         "rawType": "float64",
         "type": "float"
        },
        {
         "name": "num",
         "rawType": "float64",
         "type": "float"
        },
        {
         "name": "target",
         "rawType": "float64",
         "type": "float"
        }
       ],
       "ref": "c9ea712d-d61c-4122-8a5f-c8c58c58e00e",
       "rows": [
        [
         "count",
         "303.0",
         "303.0",
         "303.0",
         "303.0",
         "303.0",
         "303.0",
         "303.0",
         "303.0",
         "303.0",
         "303.0",
         "288.0",
         "284.0",
         "286.0",
         "287.0",
         "303.0"
        ],
        [
         "mean",
         "54.43894389438944",
         "0.6798679867986799",
         "3.1584158415841586",
         "131.68976897689768",
         "246.69306930693068",
         "0.1485148514851485",
         "0.9900990099009901",
         "149.6072607260726",
         "0.32673267326732675",
         "1.0396039603960396",
         "1.5972222222222223",
         "0.6830985915492958",
         "4.685314685314685",
         "0.9512195121951219",
         "0.44884488448844884"
        ],
        [
         "std",
         "9.038662442446743",
         "0.4672988277701313",
         "0.9601256119600123",
         "17.59974772958769",
         "51.776917542637015",
         "0.35619787492797605",
         "0.9949712915251797",
         "22.875003276980376",
         "0.46979446452231716",
         "1.161075022068634",
         "0.6226776442936266",
         "0.9351383058257959",
         "1.930074375149347",
         "1.2137283960911858",
         "0.4981990602902385"
        ],
        [
         "min",
         "29.0",
         "0.0",
         "1.0",
         "94.0",
         "126.0",
         "0.0",
         "0.0",
         "71.0",
         "0.0",
         "0.0",
         "1.0",
         "0.0",
         "3.0",
         "0.0",
         "0.0"
        ],
        [
         "25%",
         "48.0",
         "0.0",
         "3.0",
         "120.0",
         "211.0",
         "0.0",
         "0.0",
         "133.5",
         "0.0",
         "0.0",
         "1.0",
         "0.0",
         "3.0",
         "0.0",
         "0.0"
        ],
        [
         "50%",
         "56.0",
         "1.0",
         "3.0",
         "130.0",
         "241.0",
         "0.0",
         "1.0",
         "153.0",
         "0.0",
         "0.8",
         "2.0",
         "0.0",
         "3.0",
         "0.0",
         "0.0"
        ],
        [
         "75%",
         "61.0",
         "1.0",
         "4.0",
         "140.0",
         "275.0",
         "0.0",
         "2.0",
         "166.0",
         "1.0",
         "1.6",
         "2.0",
         "1.0",
         "7.0",
         "2.0",
         "1.0"
        ],
        [
         "max",
         "77.0",
         "1.0",
         "4.0",
         "200.0",
         "564.0",
         "1.0",
         "2.0",
         "202.0",
         "1.0",
         "6.2",
         "3.0",
         "3.0",
         "7.0",
         "4.0",
         "1.0"
        ]
       ],
       "shape": {
        "columns": 15,
        "rows": 8
       }
      },
      "text/html": [
       "<div>\n",
       "<style scoped>\n",
       "    .dataframe tbody tr th:only-of-type {\n",
       "        vertical-align: middle;\n",
       "    }\n",
       "\n",
       "    .dataframe tbody tr th {\n",
       "        vertical-align: top;\n",
       "    }\n",
       "\n",
       "    .dataframe thead th {\n",
       "        text-align: right;\n",
       "    }\n",
       "</style>\n",
       "<table border=\"1\" class=\"dataframe\">\n",
       "  <thead>\n",
       "    <tr style=\"text-align: right;\">\n",
       "      <th></th>\n",
       "      <th>age</th>\n",
       "      <th>sex</th>\n",
       "      <th>cp</th>\n",
       "      <th>trestbps</th>\n",
       "      <th>chol</th>\n",
       "      <th>fbs</th>\n",
       "      <th>restecg</th>\n",
       "      <th>thalach</th>\n",
       "      <th>exang</th>\n",
       "      <th>oldpeak</th>\n",
       "      <th>slope</th>\n",
       "      <th>ca</th>\n",
       "      <th>thal</th>\n",
       "      <th>num</th>\n",
       "      <th>target</th>\n",
       "    </tr>\n",
       "  </thead>\n",
       "  <tbody>\n",
       "    <tr>\n",
       "      <th>count</th>\n",
       "      <td>303.000000</td>\n",
       "      <td>303.000000</td>\n",
       "      <td>303.000000</td>\n",
       "      <td>303.000000</td>\n",
       "      <td>303.000000</td>\n",
       "      <td>303.000000</td>\n",
       "      <td>303.000000</td>\n",
       "      <td>303.000000</td>\n",
       "      <td>303.000000</td>\n",
       "      <td>303.000000</td>\n",
       "      <td>288.000000</td>\n",
       "      <td>284.000000</td>\n",
       "      <td>286.000000</td>\n",
       "      <td>287.000000</td>\n",
       "      <td>303.000000</td>\n",
       "    </tr>\n",
       "    <tr>\n",
       "      <th>mean</th>\n",
       "      <td>54.438944</td>\n",
       "      <td>0.679868</td>\n",
       "      <td>3.158416</td>\n",
       "      <td>131.689769</td>\n",
       "      <td>246.693069</td>\n",
       "      <td>0.148515</td>\n",
       "      <td>0.990099</td>\n",
       "      <td>149.607261</td>\n",
       "      <td>0.326733</td>\n",
       "      <td>1.039604</td>\n",
       "      <td>1.597222</td>\n",
       "      <td>0.683099</td>\n",
       "      <td>4.685315</td>\n",
       "      <td>0.951220</td>\n",
       "      <td>0.448845</td>\n",
       "    </tr>\n",
       "    <tr>\n",
       "      <th>std</th>\n",
       "      <td>9.038662</td>\n",
       "      <td>0.467299</td>\n",
       "      <td>0.960126</td>\n",
       "      <td>17.599748</td>\n",
       "      <td>51.776918</td>\n",
       "      <td>0.356198</td>\n",
       "      <td>0.994971</td>\n",
       "      <td>22.875003</td>\n",
       "      <td>0.469794</td>\n",
       "      <td>1.161075</td>\n",
       "      <td>0.622678</td>\n",
       "      <td>0.935138</td>\n",
       "      <td>1.930074</td>\n",
       "      <td>1.213728</td>\n",
       "      <td>0.498199</td>\n",
       "    </tr>\n",
       "    <tr>\n",
       "      <th>min</th>\n",
       "      <td>29.000000</td>\n",
       "      <td>0.000000</td>\n",
       "      <td>1.000000</td>\n",
       "      <td>94.000000</td>\n",
       "      <td>126.000000</td>\n",
       "      <td>0.000000</td>\n",
       "      <td>0.000000</td>\n",
       "      <td>71.000000</td>\n",
       "      <td>0.000000</td>\n",
       "      <td>0.000000</td>\n",
       "      <td>1.000000</td>\n",
       "      <td>0.000000</td>\n",
       "      <td>3.000000</td>\n",
       "      <td>0.000000</td>\n",
       "      <td>0.000000</td>\n",
       "    </tr>\n",
       "    <tr>\n",
       "      <th>25%</th>\n",
       "      <td>48.000000</td>\n",
       "      <td>0.000000</td>\n",
       "      <td>3.000000</td>\n",
       "      <td>120.000000</td>\n",
       "      <td>211.000000</td>\n",
       "      <td>0.000000</td>\n",
       "      <td>0.000000</td>\n",
       "      <td>133.500000</td>\n",
       "      <td>0.000000</td>\n",
       "      <td>0.000000</td>\n",
       "      <td>1.000000</td>\n",
       "      <td>0.000000</td>\n",
       "      <td>3.000000</td>\n",
       "      <td>0.000000</td>\n",
       "      <td>0.000000</td>\n",
       "    </tr>\n",
       "    <tr>\n",
       "      <th>50%</th>\n",
       "      <td>56.000000</td>\n",
       "      <td>1.000000</td>\n",
       "      <td>3.000000</td>\n",
       "      <td>130.000000</td>\n",
       "      <td>241.000000</td>\n",
       "      <td>0.000000</td>\n",
       "      <td>1.000000</td>\n",
       "      <td>153.000000</td>\n",
       "      <td>0.000000</td>\n",
       "      <td>0.800000</td>\n",
       "      <td>2.000000</td>\n",
       "      <td>0.000000</td>\n",
       "      <td>3.000000</td>\n",
       "      <td>0.000000</td>\n",
       "      <td>0.000000</td>\n",
       "    </tr>\n",
       "    <tr>\n",
       "      <th>75%</th>\n",
       "      <td>61.000000</td>\n",
       "      <td>1.000000</td>\n",
       "      <td>4.000000</td>\n",
       "      <td>140.000000</td>\n",
       "      <td>275.000000</td>\n",
       "      <td>0.000000</td>\n",
       "      <td>2.000000</td>\n",
       "      <td>166.000000</td>\n",
       "      <td>1.000000</td>\n",
       "      <td>1.600000</td>\n",
       "      <td>2.000000</td>\n",
       "      <td>1.000000</td>\n",
       "      <td>7.000000</td>\n",
       "      <td>2.000000</td>\n",
       "      <td>1.000000</td>\n",
       "    </tr>\n",
       "    <tr>\n",
       "      <th>max</th>\n",
       "      <td>77.000000</td>\n",
       "      <td>1.000000</td>\n",
       "      <td>4.000000</td>\n",
       "      <td>200.000000</td>\n",
       "      <td>564.000000</td>\n",
       "      <td>1.000000</td>\n",
       "      <td>2.000000</td>\n",
       "      <td>202.000000</td>\n",
       "      <td>1.000000</td>\n",
       "      <td>6.200000</td>\n",
       "      <td>3.000000</td>\n",
       "      <td>3.000000</td>\n",
       "      <td>7.000000</td>\n",
       "      <td>4.000000</td>\n",
       "      <td>1.000000</td>\n",
       "    </tr>\n",
       "  </tbody>\n",
       "</table>\n",
       "</div>"
      ],
      "text/plain": [
       "              age         sex          cp    trestbps        chol         fbs  \\\n",
       "count  303.000000  303.000000  303.000000  303.000000  303.000000  303.000000   \n",
       "mean    54.438944    0.679868    3.158416  131.689769  246.693069    0.148515   \n",
       "std      9.038662    0.467299    0.960126   17.599748   51.776918    0.356198   \n",
       "min     29.000000    0.000000    1.000000   94.000000  126.000000    0.000000   \n",
       "25%     48.000000    0.000000    3.000000  120.000000  211.000000    0.000000   \n",
       "50%     56.000000    1.000000    3.000000  130.000000  241.000000    0.000000   \n",
       "75%     61.000000    1.000000    4.000000  140.000000  275.000000    0.000000   \n",
       "max     77.000000    1.000000    4.000000  200.000000  564.000000    1.000000   \n",
       "\n",
       "          restecg     thalach       exang     oldpeak       slope          ca  \\\n",
       "count  303.000000  303.000000  303.000000  303.000000  288.000000  284.000000   \n",
       "mean     0.990099  149.607261    0.326733    1.039604    1.597222    0.683099   \n",
       "std      0.994971   22.875003    0.469794    1.161075    0.622678    0.935138   \n",
       "min      0.000000   71.000000    0.000000    0.000000    1.000000    0.000000   \n",
       "25%      0.000000  133.500000    0.000000    0.000000    1.000000    0.000000   \n",
       "50%      1.000000  153.000000    0.000000    0.800000    2.000000    0.000000   \n",
       "75%      2.000000  166.000000    1.000000    1.600000    2.000000    1.000000   \n",
       "max      2.000000  202.000000    1.000000    6.200000    3.000000    3.000000   \n",
       "\n",
       "             thal         num      target  \n",
       "count  286.000000  287.000000  303.000000  \n",
       "mean     4.685315    0.951220    0.448845  \n",
       "std      1.930074    1.213728    0.498199  \n",
       "min      3.000000    0.000000    0.000000  \n",
       "25%      3.000000    0.000000    0.000000  \n",
       "50%      3.000000    0.000000    0.000000  \n",
       "75%      7.000000    2.000000    1.000000  \n",
       "max      7.000000    4.000000    1.000000  "
      ]
     },
     "execution_count": 6,
     "metadata": {},
     "output_type": "execute_result"
    }
   ],
   "source": [
    "# Estadísticas descriptivas\n",
    "df.describe()\n"
   ]
  },
  {
   "cell_type": "markdown",
   "metadata": {},
   "source": [
    " **Observaciones:**\n",
    "\n",
    " - Variables con diferentes escalas (edad: 29-77, colesterol: 126-564)\n",
    "\n",
    " - Algunas variables son categóricas codificadas como números\n",
    "\n",
    " - Presencia de valores faltantes que requieren manejo"
   ]
  },
  {
   "cell_type": "markdown",
   "metadata": {},
   "source": [
    " ## Verificación de duplicados - Evitar data leakage\n",
    "\n",
    "\n",
    "\n",
    " **Problema:** Si el mismo paciente aparece múltiples veces en el dataset, podría\n",
    "\n",
    " terminar en AMBOS conjuntos (train y test), causando data leakage severo.\n",
    "\n",
    "\n",
    "\n",
    " **Consecuencia:** El modelo \"vería\" al paciente durante el entrenamiento y luego\n",
    "\n",
    " lo \"evaluaría\" en el test, inflando artificialmente las métricas.\n",
    "\n",
    "\n",
    "\n",
    " **Solución:** Verificar que cada fila representa un paciente único."
   ]
  },
  {
   "cell_type": "code",
   "execution_count": 7,
   "metadata": {},
   "outputs": [
    {
     "name": "stdout",
     "output_type": "stream",
     "text": [
      "OK: No hay duplicados (303 pacientes únicos)\n"
     ]
    }
   ],
   "source": [
    "# Verificar duplicados completos (filas idénticas)\n",
    "duplicados_completos = df.duplicated().sum()\n",
    "\n",
    "if duplicados_completos > 0:\n",
    "    print(f\"ALERTA: {duplicados_completos} filas duplicadas encontradas\")\n",
    "    df = df.drop_duplicates()\n",
    "    print(f\"Duplicados eliminados. Dataset: {df.shape[0]} pacientes\")\n",
    "else:\n",
    "    print(f\"OK: No hay duplicados ({df.shape[0]} pacientes únicos)\")\n",
    "\n",
    "# Verificar duplicados parciales basados en variables clave\n",
    "columnas_clave = ['age', 'sex', 'trestbps', 'chol', 'thalach']\n",
    "duplicados_parciales = df.duplicated(subset=columnas_clave).sum()\n",
    "\n",
    "if duplicados_parciales > 0:\n",
    "    print(f\"ALERTA: {duplicados_parciales} posibles pacientes repetidos (verificar manualmente)\")\n"
   ]
  },
  {
   "cell_type": "markdown",
   "metadata": {},
   "source": [
    " ---\n",
    "\n",
    " # SECCIÓN 3: Preprocesamiento - Parte 1: Codificación de Variables Categóricas\n",
    "\n",
    "\n",
    "\n",
    " Las variables categóricas necesitan One-Hot Encoding para ser interpretadas correctamente por parte de los modelos de ML.\n",
    "\n",
    " Sin él, el modelo pensaría que cp=4 es \"mayor\" que cp=2, lo cual puede tener sentido clinico en algunos casos (variables categoricas ordinales), pero no en todos."
   ]
  },
  {
   "cell_type": "code",
   "execution_count": 8,
   "metadata": {},
   "outputs": [
    {
     "data": {
      "application/vnd.microsoft.datawrangler.viewer.v0+json": {
       "columns": [
        {
         "name": "index",
         "rawType": "int64",
         "type": "integer"
        },
        {
         "name": "age",
         "rawType": "int64",
         "type": "integer"
        },
        {
         "name": "sex",
         "rawType": "int64",
         "type": "integer"
        },
        {
         "name": "cp",
         "rawType": "int64",
         "type": "integer"
        },
        {
         "name": "trestbps",
         "rawType": "int64",
         "type": "integer"
        },
        {
         "name": "chol",
         "rawType": "int64",
         "type": "integer"
        },
        {
         "name": "fbs",
         "rawType": "int64",
         "type": "integer"
        },
        {
         "name": "restecg",
         "rawType": "int64",
         "type": "integer"
        },
        {
         "name": "thalach",
         "rawType": "int64",
         "type": "integer"
        },
        {
         "name": "exang",
         "rawType": "int64",
         "type": "integer"
        },
        {
         "name": "oldpeak",
         "rawType": "float64",
         "type": "float"
        },
        {
         "name": "slope",
         "rawType": "float64",
         "type": "float"
        },
        {
         "name": "ca",
         "rawType": "float64",
         "type": "float"
        },
        {
         "name": "thal",
         "rawType": "float64",
         "type": "float"
        },
        {
         "name": "num",
         "rawType": "float64",
         "type": "float"
        },
        {
         "name": "target",
         "rawType": "int64",
         "type": "integer"
        }
       ],
       "ref": "efe613cf-8d83-4d07-8031-7ac71fc204de",
       "rows": [
        [
         "0",
         "63",
         "1",
         "1",
         "145",
         "233",
         "1",
         "2",
         "150",
         "0",
         "2.3",
         "3.0",
         "0.0",
         "6.0",
         "0.0",
         "0"
        ],
        [
         "1",
         "67",
         "1",
         "4",
         "160",
         "286",
         "0",
         "2",
         "108",
         "1",
         "1.5",
         "2.0",
         "3.0",
         "3.0",
         "2.0",
         "1"
        ],
        [
         "2",
         "67",
         "1",
         "4",
         "120",
         "229",
         "0",
         "2",
         "129",
         "1",
         "2.6",
         "2.0",
         "2.0",
         "7.0",
         "1.0",
         "1"
        ],
        [
         "3",
         "37",
         "1",
         "3",
         "130",
         "250",
         "0",
         "0",
         "187",
         "0",
         "3.5",
         "3.0",
         "0.0",
         "3.0",
         "0.0",
         "0"
        ],
        [
         "4",
         "41",
         "0",
         "2",
         "130",
         "204",
         "0",
         "2",
         "172",
         "0",
         "1.4",
         "1.0",
         "0.0",
         "3.0",
         "0.0",
         "0"
        ]
       ],
       "shape": {
        "columns": 15,
        "rows": 5
       }
      },
      "text/html": [
       "<div>\n",
       "<style scoped>\n",
       "    .dataframe tbody tr th:only-of-type {\n",
       "        vertical-align: middle;\n",
       "    }\n",
       "\n",
       "    .dataframe tbody tr th {\n",
       "        vertical-align: top;\n",
       "    }\n",
       "\n",
       "    .dataframe thead th {\n",
       "        text-align: right;\n",
       "    }\n",
       "</style>\n",
       "<table border=\"1\" class=\"dataframe\">\n",
       "  <thead>\n",
       "    <tr style=\"text-align: right;\">\n",
       "      <th></th>\n",
       "      <th>age</th>\n",
       "      <th>sex</th>\n",
       "      <th>cp</th>\n",
       "      <th>trestbps</th>\n",
       "      <th>chol</th>\n",
       "      <th>fbs</th>\n",
       "      <th>restecg</th>\n",
       "      <th>thalach</th>\n",
       "      <th>exang</th>\n",
       "      <th>oldpeak</th>\n",
       "      <th>slope</th>\n",
       "      <th>ca</th>\n",
       "      <th>thal</th>\n",
       "      <th>num</th>\n",
       "      <th>target</th>\n",
       "    </tr>\n",
       "  </thead>\n",
       "  <tbody>\n",
       "    <tr>\n",
       "      <th>0</th>\n",
       "      <td>63</td>\n",
       "      <td>1</td>\n",
       "      <td>1</td>\n",
       "      <td>145</td>\n",
       "      <td>233</td>\n",
       "      <td>1</td>\n",
       "      <td>2</td>\n",
       "      <td>150</td>\n",
       "      <td>0</td>\n",
       "      <td>2.3</td>\n",
       "      <td>3.0</td>\n",
       "      <td>0.0</td>\n",
       "      <td>6.0</td>\n",
       "      <td>0.0</td>\n",
       "      <td>0</td>\n",
       "    </tr>\n",
       "    <tr>\n",
       "      <th>1</th>\n",
       "      <td>67</td>\n",
       "      <td>1</td>\n",
       "      <td>4</td>\n",
       "      <td>160</td>\n",
       "      <td>286</td>\n",
       "      <td>0</td>\n",
       "      <td>2</td>\n",
       "      <td>108</td>\n",
       "      <td>1</td>\n",
       "      <td>1.5</td>\n",
       "      <td>2.0</td>\n",
       "      <td>3.0</td>\n",
       "      <td>3.0</td>\n",
       "      <td>2.0</td>\n",
       "      <td>1</td>\n",
       "    </tr>\n",
       "    <tr>\n",
       "      <th>2</th>\n",
       "      <td>67</td>\n",
       "      <td>1</td>\n",
       "      <td>4</td>\n",
       "      <td>120</td>\n",
       "      <td>229</td>\n",
       "      <td>0</td>\n",
       "      <td>2</td>\n",
       "      <td>129</td>\n",
       "      <td>1</td>\n",
       "      <td>2.6</td>\n",
       "      <td>2.0</td>\n",
       "      <td>2.0</td>\n",
       "      <td>7.0</td>\n",
       "      <td>1.0</td>\n",
       "      <td>1</td>\n",
       "    </tr>\n",
       "    <tr>\n",
       "      <th>3</th>\n",
       "      <td>37</td>\n",
       "      <td>1</td>\n",
       "      <td>3</td>\n",
       "      <td>130</td>\n",
       "      <td>250</td>\n",
       "      <td>0</td>\n",
       "      <td>0</td>\n",
       "      <td>187</td>\n",
       "      <td>0</td>\n",
       "      <td>3.5</td>\n",
       "      <td>3.0</td>\n",
       "      <td>0.0</td>\n",
       "      <td>3.0</td>\n",
       "      <td>0.0</td>\n",
       "      <td>0</td>\n",
       "    </tr>\n",
       "    <tr>\n",
       "      <th>4</th>\n",
       "      <td>41</td>\n",
       "      <td>0</td>\n",
       "      <td>2</td>\n",
       "      <td>130</td>\n",
       "      <td>204</td>\n",
       "      <td>0</td>\n",
       "      <td>2</td>\n",
       "      <td>172</td>\n",
       "      <td>0</td>\n",
       "      <td>1.4</td>\n",
       "      <td>1.0</td>\n",
       "      <td>0.0</td>\n",
       "      <td>3.0</td>\n",
       "      <td>0.0</td>\n",
       "      <td>0</td>\n",
       "    </tr>\n",
       "  </tbody>\n",
       "</table>\n",
       "</div>"
      ],
      "text/plain": [
       "   age  sex  cp  trestbps  chol  fbs  restecg  thalach  exang  oldpeak  slope  \\\n",
       "0   63    1   1       145   233    1        2      150      0      2.3    3.0   \n",
       "1   67    1   4       160   286    0        2      108      1      1.5    2.0   \n",
       "2   67    1   4       120   229    0        2      129      1      2.6    2.0   \n",
       "3   37    1   3       130   250    0        0      187      0      3.5    3.0   \n",
       "4   41    0   2       130   204    0        2      172      0      1.4    1.0   \n",
       "\n",
       "    ca  thal  num  target  \n",
       "0  0.0   6.0  0.0       0  \n",
       "1  3.0   3.0  2.0       1  \n",
       "2  2.0   7.0  1.0       1  \n",
       "3  0.0   3.0  0.0       0  \n",
       "4  0.0   3.0  0.0       0  "
      ]
     },
     "execution_count": 8,
     "metadata": {},
     "output_type": "execute_result"
    }
   ],
   "source": [
    "df.head()"
   ]
  },
  {
   "cell_type": "code",
   "execution_count": 9,
   "metadata": {},
   "outputs": [
    {
     "data": {
      "application/vnd.microsoft.datawrangler.viewer.v0+json": {
       "columns": [
        {
         "name": "index",
         "rawType": "object",
         "type": "string"
        },
        {
         "name": "0",
         "rawType": "object",
         "type": "unknown"
        }
       ],
       "ref": "8d793a03-4a08-427f-b795-6670159cc8d9",
       "rows": [
        [
         "age",
         "int64"
        ],
        [
         "sex",
         "int64"
        ],
        [
         "cp",
         "int64"
        ],
        [
         "trestbps",
         "int64"
        ],
        [
         "chol",
         "int64"
        ],
        [
         "fbs",
         "int64"
        ],
        [
         "restecg",
         "int64"
        ],
        [
         "thalach",
         "int64"
        ],
        [
         "exang",
         "int64"
        ],
        [
         "oldpeak",
         "float64"
        ],
        [
         "slope",
         "float64"
        ],
        [
         "ca",
         "float64"
        ],
        [
         "thal",
         "float64"
        ],
        [
         "num",
         "float64"
        ],
        [
         "target",
         "int64"
        ]
       ],
       "shape": {
        "columns": 1,
        "rows": 15
       }
      },
      "text/plain": [
       "age           int64\n",
       "sex           int64\n",
       "cp            int64\n",
       "trestbps      int64\n",
       "chol          int64\n",
       "fbs           int64\n",
       "restecg       int64\n",
       "thalach       int64\n",
       "exang         int64\n",
       "oldpeak     float64\n",
       "slope       float64\n",
       "ca          float64\n",
       "thal        float64\n",
       "num         float64\n",
       "target        int64\n",
       "dtype: object"
      ]
     },
     "execution_count": 9,
     "metadata": {},
     "output_type": "execute_result"
    }
   ],
   "source": [
    "df.dtypes"
   ]
  },
  {
   "cell_type": "markdown",
   "metadata": {},
   "source": [
    "Como podemos ver, los autores del dataset muy amablemente ya nos han codificado las variables categoricas ['cp', 'restecg', 'slope'] como numéricas. Entonces no tenemos que hacer el mapeo str -> int. Lo que una variable categorica de Ints puede ser un problema para un modelo de ML si realmente no es ordinal, ya que decidle al modelo que la variable tiene valores del 1 al 4, implicitamente le indica que la categoria 4 > 3 > 2 > 1. Para evitar este efecto indeseado (si fuese indeseado) se usa el one-hot encoding, que aplicaremos ahora."
   ]
  },
  {
   "cell_type": "code",
   "execution_count": 10,
   "metadata": {},
   "outputs": [
    {
     "name": "stdout",
     "output_type": "stream",
     "text": [
      "Variables categóricas identificadas: ['cp', 'restecg', 'slope']\n",
      "  cp: 4 categorías - valores: [1, 2, 3, 4]\n",
      "  restecg: 3 categorías - valores: [0, 1, 2]\n",
      "  slope: 3 categorías - valores: [1.0, 2.0, 3.0, nan]\n"
     ]
    }
   ],
   "source": [
    "# Variables categóricas en el dataset\n",
    "categorical_cols = ['cp', 'restecg', 'slope']\n",
    "categorical_cols = [col for col in categorical_cols if col in df.columns]\n",
    "\n",
    "print(f\"Variables categóricas identificadas: {categorical_cols}\")\n",
    "for col in categorical_cols:\n",
    "    print(f\"  {col}: {df[col].nunique()} categorías - valores: {sorted(df[col].unique())}\")\n"
   ]
  },
  {
   "cell_type": "code",
   "execution_count": 11,
   "metadata": {},
   "outputs": [
    {
     "name": "stdout",
     "output_type": "stream",
     "text": [
      "\n",
      "Shape antes: (303, 15)\n",
      "Shape después: (303, 19)\n",
      "Columnas añadidas: 4\n"
     ]
    },
    {
     "data": {
      "application/vnd.microsoft.datawrangler.viewer.v0+json": {
       "columns": [
        {
         "name": "index",
         "rawType": "int64",
         "type": "integer"
        },
        {
         "name": "age",
         "rawType": "int64",
         "type": "integer"
        },
        {
         "name": "sex",
         "rawType": "int64",
         "type": "integer"
        },
        {
         "name": "trestbps",
         "rawType": "int64",
         "type": "integer"
        },
        {
         "name": "chol",
         "rawType": "int64",
         "type": "integer"
        },
        {
         "name": "fbs",
         "rawType": "int64",
         "type": "integer"
        },
        {
         "name": "thalach",
         "rawType": "int64",
         "type": "integer"
        },
        {
         "name": "exang",
         "rawType": "int64",
         "type": "integer"
        },
        {
         "name": "oldpeak",
         "rawType": "float64",
         "type": "float"
        },
        {
         "name": "ca",
         "rawType": "float64",
         "type": "float"
        },
        {
         "name": "thal",
         "rawType": "float64",
         "type": "float"
        },
        {
         "name": "num",
         "rawType": "float64",
         "type": "float"
        },
        {
         "name": "target",
         "rawType": "int64",
         "type": "integer"
        },
        {
         "name": "cp_2",
         "rawType": "int64",
         "type": "integer"
        },
        {
         "name": "cp_3",
         "rawType": "int64",
         "type": "integer"
        },
        {
         "name": "cp_4",
         "rawType": "int64",
         "type": "integer"
        },
        {
         "name": "restecg_1",
         "rawType": "int64",
         "type": "integer"
        },
        {
         "name": "restecg_2",
         "rawType": "int64",
         "type": "integer"
        },
        {
         "name": "slope_2.0",
         "rawType": "int64",
         "type": "integer"
        },
        {
         "name": "slope_3.0",
         "rawType": "int64",
         "type": "integer"
        }
       ],
       "ref": "b056a2a8-4434-43be-a6e8-3556239433db",
       "rows": [
        [
         "0",
         "63",
         "1",
         "145",
         "233",
         "1",
         "150",
         "0",
         "2.3",
         "0.0",
         "6.0",
         "0.0",
         "0",
         "0",
         "0",
         "0",
         "0",
         "1",
         "0",
         "1"
        ],
        [
         "1",
         "67",
         "1",
         "160",
         "286",
         "0",
         "108",
         "1",
         "1.5",
         "3.0",
         "3.0",
         "2.0",
         "1",
         "0",
         "0",
         "1",
         "0",
         "1",
         "1",
         "0"
        ],
        [
         "2",
         "67",
         "1",
         "120",
         "229",
         "0",
         "129",
         "1",
         "2.6",
         "2.0",
         "7.0",
         "1.0",
         "1",
         "0",
         "0",
         "1",
         "0",
         "1",
         "1",
         "0"
        ],
        [
         "3",
         "37",
         "1",
         "130",
         "250",
         "0",
         "187",
         "0",
         "3.5",
         "0.0",
         "3.0",
         "0.0",
         "0",
         "0",
         "1",
         "0",
         "0",
         "0",
         "0",
         "1"
        ],
        [
         "4",
         "41",
         "0",
         "130",
         "204",
         "0",
         "172",
         "0",
         "1.4",
         "0.0",
         "3.0",
         "0.0",
         "0",
         "1",
         "0",
         "0",
         "0",
         "1",
         "0",
         "0"
        ]
       ],
       "shape": {
        "columns": 19,
        "rows": 5
       }
      },
      "text/html": [
       "<div>\n",
       "<style scoped>\n",
       "    .dataframe tbody tr th:only-of-type {\n",
       "        vertical-align: middle;\n",
       "    }\n",
       "\n",
       "    .dataframe tbody tr th {\n",
       "        vertical-align: top;\n",
       "    }\n",
       "\n",
       "    .dataframe thead th {\n",
       "        text-align: right;\n",
       "    }\n",
       "</style>\n",
       "<table border=\"1\" class=\"dataframe\">\n",
       "  <thead>\n",
       "    <tr style=\"text-align: right;\">\n",
       "      <th></th>\n",
       "      <th>age</th>\n",
       "      <th>sex</th>\n",
       "      <th>trestbps</th>\n",
       "      <th>chol</th>\n",
       "      <th>fbs</th>\n",
       "      <th>thalach</th>\n",
       "      <th>exang</th>\n",
       "      <th>oldpeak</th>\n",
       "      <th>ca</th>\n",
       "      <th>thal</th>\n",
       "      <th>num</th>\n",
       "      <th>target</th>\n",
       "      <th>cp_2</th>\n",
       "      <th>cp_3</th>\n",
       "      <th>cp_4</th>\n",
       "      <th>restecg_1</th>\n",
       "      <th>restecg_2</th>\n",
       "      <th>slope_2.0</th>\n",
       "      <th>slope_3.0</th>\n",
       "    </tr>\n",
       "  </thead>\n",
       "  <tbody>\n",
       "    <tr>\n",
       "      <th>0</th>\n",
       "      <td>63</td>\n",
       "      <td>1</td>\n",
       "      <td>145</td>\n",
       "      <td>233</td>\n",
       "      <td>1</td>\n",
       "      <td>150</td>\n",
       "      <td>0</td>\n",
       "      <td>2.3</td>\n",
       "      <td>0.0</td>\n",
       "      <td>6.0</td>\n",
       "      <td>0.0</td>\n",
       "      <td>0</td>\n",
       "      <td>0</td>\n",
       "      <td>0</td>\n",
       "      <td>0</td>\n",
       "      <td>0</td>\n",
       "      <td>1</td>\n",
       "      <td>0</td>\n",
       "      <td>1</td>\n",
       "    </tr>\n",
       "    <tr>\n",
       "      <th>1</th>\n",
       "      <td>67</td>\n",
       "      <td>1</td>\n",
       "      <td>160</td>\n",
       "      <td>286</td>\n",
       "      <td>0</td>\n",
       "      <td>108</td>\n",
       "      <td>1</td>\n",
       "      <td>1.5</td>\n",
       "      <td>3.0</td>\n",
       "      <td>3.0</td>\n",
       "      <td>2.0</td>\n",
       "      <td>1</td>\n",
       "      <td>0</td>\n",
       "      <td>0</td>\n",
       "      <td>1</td>\n",
       "      <td>0</td>\n",
       "      <td>1</td>\n",
       "      <td>1</td>\n",
       "      <td>0</td>\n",
       "    </tr>\n",
       "    <tr>\n",
       "      <th>2</th>\n",
       "      <td>67</td>\n",
       "      <td>1</td>\n",
       "      <td>120</td>\n",
       "      <td>229</td>\n",
       "      <td>0</td>\n",
       "      <td>129</td>\n",
       "      <td>1</td>\n",
       "      <td>2.6</td>\n",
       "      <td>2.0</td>\n",
       "      <td>7.0</td>\n",
       "      <td>1.0</td>\n",
       "      <td>1</td>\n",
       "      <td>0</td>\n",
       "      <td>0</td>\n",
       "      <td>1</td>\n",
       "      <td>0</td>\n",
       "      <td>1</td>\n",
       "      <td>1</td>\n",
       "      <td>0</td>\n",
       "    </tr>\n",
       "    <tr>\n",
       "      <th>3</th>\n",
       "      <td>37</td>\n",
       "      <td>1</td>\n",
       "      <td>130</td>\n",
       "      <td>250</td>\n",
       "      <td>0</td>\n",
       "      <td>187</td>\n",
       "      <td>0</td>\n",
       "      <td>3.5</td>\n",
       "      <td>0.0</td>\n",
       "      <td>3.0</td>\n",
       "      <td>0.0</td>\n",
       "      <td>0</td>\n",
       "      <td>0</td>\n",
       "      <td>1</td>\n",
       "      <td>0</td>\n",
       "      <td>0</td>\n",
       "      <td>0</td>\n",
       "      <td>0</td>\n",
       "      <td>1</td>\n",
       "    </tr>\n",
       "    <tr>\n",
       "      <th>4</th>\n",
       "      <td>41</td>\n",
       "      <td>0</td>\n",
       "      <td>130</td>\n",
       "      <td>204</td>\n",
       "      <td>0</td>\n",
       "      <td>172</td>\n",
       "      <td>0</td>\n",
       "      <td>1.4</td>\n",
       "      <td>0.0</td>\n",
       "      <td>3.0</td>\n",
       "      <td>0.0</td>\n",
       "      <td>0</td>\n",
       "      <td>1</td>\n",
       "      <td>0</td>\n",
       "      <td>0</td>\n",
       "      <td>0</td>\n",
       "      <td>1</td>\n",
       "      <td>0</td>\n",
       "      <td>0</td>\n",
       "    </tr>\n",
       "  </tbody>\n",
       "</table>\n",
       "</div>"
      ],
      "text/plain": [
       "   age  sex  trestbps  chol  fbs  thalach  exang  oldpeak   ca  thal  num  \\\n",
       "0   63    1       145   233    1      150      0      2.3  0.0   6.0  0.0   \n",
       "1   67    1       160   286    0      108      1      1.5  3.0   3.0  2.0   \n",
       "2   67    1       120   229    0      129      1      2.6  2.0   7.0  1.0   \n",
       "3   37    1       130   250    0      187      0      3.5  0.0   3.0  0.0   \n",
       "4   41    0       130   204    0      172      0      1.4  0.0   3.0  0.0   \n",
       "\n",
       "   target  cp_2  cp_3  cp_4  restecg_1  restecg_2  slope_2.0  slope_3.0  \n",
       "0       0     0     0     0          0          1          0          1  \n",
       "1       1     0     0     1          0          1          1          0  \n",
       "2       1     0     0     1          0          1          1          0  \n",
       "3       0     0     1     0          0          0          0          1  \n",
       "4       0     1     0     0          0          1          0          0  "
      ]
     },
     "execution_count": 11,
     "metadata": {},
     "output_type": "execute_result"
    }
   ],
   "source": [
    "# Aplicar One-Hot Encoding\n",
    "df_encoded = pd.get_dummies(df, columns=categorical_cols, drop_first=True, dtype=int)\n",
    "\n",
    "print(f\"\\nShape antes: {df.shape}\")\n",
    "print(f\"Shape después: {df_encoded.shape}\")\n",
    "print(f\"Columnas añadidas: {df_encoded.shape[1] - df.shape[1]}\")\n",
    "\n",
    "df_encoded.head()\n",
    "\n"
   ]
  },
  {
   "cell_type": "markdown",
   "metadata": {},
   "source": [
    " ---\n",
    "\n",
    " # SECCIÓN 4: Definición de Estrategias de Modelado\n",
    "\n",
    "\n",
    "\n",
    " Implementaremos DOS estrategias según disponibilidad de datos clínicos."
   ]
  },
  {
   "cell_type": "code",
   "execution_count": 12,
   "metadata": {},
   "outputs": [
    {
     "name": "stdout",
     "output_type": "stream",
     "text": [
      "ESTRATEGIA 1 - Modelo Básico:\n",
      "  Total variables: 14\n",
      "  Variables: ['age', 'sex', 'trestbps', 'chol', 'fbs', 'exang', 'oldpeak', 'cp_2', 'cp_3', 'cp_4', 'restecg_1', 'restecg_2', 'slope_2.0', 'slope_3.0']\n",
      "\n",
      "ESTRATEGIA 2 - Modelo Completo:\n",
      "  Total variables: 16\n",
      "  Variables añadidas: ['thalach', 'thal']\n",
      "\n",
      "Variable EXCLUIDA (data leakage): 'ca'\n"
     ]
    }
   ],
   "source": [
    "# Variables disponibles (excluir target, num original, y ca por data leakage)\n",
    "all_features = [col for col in df_encoded.columns if col not in ['target', 'num', 'ca']]\n",
    "\n",
    "# ESTRATEGIA 1: Modelo Básico (sin gammagrafía thal, sin cateterismo ca)\n",
    "basic_features = [col for col in all_features if not col.startswith('thal')]\n",
    "\n",
    "# ESTRATEGIA 2: Modelo Completo (con gammagrafía thal, sin cateterismo ca)\n",
    "complete_features = all_features.copy()\n",
    "\n",
    "print(f\"ESTRATEGIA 1 - Modelo Básico:\")\n",
    "print(f\"  Total variables: {len(basic_features)}\")\n",
    "print(f\"  Variables: {basic_features}\\n\")\n",
    "\n",
    "print(f\"ESTRATEGIA 2 - Modelo Completo:\")\n",
    "print(f\"  Total variables: {len(complete_features)}\")\n",
    "print(f\"  Variables añadidas: {[col for col in complete_features if col not in basic_features]}\\n\")\n",
    "\n",
    "print(f\"Variable EXCLUIDA (data leakage): 'ca'\")\n"
   ]
  },
  {
   "cell_type": "markdown",
   "metadata": {},
   "source": [
    " ---\n",
    "\n",
    " # SECCIÓN 5: División Train/Test\n",
    "\n",
    "\n",
    "\n",
    " ## El problema fundamental del ML\n",
    "\n",
    "\n",
    "\n",
    " Si entrenamos y evaluamos en los mismos datos, el modelo memorizará en lugar de aprender.\n",
    "\n",
    " Como darle a un estudiante las preguntas del examen antes del examen.\n",
    "\n",
    "\n",
    "\n",
    " ## Solución: Train/Test Split\n",
    "\n",
    "\n",
    "\n",
    " - **Train set (80%):** Entrenar el modelo\n",
    "\n",
    " - **Test set (20%):** Completamente oculto, simula pacientes nuevos\n",
    "\n",
    "\n",
    "\n",
    " El test set se usa UNA SOLA VEZ al final para estimar performance real."
   ]
  },
  {
   "cell_type": "code",
   "execution_count": 13,
   "metadata": {},
   "outputs": [
    {
     "name": "stdout",
     "output_type": "stream",
     "text": [
      "Dimensiones X: (303, 16)\n",
      "Train: 242 pacientes (79.9%)\n",
      "Test: 61 pacientes (20.1%)\n",
      "\n",
      "Verificación de estratificación:\n",
      "  Enfermedad en Train: 45.0%\n",
      "  Enfermedad en Test: 44.3%\n",
      "  Enfermedad en Original: 44.9%\n"
     ]
    }
   ],
   "source": [
    "# Preparar datos\n",
    "X = df_encoded[complete_features]\n",
    "y = df_encoded['target']\n",
    "\n",
    "# Verificar tipos numéricos\n",
    "non_numeric = X.select_dtypes(exclude=[np.number]).columns.tolist()\n",
    "if non_numeric:\n",
    "    print(f\"Eliminando columnas no numéricas: {non_numeric}\")\n",
    "    X = X.select_dtypes(include=[np.number])\n",
    "\n",
    "# Train/Test Split (80/20) con estratificación para mantener proporción de clases\n",
    "X_train, X_test, y_train, y_test = train_test_split(\n",
    "    X, y,\n",
    "    test_size=0.2,\n",
    "    random_state=42,\n",
    "    stratify=y\n",
    ")\n",
    "\n",
    "print(f\"Dimensiones X: {X.shape}\")\n",
    "print(f\"Train: {X_train.shape[0]} pacientes ({X_train.shape[0]/len(X)*100:.1f}%)\")\n",
    "print(f\"Test: {X_test.shape[0]} pacientes ({X_test.shape[0]/len(X)*100:.1f}%)\")\n",
    "print(f\"\\nVerificación de estratificación:\")\n",
    "print(f\"  Enfermedad en Train: {y_train.mean()*100:.1f}%\")\n",
    "print(f\"  Enfermedad en Test: {y_test.mean()*100:.1f}%\")\n",
    "print(f\"  Enfermedad en Original: {y.mean()*100:.1f}%\")\n"
   ]
  },
  {
   "cell_type": "markdown",
   "metadata": {},
   "source": [
    " ---\n",
    "\n",
    " # SECCIÓN 6: Preprocesamiento - Parte 2: Valores Faltantes (DESPUÉS del split para evitar data leakage)\n",
    "\n",
    "\n",
    "\n",
    " ## Por qué DESPUÉS del split\n",
    "\n",
    "\n",
    "\n",
    " Los modelos ML no pueden trabajar con valores NaN. Usaremos mediana para imputación (robusta a outliers).\n",
    "\n",
    "\n",
    "\n",
    " **Flujo incorrecto:**\n",
    "\n",
    " 1. Calcular mediana con todos los datos (train + test)\n",
    "\n",
    " 2. Imputar valores faltantes\n",
    "\n",
    " 3. Hacer train/test split\n",
    "\n",
    "\n",
    "\n",
    " **Problema:** La mediana fue calculada usando información del test set, causando data leakage.\n",
    "\n",
    "\n",
    "\n",
    " **Flujo correcto:**\n",
    "\n",
    " 1. Hacer train/test split primero\n",
    "\n",
    " 2. Calcular mediana SOLO con datos de train\n",
    "\n",
    " 3. Aplicar esa mediana a train\n",
    "\n",
    " 4. Aplicar la MISMA mediana (del train) al test\n",
    "\n",
    "\n",
    "\n",
    " **Analogía clínica:** Es como calcular valores de referencia de un test diagnóstico.\n",
    "\n",
    " Los valores de referencia se calculan con la población de desarrollo, NO incluyendo\n",
    "\n",
    " la población de validación. Luego se aplican esos mismos valores a la validación."
   ]
  },
  {
   "cell_type": "code",
   "execution_count": 14,
   "metadata": {},
   "outputs": [
    {
     "name": "stdout",
     "output_type": "stream",
     "text": [
      "Variables con valores nulos: ['thal']\n",
      "\n",
      "Valores nulos antes de imputación:\n",
      "  Train: 13\n",
      "  Test: 4\n",
      "\n",
      "Valores nulos después de imputación:\n",
      "  Train: 0\n",
      "  Test: 0\n"
     ]
    }
   ],
   "source": [
    "columns_with_nulls = X_train.columns[X_train.isnull().any()].tolist()\n",
    "\n",
    "if len(columns_with_nulls) > 0:\n",
    "    print(f\"Variables con valores nulos: {columns_with_nulls}\")\n",
    "    print(f\"\\nValores nulos antes de imputación:\")\n",
    "    print(f\"  Train: {X_train.isnull().sum().sum()}\")\n",
    "    print(f\"  Test: {X_test.isnull().sum().sum()}\")\n",
    "    \n",
    "    # Imputación con mediana calculada SOLO del train\n",
    "    imputer = SimpleImputer(strategy='median')\n",
    "    imputer.fit(X_train)  # Aprende SOLO de train\n",
    "    \n",
    "    X_train = pd.DataFrame(\n",
    "        imputer.transform(X_train),\n",
    "        columns=X_train.columns,\n",
    "        index=X_train.index\n",
    "    )\n",
    "    \n",
    "    X_test = pd.DataFrame(\n",
    "        imputer.transform(X_test),  # Usa medianas del train\n",
    "        columns=X_test.columns,\n",
    "        index=X_test.index\n",
    "    )\n",
    "    \n",
    "    print(f\"\\nValores nulos después de imputación:\")\n",
    "    print(f\"  Train: {X_train.isnull().sum().sum()}\")\n",
    "    print(f\"  Test: {X_test.isnull().sum().sum()}\")\n",
    "else:\n",
    "    print(\"No hay valores nulos en train ni test\")\n"
   ]
  },
  {
   "cell_type": "markdown",
   "metadata": {},
   "source": [
    " ---\n",
    "\n",
    " # SECCIÓN 7: Escalado (DESPUÉS del split para evitar data leakage)\n",
    "\n",
    "\n",
    "\n",
    " ## Por qué escalar\n",
    "\n",
    " Las variables tienen escalas muy diferentes (edad: 29-77, colesterol: 126-564).\n",
    "\n",
    " Algunos algoritmos (Logistic Regression, KNN) son sensibles a estas diferencias, porque estan basados internamente en metricas de \"distancia\".\n",
    "\n",
    "\n",
    "\n",
    " ## StandardScaler\n",
    "\n",
    " Transforma a media=0, desviación estándar=1.\n",
    "\n",
    "\n",
    "\n",
    " ## Por qué DESPUÉS del split\n",
    "\n",
    " Si escalamos antes, calcularíamos estadísticas usando también el test set, lo cual sería data leakage.\n",
    "\n",
    "\n",
    "\n",
    " **Flujo correcto:**\n",
    "\n",
    " 1. Split train/test\n",
    "\n",
    " 2. Calcular media/std SOLO del train\n",
    "\n",
    " 3. Aplicar transformación a ambos sets"
   ]
  },
  {
   "cell_type": "code",
   "execution_count": 18,
   "metadata": {},
   "outputs": [
    {
     "data": {
      "application/vnd.microsoft.datawrangler.viewer.v0+json": {
       "columns": [
        {
         "name": "index",
         "rawType": "object",
         "type": "string"
        },
        {
         "name": "age",
         "rawType": "float64",
         "type": "float"
        },
        {
         "name": "sex",
         "rawType": "float64",
         "type": "float"
        },
        {
         "name": "trestbps",
         "rawType": "float64",
         "type": "float"
        },
        {
         "name": "chol",
         "rawType": "float64",
         "type": "float"
        },
        {
         "name": "fbs",
         "rawType": "float64",
         "type": "float"
        },
        {
         "name": "thalach",
         "rawType": "float64",
         "type": "float"
        },
        {
         "name": "exang",
         "rawType": "float64",
         "type": "float"
        },
        {
         "name": "oldpeak",
         "rawType": "float64",
         "type": "float"
        },
        {
         "name": "thal",
         "rawType": "float64",
         "type": "float"
        },
        {
         "name": "cp_2",
         "rawType": "float64",
         "type": "float"
        },
        {
         "name": "cp_3",
         "rawType": "float64",
         "type": "float"
        },
        {
         "name": "cp_4",
         "rawType": "float64",
         "type": "float"
        },
        {
         "name": "restecg_1",
         "rawType": "float64",
         "type": "float"
        },
        {
         "name": "restecg_2",
         "rawType": "float64",
         "type": "float"
        },
        {
         "name": "slope_2.0",
         "rawType": "float64",
         "type": "float"
        },
        {
         "name": "slope_3.0",
         "rawType": "float64",
         "type": "float"
        }
       ],
       "ref": "9dbd8d26-a76f-4861-aa6b-36a7aa688999",
       "rows": [
        [
         "count",
         "242.0",
         "242.0",
         "242.0",
         "242.0",
         "242.0",
         "242.0",
         "242.0",
         "242.0",
         "242.0",
         "242.0",
         "242.0",
         "242.0",
         "242.0",
         "242.0",
         "242.0",
         "242.0"
        ],
        [
         "mean",
         "-1.2386785811933565e-16",
         "8.808381021819424e-17",
         "-5.285028613091654e-16",
         "-9.175396897728567e-18",
         "7.707333394091996e-17",
         "5.1382222627279974e-17",
         "-8.808381021819424e-17",
         "-1.3212571532729136e-16",
         "-9.175396897728567e-17",
         "3.670158759091427e-18",
         "1.3396079470683707e-16",
         "-7.340317518182853e-18",
         "0.0",
         "7.340317518182853e-18",
         "5.50523813863714e-17",
         "4.2206825729551407e-17"
        ],
        [
         "std",
         "1.0020725410834086",
         "1.0020725410834095",
         "1.002072541083409",
         "1.002072541083409",
         "1.0020725410834117",
         "1.0020725410834088",
         "1.0020725410834088",
         "1.0020725410834095",
         "1.0020725410834095",
         "1.002072541083411",
         "1.0020725410834077",
         "1.00207254108341",
         "1.002072541083409",
         "1.0020725410834113",
         "1.0020725410834095",
         "1.0020725410834117"
        ],
        [
         "min",
         "-2.8312824336163733",
         "-1.4638501094227996",
         "-2.1118407185733674",
         "-2.460888804087256",
         "-0.42483856331322933",
         "-3.3869520190158466",
         "-0.7027283689263066",
         "-0.8705925049947412",
         "-0.8267357425762701",
         "-0.4714045207910318",
         "-0.6059964013243635",
         "-0.9437293044088437",
         "-0.11203705304599065",
         "-1.0166678146662023",
         "-0.8535639569308374",
         "-0.25705893323163276"
        ],
        [
         "25%",
         "-0.7379818017192702",
         "-1.4638501094227996",
         "-0.6673682975206852",
         "-0.7242893515698458",
         "-0.42483856331322933",
         "-0.7169668304846764",
         "-0.7027283689263066",
         "-0.8705925049947412",
         "-0.8267357425762701",
         "-0.4714045207910318",
         "-0.6059964013243635",
         "-0.9437293044088437",
         "-0.11203705304599065",
         "-1.0166678146662023",
         "-0.8535639569308374",
         "-0.25705893323163276"
        ],
        [
         "50%",
         "0.1434079380268784",
         "0.6831300510639733",
         "-0.11180198173119192",
         "-0.06984386056180086",
         "-0.42483856331322933",
         "0.16585085281998474",
         "-0.7027283689263066",
         "-0.35315479838304903",
         "-0.8267357425762701",
         "-0.4714045207910318",
         "-0.6059964013243635",
         "-0.9437293044088437",
         "-0.11203705304599065",
         "0.9836054467095778",
         "-0.8535639569308374",
         "-0.25705893323163276"
        ],
        [
         "75%",
         "0.6942765253682213",
         "0.6831300510639733",
         "0.4437643340583013",
         "0.584601630446244",
         "-0.42483856331322933",
         "0.7041543182496561",
         "1.4230249470757708",
         "0.5092413793031048",
         "1.2627686929689763",
         "-0.4714045207910318",
         "1.6501748159140361",
         "1.059625885652035",
         "-0.11203705304599065",
         "0.9836054467095778",
         "1.1715583722580123",
         "-0.25705893323163276"
        ],
        [
         "max",
         "2.4570560048605183",
         "0.6831300510639733",
         "3.7771622287952606",
         "3.5373360111360843",
         "2.3538352832219465",
         "2.25446829868711",
         "1.4230249470757708",
         "4.476263796659412",
         "1.2627686929689763",
         "2.121320343559643",
         "1.6501748159140361",
         "1.059625885652035",
         "8.925618559330589",
         "0.9836054467095778",
         "1.1715583722580123",
         "3.8901585229053754"
        ]
       ],
       "shape": {
        "columns": 16,
        "rows": 8
       }
      },
      "text/html": [
       "<div>\n",
       "<style scoped>\n",
       "    .dataframe tbody tr th:only-of-type {\n",
       "        vertical-align: middle;\n",
       "    }\n",
       "\n",
       "    .dataframe tbody tr th {\n",
       "        vertical-align: top;\n",
       "    }\n",
       "\n",
       "    .dataframe thead th {\n",
       "        text-align: right;\n",
       "    }\n",
       "</style>\n",
       "<table border=\"1\" class=\"dataframe\">\n",
       "  <thead>\n",
       "    <tr style=\"text-align: right;\">\n",
       "      <th></th>\n",
       "      <th>age</th>\n",
       "      <th>sex</th>\n",
       "      <th>trestbps</th>\n",
       "      <th>chol</th>\n",
       "      <th>fbs</th>\n",
       "      <th>thalach</th>\n",
       "      <th>exang</th>\n",
       "      <th>oldpeak</th>\n",
       "      <th>thal</th>\n",
       "      <th>cp_2</th>\n",
       "      <th>cp_3</th>\n",
       "      <th>cp_4</th>\n",
       "      <th>restecg_1</th>\n",
       "      <th>restecg_2</th>\n",
       "      <th>slope_2.0</th>\n",
       "      <th>slope_3.0</th>\n",
       "    </tr>\n",
       "  </thead>\n",
       "  <tbody>\n",
       "    <tr>\n",
       "      <th>count</th>\n",
       "      <td>2.420000e+02</td>\n",
       "      <td>2.420000e+02</td>\n",
       "      <td>2.420000e+02</td>\n",
       "      <td>2.420000e+02</td>\n",
       "      <td>2.420000e+02</td>\n",
       "      <td>2.420000e+02</td>\n",
       "      <td>2.420000e+02</td>\n",
       "      <td>2.420000e+02</td>\n",
       "      <td>2.420000e+02</td>\n",
       "      <td>2.420000e+02</td>\n",
       "      <td>2.420000e+02</td>\n",
       "      <td>2.420000e+02</td>\n",
       "      <td>242.000000</td>\n",
       "      <td>2.420000e+02</td>\n",
       "      <td>2.420000e+02</td>\n",
       "      <td>2.420000e+02</td>\n",
       "    </tr>\n",
       "    <tr>\n",
       "      <th>mean</th>\n",
       "      <td>-1.238679e-16</td>\n",
       "      <td>8.808381e-17</td>\n",
       "      <td>-5.285029e-16</td>\n",
       "      <td>-9.175397e-18</td>\n",
       "      <td>7.707333e-17</td>\n",
       "      <td>5.138222e-17</td>\n",
       "      <td>-8.808381e-17</td>\n",
       "      <td>-1.321257e-16</td>\n",
       "      <td>-9.175397e-17</td>\n",
       "      <td>3.670159e-18</td>\n",
       "      <td>1.339608e-16</td>\n",
       "      <td>-7.340318e-18</td>\n",
       "      <td>0.000000</td>\n",
       "      <td>7.340318e-18</td>\n",
       "      <td>5.505238e-17</td>\n",
       "      <td>4.220683e-17</td>\n",
       "    </tr>\n",
       "    <tr>\n",
       "      <th>std</th>\n",
       "      <td>1.002073e+00</td>\n",
       "      <td>1.002073e+00</td>\n",
       "      <td>1.002073e+00</td>\n",
       "      <td>1.002073e+00</td>\n",
       "      <td>1.002073e+00</td>\n",
       "      <td>1.002073e+00</td>\n",
       "      <td>1.002073e+00</td>\n",
       "      <td>1.002073e+00</td>\n",
       "      <td>1.002073e+00</td>\n",
       "      <td>1.002073e+00</td>\n",
       "      <td>1.002073e+00</td>\n",
       "      <td>1.002073e+00</td>\n",
       "      <td>1.002073</td>\n",
       "      <td>1.002073e+00</td>\n",
       "      <td>1.002073e+00</td>\n",
       "      <td>1.002073e+00</td>\n",
       "    </tr>\n",
       "    <tr>\n",
       "      <th>min</th>\n",
       "      <td>-2.831282e+00</td>\n",
       "      <td>-1.463850e+00</td>\n",
       "      <td>-2.111841e+00</td>\n",
       "      <td>-2.460889e+00</td>\n",
       "      <td>-4.248386e-01</td>\n",
       "      <td>-3.386952e+00</td>\n",
       "      <td>-7.027284e-01</td>\n",
       "      <td>-8.705925e-01</td>\n",
       "      <td>-8.267357e-01</td>\n",
       "      <td>-4.714045e-01</td>\n",
       "      <td>-6.059964e-01</td>\n",
       "      <td>-9.437293e-01</td>\n",
       "      <td>-0.112037</td>\n",
       "      <td>-1.016668e+00</td>\n",
       "      <td>-8.535640e-01</td>\n",
       "      <td>-2.570589e-01</td>\n",
       "    </tr>\n",
       "    <tr>\n",
       "      <th>25%</th>\n",
       "      <td>-7.379818e-01</td>\n",
       "      <td>-1.463850e+00</td>\n",
       "      <td>-6.673683e-01</td>\n",
       "      <td>-7.242894e-01</td>\n",
       "      <td>-4.248386e-01</td>\n",
       "      <td>-7.169668e-01</td>\n",
       "      <td>-7.027284e-01</td>\n",
       "      <td>-8.705925e-01</td>\n",
       "      <td>-8.267357e-01</td>\n",
       "      <td>-4.714045e-01</td>\n",
       "      <td>-6.059964e-01</td>\n",
       "      <td>-9.437293e-01</td>\n",
       "      <td>-0.112037</td>\n",
       "      <td>-1.016668e+00</td>\n",
       "      <td>-8.535640e-01</td>\n",
       "      <td>-2.570589e-01</td>\n",
       "    </tr>\n",
       "    <tr>\n",
       "      <th>50%</th>\n",
       "      <td>1.434079e-01</td>\n",
       "      <td>6.831301e-01</td>\n",
       "      <td>-1.118020e-01</td>\n",
       "      <td>-6.984386e-02</td>\n",
       "      <td>-4.248386e-01</td>\n",
       "      <td>1.658509e-01</td>\n",
       "      <td>-7.027284e-01</td>\n",
       "      <td>-3.531548e-01</td>\n",
       "      <td>-8.267357e-01</td>\n",
       "      <td>-4.714045e-01</td>\n",
       "      <td>-6.059964e-01</td>\n",
       "      <td>-9.437293e-01</td>\n",
       "      <td>-0.112037</td>\n",
       "      <td>9.836054e-01</td>\n",
       "      <td>-8.535640e-01</td>\n",
       "      <td>-2.570589e-01</td>\n",
       "    </tr>\n",
       "    <tr>\n",
       "      <th>75%</th>\n",
       "      <td>6.942765e-01</td>\n",
       "      <td>6.831301e-01</td>\n",
       "      <td>4.437643e-01</td>\n",
       "      <td>5.846016e-01</td>\n",
       "      <td>-4.248386e-01</td>\n",
       "      <td>7.041543e-01</td>\n",
       "      <td>1.423025e+00</td>\n",
       "      <td>5.092414e-01</td>\n",
       "      <td>1.262769e+00</td>\n",
       "      <td>-4.714045e-01</td>\n",
       "      <td>1.650175e+00</td>\n",
       "      <td>1.059626e+00</td>\n",
       "      <td>-0.112037</td>\n",
       "      <td>9.836054e-01</td>\n",
       "      <td>1.171558e+00</td>\n",
       "      <td>-2.570589e-01</td>\n",
       "    </tr>\n",
       "    <tr>\n",
       "      <th>max</th>\n",
       "      <td>2.457056e+00</td>\n",
       "      <td>6.831301e-01</td>\n",
       "      <td>3.777162e+00</td>\n",
       "      <td>3.537336e+00</td>\n",
       "      <td>2.353835e+00</td>\n",
       "      <td>2.254468e+00</td>\n",
       "      <td>1.423025e+00</td>\n",
       "      <td>4.476264e+00</td>\n",
       "      <td>1.262769e+00</td>\n",
       "      <td>2.121320e+00</td>\n",
       "      <td>1.650175e+00</td>\n",
       "      <td>1.059626e+00</td>\n",
       "      <td>8.925619</td>\n",
       "      <td>9.836054e-01</td>\n",
       "      <td>1.171558e+00</td>\n",
       "      <td>3.890159e+00</td>\n",
       "    </tr>\n",
       "  </tbody>\n",
       "</table>\n",
       "</div>"
      ],
      "text/plain": [
       "                age           sex      trestbps          chol           fbs  \\\n",
       "count  2.420000e+02  2.420000e+02  2.420000e+02  2.420000e+02  2.420000e+02   \n",
       "mean  -1.238679e-16  8.808381e-17 -5.285029e-16 -9.175397e-18  7.707333e-17   \n",
       "std    1.002073e+00  1.002073e+00  1.002073e+00  1.002073e+00  1.002073e+00   \n",
       "min   -2.831282e+00 -1.463850e+00 -2.111841e+00 -2.460889e+00 -4.248386e-01   \n",
       "25%   -7.379818e-01 -1.463850e+00 -6.673683e-01 -7.242894e-01 -4.248386e-01   \n",
       "50%    1.434079e-01  6.831301e-01 -1.118020e-01 -6.984386e-02 -4.248386e-01   \n",
       "75%    6.942765e-01  6.831301e-01  4.437643e-01  5.846016e-01 -4.248386e-01   \n",
       "max    2.457056e+00  6.831301e-01  3.777162e+00  3.537336e+00  2.353835e+00   \n",
       "\n",
       "            thalach         exang       oldpeak          thal          cp_2  \\\n",
       "count  2.420000e+02  2.420000e+02  2.420000e+02  2.420000e+02  2.420000e+02   \n",
       "mean   5.138222e-17 -8.808381e-17 -1.321257e-16 -9.175397e-17  3.670159e-18   \n",
       "std    1.002073e+00  1.002073e+00  1.002073e+00  1.002073e+00  1.002073e+00   \n",
       "min   -3.386952e+00 -7.027284e-01 -8.705925e-01 -8.267357e-01 -4.714045e-01   \n",
       "25%   -7.169668e-01 -7.027284e-01 -8.705925e-01 -8.267357e-01 -4.714045e-01   \n",
       "50%    1.658509e-01 -7.027284e-01 -3.531548e-01 -8.267357e-01 -4.714045e-01   \n",
       "75%    7.041543e-01  1.423025e+00  5.092414e-01  1.262769e+00 -4.714045e-01   \n",
       "max    2.254468e+00  1.423025e+00  4.476264e+00  1.262769e+00  2.121320e+00   \n",
       "\n",
       "               cp_3          cp_4   restecg_1     restecg_2     slope_2.0  \\\n",
       "count  2.420000e+02  2.420000e+02  242.000000  2.420000e+02  2.420000e+02   \n",
       "mean   1.339608e-16 -7.340318e-18    0.000000  7.340318e-18  5.505238e-17   \n",
       "std    1.002073e+00  1.002073e+00    1.002073  1.002073e+00  1.002073e+00   \n",
       "min   -6.059964e-01 -9.437293e-01   -0.112037 -1.016668e+00 -8.535640e-01   \n",
       "25%   -6.059964e-01 -9.437293e-01   -0.112037 -1.016668e+00 -8.535640e-01   \n",
       "50%   -6.059964e-01 -9.437293e-01   -0.112037  9.836054e-01 -8.535640e-01   \n",
       "75%    1.650175e+00  1.059626e+00   -0.112037  9.836054e-01  1.171558e+00   \n",
       "max    1.650175e+00  1.059626e+00    8.925619  9.836054e-01  1.171558e+00   \n",
       "\n",
       "          slope_3.0  \n",
       "count  2.420000e+02  \n",
       "mean   4.220683e-17  \n",
       "std    1.002073e+00  \n",
       "min   -2.570589e-01  \n",
       "25%   -2.570589e-01  \n",
       "50%   -2.570589e-01  \n",
       "75%   -2.570589e-01  \n",
       "max    3.890159e+00  "
      ]
     },
     "execution_count": 18,
     "metadata": {},
     "output_type": "execute_result"
    }
   ],
   "source": [
    "scaler = StandardScaler()\n",
    "\n",
    "# Fit en train (aprende media y std)\n",
    "X_train_scaled = scaler.fit_transform(X_train)\n",
    "# Transform en test (usa estadísticas del train)\n",
    "X_test_scaled = scaler.transform(X_test)\n",
    "\n",
    "# Convertir a DataFrames\n",
    "X_train_scaled = pd.DataFrame(X_train_scaled, columns=X_train.columns, index=X_train.index)\n",
    "X_test_scaled = pd.DataFrame(X_test_scaled, columns=X_test.columns, index=X_test.index)\n",
    "\n",
    "X_train_scaled.describe()\n",
    "\n"
   ]
  },
  {
   "cell_type": "markdown",
   "metadata": {},
   "source": [
    "Efectivamente nuestras variables continuas ahora tienen media 0 y std 1"
   ]
  },
  {
   "cell_type": "markdown",
   "metadata": {},
   "source": [
    " ---\n",
    "\n",
    " # SECCIÓN 8: Modelo Baseline\n",
    "\n",
    "\n",
    "\n",
    " ## Por qué necesitamos un baseline\n",
    "\n",
    "\n",
    "\n",
    " Antes de construir modelos complejos, necesitamos un punto de referencia:\n",
    "\n",
    " el enfoque más simple posible.\n",
    "\n",
    "\n",
    "\n",
    " **DummyClassifier** siempre predice la clase más frecuente.\n",
    "\n",
    " Es nuestro \"mínimo a superar\"."
   ]
  },
  {
   "cell_type": "code",
   "execution_count": 19,
   "metadata": {},
   "outputs": [
    {
     "name": "stdout",
     "output_type": "stream",
     "text": [
      "BASELINE MODEL (DummyClassifier)\n",
      "  Train Accuracy: 54.96%\n",
      "  Test Accuracy: 55.74%\n",
      "  Predicción: siempre Sin Enfermedad\n",
      "\n",
      "Cualquier modelo ML debe superar 55.7% para ser útil\n"
     ]
    }
   ],
   "source": [
    "dummy_clf = DummyClassifier(strategy='most_frequent', random_state=42)\n",
    "dummy_clf.fit(X_train_scaled, y_train)\n",
    "\n",
    "dummy_train_pred = dummy_clf.predict(X_train_scaled)\n",
    "dummy_test_pred = dummy_clf.predict(X_test_scaled)\n",
    "\n",
    "dummy_train_acc = accuracy_score(y_train, dummy_train_pred)\n",
    "dummy_test_acc = accuracy_score(y_test, dummy_test_pred)\n",
    "\n",
    "most_frequent_class = dummy_clf.classes_[np.argmax(dummy_clf.class_prior_)]\n",
    "\n",
    "print(f\"BASELINE MODEL (DummyClassifier)\")\n",
    "print(f\"  Train Accuracy: {dummy_train_acc*100:.2f}%\")\n",
    "print(f\"  Test Accuracy: {dummy_test_acc*100:.2f}%\")\n",
    "print(f\"  Predicción: siempre {'Enfermedad' if most_frequent_class == 1 else 'Sin Enfermedad'}\")\n",
    "print(f\"\\nCualquier modelo ML debe superar {dummy_test_acc*100:.1f}% para ser útil\")\n"
   ]
  },
  {
   "cell_type": "markdown",
   "metadata": {},
   "source": [
    " ---\n",
    "\n",
    " # SECCIÓN 9: Entendiendo la Evaluación de Performance\n",
    "\n",
    "\n",
    "\n",
    " ## Tres formas de evaluar un modelo:\n",
    "\n",
    " En el fondo siempre que evaluamos un modelo la pregunta que nos hacemos es: Como de bien lo hará nuestro modelo en \"produccion\", es decir, cuando lo estemos usando en el departamento que le toque? Como no lo sabemos (porque aun no lo hemos puesto en producción), lo que intentamos es estimar lo mas precisamente posible como lo hará, y tres maneras de estimar este error en producción (aunque unas mejores que otras) son las siguientes:\n",
    "\n",
    " **A) Train Accuracy:** Detectar underfitting (modelo demasiado simple)\n",
    "\n",
    "\n",
    "\n",
    " **B) Test Accuracy:** Performance real (usar SOLO al final, UNA VEZ)\n",
    "\n",
    "\n",
    "\n",
    " **C) Cross-Validation:** Método preferido durante desarrollo del modelo\n",
    "\n",
    "\n",
    "\n",
    " Durante desarrollo usamos SOLO los datos de train para no \"contaminar\" el test set.\n",
    "\n",
    " El mismo ejercicio que estamos haciendo para la metrica de accuracy lo podriamos hacer para cualquier otra metrica de performance, somo sensitividad, especificidad etc."
   ]
  },
  {
   "cell_type": "code",
   "execution_count": 24,
   "metadata": {},
   "outputs": [
    {
     "name": "stdout",
     "output_type": "stream",
     "text": [
      "TRES FORMAS DE EVALUAR UN MODELO:\n",
      "\n",
      "A) TRAIN ACCURACY: 83.06%\n",
      "   El modelo 've' estos datos durante entrenamiento\n",
      "   Score alto NO garantiza funcionar en pacientes nuevos\n",
      "\n",
      "B) TEST ACCURACY: 83.61%\n",
      "   El modelo NUNCA vio estos datos\n",
      "   Estima performance real\n",
      "   Solo hacer esto UNA VEZ al final\n",
      "\n",
      "C) CROSS-VALIDATION (5-Fold):\n",
      "   Scores por fold: ['77.6%', '75.5%', '79.2%', '70.8%', '87.5%']\n",
      "   Media: 78.11% (± 5.46%)\n",
      "   Usa solo training data (divide en 5 folds los datos de train)\n",
      "   Da múltiples estimaciones (más robusto)\n",
      "   Test set permanece intacto\n",
      "\n",
      "Durante desarrollo: USAR CROSS-VALIDATION\n"
     ]
    }
   ],
   "source": [
    "# Demostración con Logistic Regression\n",
    "demo_model = LogisticRegression(random_state=42, max_iter=1000)\n",
    "demo_model.fit(X_train_scaled, y_train)\n",
    "\n",
    "# A) Train Accuracy\n",
    "train_pred = demo_model.predict(X_train_scaled)\n",
    "train_acc = accuracy_score(y_train, train_pred)\n",
    "\n",
    "# B) Test Accuracy\n",
    "test_pred = demo_model.predict(X_test_scaled)\n",
    "test_acc = accuracy_score(y_test, test_pred)\n",
    "\n",
    "# C) Cross-Validation\n",
    "cv_scores = cross_val_score(demo_model, X_train_scaled, y_train, cv=5, scoring='accuracy')\n",
    "\n",
    "print(\"TRES FORMAS DE EVALUAR UN MODELO:\\n\")\n",
    "print(f\"A) TRAIN ACCURACY: {train_acc*100:.2f}%\")\n",
    "print(\"   El modelo 've' estos datos durante entrenamiento\")\n",
    "print(\"   Score alto NO garantiza funcionar en pacientes nuevos\\n\")\n",
    "\n",
    "print(f\"B) TEST ACCURACY: {test_acc*100:.2f}%\")\n",
    "print(\"   El modelo NUNCA vio estos datos\")\n",
    "print(\"   Estima performance real\")\n",
    "print(\"   Solo hacer esto UNA VEZ al final\\n\")\n",
    "\n",
    "print(f\"C) CROSS-VALIDATION (5-Fold):\")\n",
    "print(f\"   Scores por fold: {[f'{s*100:.1f}%' for s in cv_scores]}\")\n",
    "print(f\"   Media: {cv_scores.mean()*100:.2f}% (± {cv_scores.std()*100:.2f}%)\")\n",
    "print(\"   Usa solo training data (divide en 5 folds los datos de train)\")\n",
    "print(\"   Da múltiples estimaciones (más robusto)\")\n",
    "print(\"   Test set permanece intacto\")\n",
    "print(\"\\nDurante desarrollo: USAR CROSS-VALIDATION\")\n"
   ]
  },
  {
   "cell_type": "markdown",
   "metadata": {},
   "source": [
    " **Regla de oro:**\n",
    "\n",
    " - Si Train >> CV: OVERFITTING\n",
    "\n",
    " - Si Train ≈ CV ≈ Test: GOOD GENERALIZATION\n",
    "\n",
    " - Durante desarrollo: Cross-Validation\n",
    "\n",
    " - Solo al final: Test (una vez)"
   ]
  },
  {
   "cell_type": "markdown",
   "metadata": {},
   "source": [
    " ---\n",
    "\n",
    " # SECCIÓN 10: ESTRATEGIA 1 - Modelo Básico (Sin Gammagrafía)\n",
    "\n",
    "\n",
    "\n",
    " Entrenamos modelos usando solo variables de consulta + prueba esfuerzo.\n",
    "\n",
    " Aplicable a TODOS los pacientes."
   ]
  },
  {
   "cell_type": "code",
   "execution_count": 25,
   "metadata": {},
   "outputs": [
    {
     "name": "stdout",
     "output_type": "stream",
     "text": [
      "ESTRATEGIA 1: MODELO BÁSICO\n",
      "Variables usadas: 14 de 16 totales\n",
      "Excluidas: thal (gammagrafía), ca (cateterismo)\n",
      "Train: (242, 14), Test: (61, 14)\n"
     ]
    }
   ],
   "source": [
    "# Preparar datos para Modelo Básico\n",
    "X_train_basic = X_train_scaled[basic_features]\n",
    "X_test_basic = X_test_scaled[basic_features]\n",
    "\n",
    "print(f\"ESTRATEGIA 1: MODELO BÁSICO\")\n",
    "print(f\"Variables usadas: {len(basic_features)} de {len(complete_features)} totales\")\n",
    "print(f\"Excluidas: thal (gammagrafía), ca (cateterismo)\")\n",
    "print(f\"Train: {X_train_basic.shape}, Test: {X_test_basic.shape}\")\n"
   ]
  },
  {
   "cell_type": "code",
   "execution_count": 26,
   "metadata": {},
   "outputs": [
    {
     "name": "stdout",
     "output_type": "stream",
     "text": [
      "MODELO 1: LOGISTIC REGRESSION (Básico)\n",
      "Train: 79.75% | CV: 72.77% (±7.52%) | Gap: 6.98%\n"
     ]
    }
   ],
   "source": [
    "# Modelo 1: Logistic Regression (Básico)\n",
    "log_reg_basic = LogisticRegression(random_state=42, max_iter=1000)\n",
    "log_reg_basic.fit(X_train_basic, y_train)\n",
    "\n",
    "log_reg_basic_train = log_reg_basic.score(X_train_basic, y_train)\n",
    "log_reg_basic_cv = cross_val_score(log_reg_basic, X_train_basic, y_train, cv=5, scoring='accuracy')\n",
    "\n",
    "print(\"MODELO 1: LOGISTIC REGRESSION (Básico)\")\n",
    "print(f\"Train: {log_reg_basic_train*100:.2f}% | CV: {log_reg_basic_cv.mean()*100:.2f}% (±{log_reg_basic_cv.std()*100:.2f}%) | Gap: {(log_reg_basic_train - log_reg_basic_cv.mean())*100:.2f}%\")\n"
   ]
  },
  {
   "cell_type": "code",
   "execution_count": 27,
   "metadata": {},
   "outputs": [
    {
     "name": "stdout",
     "output_type": "stream",
     "text": [
      "MODELO 2: DECISION TREE (Básico)\n",
      "Train: 88.02% | CV: 61.98% (±2.47%) | Gap: 26.04%\n"
     ]
    }
   ],
   "source": [
    "# Modelo 2: Decision Tree (Básico)\n",
    "tree_basic = DecisionTreeClassifier(random_state=42, max_depth=5)\n",
    "tree_basic.fit(X_train_basic, y_train)\n",
    "\n",
    "tree_basic_train = tree_basic.score(X_train_basic, y_train)\n",
    "tree_basic_cv = cross_val_score(tree_basic, X_train_basic, y_train, cv=5, scoring='accuracy')\n",
    "\n",
    "print(\"MODELO 2: DECISION TREE (Básico)\")\n",
    "print(f\"Train: {tree_basic_train*100:.2f}% | CV: {tree_basic_cv.mean()*100:.2f}% (±{tree_basic_cv.std()*100:.2f}%) | Gap: {(tree_basic_train - tree_basic_cv.mean())*100:.2f}%\")\n"
   ]
  },
  {
   "cell_type": "code",
   "execution_count": 28,
   "metadata": {},
   "outputs": [
    {
     "name": "stdout",
     "output_type": "stream",
     "text": [
      "MODELO 3: RANDOM FOREST (Básico)\n",
      "Train: 100.00% | CV: 71.95% (±8.19%) | Gap: 28.05%\n"
     ]
    }
   ],
   "source": [
    "# Modelo 3: Random Forest (Básico)\n",
    "rf_basic = RandomForestClassifier(n_estimators=100, random_state=42, max_depth=10)\n",
    "rf_basic.fit(X_train_basic, y_train)\n",
    "\n",
    "rf_basic_train = rf_basic.score(X_train_basic, y_train)\n",
    "rf_basic_cv = cross_val_score(rf_basic, X_train_basic, y_train, cv=5, scoring='accuracy')\n",
    "\n",
    "print(\"MODELO 3: RANDOM FOREST (Básico)\")\n",
    "print(f\"Train: {rf_basic_train*100:.2f}% | CV: {rf_basic_cv.mean()*100:.2f}% (±{rf_basic_cv.std()*100:.2f}%) | Gap: {(rf_basic_train - rf_basic_cv.mean())*100:.2f}%\")\n"
   ]
  },
  {
   "cell_type": "code",
   "execution_count": 29,
   "metadata": {},
   "outputs": [
    {
     "name": "stdout",
     "output_type": "stream",
     "text": [
      "MODELO 4: K-NEAREST NEIGHBORS (Básico)\n",
      "Train: 81.40% | CV: 72.34% (±5.35%) | Gap: 9.07%\n"
     ]
    }
   ],
   "source": [
    "# Modelo 4: KNN (Básico)\n",
    "knn_basic = KNeighborsClassifier(n_neighbors=5)\n",
    "knn_basic.fit(X_train_basic, y_train)\n",
    "\n",
    "knn_basic_train = knn_basic.score(X_train_basic, y_train)\n",
    "knn_basic_cv = cross_val_score(knn_basic, X_train_basic, y_train, cv=5, scoring='accuracy')\n",
    "\n",
    "print(\"MODELO 4: K-NEAREST NEIGHBORS (Básico)\")\n",
    "print(f\"Train: {knn_basic_train*100:.2f}% | CV: {knn_basic_cv.mean()*100:.2f}% (±{knn_basic_cv.std()*100:.2f}%) | Gap: {(knn_basic_train - knn_basic_cv.mean())*100:.2f}%\")\n"
   ]
  },
  {
   "cell_type": "markdown",
   "metadata": {},
   "source": [
    " ---\n",
    "\n",
    " # SECCIÓN 11: ESTRATEGIA 2 - Modelo Completo (Con Gammagrafía)\n",
    "\n",
    "\n",
    "\n",
    " Entrenamos modelos incluyendo resultado de gammagrafía.\n",
    "\n",
    " Solo aplicable a pacientes que ya tienen gammagrafía."
   ]
  },
  {
   "cell_type": "code",
   "execution_count": 30,
   "metadata": {},
   "outputs": [
    {
     "name": "stdout",
     "output_type": "stream",
     "text": [
      "ESTRATEGIA 2: MODELO COMPLETO\n",
      "Variables usadas: 16\n",
      "Incluye: thal (gammagrafía)\n",
      "Excluye: ca (cateterismo - data leakage)\n",
      "Train: (242, 16), Test: (61, 16)\n"
     ]
    }
   ],
   "source": [
    "print(f\"ESTRATEGIA 2: MODELO COMPLETO\")\n",
    "print(f\"Variables usadas: {len(complete_features)}\")\n",
    "print(f\"Incluye: thal (gammagrafía)\")\n",
    "print(f\"Excluye: ca (cateterismo - data leakage)\")\n",
    "print(f\"Train: {X_train_scaled.shape}, Test: {X_test_scaled.shape}\")\n"
   ]
  },
  {
   "cell_type": "code",
   "execution_count": 31,
   "metadata": {},
   "outputs": [
    {
     "name": "stdout",
     "output_type": "stream",
     "text": [
      "MODELO 1: LOGISTIC REGRESSION (Completo)\n",
      "Train: 83.06% | CV: 78.11% (±5.46%) | Gap: 4.95%\n"
     ]
    }
   ],
   "source": [
    "# Modelo 1: Logistic Regression (Completo)\n",
    "log_reg_complete = LogisticRegression(random_state=42, max_iter=1000)\n",
    "log_reg_complete.fit(X_train_scaled, y_train)\n",
    "\n",
    "log_reg_complete_train = log_reg_complete.score(X_train_scaled, y_train)\n",
    "log_reg_complete_cv = cross_val_score(log_reg_complete, X_train_scaled, y_train, cv=5, scoring='accuracy')\n",
    "\n",
    "print(\"MODELO 1: LOGISTIC REGRESSION (Completo)\")\n",
    "print(f\"Train: {log_reg_complete_train*100:.2f}% | CV: {log_reg_complete_cv.mean()*100:.2f}% (±{log_reg_complete_cv.std()*100:.2f}%) | Gap: {(log_reg_complete_train - log_reg_complete_cv.mean())*100:.2f}%\")\n"
   ]
  },
  {
   "cell_type": "code",
   "execution_count": 32,
   "metadata": {},
   "outputs": [
    {
     "name": "stdout",
     "output_type": "stream",
     "text": [
      "MODELO 2: DECISION TREE (Completo)\n",
      "Train: 88.02% | CV: 66.16% (±4.30%) | Gap: 21.86%\n"
     ]
    }
   ],
   "source": [
    "# Modelo 2: Decision Tree (Completo)\n",
    "tree_complete = DecisionTreeClassifier(random_state=42, max_depth=5)\n",
    "tree_complete.fit(X_train_scaled, y_train)\n",
    "\n",
    "tree_complete_train = tree_complete.score(X_train_scaled, y_train)\n",
    "tree_complete_cv = cross_val_score(tree_complete, X_train_scaled, y_train, cv=5, scoring='accuracy')\n",
    "\n",
    "print(\"MODELO 2: DECISION TREE (Completo)\")\n",
    "print(f\"Train: {tree_complete_train*100:.2f}% | CV: {tree_complete_cv.mean()*100:.2f}% (±{tree_complete_cv.std()*100:.2f}%) | Gap: {(tree_complete_train - tree_complete_cv.mean())*100:.2f}%\")\n"
   ]
  },
  {
   "cell_type": "code",
   "execution_count": 33,
   "metadata": {},
   "outputs": [
    {
     "name": "stdout",
     "output_type": "stream",
     "text": [
      "MODELO 3: RANDOM FOREST (Completo)\n",
      "Train: 100.00% | CV: 75.63% (±7.34%) | Gap: 24.37%\n"
     ]
    }
   ],
   "source": [
    "# Modelo 3: Random Forest (Completo)\n",
    "rf_complete = RandomForestClassifier(n_estimators=100, random_state=42, max_depth=10)\n",
    "rf_complete.fit(X_train_scaled, y_train)\n",
    "\n",
    "rf_complete_train = rf_complete.score(X_train_scaled, y_train)\n",
    "rf_complete_cv = cross_val_score(rf_complete, X_train_scaled, y_train, cv=5, scoring='accuracy')\n",
    "\n",
    "print(\"MODELO 3: RANDOM FOREST (Completo)\")\n",
    "print(f\"Train: {rf_complete_train*100:.2f}% | CV: {rf_complete_cv.mean()*100:.2f}% (±{rf_complete_cv.std()*100:.2f}%) | Gap: {(rf_complete_train - rf_complete_cv.mean())*100:.2f}%\")\n"
   ]
  },
  {
   "cell_type": "code",
   "execution_count": 34,
   "metadata": {},
   "outputs": [
    {
     "name": "stdout",
     "output_type": "stream",
     "text": [
      "MODELO 4: K-NEAREST NEIGHBORS (Completo)\n",
      "Train: 82.64% | CV: 74.84% (±8.29%) | Gap: 7.81%\n"
     ]
    }
   ],
   "source": [
    "# Modelo 4: KNN (Completo)\n",
    "knn_complete = KNeighborsClassifier(n_neighbors=5)\n",
    "knn_complete.fit(X_train_scaled, y_train)\n",
    "\n",
    "knn_complete_train = knn_complete.score(X_train_scaled, y_train)\n",
    "knn_complete_cv = cross_val_score(knn_complete, X_train_scaled, y_train, cv=5, scoring='accuracy')\n",
    "\n",
    "print(\"MODELO 4: K-NEAREST NEIGHBORS (Completo)\")\n",
    "print(f\"Train: {knn_complete_train*100:.2f}% | CV: {knn_complete_cv.mean()*100:.2f}% (±{knn_complete_cv.std()*100:.2f}%) | Gap: {(knn_complete_train - knn_complete_cv.mean())*100:.2f}%\")\n"
   ]
  },
  {
   "cell_type": "markdown",
   "metadata": {},
   "source": [
    " ---\n",
    "\n",
    " # SECCIÓN 12: Comparación de Estrategias"
   ]
  },
  {
   "cell_type": "code",
   "execution_count": 35,
   "metadata": {},
   "outputs": [
    {
     "name": "stdout",
     "output_type": "stream",
     "text": [
      "COMPARACIÓN COMPLETA: BÁSICO vs COMPLETO\n",
      "           Modelo Estrategia  Train (%)    CV (%)   Gap (%)\n",
      "         Baseline        N/A  54.958678 55.737705  0.000000\n",
      "  LogReg (Básico)     Básico  79.752066 72.772109  6.979957\n",
      "    Tree (Básico)     Básico  88.016529 61.981293 26.035236\n",
      "      RF (Básico)     Básico 100.000000 71.947279 28.052721\n",
      "     KNN (Básico)     Básico  81.404959 72.338435  9.066523\n",
      "LogReg (Completo)   Completo  83.057851 78.112245  4.945606\n",
      "  Tree (Completo)   Completo  88.016529 66.156463 21.860066\n",
      "    RF (Completo)   Completo 100.000000 75.629252 24.370748\n",
      "   KNN (Completo)   Completo  82.644628 74.838435  7.806193\n"
     ]
    }
   ],
   "source": [
    "# Tabla comparativa\n",
    "comparison = pd.DataFrame({\n",
    "    'Modelo': ['Baseline', \n",
    "               'LogReg (Básico)', 'Tree (Básico)', 'RF (Básico)', 'KNN (Básico)',\n",
    "               'LogReg (Completo)', 'Tree (Completo)', 'RF (Completo)', 'KNN (Completo)'],\n",
    "    'Estrategia': ['N/A',\n",
    "                   'Básico', 'Básico', 'Básico', 'Básico',\n",
    "                   'Completo', 'Completo', 'Completo', 'Completo'],\n",
    "    'Train (%)': [dummy_train_acc*100,\n",
    "                  log_reg_basic_train*100, tree_basic_train*100, rf_basic_train*100, knn_basic_train*100,\n",
    "                  log_reg_complete_train*100, tree_complete_train*100, rf_complete_train*100, knn_complete_train*100],\n",
    "    'CV (%)': [dummy_test_acc*100,\n",
    "               log_reg_basic_cv.mean()*100, tree_basic_cv.mean()*100, rf_basic_cv.mean()*100, knn_basic_cv.mean()*100,\n",
    "               log_reg_complete_cv.mean()*100, tree_complete_cv.mean()*100, rf_complete_cv.mean()*100, knn_complete_cv.mean()*100],\n",
    "    'Gap (%)': [0,\n",
    "                (log_reg_basic_train - log_reg_basic_cv.mean())*100,\n",
    "                (tree_basic_train - tree_basic_cv.mean())*100,\n",
    "                (rf_basic_train - rf_basic_cv.mean())*100,\n",
    "                (knn_basic_train - knn_basic_cv.mean())*100,\n",
    "                (log_reg_complete_train - log_reg_complete_cv.mean())*100,\n",
    "                (tree_complete_train - tree_complete_cv.mean())*100,\n",
    "                (rf_complete_train - rf_complete_cv.mean())*100,\n",
    "                (knn_complete_train - knn_complete_cv.mean())*100]\n",
    "})\n",
    "\n",
    "print(\"COMPARACIÓN COMPLETA: BÁSICO vs COMPLETO\")\n",
    "print(comparison.to_string(index=False))\n"
   ]
  },
  {
   "cell_type": "code",
   "execution_count": 36,
   "metadata": {},
   "outputs": [
    {
     "data": {
      "image/png": "[encoded data removed]",
      "text/plain": [
       "<Figure size 1600x600 with 2 Axes>"
      ]
     },
     "metadata": {},
     "output_type": "display_data"
    }
   ],
   "source": [
    "# Visualización comparativa\n",
    "fig, axes = plt.subplots(1, 2, figsize=(16, 6))\n",
    "\n",
    "basic_models = comparison[comparison['Estrategia'] == 'Básico']\n",
    "complete_models = comparison[comparison['Estrategia'] == 'Completo']\n",
    "\n",
    "x = np.arange(4)\n",
    "width = 0.35\n",
    "\n",
    "color_basic = '#5DADE2'\n",
    "color_complete = '#F39C12'\n",
    "\n",
    "axes[0].bar(x - width/2, basic_models['CV (%)'].values, width, \n",
    "            label='Básico (sin gammagrafía)', alpha=0.85, color=color_basic, edgecolor='#2874A6', linewidth=1.5)\n",
    "axes[0].bar(x + width/2, complete_models['CV (%)'].values, width,\n",
    "            label='Completo (con gammagrafía)', alpha=0.85, color=color_complete, edgecolor='#BA4A00', linewidth=1.5)\n",
    "axes[0].set_ylabel('CV Accuracy (%)', fontsize=12, fontweight='bold')\n",
    "axes[0].set_title('Comparación: Modelo Básico vs Completo', fontweight='bold', fontsize=13)\n",
    "axes[0].set_xticks(x)\n",
    "axes[0].set_xticklabels(['LogReg', 'Tree', 'RF', 'KNN'])\n",
    "axes[0].axhline(y=dummy_test_acc*100, color='#E74C3C', linestyle='--', alpha=0.6, linewidth=2, \n",
    "                label=f'Baseline ({dummy_test_acc*100:.1f}%)')\n",
    "axes[0].legend(framealpha=0.9, loc='lower right')\n",
    "axes[0].set_ylim([40, 100])\n",
    "axes[0].grid(axis='y', alpha=0.3, linestyle='--')\n",
    "axes[0].spines['top'].set_visible(False)\n",
    "axes[0].spines['right'].set_visible(False)\n",
    "\n",
    "all_models = comparison[comparison['Estrategia'] != 'N/A']\n",
    "colors_gap = ['#27AE60' if gap < 10 else '#F39C12' if gap < 20 else '#E74C3C' for gap in all_models['Gap (%)']]\n",
    "\n",
    "axes[1].scatter(range(len(all_models)), all_models['Gap (%)'], \n",
    "                c=colors_gap, s=200, alpha=0.7, edgecolors='black', linewidth=1.5)\n",
    "\n",
    "axes[1].axhline(y=10, color='#F39C12', linestyle='--', alpha=0.5, linewidth=2, label='Moderado (10%)')\n",
    "axes[1].axhline(y=20, color='#E74C3C', linestyle='--', alpha=0.5, linewidth=2, label='Alto (20%)')\n",
    "\n",
    "axes[1].set_ylabel('Gap (Train - CV) %', fontsize=12, fontweight='bold')\n",
    "axes[1].set_title('Gap como Indicador de Overfitting', fontweight='bold', fontsize=13)\n",
    "axes[1].set_xticks(range(len(all_models)))\n",
    "axes[1].set_xticklabels(all_models['Modelo'], rotation=45, ha='right')\n",
    "axes[1].legend(framealpha=0.9)\n",
    "axes[1].grid(axis='y', alpha=0.3, linestyle='--')\n",
    "axes[1].spines['top'].set_visible(False)\n",
    "axes[1].spines['right'].set_visible(False)\n",
    "\n",
    "plt.tight_layout()\n",
    "plt.show()\n"
   ]
  },
  {
   "cell_type": "markdown",
   "metadata": {},
   "source": [
    " **Observaciones:**\n",
    "\n",
    " - Todos los modelos superan el baseline\n",
    "\n",
    " - Modelos Completos (con gammagrafía) tienen mejor accuracy: Esperable, puesto que usan también una información valiosa que el modelo basico no usa...\n",
    "\n",
    " - Random Forest muestra mejor balance en ambas estrategias"
   ]
  },
  {
   "cell_type": "markdown",
   "metadata": {},
   "source": [
    " ---\n",
    "\n",
    " # SECCIÓN 13: Métricas Clínicas - Evaluación en Test Set\n",
    "\n",
    "\n",
    "\n",
    " ## Métricas que importan en medicina:\n",
    "\n",
    " Como me habreis oido decir antes, la accuracy no lo es todo, puesto que si el coste monetario o humano de un FP y un FN no son parecidos, no nos ayuda a encontrar un buen compromiso, de la misma manera que también nos engaña si predecimos sobre enfermedades con muy poca prevalencia (nuestros datos estan muy desbalanceados)\n",
    "\n",
    " **Sensitivity (Recall):** De todos los enfermos, ¿cuántos detectamos?\n",
    "\n",
    " - En medicina: NO queremos perder casos de enfermedad (priorizar Sensitivity)\n",
    "\n",
    "\n",
    "\n",
    " **Specificity:** De todos los sanos, ¿cuántos identificamos correctamente?\n",
    "\n",
    " - Evita procedimientos innecesarios\n",
    "\n",
    "\n",
    "\n",
    " **PPV (Precision):** Si predecimos \"enfermedad\", ¿qué probabilidad de estar en lo cierto?\n",
    "\n",
    "\n",
    "\n",
    " **NPV:** Si predecimos \"sano\", ¿qué probabilidad de estar en lo cierto?\n",
    "\n",
    "\n",
    "\n",
    " Evaluamos SOLO EN TEST SET (una única vez)"
   ]
  },
  {
   "cell_type": "code",
   "execution_count": 37,
   "metadata": {},
   "outputs": [],
   "source": [
    "def clinical_metrics(y_true, y_pred, model_name):\n",
    "    \"\"\"Calcula métricas clínicas relevantes\"\"\"\n",
    "    cm = confusion_matrix(y_true, y_pred)\n",
    "    TN, FP, FN, TP = cm.ravel()\n",
    "    \n",
    "    sensitivity = TP / (TP + FN) if (TP + FN) > 0 else 0\n",
    "    specificity = TN / (TN + FP) if (TN + FP) > 0 else 0\n",
    "    ppv = TP / (TP + FP) if (TP + FP) > 0 else 0\n",
    "    npv = TN / (TN + FN) if (TN + FN) > 0 else 0\n",
    "    accuracy = (TP + TN) / (TP + TN + FP + FN)\n",
    "    \n",
    "    print(f\"\\nMÉTRICAS CLÍNICAS: {model_name}\")\n",
    "    print(f\"{'='*70}\")\n",
    "    print(f\"\\nConfusion Matrix:\")\n",
    "    print(f\"  TN: {TN} (sanos identificados correctamente)\")\n",
    "    print(f\"  FP: {FP} (sanos clasificados como enfermos - cateterismo innecesario)\")\n",
    "    print(f\"  FN: {FN} (enfermos clasificados como sanos - PELIGROSO)\")\n",
    "    print(f\"  TP: {TP} (enfermos identificados correctamente)\")\n",
    "    \n",
    "    print(f\"\\nMÉTRICAS:\")\n",
    "    print(f\"  Accuracy: {accuracy*100:.1f}%\")\n",
    "    print(f\"  Sensitivity (Recall): {sensitivity*100:.1f}% - Detecta {sensitivity*100:.0f}% de enfermos\")\n",
    "    print(f\"  Specificity: {specificity*100:.1f}% - Identifica {specificity*100:.0f}% de sanos\")\n",
    "    print(f\"  PPV (Precision): {ppv*100:.1f}% - Si predice enfermedad, {ppv*100:.0f}% correcto\")\n",
    "    print(f\"  NPV: {npv*100:.1f}% - Si predice sano, {npv*100:.0f}% correcto\")\n",
    "    \n",
    "    print(f\"\\nCASOS PERDIDOS: {FN} pacientes con enfermedad NO detectados\")\n",
    "    \n",
    "    return {\n",
    "        'Model': model_name,\n",
    "        'Sensitivity': sensitivity * 100,\n",
    "        'Specificity': specificity * 100,\n",
    "        'PPV': ppv * 100,\n",
    "        'NPV': npv * 100,\n",
    "        'Accuracy': accuracy * 100,\n",
    "        'FN': FN,\n",
    "        'FP': FP\n",
    "    }\n"
   ]
  },
  {
   "cell_type": "code",
   "execution_count": 39,
   "metadata": {},
   "outputs": [
    {
     "name": "stdout",
     "output_type": "stream",
     "text": [
      "EVALUACIÓN FINAL EN TEST SET\n",
      "\n",
      "MÉTRICAS CLÍNICAS: Random Forest (Básico)\n",
      "======================================================================\n",
      "\n",
      "Confusion Matrix:\n",
      "  TN: 27 (sanos identificados correctamente)\n",
      "  FP: 7 (sanos clasificados como enfermos - cateterismo innecesario)\n",
      "  FN: 2 (enfermos clasificados como sanos - PELIGROSO)\n",
      "  TP: 25 (enfermos identificados correctamente)\n",
      "\n",
      "MÉTRICAS:\n",
      "  Accuracy: 85.2%\n",
      "  Sensitivity (Recall): 92.6% - Detecta 93% de enfermos\n",
      "  Specificity: 79.4% - Identifica 79% de sanos\n",
      "  PPV (Precision): 78.1% - Si predice enfermedad, 78% correcto\n",
      "  NPV: 93.1% - Si predice sano, 93% correcto\n",
      "\n",
      "CASOS PERDIDOS: 2 pacientes con enfermedad NO detectados\n"
     ]
    }
   ],
   "source": [
    "# Evaluar Random Forest Básico en Test\n",
    "print(\"EVALUACIÓN FINAL EN TEST SET\")\n",
    "\n",
    "y_pred_rf_basic = rf_basic.predict(X_test_basic)\n",
    "metrics_rf_basic = clinical_metrics(y_test, y_pred_rf_basic, \"Random Forest (Básico)\")\n"
   ]
  },
  {
   "cell_type": "code",
   "execution_count": 40,
   "metadata": {},
   "outputs": [
    {
     "name": "stdout",
     "output_type": "stream",
     "text": [
      "\n",
      "MÉTRICAS CLÍNICAS: Random Forest (Completo)\n",
      "======================================================================\n",
      "\n",
      "Confusion Matrix:\n",
      "  TN: 30 (sanos identificados correctamente)\n",
      "  FP: 4 (sanos clasificados como enfermos - cateterismo innecesario)\n",
      "  FN: 5 (enfermos clasificados como sanos - PELIGROSO)\n",
      "  TP: 22 (enfermos identificados correctamente)\n",
      "\n",
      "MÉTRICAS:\n",
      "  Accuracy: 85.2%\n",
      "  Sensitivity (Recall): 81.5% - Detecta 81% de enfermos\n",
      "  Specificity: 88.2% - Identifica 88% de sanos\n",
      "  PPV (Precision): 84.6% - Si predice enfermedad, 85% correcto\n",
      "  NPV: 85.7% - Si predice sano, 86% correcto\n",
      "\n",
      "CASOS PERDIDOS: 5 pacientes con enfermedad NO detectados\n"
     ]
    }
   ],
   "source": [
    "# Evaluar Random Forest Completo en Test\n",
    "y_pred_rf_complete = rf_complete.predict(X_test_scaled)\n",
    "metrics_rf_complete = clinical_metrics(y_test, y_pred_rf_complete, \"Random Forest (Completo)\")\n"
   ]
  },
  {
   "cell_type": "code",
   "execution_count": 41,
   "metadata": {},
   "outputs": [
    {
     "data": {
      "image/png": "[encoded data removed]",
      "text/plain": [
       "<Figure size 1600x600 with 2 Axes>"
      ]
     },
     "metadata": {},
     "output_type": "display_data"
    }
   ],
   "source": [
    "# Comparación visual de métricas\n",
    "metrics_comparison = pd.DataFrame([metrics_rf_basic, metrics_rf_complete])\n",
    "\n",
    "fig, axes = plt.subplots(1, 2, figsize=(16, 6))\n",
    "\n",
    "metrics_to_plot = ['Sensitivity', 'Specificity', 'PPV', 'NPV']\n",
    "x = np.arange(len(metrics_to_plot))\n",
    "width = 0.35\n",
    "\n",
    "basic_vals = [metrics_rf_basic[m] for m in metrics_to_plot]\n",
    "complete_vals = [metrics_rf_complete[m] for m in metrics_to_plot]\n",
    "\n",
    "color_basic = '#5DADE2'\n",
    "color_complete = '#F39C12'\n",
    "\n",
    "axes[0].bar(x - width/2, basic_vals, width, label='Básico', alpha=0.85, \n",
    "            color=color_basic, edgecolor='#2874A6', linewidth=1.5)\n",
    "axes[0].bar(x + width/2, complete_vals, width, label='Completo', alpha=0.85, \n",
    "            color=color_complete, edgecolor='#BA4A00', linewidth=1.5)\n",
    "axes[0].set_ylabel('Porcentaje (%)', fontsize=12, fontweight='bold')\n",
    "axes[0].set_title('Métricas Clínicas: Básico vs Completo (Random Forest)', fontweight='bold', fontsize=13)\n",
    "axes[0].set_xticks(x)\n",
    "axes[0].set_xticklabels(metrics_to_plot)\n",
    "axes[0].legend(framealpha=0.9)\n",
    "axes[0].set_ylim([0, 100])\n",
    "axes[0].axhline(y=80, color='#27AE60', linestyle='--', alpha=0.4, linewidth=2)\n",
    "axes[0].grid(axis='y', alpha=0.3, linestyle='--')\n",
    "axes[0].spines['top'].set_visible(False)\n",
    "axes[0].spines['right'].set_visible(False)\n",
    "\n",
    "error_types = ['Falsos Negativos\\n(Enfermos perdidos)', 'Falsos Positivos\\n(Cateterismos innecesarios)']\n",
    "basic_errors = [metrics_rf_basic['FN'], metrics_rf_basic['FP']]\n",
    "complete_errors = [metrics_rf_complete['FN'], metrics_rf_complete['FP']]\n",
    "\n",
    "x2 = np.arange(len(error_types))\n",
    "\n",
    "axes[1].hlines(y=x2 - 0.15, xmin=0, xmax=basic_errors, color=color_basic, alpha=0.7, linewidth=3)\n",
    "axes[1].plot(basic_errors, x2 - 0.15, \"o\", markersize=12, color=color_basic, \n",
    "             alpha=0.85, label='Básico', markeredgecolor='#2874A6', markeredgewidth=1.5)\n",
    "\n",
    "axes[1].hlines(y=x2 + 0.15, xmin=0, xmax=complete_errors, color=color_complete, alpha=0.7, linewidth=3)\n",
    "axes[1].plot(complete_errors, x2 + 0.15, \"o\", markersize=12, color=color_complete, \n",
    "             alpha=0.85, label='Completo', markeredgecolor='#BA4A00', markeredgewidth=1.5)\n",
    "\n",
    "axes[1].set_xlabel('Número de casos', fontsize=12, fontweight='bold')\n",
    "axes[1].set_title('Tipos de Error: Básico vs Completo', fontweight='bold', fontsize=13)\n",
    "axes[1].set_yticks(x2)\n",
    "axes[1].set_yticklabels(error_types)\n",
    "axes[1].legend(framealpha=0.9)\n",
    "axes[1].grid(axis='x', alpha=0.3, linestyle='--')\n",
    "axes[1].spines['top'].set_visible(False)\n",
    "axes[1].spines['right'].set_visible(False)\n",
    "\n",
    "plt.tight_layout()\n",
    "plt.show()\n"
   ]
  },
  {
   "cell_type": "markdown",
   "metadata": {},
   "source": [
    " ---\n",
    "\n",
    " # SECCIÓN 14: Curvas ROC y Análisis de Threshold\n",
    "\n",
    "\n",
    "\n",
    " ## Por qué importa el threshold\n",
    "\n",
    "\n",
    "\n",
    " Los modelos de clasificación devuelven una probabilidad de enfermedad (0 a 1).\n",
    "\n",
    " Necesitamos un umbral de decisión (threshold) para convertir esa probabilidad en una decisión binaria. Hasta ahora automatiamente el codigo habia usado un thrshold de 0.5 para binarizar nuestra prediction (que es una probabilidad entre 0 y 1) a un resultado (sano/enfermo)\n",
    "\n",
    "\n",
    "\n",
    " **Threshold por defecto: 0.5**\n",
    "\n",
    " - Si probabilidad >= 0.5, predecir \"enfermedad\"\n",
    "\n",
    " - Si probabilidad < 0.5, predecir \"sano\"\n",
    "\n",
    "\n",
    "\n",
    " **Problema:** Este 0.5 es arbitrario y puede no ser óptimo para decisiones clínicas.\n",
    "\n",
    "\n",
    "\n",
    " **En medicina:**\n",
    "\n",
    " - **Threshold bajo (ej: 0.3):** Más sensible, detecta más enfermos, pero más falsos positivos\n",
    "\n",
    " - **Threshold alto (ej: 0.7):** Más específico, menos falsos positivos, pero pierde casos reales\n",
    "\n",
    "\n",
    "\n",
    " La **curva ROC** muestra el trade-off entre sensibilidad y especificidad para TODOS los thresholds posibles. \n",
    " \n",
    " **Importante: Deberemos identificar el threshold que es más util para nuestras necesidades clínicas**"
   ]
  },
  {
   "cell_type": "markdown",
   "metadata": {},
   "source": [
    "Alerta: El modelo ya lo habiamos entrenado antes y escogido en train, cogiendo el que tenia mejor accuracy en cross-validation en TRAIN. Ahora todo lo estamos comprobando en TEST."
   ]
  },
  {
   "cell_type": "code",
   "execution_count": 44,
   "metadata": {},
   "outputs": [
    {
     "name": "stdout",
     "output_type": "stream",
     "text": [
      "AUC Modelo Básico: 0.927\n",
      "AUC Modelo Completo: 0.924\n"
     ]
    }
   ],
   "source": [
    "# Obtener probabilidades predichas\n",
    "y_proba_rf_basic = rf_basic.predict_proba(X_test_basic)[:, 1]\n",
    "fpr_basic, tpr_basic, thresholds_basic = roc_curve(y_test, y_proba_rf_basic)\n",
    "auc_basic = auc(fpr_basic, tpr_basic)\n",
    "\n",
    "y_proba_rf_complete = rf_complete.predict_proba(X_test_scaled)[:, 1]\n",
    "fpr_complete, tpr_complete, thresholds_complete = roc_curve(y_test, y_proba_rf_complete)\n",
    "auc_complete = auc(fpr_complete, tpr_complete)\n",
    "\n",
    "print(f\"AUC Modelo Básico: {auc_basic:.3f}\")\n",
    "print(f\"AUC Modelo Completo: {auc_complete:.3f}\")\n"
   ]
  },
  {
   "cell_type": "markdown",
   "metadata": {},
   "source": [
    "ROC-AUC es una metrica de performance threshold acnostic, es decir, a diferencia de la accuracy, senstivity etc., AUC no depende de que threshold escojamos, sinó que nos da una intuicion de lo bien que lo hace el modelo en general."
   ]
  },
  {
   "cell_type": "code",
   "execution_count": 45,
   "metadata": {},
   "outputs": [
    {
     "data": {
      "image/png": "[encoded data removed]",
      "text/plain": [
       "<Figure size 1600x700 with 2 Axes>"
      ]
     },
     "metadata": {},
     "output_type": "display_data"
    },
    {
     "name": "stdout",
     "output_type": "stream",
     "text": [
      "\n",
      "Threshold óptimo (Youden's Index): 0.340\n",
      "Sensibilidad en threshold óptimo: 92.6%\n",
      "Especificidad en threshold óptimo: 79.4%\n"
     ]
    }
   ],
   "source": [
    "# Visualización: Curvas ROC\n",
    "fig, axes = plt.subplots(1, 2, figsize=(16, 7))\n",
    "\n",
    "color_basic = '#5DADE2'\n",
    "color_complete = '#F39C12'\n",
    "\n",
    "axes[0].plot(fpr_basic, tpr_basic, linewidth=3, color=color_basic, alpha=0.85,\n",
    "             label=f'Básico (AUC = {auc_basic:.3f})')\n",
    "axes[0].plot(fpr_complete, tpr_complete, linewidth=3, color=color_complete, alpha=0.85,\n",
    "             label=f'Completo (AUC = {auc_complete:.3f})')\n",
    "\n",
    "axes[0].plot([0, 1], [0, 1], 'k--', linewidth=2, alpha=0.4, label='Aleatorio (AUC = 0.5)')\n",
    "\n",
    "idx_basic_05 = np.argmin(np.abs(thresholds_basic - 0.5))\n",
    "axes[0].scatter(fpr_basic[idx_basic_05], tpr_basic[idx_basic_05], \n",
    "                s=150, c=color_basic, edgecolors='black', linewidth=2, zorder=5,\n",
    "                marker='o', label=f'Threshold=0.5 (Básico)')\n",
    "\n",
    "idx_complete_05 = np.argmin(np.abs(thresholds_complete - 0.5))\n",
    "axes[0].scatter(fpr_complete[idx_complete_05], tpr_complete[idx_complete_05], \n",
    "                s=150, c=color_complete, edgecolors='black', linewidth=2, zorder=5,\n",
    "                marker='s', label=f'Threshold=0.5 (Completo)')\n",
    "\n",
    "axes[0].set_xlabel('1 - Especificidad (Tasa Falsos Positivos)', fontsize=12, fontweight='bold')\n",
    "axes[0].set_ylabel('Sensibilidad (Tasa Verdaderos Positivos)', fontsize=12, fontweight='bold')\n",
    "axes[0].set_title('Curvas ROC: Básico vs Completo', fontsize=14, fontweight='bold')\n",
    "axes[0].legend(loc='lower right', framealpha=0.95, fontsize=10)\n",
    "axes[0].grid(alpha=0.3, linestyle='--')\n",
    "axes[0].set_xlim([-0.02, 1.02])\n",
    "axes[0].set_ylim([-0.02, 1.02])\n",
    "axes[0].spines['top'].set_visible(False)\n",
    "axes[0].spines['right'].set_visible(False)\n",
    "\n",
    "specificity_complete = 1 - fpr_complete\n",
    "\n",
    "youden_idx = np.argmax(tpr_complete - fpr_complete)\n",
    "optimal_threshold = thresholds_complete[youden_idx]\n",
    "\n",
    "axes[1].plot(thresholds_complete, tpr_complete, linewidth=3, color='#27AE60', \n",
    "             alpha=0.85, label='Sensibilidad')\n",
    "axes[1].plot(thresholds_complete, specificity_complete, linewidth=3, color='#E74C3C', \n",
    "             alpha=0.85, label='Especificidad')\n",
    "\n",
    "axes[1].axvline(optimal_threshold, color='gray', linestyle='--', linewidth=2, alpha=0.6)\n",
    "axes[1].scatter(optimal_threshold, tpr_complete[youden_idx], s=150, c='#27AE60', \n",
    "                edgecolors='black', linewidth=2, zorder=5)\n",
    "axes[1].scatter(optimal_threshold, specificity_complete[youden_idx], s=150, c='#E74C3C', \n",
    "                edgecolors='black', linewidth=2, zorder=5)\n",
    "axes[1].text(optimal_threshold + 0.05, 0.5, f'Óptimo\\n{optimal_threshold:.2f}', \n",
    "             fontsize=11, fontweight='bold', ha='left')\n",
    "\n",
    "axes[1].axvline(0.5, color='black', linestyle=':', linewidth=2, alpha=0.5, label='Default (0.5)')\n",
    "\n",
    "axes[1].set_xlabel('Threshold de decisión', fontsize=12, fontweight='bold')\n",
    "axes[1].set_ylabel('Tasa (%)', fontsize=12, fontweight='bold')\n",
    "axes[1].set_title('Trade-off Sensibilidad vs Especificidad\\n(Modelo Completo)', \n",
    "                  fontsize=14, fontweight='bold')\n",
    "axes[1].legend(loc='best', framealpha=0.95, fontsize=10)\n",
    "axes[1].grid(alpha=0.3, linestyle='--')\n",
    "axes[1].set_xlim([0, 1])\n",
    "axes[1].set_ylim([0, 1.05])\n",
    "axes[1].spines['top'].set_visible(False)\n",
    "axes[1].spines['right'].set_visible(False)\n",
    "\n",
    "plt.tight_layout()\n",
    "plt.show()\n",
    "\n",
    "print(f\"\\nThreshold óptimo (Youden's Index): {optimal_threshold:.3f}\")\n",
    "print(f\"Sensibilidad en threshold óptimo: {tpr_complete[youden_idx]*100:.1f}%\")\n",
    "print(f\"Especificidad en threshold óptimo: {specificity_complete[youden_idx]*100:.1f}%\")\n"
   ]
  },
  {
   "cell_type": "markdown",
   "metadata": {},
   "source": [
    " **Interpretación de las curvas ROC:**\n",
    "\n",
    "\n",
    "\n",
    " - **AUC (Area Under Curve):** Métrica global de performance\n",
    "\n",
    "   - AUC = 0.5: Modelo aleatorio (línea diagonal)\n",
    "\n",
    "   - AUC = 1.0: Modelo perfecto (esquina superior izquierda)\n",
    "\n",
    "   - AUC > 0.8: Generalmente considerado bueno en medicina\n",
    "\n",
    "\n",
    "\n",
    " - **Threshold óptimo (Youden's Index):** Maximiza (Sensibilidad + Especificidad - 1)\n",
    "\n",
    "   - Balancea ambas métricas igualmente\n",
    "\n",
    "   - Puede no ser óptimo si hay costes asimétricos (FN vs FP)\n",
    "\n",
    "\n",
    "\n",
    " - **En nuestro contexto clínico:**\n",
    "\n",
    "   - FN (enfermo no detectado) es MÁS grave que FP (cateterismo innecesario)\n",
    "\n",
    "   - Podríamos preferir threshold < 0.5 para aumentar sensibilidad\n",
    "\n",
    "   - Trade-off: Más cateterismos pero menos casos perdidos"
   ]
  },
  {
   "cell_type": "code",
   "execution_count": 46,
   "metadata": {},
   "outputs": [
    {
     "name": "stdout",
     "output_type": "stream",
     "text": [
      "\n",
      "Análisis de diferentes thresholds (Modelo Completo):\n",
      " Threshold  Sensitivity  Specificity  Accuracy     PPV     NPV  FN  FP  TN  Total_Errors\n",
      "      0.00      100.000        0.000    44.262  44.262   0.000   0  34   0            34\n",
      "      0.02      100.000        8.824    49.180  46.552 100.000   0  31   3            31\n",
      "      0.04      100.000       11.765    50.820  47.368 100.000   0  30   4            30\n",
      "      0.06      100.000       17.647    54.098  49.091 100.000   0  28   6            28\n",
      "      0.08      100.000       23.529    57.377  50.943 100.000   0  26   8            26\n",
      "      0.10      100.000       29.412    60.656  52.941 100.000   0  24  10            24\n",
      "      0.12      100.000       35.294    63.934  55.102 100.000   0  22  12            22\n",
      "      0.14      100.000       41.176    67.213  57.447 100.000   0  20  14            20\n",
      "      0.16      100.000       41.176    67.213  57.447 100.000   0  20  14            20\n",
      "      0.18      100.000       44.118    68.852  58.696 100.000   0  19  15            19\n",
      "      0.20      100.000       50.000    72.131  61.364 100.000   0  17  17            17\n",
      "      0.22      100.000       55.882    75.410  64.286 100.000   0  15  19            15\n",
      "      0.24      100.000       61.765    78.689  67.500 100.000   0  13  21            13\n",
      "      0.26      100.000       64.706    80.328  69.231 100.000   0  12  22            12\n",
      "      0.28       96.296       67.647    80.328  70.270  95.833   1  11  23            12\n",
      "      0.30       92.593       73.529    81.967  73.529  92.593   2   9  25            11\n",
      "      0.32       92.593       76.471    83.607  75.758  92.857   2   8  26            10\n",
      "      0.34       92.593       79.412    85.246  78.125  93.103   2   7  27             9\n",
      "      0.36       88.889       79.412    83.607  77.419  90.000   3   7  27            10\n",
      "      0.38       88.889       79.412    83.607  77.419  90.000   3   7  27            10\n",
      "      0.40       88.889       82.353    85.246  80.000  90.323   3   6  28             9\n",
      "      0.42       85.185       82.353    83.607  79.310  87.500   4   6  28            10\n",
      "      0.44       85.185       82.353    83.607  79.310  87.500   4   6  28            10\n",
      "      0.46       85.185       82.353    83.607  79.310  87.500   4   6  28            10\n",
      "      0.48       81.481       85.294    83.607  81.481  85.294   5   5  29            10\n",
      "      0.50       81.481       88.235    85.246  84.615  85.714   5   4  30             9\n",
      "      0.52       77.778       88.235    83.607  84.000  83.333   6   4  30            10\n",
      "      0.54       74.074       88.235    81.967  83.333  81.081   7   4  30            11\n",
      "      0.56       74.074       88.235    81.967  83.333  81.081   7   4  30            11\n",
      "      0.58       70.370       91.176    81.967  86.364  79.487   8   3  31            11\n",
      "      0.60       70.370       91.176    81.967  86.364  79.487   8   3  31            11\n",
      "      0.62       70.370       91.176    81.967  86.364  79.487   8   3  31            11\n",
      "      0.64       70.370       91.176    81.967  86.364  79.487   8   3  31            11\n",
      "      0.66       70.370       91.176    81.967  86.364  79.487   8   3  31            11\n",
      "      0.68       70.370       94.118    83.607  90.476  80.000   8   2  32            10\n",
      "      0.70       66.667       94.118    81.967  90.000  78.049   9   2  32            11\n",
      "      0.72       66.667       94.118    81.967  90.000  78.049   9   2  32            11\n",
      "      0.74       59.259       94.118    78.689  88.889  74.419  11   2  32            13\n",
      "      0.76       59.259       94.118    78.689  88.889  74.419  11   2  32            13\n",
      "      0.78       51.852       97.059    77.049  93.333  71.739  13   1  33            14\n",
      "      0.80       40.741       97.059    72.131  91.667  67.347  16   1  33            17\n",
      "      0.82       25.926       97.059    65.574  87.500  62.264  20   1  33            21\n",
      "      0.84       22.222      100.000    65.574 100.000  61.818  21   0  34            21\n",
      "      0.86       22.222      100.000    65.574 100.000  61.818  21   0  34            21\n",
      "      0.88       22.222      100.000    65.574 100.000  61.818  21   0  34            21\n",
      "      0.90       22.222      100.000    65.574 100.000  61.818  21   0  34            21\n",
      "      0.92       22.222      100.000    65.574 100.000  61.818  21   0  34            21\n",
      "      0.94        3.704      100.000    57.377 100.000  56.667  26   0  34            26\n",
      "      0.96        3.704      100.000    57.377 100.000  56.667  26   0  34            26\n",
      "      0.98        0.000      100.000    55.738   0.000  55.738  27   0  34            27\n",
      "      1.00        0.000      100.000    55.738   0.000  55.738  27   0  34            27\n"
     ]
    }
   ],
   "source": [
    "# Análisis de diferentes thresholds\n",
    "thresholds_to_test = np.linspace(0,1, num=51)\n",
    "results = []\n",
    "\n",
    "for threshold in thresholds_to_test:\n",
    "    y_pred_threshold = (y_proba_rf_complete >= threshold).astype(int)\n",
    "    \n",
    "    cm = confusion_matrix(y_test, y_pred_threshold)\n",
    "    TN, FP, FN, TP = cm.ravel()\n",
    "    \n",
    "    sensitivity = TP / (TP + FN) if (TP + FN) > 0 else 0\n",
    "    specificity = TN / (TN + FP) if (TN + FP) > 0 else 0\n",
    "    ppv = TP / (TP + FP) if (TP + FP) > 0 else 0\n",
    "    npv = TN / (TN + FN) if (TN + FN) > 0 else 0\n",
    "    \n",
    "    results.append({\n",
    "        'Threshold': threshold,\n",
    "        'Sensitivity': sensitivity * 100,\n",
    "        'Specificity': specificity * 100,\n",
    "        'Accuracy': (TP + TN) / (TP + TN + FP + FN) * 100,\n",
    "        'PPV': ppv * 100,\n",
    "        'NPV': npv * 100,\n",
    "        'FN': FN,\n",
    "        'FP': FP,\n",
    "        'TN': TN,\n",
    "        'Total_Errors': FN + FP\n",
    "    })\n",
    "\n",
    "results_df = pd.DataFrame(results)\n",
    "print(\"\\nAnálisis de diferentes thresholds (Modelo Completo):\")\n",
    "print(results_df.round(3).to_string(index=False))\n",
    "\n"
   ]
  },
  {
   "cell_type": "markdown",
   "metadata": {},
   "source": [
    " **Interpretación clínica de los thresholds:**\n",
    "\n",
    " Gracias a esta visualización, ahora podremos escoger el threshold que nos de unas metricas más utiles para nuestras necesidades.\n",
    "\n",
    "\n",
    " **Decisión clínica:**\n",
    "\n",
    " En nuestro caso, que no nos podemos permitir perder casos de enfermedad,\n",
    "\n",
    " un threshold alrededor de 0.26 podría ser el más apropiado, puesto que no estariamos pasando por alto ningun positivo, y estamos descartando un ~64% de pacientes sanos que ya no tendrán que hacerse el cateterismo.\n",
    "\n",
    " Evidentemente todo esto se tendria que testear en un entorno clínico real para ver si los resultados se mantienen. (En un dataset de validación externa)\n",
    "\n",
    " ## Victoria!"
   ]
  },
  {
   "cell_type": "markdown",
   "metadata": {},
   "source": [
    "# SECCIÓN 15: Importancia de las variables (Si hay tiempo)\n",
    "\n"
   ]
  },
  {
   "cell_type": "markdown",
   "metadata": {},
   "source": [
    "# SECCIÓN 16: Entrenamiento final.\n",
    "\n",
    "Ahora que ya tenemos el mejor modelo y el mejor threshold, podemos entrenarlo con todos los datos, guardarlo y ponerlo en producción!"
   ]
  },
  {
   "cell_type": "code",
   "execution_count": null,
   "metadata": {},
   "outputs": [],
   "source": []
  },
  {
   "cell_type": "markdown",
   "metadata": {},
   "source": [
    " ---\n",
    "\n",
    " # FIN DEL SCRIPT\n",
    "\n",
    "\n",
    "\n",
    " ## Conceptos Cubiertos:\n",
    "\n",
    " - Preparación de datos completa (missing values, encoding, scaling)\n",
    "\n",
    " - Identificación y manejo de data leakage (variable `ca`, pacientes repetidos)\n",
    "\n",
    " - **CRÍTICO: Imputación y escalado DESPUÉS del split para evitar data leakage**\n",
    "\n",
    " - Dos estrategias de modelado (Básico vs Completo)\n",
    "\n",
    " - Train/Test Split y Cross-Validation\n",
    "\n",
    " - Modelos baseline y 4 algoritmos de clasificación\n",
    "\n",
    " - Evaluación correcta (Train/Test/CV)\n",
    "\n",
    " - Métricas clínicas (Sensitivity, Specificity, PPV, NPV)\n",
    "\n",
    " - Curvas ROC y análisis de threshold\n",
    "\n",
    " - Impacto clínico real (ahorro económico, reducción de complicaciones)\n",
    "\n",
    " - Trade-offs clínicos (casos detectados vs procedimientos evitados)"
   ]
  },
  {
   "cell_type": "code",
   "execution_count": null,
   "metadata": {},
   "outputs": [],
   "source": []
  }
 ],
 "metadata": {
  "kernelspec": {
   "display_name": "marc_priv",
   "language": "python",
   "name": "python3"
  },
  "language_info": {
   "codemirror_mode": {
    "name": "ipython",
    "version": 3
   },
   "file_extension": ".py",
   "mimetype": "text/x-python",
   "name": "python",
   "nbconvert_exporter": "python",
   "pygments_lexer": "ipython3",
   "version": "3.12.7"
  }
 },
 "nbformat": 4,
 "nbformat_minor": 2
}
