{
 "cells": [
  {
   "cell_type": "markdown",
   "metadata": {},
   "source": [
    " # SOLUCIONARIO - Introducción a Python para Profesionales Médicos"
   ]
  },
  {
   "cell_type": "markdown",
   "metadata": {},
   "source": [
    "  <a href=\"https://colab.research.google.com/github/marcpalo1999/MIA_sanidad/blob/main/2_0_Solucion_Ejercicios.ipynb\" target=\"_parent\"><img src=\"https://colab.research.google.com/assets/colab-badge.svg\" alt=\"Open In Colab\"/></a>"
   ]
  },
  {
   "cell_type": "markdown",
   "metadata": {},
   "source": [
    " ## Ejercicios Variables y Tipos de Datos\n",
    "\n",
    "\n",
    "\n",
    " ### Ejercicio 1\n",
    "\n",
    " Crea las siguientes variables y muestra su contenido:\n",
    "\n",
    " 1. Una variable llamada `nombre_paciente` con el valor \"Ana López\"\n",
    "\n",
    " 2. Una variable llamada `edad` con el valor 32\n",
    "\n",
    " 3. Una variable llamada `tiene_seguro` con el valor True\n",
    "\n",
    "\n",
    "\n",
    " Después, usa `type()` para mostrar el tipo de cada variable."
   ]
  },
  {
   "cell_type": "code",
   "execution_count": 1,
   "metadata": {},
   "outputs": [
    {
     "name": "stdout",
     "output_type": "stream",
     "text": [
      "Nombre: Ana López\n",
      "Edad: 32\n",
      "Tiene seguro: True\n"
     ]
    }
   ],
   "source": [
    "# SOLUCIÓN Ejercicio 1\n",
    "\n",
    "# Crear las variables asignando valores con el operador =\n",
    "nombre_paciente = \"Ana López\"\n",
    "edad = 32\n",
    "tiene_seguro = True\n",
    "\n",
    "# Mostrar contenido de cada variable\n",
    "print(f\"Nombre: {nombre_paciente}\")\n",
    "print(f\"Edad: {edad}\")\n",
    "print(f\"Tiene seguro: {tiene_seguro}\")\n"
   ]
  },
  {
   "cell_type": "code",
   "execution_count": 2,
   "metadata": {},
   "outputs": [
    {
     "name": "stdout",
     "output_type": "stream",
     "text": [
      "Tipo de nombre_paciente: <class 'str'>\n",
      "Tipo de edad: <class 'int'>\n",
      "Tipo de tiene_seguro: <class 'bool'>\n"
     ]
    }
   ],
   "source": [
    "# Verificar tipos usando type()\n",
    "print(f\"Tipo de nombre_paciente: {type(nombre_paciente)}\")\n",
    "print(f\"Tipo de edad: {type(edad)}\")\n",
    "print(f\"Tipo de tiene_seguro: {type(tiene_seguro)}\")\n"
   ]
  },
  {
   "cell_type": "markdown",
   "metadata": {},
   "source": [
    " ### Ejercicio 2\n",
    "\n",
    " Completa las siguientes tareas:\n",
    "\n",
    " 1. Crea una variable `temperatura_texto` con el valor de string \"38.5\"\n",
    "\n",
    " 2. Convierte esta variable a número decimal y guárdala en `temperatura_numero`\n",
    "\n",
    " 3. Crea una variable `paciente_id` con el valor integer 12345\n",
    "\n",
    " 4. Convierte `paciente_id` a texto y guárdala en `paciente_id_texto`\n",
    "\n",
    " 5. Usa un f-string para mostrar: \"La temperatura del paciente (insertar ID paciente) es (insertar temperatura paciente) grados\""
   ]
  },
  {
   "cell_type": "code",
   "execution_count": 5,
   "metadata": {},
   "outputs": [
    {
     "name": "stdout",
     "output_type": "stream",
     "text": [
      "Temperatura como texto: 38.5\n",
      "Temperatura como número: 38.5\n",
      "ID del paciente: 12345\n",
      "ID como texto: 12345\n",
      "La temperatura del paciente 12345 es 38.5 grados\n"
     ]
    }
   ],
   "source": [
    "# SOLUCIÓN Ejercicio 2\n",
    "\n",
    "# 1. Crear variable como string\n",
    "temperatura_texto = \"38.5\"\n",
    "print(f\"Temperatura como texto: {temperatura_texto}\")\n",
    "\n",
    "# 2. Convertir string a float\n",
    "temperatura_numero = float(temperatura_texto)\n",
    "print(f\"Temperatura como número: {temperatura_numero}\")\n",
    "\n",
    "# 3. Crear variable como integer\n",
    "paciente_id = 12345\n",
    "print(f\"ID del paciente: {paciente_id}\")\n",
    "\n",
    "# 4. Convertir integer a string\n",
    "paciente_id_texto = str(paciente_id)\n",
    "print(f\"ID como texto: {paciente_id_texto}\")\n",
    "\n",
    "# 5. Usar f-string para combinar\n",
    "print(f\"La temperatura del paciente {paciente_id_texto} es {temperatura_numero} grados\")\n"
   ]
  },
  {
   "cell_type": "markdown",
   "metadata": {},
   "source": [
    " ## Ejercicios Operaciones Básicas\n",
    "\n",
    "\n",
    "\n",
    " ### Ejercicio 1\n",
    "\n",
    " Dadas las siguientes variables médicas:\n",
    "\n",
    " - `dosis_total = 500` (mg)\n",
    "\n",
    " - `numero_tomas = 4`\n",
    "\n",
    "\n",
    "\n",
    " Calcula y muestra:\n",
    "\n",
    " 1. La dosis por toma (división)\n",
    "\n",
    " 2. La dosis duplicada (multiplicación por 2)\n",
    "\n",
    " 3. El resto de dividir la dosis total entre 3"
   ]
  },
  {
   "cell_type": "code",
   "execution_count": null,
   "metadata": {},
   "outputs": [],
   "source": [
    "# SOLUCIÓN Ejercicio 1\n",
    "\n",
    "# Definir variables\n",
    "dosis_total = 500\n",
    "numero_tomas = 4\n",
    "\n",
    "# 1. Dosis por toma usando división\n",
    "dosis_por_toma = dosis_total / numero_tomas\n",
    "print(f\"Dosis por toma: {dosis_por_toma} mg\")\n",
    "\n",
    "# 2. Dosis duplicada usando multiplicación\n",
    "dosis_duplicada = dosis_total * 2\n",
    "print(f\"Dosis duplicada: {dosis_duplicada} mg\")\n",
    "\n",
    "# 3. Resto usando operador módulo %\n",
    "resto = dosis_total % 3\n",
    "print(f\"Resto de dividir {dosis_total} entre 3: {resto}\")\n"
   ]
  },
  {
   "cell_type": "markdown",
   "metadata": {},
   "source": [
    " ### Ejercicio 2\n",
    "\n",
    " Un paciente tiene los siguientes datos:\n",
    "\n",
    " - `peso_actual = 75` kg\n",
    "\n",
    " - `peso_ideal = 70` kg\n",
    "\n",
    " - `edad = 45` años\n",
    "\n",
    " - `edad_limite = 65` años\n",
    "\n",
    "\n",
    "\n",
    " Calcula y compara:\n",
    "\n",
    " 1. La diferencia de peso\n",
    "\n",
    " 2. Si el peso actual es mayor que el ideal\n",
    "\n",
    " 3. Si la edad es menor que el límite\n",
    "\n",
    " 4. Si la edad es exactamente 45\n",
    "\n",
    " 5. Si la edad NO es 50"
   ]
  },
  {
   "cell_type": "code",
   "execution_count": 8,
   "metadata": {},
   "outputs": [
    {
     "name": "stdout",
     "output_type": "stream",
     "text": [
      "Diferencia de peso: 5 kg\n",
      "¿Peso actual mayor que ideal? True\n",
      "¿Edad menor que límite? True\n",
      "¿Edad exactamente 45? True\n",
      "¿Edad NO es 50? True\n"
     ]
    }
   ],
   "source": [
    "# SOLUCIÓN Ejercicio 2\n",
    "\n",
    "# Definir datos del paciente\n",
    "peso_actual = 75\n",
    "peso_ideal = 70\n",
    "edad = 45\n",
    "edad_limite = 65\n",
    "\n",
    "# 1. Calcular diferencia (resta)\n",
    "diferencia_peso = peso_actual - peso_ideal\n",
    "print(f\"Diferencia de peso: {diferencia_peso} kg\")\n",
    "\n",
    "# 2. Comparar pesos (operador >)\n",
    "es_mayor = peso_actual > peso_ideal\n",
    "print(f\"¿Peso actual mayor que ideal? {es_mayor}\")\n",
    "\n",
    "# 3. Comparar con límite de edad (operador <)\n",
    "es_menor = edad < edad_limite\n",
    "print(f\"¿Edad menor que límite? {es_menor}\")\n",
    "\n",
    "# 4. Igualdad exacta (operador ==)\n",
    "es_exacta = edad == 45\n",
    "print(f\"¿Edad exactamente 45? {es_exacta}\")\n",
    "\n",
    "# 5. Desigualdad (operador !=)\n",
    "bool = (edad != 50)\n",
    "print(f\"¿Edad NO es 50? {bool}\")\n"
   ]
  },
  {
   "cell_type": "markdown",
   "metadata": {},
   "source": [
    " ### Ejercicio 3\n",
    "\n",
    " Calculadora médica:\n",
    "\n",
    " 1. Define `presion_sistolica = 140` y `presion_diastolica = 90`\n",
    "\n",
    " 2. Calcula el ratio sistólica/diastólica usando división\n",
    "\n",
    " 3. Calcula la presión del pulso (sistólica - diastólica)\n",
    "\n",
    " 4. Eleva la presión sistólica al cuadrado\n",
    "\n",
    " 5. Verifica si la presión sistólica es mayor o igual a 130"
   ]
  },
  {
   "cell_type": "code",
   "execution_count": 9,
   "metadata": {},
   "outputs": [
    {
     "name": "stdout",
     "output_type": "stream",
     "text": [
      "Ratio sistólica/diastólica: 1.56\n",
      "Presión del pulso: 50 mmHg\n",
      "Presión sistólica al cuadrado: 19600\n",
      "¿Presión sistólica >= 130? True\n"
     ]
    }
   ],
   "source": [
    "# SOLUCIÓN Ejercicio 3\n",
    "\n",
    "# 1. Definir presiones\n",
    "presion_sistolica = 140\n",
    "presion_diastolica = 90\n",
    "\n",
    "# 2. Calcular ratio\n",
    "ratio = presion_sistolica / presion_diastolica\n",
    "print(f\"Ratio sistólica/diastólica: {ratio:.2f}\")\n",
    "\n",
    "# 3. Presión del pulso\n",
    "presion_pulso = presion_sistolica - presion_diastolica\n",
    "print(f\"Presión del pulso: {presion_pulso} mmHg\")\n",
    "\n",
    "# 4. Elevar al cuadrado\n",
    "sistolica_cuadrado = presion_sistolica ** 2\n",
    "print(f\"Presión sistólica al cuadrado: {sistolica_cuadrado}\")\n",
    "\n",
    "# 5. Verificar si es mayor o igual a 130\n",
    "es_alta = presion_sistolica >= 130\n",
    "print(f\"¿Presión sistólica >= 130? {es_alta}\")\n"
   ]
  },
  {
   "cell_type": "markdown",
   "metadata": {},
   "source": [
    " ## Ejercicios Strings\n",
    "\n",
    "\n",
    "\n",
    " ### Ejercicio 1\n",
    "\n",
    " Dado el medicamento: `farmaco = \"Amoxicilina\"`\n",
    "\n",
    "\n",
    "\n",
    " 1. Muestra el medicamento en mayúsculas\n",
    "\n",
    " 2. Muestra el medicamento en minúsculas\n",
    "\n",
    " 3. Muestra la primera letra del medicamento\n",
    "\n",
    " 4. Muestra la última letra del medicamento"
   ]
  },
  {
   "cell_type": "code",
   "execution_count": 10,
   "metadata": {},
   "outputs": [
    {
     "name": "stdout",
     "output_type": "stream",
     "text": [
      "En mayúsculas: AMOXICILINA\n",
      "En minúsculas: amoxicilina\n",
      "Primera letra: A\n",
      "Última letra: a\n"
     ]
    }
   ],
   "source": [
    "# SOLUCIÓN Ejercicio 1\n",
    "\n",
    "# Definir medicamento\n",
    "farmaco = \"Amoxicilina\"\n",
    "\n",
    "# 1. Convertir a mayúsculas\n",
    "print(f\"En mayúsculas: {farmaco.upper()}\")\n",
    "\n",
    "# 2. Convertir a minúsculas\n",
    "print(f\"En minúsculas: {farmaco.lower()}\")\n",
    "\n",
    "# 3. Primera letra (índice 0)\n",
    "print(f\"Primera letra: {farmaco[0]}\")\n",
    "\n",
    "# 4. Última letra (índice -1)\n",
    "print(f\"Última letra: {farmaco[-1]}\")\n"
   ]
  },
  {
   "cell_type": "markdown",
   "metadata": {},
   "source": [
    " ### Ejercicio 2\n",
    "\n",
    " Trabajando con nombres de pacientes:\n",
    "\n",
    " - `paciente = \"María García López\"`\n",
    "\n",
    "\n",
    "\n",
    " Realiza las siguientes operaciones:\n",
    "\n",
    " 1. Reemplaza \"María\" por \"Ana\"\n",
    "\n",
    " 2. Obtén solo los primeros 5 caracteres\n",
    "\n",
    " 3. Obtén los caracteres desde la posición 6 hasta el final\n",
    "\n",
    " 4. Obtén solo el apellido \"García\" usando índices (posiciones 6 a 11)"
   ]
  },
  {
   "cell_type": "code",
   "execution_count": 11,
   "metadata": {},
   "outputs": [
    {
     "name": "stdout",
     "output_type": "stream",
     "text": [
      "Nombre cambiado: Ana García López\n",
      "Primeros 5 caracteres: María\n",
      "Desde posición 6: García López\n",
      "Apellido García: García\n"
     ]
    }
   ],
   "source": [
    "# SOLUCIÓN Ejercicio 2\n",
    "\n",
    "# Definir nombre del paciente\n",
    "paciente = \"María García López\"\n",
    "\n",
    "# 1. Reemplazar usando .replace()\n",
    "nuevo_nombre = paciente.replace(\"María\", \"Ana\")\n",
    "print(f\"Nombre cambiado: {nuevo_nombre}\")\n",
    "\n",
    "# 2. Primeros 5 caracteres usando slicing\n",
    "primeros_5 = paciente[0:5]\n",
    "print(f\"Primeros 5 caracteres: {primeros_5}\")\n",
    "\n",
    "# 3. Desde posición 6 hasta el final\n",
    "desde_6 = paciente[6:]\n",
    "print(f\"Desde posición 6: {desde_6}\")\n",
    "\n",
    "# 4. Solo \"García\" (posiciones 6 a 11)\n",
    "apellido = paciente[6:12]\n",
    "print(f\"Apellido García: {apellido}\")\n"
   ]
  },
  {
   "cell_type": "markdown",
   "metadata": {},
   "source": [
    " ### Ejercicio 3\n",
    "\n",
    " Procesamiento de texto médico:\n",
    "\n",
    " 1. Crea una variable `diagnostico = \"  Hipertensión Arterial  \"` (con espacios)\n",
    "\n",
    " 2. Elimina los espacios del principio y final usando `.strip()`\n",
    "\n",
    " 3. Convierte todo a minúsculas\n",
    "\n",
    " 4. Reemplaza \"arterial\" por \"sistémica\"\n",
    "\n",
    " 5. Verifica si la palabra \"hipertensión\" está en el diagnóstico usando `in`\n",
    "\n",
    " 6. Cuenta cuántos caracteres tiene el diagnóstico final usando `len()`\n",
    "\n",
    " 7. Divide el diagnóstico en palabras usando `.split()`"
   ]
  },
  {
   "cell_type": "code",
   "execution_count": 12,
   "metadata": {},
   "outputs": [
    {
     "name": "stdout",
     "output_type": "stream",
     "text": [
      "Original: '  Hipertensión Arterial  '\n",
      "Sin espacios: 'Hipertensión Arterial'\n",
      "En minúsculas: 'hipertensión arterial'\n",
      "Texto reemplazado: 'hipertensión sistémica'\n",
      "¿Contiene 'hipertensión'? True\n",
      "Número de caracteres: 22\n",
      "Dividido en palabras: ['hipertensión', 'sistémica']\n"
     ]
    }
   ],
   "source": [
    "# SOLUCIÓN Ejercicio 3\n",
    "\n",
    "# 1. Crear diagnóstico con espacios\n",
    "diagnostico = \"  Hipertensión Arterial  \"\n",
    "print(f\"Original: '{diagnostico}'\")\n",
    "\n",
    "# 2. Eliminar espacios con strip()\n",
    "diagnostico_limpio = diagnostico.strip()\n",
    "print(f\"Sin espacios: '{diagnostico_limpio}'\")\n",
    "\n",
    "# 3. Convertir a minúsculas\n",
    "diagnostico_minus = diagnostico_limpio.lower()\n",
    "print(f\"En minúsculas: '{diagnostico_minus}'\")\n",
    "\n",
    "# 4. Reemplazar texto\n",
    "diagnostico_final = diagnostico_minus.replace(\"arterial\", \"sistémica\")\n",
    "print(f\"Texto reemplazado: '{diagnostico_final}'\")\n",
    "\n",
    "# 5. Verificar si contiene palabra usando 'in'\n",
    "contiene_hipertension = \"hipertensión\" in diagnostico_final\n",
    "print(f\"¿Contiene 'hipertensión'? {contiene_hipertension}\")\n",
    "\n",
    "# 6. Contar caracteres\n",
    "num_caracteres = len(diagnostico_final)\n",
    "print(f\"Número de caracteres: {num_caracteres}\")\n",
    "\n",
    "# 7. Dividir en palabras\n",
    "palabras = diagnostico_final.split()\n",
    "print(f\"Dividido en palabras: {palabras}\")\n"
   ]
  },
  {
   "cell_type": "markdown",
   "metadata": {},
   "source": [
    " ## Ejercicios Listas\n",
    "\n",
    "\n",
    "\n",
    " ### Ejercicio 1\n",
    "\n",
    " Operaciones básicas con listas:\n",
    "\n",
    " 1. Crea una lista llamada `medicamentos` que contenga: \"Paracetamol\", \"Ibuprofeno\", \"Aspirina\"\n",
    "\n",
    " 2. Muestra el primer medicamento de la lista\n",
    "\n",
    " 3. Muestra el último medicamento usando índice negativo\n",
    "\n",
    " 4. Muestra cuántos medicamentos hay en la lista usando `len()`"
   ]
  },
  {
   "cell_type": "code",
   "execution_count": 13,
   "metadata": {},
   "outputs": [
    {
     "name": "stdout",
     "output_type": "stream",
     "text": [
      "Lista de medicamentos: ['Paracetamol', 'Ibuprofeno', 'Aspirina']\n",
      "Primer medicamento: Paracetamol\n",
      "Último medicamento: Aspirina\n",
      "Total de medicamentos: 3\n"
     ]
    }
   ],
   "source": [
    "# SOLUCIÓN Ejercicio 1\n",
    "\n",
    "# 1. Crear lista de medicamentos\n",
    "medicamentos = [\"Paracetamol\", \"Ibuprofeno\", \"Aspirina\"]\n",
    "print(f\"Lista de medicamentos: {medicamentos}\")\n",
    "\n",
    "# 2. Primer medicamento (índice 0)\n",
    "primer_medicamento = medicamentos[0]\n",
    "print(f\"Primer medicamento: {primer_medicamento}\")\n",
    "\n",
    "# 3. Último medicamento (índice -1)\n",
    "ultimo_medicamento = medicamentos[-1]\n",
    "print(f\"Último medicamento: {ultimo_medicamento}\")\n",
    "\n",
    "# 4. Contar elementos con len()\n",
    "cantidad = len(medicamentos)\n",
    "print(f\"Total de medicamentos: {cantidad}\")\n"
   ]
  },
  {
   "cell_type": "markdown",
   "metadata": {},
   "source": [
    " ### Ejercicio 2\n",
    "\n",
    " Modificación de listas:\n",
    "\n",
    " 1. Crea una lista `pacientes` con los nombres: \"Ana\", \"Luis\", \"Carmen\"\n",
    "\n",
    " 2. Añade \"Pedro\" al final de la lista usando `append()`\n",
    "\n",
    " 3. Elimina \"Luis\" de la lista usando `remove()`\n",
    "\n",
    " 4. Muestra la lista final\n",
    "\n",
    " 5. Muestra cuántos pacientes quedan en la lista"
   ]
  },
  {
   "cell_type": "code",
   "execution_count": 14,
   "metadata": {},
   "outputs": [
    {
     "name": "stdout",
     "output_type": "stream",
     "text": [
      "Lista inicial: ['Ana', 'Luis', 'Carmen']\n",
      "Después de añadir Pedro: ['Ana', 'Luis', 'Carmen', 'Pedro']\n",
      "Después de eliminar Luis: ['Ana', 'Carmen', 'Pedro']\n",
      "Lista final: ['Ana', 'Carmen', 'Pedro']\n",
      "Pacientes restantes: 3\n"
     ]
    }
   ],
   "source": [
    "# SOLUCIÓN Ejercicio 2\n",
    "\n",
    "# 1. Crear lista inicial\n",
    "pacientes = [\"Ana\", \"Luis\", \"Carmen\"]\n",
    "print(f\"Lista inicial: {pacientes}\")\n",
    "\n",
    "# 2. Añadir elemento con append()\n",
    "pacientes.append(\"Pedro\")\n",
    "print(f\"Después de añadir Pedro: {pacientes}\")\n",
    "\n",
    "# 3. Eliminar elemento con remove()\n",
    "pacientes.remove(\"Luis\")\n",
    "print(f\"Después de eliminar Luis: {pacientes}\")\n",
    "\n",
    "# 4. Lista final\n",
    "print(f\"Lista final: {pacientes}\")\n",
    "\n",
    "# 5. Contar pacientes restantes\n",
    "pacientes_restantes = len(pacientes)\n",
    "print(f\"Pacientes restantes: {pacientes_restantes}\")\n"
   ]
  },
  {
   "cell_type": "markdown",
   "metadata": {},
   "source": [
    " ### Ejercicio 3\n",
    "\n",
    " Acceso con índices:\n",
    "\n",
    " 1. Crea una lista `datos_vitales` con estos valores: 36.8, 120, 80, 72 (temperatura, presión sistólica, presión diastólica, pulso)\n",
    "\n",
    " 2. Accede y muestra la temperatura (primer elemento)\n",
    "\n",
    " 3. Accede y muestra el pulso (último elemento)\n",
    "\n",
    " 4. Obtén los valores de presión (elementos en posiciones 1 y 2) usando slicing [1:3]\n",
    "\n",
    " 5. Cambia la temperatura a 37.2 asignando un nuevo valor a la primera posición"
   ]
  },
  {
   "cell_type": "code",
   "execution_count": 15,
   "metadata": {},
   "outputs": [
    {
     "name": "stdout",
     "output_type": "stream",
     "text": [
      "Datos vitales: [36.8, 120, 80, 72]\n",
      "Temperatura: 36.8°C\n",
      "Pulso: 72 lpm\n",
      "Presiones (sistólica, diastólica): [120, 80]\n",
      "Datos vitales actualizados: [37.2, 120, 80, 72]\n"
     ]
    }
   ],
   "source": [
    "# SOLUCIÓN Ejercicio 3\n",
    "\n",
    "# 1. Crear lista de datos vitales\n",
    "datos_vitales = [36.8, 120, 80, 72]\n",
    "print(f\"Datos vitales: {datos_vitales}\")\n",
    "\n",
    "# 2. Temperatura (primer elemento)\n",
    "temperatura = datos_vitales[0]\n",
    "print(f\"Temperatura: {temperatura}°C\")\n",
    "\n",
    "# 3. Pulso (último elemento)\n",
    "pulso = datos_vitales[-1]\n",
    "print(f\"Pulso: {pulso} lpm\")\n",
    "\n",
    "# 4. Valores de presión usando slicing\n",
    "presiones = datos_vitales[1:3]\n",
    "print(f\"Presiones (sistólica, diastólica): {presiones}\")\n",
    "\n",
    "# 5. Cambiar temperatura\n",
    "datos_vitales[0] = 37.2\n",
    "print(f\"Datos vitales actualizados: {datos_vitales}\")\n"
   ]
  },
  {
   "cell_type": "markdown",
   "metadata": {},
   "source": [
    " ### Ejercicio 4\n",
    "\n",
    " Operaciones numéricas con listas:\n",
    "\n",
    " 1. Crea una lista `pesos` con los valores: 65.5, 78.2, 90.1, 45.8, 72.0\n",
    "\n",
    " 2. Calcula y muestra el peso máximo usando `max()`\n",
    "\n",
    " 3. Calcula y muestra el peso mínimo usando `min()`\n",
    "\n",
    " 4. Calcula y muestra el peso promedio dividiendo `sum(pesos)` entre `len(pesos)`\n",
    "\n",
    " 5. Añade un nuevo peso de 68.5 a la lista\n",
    "\n",
    " 6. Recalcula el promedio con la lista actualizada"
   ]
  },
  {
   "cell_type": "code",
   "execution_count": 16,
   "metadata": {},
   "outputs": [
    {
     "name": "stdout",
     "output_type": "stream",
     "text": [
      "Lista de pesos: [65.5, 78.2, 90.1, 45.8, 72.0]\n",
      "Peso máximo: 90.1 kg\n",
      "Peso mínimo: 45.8 kg\n",
      "Promedio inicial: 70.3 kg\n",
      "Lista actualizada: [65.5, 78.2, 90.1, 45.8, 72.0, 68.5]\n",
      "Promedio final: 70.0 kg\n"
     ]
    }
   ],
   "source": [
    "# SOLUCIÓN Ejercicio 4\n",
    "\n",
    "# 1. Crear lista de pesos\n",
    "pesos = [65.5, 78.2, 90.1, 45.8, 72.0]\n",
    "print(f\"Lista de pesos: {pesos}\")\n",
    "\n",
    "# 2. Peso máximo\n",
    "peso_max = max(pesos)\n",
    "print(f\"Peso máximo: {peso_max} kg\")\n",
    "\n",
    "# 3. Peso mínimo\n",
    "peso_min = min(pesos)\n",
    "print(f\"Peso mínimo: {peso_min} kg\")\n",
    "\n",
    "# 4. Promedio inicial\n",
    "suma_inicial = sum(pesos)\n",
    "cantidad_inicial = len(pesos)\n",
    "promedio_inicial = suma_inicial / cantidad_inicial\n",
    "print(f\"Promedio inicial: {promedio_inicial:.1f} kg\")\n",
    "\n",
    "# 5. Añadir nuevo peso\n",
    "pesos.append(68.5)\n",
    "print(f\"Lista actualizada: {pesos}\")\n",
    "\n",
    "# 6. Recalcular promedio\n",
    "suma_final = sum(pesos)\n",
    "cantidad_final = len(pesos)\n",
    "promedio_final = suma_final / cantidad_final\n",
    "print(f\"Promedio final: {promedio_final:.1f} kg\")\n"
   ]
  },
  {
   "cell_type": "markdown",
   "metadata": {},
   "source": [
    " ### Ejercicio 6\n",
    "\n",
    " Listas anidadas (listas dentro de listas):\n",
    "\n",
    " 1. Crea una lista `pacientes_datos` que contenga: [\"María\", 28, 60.5], [\"Carlos\", 35, 78.2], [\"Ana\", 42, 65.0]\n",
    "\n",
    " 2. Accede y muestra el nombre del segundo paciente\n",
    "\n",
    " 3. Accede y muestra la edad del primer paciente\n",
    "\n",
    " 4. Accede y muestra el peso del tercer paciente\n",
    "\n",
    " 5. Cambia el peso de María (primer paciente) a 61.0"
   ]
  },
  {
   "cell_type": "code",
   "execution_count": 17,
   "metadata": {},
   "outputs": [
    {
     "name": "stdout",
     "output_type": "stream",
     "text": [
      "Datos de pacientes: [['María', 28, 60.5], ['Carlos', 35, 78.2], ['Ana', 42, 65.0]]\n",
      "Segundo paciente: Carlos\n",
      "Edad del primer paciente: 28\n",
      "Peso del tercer paciente: 65.0\n",
      "Datos actualizados: [['María', 28, 61.0], ['Carlos', 35, 78.2], ['Ana', 42, 65.0]]\n"
     ]
    }
   ],
   "source": [
    "# SOLUCIÓN Ejercicio 6\n",
    "\n",
    "# 1. Crear lista de listas\n",
    "pacientes_datos = [\n",
    "    [\"María\", 28, 60.5],\n",
    "    [\"Carlos\", 35, 78.2],\n",
    "    [\"Ana\", 42, 65.0]\n",
    "]\n",
    "print(f\"Datos de pacientes: {pacientes_datos}\")\n",
    "\n",
    "# 2. Nombre del segundo paciente (índice [1][0])\n",
    "segundo_nombre = pacientes_datos[1][0]\n",
    "print(f\"Segundo paciente: {segundo_nombre}\")\n",
    "\n",
    "# 3. Edad del primer paciente (índice [0][1])\n",
    "primera_edad = pacientes_datos[0][1]\n",
    "print(f\"Edad del primer paciente: {primera_edad}\")\n",
    "\n",
    "# 4. Peso del tercer paciente (índice [2][2])\n",
    "tercer_peso = pacientes_datos[2][2]\n",
    "print(f\"Peso del tercer paciente: {tercer_peso}\")\n",
    "\n",
    "# 5. Cambiar peso de María\n",
    "pacientes_datos[0][2] = 61.0\n",
    "print(f\"Datos actualizados: {pacientes_datos}\")\n"
   ]
  },
  {
   "cell_type": "markdown",
   "metadata": {},
   "source": [
    " ## Ejercicios Condicionales\n",
    "\n",
    "\n",
    "\n",
    " ### Ejercicio 1\n",
    "\n",
    " Evaluación básica de temperatura:\n",
    "\n",
    " 1. Crea una variable `temperatura` con el valor 38.5\n",
    "\n",
    " 2. Usa un condicional if/else para determinar si hay fiebre (temperatura > 37.5)\n",
    "\n",
    " 3. Guarda el resultado en una variable `estado` y muéstrala"
   ]
  },
  {
   "cell_type": "code",
   "execution_count": 18,
   "metadata": {},
   "outputs": [
    {
     "name": "stdout",
     "output_type": "stream",
     "text": [
      "Temperatura: 38.5°C - Estado: Hay fiebre\n",
      "Temperatura: 36.8°C - Estado: Temperatura normal\n"
     ]
    }
   ],
   "source": [
    "# SOLUCIÓN Ejercicio 1\n",
    "\n",
    "# 1. Crear variable temperatura\n",
    "temperatura = 38.5\n",
    "\n",
    "# 2-3. Usar condicional if/else\n",
    "if temperatura > 37.5:\n",
    "    estado = \"Hay fiebre\"\n",
    "else:\n",
    "    estado = \"Temperatura normal\"\n",
    "\n",
    "print(f\"Temperatura: {temperatura}°C - Estado: {estado}\")\n",
    "\n",
    "# Probar con temperatura normal\n",
    "temperatura = 36.8\n",
    "\n",
    "if temperatura > 37.5:\n",
    "    estado = \"Hay fiebre\"\n",
    "else:\n",
    "    estado = \"Temperatura normal\"\n",
    "\n",
    "print(f\"Temperatura: {temperatura}°C - Estado: {estado}\")\n"
   ]
  },
  {
   "cell_type": "markdown",
   "metadata": {},
   "source": [
    " ### Ejercicio 2\n",
    "\n",
    " Clasificación de edad de pacientes:\n",
    "\n",
    " 1. Crea una variable `edad` con el valor 25\n",
    "\n",
    " 2. Usa if/elif/else para clasificar al paciente: Si edad < 18: \"Pediátrico\", Si edad >= 18 y edad < 65: \"Adulto\", Si edad >= 65: \"Adulto mayor\"\n",
    "\n",
    " 3. Guarda el resultado en `categoria` y muéstralo"
   ]
  },
  {
   "cell_type": "code",
   "execution_count": 19,
   "metadata": {},
   "outputs": [
    {
     "name": "stdout",
     "output_type": "stream",
     "text": [
      "Edad: 25 años - Categoría: Adulto\n",
      "Edad: 15 años - Categoría: Pediátrico\n",
      "Edad: 45 años - Categoría: Adulto\n",
      "Edad: 70 años - Categoría: Adulto mayor\n"
     ]
    }
   ],
   "source": [
    "# SOLUCIÓN Ejercicio 2\n",
    "\n",
    "# 1. Crear variable edad\n",
    "edad = 25\n",
    "\n",
    "# 2. Clasificar con if/elif/else\n",
    "if edad < 18:\n",
    "    categoria = \"Pediátrico\"\n",
    "elif edad >= 18 and edad < 65:\n",
    "    categoria = \"Adulto\"\n",
    "else:\n",
    "    categoria = \"Adulto mayor\"\n",
    "\n",
    "# 3. Mostrar resultado\n",
    "print(f\"Edad: {edad} años - Categoría: {categoria}\")\n",
    "\n",
    "# Probar con diferentes edades\n",
    "edades_prueba = [15, 45, 70]\n",
    "for edad in edades_prueba:\n",
    "    if edad < 18:\n",
    "        categoria = \"Pediátrico\"\n",
    "    elif edad >= 18 and edad < 65:\n",
    "        categoria = \"Adulto\"\n",
    "    else:\n",
    "        categoria = \"Adulto mayor\"\n",
    "    \n",
    "    print(f\"Edad: {edad} años - Categoría: {categoria}\")\n"
   ]
  },
  {
   "cell_type": "markdown",
   "metadata": {},
   "source": [
    " ### Ejercicio 3\n",
    "\n",
    " Evaluación de presión arterial:\n",
    "\n",
    " 1. Crea una variable `presion_sistolica` con el valor 135\n",
    "\n",
    " 2. Clasifica la presión: Si >= 180: \"Crisis hipertensiva\", Si >= 140: \"Hipertensión grado 1\", Si >= 130: \"Presión elevada\", Si < 130: \"Normal\"\n",
    "\n",
    " 3. Muestra el resultado con un f-string: \"Presión {valor} mmHg: {categoria}\""
   ]
  },
  {
   "cell_type": "code",
   "execution_count": null,
   "metadata": {},
   "outputs": [
    {
     "name": "stdout",
     "output_type": "stream",
     "text": [
      "Presión 135 mmHg: Presión elevada\n",
      "Presión 120 mmHg: Normal\n",
      "Presión 145 mmHg: Hipertensión grado 1\n",
      "Presión 185 mmHg: Crisis hipertensiva\n"
     ]
    }
   ],
   "source": [
    "# SOLUCIÓN Ejercicio 3\n",
    "\n",
    "# 1. Crear variable presión\n",
    "presion_sistolica = 135\n",
    "\n",
    "# 2. Clasificar presión\n",
    "if presion_sistolica >= 180:\n",
    "    categoria = \"Crisis hipertensiva\"\n",
    "elif presion_sistolica >= 140:\n",
    "    categoria = \"Hipertensión grado 1\"\n",
    "elif presion_sistolica >= 130:\n",
    "    categoria = \"Presión elevada\"\n",
    "else:\n",
    "    categoria = \"Normal\"\n",
    "\n",
    "# 3. Mostrar con f-string\n",
    "print(f\"Presión {presion_sistolica} mmHg: {categoria}\")\n",
    "\n",
    "# Probar con diferentes valores: ESTO SE PUEDE HACER MANUALMENTE REPITIENDO EL CÓDIGO IF/ELSE PARA LOS TRES VALORES O CON EL BUCLE FOR QUE LO HACE ITERATIVAMENTE\n",
    "presiones_prueba = [120, 145, 185]\n",
    "for presion in presiones_prueba:\n",
    "    if presion >= 180:\n",
    "        categoria = \"Crisis hipertensiva\"\n",
    "    elif presion >= 140:\n",
    "        categoria = \"Hipertensión grado 1\"\n",
    "    elif presion >= 130:\n",
    "        categoria = \"Presión elevada\"\n",
    "    else:\n",
    "        categoria = \"Normal\"\n",
    "    \n",
    "    print(f\"Presión {presion} mmHg: {categoria}\")\n"
   ]
  },
  {
   "cell_type": "markdown",
   "metadata": {},
   "source": [
    " ### Ejercicio 4\n",
    "\n",
    " Operadores lógicos básicos:\n",
    "\n",
    " 1. Define variables: `tiene_fiebre = True` y `tiene_tos = False`\n",
    "\n",
    " 2. Crea condicionales para evaluar: Si tiene fiebre AND tos: \"Probable infección\", Si tiene fiebre OR tos: \"Síntomas presentes\", Si NO tiene fiebre: \"Sin fiebre\""
   ]
  },
  {
   "cell_type": "code",
   "execution_count": 22,
   "metadata": {},
   "outputs": [
    {
     "name": "stdout",
     "output_type": "stream",
     "text": [
      "Tiene fiebre: True, Tiene tos: False\n",
      "Evaluación AND: No hay infección probable\n",
      "Evaluación OR: Síntomas presentes\n",
      "Evaluación NOT: Con fiebre\n"
     ]
    }
   ],
   "source": [
    "# SOLUCIÓN Ejercicio 4\n",
    "\n",
    "# 1. Definir variables booleanas\n",
    "tiene_fiebre = True\n",
    "tiene_tos = False\n",
    "\n",
    "print(f\"Tiene fiebre: {tiene_fiebre}, Tiene tos: {tiene_tos}\")\n",
    "\n",
    "# 2. Evaluar con AND\n",
    "if tiene_fiebre and tiene_tos:\n",
    "    resultado_and = \"Probable infección\"\n",
    "else:\n",
    "    resultado_and = \"No hay infección probable\"\n",
    "\n",
    "print(f\"Evaluación AND: {resultado_and}\")\n",
    "\n",
    "# Evaluar con OR\n",
    "if tiene_fiebre or tiene_tos:\n",
    "    resultado_or = \"Síntomas presentes\"\n",
    "else:\n",
    "    resultado_or = \"Sin síntomas\"\n",
    "\n",
    "print(f\"Evaluación OR: {resultado_or}\")\n",
    "\n",
    "# Evaluar con NOT\n",
    "if not tiene_fiebre:\n",
    "    resultado_not = \"Sin fiebre\"\n",
    "else:\n",
    "    resultado_not = \"Con fiebre\"\n",
    "\n",
    "print(f\"Evaluación NOT: {resultado_not}\")\n"
   ]
  },
  {
   "cell_type": "markdown",
   "metadata": {},
   "source": [
    " ### Ejercicio 6\n",
    "\n",
    " Calculadora de IMC con clasificación:\n",
    "\n",
    " 1. Define `peso = 75` y `altura = 1.70`\n",
    "\n",
    " 2. Calcula el IMC: `imc = peso / (altura ** 2)`\n",
    "\n",
    " 3. Clasifica: Si IMC < 18.5: \"Bajo peso\", Si IMC < 25: \"Normal\", Si IMC < 30: \"Sobrepeso\", Si IMC >= 30: \"Obesidad\"\n",
    "\n",
    " 4. Muestra: \"IMC: {valor} - Clasificación: {categoria}\""
   ]
  },
  {
   "cell_type": "code",
   "execution_count": 23,
   "metadata": {},
   "outputs": [
    {
     "name": "stdout",
     "output_type": "stream",
     "text": [
      "IMC: 26.0 - Clasificación: Sobrepeso\n"
     ]
    }
   ],
   "source": [
    "# SOLUCIÓN Ejercicio 6\n",
    "\n",
    "# 1. Definir datos\n",
    "peso = 75\n",
    "altura = 1.70\n",
    "\n",
    "# 2. Calcular IMC\n",
    "imc = peso / (altura ** 2)\n",
    "\n",
    "# 3. Clasificar IMC\n",
    "if imc < 18.5:\n",
    "    clasificacion = \"Bajo peso\"\n",
    "elif imc < 25:\n",
    "    clasificacion = \"Normal\"\n",
    "elif imc < 30:\n",
    "    clasificacion = \"Sobrepeso\"\n",
    "else:\n",
    "    clasificacion = \"Obesidad\"\n",
    "\n",
    "# 4. Mostrar resultado\n",
    "print(f\"IMC: {imc:.1f} - Clasificación: {clasificacion}\")\n"
   ]
  },
  {
   "cell_type": "markdown",
   "metadata": {},
   "source": [
    " ## Ejercicios Bucles\n",
    "\n",
    "\n",
    "\n",
    " ### Ejercicio 1\n",
    "\n",
    " Bucle for básico:\n",
    "\n",
    " 1. Crea una lista `sintomas = [\"fiebre\", \"tos\", \"dolor de cabeza\", \"fatiga\"]`\n",
    "\n",
    " 2. Usa un bucle for para recorrer la lista e imprimir cada síntoma\n",
    "\n",
    " 3. Modifica el bucle para mostrar: \"Síntoma: {nombre_sintoma}\""
   ]
  },
  {
   "cell_type": "code",
   "execution_count": 24,
   "metadata": {},
   "outputs": [
    {
     "name": "stdout",
     "output_type": "stream",
     "text": [
      "Síntomas (básico):\n",
      "fiebre\n",
      "tos\n",
      "dolor de cabeza\n",
      "fatiga\n",
      "\n",
      "Síntomas (con formato):\n",
      "Síntoma: fiebre\n",
      "Síntoma: tos\n",
      "Síntoma: dolor de cabeza\n",
      "Síntoma: fatiga\n"
     ]
    }
   ],
   "source": [
    "# SOLUCIÓN Ejercicio 1\n",
    "\n",
    "# 1. Crear lista de síntomas\n",
    "sintomas = [\"fiebre\", \"tos\", \"dolor de cabeza\", \"fatiga\"]\n",
    "\n",
    "# 2. Bucle for básico\n",
    "print(\"Síntomas (básico):\")\n",
    "for sintoma in sintomas:\n",
    "    print(sintoma)\n",
    "\n",
    "print()  # Línea en blanco\n",
    "\n",
    "# 3. Bucle con formato\n",
    "print(\"Síntomas (con formato):\")\n",
    "for sintoma in sintomas:\n",
    "    print(f\"Síntoma: {sintoma}\")\n"
   ]
  },
  {
   "cell_type": "markdown",
   "metadata": {},
   "source": [
    " ### Ejercicio 2\n",
    "\n",
    " Bucle for con condicionales:\n",
    "\n",
    " 1. Crea una lista `temperaturas = [36.5, 37.8, 36.9, 38.5, 37.2]`\n",
    "\n",
    " 2. Recorre la lista con un bucle for\n",
    "\n",
    " 3. Para cada temperatura, evalúa si es fiebre (>37.5) o normal\n",
    "\n",
    " 4. Muestra: \"Temperatura {valor}°C: {estado}\""
   ]
  },
  {
   "cell_type": "code",
   "execution_count": 25,
   "metadata": {},
   "outputs": [
    {
     "name": "stdout",
     "output_type": "stream",
     "text": [
      "Temperatura 36.5°C: Normal\n",
      "Temperatura 37.8°C: FIEBRE\n",
      "Temperatura 36.9°C: Normal\n",
      "Temperatura 38.5°C: FIEBRE\n",
      "Temperatura 37.2°C: Normal\n"
     ]
    }
   ],
   "source": [
    "# SOLUCIÓN Ejercicio 2\n",
    "\n",
    "# 1. Crear lista de temperaturas\n",
    "temperaturas = [36.5, 37.8, 36.9, 38.5, 37.2]\n",
    "\n",
    "# 2-4. Bucle for con condicional\n",
    "for temp in temperaturas:\n",
    "    # 3. Evaluar cada temperatura\n",
    "    if temp > 37.5:\n",
    "        estado = \"FIEBRE\"\n",
    "    else:\n",
    "        estado = \"Normal\"\n",
    "    \n",
    "    # 4. Mostrar resultado\n",
    "    print(f\"Temperatura {temp}°C: {estado}\")\n"
   ]
  },
  {
   "cell_type": "markdown",
   "metadata": {},
   "source": [
    " ### Ejercicio 3\n",
    "\n",
    " Usando range():\n",
    "\n",
    " 1. Usa `range(8, 18)` para crear horarios de consulta de 8:00 a 17:00\n",
    "\n",
    " 2. Muestra cada hora con formato: \"Consulta disponible a las {hora}:00\"\n",
    "\n",
    " 3. Modifica para mostrar solo horarios pares usando `range(8, 18, 2)`"
   ]
  },
  {
   "cell_type": "code",
   "execution_count": 26,
   "metadata": {},
   "outputs": [
    {
     "name": "stdout",
     "output_type": "stream",
     "text": [
      "Horarios de consulta (completos):\n",
      "Consulta disponible a las 8:00\n",
      "Consulta disponible a las 9:00\n",
      "Consulta disponible a las 10:00\n",
      "Consulta disponible a las 11:00\n",
      "Consulta disponible a las 12:00\n",
      "Consulta disponible a las 13:00\n",
      "Consulta disponible a las 14:00\n",
      "Consulta disponible a las 15:00\n",
      "Consulta disponible a las 16:00\n",
      "Consulta disponible a las 17:00\n",
      "\n",
      "Horarios de consulta (solo pares):\n",
      "Consulta disponible a las 8:00\n",
      "Consulta disponible a las 10:00\n",
      "Consulta disponible a las 12:00\n",
      "Consulta disponible a las 14:00\n",
      "Consulta disponible a las 16:00\n"
     ]
    }
   ],
   "source": [
    "# SOLUCIÓN Ejercicio 3\n",
    "\n",
    "# 1-2. Horarios completos\n",
    "print(\"Horarios de consulta (completos):\")\n",
    "for hora in range(8, 18):  # De 8 a 17\n",
    "    print(f\"Consulta disponible a las {hora}:00\")\n",
    "\n",
    "print()  # Línea en blanco\n",
    "\n",
    "# 3. Solo horarios pares\n",
    "print(\"Horarios de consulta (solo pares):\")\n",
    "for hora in range(8, 18, 2):  # De 8 a 16, de 2 en 2\n",
    "    print(f\"Consulta disponible a las {hora}:00\")\n"
   ]
  },
  {
   "cell_type": "markdown",
   "metadata": {},
   "source": [
    " ### Ejercicio 5\n",
    "\n",
    " Bucle while básico:\n",
    "\n",
    " 1. Crea un contador que empiece en 1\n",
    "\n",
    " 2. Usa while para contar hasta 5\n",
    "\n",
    " 3. En cada iteración muestra: \"Revisando paciente número {contador}\"\n",
    "\n",
    " 4. No olvides incrementar el contador para evitar bucle infinito"
   ]
  },
  {
   "cell_type": "code",
   "execution_count": 27,
   "metadata": {},
   "outputs": [
    {
     "name": "stdout",
     "output_type": "stream",
     "text": [
      "Revisando paciente número 1\n",
      "Revisando paciente número 2\n",
      "Revisando paciente número 3\n",
      "Revisando paciente número 4\n",
      "Revisando paciente número 5\n",
      "Revisión de pacientes completada\n"
     ]
    }
   ],
   "source": [
    "# SOLUCIÓN Ejercicio 5\n",
    "\n",
    "# 1. Crear contador\n",
    "contador = 1\n",
    "\n",
    "# 2-3. Bucle while\n",
    "while contador <= 5:\n",
    "    print(f\"Revisando paciente número {contador}\")\n",
    "    contador += 1  # 4. Incrementar para evitar bucle infinito\n",
    "\n",
    "print(\"Revisión de pacientes completada\")\n"
   ]
  },
  {
   "cell_type": "markdown",
   "metadata": {},
   "source": [
    " ### Ejercicio 6\n",
    "\n",
    " Operaciones con bucles:\n",
    "\n",
    " 1. Crea una lista `pesos = [65.5, 78.2, 45.8, 90.1, 72.0]`\n",
    "\n",
    " 2. Usa un bucle for para: Sumar todos los pesos, Contar cuántos pesos hay, Calcular el promedio al final\n",
    "\n",
    " 3. Muestra el resultado final"
   ]
  },
  {
   "cell_type": "code",
   "execution_count": 28,
   "metadata": {},
   "outputs": [
    {
     "name": "stdout",
     "output_type": "stream",
     "text": [
      "Lista de pesos: [65.5, 78.2, 45.8, 90.1, 72.0]\n",
      "Suma total: 351.6 kg\n",
      "Cantidad de pesos: 5\n",
      "Promedio: 70.3 kg\n"
     ]
    }
   ],
   "source": [
    "# SOLUCIÓN Ejercicio 6\n",
    "\n",
    "# 1. Crear lista de pesos\n",
    "pesos = [65.5, 78.2, 45.8, 90.1, 72.0]\n",
    "\n",
    "# 2. Inicializar variables para cálculos\n",
    "suma_pesos = 0\n",
    "contador_pesos = 0\n",
    "\n",
    "# Bucle para sumar y contar manualmente\n",
    "for peso in pesos:\n",
    "    suma_pesos += peso\n",
    "    contador_pesos += 1\n",
    "\n",
    "# Calcular promedio\n",
    "promedio = suma_pesos / contador_pesos\n",
    "\n",
    "# 3. Mostrar resultados\n",
    "print(f\"Lista de pesos: {pesos}\")\n",
    "print(f\"Suma total: {suma_pesos} kg\")\n",
    "print(f\"Cantidad de pesos: {contador_pesos}\")\n",
    "print(f\"Promedio: {promedio:.1f} kg\")\n"
   ]
  },
  {
   "cell_type": "markdown",
   "metadata": {},
   "source": [
    " ### Ejercicio 7\n",
    "\n",
    " Break en acción:\n",
    "\n",
    " 1. Crea una lista `valores_glucosa = [85, 92, 180, 95, 110]`\n",
    "\n",
    " 2. Recorre la lista buscando valores peligrosos (>150)\n",
    "\n",
    " 3. Cuando encuentres uno, muestra \"ALERTA: Glucosa {valor} mg/dL\" y sal del bucle con break\n",
    "\n",
    " 4. Si no encuentras ninguno, muestra \"Todos los valores normales\""
   ]
  },
  {
   "cell_type": "code",
   "execution_count": 30,
   "metadata": {},
   "outputs": [
    {
     "name": "stdout",
     "output_type": "stream",
     "text": [
      "ALERTA: Glucosa 180 mg/dL\n"
     ]
    }
   ],
   "source": [
    "# SOLUCIÓN Ejercicio 7\n",
    "\n",
    "# 1. Crear lista de valores de glucosa\n",
    "valores_glucosa = [85, 92, 180, 95, 110]\n",
    "\n",
    "# 2-3. Buscar valores peligrosos con break\n",
    "encontrado_peligroso = False\n",
    "for glucosa in valores_glucosa:\n",
    "    if glucosa > 150:\n",
    "        print(f\"ALERTA: Glucosa {glucosa} mg/dL\")\n",
    "        encontrado_peligroso = True\n",
    "        break  # Salir del bucle inmediatamente\n",
    "\n",
    "# 4. Si no se encontró ninguno peligroso\n",
    "if encontrado_peligroso == False:\n",
    "    print(\"Todos los valores normales\")\n"
   ]
  },
  {
   "cell_type": "markdown",
   "metadata": {},
   "source": [
    " ### Ejercicio 8\n",
    "\n",
    " Continue en acción:\n",
    "\n",
    " 1. Crea una lista `edades = [25, 16, 34, 12, 45, 17, 67, 15]`\n",
    "\n",
    " 2. Usa un bucle for para procesar solo pacientes adultos (>=18)\n",
    "\n",
    " 3. Usa continue para saltar menores de edad\n",
    "\n",
    " 4. Muestra: \"Paciente adulto: {edad} años\""
   ]
  },
  {
   "cell_type": "code",
   "execution_count": 31,
   "metadata": {},
   "outputs": [
    {
     "name": "stdout",
     "output_type": "stream",
     "text": [
      "Procesando solo pacientes adultos:\n",
      "Paciente adulto: 25 años\n",
      "Paciente adulto: 34 años\n",
      "Paciente adulto: 45 años\n",
      "Paciente adulto: 67 años\n"
     ]
    }
   ],
   "source": [
    "# SOLUCIÓN Ejercicio 8\n",
    "\n",
    "# 1. Crear lista de edades mixtas\n",
    "edades = [25, 16, 34, 12, 45, 17, 67, 15]\n",
    "\n",
    "# 2-3. Bucle con continue para saltar menores\n",
    "print(\"Procesando solo pacientes adultos:\")\n",
    "for edad in edades:\n",
    "    if edad < 18:\n",
    "        continue  # Saltar esta iteración, ir al siguiente\n",
    "    \n",
    "    # 4. Solo se ejecuta para adultos\n",
    "    print(f\"Paciente adulto: {edad} años\")\n"
   ]
  },
  {
   "cell_type": "markdown",
   "metadata": {},
   "source": [
    " ### Ejercicio 9\n",
    "\n",
    " Bucles anidados:\n",
    "\n",
    " 1. Crea una lista de listas: `consultas = [[\"María\", \"9:00\"], [\"Juan\", \"10:00\"], [\"Carmen\", \"11:00\"]]`\n",
    "\n",
    " 2. Usa un bucle for para recorrer cada consulta\n",
    "\n",
    " 3. Dentro, usa otro bucle for para mostrar cada elemento de la consulta\n",
    "\n",
    " 4. Formato: \"Dato: {elemento}\""
   ]
  },
  {
   "cell_type": "code",
   "execution_count": 32,
   "metadata": {},
   "outputs": [
    {
     "name": "stdout",
     "output_type": "stream",
     "text": [
      "Procesando consultas:\n",
      "Nueva consulta:\n",
      "  Dato: María\n",
      "  Dato: 9:00\n",
      "---\n",
      "Nueva consulta:\n",
      "  Dato: Juan\n",
      "  Dato: 10:00\n",
      "---\n",
      "Nueva consulta:\n",
      "  Dato: Carmen\n",
      "  Dato: 11:00\n",
      "---\n"
     ]
    }
   ],
   "source": [
    "# SOLUCIÓN Ejercicio 9\n",
    "\n",
    "# 1. Crear lista de listas (consultas)\n",
    "consultas = [[\"María\", \"9:00\"], [\"Juan\", \"10:00\"], [\"Carmen\", \"11:00\"]]\n",
    "\n",
    "# 2-3. Bucles anidados\n",
    "print(\"Procesando consultas:\")\n",
    "for consulta in consultas:  # Bucle externo\n",
    "    print(f\"Nueva consulta:\")\n",
    "    for elemento in consulta:  # Bucle interno\n",
    "        print(f\"  Dato: {elemento}\")\n",
    "    print(\"---\")  # Separador\n"
   ]
  },
  {
   "cell_type": "markdown",
   "metadata": {},
   "source": [
    " ### Ejercicio 11\n",
    "\n",
    " Búsqueda y conteo:\n",
    "\n",
    " 1. Crea una lista `medicamentos = [\"Paracetamol\", \"Ibuprofeno\", \"Paracetamol\", \"Aspirina\", \"Paracetamol\"]`\n",
    "\n",
    " 2. Usa un bucle for para contar cuántas veces aparece \"Paracetamol\"\n",
    "\n",
    " 3. Usa otro bucle para encontrar todas las posiciones donde aparece\n",
    "\n",
    " 4. Muestra ambos resultados"
   ]
  },
  {
   "cell_type": "code",
   "execution_count": 33,
   "metadata": {},
   "outputs": [
    {
     "name": "stdout",
     "output_type": "stream",
     "text": [
      "'Paracetamol' aparece 3 veces\n",
      "Posiciones donde aparece: [0, 2, 4]\n"
     ]
    }
   ],
   "source": [
    "# SOLUCIÓN Ejercicio 11\n",
    "\n",
    "# 1. Crear lista con repeticiones\n",
    "medicamentos = [\"Paracetamol\", \"Ibuprofeno\", \"Paracetamol\", \"Aspirina\", \"Paracetamol\"]\n",
    "\n",
    "# 2. Contar apariciones manualmente\n",
    "contador = 0\n",
    "for medicamento in medicamentos:\n",
    "    if medicamento == \"Paracetamol\":\n",
    "        contador += 1\n",
    "\n",
    "print(f\"'Paracetamol' aparece {contador} veces\")\n",
    "\n",
    "# 3. Encontrar posiciones\n",
    "posiciones = []\n",
    "for indice, medicamento in enumerate(medicamentos):\n",
    "    if medicamento == \"Paracetamol\":\n",
    "        posiciones.append(indice)\n",
    "\n",
    "# 4. Mostrar resultados\n",
    "print(f\"Posiciones donde aparece: {posiciones}\")\n"
   ]
  },
  {
   "cell_type": "markdown",
   "metadata": {},
   "source": [
    " ### Ejercicio 13\n",
    "\n",
    " Sistema de triaje completo:\n",
    "\n",
    " 1. Crea listas paralelas: `nombres = [\"Ana\", \"Luis\", \"Carmen\", \"Pedro\"]`, `urgencias = [3, 1, 2, 3]` (1=crítico, 2=urgente, 3=normal)\n",
    "\n",
    " 2. Usa enumerate() para procesar cada paciente\n",
    "\n",
    " 3. Usa continue para saltar pacientes normales (urgencia=3)\n",
    "\n",
    " 4. Para críticos (urgencia=1), muestra \"CRÍTICO\" y usa break\n",
    "\n",
    " 5. Para urgentes, solo muestra \"Urgente: {nombre}\""
   ]
  },
  {
   "cell_type": "code",
   "execution_count": 34,
   "metadata": {},
   "outputs": [
    {
     "name": "stdout",
     "output_type": "stream",
     "text": [
      "Sistema de triaje:\n",
      "CRÍTICO: Luis\n"
     ]
    }
   ],
   "source": [
    "# SOLUCIÓN Ejercicio 13\n",
    "\n",
    "# 1. Crear listas paralelas\n",
    "nombres = [\"Ana\", \"Luis\", \"Carmen\", \"Pedro\"]\n",
    "urgencias = [3, 1, 2, 3]  # Corresponden por posición\n",
    "\n",
    "print(\"Sistema de triaje:\")\n",
    "\n",
    "# 2. Usar enumerate para procesar\n",
    "for indice, nombre in enumerate(nombres):\n",
    "    urgencia = urgencias[indice]  # Obtener urgencia correspondiente\n",
    "    \n",
    "    # 3. Saltar pacientes normales\n",
    "    if urgencia == 3:\n",
    "        continue\n",
    "    \n",
    "    # 4. Críticos - mostrar y parar\n",
    "    if urgencia == 1:\n",
    "        print(f\"CRÍTICO: {nombre}\")\n",
    "        break  # Parar procesamiento\n",
    "    \n",
    "    # 5. Urgentes\n",
    "    if urgencia == 2:\n",
    "        print(f\"Urgente: {nombre}\")\n"
   ]
  },
  {
   "cell_type": "markdown",
   "metadata": {},
   "source": [
    " ## EJERCICIO INTEGRADOR FINAL\n",
    "\n",
    "\n",
    "\n",
    " ### Sistema de Evaluación de Pacientes\n",
    "\n",
    "\n",
    "\n",
    " Crea una lista llamada `pacientes` con esta información:\n",
    "\n",
    " ```python\n",
    "\n",
    " pacientes = [\n",
    "\n",
    "     [\"Ana García\", 25, 37.2, [\"dolor cabeza\"]],\n",
    "\n",
    "     [\"Luis Martín\", 67, 38.8, [\"tos\", \"fiebre\", \"fatiga\"]],\n",
    "\n",
    "     [\"Carmen López\", 15, 36.9, []],\n",
    "\n",
    "     [\"Pedro Ruiz\", 45, 39.2, [\"dolor pecho\", \"mareo\", \"sudoración\", \"náuseas\"]]\n",
    "\n",
    " ]\n",
    "\n",
    " ```"
   ]
  },
  {
   "cell_type": "code",
   "execution_count": 35,
   "metadata": {},
   "outputs": [
    {
     "name": "stdout",
     "output_type": "stream",
     "text": [
      "=== CONSULTA MÉDICA DEL DÍA ===\n",
      "\n",
      "PACIENTE: Ana García (25 años) - Adulto\n",
      "Temperatura: 37.2°C (Normal)\n",
      "Síntomas: 1\n",
      "PRIORIDAD: NORMAL\n",
      "\n",
      "PACIENTE: Luis Martín (67 años) - Mayor\n",
      "Temperatura: 38.8°C (Fiebre)\n",
      "Síntomas: 3\n",
      "PRIORIDAD: URGENTE\n",
      "\n",
      "PACIENTE: Carmen López (15 años) - Menor\n",
      "Temperatura: 36.9°C (Normal)\n",
      "Síntomas: 0\n",
      "PRIORIDAD: NORMAL\n",
      "\n",
      "PACIENTE: Pedro Ruiz (45 años) - Adulto\n",
      "Temperatura: 39.2°C (Fiebre alta)\n",
      "Síntomas: 4\n",
      "PRIORIDAD: URGENTE\n",
      "\n",
      "=== RESUMEN DEL DÍA ===\n",
      "Total de pacientes: 4\n",
      "Temperatura promedio: 38.0°C\n",
      "Pacientes urgentes: 2\n",
      "\n",
      "Lista de urgencias: Luis Martín, Pedro Ruiz\n"
     ]
    }
   ],
   "source": [
    "# SOLUCIÓN EJERCICIO INTEGRADOR FINAL\n",
    "\n",
    "# Paso 1: Preparar los datos\n",
    "pacientes = [\n",
    "    [\"Ana García\", 25, 37.2, [\"dolor cabeza\"]],\n",
    "    [\"Luis Martín\", 67, 38.8, [\"tos\", \"fiebre\", \"fatiga\"]],\n",
    "    [\"Carmen López\", 15, 36.9, []],\n",
    "    [\"Pedro Ruiz\", 45, 39.2, [\"dolor pecho\", \"mareo\", \"sudoración\", \"náuseas\"]]\n",
    "]\n",
    "\n",
    "# Variables para estadísticas\n",
    "total_pacientes = len(pacientes)\n",
    "suma_temperaturas = 0\n",
    "pacientes_urgentes = 0\n",
    "lista_urgencias = []\n",
    "\n",
    "print(\"=== CONSULTA MÉDICA DEL DÍA ===\")\n",
    "print()\n",
    "\n",
    "# Paso 2: Analizar cada paciente\n",
    "for paciente in pacientes:\n",
    "    # Extraer información de cada paciente\n",
    "    nombre = paciente[0]\n",
    "    edad = paciente[1]\n",
    "    temperatura = paciente[2]\n",
    "    sintomas = paciente[3]\n",
    "    \n",
    "    # Acumular temperatura para promedio\n",
    "    suma_temperaturas += temperatura\n",
    "    \n",
    "    # Determinar grupo de edad\n",
    "    if edad < 18:\n",
    "        grupo_edad = \"Menor\"\n",
    "    elif edad <= 65:\n",
    "        grupo_edad = \"Adulto\"\n",
    "    else:\n",
    "        grupo_edad = \"Mayor\"\n",
    "    \n",
    "    # Clasificar temperatura\n",
    "    if temperatura < 37.5:\n",
    "        clasificacion_temp = \"Normal\"\n",
    "    elif temperatura <= 39:\n",
    "        clasificacion_temp = \"Fiebre\"\n",
    "    else:\n",
    "        clasificacion_temp = \"Fiebre alta\"\n",
    "    \n",
    "    # Determinar prioridad\n",
    "    # URGENTE si: temperatura > 39 O (es mayor de 65 años Y tiene fiebre)\n",
    "    if temperatura > 39 or (edad > 65 and temperatura >= 37.5):\n",
    "        prioridad = \"URGENTE\"\n",
    "        pacientes_urgentes += 1\n",
    "        lista_urgencias.append(nombre)\n",
    "    else:\n",
    "        prioridad = \"NORMAL\"\n",
    "    \n",
    "    # Mostrar información del paciente\n",
    "    print(f\"PACIENTE: {nombre} ({edad} años) - {grupo_edad}\")\n",
    "    print(f\"Temperatura: {temperatura}°C ({clasificacion_temp})\")\n",
    "    print(f\"Síntomas: {len(sintomas)}\")\n",
    "    print(f\"PRIORIDAD: {prioridad}\")\n",
    "    print()\n",
    "\n",
    "# Paso 3: Estadísticas simples\n",
    "temperatura_promedio = suma_temperaturas / total_pacientes\n",
    "\n",
    "print(\"=== RESUMEN DEL DÍA ===\")\n",
    "print(f\"Total de pacientes: {total_pacientes}\")\n",
    "print(f\"Temperatura promedio: {temperatura_promedio:.1f}°C\")\n",
    "print(f\"Pacientes urgentes: {pacientes_urgentes}\")\n",
    "\n",
    "# Paso 4: Lista de urgencias\n",
    "if len(lista_urgencias) > 0:\n",
    "    # Convertir lista a string separado por comas\n",
    "    nombres_urgencias = \", \".join(lista_urgencias)\n",
    "    print(f\"\\nLista de urgencias: {nombres_urgencias}\")\n",
    "else:\n",
    "    print(\"\\nNo hay pacientes urgentes\")\n"
   ]
  },
  {
   "cell_type": "markdown",
   "metadata": {},
   "source": [
    " ## CONCEPTOS UTILIZADOS EN LAS SOLUCIONES\n",
    "\n",
    "\n",
    "\n",
    " ### Variables y Tipos de Datos:\n",
    "\n",
    " - Asignación con `=`\n",
    "\n",
    " - Tipos básicos: int, float, str, bool\n",
    "\n",
    " - Conversión con int(), float(), str()\n",
    "\n",
    " - Verificación con type()\n",
    "\n",
    "\n",
    "\n",
    " ### Operaciones Básicas:\n",
    "\n",
    " - Aritméticas: +, -, *, /, //, %, **\n",
    "\n",
    " - Comparación: >, <, ==, !=, >=, <=\n",
    "\n",
    "\n",
    "\n",
    " ### Strings:\n",
    "\n",
    " - Métodos: .upper(), .lower(), .strip(), .replace(), .split()\n",
    "\n",
    " - Indexing: [0], [-1], [inicio:fin]\n",
    "\n",
    " - Operador in para búsqueda\n",
    "\n",
    " - len() para longitud\n",
    "\n",
    "\n",
    "\n",
    " ### Listas:\n",
    "\n",
    " - Creación con []\n",
    "\n",
    " - Métodos: .append(), .remove(), .pop()\n",
    "\n",
    " - Indexing y slicing\n",
    "\n",
    " - Funciones: len(), max(), min(), sum()\n",
    "\n",
    " - Listas anidadas: lista[i][j]\n",
    "\n",
    "\n",
    "\n",
    " ### Condicionales:\n",
    "\n",
    " - Estructura if/elif/else\n",
    "\n",
    " - Operadores lógicos: and, or, not\n",
    "\n",
    " - Evaluación booleana\n",
    "\n",
    "\n",
    "\n",
    " ### Bucles:\n",
    "\n",
    " - for con listas y range()\n",
    "\n",
    " - while con contadores\n",
    "\n",
    " - enumerate() para índice y valor\n",
    "\n",
    " - break y continue para control\n",
    "\n",
    " - Bucles anidados\n",
    "\n",
    "\n",
    "\n",
    " ### F-strings:\n",
    "\n",
    " - Formato: f\"texto {variable}\"\n",
    "\n",
    " - Combinación de texto y variables"
   ]
  }
 ],
 "metadata": {
  "kernelspec": {
   "display_name": "marc_priv",
   "language": "python",
   "name": "python3"
  },
  "language_info": {
   "codemirror_mode": {
    "name": "ipython",
    "version": 3
   },
   "file_extension": ".py",
   "mimetype": "text/x-python",
   "name": "python",
   "nbconvert_exporter": "python",
   "pygments_lexer": "ipython3",
   "version": "3.12.7"
  }
 },
 "nbformat": 4,
 "nbformat_minor": 2
}
