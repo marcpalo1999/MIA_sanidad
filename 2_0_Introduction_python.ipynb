{
 "cells": [
  {
   "cell_type": "markdown",
   "metadata": {},
   "source": [
    " # Introducción a Python\n",
    "\n",
    "\n",
    "\n",
    " En este notebook aprenderás conceptos básicos de Python:\n",
    "\n",
    "\n",
    "\n",
    " - Variables y asignación\n",
    "\n",
    " - Tipos de datos\n",
    "\n",
    " - Operaciones básicas\n",
    "\n",
    " - Strings y sus métodos\n",
    "\n",
    " - Listas\n",
    "\n",
    " - Condicionales y operadores lógicos\n",
    "\n",
    " - Bucles (`for`, `while`)\n",
    "\n",
    " - Funciones\n",
    "\n",
    "\n",
    "\n",
    " ---"
   ]
  },
  {
   "cell_type": "markdown",
   "metadata": {},
   "source": [
    " ## Capitulo 1. Variables y asignación\n",
    "\n",
    "\n",
    "\n",
    " En Python, una **variable** es un nombre que guarda un valor en memoria.\n",
    "\n",
    " Se asigna usando el signo `=`.\n",
    "\n",
    " Dentro de una variable se pueden guardar muchas cosas distintas (pero solo una cosa a la vez). Ejemplos de cosas que podemos guardar en una variable serian datos basicos, como enteros (int), decimales (float), texto (str), valores logicos/binarios (bool) o valores nulos (None)"
   ]
  },
  {
   "cell_type": "code",
   "execution_count": 22,
   "metadata": {},
   "outputs": [
    {
     "data": {
      "text/plain": [
       "45"
      ]
     },
     "execution_count": 22,
     "metadata": {},
     "output_type": "execute_result"
    }
   ],
   "source": [
    "# Asignación de variables\n",
    "edad_paciente = 45\n",
    "peso_paciente = 70\n",
    "edad_paciente\n"
   ]
  },
  {
   "cell_type": "code",
   "execution_count": 23,
   "metadata": {},
   "outputs": [
    {
     "data": {
      "text/plain": [
       "'Dr. García'"
      ]
     },
     "execution_count": 23,
     "metadata": {},
     "output_type": "execute_result"
    }
   ],
   "source": [
    "nombre_medico = \"Dr. García\"\n",
    "nombre_medico\n"
   ]
  },
  {
   "cell_type": "code",
   "execution_count": 24,
   "metadata": {},
   "outputs": [
    {
     "data": {
      "text/plain": [
       "36.8"
      ]
     },
     "execution_count": 24,
     "metadata": {},
     "output_type": "execute_result"
    }
   ],
   "source": [
    "temperatura = 36.8\n",
    "temperatura\n"
   ]
  },
  {
   "cell_type": "code",
   "execution_count": 25,
   "metadata": {},
   "outputs": [
    {
     "data": {
      "text/plain": [
       "'Presión: 120/80, Pulso: 75'"
      ]
     },
     "execution_count": 25,
     "metadata": {},
     "output_type": "execute_result"
    }
   ],
   "source": [
    "# Asignación múltiple\n",
    "sistolica, diastolica, pulso = 120, 80, 75\n",
    "\n",
    "# Impresión por pantalla usando f-strings\n",
    "# Como veis los f-strings son muy útiles para combinar texto y variables en una misma línea\n",
    "f\"Presión: {sistolica}/{diastolica}, Pulso: {pulso}\"\n"
   ]
  },
  {
   "cell_type": "markdown",
   "metadata": {},
   "source": [
    " ## Capitulo 2. Tipos de datos básicos\n",
    "\n",
    "\n",
    "\n",
    " Python tiene varios tipos de datos fundamentales:\n",
    "\n",
    "\n",
    "\n",
    " - **int** → números enteros como 1, 2, 100, -5 etc.\n",
    "\n",
    " - **float** → números decimales 3.14, 36.8, -2.5 etc.\n",
    "\n",
    " - **str** → texto o cadenas de caracteres como \"Hola\", \"Dr. López\", etc.\n",
    "\n",
    " - **bool** → valores lógicos (True o False). Analogamente son 1 y 0.\n",
    "\n",
    " - **None** → valor nulo, representa ausencia de valor"
   ]
  },
  {
   "cell_type": "markdown",
   "metadata": {},
   "source": [
    " Para saber que tipo de dato basico tengo dentro de mi variable (no el contenido, sinó el TIPO de dato), usamos la función type() nativa de python."
   ]
  },
  {
   "cell_type": "code",
   "execution_count": 26,
   "metadata": {},
   "outputs": [
    {
     "data": {
      "text/plain": [
       "int"
      ]
     },
     "execution_count": 26,
     "metadata": {},
     "output_type": "execute_result"
    }
   ],
   "source": [
    "edad = 30\n",
    "type(edad)\n"
   ]
  },
  {
   "cell_type": "code",
   "execution_count": 27,
   "metadata": {},
   "outputs": [
    {
     "data": {
      "text/plain": [
       "float"
      ]
     },
     "execution_count": 27,
     "metadata": {},
     "output_type": "execute_result"
    }
   ],
   "source": [
    "peso = 68.5\n",
    "type(peso)\n"
   ]
  },
  {
   "cell_type": "code",
   "execution_count": 28,
   "metadata": {},
   "outputs": [
    {
     "data": {
      "text/plain": [
       "str"
      ]
     },
     "execution_count": 28,
     "metadata": {},
     "output_type": "execute_result"
    }
   ],
   "source": [
    "diagnostico = \"Hipertensión leve\"\n",
    "type(diagnostico)\n"
   ]
  },
  {
   "cell_type": "code",
   "execution_count": 29,
   "metadata": {},
   "outputs": [
    {
     "data": {
      "text/plain": [
       "bool"
      ]
     },
     "execution_count": 29,
     "metadata": {},
     "output_type": "execute_result"
    }
   ],
   "source": [
    "tiene_fiebre = True\n",
    "type(tiene_fiebre)\n"
   ]
  },
  {
   "cell_type": "markdown",
   "metadata": {},
   "source": [
    " Podemos convertir nuestras variables a otros tipos con las funciones int(), str() y float() en algunos casos, si no es posible se nos devolverá un error al intentar ejecutar el codigo/comando"
   ]
  },
  {
   "cell_type": "code",
   "execution_count": 30,
   "metadata": {},
   "outputs": [
    {
     "data": {
      "text/plain": [
       "\"'45' convertido a entero: 45\""
      ]
     },
     "execution_count": 30,
     "metadata": {},
     "output_type": "execute_result"
    }
   ],
   "source": [
    "# Conversión de tipos\n",
    "edad_texto = \"45\"\n",
    "edad_numero = int(edad_texto)\n",
    "f\"'{edad_texto}' convertido a entero: {edad_numero}\"\n"
   ]
  },
  {
   "cell_type": "code",
   "execution_count": 31,
   "metadata": {},
   "outputs": [
    {
     "ename": "ValueError",
     "evalue": "invalid literal for int() with base 10: 'cuarenta y cinco'",
     "output_type": "error",
     "traceback": [
      "\u001b[0;31m---------------------------------------------------------------------------\u001b[0m",
      "\u001b[0;31mValueError\u001b[0m                                Traceback (most recent call last)",
      "Cell \u001b[0;32mIn[31], line 3\u001b[0m\n\u001b[1;32m      1\u001b[0m \u001b[38;5;66;03m# Conversión de tipos\u001b[39;00m\n\u001b[1;32m      2\u001b[0m edad_texto \u001b[38;5;241m=\u001b[39m \u001b[38;5;124m\"\u001b[39m\u001b[38;5;124mcuarenta y cinco\u001b[39m\u001b[38;5;124m\"\u001b[39m\n\u001b[0;32m----> 3\u001b[0m edad_numero \u001b[38;5;241m=\u001b[39m \u001b[38;5;28;43mint\u001b[39;49m\u001b[43m(\u001b[49m\u001b[43medad_texto\u001b[49m\u001b[43m)\u001b[49m\n\u001b[1;32m      4\u001b[0m \u001b[38;5;124mf\u001b[39m\u001b[38;5;124m\"\u001b[39m\u001b[38;5;124m'\u001b[39m\u001b[38;5;132;01m{\u001b[39;00medad_texto\u001b[38;5;132;01m}\u001b[39;00m\u001b[38;5;124m'\u001b[39m\u001b[38;5;124m convertido a entero: \u001b[39m\u001b[38;5;132;01m{\u001b[39;00medad_numero\u001b[38;5;132;01m}\u001b[39;00m\u001b[38;5;124m\"\u001b[39m\n",
      "\u001b[0;31mValueError\u001b[0m: invalid literal for int() with base 10: 'cuarenta y cinco'"
     ]
    }
   ],
   "source": [
    "# Conversión de tipos\n",
    "edad_texto = \"cuarenta y cinco\"\n",
    "edad_numero = int(edad_texto)\n",
    "f\"'{edad_texto}' convertido a entero: {edad_numero}\"\n"
   ]
  },
  {
   "cell_type": "markdown",
   "metadata": {},
   "source": [
    " ### Ejercicios capitulo 1 y 2: Variables y Tipos de Datos\n",
    "\n",
    "\n",
    "\n",
    " ### Ejercicio 1\n",
    "\n",
    " Crea las siguientes variables y muestra su contenido:\n",
    "\n",
    "\n",
    "\n",
    " 1. Una variable llamada `nombre_paciente` con el valor \"Ana López\"\n",
    "\n",
    " 2. Una variable llamada `edad` con el valor 32\n",
    "\n",
    " 3. Una variable llamada `tiene_seguro` con el valor True\n",
    "\n",
    "\n",
    "\n",
    " Después, usa `type()` para mostrar el tipo de cada variable."
   ]
  },
  {
   "cell_type": "code",
   "execution_count": 32,
   "metadata": {},
   "outputs": [],
   "source": [
    "# Respuesta ejercicio 1\n"
   ]
  },
  {
   "cell_type": "markdown",
   "metadata": {},
   "source": [
    " ### Ejercicio 2\n",
    "\n",
    " Completa las siguientes tareas:\n",
    "\n",
    "\n",
    "\n",
    " 1. Crea una variable `temperatura_texto` con el valor de string \"38.5\"\n",
    "\n",
    " 2. Convierte esta variable a número decimal y guárdala en `temperatura_numero`\n",
    "\n",
    " 3. Crea una variable `paciente_id` con el valor integer 12345\n",
    "\n",
    " 4. Convierte `paciente_id` a texto y guárdala en `paciente_id_texto`\n",
    "\n",
    " 5. Usa un f-string para mostrar: \"La temperatura del paciente (insertar ID paciente) es (insertar temperatura paciente) grados\""
   ]
  },
  {
   "cell_type": "code",
   "execution_count": 33,
   "metadata": {},
   "outputs": [],
   "source": [
    "# Respuesta ejercicio 2\n"
   ]
  },
  {
   "cell_type": "markdown",
   "metadata": {},
   "source": [
    " ## Capitulo 3. Operaciones básicas con numeros (int y float)\n",
    "\n",
    "\n",
    "\n",
    " Python soporta operaciones matemáticas y de comparación:"
   ]
  },
  {
   "cell_type": "code",
   "execution_count": 34,
   "metadata": {},
   "outputs": [],
   "source": [
    "# Operaciones aritméticas básicas\n",
    "a = 15\n",
    "b = 4\n"
   ]
  },
  {
   "cell_type": "code",
   "execution_count": 35,
   "metadata": {},
   "outputs": [
    {
     "data": {
      "text/plain": [
       "19"
      ]
     },
     "execution_count": 35,
     "metadata": {},
     "output_type": "execute_result"
    }
   ],
   "source": [
    "a + b  # suma\n"
   ]
  },
  {
   "cell_type": "code",
   "execution_count": 36,
   "metadata": {},
   "outputs": [
    {
     "data": {
      "text/plain": [
       "11"
      ]
     },
     "execution_count": 36,
     "metadata": {},
     "output_type": "execute_result"
    }
   ],
   "source": [
    "a - b  # resta\n"
   ]
  },
  {
   "cell_type": "code",
   "execution_count": 37,
   "metadata": {},
   "outputs": [
    {
     "data": {
      "text/plain": [
       "60"
      ]
     },
     "execution_count": 37,
     "metadata": {},
     "output_type": "execute_result"
    }
   ],
   "source": [
    "a * b  # multiplicación\n"
   ]
  },
  {
   "cell_type": "code",
   "execution_count": 38,
   "metadata": {},
   "outputs": [
    {
     "data": {
      "text/plain": [
       "3.75"
      ]
     },
     "execution_count": 38,
     "metadata": {},
     "output_type": "execute_result"
    }
   ],
   "source": [
    "a / b  # división\n"
   ]
  },
  {
   "cell_type": "code",
   "execution_count": 39,
   "metadata": {},
   "outputs": [
    {
     "data": {
      "text/plain": [
       "3"
      ]
     },
     "execution_count": 39,
     "metadata": {},
     "output_type": "execute_result"
    }
   ],
   "source": [
    "a // b  # división entera\n"
   ]
  },
  {
   "cell_type": "code",
   "execution_count": 40,
   "metadata": {},
   "outputs": [
    {
     "data": {
      "text/plain": [
       "3"
      ]
     },
     "execution_count": 40,
     "metadata": {},
     "output_type": "execute_result"
    }
   ],
   "source": [
    "a % b  # resto o módulo\n"
   ]
  },
  {
   "cell_type": "code",
   "execution_count": 41,
   "metadata": {},
   "outputs": [
    {
     "data": {
      "text/plain": [
       "225"
      ]
     },
     "execution_count": 41,
     "metadata": {},
     "output_type": "execute_result"
    }
   ],
   "source": [
    "a ** 2  # potencia\n"
   ]
  },
  {
   "cell_type": "code",
   "execution_count": 42,
   "metadata": {},
   "outputs": [],
   "source": [
    "# Operadores de comparación\n",
    "x = 10\n",
    "y = 20\n"
   ]
  },
  {
   "cell_type": "code",
   "execution_count": 43,
   "metadata": {},
   "outputs": [
    {
     "data": {
      "text/plain": [
       "False"
      ]
     },
     "execution_count": 43,
     "metadata": {},
     "output_type": "execute_result"
    }
   ],
   "source": [
    "x > y\n"
   ]
  },
  {
   "cell_type": "code",
   "execution_count": 44,
   "metadata": {},
   "outputs": [
    {
     "data": {
      "text/plain": [
       "True"
      ]
     },
     "execution_count": 44,
     "metadata": {},
     "output_type": "execute_result"
    }
   ],
   "source": [
    "x < y\n"
   ]
  },
  {
   "cell_type": "code",
   "execution_count": 45,
   "metadata": {},
   "outputs": [
    {
     "data": {
      "text/plain": [
       "False"
      ]
     },
     "execution_count": 45,
     "metadata": {},
     "output_type": "execute_result"
    }
   ],
   "source": [
    "x == y\n"
   ]
  },
  {
   "cell_type": "code",
   "execution_count": 46,
   "metadata": {},
   "outputs": [
    {
     "data": {
      "text/plain": [
       "True"
      ]
     },
     "execution_count": 46,
     "metadata": {},
     "output_type": "execute_result"
    }
   ],
   "source": [
    "x != y\n"
   ]
  },
  {
   "cell_type": "markdown",
   "metadata": {},
   "source": [
    " ### Ejercicios capitulo 3: Operaciones Matemáticas Básicas\n",
    "\n",
    "\n",
    "\n",
    " ### Ejercicio 1\n",
    "\n",
    "\n",
    "\n",
    " Dadas las siguientes variables médicas:\n",
    "\n",
    " - `dosis_total = 500` (mg)\n",
    "\n",
    " - `numero_tomas = 4`\n",
    "\n",
    "\n",
    "\n",
    " Calcula y muestra:\n",
    "\n",
    " 1. La dosis por toma (división)\n",
    "\n",
    " 2. La dosis duplicada (multiplicación por 2)\n",
    "\n",
    " 3. El resto de dividir la dosis total entre 3"
   ]
  },
  {
   "cell_type": "code",
   "execution_count": null,
   "metadata": {},
   "outputs": [],
   "source": [
    "# Respuesta ejercicio 1\n"
   ]
  },
  {
   "cell_type": "markdown",
   "metadata": {},
   "source": [
    " ### Ejercicio 2\n",
    "\n",
    "\n",
    "\n",
    " Un paciente tiene los siguientes datos:\n",
    "\n",
    " - `peso_actual = 75` kg\n",
    "\n",
    " - `peso_ideal = 70` kg\n",
    "\n",
    " - `edad = 45` años\n",
    "\n",
    " - `edad_limite = 65` años\n",
    "\n",
    "\n",
    "\n",
    " Calcula y compara:\n",
    "\n",
    " 1. La diferencia de peso\n",
    "\n",
    " 2. Si el peso actual es mayor que el ideal\n",
    "\n",
    " 3. Si la edad es menor que el límite\n",
    "\n",
    " 4. Si la edad es exactamente 45\n",
    "\n",
    " 5. Si la edad NO es 50"
   ]
  },
  {
   "cell_type": "code",
   "execution_count": null,
   "metadata": {},
   "outputs": [],
   "source": [
    "# Respuesta ejercicio 2\n"
   ]
  },
  {
   "cell_type": "markdown",
   "metadata": {},
   "source": [
    " ### Ejercicio 3\n",
    "\n",
    "\n",
    "\n",
    " Calculadora médica:\n",
    "\n",
    " 1. Define `presion_sistolica = 140` y `presion_diastolica = 90`\n",
    "\n",
    " 2. Calcula el ratio sistólica/diastólica usando división\n",
    "\n",
    " 3. Calcula la presión del pulso (sistólica - diastólica)\n",
    "\n",
    " 4. Eleva la presión sistólica al cuadrado\n",
    "\n",
    " 5. Verifica si la presión sistólica es mayor o igual a 130"
   ]
  },
  {
   "cell_type": "code",
   "execution_count": null,
   "metadata": {},
   "outputs": [],
   "source": [
    "# Respuesta ejercicio 3\n"
   ]
  },
  {
   "cell_type": "markdown",
   "metadata": {},
   "source": [
    " ## Capitulo 4. Strings (Cadenas de texto)\n",
    "\n",
    "\n",
    "\n",
    " Los strings son secuencias de caracteres (comunmente conocido como texto). Se pueden definir con comillas simples o dobles, da lo mismo.\n",
    " Podemos acceder directamente a cada uno de los caracteres del string usando el metodo de indices de python, que tiene notación [].\n",
    "\n",
    "\n",
    "\n",
    " RECORDATORIO: Python es un lenguaje de programación basado en indice 0. Que significa eso? Que la primera posición de cualquier indice usado en python es 0, la segunda es 1 etc."
   ]
  },
  {
   "cell_type": "code",
   "execution_count": 50,
   "metadata": {},
   "outputs": [
    {
     "data": {
      "text/plain": [
       "'Paracetamol'"
      ]
     },
     "execution_count": 50,
     "metadata": {},
     "output_type": "execute_result"
    }
   ],
   "source": [
    "medicamento = \"Paracetamol\"\n",
    "medicamento\n"
   ]
  },
  {
   "cell_type": "code",
   "execution_count": 51,
   "metadata": {},
   "outputs": [
    {
     "data": {
      "text/plain": [
       "'PARACETAMOL'"
      ]
     },
     "execution_count": 51,
     "metadata": {},
     "output_type": "execute_result"
    }
   ],
   "source": [
    "# Métodos útiles de strings\n",
    "medicamento.upper()  # convertir a mayúsculas\n"
   ]
  },
  {
   "cell_type": "code",
   "execution_count": 52,
   "metadata": {},
   "outputs": [
    {
     "data": {
      "text/plain": [
       "'paracetamol'"
      ]
     },
     "execution_count": 52,
     "metadata": {},
     "output_type": "execute_result"
    }
   ],
   "source": [
    "medicamento.lower()  # convertir a minúsculas\n"
   ]
  },
  {
   "cell_type": "code",
   "execution_count": 53,
   "metadata": {},
   "outputs": [
    {
     "data": {
      "text/plain": [
       "'Ibuprofeno'"
      ]
     },
     "execution_count": 53,
     "metadata": {},
     "output_type": "execute_result"
    }
   ],
   "source": [
    "medicamento.replace('Paracetamol', 'Ibuprofeno')  # reemplazar texto\n"
   ]
  },
  {
   "cell_type": "code",
   "execution_count": 54,
   "metadata": {},
   "outputs": [
    {
     "data": {
      "text/plain": [
       "'P'"
      ]
     },
     "execution_count": 54,
     "metadata": {},
     "output_type": "execute_result"
    }
   ],
   "source": [
    "# Acceso a caracteres\n",
    "medicamento[0]  # primer carácter\n"
   ]
  },
  {
   "cell_type": "code",
   "execution_count": 55,
   "metadata": {},
   "outputs": [
    {
     "data": {
      "text/plain": [
       "'l'"
      ]
     },
     "execution_count": 55,
     "metadata": {},
     "output_type": "execute_result"
    }
   ],
   "source": [
    "medicamento[-1]  # último carácter\n"
   ]
  },
  {
   "cell_type": "code",
   "execution_count": 56,
   "metadata": {},
   "outputs": [
    {
     "data": {
      "text/plain": [
       "'rac'"
      ]
     },
     "execution_count": 56,
     "metadata": {},
     "output_type": "execute_result"
    }
   ],
   "source": [
    "medicamento[2:5]  # substring del índice 2 al 4\n"
   ]
  },
  {
   "cell_type": "code",
   "execution_count": 57,
   "metadata": {},
   "outputs": [
    {
     "data": {
      "text/plain": [
       "'Medicina Interna'"
      ]
     },
     "execution_count": 57,
     "metadata": {},
     "output_type": "execute_result"
    }
   ],
   "source": [
    "# Métodos adicionales útiles de strings\n",
    "texto_con_espacios = \"  Medicina Interna  \"\n",
    "texto_con_espacios.strip()  # eliminar espacios al principio y final\n"
   ]
  },
  {
   "cell_type": "markdown",
   "metadata": {},
   "source": [
    "El metodo \"in\" comprueba si una secuencia de texto definida por nosotros, en este caso \"hipertensión\", esta de alguna manera encabida dentro de una variable. Si efectivamente está encabida, el metodo in nos devolvera verdadero o True, y si no es así nos devolvera Falso o False."
   ]
  },
  {
   "cell_type": "code",
   "execution_count": 59,
   "metadata": {},
   "outputs": [
    {
     "data": {
      "text/plain": [
       "True"
      ]
     },
     "execution_count": 59,
     "metadata": {},
     "output_type": "execute_result"
    }
   ],
   "source": [
    "# Verificar si un texto contiene otro texto\n",
    "diagnostico = \"Hipertensión arterial\"\n",
    "\"hipertensión\" in diagnostico.lower()  # verificar si contiene (insensible a mayúsculas)\n"
   ]
  },
  {
   "cell_type": "code",
   "execution_count": 60,
   "metadata": {},
   "outputs": [
    {
     "data": {
      "text/plain": [
       "['dolor', 'de', 'cabeza', 'severo']"
      ]
     },
     "execution_count": 60,
     "metadata": {},
     "output_type": "execute_result"
    }
   ],
   "source": [
    "# Dividir un string en palabras\n",
    "frase = \"dolor de cabeza severo\"\n",
    "frase.split()  # divide por espacios, devuelve una lista\n"
   ]
  },
  {
   "cell_type": "code",
   "execution_count": 61,
   "metadata": {},
   "outputs": [
    {
     "data": {
      "text/plain": [
       "11"
      ]
     },
     "execution_count": 61,
     "metadata": {},
     "output_type": "execute_result"
    }
   ],
   "source": [
    "# Contar caracteres en un string\n",
    "len(medicamento)  # cuenta el número de caracteres o como de largo (length, len()) es un string\n"
   ]
  },
  {
   "cell_type": "markdown",
   "metadata": {},
   "source": [
    " ## Ejercicios: Strings (Cadenas de texto)\n",
    "\n",
    "\n",
    "\n",
    " ### Ejercicio 1\n",
    "\n",
    "\n",
    "\n",
    " Dado el medicamento: `farmaco = \"Amoxicilina\"`\n",
    "\n",
    "\n",
    "\n",
    " 1. Muestra el medicamento en mayúsculas\n",
    "\n",
    " 2. Muestra el medicamento en minúsculas\n",
    "\n",
    " 3. Muestra la primera letra del medicamento\n",
    "\n",
    " 4. Muestra la última letra del medicamento"
   ]
  },
  {
   "cell_type": "code",
   "execution_count": 62,
   "metadata": {},
   "outputs": [],
   "source": [
    "# Resultado ejercicio 1\n"
   ]
  },
  {
   "cell_type": "markdown",
   "metadata": {},
   "source": [
    " ### Ejercicio 2\n",
    "\n",
    "\n",
    "\n",
    " Trabajando con nombres de pacientes:\n",
    "\n",
    " - `paciente = \"María García López\"`\n",
    "\n",
    "\n",
    "\n",
    " Realiza las siguientes operaciones:\n",
    "\n",
    " 1. Reemplaza \"María\" por \"Ana\"\n",
    "\n",
    " 2. Obtén solo los primeros 5 caracteres\n",
    "\n",
    " 3. Obtén los caracteres desde la posición 6 hasta el final\n",
    "\n",
    " 4. Obtén solo el apellido \"García\" usando índices (posiciones 6 a 11)"
   ]
  },
  {
   "cell_type": "code",
   "execution_count": 63,
   "metadata": {},
   "outputs": [],
   "source": [
    "# Resultado ejercicio 2\n"
   ]
  },
  {
   "cell_type": "markdown",
   "metadata": {},
   "source": [
    " ### Ejercicio 3\n",
    "\n",
    "\n",
    "\n",
    " Procesamiento de texto médico:\n",
    "\n",
    " 1. Crea una variable `diagnostico = \"  Hipertensión Arterial  \"` (con espacios)\n",
    "\n",
    " 2. Elimina los espacios del principio y final usando `.strip()`\n",
    "\n",
    " 3. Convierte todo a minúsculas\n",
    "\n",
    " 4. Reemplaza \"arterial\" por \"sistémica\"\n",
    "\n",
    " 5. Verifica si la palabra \"hipertensión\" está en el diagnóstico usando `in`\n",
    "\n",
    " 6. Cuenta cuántos caracteres tiene el diagnóstico final usando `len()`\n",
    "\n",
    " 7. Divide el diagnóstico en palabras usando `.split()`"
   ]
  },
  {
   "cell_type": "code",
   "execution_count": null,
   "metadata": {},
   "outputs": [],
   "source": [
    "# Resultado ejercicio 3\n"
   ]
  },
  {
   "cell_type": "markdown",
   "metadata": {},
   "source": [
    " ## Capitulo 5. Listas\n",
    "\n",
    "\n",
    "\n",
    " Una lista es una colección ordenada de elementos que pueden ser de diferentes tipos. Pueden contener integers, strings, Bools, None, otras listas y varias cosas más dentro.\n",
    "\n",
    "\n",
    "\n",
    " Las listas son mutables (se pueden modificar después de crearlas).\n",
    "\n",
    "\n",
    "\n",
    " Las listas son definidas por corchetes []\n",
    "\n",
    "\n",
    " Aviso: No confundir los corchetes que definen una lista con los corchetes de los indices. Aunque són el mismo simbolo, son cosas completamente distintas."
   ]
  },
  {
   "cell_type": "code",
   "execution_count": 72,
   "metadata": {},
   "outputs": [
    {
     "data": {
      "text/plain": [
       "['fiebre', 'tos', 'dolor de garganta']"
      ]
     },
     "execution_count": 72,
     "metadata": {},
     "output_type": "execute_result"
    }
   ],
   "source": [
    "# Crear listas\n",
    "sintomas = [\"fiebre\", \"tos\", \"dolor de garganta\"]\n",
    "temperaturas = [36.5, 37.2, 38.1, 37.8]\n",
    "sintomas\n"
   ]
  },
  {
   "cell_type": "code",
   "execution_count": 73,
   "metadata": {},
   "outputs": [
    {
     "data": {
      "text/plain": [
       "'fiebre'"
      ]
     },
     "execution_count": 73,
     "metadata": {},
     "output_type": "execute_result"
    }
   ],
   "source": [
    "# Acceder a elementos por índice (empezando desde 0)\n",
    "sintomas[0]  # primer elemento\n"
   ]
  },
  {
   "cell_type": "code",
   "execution_count": 74,
   "metadata": {},
   "outputs": [
    {
     "data": {
      "text/plain": [
       "'dolor de garganta'"
      ]
     },
     "execution_count": 74,
     "metadata": {},
     "output_type": "execute_result"
    }
   ],
   "source": [
    "sintomas[-1]  # último elemento\n"
   ]
  },
  {
   "cell_type": "code",
   "execution_count": 75,
   "metadata": {},
   "outputs": [
    {
     "data": {
      "text/plain": [
       "['tos', 'dolor de garganta']"
      ]
     },
     "execution_count": 75,
     "metadata": {},
     "output_type": "execute_result"
    }
   ],
   "source": [
    "sintomas[1:3]  # elementos del índice 1 al 2\n"
   ]
  },
  {
   "cell_type": "code",
   "execution_count": 76,
   "metadata": {},
   "outputs": [
    {
     "data": {
      "text/plain": [
       "['fiebre', 'tos', 'dolor de garganta', 'fatiga', 'tos']"
      ]
     },
     "execution_count": 76,
     "metadata": {},
     "output_type": "execute_result"
    }
   ],
   "source": [
    "# Métodos importantes de las listas\n",
    "sintomas.append(\"fatiga\")  # añadir al final\n",
    "sintomas.append('tos')\n",
    "sintomas\n"
   ]
  },
  {
   "cell_type": "code",
   "execution_count": 77,
   "metadata": {},
   "outputs": [
    {
     "data": {
      "text/plain": [
       "['fiebre', 'dolor de garganta', 'fatiga', 'tos']"
      ]
     },
     "execution_count": 77,
     "metadata": {},
     "output_type": "execute_result"
    }
   ],
   "source": [
    "sintomas.remove(\"tos\")  # eliminar elemento específico que se llame \"tos\". Solo elimina el 1r elemento de la lista que se llame \"tos\", no todos ellos\n",
    "sintomas\n"
   ]
  },
  {
   "cell_type": "code",
   "execution_count": 79,
   "metadata": {},
   "outputs": [
    {
     "data": {
      "text/plain": [
       "4"
      ]
     },
     "execution_count": 79,
     "metadata": {},
     "output_type": "execute_result"
    }
   ],
   "source": [
    "len(sintomas)  # longitud de la lista (igual que posiamos mirar que longitud tiene el string dentro de una variable, lo podemos hacer con los elementos de una lista)\n",
    "#Fijaros que la función len no nos esta dando la largada de los strings dentro de la lista, sino de los elementos de la lista en si\n"
   ]
  },
  {
   "cell_type": "code",
   "execution_count": 80,
   "metadata": {},
   "outputs": [
    {
     "data": {
      "text/plain": [
       "67"
      ]
     },
     "execution_count": 80,
     "metadata": {},
     "output_type": "execute_result"
    }
   ],
   "source": [
    "# Operaciones útiles con listas numéricas\n",
    "edades = [25, 34, 67, 45, 23, 56]\n",
    "max(edades)  # valor máximo\n"
   ]
  },
  {
   "cell_type": "code",
   "execution_count": 81,
   "metadata": {},
   "outputs": [
    {
     "data": {
      "text/plain": [
       "23"
      ]
     },
     "execution_count": 81,
     "metadata": {},
     "output_type": "execute_result"
    }
   ],
   "source": [
    "min(edades)  # valor mínimo\n"
   ]
  },
  {
   "cell_type": "code",
   "execution_count": 82,
   "metadata": {},
   "outputs": [
    {
     "data": {
      "text/plain": [
       "250"
      ]
     },
     "execution_count": 82,
     "metadata": {},
     "output_type": "execute_result"
    }
   ],
   "source": [
    "sum(edades)  # suma de todos los elementos\n"
   ]
  },
  {
   "cell_type": "markdown",
   "metadata": {},
   "source": [
    "las funciones max/min/sum en listas solo funcionan si TODOS los elementos de la lista son numeros (integers o floats), si alguno no lo es devolverá un error"
   ]
  },
  {
   "cell_type": "code",
   "execution_count": 84,
   "metadata": {},
   "outputs": [
    {
     "data": {
      "text/plain": [
       "[25, 34, 67, 45, 23, 56, 'cuarenta']"
      ]
     },
     "execution_count": 84,
     "metadata": {},
     "output_type": "execute_result"
    }
   ],
   "source": [
    "edades.append(\"cuarenta\")\n",
    "edades"
   ]
  },
  {
   "cell_type": "code",
   "execution_count": 85,
   "metadata": {},
   "outputs": [
    {
     "ename": "TypeError",
     "evalue": "unsupported operand type(s) for +: 'int' and 'str'",
     "output_type": "error",
     "traceback": [
      "\u001b[0;31m---------------------------------------------------------------------------\u001b[0m",
      "\u001b[0;31mTypeError\u001b[0m                                 Traceback (most recent call last)",
      "Cell \u001b[0;32mIn[85], line 1\u001b[0m\n\u001b[0;32m----> 1\u001b[0m \u001b[38;5;28;43msum\u001b[39;49m\u001b[43m(\u001b[49m\u001b[43medades\u001b[49m\u001b[43m)\u001b[49m\n",
      "\u001b[0;31mTypeError\u001b[0m: unsupported operand type(s) for +: 'int' and 'str'"
     ]
    }
   ],
   "source": [
    "sum(edades)"
   ]
  },
  {
   "cell_type": "code",
   "execution_count": 86,
   "metadata": {},
   "outputs": [
    {
     "data": {
      "text/plain": [
       "[['fiebre', 38.5], ['tos', True], ['dolor de garganta', False]]"
      ]
     },
     "execution_count": 86,
     "metadata": {},
     "output_type": "execute_result"
    }
   ],
   "source": [
    "# Lista de listas\n",
    "list = [[\"fiebre\", 38.5], [\"tos\", True], [\"dolor de garganta\", False]]\n",
    "list\n"
   ]
  },
  {
   "cell_type": "code",
   "execution_count": 88,
   "metadata": {},
   "outputs": [
    {
     "data": {
      "text/plain": [
       "38.5"
      ]
     },
     "execution_count": 88,
     "metadata": {},
     "output_type": "execute_result"
    }
   ],
   "source": [
    "# Como accedemos con indices a los elementos de una lista de listas?\n",
    "# si queremos acceder al valor 38.5\n",
    "primer_elemento = list[0]\n",
    "primer_elemento[1]\n",
    "# esto nos dará el 2o elemento del 1r elemento de la lista"
   ]
  },
  {
   "cell_type": "code",
   "execution_count": 89,
   "metadata": {},
   "outputs": [
    {
     "data": {
      "text/plain": [
       "38.5"
      ]
     },
     "execution_count": 89,
     "metadata": {},
     "output_type": "execute_result"
    }
   ],
   "source": [
    "# o analogamente lo podemos hacer de una sola vez en vez de guardar el primer elemento en una variable\n",
    "list[0][1]\n"
   ]
  },
  {
   "cell_type": "code",
   "execution_count": 90,
   "metadata": {},
   "outputs": [
    {
     "data": {
      "text/plain": [
       "38.5"
      ]
     },
     "execution_count": 90,
     "metadata": {},
     "output_type": "execute_result"
    }
   ],
   "source": [
    "# Evidentemente podemos guardar el valor al que hemos accedido mediante indices en una variable\n",
    "valor_fiebre = list[0][1]\n",
    "valor_fiebre\n"
   ]
  },
  {
   "cell_type": "code",
   "execution_count": 91,
   "metadata": {},
   "outputs": [
    {
     "data": {
      "text/plain": [
       "['a', 'b', 'c', 'd']"
      ]
     },
     "execution_count": 91,
     "metadata": {},
     "output_type": "execute_result"
    }
   ],
   "source": [
    "# Operaciones adicionales con listas\n",
    "numeros_ejemplo = [1, 2, 3, 2, 4, 2]\n",
    "\n",
    "# Combinar listas con el operador +\n",
    "lista1 = [\"a\", \"b\"]\n",
    "lista2 = [\"c\", \"d\"]\n",
    "lista_combinada = lista1 + lista2\n",
    "lista_combinada\n"
   ]
  },
  {
   "cell_type": "markdown",
   "metadata": {},
   "source": [
    "El metodo \"in\" que usabamos para saber si un string definido por nosotros estaba dentro de una variable de string, tambien funciona para las listas!!\n",
    "\n",
    "Pero no de la misma manera, aquí lo que estamos preguntando a python és: hay algún elemento de la lista que sea igual a \"a\"? Nos responderá si es verdadero o falso."
   ]
  },
  {
   "cell_type": "code",
   "execution_count": 94,
   "metadata": {},
   "outputs": [
    {
     "data": {
      "text/plain": [
       "True"
      ]
     },
     "execution_count": 94,
     "metadata": {},
     "output_type": "execute_result"
    }
   ],
   "source": [
    "# Verificar si un elemento está en la lista\n",
    "\"a\" in lista_combinada\n"
   ]
  },
  {
   "cell_type": "code",
   "execution_count": 96,
   "metadata": {},
   "outputs": [
    {
     "data": {
      "text/plain": [
       "3"
      ]
     },
     "execution_count": 96,
     "metadata": {},
     "output_type": "execute_result"
    }
   ],
   "source": [
    "# Contar cuántas veces aparece un elemento (la función count() cuenta frecuencia de aparición del elemento en una lista)\n",
    "numeros_ejemplo.count(2)\n"
   ]
  },
  {
   "cell_type": "markdown",
   "metadata": {},
   "source": [
    "La función lista.index() nos devuelve el INDICE donde se ubica el elemento por el que hemos preguntado\n"
   ]
  },
  {
   "cell_type": "code",
   "execution_count": 99,
   "metadata": {},
   "outputs": [
    {
     "data": {
      "text/plain": [
       "2"
      ]
     },
     "execution_count": 99,
     "metadata": {},
     "output_type": "execute_result"
    }
   ],
   "source": [
    "# Encontrar la posición de un elemento\n",
    "numeros_ejemplo.index(3)  # encuentra la primera aparición\n",
    "\n"
   ]
  },
  {
   "cell_type": "markdown",
   "metadata": {},
   "source": [
    "La función .pop() elimina y devuelve el último elemento. "
   ]
  },
  {
   "cell_type": "code",
   "execution_count": null,
   "metadata": {},
   "outputs": [
    {
     "data": {
      "text/plain": [
       "40"
      ]
     },
     "execution_count": 100,
     "metadata": {},
     "output_type": "execute_result"
    }
   ],
   "source": [
    "# Eliminar elementos de diferentes formas\n",
    "lista_prueba = [10, 20, 30, 40]\n",
    "lista_prueba.pop()  \n"
   ]
  },
  {
   "cell_type": "code",
   "execution_count": 101,
   "metadata": {},
   "outputs": [
    {
     "data": {
      "text/plain": [
       "[10, 20, 30]"
      ]
     },
     "execution_count": 101,
     "metadata": {},
     "output_type": "execute_result"
    }
   ],
   "source": [
    "lista_prueba  # ver la lista después de pop()\n"
   ]
  },
  {
   "cell_type": "markdown",
   "metadata": {},
   "source": [
    " ## Ejercicios: Listas\n",
    "\n",
    "\n",
    "\n",
    " ### Ejercicio 1\n",
    "\n",
    "\n",
    "\n",
    " Operaciones básicas con listas:\n",
    "\n",
    "\n",
    "\n",
    " 1. Crea una lista llamada `medicamentos` que contenga: \"Paracetamol\", \"Ibuprofeno\", \"Aspirina\"\n",
    "\n",
    " 2. Muestra el primer medicamento de la lista\n",
    "\n",
    " 3. Muestra el último medicamento usando índice negativo\n",
    "\n",
    " 4. Muestra cuántos medicamentos hay en la lista usando `len()`"
   ]
  },
  {
   "cell_type": "code",
   "execution_count": null,
   "metadata": {},
   "outputs": [],
   "source": [
    "# Respuesta ejercicio 1\n"
   ]
  },
  {
   "cell_type": "markdown",
   "metadata": {},
   "source": [
    " ### Ejercicio 2\n",
    "\n",
    "\n",
    "\n",
    " Modificación de listas:\n",
    "\n",
    "\n",
    "\n",
    " 1. Crea una lista `pacientes` con los nombres: \"Ana\", \"Luis\", \"Carmen\"\n",
    "\n",
    " 2. Añade \"Pedro\" al final de la lista usando `append()`\n",
    "\n",
    " 3. Elimina \"Luis\" de la lista usando `remove()`\n",
    "\n",
    " 4. Muestra la lista final\n",
    "\n",
    " 5. Muestra cuántos pacientes quedan en la lista"
   ]
  },
  {
   "cell_type": "code",
   "execution_count": null,
   "metadata": {},
   "outputs": [],
   "source": [
    "# Respuesta ejercicio 2\n"
   ]
  },
  {
   "cell_type": "markdown",
   "metadata": {},
   "source": [
    " ### Ejercicio de transición 2.5\n",
    "\n",
    "\n",
    "\n",
    " Práctica con acceso a elementos:\n",
    "\n",
    "\n",
    "\n",
    " 1. Crea una lista `signos_vitales = [120, 80, 37.2, 75]`\n",
    "\n",
    " 2. Accede y muestra cada elemento por separado\n",
    "\n",
    " 3. Cambia la temperatura (tercer elemento) a 38.1\n",
    "\n",
    " 4. Muestra la lista modificada"
   ]
  },
  {
   "cell_type": "code",
   "execution_count": null,
   "metadata": {},
   "outputs": [],
   "source": [
    "# Respuesta ejercicio de transición 2.5\n"
   ]
  },
  {
   "cell_type": "markdown",
   "metadata": {},
   "source": [
    " ### Ejercicio 3\n",
    "\n",
    "\n",
    "\n",
    " Acceso con índices:\n",
    "\n",
    "\n",
    "\n",
    " 1. Crea una lista `datos_vitales` con estos valores: 36.8, 120, 80, 72\n",
    "\n",
    "    (representan: temperatura, presión sistólica, presión diastólica, pulso)\n",
    "\n",
    " 2. Accede y muestra la temperatura (primer elemento)\n",
    "\n",
    " 3. Accede y muestra el pulso (último elemento)\n",
    "\n",
    " 4. Obtén los valores de presión (elementos en posiciones 1 y 2) usando el indice [1:3]\n",
    "\n",
    " 5. Cambia la temperatura a 37.2 asignando un nuevo valor a la primera posición"
   ]
  },
  {
   "cell_type": "code",
   "execution_count": null,
   "metadata": {},
   "outputs": [],
   "source": [
    "# Respuesta ejercicio 3\n"
   ]
  },
  {
   "cell_type": "markdown",
   "metadata": {},
   "source": [
    " ### Ejercicio de transición 3.5\n",
    "\n",
    "\n",
    "\n",
    " Operaciones básicas con números:\n",
    "\n",
    "\n",
    "\n",
    " 1. Crea una lista `pesos_basicos = [65.5, 70.2, 68.0]`\n",
    "\n",
    " 2. Calcula y muestra la suma usando `sum()`\n",
    "\n",
    " 3. Encuentra el mayor peso usando `max()`\n",
    "\n",
    " 4. Cuenta cuántos elementos hay usando `len()`"
   ]
  },
  {
   "cell_type": "code",
   "execution_count": null,
   "metadata": {},
   "outputs": [],
   "source": [
    "# Respuesta ejercicio de transición 3.5\n"
   ]
  },
  {
   "cell_type": "markdown",
   "metadata": {},
   "source": [
    " ### Ejercicio 4\n",
    "\n",
    "\n",
    "\n",
    " Operaciones numéricas con listas:\n",
    "\n",
    "\n",
    "\n",
    " 1. Crea una lista `pesos` con los valores: 65.5, 78.2, 90.1, 45.8, 72.0\n",
    "\n",
    " 2. Calcula y muestra el peso máximo usando `max()`\n",
    "\n",
    " 3. Calcula y muestra el peso mínimo usando `min()`\n",
    "\n",
    " 4. Calcula y muestra el peso promedio dividiendo `sum(pesos)` entre `len(pesos)`\n",
    "\n",
    " 5. Añade un nuevo peso de 68.5 a la lista\n",
    "\n",
    " 6. Recalcula el promedio con la lista actualizada"
   ]
  },
  {
   "cell_type": "code",
   "execution_count": null,
   "metadata": {},
   "outputs": [],
   "source": [
    "# Respuesta ejercicio 4\n"
   ]
  },
  {
   "cell_type": "markdown",
   "metadata": {},
   "source": [
    " ### Ejercicio 5\n",
    "\n",
    "\n",
    "\n",
    " Listas mixtas:\n",
    "\n",
    "\n",
    "\n",
    " 1. Crea una lista llamada `historial` que contenga:\n",
    "\n",
    "    - Un string: \"Juan Pérez\"\n",
    "\n",
    "    - Un entero: 45\n",
    "\n",
    "    - Un float: 75.5\n",
    "\n",
    "    - Un boolean: True\n",
    "\n",
    " 2. Accede y muestra cada elemento por separado usando índices\n",
    "\n",
    " 3. Verifica el tipo de cada elemento usando `type()`"
   ]
  },
  {
   "cell_type": "code",
   "execution_count": null,
   "metadata": {},
   "outputs": [],
   "source": [
    "# Respuesta ejercicio 5\n"
   ]
  },
  {
   "cell_type": "markdown",
   "metadata": {},
   "source": [
    " ### Ejercicio de transición 5.5\n",
    "\n",
    "\n",
    "\n",
    " Trabajando con listas simples anidadas:\n",
    "\n",
    "\n",
    "\n",
    " 1. Crea una lista `paciente_simple = [\"María\", 28]`\n",
    "\n",
    " 2. Accede y muestra el nombre\n",
    "\n",
    " 3. Accede y muestra la edad\n",
    "\n",
    " 4. Cambia la edad a 29\n",
    "\n",
    " 5. Borra la edad y guardala en la variable edad usando la función .pop()"
   ]
  },
  {
   "cell_type": "code",
   "execution_count": null,
   "metadata": {},
   "outputs": [],
   "source": [
    "# Respuesta ejercicio de transición 5.5\n"
   ]
  },
  {
   "cell_type": "markdown",
   "metadata": {},
   "source": [
    " ### Ejercicio 6\n",
    "\n",
    "\n",
    "\n",
    " Listas anidadas (listas dentro de listas):\n",
    "\n",
    "\n",
    "\n",
    " 1. Crea una lista `pacientes_datos` que contenga:\n",
    "\n",
    "    - [\"María\", 28, 60.5]\n",
    "\n",
    "    - [\"Carlos\", 35, 78.2]\n",
    "\n",
    "    - [\"Ana\", 42, 65.0]\n",
    "\n",
    " 2. Accede y muestra el nombre del segundo paciente\n",
    "\n",
    " 3. Accede y muestra la edad del primer paciente\n",
    "\n",
    " 4. Accede y muestra el peso del tercer paciente\n",
    "\n",
    " 5. Cambia el peso de María (primer paciente) a 61.0"
   ]
  },
  {
   "cell_type": "code",
   "execution_count": null,
   "metadata": {},
   "outputs": [],
   "source": [
    "# Respuesta ejercicio 6\n"
   ]
  },
  {
   "cell_type": "markdown",
   "metadata": {},
   "source": [
    " ### Ejercicio 7\n",
    "\n",
    "\n",
    "\n",
    " Manipulación avanzada:\n",
    "\n",
    "\n",
    "\n",
    " 1. Crea dos listas:\n",
    "\n",
    "    - `sintomas_mañana = [\"fiebre\", \"tos\"]`\n",
    "\n",
    "    - `sintomas_tarde = [\"dolor cabeza\", \"fatiga\"]`\n",
    "\n",
    " 2. Combina ambas listas en una nueva lista llamada `todos_sintomas` usando el operador `+`\n",
    "\n",
    " 3. Añade \"náuseas\" al final de `todos_sintomas`\n",
    "\n",
    " 4. Elimina \"tos\" de la lista\n",
    "\n",
    " 5. Verifica si \"fiebre\" está en la lista usando `in`\n",
    "\n",
    " 6. Cuenta cuántas veces aparece \"fiebre\" en la lista usando `.count()`\n",
    "\n",
    " 7. Encuentra en qué posición está \"fatiga\" usando `.index()`"
   ]
  },
  {
   "cell_type": "code",
   "execution_count": null,
   "metadata": {},
   "outputs": [],
   "source": [
    "# Respuesta ejercicio 7\n"
   ]
  },
  {
   "cell_type": "markdown",
   "metadata": {},
   "source": [
    " ### Ejercicio 8\n",
    "\n",
    "\n",
    "\n",
    "\n",
    "\n",
    " 1. Crea una lista `consultas` que contenga:\n",
    "\n",
    "    - [\"09:00\", \"Juan\", \"Control rutinario\"]\n",
    "\n",
    "    - [\"10:30\", \"María\", \"Dolor abdominal\"]\n",
    "\n",
    "    - [\"12:00\", \"Pedro\", \"Revisión\"]\n",
    "\n",
    " 2. Muestra la hora de la primera consulta\n",
    "\n",
    " 3. Muestra el motivo de la segunda consulta\n",
    "\n",
    " 4. Cambia el nombre del tercer paciente de \"Pedro\" a \"Antonio\"\n",
    "\n",
    " 5. Añade una nueva consulta: [\"14:00\", \"Carmen\", \"Fiebre\"]\n",
    "\n",
    " 6. Muestra cuántas consultas hay programadas en total"
   ]
  },
  {
   "cell_type": "code",
   "execution_count": null,
   "metadata": {},
   "outputs": [],
   "source": [
    "# Respuesta ejercicio 8\n"
   ]
  },
  {
   "cell_type": "markdown",
   "metadata": {},
   "source": [
    " ### Ejercicio 9\n",
    "\n",
    "\n",
    "\n",
    " Creación y manipulación completa:\n",
    "\n",
    "\n",
    "\n",
    " 1. Crea una lista vacía llamada `temperaturas`\n",
    "\n",
    " 2. Añade estas temperaturas una por una: 36.5, 37.8, 36.9, 38.2, 37.1\n",
    "\n",
    " 3. Calcula y muestra la temperatura promedio\n",
    "\n",
    " 4. Encuentra la temperatura más alta y más baja\n",
    "\n",
    " 6. Elimina la temperatura más alta de la lista\n",
    "\n",
    " 7. Muestra la lista final y su nueva longitud"
   ]
  },
  {
   "cell_type": "code",
   "execution_count": null,
   "metadata": {},
   "outputs": [],
   "source": [
    "# Respuesta ejercicio 9\n"
   ]
  },
  {
   "cell_type": "markdown",
   "metadata": {},
   "source": [
    " ### Ejercicio 10\n",
    "\n",
    "\n",
    "\n",
    " Desafío - Gestión de inventario médico:\n",
    "\n",
    "\n",
    "\n",
    " 1. Crea una lista `inventario` con sublistas de medicamentos:\n",
    "\n",
    "    - [\"Paracetamol\", 1000, \"analgésico\"]\n",
    "\n",
    "    - [\"Amoxicilina\", 30, \"antibiótico\"]\n",
    "\n",
    "    - [\"Omeprazol\", 25, \"protector gástrico\"]\n",
    "\n",
    " 2. Cada sublista contiene: [nombre, cantidad, tipo]\n",
    "\n",
    " 3. Muestra el nombre del segundo medicamento\n",
    "\n",
    " 4. Actualiza la cantidad de Paracetamol a 45\n",
    "\n",
    " 5. Añade un nuevo medicamento: [\"Ibuprofeno\", 600, \"antiinflamatorio\"]\n",
    "\n",
    " 6. Calcula la cantidad total de mg de medicamentos sumando todas las cantidades\n",
    "\n",
    " 7. Crea una nueva lista solo con los nombres de los medicamentos\n",
    "\n",
    " 8. Verifica si hay algún medicamento con cantidad menor a 30"
   ]
  },
  {
   "cell_type": "code",
   "execution_count": null,
   "metadata": {},
   "outputs": [],
   "source": [
    "# Respuesta ejercicio 10\n"
   ]
  },
  {
   "cell_type": "markdown",
   "metadata": {},
   "source": [
    " ## Capitulo 6. Condicionales (if/elif/else) y Operadores Lógicos\n",
    "\n",
    "\n",
    "\n",
    " Las estructuras condicionales permiten que el programa tome decisiones basadas en condiciones.\n",
    "\n",
    " Python evalúa expresiones que pueden ser True (verdadero) o False (falso).\n",
    "\n",
    "\n",
    "\n",
    " ### Cómo funciona if/else:\n",
    "\n",
    "\n",
    "\n",
    " 1. Python evalúa la condición después del `if`\n",
    "\n",
    " 2. Si la condición es `True`, ejecuta el bloque de código indentado bajo el `if`\n",
    "\n",
    " 3. Si la condición es `False`, se ejecutará el bloque de debajo (else) (si existe)\n",
    "\n",
    " 4. El bloque \"else\" se ejecuta siempre si se llega allí. Es siempre el ultimo del condicional.\n",
    "\n",
    " 4. Solo se ejecuta UNO DE LOS BLOQUES, NUNCA MÁS DE UNO.\n",
    "\n",
    "\n",
    "\n",
    " ### Sintaxis básica:\n",
    "\n",
    " ```python\n",
    "\n",
    " if condición:\n",
    "\n",
    "     # código que se ejecuta si la condición es True\n",
    "\n",
    " else:\n",
    "\n",
    "     # código que se ejecuta si la condición es False\n",
    "\n",
    " ```"
   ]
  },
  {
   "cell_type": "code",
   "execution_count": 104,
   "metadata": {},
   "outputs": [
    {
     "data": {
      "text/plain": [
       "'Fiebre detectada'"
      ]
     },
     "execution_count": 104,
     "metadata": {},
     "output_type": "execute_result"
    }
   ],
   "source": [
    "# Ejemplo básico: evaluar temperatura\n",
    "temperatura = 37.8\n",
    "\n",
    "if temperatura > 37.5:\n",
    "    estado = \"Fiebre detectada\"\n",
    "else:\n",
    "    estado = \"Temperatura normal\"\n",
    "\n",
    "estado\n"
   ]
  },
  {
   "cell_type": "code",
   "execution_count": 105,
   "metadata": {},
   "outputs": [
    {
     "data": {
      "text/plain": [
       "'Temperatura normal'"
      ]
     },
     "execution_count": 105,
     "metadata": {},
     "output_type": "execute_result"
    }
   ],
   "source": [
    "# Ejemplo con temperatura normal\n",
    "temperatura_normal = 36.8\n",
    "\n",
    "if temperatura_normal > 37.5:\n",
    "    estado = \"Fiebre detectada\"\n",
    "else:\n",
    "    estado = \"Temperatura normal\"\n",
    "\n",
    "estado\n"
   ]
  },
  {
   "cell_type": "markdown",
   "metadata": {},
   "source": [
    " ### Condicionales múltiples con elif\n",
    "\n",
    "\n",
    "\n",
    " `elif` (else if) permite evaluar múltiples condiciones en secuencia.\n",
    "\n",
    "\n",
    "\n",
    " ### Cómo funciona if/elif/else:\n",
    "\n",
    "\n",
    "\n",
    " 1. Python evalúa la primera condición (`if`)\n",
    "\n",
    " 2. Si es `True`, ejecuta ese bloque y termina (no evalúa el resto)\n",
    "\n",
    " 3. Si es `False`, pasa a la siguiente condición (`elif`)\n",
    "\n",
    " 4. Repite el proceso para cada `elif` en orden\n",
    "\n",
    " 5. Si ninguna condición es `True`, ejecuta el bloque `else` (si existe)\n",
    "\n",
    " 6. **Solo se ejecuta un bloque**, el primero cuya condición sea verdadera\n",
    "\n",
    "\n",
    "\n",
    " ### Sintaxis:\n",
    "\n",
    " ```python\n",
    "\n",
    " if primera_condición:\n",
    "\n",
    "     # código para primera_condición\n",
    "\n",
    " elif segunda_condición:\n",
    "\n",
    "     # código para segunda_condición\n",
    "\n",
    " elif tercera_condición:\n",
    "\n",
    "     # código para tercera_condición\n",
    "\n",
    " else:\n",
    "\n",
    "     # código si ninguna condición es verdadera\n",
    "\n",
    " ```"
   ]
  },
  {
   "cell_type": "code",
   "execution_count": 106,
   "metadata": {},
   "outputs": [
    {
     "data": {
      "text/plain": [
       "'Presión: 140 mmHg - Hipertensión grado 1'"
      ]
     },
     "execution_count": 106,
     "metadata": {},
     "output_type": "execute_result"
    }
   ],
   "source": [
    "# Ejemplo: clasificar presión arterial\n",
    "presion_sistolica = 140\n",
    "\n",
    "if presion_sistolica >= 180:\n",
    "    categoria = \"Crisis hipertensiva\"\n",
    "elif presion_sistolica >= 140:\n",
    "    categoria = \"Hipertensión grado 1\"\n",
    "elif presion_sistolica >= 130:\n",
    "    categoria = \"Presión arterial elevada\"\n",
    "else:\n",
    "    categoria = \"Presión arterial normal\"\n",
    "\n",
    "f\"Presión: {presion_sistolica} mmHg - {categoria}\"\n"
   ]
  },
  {
   "cell_type": "code",
   "execution_count": 107,
   "metadata": {},
   "outputs": [
    {
     "data": {
      "text/plain": [
       "'Presión: 115 mmHg - Presión arterial normal'"
      ]
     },
     "execution_count": 107,
     "metadata": {},
     "output_type": "execute_result"
    }
   ],
   "source": [
    "# Otro ejemplo con diferentes valores\n",
    "presion_normal = 115\n",
    "\n",
    "if presion_normal >= 180:\n",
    "    categoria = \"Crisis hipertensiva\"\n",
    "elif presion_normal >= 140:\n",
    "    categoria = \"Hipertensión grado 1\"\n",
    "elif presion_normal >= 130:\n",
    "    categoria = \"Presión arterial elevada\"\n",
    "else:\n",
    "    categoria = \"Presión arterial normal\"\n",
    "\n",
    "f\"Presión: {presion_normal} mmHg - {categoria}\"\n"
   ]
  },
  {
   "cell_type": "markdown",
   "metadata": {},
   "source": [
    "La condición que incluimos en un bloque if/elif/else puede ser simple (presion_normal >= 180) o  compuesta...\n",
    "\n",
    "Aquí es donde entran la combinación de operadores lógicos, donde solo se cumplirá la condición si la combinación de sus condiciónes internas es True"
   ]
  },
  {
   "cell_type": "markdown",
   "metadata": {},
   "source": [
    " ### Operadores lógicos: and, or, not\n",
    "\n",
    "\n",
    "\n",
    " Los operadores lógicos permiten combinar múltiples condiciones:\n",
    "\n",
    "\n",
    "\n",
    " - **`and`**: Ambas condiciones deben ser `True` para que el resultado sea `True`\n",
    "\n",
    " - **`or`**: Al menos una condición debe ser `True` para que el resultado sea `True`\n",
    "\n",
    " - **`not`**: Invierte el valor booleano (`True` se convierte en `False` y viceversa)\n",
    "\n",
    "\n",
    "\n",
    " ### Tabla de verdad para `and`:\n",
    "\n",
    " - `True and True` = `True`\n",
    "\n",
    " - `True and False` = `False`\n",
    "\n",
    " - `False and True` = `False`\n",
    "\n",
    " - `False and False` = `False`\n",
    "\n",
    " Si os fijais, con 'and' las dos condiciónes booleanas tienen que ser true para que el resultado sea true\n",
    "\n",
    " ### Tabla de verdad para `or`:\n",
    "\n",
    " - `True or True` = `True`\n",
    "\n",
    " - `True or False` = `True`\n",
    "\n",
    " - `False or True` = `True`\n",
    "\n",
    " - `False or False` = `False`\n",
    "\n",
    "\n",
    " En cambio con el operador 'or', con que una de las dos sea True el resultado ya es True"
   ]
  },
  {
   "cell_type": "code",
   "execution_count": 108,
   "metadata": {},
   "outputs": [
    {
     "data": {
      "text/plain": [
       "'Posible infección respiratoria'"
      ]
     },
     "execution_count": 108,
     "metadata": {},
     "output_type": "execute_result"
    }
   ],
   "source": [
    "# Ejemplo con and: ambas condiciones deben cumplirse\n",
    "temperatura = 38.2\n",
    "tiene_tos = True\n",
    "\n",
    "if temperatura > 37.5 and tiene_tos:\n",
    "    diagnostico = \"Posible infección respiratoria\"\n",
    "else:\n",
    "    diagnostico = \"Síntomas no concluyentes\"\n",
    "\n",
    "diagnostico\n"
   ]
  },
  {
   "cell_type": "code",
   "execution_count": 109,
   "metadata": {},
   "outputs": [
    {
     "data": {
      "text/plain": [
       "'Requiere evaluación'"
      ]
     },
     "execution_count": 109,
     "metadata": {},
     "output_type": "execute_result"
    }
   ],
   "source": [
    "# Ejemplo con or: al menos una condición debe cumplirse\n",
    "temperatura_baja = 36.8\n",
    "dolor_garganta = True\n",
    "\n",
    "if temperatura_baja > 37.5 or dolor_garganta:\n",
    "    diagnostico = \"Requiere evaluación\"\n",
    "else:\n",
    "    diagnostico = \"Sin síntomas preocupantes\"\n",
    "\n",
    "diagnostico\n"
   ]
  },
  {
   "cell_type": "code",
   "execution_count": 110,
   "metadata": {},
   "outputs": [
    {
     "data": {
      "text/plain": [
       "'Puede recibir penicilina'"
      ]
     },
     "execution_count": 110,
     "metadata": {},
     "output_type": "execute_result"
    }
   ],
   "source": [
    "# Ejemplo con not: invertir condición\n",
    "paciente_alergico = False\n",
    "\n",
    "if not paciente_alergico:\n",
    "    medicamento_permitido = \"Puede recibir penicilina\"\n",
    "else:\n",
    "    medicamento_permitido = \"NO dar penicilina\"\n",
    "\n",
    "medicamento_permitido\n"
   ]
  },
  {
   "cell_type": "markdown",
   "metadata": {},
   "source": [
    " ## Ejercicios capitulo 6: Condicionales (if/elif/else) + Operadores logicos\n",
    "\n",
    "\n",
    "\n",
    " ### Ejercicio 1\n",
    "\n",
    "\n",
    "\n",
    " Evaluación básica de temperatura:\n",
    "\n",
    "\n",
    "\n",
    " 1. Crea una variable `temperatura` con el valor 38.5\n",
    "\n",
    " 2. Usa un condicional if/else para determinar si hay fiebre (temperatura > 37.5)\n",
    "\n",
    " 3. Guarda el resultado en una variable `estado` y muéstrala\n",
    "\n",
    " 4. Prueba el mismo código con `temperatura = 36.8`"
   ]
  },
  {
   "cell_type": "code",
   "execution_count": null,
   "metadata": {},
   "outputs": [],
   "source": [
    "# Respuesta ejercicio 1\n"
   ]
  },
  {
   "cell_type": "markdown",
   "metadata": {},
   "source": [
    " ### Ejercicio de transición 1.5\n",
    "\n",
    "\n",
    "\n",
    " Práctica con condiciones simples:\n",
    "\n",
    "\n",
    "\n",
    " 1. Crea una variable `edad = 20`\n",
    "\n",
    " 2. Determina si es \"Mayor de edad\" o \"Menor de edad\" (límite en 18)\n",
    "\n",
    " 3. Prueba con `edad = 16`"
   ]
  },
  {
   "cell_type": "code",
   "execution_count": null,
   "metadata": {},
   "outputs": [],
   "source": [
    "# Respuesta ejercicio de transición 1.5\n"
   ]
  },
  {
   "cell_type": "markdown",
   "metadata": {},
   "source": [
    " ### Ejercicio 2\n",
    "\n",
    "\n",
    "\n",
    " Clasificación de edad de pacientes:\n",
    "\n",
    "\n",
    "\n",
    " 1. Crea una variable `edad` con el valor 25\n",
    "\n",
    " 2. Usa if/elif/else para clasificar al paciente:\n",
    "\n",
    "    - Si edad < 18: \"Pediátrico\"\n",
    "\n",
    "    - Si edad >= 18 y edad < 65: \"Adulto\"\n",
    "\n",
    "    - Si edad >= 65: \"Adulto mayor\"\n",
    "\n",
    " 3. Guarda el resultado en `categoria` y muéstralo\n",
    "\n",
    " 4. Prueba con edades: 15, 45, 70"
   ]
  },
  {
   "cell_type": "code",
   "execution_count": null,
   "metadata": {},
   "outputs": [],
   "source": [
    "# Respuesta ejercicio 2\n"
   ]
  },
  {
   "cell_type": "markdown",
   "metadata": {},
   "source": [
    " ### Ejercicio de transición 2.5\n",
    "\n",
    "\n",
    "\n",
    " Clasificación simple de IMC:\n",
    "\n",
    "\n",
    "\n",
    " 1. Crea una variable `imc = 22.5`\n",
    "\n",
    " 2. Clasifica usando if/elif/else:\n",
    "\n",
    "    - Si IMC < 18.5: \"Bajo peso\"\n",
    "\n",
    "    - Si IMC < 25: \"Normal\"\n",
    "\n",
    "    - Si IMC >= 25: \"Sobrepeso\"\n",
    "\n",
    " 3. Prueba con valores: 17, 23, 27"
   ]
  },
  {
   "cell_type": "code",
   "execution_count": null,
   "metadata": {},
   "outputs": [],
   "source": [
    "# Respuesta ejercicio de transición 2.5\n"
   ]
  },
  {
   "cell_type": "markdown",
   "metadata": {},
   "source": [
    " ### Ejercicio 3\n",
    "\n",
    "\n",
    "\n",
    " Evaluación de presión arterial:\n",
    "\n",
    "\n",
    "\n",
    " 1. Crea una variable `presion_sistolica` con el valor 135\n",
    "\n",
    " 2. Clasifica la presión usando if/elif/else:\n",
    "\n",
    "    - Si >= 180: \"Crisis hipertensiva\"\n",
    "\n",
    "    - Si >= 140: \"Hipertensión grado 1\"\n",
    "\n",
    "    - Si >= 130: \"Presión elevada\"\n",
    "\n",
    "    - Si < 130: \"Normal\"\n",
    "\n",
    " 3. Muestra el resultado con un f-string: \"Presión {valor} mmHg: {categoria}\"\n",
    "\n",
    " 4. Prueba con valores: 120, 145, 185"
   ]
  },
  {
   "cell_type": "code",
   "execution_count": null,
   "metadata": {},
   "outputs": [],
   "source": [
    "# Respuesta ejercicio 3\n"
   ]
  },
  {
   "cell_type": "markdown",
   "metadata": {},
   "source": [
    " ### Ejercicio 4\n",
    "\n",
    "\n",
    "\n",
    " Operadores lógicos básicos:\n",
    "\n",
    "\n",
    "\n",
    " 1. Define variables: `tiene_fiebre = True` y `tiene_tos = False`\n",
    "\n",
    " 2. Crea condicionales para evaluar:\n",
    "\n",
    "    - Si tiene fiebre AND tos: \"Probable infección\"\n",
    "\n",
    "    - Si tiene fiebre OR tos: \"Síntomas presentes\"\n",
    "\n",
    "    - Si NO tiene fiebre: \"Sin fiebre\"\n",
    "\n",
    " 3. Prueba las tres condiciones por separado"
   ]
  },
  {
   "cell_type": "code",
   "execution_count": null,
   "metadata": {},
   "outputs": [],
   "source": [
    "# Respuesta ejercicio 4\n"
   ]
  },
  {
   "cell_type": "markdown",
   "metadata": {},
   "source": [
    " ### Ejercicio de transición 4.5\n",
    "\n",
    "\n",
    "\n",
    " Práctica con operadores lógicos simples:\n",
    "\n",
    "\n",
    "\n",
    " 1. Define: `es_adulto = True` y `tiene_seguro = False`\n",
    "\n",
    " 2. Evalúa si puede recibir tratamiento gratuito:\n",
    "\n",
    "    - Si es adulto AND tiene seguro: \"Tratamiento con seguro\"\n",
    "\n",
    "    - Si es adulto AND NO tiene seguro: \"Tratamiento particular\"\n",
    "\n",
    "    - Sino: \"Consultar pediatría\""
   ]
  },
  {
   "cell_type": "code",
   "execution_count": null,
   "metadata": {},
   "outputs": [],
   "source": [
    "# Respuesta ejercicio de transición 4.5\n"
   ]
  },
  {
   "cell_type": "markdown",
   "metadata": {},
   "source": [
    " ### Ejercicio 5\n",
    "\n",
    "\n",
    "\n",
    " Evaluación múltiple de signos vitales:\n",
    "\n",
    "\n",
    "\n",
    " 1. Define: `temperatura = 38.1`, `pulso = 95`, `presion = 130`\n",
    "\n",
    " 2. Usa operadores lógicos para determinar:\n",
    "\n",
    "    - Si hay fiebre (temp > 37.5) AND taquicardia (pulso > 100): \"Alerta alta\"\n",
    "\n",
    "    - Si hay fiebre OR hipertensión (presión >= 140): \"Requiere monitoreo\"\n",
    "\n",
    "    - Si todo está normal: \"Signos vitales normales\"\n",
    "\n",
    " 3. Usa una estructura if/elif/else para mostrar solo un resultado"
   ]
  },
  {
   "cell_type": "code",
   "execution_count": null,
   "metadata": {},
   "outputs": [],
   "source": [
    "# Respuesta ejercicio 5\n"
   ]
  },
  {
   "cell_type": "markdown",
   "metadata": {},
   "source": [
    " ### Ejercicio 6\n",
    "\n",
    "\n",
    "\n",
    " Calculadora de IMC con clasificación:\n",
    "\n",
    "\n",
    "\n",
    " 1. Define `peso = 75` y `altura = 1.70`\n",
    "\n",
    " 2. Calcula el IMC: `imc = peso / (altura ** 2)`\n",
    "\n",
    " 3. Clasifica usando if/elif/else:\n",
    "\n",
    "    - Si IMC < 18.5: \"Bajo peso\"\n",
    "\n",
    "    - Si IMC < 25: \"Normal\"\n",
    "\n",
    "    - Si IMC < 30: \"Sobrepeso\"\n",
    "\n",
    "    - Si IMC >= 30: \"Obesidad\"\n",
    "\n",
    " 4. Muestra: \"IMC: {valor} - Clasificación: {categoria}\""
   ]
  },
  {
   "cell_type": "code",
   "execution_count": null,
   "metadata": {},
   "outputs": [],
   "source": [
    "# Respuesta ejercicio 6\n"
   ]
  },
  {
   "cell_type": "markdown",
   "metadata": {},
   "source": [
    " ### Ejercicio 7\n",
    "\n",
    "\n",
    "\n",
    " Sistema de triaje hospitalario:\n",
    "\n",
    "\n",
    "\n",
    " 1. Define variables: `edad = 75`, `temperatura = 39.2`, `dolor_pecho = True`\n",
    "\n",
    " 2. Determina la prioridad usando if/elif/else:\n",
    "\n",
    "    - Si edad > 70 AND temperatura > 38.5: \"Prioridad 1 - Urgente\"\n",
    "\n",
    "    - Si dolor_pecho OR temperatura > 39: \"Prioridad 2 - Alto\"\n",
    "\n",
    "    - Si temperatura > 37.5: \"Prioridad 3 - Medio\"\n",
    "\n",
    "    - Sino: \"Prioridad 4 - Bajo\"\n",
    "\n",
    " 3. Prueba con diferentes combinaciones de valores"
   ]
  },
  {
   "cell_type": "code",
   "execution_count": null,
   "metadata": {},
   "outputs": [],
   "source": [
    "# Respuesta ejercicio 7\n"
   ]
  },
  {
   "cell_type": "markdown",
   "metadata": {},
   "source": [
    " ### Ejercicio 8\n",
    "\n",
    "\n",
    "\n",
    " Validación de medicamentos:\n",
    "\n",
    "\n",
    "\n",
    " 1. Define: `alergico_penicilina = True`, `edad = 65`, `embarazada = False`\n",
    "\n",
    " 2. Para el medicamento \"Amoxicilina\" (derivado de penicilina):\n",
    "\n",
    "    - Si alérgico a penicilina: \"CONTRAINDICADO - Alergia\"\n",
    "\n",
    "    - Si embarazada AND edad < 30: \"Consultar con especialista\"\n",
    "\n",
    "    - Si edad > 70: \"Reducir dosis\"\n",
    "\n",
    "    - Sino: \"Medicamento aprobado\"\n",
    "\n",
    " 3. Cambia los valores y prueba diferentes escenarios"
   ]
  },
  {
   "cell_type": "code",
   "execution_count": null,
   "metadata": {},
   "outputs": [],
   "source": [
    "# Respuesta ejercicio 8\n"
   ]
  },
  {
   "cell_type": "markdown",
   "metadata": {},
   "source": [
    " ### Ejercicio 9\n",
    "\n",
    "\n",
    "\n",
    " Evaluación de laboratorio:\n",
    "\n",
    "\n",
    "\n",
    " 1. Define: `glucosa = 110`, `colesterol = 220`, `trigliceridos = 180`\n",
    "\n",
    " 2. Evalúa cada parámetro por separado:\n",
    "\n",
    "    - Glucosa: Normal (<100), Prediabetes (100-125), Diabetes (>125)\n",
    "\n",
    "    - Colesterol: Deseable (<200), Límite (200-239), Alto (>=240)\n",
    "\n",
    "    - Triglicéridos: Normal (<150), Límite (150-199), Alto (>=200)\n",
    "\n",
    " 3. Crea un resumen que muestre los tres resultados"
   ]
  },
  {
   "cell_type": "code",
   "execution_count": null,
   "metadata": {},
   "outputs": [],
   "source": [
    "# Respuesta ejercicio 9\n"
   ]
  },
  {
   "cell_type": "markdown",
   "metadata": {},
   "source": [
    " ### Ejercicio 10\n",
    "\n",
    "\n",
    "\n",
    " Sistema complejo de diagnóstico:\n",
    "\n",
    "\n",
    "\n",
    " 1. Define múltiples síntomas y signos:\n",
    "\n",
    "    - `fiebre = True`, `tos = True`, `dolor_garganta = False`\n",
    "\n",
    "    - `temperatura = 38.8`, `dias_sintomas = 3`\n",
    "\n",
    " 2. Crea un sistema de diagnóstico:\n",
    "\n",
    "    - Si fiebre AND tos AND temperatura > 38.5: \"Probable gripe\"\n",
    "\n",
    "    - Si fiebre AND dolor_garganta: \"Posible faringitis\"\n",
    "\n",
    "    - Si tos AND NOT fiebre: \"Tos seca - revisar alergias\"\n",
    "\n",
    "    - Si días_síntomas > 7: \"Síntomas prolongados - consulta médica\"\n",
    "\n",
    "    - Si solo fiebre: \"Fiebre inespecífica\"\n",
    "\n",
    "    - Sino: \"Síntomas menores\"\n",
    "\n",
    " 3. El sistema debe evaluar en orden de prioridad y mostrar solo un diagnóstico"
   ]
  },
  {
   "cell_type": "code",
   "execution_count": null,
   "metadata": {},
   "outputs": [],
   "source": [
    "# Respuesta ejercicio 10\n"
   ]
  },
  {
   "cell_type": "markdown",
   "metadata": {},
   "source": [
    " ## Capitulo 7. Bucles\n",
    "\n",
    "\n",
    "\n",
    " Los bucles permiten ejecutar un bloque de código repetidamente (de manera iterativa).\n",
    "\n",
    "\n",
    "\n",
    " ### Bucle for\n",
    "\n",
    "\n",
    "\n",
    " El bucle `for` se usa para iterar sobre una secuencia (lista, string, etc.).\n",
    "\n",
    "\n",
    "\n",
    " ### Cómo funciona el bucle for:\n",
    "\n",
    "\n",
    "\n",
    " 1. Toma el primer elemento de la secuencia\n",
    "\n",
    " 2. Asigna ese elemento a la variable del bucle\n",
    "\n",
    " 3. Ejecuta el bloque de código indentado\n",
    "\n",
    " 4. Toma el siguiente elemento y repite los pasos 2-3\n",
    "\n",
    " 5. Continúa hasta que no hay más elementos\n",
    "\n",
    " 6. Sale del bucle\n",
    "\n",
    "\n",
    "\n",
    " ### Sintaxis básica:\n",
    "\n",
    " ```python\n",
    "\n",
    " for variable in secuencia:\n",
    "\n",
    "     # código que se ejecuta para cada elemento de la secuancia\n",
    "\n",
    " ```\n",
    "\n",
    "\n",
    "\n",
    " La variable del bucle toma el valor de cada elemento en cada iteración."
   ]
  },
  {
   "cell_type": "code",
   "execution_count": 116,
   "metadata": {},
   "outputs": [
    {
     "name": "stdout",
     "output_type": "stream",
     "text": [
      "M\n",
      "a\n",
      "r\n",
      "i\n",
      "a\n",
      " \n",
      "A\n",
      "n\n",
      "t\n",
      "o\n",
      "n\n",
      "i\n",
      "e\n",
      "t\n",
      "a\n"
     ]
    }
   ],
   "source": [
    "nombre = 'Maria Antonieta'\n",
    "\n",
    "for letra in nombre:\n",
    "    print(letra)"
   ]
  },
  {
   "cell_type": "code",
   "execution_count": 117,
   "metadata": {},
   "outputs": [
    {
     "name": "stdout",
     "output_type": "stream",
     "text": [
      "Ibuprofeno\n",
      "Paracetamol\n",
      "Amoxicilina\n"
     ]
    }
   ],
   "source": [
    "# Ejemplo básico: iterar sobre una lista\n",
    "medicamentos = [\"Ibuprofeno\", \"Paracetamol\", \"Amoxicilina\"]\n",
    "\n",
    "for medicamento in medicamentos:\n",
    "    # En cada vuelta, 'medicamento' toma un valor diferente\n",
    "    print(medicamento)\n",
    "\n",
    "\n",
    "#Fijaros que imprime uno debajo del otro porque ha entrado tres veces al bucle, una para cada elemento de la lista"
   ]
  },
  {
   "cell_type": "markdown",
   "metadata": {},
   "source": [
    "Combinando el valor de dentro de la variable con un string usando el metodo f-string (f\"texto_que_quiera{variable}\")"
   ]
  },
  {
   "cell_type": "code",
   "execution_count": 118,
   "metadata": {},
   "outputs": [
    {
     "name": "stdout",
     "output_type": "stream",
     "text": [
      "Temperatura 36.8°C - Normal\n",
      "Temperatura 37.2°C - Normal\n",
      "Temperatura 38.1°C - FIEBRE\n",
      "Temperatura 37.5°C - Normal\n"
     ]
    }
   ],
   "source": [
    "# Ejemplo con temperaturas\n",
    "temperaturas = [36.8, 37.2, 38.1, 37.5]\n",
    "\n",
    "for temp in temperaturas:\n",
    "    if temp > 37.5:\n",
    "        estado = f\"Temperatura {temp}°C - FIEBRE\"\n",
    "    else:\n",
    "        estado = f\"Temperatura {temp}°C - Normal\"\n",
    "    print(estado)\n",
    "\n",
    "\n",
    "# Fijaros que con el metodo f-string, hemos cojido cada elemento de la lista temperaturas, que era un numero floar, \n",
    "# y con el f-string lo hemos introducido dentro de un string, devolviendo al final un unico string\n",
    "\n"
   ]
  },
  {
   "cell_type": "markdown",
   "metadata": {},
   "source": [
    " ### Función range()\n",
    "\n",
    "\n",
    "\n",
    " `range()` genera una secuencia de números. Es muy útil con bucles `for`.\n",
    "\n",
    "\n",
    "\n",
    " - `range(n)`: genera números del 0 al n-1\n",
    "\n",
    " - `range(inicio, fin)`: genera números desde inicio hasta fin-1\n",
    "\n",
    " - `range(inicio, fin, paso)`: genera números con un incremento específico\n",
    "\n",
    "\n",
    "\n",
    " **Importante**: el número final nunca se incluye."
   ]
  },
  {
   "cell_type": "code",
   "execution_count": 121,
   "metadata": {},
   "outputs": [
    {
     "name": "stdout",
     "output_type": "stream",
     "text": [
      "0\n",
      "1\n",
      "2\n",
      "3\n",
      "4\n"
     ]
    }
   ],
   "source": [
    "# Ejemplos de range()\n",
    "for element in range(5):\n",
    "    print(element)  # del 0 al 4\n"
   ]
  },
  {
   "cell_type": "code",
   "execution_count": null,
   "metadata": {},
   "outputs": [
    {
     "name": "stdout",
     "output_type": "stream",
     "text": [
      "2\n",
      "3\n",
      "4\n",
      "5\n",
      "6\n",
      "7\n"
     ]
    }
   ],
   "source": [
    "for element in range(2, 8):\n",
    "    print(element)  # del 2 al 7\n"
   ]
  },
  {
   "cell_type": "code",
   "execution_count": 126,
   "metadata": {},
   "outputs": [
    {
     "name": "stdout",
     "output_type": "stream",
     "text": [
      "0\n",
      "2\n",
      "4\n",
      "6\n",
      "8\n"
     ]
    }
   ],
   "source": [
    "for element in range(0, 10, 2):\n",
    "    print(element)    # del 0 al 8, de 2 en 2\n",
    "\n"
   ]
  },
  {
   "cell_type": "code",
   "execution_count": 128,
   "metadata": {},
   "outputs": [
    {
     "name": "stdout",
     "output_type": "stream",
     "text": [
      "Consulta a las 9:00\n",
      "Consulta a las 10:00\n",
      "Consulta a las 11:00\n",
      "Consulta a las 12:00\n"
     ]
    }
   ],
   "source": [
    "# Usar range() con for para crear horarios\n",
    "for hora in range(9, 13):  # de 9 a 12\n",
    "    print(f\"Consulta a las {hora}:00\")\n"
   ]
  },
  {
   "cell_type": "markdown",
   "metadata": {},
   "source": [
    "### Combinación de bucle for con listas y el metodo .append()"
   ]
  },
  {
   "cell_type": "code",
   "execution_count": 131,
   "metadata": {},
   "outputs": [
    {
     "data": {
      "text/plain": [
       "[2025, 2500, 3844, 2304, 4900]"
      ]
     },
     "execution_count": 131,
     "metadata": {},
     "output_type": "execute_result"
    }
   ],
   "source": [
    "peso = [45, 50, 62, 48, 70]\n",
    "\n",
    "peso_cuadrado = []\n",
    "\n",
    "for element in peso:\n",
    "    peso_cuadrado.append(element**2)\n",
    "\n",
    "\n",
    "peso_cuadrado #Fijaros que hemos iterado sobre cada elemento de la lista peso, hemos hecho el cuadrado de cada elemento uno a uno, y lo hemos ido \n",
    "#guardando en una lista vacia llamada 'peso_cuadrado'"
   ]
  },
  {
   "cell_type": "markdown",
   "metadata": {},
   "source": [
    " ### Función enumerate()\n",
    "\n",
    "\n",
    "\n",
    " `enumerate()` devuelve tanto el índice como el valor de cada elemento en una secuencia.\n",
    "\n",
    " Es útil cuando necesitas saber la posición del elemento además de su valor."
   ]
  },
  {
   "cell_type": "code",
   "execution_count": 133,
   "metadata": {},
   "outputs": [
    {
     "name": "stdout",
     "output_type": "stream",
     "text": [
      "Posición 0: Ana García\n",
      "Posición 1: Luis Pérez\n",
      "Posición 2: Carmen López\n"
     ]
    }
   ],
   "source": [
    "# Ejemplo con enumerate()\n",
    "pacientes = [\"Ana García\", \"Luis Pérez\", \"Carmen López\"]\n",
    "\n",
    "for indice, nombre in enumerate(pacientes):\n",
    "    print(f\"Posición {indice}: {nombre}\")\n"
   ]
  },
  {
   "cell_type": "markdown",
   "metadata": {},
   "source": [
    " ### Bucle while\n",
    "\n",
    "\n",
    "\n",
    " El bucle `while` repite un bloque de código mientras una condición sea verdadera. En contraposición al bucle for que repite el bloque de codigo una vez por cada elemento de nuestra secuencia.\n",
    "\n",
    "\n",
    "\n",
    " ### Cómo funciona while:\n",
    "\n",
    "\n",
    "\n",
    " 1. Evalúa la condición\n",
    "\n",
    " 2. Si es `True`, ejecuta el bloque de código\n",
    "\n",
    " 3. Vuelve al paso 1 (reevalúa la condición)\n",
    "\n",
    " 4. Si es `False`, sale del bucle\n",
    "\n",
    "\n",
    "\n",
    " ### Sintaxis:\n",
    "\n",
    " ```python\n",
    "\n",
    " while condición:\n",
    "\n",
    "     # código que se repite\n",
    "\n",
    "     # IMPORTANTE: algo debe cambiar la condición para evitar bucle infinito\n",
    "\n",
    " ```\n",
    "\n",
    "\n",
    "\n",
    " **¡Cuidado!**: Siempre debe haber algo dentro del bucle que eventualmente haga la condición `False`, sino el bucle será infinito."
   ]
  },
  {
   "cell_type": "code",
   "execution_count": 135,
   "metadata": {},
   "outputs": [],
   "source": [
    "# Ejemplo básico de while\n",
    "contador = 0\n",
    "\n",
    "while contador < 3:\n",
    "    f\"Paciente {contador + 1} atendido\"\n",
    "    contador += 1  # CRUCIAL: cambiar la variable de control\n"
   ]
  },
  {
   "cell_type": "code",
   "execution_count": null,
   "metadata": {},
   "outputs": [
    {
     "data": {
      "text/plain": [
       "3"
      ]
     },
     "execution_count": 136,
     "metadata": {},
     "output_type": "execute_result"
    }
   ],
   "source": [
    "# El valor final del contador\n",
    "contador\n",
    "\n",
    "\n",
    "# Si os fijais, lo que hacemos es dentro del bucle while vamos modificando la variable de condición, para que al llegar a un determinado punto de\n",
    "# interés el bucle acabe"
   ]
  },
  {
   "cell_type": "markdown",
   "metadata": {},
   "source": [
    " ### Control de flujo: break y continue\n",
    "\n",
    "\n",
    "\n",
    " - **`break`**: Sale inmediatamente del bucle, sin importar si la condición sigue siendo verdadera. No se ejecutará ninguna otra parte del bucle después del break.\n",
    "\n",
    " - **`continue`**: Salta el resto del código en la iteración actual y va a la siguiente iteración\n",
    "\n",
    "\n",
    "\n",
    " Estos comandos solo funcionan dentro de bucles."
   ]
  },
  {
   "cell_type": "code",
   "execution_count": 137,
   "metadata": {},
   "outputs": [
    {
     "data": {
      "text/plain": [
       "'FIEBRE ALTA detectada: 39.5°C - Parar revisión'"
      ]
     },
     "execution_count": 137,
     "metadata": {},
     "output_type": "execute_result"
    }
   ],
   "source": [
    "# Ejemplo de break: parar cuando se encuentra algo específico\n",
    "temperaturas = [36.8, 37.2, 39.5, 37.1, 36.9]\n",
    "\n",
    "for temp in temperaturas:\n",
    "    if temp > 39.0:\n",
    "        resultado = f\"FIEBRE ALTA detectada: {temp}°C - Parar revisión\"\n",
    "        break\n",
    "    resultado = f\"Temperatura {temp}°C - Normal\"\n",
    "\n",
    "resultado\n",
    "\n",
    "#En este codigo lo que estamos haciendo de facto es encontrar el primer elemento de la lista temperatura que sea mayor a 39. Una vez hemos encontrado\n",
    "# el primero el bucle para, sin mirar si hay otras temperaturas que también cumplan la condición"
   ]
  },
  {
   "cell_type": "code",
   "execution_count": 140,
   "metadata": {},
   "outputs": [
    {
     "name": "stdout",
     "output_type": "stream",
     "text": [
      "Paciente adulto: 25 años\n",
      "Paciente adulto: 34 años\n",
      "Paciente adulto: 45 años\n",
      "Paciente adulto: 67 años\n"
     ]
    }
   ],
   "source": [
    "# Ejemplo de continue: saltar elementos que no interesan\n",
    "edades = [25, 17, 34, 16, 45, 12, 67]\n",
    "\n",
    "for edad in edades:\n",
    "    if edad < 18:\n",
    "        continue  # Salta menores de edad\n",
    "    print(f\"Paciente adulto: {edad} años\")\n",
    "\n",
    "# En este estamos mirando que edades hay dentro de todas las que no sean menores de 18"
   ]
  },
  {
   "cell_type": "markdown",
   "metadata": {},
   "source": [
    " ## Ejercicios: Bucles\n",
    "\n",
    "\n",
    "\n",
    " ### Ejercicio 1\n",
    "\n",
    "\n",
    "\n",
    " Bucle for básico:\n",
    "\n",
    "\n",
    "\n",
    " 1. Crea una lista `sintomas = [\"fiebre\", \"tos\", \"dolor de cabeza\", \"fatiga\"]`\n",
    "\n",
    " 2. Usa un bucle for para recorrer la lista e imprimir cada síntoma\n",
    "\n",
    " 3. Modifica el bucle para mostrar: \"Síntoma: {nombre_sintoma}\""
   ]
  },
  {
   "cell_type": "code",
   "execution_count": null,
   "metadata": {},
   "outputs": [],
   "source": [
    "# Respuesta ejercicio 1\n"
   ]
  },
  {
   "cell_type": "markdown",
   "metadata": {},
   "source": [
    " ### Ejercicio de transición 1.5\n",
    "\n",
    "\n",
    "\n",
    " Práctica básica con bucles:\n",
    "\n",
    "\n",
    "\n",
    " 1. Crea una lista `medicamentos = [\"Aspirina\", \"Paracetamol\"]`\n",
    "\n",
    " 2. Usa un bucle for para mostrar cada medicamento\n",
    "\n",
    " 3. Añade \"Ibuprofeno\" a la lista y repite el bucle"
   ]
  },
  {
   "cell_type": "code",
   "execution_count": null,
   "metadata": {},
   "outputs": [],
   "source": [
    "# Respuesta ejercicio de transición 1.5\n"
   ]
  },
  {
   "cell_type": "markdown",
   "metadata": {},
   "source": [
    " ### Ejercicio 2\n",
    "\n",
    "\n",
    "\n",
    " Bucle for con condicionales:\n",
    "\n",
    "\n",
    "\n",
    " 1. Crea una lista `temperaturas = [36.5, 37.8, 36.9, 38.5, 37.2]`\n",
    "\n",
    " 2. Recorre la lista con un bucle for\n",
    "\n",
    " 3. Para cada temperatura, evalúa si es fiebre (>37.5) o normal y guarda el resultado en la variable estado.\n",
    "\n",
    " 4. Muestra: \"Temperatura {valor}°C: {estado}\""
   ]
  },
  {
   "cell_type": "code",
   "execution_count": null,
   "metadata": {},
   "outputs": [],
   "source": [
    "# Respuesta ejercicio 2\n"
   ]
  },
  {
   "cell_type": "markdown",
   "metadata": {},
   "source": [
    " ### Ejercicio 3\n",
    "\n",
    "\n",
    "\n",
    " Usando range():\n",
    "\n",
    "\n",
    "\n",
    " 1. Usa `range(8, 18)` para crear horarios de consulta de 8:00 a 17:00\n",
    "\n",
    " 2. Muestra cada hora con formato: \"Consulta disponible a las {hora}:00\"\n",
    "\n",
    " 3. Modifica para mostrar solo horarios pares usando `range(8, 18, 2)`"
   ]
  },
  {
   "cell_type": "code",
   "execution_count": null,
   "metadata": {},
   "outputs": [],
   "source": [
    "# Respuesta ejercicio 3\n"
   ]
  },
  {
   "cell_type": "markdown",
   "metadata": {},
   "source": [
    " ### Ejercicio de transición 3.5\n",
    "\n",
    "\n",
    "\n",
    " Práctica con range básico:\n",
    "\n",
    "\n",
    "\n",
    " 1. Usa `range(3)` para contar del 0 al 2\n",
    "\n",
    " 2. En cada iteración muestra: \"Paso número: {número}\"\n",
    "\n",
    " 3. Usa `range(1, 4)` para contar del 1 al 3"
   ]
  },
  {
   "cell_type": "code",
   "execution_count": null,
   "metadata": {},
   "outputs": [],
   "source": [
    "# Respuesta ejercicio de transición 3.5\n"
   ]
  },
  {
   "cell_type": "markdown",
   "metadata": {},
   "source": [
    " ### Ejercicio 4\n",
    "\n",
    "\n",
    "\n",
    " Enumerate básico:\n",
    "\n",
    "\n",
    "\n",
    " 1. Crea una lista `pacientes = [\"María\", \"Juan\", \"Carmen\", \"Pedro\"]`\n",
    "\n",
    " 3. Crea otra versión que muestre: \"Posición {índice}: {nombre}\" "
   ]
  },
  {
   "cell_type": "code",
   "execution_count": null,
   "metadata": {},
   "outputs": [],
   "source": [
    "# Respuesta ejercicio 4\n"
   ]
  },
  {
   "cell_type": "markdown",
   "metadata": {},
   "source": [
    " ### Ejercicio 5\n",
    "\n",
    "\n",
    "\n",
    " Bucle while básico:\n",
    "\n",
    "\n",
    "\n",
    " 1. Crea un contador que empiece en 1\n",
    "\n",
    " 2. Usa while para contar hasta 5\n",
    "\n",
    " 3. En cada iteración muestra: \"Revisando paciente número {contador}\"\n",
    "\n",
    " 4. No olvides incrementar el contador para evitar bucle infinito"
   ]
  },
  {
   "cell_type": "code",
   "execution_count": null,
   "metadata": {},
   "outputs": [],
   "source": [
    "# Respuesta ejercicio 5\n"
   ]
  },
  {
   "cell_type": "markdown",
   "metadata": {},
   "source": [
    " ### Ejercicio de transición 5.5\n",
    "\n",
    "\n",
    "\n",
    " While con condición simple:\n",
    "\n",
    "\n",
    "\n",
    " 1. Crea una variable `pacientes_pendientes = 3`\n",
    "\n",
    " 2. Mientras haya pacientes pendientes, muestra: \"Quedan {número} pacientes\"\n",
    "\n",
    " 3. Reduce en 1 cada vez hasta llegar a 0"
   ]
  },
  {
   "cell_type": "code",
   "execution_count": null,
   "metadata": {},
   "outputs": [],
   "source": [
    "# Respuesta ejercicio de transición 5.5\n"
   ]
  },
  {
   "cell_type": "markdown",
   "metadata": {},
   "source": [
    " ### Ejercicio 6\n",
    "\n",
    "\n",
    "\n",
    " Operaciones con bucles:\n",
    "\n",
    "\n",
    "\n",
    " 1. Crea una lista `pesos = [65.5, 78.2, 45.8, 90.1, 72.0]`\n",
    "\n",
    " 2. Usa un bucle for para:\n",
    "\n",
    "    - Sumar todos los pesos (crea una variable suma)\n",
    "\n",
    "    - Contar cuántos pesos hay\n",
    "\n",
    "    - Calcular el promedio al final\n",
    "\n",
    " 3. Muestra el resultado final\n",
    "\n",
    "\n",
    " Aviso: Daos cuenta que estas mismas acciones sobre una lista las podemos hacer con las funciones sum(), len() etc. para listas. en este caso lo estamos haciendo manualmente con un bucle for. De hecho es lo que hacen esas funciones internamente."
   ]
  },
  {
   "cell_type": "code",
   "execution_count": null,
   "metadata": {},
   "outputs": [],
   "source": [
    "# Respuesta ejercicio 6\n"
   ]
  },
  {
   "cell_type": "markdown",
   "metadata": {},
   "source": [
    " ### Ejercicio 7\n",
    "\n",
    "\n",
    "\n",
    " Break en acción:\n",
    "\n",
    "\n",
    "\n",
    " 1. Crea una lista `valores_glucosa = [85, 92, 180, 95, 110]`\n",
    "\n",
    " 2. Recorre la lista buscando valores peligrosos (>150)\n",
    "\n",
    " 3. Cuando encuentres uno, muestra \"ALERTA: Glucosa {valor} mg/dL\" y sal del bucle con break\n",
    "\n",
    " 4. Si no encuentras ninguno, muestra \"Todos los valores normales\""
   ]
  },
  {
   "cell_type": "code",
   "execution_count": null,
   "metadata": {},
   "outputs": [],
   "source": [
    "# Respuesta ejercicio 7\n"
   ]
  },
  {
   "cell_type": "markdown",
   "metadata": {},
   "source": [
    " ### Ejercicio 8\n",
    "\n",
    "\n",
    "\n",
    " Continue en acción:\n",
    "\n",
    "\n",
    "\n",
    " 1. Crea una lista `edades = [25, 16, 34, 12, 45, 17, 67, 15]`\n",
    "\n",
    " 2. Usa un bucle for para procesar solo pacientes adultos (>=18)\n",
    "\n",
    " 3. Usa continue para saltar menores de edad\n",
    "\n",
    " 4. Muestra: \"Paciente adulto: {edad} años\""
   ]
  },
  {
   "cell_type": "code",
   "execution_count": null,
   "metadata": {},
   "outputs": [],
   "source": [
    "# Respuesta ejercicio 8\n"
   ]
  },
  {
   "cell_type": "markdown",
   "metadata": {},
   "source": [
    " ### Ejercicio de transición 8.5\n",
    "\n",
    "\n",
    "\n",
    " Práctica con continue:\n",
    "\n",
    "\n",
    "\n",
    " 1. Crea una lista `temperaturas = [36.8, 38.2, 37.0, 39.1]`\n",
    "\n",
    " 2. Usa continue para saltar temperaturas normales (<37.5)\n",
    "\n",
    " 3. Solo muestra las temperaturas de fiebre"
   ]
  },
  {
   "cell_type": "code",
   "execution_count": null,
   "metadata": {},
   "outputs": [],
   "source": [
    "# Respuesta ejercicio de transición 8.5\n"
   ]
  },
  {
   "cell_type": "markdown",
   "metadata": {},
   "source": [
    " ### Ejercicio 9\n",
    "\n",
    "\n",
    "\n",
    " Bucles anidados:\n",
    "\n",
    "\n",
    "\n",
    " 1. Crea una lista de listas: `consultas = [[\"María\", \"9:00\"], [\"Juan\", \"10:00\"], [\"Carmen\", \"11:00\"]]`\n",
    "\n",
    " 2. Usa un bucle for para recorrer cada consulta\n",
    "\n",
    " 3. Dentro, usa otro bucle for para mostrar cada elemento de la consulta\n",
    "\n",
    " 4. Formato: \"Dato: {elemento}\""
   ]
  },
  {
   "cell_type": "code",
   "execution_count": null,
   "metadata": {},
   "outputs": [],
   "source": [
    "# Respuesta ejercicio 9\n"
   ]
  },
  {
   "cell_type": "markdown",
   "metadata": {},
   "source": [
    " ### Ejercicio 11\n",
    "\n",
    "\n",
    "\n",
    " Búsqueda y conteo:\n",
    "\n",
    "\n",
    "\n",
    " 1. Crea una lista `medicamentos = [\"Paracetamol\", \"Ibuprofeno\", \"Paracetamol\", \"Aspirina\", \"Paracetamol\"]`\n",
    "\n",
    " 2. Usa un bucle for para contar cuántas veces aparece \"Paracetamol\"\n",
    "\n",
    " 3. Usa otro bucle para encontrar todas las posiciones donde aparece\n",
    "\n",
    " 4. Muestra ambos resultados\n",
    "\n",
    "\n",
    " Aviso: de nuevo, esto se puede hacer también con las funciones .count() y .index() para listas, pero aquí lo estamos haciendo a mano."
   ]
  },
  {
   "cell_type": "code",
   "execution_count": null,
   "metadata": {},
   "outputs": [],
   "source": [
    "# Respuesta ejercicio 11\n"
   ]
  },
  {
   "cell_type": "markdown",
   "metadata": {},
   "source": [
    " ### Ejercicio 12\n",
    "\n",
    "\n",
    "\n",
    " While con validación:\n",
    "\n",
    "\n",
    "\n",
    " 1. Simula entrada de datos: crea una lista `entradas = [15, 25, -5, 30, 0]`\n",
    "\n",
    " 2. Usa while con un índice para recorrer la lista\n",
    "\n",
    " 3. Procesa solo valores positivos\n",
    "\n",
    " 4. Para el bucle cuando encuentres un 0 o llegues al final\n",
    "\n",
    " 5. Cuenta cuántos valores válidos procesaste"
   ]
  },
  {
   "cell_type": "code",
   "execution_count": null,
   "metadata": {},
   "outputs": [],
   "source": [
    "# Respuesta ejercicio 12\n"
   ]
  },
  {
   "cell_type": "markdown",
   "metadata": {},
   "source": [
    " ### Ejercicio 13\n",
    "\n",
    "\n",
    "\n",
    " Sistema de triaje completo:\n",
    "\n",
    "\n",
    "\n",
    " 1. Crea listas paralelas:\n",
    "\n",
    "    - `nombres = [\"Ana\", \"Luis\", \"Carmen\", \"Pedro\"]`\n",
    "\n",
    "    - `urgencias = [3, 1, 2, 3]` (1=crítico, 2=urgente, 3=normal)\n",
    "\n",
    " 2. Usa enumerate() para procesar cada paciente\n",
    "\n",
    " 3. Usa continue para saltar pacientes normales (urgencia=3)\n",
    "\n",
    " 4. Para críticos (urgencia=1), muestra \"CRÍTICO\" y usa break\n",
    "\n",
    " 5. Para urgentes, solo muestra \"Urgente: {nombre}\""
   ]
  },
  {
   "cell_type": "code",
   "execution_count": null,
   "metadata": {},
   "outputs": [],
   "source": [
    "# Respuesta ejercicio 13\n"
   ]
  },
  {
   "cell_type": "markdown",
   "metadata": {},
   "source": [
    "## EJERCICIO INTEGRADOR FINAL\n",
    "\n",
    "### Sistema de Evaluación de Pacientes\n",
    "\n",
    "Vamos a crear un programa completo que use **todos** los conceptos que has aprendido. Imagina que eres el responsable de organizar la atención en una consulta médica.\n",
    "\n",
    "#### Paso 1: Preparar los datos\n",
    "Crea una lista llamada `pacientes` con esta información:\n",
    "\n",
    "```python\n",
    "pacientes = [\n",
    "    [\"Ana García\", 25, 37.2, [\"dolor cabeza\"]],\n",
    "    [\"Luis Martín\", 67, 38.8, [\"tos\", \"fiebre\", \"fatiga\"]],\n",
    "    [\"Carmen López\", 15, 36.9, []],\n",
    "    [\"Pedro Ruiz\", 45, 39.2, [\"dolor pecho\", \"mareo\", \"sudoración\", \"náuseas\"]]\n",
    "]\n",
    "```\n",
    "\n",
    "Cada paciente tiene: nombre (string), edad (int), temperatura (float), síntomas (lista de strings)\n",
    "\n",
    "#### Paso 2: Analizar cada paciente\n",
    "Para cada paciente en tu lista, tu programa debe:\n",
    "\n",
    "1. **Mostrar información básica:**\n",
    "   - Nombre y edad\n",
    "   - Temperatura con clasificación: \"Normal\" (<37.5), \"Fiebre\" (37.5-39), \"Fiebre alta\" (>39)\n",
    "   - Número de síntomas\n",
    "\n",
    "2. **Determinar el grupo de edad:**\n",
    "   - \"Menor\" si edad < 18\n",
    "   - \"Adulto\" si edad entre 18-65  \n",
    "   - \"Mayor\" si edad > 65\n",
    "\n",
    "3. **Asignar prioridad de atención:**\n",
    "   - \"URGENTE\" si: temperatura > 39 O (es mayor de 65 años Y tiene fiebre)\n",
    "   - \"NORMAL\" en el resto de casos\n",
    "\n",
    "#### Paso 3: Hacer estadísticas simples\n",
    "Al final, calcula y muestra:\n",
    "- Cuántos pacientes había en total\n",
    "- La temperatura promedio (suma todas las temperaturas y divide entre el número de pacientes)\n",
    "- Cuántos pacientes necesitan atención urgente\n",
    "\n",
    "#### Paso 4: Lista de urgencias\n",
    "Crea una nueva lista que contenga solo los nombres de los pacientes urgentes\n",
    "\n",
    "#### Tu programa debe mostrar algo así:\n",
    "```\n",
    "CONSULTA MÉDICA DEL DÍA:\n",
    "\n",
    "PACIENTE: Ana García (25 años) - Adulto\n",
    "Temperatura: 37.2°C (Normal)\n",
    "Síntomas: 1\n",
    "PRIORIDAD: NORMAL\n",
    "\n",
    "PACIENTE: Luis Martín (67 años) - Mayor  \n",
    "Temperatura: 38.8°C (Fiebre)\n",
    "Síntomas: 3\n",
    "PRIORIDAD: URGENTE\n",
    "\n",
    "[continúa con todos los pacientes...]\n",
    "\n",
    "RESUMEN DEL DÍA:\n",
    "Total de pacientes: 4\n",
    "Temperatura promedio: 38.0°C\n",
    "Pacientes urgentes: 2\n",
    "\n",
    "Lista de urgencias: Luis Martín, Pedro Ruiz\n",
    "```\n",
    "\n",
    "**Conceptos que debes usar y pistas de cómo hacerlo (SOLO LEER SI NO OS ESTÁ SALIENDO LA TAREA):**\n",
    "\n",
    "- **Variables:** Crea contadores como `total_pacientes`, `suma_temperaturas`, `pacientes_urgentes`\n",
    "- **Lista de listas:** Usa `pacientes[0][1]` para acceder a la edad del primer paciente, `pacientes[?][2]` para temperaturas\n",
    "- **Bucle for:** `for paciente in pacientes:` o `for i in range(len(pacientes)):`\n",
    "- **Acceso a elementos:** `nombre = paciente[0]`, `edad = paciente[1]`, `temp = paciente[2]`, `sintomas = paciente[3]`\n",
    "- **Condicionales if/elif/else:** Para clasificar temperatura, edad y prioridad\n",
    "- **Operadores de comparación:** `temp < 37.5`, `edad >= 18 and edad <= 65`\n",
    "- **Operadores lógicos:** `temp > 39 or (edad > 65 and temp >= 37.5)` para urgencias\n",
    "- **Función len():** `len(pacientes)` para total, `len(sintomas)` para contar síntomas\n",
    "- **Función sum():** `sum([temp1, temp2, temp3, temp4])` para sumar temperaturas\n",
    "- **F-strings:** `f\"PACIENTE: {nombre} ({edad} años)\"` para mostrar resultados\n",
    "- **Listas vacías:** `urgentes = []` y después `urgentes.append(nombre)` para pacientes urgentes\n",
    "- **División:** `promedio = suma_temperaturas / total_pacientes` para calcular promedio"
   ]
  }
 ],
 "metadata": {
  "kernelspec": {
   "display_name": "marc_priv",
   "language": "python",
   "name": "python3"
  },
  "language_info": {
   "codemirror_mode": {
    "name": "ipython",
    "version": 3
   },
   "file_extension": ".py",
   "mimetype": "text/x-python",
   "name": "python",
   "nbconvert_exporter": "python",
   "pygments_lexer": "ipython3",
   "version": "3.12.7"
  }
 },
 "nbformat": 4,
 "nbformat_minor": 2
}
