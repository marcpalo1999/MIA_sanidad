{
 "cells": [
  {
   "cell_type": "markdown",
   "metadata": {},
   "source": [
    "  <a href=\"https://colab.research.google.com/github/marcpalo1999/MIA_sanidad/blob/main/2_0_Introduction_python.ipynb\" target=\"_parent\"><img src=\"https://colab.research.google.com/assets/colab-badge.svg\" alt=\"Open In Colab\"/></a>"
   ]
  },
  {
   "cell_type": "markdown",
   "metadata": {},
   "source": [
    "  # Setup - copy data from github to collab"
   ]
  },
  {
   "cell_type": "code",
   "execution_count": null,
   "metadata": {},
   "outputs": [],
   "source": [
    "import os\n",
    "if not os.path.exists('/content/MIA_sanidad'):\n",
    "    !git clone https://github.com/marcpalo1999/MIA_sanidad.git\n",
    "os.chdir('/content/MIA_sanidad')\n",
    "os.getcwd()\n"
   ]
  },
  {
   "cell_type": "markdown",
   "metadata": {},
   "source": [
    "  # Introducción a Python\n",
    "\n",
    "\n",
    "\n",
    "  En este notebook aprenderás conceptos básicos de Python:\n",
    "\n",
    "\n",
    "\n",
    "  - Variables y asignación\n",
    "\n",
    "  - Tipos de datos\n",
    "\n",
    "  - Operaciones básicas\n",
    "\n",
    "  - Listas\n",
    "\n",
    "  - Diccionarios\n",
    "\n",
    "  - Tuplas\n",
    "\n",
    "  - Condicionales\n",
    "\n",
    "  - Bucles (`for`, `while`)\n",
    "\n",
    "  - Funciones\n",
    "\n",
    "  - Strings y sus métodos\n",
    "\n",
    "  - Comentarios y buenas prácticas\n",
    "\n",
    "\n",
    "\n",
    "  ---"
   ]
  },
  {
   "cell_type": "markdown",
   "metadata": {},
   "source": [
    "  ## Variables y asignación\n",
    "\n",
    "\n",
    "\n",
    "  En Python, una **variable** es un nombre que guarda un valor en memoria.\n",
    "\n",
    "  Se asigna usando el signo `=`.\n",
    "\n",
    "\n",
    "\n",
    "  ### Ejemplos básicos:"
   ]
  },
  {
   "cell_type": "code",
   "execution_count": 121,
   "metadata": {},
   "outputs": [
    {
     "data": {
      "text/plain": [
       "10"
      ]
     },
     "execution_count": 121,
     "metadata": {},
     "output_type": "execute_result"
    }
   ],
   "source": [
    "# Asignación de variables\n",
    "numero = 10\n",
    "numero\n"
   ]
  },
  {
   "cell_type": "code",
   "execution_count": 122,
   "metadata": {},
   "outputs": [
    {
     "data": {
      "text/plain": [
       "'Hola, Python'"
      ]
     },
     "execution_count": 122,
     "metadata": {},
     "output_type": "execute_result"
    }
   ],
   "source": [
    "texto = \"Hola, Python\"\n",
    "texto\n"
   ]
  },
  {
   "cell_type": "code",
   "execution_count": 123,
   "metadata": {},
   "outputs": [
    {
     "data": {
      "text/plain": [
       "3.14159"
      ]
     },
     "execution_count": 123,
     "metadata": {},
     "output_type": "execute_result"
    }
   ],
   "source": [
    "pi = 3.14159\n",
    "pi\n"
   ]
  },
  {
   "cell_type": "code",
   "execution_count": 124,
   "metadata": {},
   "outputs": [
    {
     "data": {
      "text/plain": [
       "'x = 1, y = 2, z = 3'"
      ]
     },
     "execution_count": 124,
     "metadata": {},
     "output_type": "execute_result"
    }
   ],
   "source": [
    "# Asignación múltiple\n",
    "x, y, z = 1, 2, 3\n",
    "f\"x = {x}, y = {y}, z = {z}\"\n"
   ]
  },
  {
   "cell_type": "code",
   "execution_count": 125,
   "metadata": {},
   "outputs": [
    {
     "data": {
      "text/plain": [
       "'Antes: a = 5, b = 10'"
      ]
     },
     "execution_count": 125,
     "metadata": {},
     "output_type": "execute_result"
    }
   ],
   "source": [
    "# Intercambio de variables (muy útil!)\n",
    "a = 5\n",
    "b = 10\n",
    "f\"Antes: a = {a}, b = {b}\"\n"
   ]
  },
  {
   "cell_type": "code",
   "execution_count": 126,
   "metadata": {},
   "outputs": [
    {
     "data": {
      "text/plain": [
       "'Después: a = 10, b = 5'"
      ]
     },
     "execution_count": 126,
     "metadata": {},
     "output_type": "execute_result"
    }
   ],
   "source": [
    "a, b = b, a\n",
    "f\"Después: a = {a}, b = {b}\"\n"
   ]
  },
  {
   "cell_type": "markdown",
   "metadata": {},
   "source": [
    "  ##  Tipos de datos básicos\n",
    "\n",
    "\n",
    "\n",
    "  Python tiene varios tipos de datos comunes:\n",
    "\n",
    "  - **int** → números enteros\n",
    "\n",
    "  - **float** → números decimales\n",
    "\n",
    "  - **str** → texto (cadenas de caracteres)\n",
    "\n",
    "  - **bool** → valores lógicos (True/False)\n",
    "\n",
    "  - **None** → valor nulo o ausencia de valor"
   ]
  },
  {
   "cell_type": "code",
   "execution_count": 127,
   "metadata": {},
   "outputs": [
    {
     "data": {
      "text/plain": [
       "42"
      ]
     },
     "execution_count": 127,
     "metadata": {},
     "output_type": "execute_result"
    }
   ],
   "source": [
    "# Diferentes tipos de datos\n",
    "entero = 42\n",
    "entero\n"
   ]
  },
  {
   "cell_type": "code",
   "execution_count": 128,
   "metadata": {},
   "outputs": [
    {
     "data": {
      "text/plain": [
       "int"
      ]
     },
     "execution_count": 128,
     "metadata": {},
     "output_type": "execute_result"
    }
   ],
   "source": [
    "type(entero)\n"
   ]
  },
  {
   "cell_type": "code",
   "execution_count": 129,
   "metadata": {},
   "outputs": [
    {
     "data": {
      "text/plain": [
       "float"
      ]
     },
     "execution_count": 129,
     "metadata": {},
     "output_type": "execute_result"
    }
   ],
   "source": [
    "decimal = 3.14\n",
    "type(decimal)\n"
   ]
  },
  {
   "cell_type": "code",
   "execution_count": 130,
   "metadata": {},
   "outputs": [
    {
     "data": {
      "text/plain": [
       "str"
      ]
     },
     "execution_count": 130,
     "metadata": {},
     "output_type": "execute_result"
    }
   ],
   "source": [
    "cadena = \"Me gusta programar\"\n",
    "type(cadena)\n"
   ]
  },
  {
   "cell_type": "code",
   "execution_count": 131,
   "metadata": {},
   "outputs": [
    {
     "data": {
      "text/plain": [
       "bool"
      ]
     },
     "execution_count": 131,
     "metadata": {},
     "output_type": "execute_result"
    }
   ],
   "source": [
    "booleano = True\n",
    "type(booleano)\n"
   ]
  },
  {
   "cell_type": "code",
   "execution_count": 132,
   "metadata": {},
   "outputs": [
    {
     "data": {
      "text/plain": [
       "NoneType"
      ]
     },
     "execution_count": 132,
     "metadata": {},
     "output_type": "execute_result"
    }
   ],
   "source": [
    "nulo = None\n",
    "type(nulo)\n"
   ]
  },
  {
   "cell_type": "code",
   "execution_count": 133,
   "metadata": {},
   "outputs": [
    {
     "data": {
      "text/plain": [
       "\"'123' convertido a entero: 123\""
      ]
     },
     "execution_count": 133,
     "metadata": {},
     "output_type": "execute_result"
    }
   ],
   "source": [
    "# Conversión de tipos (casting)\n",
    "numero_texto = \"123\"\n",
    "numero_real = int(numero_texto)\n",
    "f\"'{numero_texto}' convertido a entero: {numero_real}\"\n"
   ]
  },
  {
   "cell_type": "code",
   "execution_count": 134,
   "metadata": {},
   "outputs": [
    {
     "data": {
      "text/plain": [
       "\"'45.67' convertido a float: 45.67\""
      ]
     },
     "execution_count": 134,
     "metadata": {},
     "output_type": "execute_result"
    }
   ],
   "source": [
    "decimal_texto = \"45.67\"\n",
    "decimal_real = float(decimal_texto)\n",
    "f\"'{decimal_texto}' convertido a float: {decimal_real}\"\n"
   ]
  },
  {
   "cell_type": "code",
   "execution_count": 135,
   "metadata": {},
   "outputs": [
    {
     "data": {
      "text/plain": [
       "'Tengo 25 años'"
      ]
     },
     "execution_count": 135,
     "metadata": {},
     "output_type": "execute_result"
    }
   ],
   "source": [
    "# Conversión de número a string\n",
    "edad = 25\n",
    "mensaje = \"Tengo \" + str(edad) + \" años\"\n",
    "mensaje\n"
   ]
  },
  {
   "cell_type": "markdown",
   "metadata": {},
   "source": [
    "  ##  Operaciones básicas\n",
    "\n",
    "\n",
    "\n",
    "  Python soporta todas las operaciones matemáticas básicas y más:"
   ]
  },
  {
   "cell_type": "code",
   "execution_count": 136,
   "metadata": {},
   "outputs": [],
   "source": [
    "# Operaciones aritméticas\n",
    "a = 15\n",
    "b = 4\n"
   ]
  },
  {
   "cell_type": "code",
   "execution_count": 137,
   "metadata": {},
   "outputs": [
    {
     "data": {
      "text/plain": [
       "19"
      ]
     },
     "execution_count": 137,
     "metadata": {},
     "output_type": "execute_result"
    }
   ],
   "source": [
    "# Suma\n",
    "a + b\n"
   ]
  },
  {
   "cell_type": "code",
   "execution_count": 138,
   "metadata": {},
   "outputs": [
    {
     "data": {
      "text/plain": [
       "11"
      ]
     },
     "execution_count": 138,
     "metadata": {},
     "output_type": "execute_result"
    }
   ],
   "source": [
    "# Resta\n",
    "a - b\n"
   ]
  },
  {
   "cell_type": "code",
   "execution_count": 139,
   "metadata": {},
   "outputs": [
    {
     "data": {
      "text/plain": [
       "60"
      ]
     },
     "execution_count": 139,
     "metadata": {},
     "output_type": "execute_result"
    }
   ],
   "source": [
    "# Multiplicación\n",
    "a * b\n"
   ]
  },
  {
   "cell_type": "code",
   "execution_count": 140,
   "metadata": {},
   "outputs": [
    {
     "data": {
      "text/plain": [
       "3.75"
      ]
     },
     "execution_count": 140,
     "metadata": {},
     "output_type": "execute_result"
    }
   ],
   "source": [
    "# División\n",
    "a / b\n"
   ]
  },
  {
   "cell_type": "code",
   "execution_count": 141,
   "metadata": {},
   "outputs": [
    {
     "data": {
      "text/plain": [
       "3"
      ]
     },
     "execution_count": 141,
     "metadata": {},
     "output_type": "execute_result"
    }
   ],
   "source": [
    "# División entera\n",
    "a // b\n"
   ]
  },
  {
   "cell_type": "code",
   "execution_count": 142,
   "metadata": {},
   "outputs": [
    {
     "data": {
      "text/plain": [
       "3"
      ]
     },
     "execution_count": 142,
     "metadata": {},
     "output_type": "execute_result"
    }
   ],
   "source": [
    "# Resto (módulo)\n",
    "a % b\n"
   ]
  },
  {
   "cell_type": "code",
   "execution_count": 143,
   "metadata": {},
   "outputs": [
    {
     "data": {
      "text/plain": [
       "225"
      ]
     },
     "execution_count": 143,
     "metadata": {},
     "output_type": "execute_result"
    }
   ],
   "source": [
    "# Potencia\n",
    "a ** 2\n"
   ]
  },
  {
   "cell_type": "code",
   "execution_count": 144,
   "metadata": {},
   "outputs": [
    {
     "data": {
      "text/plain": [
       "10"
      ]
     },
     "execution_count": 144,
     "metadata": {},
     "output_type": "execute_result"
    }
   ],
   "source": [
    "# Operadores de asignación compuesta\n",
    "contador = 10\n",
    "contador\n"
   ]
  },
  {
   "cell_type": "code",
   "execution_count": 145,
   "metadata": {},
   "outputs": [
    {
     "data": {
      "text/plain": [
       "15"
      ]
     },
     "execution_count": 145,
     "metadata": {},
     "output_type": "execute_result"
    }
   ],
   "source": [
    "contador += 5  # equivale a contador = contador + 5\n",
    "contador\n"
   ]
  },
  {
   "cell_type": "code",
   "execution_count": 146,
   "metadata": {},
   "outputs": [
    {
     "data": {
      "text/plain": [
       "30"
      ]
     },
     "execution_count": 146,
     "metadata": {},
     "output_type": "execute_result"
    }
   ],
   "source": [
    "contador *= 2  # equivale a contador = contador * 2\n",
    "contador\n"
   ]
  },
  {
   "cell_type": "code",
   "execution_count": 147,
   "metadata": {},
   "outputs": [],
   "source": [
    "# Operadores de comparación\n",
    "x = 10\n",
    "y = 20\n"
   ]
  },
  {
   "cell_type": "code",
   "execution_count": 148,
   "metadata": {},
   "outputs": [
    {
     "data": {
      "text/plain": [
       "False"
      ]
     },
     "execution_count": 148,
     "metadata": {},
     "output_type": "execute_result"
    }
   ],
   "source": [
    "x > y\n"
   ]
  },
  {
   "cell_type": "code",
   "execution_count": 149,
   "metadata": {},
   "outputs": [
    {
     "data": {
      "text/plain": [
       "True"
      ]
     },
     "execution_count": 149,
     "metadata": {},
     "output_type": "execute_result"
    }
   ],
   "source": [
    "x < y\n"
   ]
  },
  {
   "cell_type": "code",
   "execution_count": 150,
   "metadata": {},
   "outputs": [
    {
     "data": {
      "text/plain": [
       "False"
      ]
     },
     "execution_count": 150,
     "metadata": {},
     "output_type": "execute_result"
    }
   ],
   "source": [
    "x == y\n"
   ]
  },
  {
   "cell_type": "code",
   "execution_count": 151,
   "metadata": {},
   "outputs": [
    {
     "data": {
      "text/plain": [
       "True"
      ]
     },
     "execution_count": 151,
     "metadata": {},
     "output_type": "execute_result"
    }
   ],
   "source": [
    "x != y\n"
   ]
  },
  {
   "cell_type": "code",
   "execution_count": 152,
   "metadata": {},
   "outputs": [
    {
     "data": {
      "text/plain": [
       "True"
      ]
     },
     "execution_count": 152,
     "metadata": {},
     "output_type": "execute_result"
    }
   ],
   "source": [
    "x >= 10\n"
   ]
  },
  {
   "cell_type": "code",
   "execution_count": 153,
   "metadata": {},
   "outputs": [
    {
     "data": {
      "text/plain": [
       "True"
      ]
     },
     "execution_count": 153,
     "metadata": {},
     "output_type": "execute_result"
    }
   ],
   "source": [
    "x <= 20\n"
   ]
  },
  {
   "cell_type": "markdown",
   "metadata": {},
   "source": [
    "  ##  Strings (Cadenas de texto)\n",
    "\n",
    "\n",
    "\n",
    "  Los strings en Python son muy versátiles y tienen muchos métodos útiles:"
   ]
  },
  {
   "cell_type": "code",
   "execution_count": 154,
   "metadata": {},
   "outputs": [
    {
     "data": {
      "text/plain": [
       "'Python es genial'"
      ]
     },
     "execution_count": 154,
     "metadata": {},
     "output_type": "execute_result"
    }
   ],
   "source": [
    "# Crear strings\n",
    "texto1 = \"Python es genial\"\n",
    "texto1\n"
   ]
  },
  {
   "cell_type": "code",
   "execution_count": 155,
   "metadata": {},
   "outputs": [
    {
     "data": {
      "text/plain": [
       "'También podemos usar comillas simples'"
      ]
     },
     "execution_count": 155,
     "metadata": {},
     "output_type": "execute_result"
    }
   ],
   "source": [
    "texto2 = 'También podemos usar comillas simples'\n",
    "texto2\n"
   ]
  },
  {
   "cell_type": "code",
   "execution_count": 156,
   "metadata": {},
   "outputs": [
    {
     "data": {
      "text/plain": [
       "'Este es un texto\\nque ocupa\\nvarias líneas'"
      ]
     },
     "execution_count": 156,
     "metadata": {},
     "output_type": "execute_result"
    }
   ],
   "source": [
    "texto_largo = \"\"\"Este es un texto\n",
    "que ocupa\n",
    "varias líneas\"\"\"\n",
    "texto_largo\n"
   ]
  },
  {
   "cell_type": "code",
   "execution_count": 157,
   "metadata": {},
   "outputs": [
    {
     "data": {
      "text/plain": [
       "'María García'"
      ]
     },
     "execution_count": 157,
     "metadata": {},
     "output_type": "execute_result"
    }
   ],
   "source": [
    "# Concatenación de strings\n",
    "nombre = \"María\"\n",
    "apellido = \"García\"\n",
    "nombre_completo = nombre + \" \" + apellido\n",
    "nombre_completo\n"
   ]
  },
  {
   "cell_type": "code",
   "execution_count": 158,
   "metadata": {},
   "outputs": [
    {
     "data": {
      "text/plain": [
       "'  Python es Increíble  '"
      ]
     },
     "execution_count": 158,
     "metadata": {},
     "output_type": "execute_result"
    }
   ],
   "source": [
    "# Métodos útiles de strings\n",
    "mensaje = \"  Python es Increíble  \"\n",
    "mensaje\n"
   ]
  },
  {
   "cell_type": "code",
   "execution_count": 159,
   "metadata": {},
   "outputs": [
    {
     "data": {
      "text/plain": [
       "'  PYTHON ES INCREÍBLE  '"
      ]
     },
     "execution_count": 159,
     "metadata": {},
     "output_type": "execute_result"
    }
   ],
   "source": [
    "mensaje.upper()\n"
   ]
  },
  {
   "cell_type": "code",
   "execution_count": 160,
   "metadata": {},
   "outputs": [
    {
     "data": {
      "text/plain": [
       "'  python es increíble  '"
      ]
     },
     "execution_count": 160,
     "metadata": {},
     "output_type": "execute_result"
    }
   ],
   "source": [
    "mensaje.lower()\n"
   ]
  },
  {
   "cell_type": "code",
   "execution_count": 161,
   "metadata": {},
   "outputs": [
    {
     "data": {
      "text/plain": [
       "'Python es Increíble'"
      ]
     },
     "execution_count": 161,
     "metadata": {},
     "output_type": "execute_result"
    }
   ],
   "source": [
    "mensaje.strip()\n"
   ]
  },
  {
   "cell_type": "code",
   "execution_count": 162,
   "metadata": {},
   "outputs": [
    {
     "data": {
      "text/plain": [
       "'  Programar es Increíble  '"
      ]
     },
     "execution_count": 162,
     "metadata": {},
     "output_type": "execute_result"
    }
   ],
   "source": [
    "mensaje.replace('Python', 'Programar')\n"
   ]
  },
  {
   "cell_type": "code",
   "execution_count": 163,
   "metadata": {},
   "outputs": [
    {
     "data": {
      "text/plain": [
       "'P'"
      ]
     },
     "execution_count": 163,
     "metadata": {},
     "output_type": "execute_result"
    }
   ],
   "source": [
    "# Acceso a caracteres\n",
    "palabra = \"Python\"\n",
    "palabra[0]  # Primer carácter\n"
   ]
  },
  {
   "cell_type": "code",
   "execution_count": 164,
   "metadata": {},
   "outputs": [
    {
     "data": {
      "text/plain": [
       "'n'"
      ]
     },
     "execution_count": 164,
     "metadata": {},
     "output_type": "execute_result"
    }
   ],
   "source": [
    "palabra[-1]  # Último carácter\n"
   ]
  },
  {
   "cell_type": "code",
   "execution_count": 165,
   "metadata": {},
   "outputs": [
    {
     "data": {
      "text/plain": [
       "'tho'"
      ]
     },
     "execution_count": 165,
     "metadata": {},
     "output_type": "execute_result"
    }
   ],
   "source": [
    "palabra[2:5]  # Substring del índice 2 al 4\n"
   ]
  },
  {
   "cell_type": "code",
   "execution_count": 166,
   "metadata": {},
   "outputs": [
    {
     "data": {
      "text/plain": [
       "True"
      ]
     },
     "execution_count": 166,
     "metadata": {},
     "output_type": "execute_result"
    }
   ],
   "source": [
    "# Verificar contenido\n",
    "texto = \"Aprender Python es divertido\"\n",
    "'Python' in texto\n"
   ]
  },
  {
   "cell_type": "code",
   "execution_count": 167,
   "metadata": {},
   "outputs": [
    {
     "data": {
      "text/plain": [
       "True"
      ]
     },
     "execution_count": 167,
     "metadata": {},
     "output_type": "execute_result"
    }
   ],
   "source": [
    "texto.startswith('Aprender')\n"
   ]
  },
  {
   "cell_type": "code",
   "execution_count": 168,
   "metadata": {},
   "outputs": [
    {
     "data": {
      "text/plain": [
       "True"
      ]
     },
     "execution_count": 168,
     "metadata": {},
     "output_type": "execute_result"
    }
   ],
   "source": [
    "texto.endswith('divertido')\n"
   ]
  },
  {
   "cell_type": "markdown",
   "metadata": {},
   "source": [
    "  ##  Listas\n",
    "\n",
    "\n",
    "\n",
    "  Una lista es una **colección ordenada y modificable** de elementos que pueden ser de distintos tipos."
   ]
  },
  {
   "cell_type": "code",
   "execution_count": 169,
   "metadata": {},
   "outputs": [
    {
     "data": {
      "text/plain": [
       "['manzana', 'banana', 'cereza']"
      ]
     },
     "execution_count": 169,
     "metadata": {},
     "output_type": "execute_result"
    }
   ],
   "source": [
    "# Crear listas\n",
    "frutas = [\"manzana\", \"banana\", \"cereza\"]\n",
    "frutas\n"
   ]
  },
  {
   "cell_type": "code",
   "execution_count": 170,
   "metadata": {},
   "outputs": [
    {
     "data": {
      "text/plain": [
       "[1, 2, 3, 4, 5]"
      ]
     },
     "execution_count": 170,
     "metadata": {},
     "output_type": "execute_result"
    }
   ],
   "source": [
    "numeros = [1, 2, 3, 4, 5]\n",
    "numeros\n"
   ]
  },
  {
   "cell_type": "code",
   "execution_count": 171,
   "metadata": {},
   "outputs": [
    {
     "data": {
      "text/plain": [
       "['texto', 42, 3.14, True]"
      ]
     },
     "execution_count": 171,
     "metadata": {},
     "output_type": "execute_result"
    }
   ],
   "source": [
    "mixta = [\"texto\", 42, 3.14, True]\n",
    "mixta\n"
   ]
  },
  {
   "cell_type": "code",
   "execution_count": 172,
   "metadata": {},
   "outputs": [
    {
     "data": {
      "text/plain": [
       "'manzana'"
      ]
     },
     "execution_count": 172,
     "metadata": {},
     "output_type": "execute_result"
    }
   ],
   "source": [
    "# Acceder a elementos\n",
    "frutas[0]  # Primer elemento\n"
   ]
  },
  {
   "cell_type": "code",
   "execution_count": 173,
   "metadata": {},
   "outputs": [
    {
     "data": {
      "text/plain": [
       "'cereza'"
      ]
     },
     "execution_count": 173,
     "metadata": {},
     "output_type": "execute_result"
    }
   ],
   "source": [
    "frutas[-1]  # Último elemento\n"
   ]
  },
  {
   "cell_type": "code",
   "execution_count": 174,
   "metadata": {},
   "outputs": [
    {
     "data": {
      "text/plain": [
       "['banana', 'cereza']"
      ]
     },
     "execution_count": 174,
     "metadata": {},
     "output_type": "execute_result"
    }
   ],
   "source": [
    "frutas[1:3]  # Elementos del índice 1 al 2"
   ]
  },
  {
   "cell_type": "code",
   "execution_count": 175,
   "metadata": {},
   "outputs": [
    {
     "data": {
      "text/plain": [
       "['manzana', 'banana', 'cereza', 'pera']"
      ]
     },
     "execution_count": 175,
     "metadata": {},
     "output_type": "execute_result"
    }
   ],
   "source": [
    "# Modificar listas\n",
    "frutas.append(\"pera\")  # Agregar al final\n",
    "frutas\n"
   ]
  },
  {
   "cell_type": "code",
   "execution_count": 176,
   "metadata": {},
   "outputs": [
    {
     "data": {
      "text/plain": [
       "['manzana', 'naranja', 'banana', 'cereza', 'pera']"
      ]
     },
     "execution_count": 176,
     "metadata": {},
     "output_type": "execute_result"
    }
   ],
   "source": [
    "frutas.insert(1, \"naranja\")  # Insertar en posición específica\n",
    "frutas\n"
   ]
  },
  {
   "cell_type": "code",
   "execution_count": 177,
   "metadata": {},
   "outputs": [
    {
     "data": {
      "text/plain": [
       "['manzana', 'naranja', 'cereza', 'pera']"
      ]
     },
     "execution_count": 177,
     "metadata": {},
     "output_type": "execute_result"
    }
   ],
   "source": [
    "frutas.remove(\"banana\")  # Eliminar elemento específico\n",
    "frutas\n"
   ]
  },
  {
   "cell_type": "code",
   "execution_count": 178,
   "metadata": {},
   "outputs": [
    {
     "data": {
      "text/plain": [
       "'pera'"
      ]
     },
     "execution_count": 178,
     "metadata": {},
     "output_type": "execute_result"
    }
   ],
   "source": [
    "fruta_eliminada = frutas.pop()  # Eliminar y devolver último elemento\n",
    "fruta_eliminada\n"
   ]
  },
  {
   "cell_type": "code",
   "execution_count": 179,
   "metadata": {},
   "outputs": [
    {
     "data": {
      "text/plain": [
       "['manzana', 'naranja', 'cereza']"
      ]
     },
     "execution_count": 179,
     "metadata": {},
     "output_type": "execute_result"
    }
   ],
   "source": [
    "frutas\n"
   ]
  },
  {
   "cell_type": "code",
   "execution_count": 180,
   "metadata": {},
   "outputs": [
    {
     "data": {
      "text/plain": [
       "[3, 1, 4, 1, 5, 9, 2, 6]"
      ]
     },
     "execution_count": 180,
     "metadata": {},
     "output_type": "execute_result"
    }
   ],
   "source": [
    "# Operaciones con listas\n",
    "numeros = [3, 1, 4, 1, 5, 9, 2, 6]\n",
    "numeros\n"
   ]
  },
  {
   "cell_type": "code",
   "execution_count": 181,
   "metadata": {},
   "outputs": [
    {
     "data": {
      "text/plain": [
       "8"
      ]
     },
     "execution_count": 181,
     "metadata": {},
     "output_type": "execute_result"
    }
   ],
   "source": [
    "len(numeros)\n"
   ]
  },
  {
   "cell_type": "code",
   "execution_count": 182,
   "metadata": {},
   "outputs": [
    {
     "data": {
      "text/plain": [
       "9"
      ]
     },
     "execution_count": 182,
     "metadata": {},
     "output_type": "execute_result"
    }
   ],
   "source": [
    "max(numeros)\n"
   ]
  },
  {
   "cell_type": "code",
   "execution_count": 183,
   "metadata": {},
   "outputs": [
    {
     "data": {
      "text/plain": [
       "1"
      ]
     },
     "execution_count": 183,
     "metadata": {},
     "output_type": "execute_result"
    }
   ],
   "source": [
    "min(numeros)\n"
   ]
  },
  {
   "cell_type": "code",
   "execution_count": 184,
   "metadata": {},
   "outputs": [
    {
     "data": {
      "text/plain": [
       "31"
      ]
     },
     "execution_count": 184,
     "metadata": {},
     "output_type": "execute_result"
    }
   ],
   "source": [
    "sum(numeros)\n"
   ]
  },
  {
   "cell_type": "code",
   "execution_count": 185,
   "metadata": {},
   "outputs": [
    {
     "data": {
      "text/plain": [
       "[1, 1, 2, 3, 4, 5, 6, 9]"
      ]
     },
     "execution_count": 185,
     "metadata": {},
     "output_type": "execute_result"
    }
   ],
   "source": [
    "numeros.sort()\n",
    "numeros\n"
   ]
  },
  {
   "cell_type": "code",
   "execution_count": 186,
   "metadata": {},
   "outputs": [
    {
     "data": {
      "text/plain": [
       "[9, 6, 5, 4, 3, 2, 1, 1]"
      ]
     },
     "execution_count": 186,
     "metadata": {},
     "output_type": "execute_result"
    }
   ],
   "source": [
    "numeros.reverse()\n",
    "numeros\n"
   ]
  },
  {
   "cell_type": "code",
   "execution_count": 187,
   "metadata": {},
   "outputs": [
    {
     "data": {
      "text/plain": [
       "[1, 4, 9, 16, 25]"
      ]
     },
     "execution_count": 187,
     "metadata": {},
     "output_type": "execute_result"
    }
   ],
   "source": [
    "# Lista por comprensión (list comprehension)\n",
    "cuadrados = [x**2 for x in range(1, 6)]\n",
    "cuadrados\n"
   ]
  },
  {
   "cell_type": "code",
   "execution_count": 188,
   "metadata": {},
   "outputs": [
    {
     "data": {
      "text/plain": [
       "[0, 2, 4, 6, 8]"
      ]
     },
     "execution_count": 188,
     "metadata": {},
     "output_type": "execute_result"
    }
   ],
   "source": [
    "pares = [x for x in range(10) if x % 2 == 0]\n",
    "pares\n"
   ]
  },
  {
   "cell_type": "markdown",
   "metadata": {},
   "source": [
    "  ## Diccionarios\n",
    "\n",
    "\n",
    "\n",
    "  Los diccionarios son **colecciones no ordenadas de pares clave-valor**.\n",
    "\n",
    "  Son muy útiles para almacenar información relacionada."
   ]
  },
  {
   "cell_type": "code",
   "execution_count": 189,
   "metadata": {},
   "outputs": [
    {
     "data": {
      "text/plain": [
       "{'nombre': 'Carlos', 'edad': 20, 'carrera': 'Medicina', 'promedio': 8.5}"
      ]
     },
     "execution_count": 189,
     "metadata": {},
     "output_type": "execute_result"
    }
   ],
   "source": [
    "# Crear un diccionario\n",
    "estudiante = {\n",
    "    \"nombre\": \"Carlos\",\n",
    "    \"edad\": 20,\n",
    "    \"carrera\": \"Medicina\",\n",
    "    \"promedio\": 8.5\n",
    "}\n",
    "estudiante\n"
   ]
  },
  {
   "cell_type": "code",
   "execution_count": 190,
   "metadata": {},
   "outputs": [
    {
     "data": {
      "text/plain": [
       "'Carlos'"
      ]
     },
     "execution_count": 190,
     "metadata": {},
     "output_type": "execute_result"
    }
   ],
   "source": [
    "# Acceder a valores\n",
    "estudiante['nombre']\n"
   ]
  },
  {
   "cell_type": "code",
   "execution_count": 191,
   "metadata": {},
   "outputs": [
    {
     "data": {
      "text/plain": [
       "20"
      ]
     },
     "execution_count": 191,
     "metadata": {},
     "output_type": "execute_result"
    }
   ],
   "source": [
    "estudiante.get('edad')\n"
   ]
  },
  {
   "cell_type": "code",
   "execution_count": 192,
   "metadata": {},
   "outputs": [
    {
     "data": {
      "text/plain": [
       "'No disponible'"
      ]
     },
     "execution_count": 192,
     "metadata": {},
     "output_type": "execute_result"
    }
   ],
   "source": [
    "estudiante.get('email', 'No disponible')  # Con valor por defecto\n"
   ]
  },
  {
   "cell_type": "code",
   "execution_count": 193,
   "metadata": {},
   "outputs": [
    {
     "data": {
      "text/plain": [
       "{'nombre': 'Carlos',\n",
       " 'edad': 21,\n",
       " 'carrera': 'Medicina',\n",
       " 'promedio': 8.5,\n",
       " 'email': 'carlos@universidad.edu'}"
      ]
     },
     "execution_count": 193,
     "metadata": {},
     "output_type": "execute_result"
    }
   ],
   "source": [
    "# Modificar y agregar elementos\n",
    "estudiante['edad'] = 21\n",
    "estudiante['email'] = \"carlos@universidad.edu\"\n",
    "estudiante\n"
   ]
  },
  {
   "cell_type": "code",
   "execution_count": 194,
   "metadata": {},
   "outputs": [
    {
     "data": {
      "text/plain": [
       "dict_keys(['nombre', 'edad', 'carrera', 'promedio', 'email'])"
      ]
     },
     "execution_count": 194,
     "metadata": {},
     "output_type": "execute_result"
    }
   ],
   "source": [
    "# Métodos útiles de diccionarios\n",
    "estudiante.keys()\n"
   ]
  },
  {
   "cell_type": "code",
   "execution_count": 195,
   "metadata": {},
   "outputs": [
    {
     "data": {
      "text/plain": [
       "dict_values(['Carlos', 21, 'Medicina', 8.5, 'carlos@universidad.edu'])"
      ]
     },
     "execution_count": 195,
     "metadata": {},
     "output_type": "execute_result"
    }
   ],
   "source": [
    "estudiante.values()\n"
   ]
  },
  {
   "cell_type": "code",
   "execution_count": 196,
   "metadata": {},
   "outputs": [
    {
     "data": {
      "text/plain": [
       "[('nombre', 'Carlos'),\n",
       " ('edad', 21),\n",
       " ('carrera', 'Medicina'),\n",
       " ('promedio', 8.5),\n",
       " ('email', 'carlos@universidad.edu')]"
      ]
     },
     "execution_count": 196,
     "metadata": {},
     "output_type": "execute_result"
    }
   ],
   "source": [
    "list(estudiante.items())\n"
   ]
  },
  {
   "cell_type": "code",
   "execution_count": 197,
   "metadata": {},
   "outputs": [
    {
     "data": {
      "text/plain": [
       "{'nombre': 'Hospital Central',\n",
       " 'departamentos': ['Urgencias', 'Pediatría', 'Cardiología'],\n",
       " 'personal': {'doctores': 150, 'enfermeras': 300, 'administrativos': 50}}"
      ]
     },
     "execution_count": 197,
     "metadata": {},
     "output_type": "execute_result"
    }
   ],
   "source": [
    "# Diccionario más complejo\n",
    "hospital = {\n",
    "    \"nombre\": \"Hospital Central\",\n",
    "    \"departamentos\": [\"Urgencias\", \"Pediatría\", \"Cardiología\"],\n",
    "    \"personal\": {\n",
    "        \"doctores\": 150,\n",
    "        \"enfermeras\": 300,\n",
    "        \"administrativos\": 50\n",
    "    }\n",
    "}\n",
    "hospital\n"
   ]
  },
  {
   "cell_type": "code",
   "execution_count": 198,
   "metadata": {},
   "outputs": [
    {
     "data": {
      "text/plain": [
       "'Hospital Central'"
      ]
     },
     "execution_count": 198,
     "metadata": {},
     "output_type": "execute_result"
    }
   ],
   "source": [
    "hospital['nombre']\n"
   ]
  },
  {
   "cell_type": "code",
   "execution_count": 199,
   "metadata": {},
   "outputs": [
    {
     "data": {
      "text/plain": [
       "['Urgencias', 'Pediatría', 'Cardiología']"
      ]
     },
     "execution_count": 199,
     "metadata": {},
     "output_type": "execute_result"
    }
   ],
   "source": [
    "hospital['departamentos']\n"
   ]
  },
  {
   "cell_type": "code",
   "execution_count": 200,
   "metadata": {},
   "outputs": [
    {
     "data": {
      "text/plain": [
       "150"
      ]
     },
     "execution_count": 200,
     "metadata": {},
     "output_type": "execute_result"
    }
   ],
   "source": [
    "hospital['personal']['doctores']\n"
   ]
  },
  {
   "cell_type": "markdown",
   "metadata": {},
   "source": [
    "  ## Tuplas\n",
    "\n",
    "\n",
    "\n",
    "  Las tuplas son **colecciones ordenadas e inmutables** (no se pueden modificar).\n",
    "\n",
    "  Son útiles para datos que no deben cambiar."
   ]
  },
  {
   "cell_type": "code",
   "execution_count": 201,
   "metadata": {},
   "outputs": [
    {
     "data": {
      "text/plain": [
       "(10, 20)"
      ]
     },
     "execution_count": 201,
     "metadata": {},
     "output_type": "execute_result"
    }
   ],
   "source": [
    "# Crear tuplas\n",
    "coordenadas = (10, 20)\n",
    "coordenadas\n"
   ]
  },
  {
   "cell_type": "code",
   "execution_count": 202,
   "metadata": {},
   "outputs": [
    {
     "data": {
      "text/plain": [
       "(255, 128, 0)"
      ]
     },
     "execution_count": 202,
     "metadata": {},
     "output_type": "execute_result"
    }
   ],
   "source": [
    "colores_rgb = (255, 128, 0)\n",
    "colores_rgb\n"
   ]
  },
  {
   "cell_type": "code",
   "execution_count": 203,
   "metadata": {},
   "outputs": [
    {
     "data": {
      "text/plain": [
       "('Juan', 'Pérez', 45, 'A+')"
      ]
     },
     "execution_count": 203,
     "metadata": {},
     "output_type": "execute_result"
    }
   ],
   "source": [
    "datos_paciente = (\"Juan\", \"Pérez\", 45, \"A+\")\n",
    "datos_paciente\n"
   ]
  },
  {
   "cell_type": "code",
   "execution_count": 204,
   "metadata": {},
   "outputs": [
    {
     "data": {
      "text/plain": [
       "10"
      ]
     },
     "execution_count": 204,
     "metadata": {},
     "output_type": "execute_result"
    }
   ],
   "source": [
    "# Acceder a elementos (igual que las listas)\n",
    "coordenadas[0]\n"
   ]
  },
  {
   "cell_type": "code",
   "execution_count": 205,
   "metadata": {},
   "outputs": [
    {
     "data": {
      "text/plain": [
       "'A+'"
      ]
     },
     "execution_count": 205,
     "metadata": {},
     "output_type": "execute_result"
    }
   ],
   "source": [
    "datos_paciente[-1]\n"
   ]
  },
  {
   "cell_type": "code",
   "execution_count": 206,
   "metadata": {},
   "outputs": [
    {
     "data": {
      "text/plain": [
       "'x = 10, y = 20'"
      ]
     },
     "execution_count": 206,
     "metadata": {},
     "output_type": "execute_result"
    }
   ],
   "source": [
    "# Desempaquetado de tuplas\n",
    "x, y = coordenadas\n",
    "f\"x = {x}, y = {y}\"\n"
   ]
  },
  {
   "cell_type": "code",
   "execution_count": 207,
   "metadata": {},
   "outputs": [
    {
     "data": {
      "text/plain": [
       "'Paciente: Juan Pérez, 45 años, tipo A+'"
      ]
     },
     "execution_count": 207,
     "metadata": {},
     "output_type": "execute_result"
    }
   ],
   "source": [
    "nombre, apellido, edad, tipo_sangre = datos_paciente\n",
    "f\"Paciente: {nombre} {apellido}, {edad} años, tipo {tipo_sangre}\"\n"
   ]
  },
  {
   "cell_type": "code",
   "execution_count": 208,
   "metadata": {},
   "outputs": [
    {
     "data": {
      "text/plain": [
       "(15, 20)"
      ]
     },
     "execution_count": 208,
     "metadata": {},
     "output_type": "execute_result"
    }
   ],
   "source": [
    "# Pero podemos crear una nueva tupla\n",
    "nuevas_coordenadas = (15, 20)\n",
    "nuevas_coordenadas\n"
   ]
  },
  {
   "cell_type": "markdown",
   "metadata": {},
   "source": [
    "  ## Condicionales (if/elif/else)\n",
    "\n",
    "\n",
    "\n",
    "  Sirven para tomar decisiones en el código según condiciones."
   ]
  },
  {
   "cell_type": "code",
   "execution_count": 209,
   "metadata": {},
   "outputs": [
    {
     "data": {
      "text/plain": [
       "'Eres mayor de edad'"
      ]
     },
     "execution_count": 209,
     "metadata": {},
     "output_type": "execute_result"
    }
   ],
   "source": [
    "# Condicional simple\n",
    "edad = 18\n",
    "\n",
    "if edad >= 18:\n",
    "    resultado = \"Eres mayor de edad\"\n",
    "else:\n",
    "    resultado = \"Eres menor de edad\"\n",
    "    \n",
    "resultado\n"
   ]
  },
  {
   "cell_type": "code",
   "execution_count": 210,
   "metadata": {},
   "outputs": [
    {
     "data": {
      "text/plain": [
       "'Nota: 85 - Calificación: B - Muy bien'"
      ]
     },
     "execution_count": 210,
     "metadata": {},
     "output_type": "execute_result"
    }
   ],
   "source": [
    "# Condicional múltiple con elif\n",
    "nota = 85\n",
    "\n",
    "if nota >= 90:\n",
    "    calificacion = \"A - Excelente\"\n",
    "elif nota >= 80:\n",
    "    calificacion = \"B - Muy bien\"\n",
    "elif nota >= 70:\n",
    "    calificacion = \"C - Bien\"\n",
    "elif nota >= 60:\n",
    "    calificacion = \"D - Regular\"\n",
    "else:\n",
    "    calificacion = \"F - Necesita mejorar\"\n",
    "\n",
    "f\"Nota: {nota} - Calificación: {calificacion}\"\n"
   ]
  },
  {
   "cell_type": "code",
   "execution_count": 211,
   "metadata": {},
   "outputs": [
    {
     "data": {
      "text/plain": [
       "'Temperatura: 38.5°C, Tos: True, Fatiga: True\\nPosible caso de gripe. Se recomienda consulta médica.'"
      ]
     },
     "execution_count": 211,
     "metadata": {},
     "output_type": "execute_result"
    }
   ],
   "source": [
    "# Operadores lógicos (and, or, not)\n",
    "temperatura = 38.5\n",
    "tiene_tos = True\n",
    "tiene_fatiga = True\n",
    "\n",
    "if temperatura > 37.5 and (tiene_tos or tiene_fatiga):\n",
    "    diagnostico = \"Posible caso de gripe. Se recomienda consulta médica.\"\n",
    "elif temperatura > 37.5:\n",
    "    diagnostico = \"Tiene fiebre. Monitorear síntomas.\"\n",
    "else:\n",
    "    diagnostico = \"Sin síntomas de alarma.\"\n",
    "\n",
    "f\"Temperatura: {temperatura}°C, Tos: {tiene_tos}, Fatiga: {tiene_fatiga}\\n{diagnostico}\"\n"
   ]
  },
  {
   "cell_type": "code",
   "execution_count": 212,
   "metadata": {},
   "outputs": [
    {
     "data": {
      "text/plain": [
       "'Estado del paciente: Atención inmediata'"
      ]
     },
     "execution_count": 212,
     "metadata": {},
     "output_type": "execute_result"
    }
   ],
   "source": [
    "# Operador ternario (if en una línea)\n",
    "es_urgente = True\n",
    "mensaje = \"Atención inmediata\" if es_urgente else \"Puede esperar\"\n",
    "f\"Estado del paciente: {mensaje}\"\n"
   ]
  },
  {
   "cell_type": "markdown",
   "metadata": {},
   "source": [
    "  ## Bucles\n",
    "\n",
    "\n",
    "\n",
    "  ### Bucle `for`\n",
    "\n",
    "\n",
    "\n",
    "  Se usa para recorrer elementos de una secuencia (lista, tupla, string, etc.)."
   ]
  },
  {
   "cell_type": "code",
   "execution_count": 213,
   "metadata": {},
   "outputs": [
    {
     "data": {
      "text/plain": [
       "['Manzana', 'Banana', 'Cereza', 'Durazno']"
      ]
     },
     "execution_count": 213,
     "metadata": {},
     "output_type": "execute_result"
    }
   ],
   "source": [
    "# For con listas\n",
    "frutas = [\"manzana\", \"banana\", \"cereza\", \"durazno\"]\n",
    "frutas_capitalizadas = [fruta.capitalize() for fruta in frutas]\n",
    "frutas_capitalizadas\n"
   ]
  },
  {
   "cell_type": "code",
   "execution_count": 214,
   "metadata": {},
   "outputs": [
    {
     "data": {
      "text/plain": [
       "[(1, 5),\n",
       " (2, 10),\n",
       " (3, 15),\n",
       " (4, 20),\n",
       " (5, 25),\n",
       " (6, 30),\n",
       " (7, 35),\n",
       " (8, 40),\n",
       " (9, 45),\n",
       " (10, 50)]"
      ]
     },
     "execution_count": 214,
     "metadata": {},
     "output_type": "execute_result"
    }
   ],
   "source": [
    "# For con range - Tabla del 5\n",
    "tabla_del_5 = [(i, 5 * i) for i in range(1, 11)]\n",
    "tabla_del_5\n"
   ]
  },
  {
   "cell_type": "code",
   "execution_count": 215,
   "metadata": {},
   "outputs": [
    {
     "data": {
      "text/plain": [
       "[(1, 'Paracetamol'), (2, 'Ibuprofeno'), (3, 'Amoxicilina')]"
      ]
     },
     "execution_count": 215,
     "metadata": {},
     "output_type": "execute_result"
    }
   ],
   "source": [
    "# For con enumerate (obtener índice y valor)\n",
    "medicamentos = [\"Paracetamol\", \"Ibuprofeno\", \"Amoxicilina\"]\n",
    "medicamentos_numerados = [(i+1, med) for i, med in enumerate(medicamentos)]\n",
    "medicamentos_numerados\n"
   ]
  },
  {
   "cell_type": "code",
   "execution_count": 216,
   "metadata": {},
   "outputs": [
    {
     "data": {
      "text/plain": [
       "['P', 'y', 't', 'h', 'o', 'n']"
      ]
     },
     "execution_count": 216,
     "metadata": {},
     "output_type": "execute_result"
    }
   ],
   "source": [
    "# For con strings\n",
    "palabra = \"Python\"\n",
    "letras = list(palabra)\n",
    "letras\n"
   ]
  },
  {
   "cell_type": "code",
   "execution_count": 217,
   "metadata": {},
   "outputs": [
    {
     "data": {
      "text/plain": [
       "[['1 x 1 = 1', '1 x 2 = 2', '1 x 3 = 3'],\n",
       " ['2 x 1 = 2', '2 x 2 = 4', '2 x 3 = 6'],\n",
       " ['3 x 1 = 3', '3 x 2 = 6', '3 x 3 = 9']]"
      ]
     },
     "execution_count": 217,
     "metadata": {},
     "output_type": "execute_result"
    }
   ],
   "source": [
    "# For anidados - Tabla de multiplicar del 1 al 3\n",
    "tabla_multiplicar = []\n",
    "for i in range(1, 4):\n",
    "    fila = []\n",
    "    for j in range(1, 4):\n",
    "        fila.append(f\"{i} x {j} = {i*j}\")\n",
    "    tabla_multiplicar.append(fila)\n",
    "\n",
    "tabla_multiplicar\n"
   ]
  },
  {
   "cell_type": "markdown",
   "metadata": {},
   "source": [
    "  ### Bucle `while`\n",
    "\n",
    "\n",
    "\n",
    "  Repite un bloque de código **mientras** se cumpla una condición."
   ]
  },
  {
   "cell_type": "code",
   "execution_count": 218,
   "metadata": {},
   "outputs": [
    {
     "data": {
      "text/plain": [
       "['Contador: 0', 'Contador: 1', 'Contador: 2', 'Contador: 3', 'Contador: 4']"
      ]
     },
     "execution_count": 218,
     "metadata": {},
     "output_type": "execute_result"
    }
   ],
   "source": [
    "# While básico\n",
    "contador = 0\n",
    "conteos = []\n",
    "while contador < 5:\n",
    "    conteos.append(f\"Contador: {contador}\")\n",
    "    contador += 1\n",
    "\n",
    "conteos\n"
   ]
  },
  {
   "cell_type": "code",
   "execution_count": 219,
   "metadata": {},
   "outputs": [
    {
     "data": {
      "text/plain": [
       "['Número impar: 1', 'Número impar: 3', '¡Encontrado el 5! Saliendo...']"
      ]
     },
     "execution_count": 219,
     "metadata": {},
     "output_type": "execute_result"
    }
   ],
   "source": [
    "# Control de flujo con break y continue\n",
    "numeros_procesados = []\n",
    "numero = 0\n",
    "while True:\n",
    "    numero += 1\n",
    "    if numero == 5:\n",
    "        numeros_procesados.append(f\"¡Encontrado el {numero}! Saliendo...\")\n",
    "        break\n",
    "    if numero % 2 == 0:\n",
    "        continue  # Saltar números pares\n",
    "    numeros_procesados.append(f\"Número impar: {numero}\")\n",
    "\n",
    "numeros_procesados\n"
   ]
  },
  {
   "cell_type": "markdown",
   "metadata": {},
   "source": [
    "  ## Funciones\n",
    "\n",
    "\n",
    "\n",
    "  Una función permite **reutilizar código** y organizarlo mejor.\n",
    "\n",
    "  Se define con `def` y puede recibir parámetros y devolver valores con `return`."
   ]
  },
  {
   "cell_type": "code",
   "execution_count": 220,
   "metadata": {},
   "outputs": [
    {
     "data": {
      "text/plain": [
       "'Hola, Ana!'"
      ]
     },
     "execution_count": 220,
     "metadata": {},
     "output_type": "execute_result"
    }
   ],
   "source": [
    "# Función simple\n",
    "def saludar(nombre):\n",
    "    \"\"\"Función que saluda a una persona\"\"\"\n",
    "    return f\"Hola, {nombre}!\"\n",
    "\n",
    "saludar(\"Ana\")\n"
   ]
  },
  {
   "cell_type": "code",
   "execution_count": 221,
   "metadata": {},
   "outputs": [
    {
     "data": {
      "text/plain": [
       "'Hola, Carlos!'"
      ]
     },
     "execution_count": 221,
     "metadata": {},
     "output_type": "execute_result"
    }
   ],
   "source": [
    "saludar(\"Carlos\")\n"
   ]
  },
  {
   "cell_type": "code",
   "execution_count": 222,
   "metadata": {},
   "outputs": [
    {
     "data": {
      "text/plain": [
       "'IMC para 70kg y 1.75m: 22.86'"
      ]
     },
     "execution_count": 222,
     "metadata": {},
     "output_type": "execute_result"
    }
   ],
   "source": [
    "# Función con múltiples parámetros\n",
    "def calcular_imc(peso, altura):\n",
    "    \"\"\"Calcula el Índice de Masa Corporal\"\"\"\n",
    "    imc = peso / (altura ** 2)\n",
    "    return round(imc, 2)\n",
    "\n",
    "peso = 70  # kg\n",
    "altura = 1.75  # metros\n",
    "imc = calcular_imc(peso, altura)\n",
    "f\"IMC para {peso}kg y {altura}m: {imc}\"\n"
   ]
  },
  {
   "cell_type": "code",
   "execution_count": 223,
   "metadata": {},
   "outputs": [
    {
     "data": {
      "text/plain": [
       "{'nombre': 'María', 'edad': 30, 'tipo_sangre': 'O+'}"
      ]
     },
     "execution_count": 223,
     "metadata": {},
     "output_type": "execute_result"
    }
   ],
   "source": [
    "# Función con parámetros por defecto\n",
    "def crear_paciente(nombre, edad, tipo_sangre=\"O+\"):\n",
    "    \"\"\"Crea un diccionario con datos del paciente\"\"\"\n",
    "    return {\n",
    "        \"nombre\": nombre,\n",
    "        \"edad\": edad,\n",
    "        \"tipo_sangre\": tipo_sangre\n",
    "    }\n",
    "\n",
    "paciente1 = crear_paciente(\"María\", 30)\n",
    "paciente1\n"
   ]
  },
  {
   "cell_type": "code",
   "execution_count": 224,
   "metadata": {},
   "outputs": [
    {
     "data": {
      "text/plain": [
       "{'nombre': 'Pedro', 'edad': 45, 'tipo_sangre': 'A-'}"
      ]
     },
     "execution_count": 224,
     "metadata": {},
     "output_type": "execute_result"
    }
   ],
   "source": [
    "paciente2 = crear_paciente(\"Pedro\", 45, \"A-\")\n",
    "paciente2\n"
   ]
  },
  {
   "cell_type": "code",
   "execution_count": 225,
   "metadata": {},
   "outputs": [
    {
     "data": {
      "text/plain": [
       "'Estadísticas de [23, 45, 67, 89, 12, 34, 56]: Promedio: 46.57, Máximo: 89, Mínimo: 12'"
      ]
     },
     "execution_count": 225,
     "metadata": {},
     "output_type": "execute_result"
    }
   ],
   "source": [
    "# Función con múltiples valores de retorno\n",
    "def estadisticas_lista(numeros):\n",
    "    \"\"\"Calcula estadísticas básicas de una lista\"\"\"\n",
    "    if not numeros:\n",
    "        return None, None, None\n",
    "    \n",
    "    promedio = sum(numeros) / len(numeros)\n",
    "    maximo = max(numeros)\n",
    "    minimo = min(numeros)\n",
    "    return promedio, maximo, minimo\n",
    "\n",
    "datos = [23, 45, 67, 89, 12, 34, 56]\n",
    "prom, max_val, min_val = estadisticas_lista(datos)\n",
    "f\"Estadísticas de {datos}: Promedio: {prom:.2f}, Máximo: {max_val}, Mínimo: {min_val}\"\n"
   ]
  },
  {
   "cell_type": "code",
   "execution_count": 226,
   "metadata": {},
   "outputs": [
    {
     "data": {
      "text/plain": [
       "6"
      ]
     },
     "execution_count": 226,
     "metadata": {},
     "output_type": "execute_result"
    }
   ],
   "source": [
    "# Función con número variable de argumentos\n",
    "def sumar_todos(*numeros):\n",
    "    \"\"\"Suma todos los números pasados como argumentos\"\"\"\n",
    "    return sum(numeros)\n",
    "\n",
    "sumar_todos(1, 2, 3)\n"
   ]
  },
  {
   "cell_type": "code",
   "execution_count": 227,
   "metadata": {},
   "outputs": [
    {
     "data": {
      "text/plain": [
       "150"
      ]
     },
     "execution_count": 227,
     "metadata": {},
     "output_type": "execute_result"
    }
   ],
   "source": [
    "sumar_todos(10, 20, 30, 40, 50)\n"
   ]
  },
  {
   "cell_type": "code",
   "execution_count": 228,
   "metadata": {},
   "outputs": [
    {
     "data": {
      "text/plain": [
       "120"
      ]
     },
     "execution_count": 228,
     "metadata": {},
     "output_type": "execute_result"
    }
   ],
   "source": [
    "# Función recursiva (ejemplo simple)\n",
    "def factorial(n):\n",
    "    \"\"\"Calcula el factorial de un número\"\"\"\n",
    "    if n <= 1:\n",
    "        return 1\n",
    "    else:\n",
    "        return n * factorial(n - 1)\n",
    "\n",
    "numero = 5\n",
    "factorial(numero)\n"
   ]
  },
  {
   "cell_type": "markdown",
   "metadata": {},
   "source": [
    "  ## Manejo básico de errores\n",
    "\n",
    "\n",
    "\n",
    "  Es importante manejar los errores para que el programa no se detenga inesperadamente."
   ]
  },
  {
   "cell_type": "code",
   "execution_count": 229,
   "metadata": {},
   "outputs": [
    {
     "data": {
      "text/plain": [
       "5.0"
      ]
     },
     "execution_count": 229,
     "metadata": {},
     "output_type": "execute_result"
    }
   ],
   "source": [
    "# Try-except básico\n",
    "def dividir(a, b):\n",
    "    try:\n",
    "        resultado = a / b\n",
    "        return resultado\n",
    "    except ZeroDivisionError:\n",
    "        return \"Error: No se puede dividir entre cero\"\n",
    "\n",
    "dividir(10, 2)\n"
   ]
  },
  {
   "cell_type": "code",
   "execution_count": 230,
   "metadata": {},
   "outputs": [
    {
     "data": {
      "text/plain": [
       "'Error: No se puede dividir entre cero'"
      ]
     },
     "execution_count": 230,
     "metadata": {},
     "output_type": "execute_result"
    }
   ],
   "source": [
    "dividir(10, 0)\n"
   ]
  },
  {
   "cell_type": "code",
   "execution_count": 231,
   "metadata": {},
   "outputs": [
    {
     "data": {
      "text/plain": [
       "123"
      ]
     },
     "execution_count": 231,
     "metadata": {},
     "output_type": "execute_result"
    }
   ],
   "source": [
    "# Manejo de múltiples excepciones\n",
    "def convertir_a_numero(texto):\n",
    "    try:\n",
    "        numero = int(texto)\n",
    "        return numero\n",
    "    except ValueError:\n",
    "        return f\"Error: '{texto}' no es un número válido\"\n",
    "    except Exception as e:\n",
    "        return f\"Error inesperado: {e}\"\n",
    "\n",
    "convertir_a_numero('123')\n"
   ]
  },
  {
   "cell_type": "code",
   "execution_count": 232,
   "metadata": {},
   "outputs": [
    {
     "data": {
      "text/plain": [
       "\"Error: 'abc' no es un número válido\""
      ]
     },
     "execution_count": 232,
     "metadata": {},
     "output_type": "execute_result"
    }
   ],
   "source": [
    "convertir_a_numero('abc')\n"
   ]
  },
  {
   "cell_type": "markdown",
   "metadata": {},
   "source": [
    "  ## Comentarios y buenas prácticas\n",
    "\n",
    "\n",
    "\n",
    "  Los comentarios ayudan a documentar el código y hacerlo más legible."
   ]
  },
  {
   "cell_type": "code",
   "execution_count": 233,
   "metadata": {},
   "outputs": [
    {
     "data": {
      "text/plain": [
       "'Edad del paciente: 45, Temperatura normal: 36.5°C'"
      ]
     },
     "execution_count": 233,
     "metadata": {},
     "output_type": "execute_result"
    }
   ],
   "source": [
    "# BUENAS PRÁCTICAS:\n",
    "\n",
    "# 1. Nombres descriptivos para variables\n",
    "edad_paciente = 45  #  Bien\n",
    "x = 45  #  No tan claro\n",
    "\n",
    "# 2. Constantes en mayúsculas\n",
    "TEMPERATURA_NORMAL = 36.5\n",
    "PRESION_NORMAL = (120, 80)\n",
    "\n",
    "f\"Edad del paciente: {edad_paciente}, Temperatura normal: {TEMPERATURA_NORMAL}°C\"\n"
   ]
  },
  {
   "cell_type": "markdown",
   "metadata": {},
   "source": [
    "  ##  Ejercicios propuestos\n",
    "\n",
    "\n",
    "\n",
    "  1. **Calculadora de medicamentos**: Crea una función que calcule la dosis de un medicamento según el peso del paciente.\n",
    "\n",
    "  2. **Lista de pacientes**: Crea una lista de diccionarios con información de pacientes y muestra solo los mayores de 60 años.\n",
    "\n",
    "  3. **Validador de presión arterial**: Crea una función que reciba la presión sistólica y diastólica y determine si es normal, alta o baja.\n",
    "\n",
    "  4. **Contador de palabras**: Crea una función que cuente cuántas veces aparece cada palabra en un texto.\n",
    "\n",
    "  5. **Sistema de turnos**: Simula un sistema de turnos médicos usando una lista como cola de espera."
   ]
  },
  {
   "cell_type": "code",
   "execution_count": 234,
   "metadata": {},
   "outputs": [
    {
     "data": {
      "text/plain": [
       "'Dosis recomendada: 700mg'"
      ]
     },
     "execution_count": 234,
     "metadata": {},
     "output_type": "execute_result"
    }
   ],
   "source": [
    "# Ejemplo de solución para el ejercicio 1:\n",
    "def calcular_dosis(peso_kg, mg_por_kg=10):\n",
    "    \"\"\"\n",
    "    Calcula la dosis de medicamento según el peso del paciente.\n",
    "    Por defecto: 10mg por kg de peso.\n",
    "    \"\"\"\n",
    "    dosis = peso_kg * mg_por_kg\n",
    "    return f\"Dosis recomendada: {dosis}mg\"\n",
    "\n",
    "# Probar la función\n",
    "calcular_dosis(70)  # Adulto de 70kg\n"
   ]
  },
  {
   "cell_type": "code",
   "execution_count": 235,
   "metadata": {},
   "outputs": [
    {
     "data": {
      "text/plain": [
       "'Dosis recomendada: 125mg'"
      ]
     },
     "execution_count": 235,
     "metadata": {},
     "output_type": "execute_result"
    }
   ],
   "source": [
    "calcular_dosis(25, 5)  # Niño de 25kg con dosis menor\n"
   ]
  },
  {
   "cell_type": "markdown",
   "metadata": {},
   "source": [
    "  ## 📚 Resumen\n",
    "\n",
    "\n",
    "\n",
    "  Has aprendido los conceptos básicos de Python:\n",
    "\n",
    "\n",
    "\n",
    "   **Variables y tipos de datos**: int, float, str, bool, None\n",
    "\n",
    "   **Operadores**: aritméticos, de comparación, lógicos\n",
    "\n",
    "   **Estructuras de datos**: listas, diccionarios, tuplas\n",
    "\n",
    "   **Control de flujo**: if/elif/else\n",
    "\n",
    "   **Bucles**: for y while\n",
    "\n",
    "   **Funciones**: definición, parámetros, return\n",
    "\n",
    "   **Strings**: métodos y manipulación\n",
    "\n",
    "   **Manejo de errores**: try/except\n",
    "\n",
    "   **Buenas prácticas**: comentarios y estilo de código\n",
    "\n",
    "\n",
    "\n",
    "  ¡Ahora estás listo para crear programas más complejos en Python! 🚀"
   ]
  }
 ],
 "metadata": {
  "kernelspec": {
   "display_name": "marc_priv",
   "language": "python",
   "name": "python3"
  },
  "language_info": {
   "codemirror_mode": {
    "name": "ipython",
    "version": 3
   },
   "file_extension": ".py",
   "mimetype": "text/x-python",
   "name": "python",
   "nbconvert_exporter": "python",
   "pygments_lexer": "ipython3",
   "version": "3.12.7"
  }
 },
 "nbformat": 4,
 "nbformat_minor": 2
}
