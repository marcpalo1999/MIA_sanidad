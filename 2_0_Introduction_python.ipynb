{
 "cells": [
  {
   "cell_type": "markdown",
   "id": "eecfc5c2",
   "metadata": {},
   "source": [
    "<a href=\"https://colab.research.google.com/github/marcpalo1999/MIA_sanidad/blob/main/2_0_Introduction_python.ipynb\" target=\"_parent\"><img src=\"https://colab.research.google.com/assets/colab-badge.svg\" alt=\"Open In Colab\"/></a>"
   ]
  },
  {
   "cell_type": "markdown",
   "id": "5690efee",
   "metadata": {},
   "source": [
    "# Introducción a Python\n",
    "\n",
    "En este notebook aprenderás conceptos básicos de Python:\n",
    "\n",
    "- Variables y asignación\n",
    "- Tipos de datos\n",
    "- Listas\n",
    "- Condicionales\n",
    "- Bucles (`for`, `while`)\n",
    "- Funciones\n",
    "\n",
    "---\n"
   ]
  },
  {
   "cell_type": "markdown",
   "id": "41277ec4",
   "metadata": {},
   "source": [
    "## Variables y asignación\n",
    "\n",
    "En Python, una **variable** es un nombre que guarda un valor en memoria.  \n",
    "Se asigna usando el signo `=`.\n",
    "\n",
    "Ejemplo:\n"
   ]
  },
  {
   "cell_type": "code",
   "execution_count": 9,
   "id": "591699ca",
   "metadata": {},
   "outputs": [
    {
     "name": "stdout",
     "output_type": "stream",
     "text": [
      "10\n",
      "Hola, Python\n",
      "3.14159\n"
     ]
    }
   ],
   "source": [
    "# Asignación de variables\n",
    "numero = 10\n",
    "texto = \"Hola, Python\"\n",
    "pi = 3.14159\n",
    "\n",
    "print(numero)\n",
    "print(texto)\n",
    "print(pi)\n"
   ]
  },
  {
   "cell_type": "markdown",
   "id": "e27c148f",
   "metadata": {},
   "source": [
    "## 🔹 Tipos de datos básicos\n",
    "\n",
    "Python tiene varios tipos de datos comunes:\n",
    "- **int** → números enteros\n",
    "- **float** → números decimales\n",
    "- **str** → texto (cadenas de caracteres)\n",
    "- **bool** → valores lógicos (True/False)\n"
   ]
  },
  {
   "cell_type": "code",
   "execution_count": 10,
   "id": "fe62f382",
   "metadata": {},
   "outputs": [
    {
     "name": "stdout",
     "output_type": "stream",
     "text": [
      "<class 'int'>\n",
      "<class 'float'>\n",
      "<class 'str'>\n",
      "<class 'bool'>\n"
     ]
    }
   ],
   "source": [
    "entero = 42\n",
    "decimal = 3.14\n",
    "cadena = \"Me gusta programar\"\n",
    "booleano = True\n",
    "\n",
    "print(type(entero))\n",
    "print(type(decimal))\n",
    "print(type(cadena))\n",
    "print(type(booleano))\n"
   ]
  },
  {
   "cell_type": "markdown",
   "id": "2d8ad8da",
   "metadata": {},
   "source": [
    "## 🔹 Listas\n",
    "\n",
    "Una lista es una **colección de elementos** ordenados que pueden ser de distintos tipos.\n"
   ]
  },
  {
   "cell_type": "code",
   "execution_count": 11,
   "id": "9b92df66",
   "metadata": {},
   "outputs": [
    {
     "name": "stdout",
     "output_type": "stream",
     "text": [
      "manzana\n",
      "cereza\n",
      "['manzana', 'banana', 'cereza', 'pera']\n"
     ]
    }
   ],
   "source": [
    "# Crear una lista\n",
    "frutas = [\"manzana\", \"banana\", \"cereza\"]\n",
    "\n",
    "# Acceder a elementos\n",
    "print(frutas[0])   # primer elemento\n",
    "print(frutas[-1])  # último elemento\n",
    "\n",
    "# Modificar la lista\n",
    "frutas.append(\"pera\")   # agregar un elemento\n",
    "print(frutas)\n"
   ]
  },
  {
   "cell_type": "markdown",
   "id": "39fa263e",
   "metadata": {},
   "source": [
    "## 🔹 Condicionales (if/else)\n",
    "\n",
    "Sirven para tomar decisiones en el código.\n"
   ]
  },
  {
   "cell_type": "code",
   "execution_count": 12,
   "id": "5050aef6",
   "metadata": {},
   "outputs": [
    {
     "name": "stdout",
     "output_type": "stream",
     "text": [
      "Eres mayor de edad\n"
     ]
    }
   ],
   "source": [
    "edad = 18\n",
    "\n",
    "if edad >= 18:\n",
    "    print(\"Eres mayor de edad\")\n",
    "else:\n",
    "    print(\"Eres menor de edad\")\n"
   ]
  },
  {
   "cell_type": "markdown",
   "id": "b5ab6bdb",
   "metadata": {},
   "source": [
    "## 🔹 Bucles\n",
    "\n",
    "### Bucle `for`\n",
    "Se usa para recorrer elementos de una lista o un rango de números.\n"
   ]
  },
  {
   "cell_type": "code",
   "execution_count": 13,
   "id": "f7328b13",
   "metadata": {},
   "outputs": [
    {
     "name": "stdout",
     "output_type": "stream",
     "text": [
      "Me gusta la manzana\n",
      "Me gusta la banana\n",
      "Me gusta la cereza\n",
      "Me gusta la pera\n",
      "Número: 0\n",
      "Número: 1\n",
      "Número: 2\n",
      "Número: 3\n",
      "Número: 4\n"
     ]
    }
   ],
   "source": [
    "for fruta in frutas:\n",
    "    print(\"Me gusta la\", fruta)\n",
    "\n",
    "for i in range(5):\n",
    "    print(\"Número:\", i)\n"
   ]
  },
  {
   "cell_type": "markdown",
   "id": "9d0b6b64",
   "metadata": {},
   "source": [
    "### Bucle `while`\n",
    "Repite un bloque de código **mientras** se cumpla una condición.\n"
   ]
  },
  {
   "cell_type": "code",
   "execution_count": 14,
   "id": "0118e97e",
   "metadata": {},
   "outputs": [
    {
     "name": "stdout",
     "output_type": "stream",
     "text": [
      "Contador vale: 0\n",
      "Contador vale: 1\n",
      "Contador vale: 2\n"
     ]
    }
   ],
   "source": [
    "contador = 0\n",
    "while contador < 3:\n",
    "    print(\"Contador vale:\", contador)\n",
    "    contador += 1\n"
   ]
  },
  {
   "cell_type": "markdown",
   "id": "7c2ec90e",
   "metadata": {},
   "source": [
    "## 🔹 Funciones\n",
    "\n",
    "Una función permite **reutilizar código**.  \n",
    "Se define con `def` y puede recibir parámetros y devolver valores con `return`.\n"
   ]
  },
  {
   "cell_type": "code",
   "execution_count": 15,
   "id": "19df1d4b",
   "metadata": {},
   "outputs": [
    {
     "name": "stdout",
     "output_type": "stream",
     "text": [
      "Hola, Ana!\n",
      "Hola, Carlos!\n"
     ]
    }
   ],
   "source": [
    "def saludar(nombre):\n",
    "    return f\"Hola, {nombre}!\"\n",
    "\n",
    "print(saludar(\"Ana\"))\n",
    "print(saludar(\"Carlos\"))\n"
   ]
  },
  {
   "cell_type": "markdown",
   "id": "8fab5639",
   "metadata": {},
   "source": []
  }
 ],
 "metadata": {
  "kernelspec": {
   "display_name": "marc_priv",
   "language": "python",
   "name": "python3"
  },
  "language_info": {
   "codemirror_mode": {
    "name": "ipython",
    "version": 3
   },
   "file_extension": ".py",
   "mimetype": "text/x-python",
   "name": "python",
   "nbconvert_exporter": "python",
   "pygments_lexer": "ipython3",
   "version": "3.12.7"
  }
 },
 "nbformat": 4,
 "nbformat_minor": 5
}
